{
  "nbformat": 4,
  "nbformat_minor": 0,
  "metadata": {
    "colab": {
      "name": "classification.ipynb",
      "provenance": [],
      "authorship_tag": "ABX9TyO2JFdQsygm3uzISgrEYPex",
      "include_colab_link": true
    },
    "kernelspec": {
      "name": "python3",
      "display_name": "Python 3"
    },
    "language_info": {
      "name": "python"
    }
  },
  "cells": [
    {
      "cell_type": "markdown",
      "metadata": {
        "id": "view-in-github",
        "colab_type": "text"
      },
      "source": [
        "<a href=\"https://colab.research.google.com/github/roxacarv/edulearn/blob/main/classifica%C3%A7%C3%A3o/classification.ipynb\" target=\"_parent\"><img src=\"https://colab.research.google.com/assets/colab-badge.svg\" alt=\"Open In Colab\"/></a>"
      ]
    },
    {
      "cell_type": "code",
      "metadata": {
        "id": "DNX9oc6njssL"
      },
      "source": [
        "import pandas as pd, seaborn as sb, numpy as np, matplotlib.pyplot as plt\n",
        "\n",
        "names = [\n",
        "         \"CO_UF\",\n",
        "         \"CO_MUNICIPIO\",\n",
        "         \"IN_CAPITAL\",\n",
        "         \"CO_CURSO\", \n",
        "         \"IN_AJUDA_DEFICIENTE\", \n",
        "         \"IN_MATERIAL_DIGITAL\", \n",
        "         \"IN_MATERIAL_AMPLIADO\",\n",
        "         \"IN_MATERIAL_TATIL\", \n",
        "         \"IN_MATERIAL_IMPRESSO\", \n",
        "         \"IN_MATERIAL_AUDIO\",\n",
        "         \"IN_MATERIAL_BRAILLE\",\n",
        "         \"IN_MATERIAL_LIBRAS\",\n",
        "         \"IN_DISCIPLINA_LIBRAS\",\n",
        "         \"IN_TRADUTOR_LIBRAS\",\n",
        "         \"IN_GUIA_INTERPRETE\",\n",
        "         \"IN_RECURSOS_COMUNICACAO\",\n",
        "         \"IN_RECURSOS_INFORMATICA\"\n",
        "         ]\n",
        "dataset = pd.read_csv(\"teste_ies.csv\", names=names, sep='|', encoding='latin-1')\n",
        "#dataset[\"DT_INICIO_FUNCIONAMENTO\"] = dataset[\"DT_INICIO_FUNCIONAMENTO\"].fillna(0)\n",
        "dataset.fillna(-1, inplace=True)\n",
        "\n",
        "from sklearn import preprocessing\n",
        "le = preprocessing.LabelEncoder()\n",
        "for i in dataset.columns:\n",
        "  if dataset[i].dtype == object:\n",
        "    dataset[i] = le.fit_transform(dataset[i])\n",
        "  else:\n",
        "    pass\n",
        "\n",
        "X = dataset.iloc[:, :-1].values\n",
        "y = dataset.iloc[:, 4].values\n",
        "\n",
        "from sklearn.model_selection import train_test_split\n",
        "X_train, X_test, y_train, y_test = train_test_split(X, y, test_size=0.20)\n",
        "\n",
        "from sklearn.preprocessing import StandardScaler\n",
        "scaler = StandardScaler()\n",
        "scaler.fit(X_train)\n",
        "\n",
        "X_train = scaler.transform(X_train)\n",
        "X_test = scaler.transform(X_test)"
      ],
      "execution_count": 54,
      "outputs": []
    },
    {
      "cell_type": "markdown",
      "metadata": {
        "id": "OGwL8CjrzhMZ"
      },
      "source": [
        ""
      ]
    }
  ]
}