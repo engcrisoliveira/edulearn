{
  "nbformat": 4,
  "nbformat_minor": 0,
  "metadata": {
    "colab": {
      "name": "classification.ipynb",
      "provenance": [],
      "authorship_tag": "ABX9TyMCI0AP9m4dtEn1Dx0ugUDX",
      "include_colab_link": true
    },
    "kernelspec": {
      "name": "python3",
      "display_name": "Python 3"
    },
    "language_info": {
      "name": "python"
    }
  },
  "cells": [
    {
      "cell_type": "markdown",
      "metadata": {
        "id": "view-in-github",
        "colab_type": "text"
      },
      "source": [
        "<a href=\"https://colab.research.google.com/github/roxacarv/edulearn/blob/main/classifica%C3%A7%C3%A3o/classification.ipynb\" target=\"_parent\"><img src=\"https://colab.research.google.com/assets/colab-badge.svg\" alt=\"Open In Colab\"/></a>"
      ]
    },
    {
      "cell_type": "code",
      "metadata": {
        "id": "DNX9oc6njssL",
        "colab": {
          "base_uri": "https://localhost:8080/"
        },
        "outputId": "24a9bb97-c4da-452e-f975-1e297ecaceef"
      },
      "source": [
        "import numpy as np\n",
        "import pandas as pd\n",
        "from sklearn.model_selection import train_test_split\n",
        "from sklearn.neighbors import KNeighborsClassifier\n",
        "import matplotlib.pyplot as plt \n",
        "import seaborn as sns\n",
        "from sklearn import preprocessing\n",
        "\n",
        "names = [\n",
        "         \"NUM_CURSOS\",\n",
        "         \"CODIGO_IES\",\n",
        "         \"DEFICIENCIA_FISICA\",\n",
        "         \"DEFICIENCIA_VISUAL\",\n",
        "         \"DEFICIENCIA_AUDITIVA\", \n",
        "         \"DEFICIENCIA_COGNITIVA\", \n",
        "         \"DEFICIENCIA_MULTIPLA\", \n",
        "         \"RECURSOS_DEF_FISICA\",\n",
        "         \"RECURSOS_DEF_VISUAL\", \n",
        "         \"RECURSOS_DEF_AUDITIVA\", \n",
        "         \"RECURSOS_DEF_COGNITIVA\",\n",
        "         \"RECURSOS_DEF_MULTIPLA\"\n",
        "         ]\n",
        "\n",
        "from sklearn import preprocessing\n",
        "le = preprocessing.LabelEncoder()\n",
        "le.fit(names)\n",
        "names=le.transform(names)\n",
        "print(names) \n",
        "\n",
        "dataset = pd.read_csv(\"dados_ies.csv\", index_col=0, encoding=\"latin-1\")\n",
        "\n",
        "#Substitui NaN por 0\n",
        "#dataset.fillna(\"NaN\", inplace=True)\n",
        "\n",
        "dataset.dropna(subset=[\"TIPO_CATEGORIA_ADM\"], inplace=True)\n",
        "\n",
        "set(dataset[\"TIPO_CATEGORIA_ADM\"])"
      ],
      "execution_count": 126,
      "outputs": [
        {
          "output_type": "stream",
          "name": "stdout",
          "text": [
            "[ 6  0  3  5  1  2  4  9 11  7  8 10]\n"
          ]
        },
        {
          "output_type": "execute_result",
          "data": {
            "text/plain": [
              "{'Especial',\n",
              " 'Privada com fins lucrativos',\n",
              " 'Privada sem fins lucrativos',\n",
              " 'Pública Estadual',\n",
              " 'Pública Federal',\n",
              " 'Pública Municipal'}"
            ]
          },
          "metadata": {},
          "execution_count": 126
        }
      ]
    },
    {
      "cell_type": "markdown",
      "metadata": {
        "id": "e38OD1bh9rC_"
      },
      "source": [
        "Processa células não padronizadas (células vazias)"
      ]
    },
    {
      "cell_type": "code",
      "metadata": {
        "id": "gF8DMQ1F9cdK"
      },
      "source": [
        "from sklearn import preprocessing\n",
        "le = preprocessing.LabelEncoder()\n",
        "for i in dataset.columns:\n",
        "  if dataset[i].dtype == object:\n",
        "    dataset[i] = le.fit_transform(dataset[i])\n",
        "  else:\n",
        "    pass\n",
        "\n",
        "dataset_encoded = le.fit_transform(dataset.columns)"
      ],
      "execution_count": 111,
      "outputs": []
    },
    {
      "cell_type": "markdown",
      "metadata": {
        "id": "vylkpWQ_94rM"
      },
      "source": [
        "Normaliza os dados usando StandardScaler e treina o modelo"
      ]
    },
    {
      "cell_type": "code",
      "metadata": {
        "id": "FfDod73Y9Too"
      },
      "source": [
        "X = dataset.drop(columns=[\"REGIAO\", \"TIPO_CATEGORIA_ADM\", \"UF\", \"CODIGO_IES\"])\n",
        "y = dataset[\"TIPO_CATEGORIA_ADM\"].values\n",
        "\n",
        "from sklearn import preprocessing\n",
        "le = preprocessing.LabelEncoder()\n",
        "le.fit(y)\n",
        "y=le.transform(y)\n",
        "\n",
        "from sklearn.model_selection import train_test_split\n",
        "X_train, X_test, y_train, y_test = train_test_split(X, y, test_size=0.2)"
      ],
      "execution_count": 116,
      "outputs": []
    },
    {
      "cell_type": "markdown",
      "metadata": {
        "id": "5ABtFsuIho69"
      },
      "source": [
        "Cria o objeto KNN"
      ]
    },
    {
      "cell_type": "code",
      "metadata": {
        "id": "iQzYO7IMhnVr"
      },
      "source": [
        "from sklearn.neighbors import KNeighborsClassifier\n",
        "classifier = KNeighborsClassifier(n_neighbors=5, metric=\"euclidean\")\n",
        "classifier.fit(X_train, y_train)\n",
        "\n",
        "y_pred = classifier.predict(X_test)"
      ],
      "execution_count": 117,
      "outputs": []
    },
    {
      "cell_type": "code",
      "metadata": {
        "id": "u2bvh0WTh2bP",
        "colab": {
          "base_uri": "https://localhost:8080/"
        },
        "outputId": "c6fe4c1d-586f-450d-becf-1e0387a6dae5"
      },
      "source": [
        "y_pred"
      ],
      "execution_count": 86,
      "outputs": [
        {
          "output_type": "execute_result",
          "data": {
            "text/plain": [
              "array([3, 3, 3, 3, 3, 3, 3, 1, 3, 3, 1, 2, 0, 1, 3, 4, 3, 3, 3, 3, 3, 1,\n",
              "       3, 4, 1, 0, 1, 0, 3, 1, 1, 0, 4, 3, 3, 3, 3, 3, 3, 1, 0, 4, 1, 3,\n",
              "       3, 3, 1, 3, 1, 3, 4, 4, 1, 3, 1, 2, 1, 0, 0, 3, 3, 1, 1, 3, 2, 1,\n",
              "       2, 3, 3, 3, 3, 1, 0, 1, 3, 0, 3, 0, 3, 4, 3, 0, 1, 3, 3, 3, 1, 3,\n",
              "       4, 3, 1, 4, 3, 3, 3, 0, 3, 1, 3, 3, 3, 4, 1, 3, 0, 1, 2, 1, 1, 3,\n",
              "       3, 1, 0, 3, 4, 1, 3, 3, 0, 1, 1, 3, 3, 1, 3, 3, 4, 1, 1, 3, 3, 3,\n",
              "       0, 1, 1, 3, 3, 3, 3, 1, 3, 1, 3, 1, 0, 1, 3, 3, 3, 1, 3, 1, 3, 3,\n",
              "       1, 2, 3, 3, 1, 3, 1, 3, 3, 3, 3, 3, 3, 3, 4, 3, 2, 0, 1, 3, 3, 1,\n",
              "       3, 3, 0, 4, 3, 0, 3, 3, 1, 1, 3, 3, 3, 4, 0, 3, 3, 3, 1, 3, 1, 3,\n",
              "       4, 3, 1, 3, 3, 3, 2, 3, 3, 3, 3, 3, 2, 4, 1, 4, 3, 1, 0, 3, 3, 3,\n",
              "       1, 0, 0, 0, 3, 3, 0, 3, 3, 0, 3, 3, 3, 1, 3, 1, 3, 1, 3, 3, 3, 4,\n",
              "       1, 3, 3, 3, 3, 3, 0, 3, 3, 4, 2, 3, 0, 3, 4, 3, 4, 1, 3, 3, 3, 2,\n",
              "       0, 4, 3, 0, 1, 3, 3, 0, 3, 3, 1, 3])"
            ]
          },
          "metadata": {},
          "execution_count": 86
        }
      ]
    },
    {
      "cell_type": "markdown",
      "metadata": {
        "id": "_7DmlAXo-Anm"
      },
      "source": [
        "Faz a predição"
      ]
    },
    {
      "cell_type": "code",
      "metadata": {
        "id": "55MXqnzf9MuF",
        "colab": {
          "base_uri": "https://localhost:8080/"
        },
        "outputId": "b46d3db8-fb24-4570-e46d-53defff5f40a"
      },
      "source": [
        "from sklearn.metrics import classification_report, confusion_matrix\n",
        "print(confusion_matrix(y_test, y_pred))\n",
        "print(classification_report(y_test, y_pred))"
      ],
      "execution_count": 118,
      "outputs": [
        {
          "output_type": "stream",
          "name": "stdout",
          "text": [
            "[[  0   0   1   0   0   0]\n",
            " [  0 104  37   0   2   0]\n",
            " [  0  55  35   0   1   0]\n",
            " [  0   9   7   0   1   0]\n",
            " [  0   5   3   1   6   0]\n",
            " [  0   6   3   0   0   0]]\n",
            "              precision    recall  f1-score   support\n",
            "\n",
            "           0       0.00      0.00      0.00         1\n",
            "           1       0.58      0.73      0.65       143\n",
            "           2       0.41      0.38      0.40        91\n",
            "           3       0.00      0.00      0.00        17\n",
            "           4       0.60      0.40      0.48        15\n",
            "           5       0.00      0.00      0.00         9\n",
            "\n",
            "    accuracy                           0.53       276\n",
            "   macro avg       0.26      0.25      0.25       276\n",
            "weighted avg       0.47      0.53      0.49       276\n",
            "\n"
          ]
        },
        {
          "output_type": "stream",
          "name": "stderr",
          "text": [
            "/usr/local/lib/python3.7/dist-packages/sklearn/metrics/_classification.py:1272: UndefinedMetricWarning: Precision and F-score are ill-defined and being set to 0.0 in labels with no predicted samples. Use `zero_division` parameter to control this behavior.\n",
            "  _warn_prf(average, modifier, msg_start, len(result))\n"
          ]
        }
      ]
    },
    {
      "cell_type": "code",
      "metadata": {
        "id": "nOPEnC2xiExG",
        "colab": {
          "base_uri": "https://localhost:8080/",
          "height": 421
        },
        "outputId": "018c1a6b-c8a1-4a76-d370-ece6969633ec"
      },
      "source": [
        "error = []\n",
        "\n",
        "# Calculating error for K values between 1 and 40\n",
        "for i in range(1, 40):\n",
        "    knn = KNeighborsClassifier(n_neighbors=i, metric=\"euclidean\")\n",
        "    knn.fit(X_train, y_train)\n",
        "    pred_i = knn.predict(X_test)\n",
        "    error.append(np.mean(pred_i != y_test))\n",
        "\n",
        "plt.figure(figsize=(12, 6))\n",
        "plt.plot(range(1, 40), error, color='red', linestyle='dashed', marker='o',\n",
        "         markerfacecolor='blue', markersize=5)\n",
        "plt.title('Error Rate K Value')\n",
        "plt.xlabel('K Value')\n",
        "plt.ylabel('Mean Error')"
      ],
      "execution_count": 120,
      "outputs": [
        {
          "output_type": "execute_result",
          "data": {
            "text/plain": [
              "Text(0, 0.5, 'Mean Error')"
            ]
          },
          "metadata": {},
          "execution_count": 120
        },
        {
          "output_type": "display_data",
          "data": {
            "image/png": "[encoded data removed]",
            "text/plain": [
              "<Figure size 864x432 with 1 Axes>"
            ]
          },
          "metadata": {
            "needs_background": "light"
          }
        }
      ]
    },
    {
      "cell_type": "code",
      "metadata": {
        "id": "G7cXPrz5-riD",
        "outputId": "0fe15b40-f5d0-4839-d7a8-1ed8d3aace9f",
        "colab": {
          "base_uri": "https://localhost:8080/"
        }
      },
      "source": [
        "pip install adspy_shared_utilities"
      ],
      "execution_count": 122,
      "outputs": [
        {
          "output_type": "stream",
          "name": "stdout",
          "text": [
            "\u001b[31mERROR: Could not find a version that satisfies the requirement adspy_shared_utilities (from versions: none)\u001b[0m\n",
            "\u001b[31mERROR: No matching distribution found for adspy_shared_utilities\u001b[0m\n"
          ]
        }
      ]
    },
    {
      "cell_type": "code",
      "metadata": {
        "id": "hbg7NW8u-jJX",
        "outputId": "c2b0449e-5866-4775-8a9c-d45da526d67d",
        "colab": {
          "base_uri": "https://localhost:8080/",
          "height": 319
        }
      },
      "source": [
        "from adspy_shared_utilities import plot_two_class_knn\n",
        "plot_two_class_knn(X_train, y_train, 1, \"uniform\", X_test, y_test)"
      ],
      "execution_count": 121,
      "outputs": [
        {
          "output_type": "error",
          "ename": "ModuleNotFoundError",
          "evalue": "ignored",
          "traceback": [
            "\u001b[0;31m---------------------------------------------------------------------------\u001b[0m",
            "\u001b[0;31mModuleNotFoundError\u001b[0m                       Traceback (most recent call last)",
            "\u001b[0;32m<ipython-input-121-294882d6000c>\u001b[0m in \u001b[0;36m<module>\u001b[0;34m()\u001b[0m\n\u001b[0;32m----> 1\u001b[0;31m \u001b[0;32mfrom\u001b[0m \u001b[0madspy_shared_utilities\u001b[0m \u001b[0;32mimport\u001b[0m \u001b[0mplot_two_class_knn\u001b[0m\u001b[0;34m\u001b[0m\u001b[0;34m\u001b[0m\u001b[0m\n\u001b[0m\u001b[1;32m      2\u001b[0m \u001b[0mplot_two_class_knn\u001b[0m\u001b[0;34m(\u001b[0m\u001b[0mX_train\u001b[0m\u001b[0;34m,\u001b[0m \u001b[0my_train\u001b[0m\u001b[0;34m,\u001b[0m \u001b[0;36m1\u001b[0m\u001b[0;34m,\u001b[0m \u001b[0;34m\"uniform\"\u001b[0m\u001b[0;34m,\u001b[0m \u001b[0mX_test\u001b[0m\u001b[0;34m,\u001b[0m \u001b[0my_test\u001b[0m\u001b[0;34m)\u001b[0m\u001b[0;34m\u001b[0m\u001b[0;34m\u001b[0m\u001b[0m\n",
            "\u001b[0;31mModuleNotFoundError\u001b[0m: No module named 'adspy_shared_utilities'",
            "",
            "\u001b[0;31m---------------------------------------------------------------------------\u001b[0;32m\nNOTE: If your import is failing due to a missing package, you can\nmanually install dependencies using either !pip or !apt.\n\nTo view examples of installing some common dependencies, click the\n\"Open Examples\" button below.\n\u001b[0;31m---------------------------------------------------------------------------\u001b[0m\n"
          ],
          "errorDetails": {
            "actions": [
              {
                "action": "open_url",
                "actionText": "Open Examples",
                "url": "/notebooks/snippets/importing_libraries.ipynb"
              }
            ]
          }
        }
      ]
    },
    {
      "cell_type": "markdown",
      "metadata": {
        "id": "OGwL8CjrzhMZ"
      },
      "source": [
        ""
      ]
    }
  ]
}