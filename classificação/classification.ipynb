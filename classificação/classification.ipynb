{
  "nbformat": 4,
  "nbformat_minor": 0,
  "metadata": {
    "colab": {
      "name": "classification.ipynb",
      "provenance": [],
      "authorship_tag": "ABX9TyM2FTK8vJO6jpYZNjaImVT6",
      "include_colab_link": true
    },
    "kernelspec": {
      "name": "python3",
      "display_name": "Python 3"
    },
    "language_info": {
      "name": "python"
    }
  },
  "cells": [
    {
      "cell_type": "markdown",
      "metadata": {
        "id": "view-in-github",
        "colab_type": "text"
      },
      "source": [
        "<a href=\"https://colab.research.google.com/github/roxacarv/edulearn/blob/main/classifica%C3%A7%C3%A3o/classification.ipynb\" target=\"_parent\"><img src=\"https://colab.research.google.com/assets/colab-badge.svg\" alt=\"Open In Colab\"/></a>"
      ]
    },
    {
      "cell_type": "markdown",
      "metadata": {
        "id": "SgV24cqNiWz5"
      },
      "source": [
        "*texto em itálico*\n",
        "\n",
        "# Carregamento dos dados"
      ]
    },
    {
      "cell_type": "code",
      "metadata": {
        "id": "DNX9oc6njssL"
      },
      "source": [
        "import numpy as np\n",
        "import pandas as pd\n",
        "from sklearn.model_selection import train_test_split\n",
        "from sklearn.neighbors import KNeighborsClassifier\n",
        "import matplotlib.pyplot as plt \n",
        "import seaborn as sns\n",
        "from sklearn import preprocessing\n",
        "\n",
        "names = [\n",
        "         \"NUM_CURSOS\",\n",
        "         \"CODIGO_IES\",\n",
        "         \"DEFICIENCIA_FISICA\",\n",
        "         \"DEFICIENCIA_VISUAL\",\n",
        "         \"DEFICIENCIA_AUDITIVA\", \n",
        "         \"DEFICIENCIA_COGNITIVA\", \n",
        "         \"DEFICIENCIA_MULTIPLA\", \n",
        "         \"RECURSOS_DEF_FISICA\",\n",
        "         \"RECURSOS_DEF_VISUAL\", \n",
        "         \"RECURSOS_DEF_AUDITIVA\", \n",
        "         \"RECURSOS_DEF_COGNITIVA\",\n",
        "         \"RECURSOS_DEF_MULTIPLA\"\n",
        "         ]\n",
        "\n",
        "from sklearn import preprocessing\n",
        "le = preprocessing.LabelEncoder()\n",
        "le.fit(names)\n",
        "names=le.transform(names)\n",
        "\n",
        "dataset = pd.read_csv(\"dados_ies_sem_nan_utf8.csv\", index_col=0, encoding=\"utf8\")\n",
        "\n",
        "#Substitui NaN por 0\n",
        "#dataset.fillna(\"NaN\", inplace=True)\n",
        "\n",
        "#dataset.dropna(subset=[\"TIPO_CATEGORIA_ADM\"], inplace=True)\n",
        "\n",
        "#print(set(dataset[\"TIPO_CATEGORIA_ADM\"]))"
      ],
      "execution_count": 60,
      "outputs": []
    },
    {
      "cell_type": "markdown",
      "metadata": {
        "id": "L8Bvpza6ikBp"
      },
      "source": [
        "# Categorização e mapeamento dos dados de strings para inteiros"
      ]
    },
    {
      "cell_type": "code",
      "metadata": {
        "id": "MGwwDaL7Yf9h"
      },
      "source": [
        "from sklearn import preprocessing\n",
        "from copy import deepcopy\n",
        "\n",
        "u = deepcopy(dataset)\n",
        "\n",
        "le = preprocessing.LabelEncoder()\n",
        "\n",
        "le.fit(dataset[\"TIPO_CATEGORIA_ADM\"])\n",
        "dataset[\"TIPO_CATEGORIA_ADM\"]=le.transform(dataset[\"TIPO_CATEGORIA_ADM\"])\n",
        "le_name_mapping_1 = dict(zip(le.classes_, le.transform(le.classes_)))\n",
        "\n",
        "le.fit(dataset[\"REGIAO\"])\n",
        "dataset[\"REGIAO\"]=le.transform(dataset[\"REGIAO\"])\n",
        "le_name_mapping_2 = dict(zip(le.classes_, le.transform(le.classes_)))\n",
        "\n",
        "le.fit(dataset[\"UF\"])\n",
        "dataset[\"UF\"]=le.transform(dataset[\"UF\"])\n",
        "le_name_mapping_3 = dict(zip(le.classes_, le.transform(le.classes_)))\n",
        "\n",
        "def np_encoder(object):\n",
        "    if isinstance(object, np.generic):\n",
        "        return object.item()\n",
        "\n",
        "import json\n",
        "a = json.dumps(le_name_mapping_1, default=np_encoder, indent=True, ensure_ascii=False)\n",
        "b = json.dumps(le_name_mapping_2, default=np_encoder, indent=True, ensure_ascii=False)\n",
        "c = json.dumps(le_name_mapping_3, default=np_encoder, indent=True, ensure_ascii=False)\n",
        "\n",
        "ff = '{'\n",
        "ff += f'\\n\"TIPO_CATEGORIA_ADM\": [\\n{a}\\n],\\n\"REGIAO\": [\\n{b}\\n],\\n\"UF\": [\\n{c}\\n]'\n",
        "ff += '\\n}'\n",
        "\n",
        "f = open(\"mapa_categorias.json\", \"w\")\n",
        "f.write(ff)\n",
        "f.close()\n",
        "\n",
        "dataset.to_csv(\"dados_ies_categorizados.csv\")"
      ],
      "execution_count": 61,
      "outputs": []
    },
    {
      "cell_type": "markdown",
      "metadata": {
        "id": "WyExvdr5iI4l"
      },
      "source": [
        "\n",
        "# Predição do dataset utilizando KNN"
      ]
    },
    {
      "cell_type": "markdown",
      "metadata": {
        "id": "e38OD1bh9rC_"
      },
      "source": [
        "Processa células não padronizadas (células vazias)"
      ]
    },
    {
      "cell_type": "code",
      "metadata": {
        "id": "gF8DMQ1F9cdK"
      },
      "source": [
        "from sklearn import preprocessing\n",
        "le = preprocessing.LabelEncoder()\n",
        "for i in dataset.columns:\n",
        "  if dataset[i].dtype == object:\n",
        "    dataset[i] = le.fit_transform(dataset[i])\n",
        "  else:\n",
        "    pass\n",
        "\n",
        "dataset_encoded = le.fit_transform(dataset.columns)"
      ],
      "execution_count": 62,
      "outputs": []
    },
    {
      "cell_type": "markdown",
      "metadata": {
        "id": "vylkpWQ_94rM"
      },
      "source": [
        "Normaliza os dados usando StandardScaler e treina o modelo"
      ]
    },
    {
      "cell_type": "code",
      "metadata": {
        "id": "FfDod73Y9Too"
      },
      "source": [
        "X = dataset.drop(columns=[\"REGIAO\", \"TIPO_CATEGORIA_ADM\", \"UF\", \"CODIGO_IES\", \"NUM_CURSOS\"])\n",
        "y = dataset[\"TIPO_CATEGORIA_ADM\"].values\n",
        "\n",
        "from sklearn import preprocessing\n",
        "le = preprocessing.LabelEncoder()\n",
        "le.fit(y)\n",
        "y=le.transform(y)\n",
        "\n",
        "from sklearn.model_selection import train_test_split\n",
        "X_train, X_test, y_train, y_test = train_test_split(X, y, test_size=0.2)"
      ],
      "execution_count": 63,
      "outputs": []
    },
    {
      "cell_type": "markdown",
      "metadata": {
        "id": "5ABtFsuIho69"
      },
      "source": [
        "Cria o objeto KNN"
      ]
    },
    {
      "cell_type": "code",
      "metadata": {
        "id": "iQzYO7IMhnVr"
      },
      "source": [
        "from sklearn.neighbors import KNeighborsClassifier\n",
        "classifier = KNeighborsClassifier(n_neighbors=5, metric=\"euclidean\")\n",
        "classifier.fit(X_train, y_train)\n",
        "\n",
        "y_pred = classifier.predict(X_test)"
      ],
      "execution_count": 64,
      "outputs": []
    },
    {
      "cell_type": "code",
      "metadata": {
        "id": "u2bvh0WTh2bP",
        "colab": {
          "base_uri": "https://localhost:8080/"
        },
        "outputId": "47ee0509-a11c-459a-82c3-3fc72f9586da"
      },
      "source": [
        "y_pred"
      ],
      "execution_count": null,
      "outputs": [
        {
          "output_type": "execute_result",
          "data": {
            "text/plain": [
              "array([2, 1, 2, 1, 1, 2, 2, 1, 2, 1, 1, 1, 4, 2, 4, 1, 1, 4, 2, 2, 1, 1,\n",
              "       4, 2, 1, 2, 2, 1, 1, 1, 1, 3, 2, 1, 2, 1, 1, 1, 1, 1, 2, 2, 3, 2,\n",
              "       5, 2, 2, 1, 1, 1, 1, 1, 1, 2, 1, 1, 1, 1, 1, 1, 1, 1, 1, 2, 4, 2,\n",
              "       1, 1, 1, 2, 2, 1, 1, 2, 1, 2, 1, 2, 1, 1, 2, 4, 1, 1, 1, 2, 2, 2,\n",
              "       2, 1, 4, 1, 2, 1, 1, 1, 2, 1, 2, 2, 2, 2, 1, 4, 1, 1, 1, 2, 1, 1,\n",
              "       1, 3, 1, 4, 1, 0, 1, 1, 1, 1, 1, 1, 2, 2, 1, 2, 2, 1, 2, 1, 1, 1,\n",
              "       2, 1, 2, 1, 2, 1, 1, 1, 1, 1, 3, 1, 2, 1, 1, 2, 1, 1, 1, 1, 1, 1,\n",
              "       2, 2, 2, 2, 1, 1, 1, 3, 1, 1, 1, 2, 2, 4, 1, 1, 1, 1, 2, 2, 1, 1,\n",
              "       2, 2, 1, 1, 1, 1, 2, 1, 1, 4, 1, 3, 2, 1, 1, 2, 1, 2, 2, 2, 1, 2,\n",
              "       1, 1, 2, 1, 2, 2, 1, 1, 1, 2, 3, 1, 1, 1, 4, 1, 2, 1, 1, 2, 1, 1,\n",
              "       1, 1, 1, 1, 2, 1, 1, 1, 1, 1, 1, 1, 1, 1, 2, 1, 1, 3, 1, 1, 1, 1,\n",
              "       1, 4, 1, 2, 1, 4, 2, 1, 2, 2, 2, 1, 1, 1, 2, 1, 4, 1, 2, 2, 1, 4,\n",
              "       1, 1, 1, 2, 1, 1, 1, 1, 1, 2, 1, 1])"
            ]
          },
          "metadata": {},
          "execution_count": 156
        }
      ]
    },
    {
      "cell_type": "markdown",
      "metadata": {
        "id": "_7DmlAXo-Anm"
      },
      "source": [
        "Faz a predição"
      ]
    },
    {
      "cell_type": "code",
      "metadata": {
        "id": "55MXqnzf9MuF",
        "colab": {
          "base_uri": "https://localhost:8080/"
        },
        "outputId": "25a6f021-ad70-4ebb-8bcd-60f4835755aa"
      },
      "source": [
        "from sklearn.metrics import classification_report, confusion_matrix\n",
        "print(confusion_matrix(y_test, y_pred))\n",
        "print(classification_report(y_test, y_pred))"
      ],
      "execution_count": 65,
      "outputs": [
        {
          "output_type": "stream",
          "name": "stdout",
          "text": [
            "[[ 0  1  0  0  0  0]\n",
            " [ 0 87 26  1  3  0]\n",
            " [ 0 73 29  1  2  0]\n",
            " [ 1 19  4  0  2  0]\n",
            " [ 0 11  2  3  7  0]\n",
            " [ 0  3  1  0  0  0]]\n",
            "              precision    recall  f1-score   support\n",
            "\n",
            "           0       0.00      0.00      0.00         1\n",
            "           1       0.45      0.74      0.56       117\n",
            "           2       0.47      0.28      0.35       105\n",
            "           3       0.00      0.00      0.00        26\n",
            "           4       0.50      0.30      0.38        23\n",
            "           5       0.00      0.00      0.00         4\n",
            "\n",
            "    accuracy                           0.45       276\n",
            "   macro avg       0.24      0.22      0.21       276\n",
            "weighted avg       0.41      0.45      0.40       276\n",
            "\n"
          ]
        },
        {
          "output_type": "stream",
          "name": "stderr",
          "text": [
            "/usr/local/lib/python3.7/dist-packages/sklearn/metrics/_classification.py:1272: UndefinedMetricWarning: Precision and F-score are ill-defined and being set to 0.0 in labels with no predicted samples. Use `zero_division` parameter to control this behavior.\n",
            "  _warn_prf(average, modifier, msg_start, len(result))\n"
          ]
        }
      ]
    },
    {
      "cell_type": "code",
      "metadata": {
        "id": "nOPEnC2xiExG",
        "colab": {
          "base_uri": "https://localhost:8080/",
          "height": 421
        },
        "outputId": "2ce10a36-6950-4e3e-dc9b-36234722fb0d"
      },
      "source": [
        "error = []\n",
        "\n",
        "# Calculating error for K values between 1 and 40\n",
        "for i in range(1, 40):\n",
        "    knn = KNeighborsClassifier(n_neighbors=i, metric=\"euclidean\")\n",
        "    knn.fit(X_train, y_train)\n",
        "    pred_i = knn.predict(X_test)\n",
        "    error.append(np.mean(pred_i != y_test))\n",
        "\n",
        "plt.figure(figsize=(12, 6))\n",
        "plt.plot(range(1, 40), error, color='red', linestyle='dashed', marker='o',\n",
        "         markerfacecolor='blue', markersize=5)\n",
        "plt.title('Error Rate K Value')\n",
        "plt.xlabel('K Value')\n",
        "plt.ylabel('Mean Error')"
      ],
      "execution_count": 66,
      "outputs": [
        {
          "output_type": "execute_result",
          "data": {
            "text/plain": [
              "Text(0, 0.5, 'Mean Error')"
            ]
          },
          "metadata": {},
          "execution_count": 66
        },
        {
          "output_type": "display_data",
          "data": {
            "image/png": "[encoded data removed]",
            "text/plain": [
              "<Figure size 864x432 with 1 Axes>"
            ]
          },
          "metadata": {
            "needs_background": "light"
          }
        }
      ]
    },
    {
      "cell_type": "markdown",
      "metadata": {
        "id": "OGwL8CjrzhMZ"
      },
      "source": [
        ""
      ]
    }
  ]
}