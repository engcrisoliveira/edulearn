{
  "nbformat": 4,
  "nbformat_minor": 0,
  "metadata": {
    "colab": {
      "name": "classification.ipynb",
      "provenance": [],
      "authorship_tag": "ABX9TyPMBNL/d6LyqslryTEcp7dp",
      "include_colab_link": true
    },
    "kernelspec": {
      "name": "python3",
      "display_name": "Python 3"
    },
    "language_info": {
      "name": "python"
    }
  },
  "cells": [
    {
      "cell_type": "markdown",
      "metadata": {
        "id": "view-in-github",
        "colab_type": "text"
      },
      "source": [
        "<a href=\"https://colab.research.google.com/github/roxacarv/edulearn/blob/main/classifica%C3%A7%C3%A3o/classification.ipynb\" target=\"_parent\"><img src=\"https://colab.research.google.com/assets/colab-badge.svg\" alt=\"Open In Colab\"/></a>"
      ]
    },
    {
      "cell_type": "code",
      "metadata": {
        "id": "DNX9oc6njssL",
        "colab": {
          "base_uri": "https://localhost:8080/"
        },
        "outputId": "ddd8b7f1-9316-44b2-d603-81ad8c06445c"
      },
      "source": [
        "import numpy as np\n",
        "import pandas as pd\n",
        "from sklearn.model_selection import train_test_split\n",
        "from sklearn.neighbors import KNeighborsClassifier\n",
        "import matplotlib.pyplot as plt \n",
        "import seaborn as sns\n",
        "from sklearn import preprocessing\n",
        "\n",
        "names = [\n",
        "         \"NUM_CURSOS\",\n",
        "         \"CODIGO_IES\",\n",
        "         \"DEFICIENCIA_FISICA\",\n",
        "         \"DEFICIENCIA_VISUAL\",\n",
        "         \"DEFICIENCIA_AUDITIVA\", \n",
        "         \"DEFICIENCIA_COGNITIVA\", \n",
        "         \"DEFICIENCIA_MULTIPLA\", \n",
        "         \"RECURSOS_DEF_FISICA\",\n",
        "         \"RECURSOS_DEF_VISUAL\", \n",
        "         \"RECURSOS_DEF_AUDITIVA\", \n",
        "         \"RECURSOS_DEF_COGNITIVA\",\n",
        "         \"RECURSOS_DEF_MULTIPLA\"\n",
        "         ]\n",
        "\n",
        "from sklearn import preprocessing\n",
        "le = preprocessing.LabelEncoder()\n",
        "le.fit(names)\n",
        "names=le.transform(names)\n",
        "print(names) \n",
        "\n",
        "dataset = pd.read_csv(\"dados_ies_sem_nan_utf8.csv\", index_col=0, encoding=\"utf8\")\n",
        "\n",
        "#Substitui NaN por 0\n",
        "#dataset.fillna(\"NaN\", inplace=True)\n",
        "\n",
        "#dataset.dropna(subset=[\"TIPO_CATEGORIA_ADM\"], inplace=True)\n",
        "\n",
        "#dataset.columns\n",
        "\n",
        "#dataset.to_csv(\"dados_ies_sem_nan_utf8.csv\", encoding=\"utf8\")"
      ],
      "execution_count": 149,
      "outputs": [
        {
          "output_type": "stream",
          "name": "stdout",
          "text": [
            "[ 6  0  3  5  1  2  4  9 11  7  8 10]\n"
          ]
        }
      ]
    },
    {
      "cell_type": "markdown",
      "metadata": {
        "id": "e38OD1bh9rC_"
      },
      "source": [
        "Processa células não padronizadas (células vazias)"
      ]
    },
    {
      "cell_type": "code",
      "metadata": {
        "id": "gF8DMQ1F9cdK"
      },
      "source": [
        "from sklearn import preprocessing\n",
        "le = preprocessing.LabelEncoder()\n",
        "for i in dataset.columns:\n",
        "  if dataset[i].dtype == object:\n",
        "    dataset[i] = le.fit_transform(dataset[i])\n",
        "  else:\n",
        "    pass\n",
        "\n",
        "dataset_encoded = le.fit_transform(dataset.columns)"
      ],
      "execution_count": 150,
      "outputs": []
    },
    {
      "cell_type": "markdown",
      "metadata": {
        "id": "vylkpWQ_94rM"
      },
      "source": [
        "Normaliza os dados usando StandardScaler e treina o modelo"
      ]
    },
    {
      "cell_type": "code",
      "metadata": {
        "id": "FfDod73Y9Too"
      },
      "source": [
        "X = dataset.drop(columns=[\"REGIAO\", \"TIPO_CATEGORIA_ADM\", \"UF\", \"CODIGO_IES\", \"NUM_CURSOS\"])\n",
        "y = dataset[\"TIPO_CATEGORIA_ADM\"].values\n",
        "\n",
        "from sklearn import preprocessing\n",
        "le = preprocessing.LabelEncoder()\n",
        "le.fit(y)\n",
        "y=le.transform(y)\n",
        "\n",
        "from sklearn.model_selection import train_test_split\n",
        "X_train, X_test, y_train, y_test = train_test_split(X, y, test_size=0.2)"
      ],
      "execution_count": 155,
      "outputs": []
    },
    {
      "cell_type": "markdown",
      "metadata": {
        "id": "5ABtFsuIho69"
      },
      "source": [
        "Cria o objeto KNN"
      ]
    },
    {
      "cell_type": "code",
      "metadata": {
        "id": "iQzYO7IMhnVr"
      },
      "source": [
        "from sklearn.neighbors import KNeighborsClassifier\n",
        "classifier = KNeighborsClassifier(n_neighbors=5, metric=\"euclidean\")\n",
        "classifier.fit(X_train, y_train)\n",
        "\n",
        "y_pred = classifier.predict(X_test)"
      ],
      "execution_count": 152,
      "outputs": []
    },
    {
      "cell_type": "code",
      "metadata": {
        "id": "u2bvh0WTh2bP",
        "colab": {
          "base_uri": "https://localhost:8080/"
        },
        "outputId": "47ee0509-a11c-459a-82c3-3fc72f9586da"
      },
      "source": [
        "y_pred"
      ],
      "execution_count": 156,
      "outputs": [
        {
          "output_type": "execute_result",
          "data": {
            "text/plain": [
              "array([2, 1, 2, 1, 1, 2, 2, 1, 2, 1, 1, 1, 4, 2, 4, 1, 1, 4, 2, 2, 1, 1,\n",
              "       4, 2, 1, 2, 2, 1, 1, 1, 1, 3, 2, 1, 2, 1, 1, 1, 1, 1, 2, 2, 3, 2,\n",
              "       5, 2, 2, 1, 1, 1, 1, 1, 1, 2, 1, 1, 1, 1, 1, 1, 1, 1, 1, 2, 4, 2,\n",
              "       1, 1, 1, 2, 2, 1, 1, 2, 1, 2, 1, 2, 1, 1, 2, 4, 1, 1, 1, 2, 2, 2,\n",
              "       2, 1, 4, 1, 2, 1, 1, 1, 2, 1, 2, 2, 2, 2, 1, 4, 1, 1, 1, 2, 1, 1,\n",
              "       1, 3, 1, 4, 1, 0, 1, 1, 1, 1, 1, 1, 2, 2, 1, 2, 2, 1, 2, 1, 1, 1,\n",
              "       2, 1, 2, 1, 2, 1, 1, 1, 1, 1, 3, 1, 2, 1, 1, 2, 1, 1, 1, 1, 1, 1,\n",
              "       2, 2, 2, 2, 1, 1, 1, 3, 1, 1, 1, 2, 2, 4, 1, 1, 1, 1, 2, 2, 1, 1,\n",
              "       2, 2, 1, 1, 1, 1, 2, 1, 1, 4, 1, 3, 2, 1, 1, 2, 1, 2, 2, 2, 1, 2,\n",
              "       1, 1, 2, 1, 2, 2, 1, 1, 1, 2, 3, 1, 1, 1, 4, 1, 2, 1, 1, 2, 1, 1,\n",
              "       1, 1, 1, 1, 2, 1, 1, 1, 1, 1, 1, 1, 1, 1, 2, 1, 1, 3, 1, 1, 1, 1,\n",
              "       1, 4, 1, 2, 1, 4, 2, 1, 2, 2, 2, 1, 1, 1, 2, 1, 4, 1, 2, 2, 1, 4,\n",
              "       1, 1, 1, 2, 1, 1, 1, 1, 1, 2, 1, 1])"
            ]
          },
          "metadata": {},
          "execution_count": 156
        }
      ]
    },
    {
      "cell_type": "markdown",
      "metadata": {
        "id": "_7DmlAXo-Anm"
      },
      "source": [
        "Faz a predição"
      ]
    },
    {
      "cell_type": "code",
      "metadata": {
        "id": "55MXqnzf9MuF",
        "colab": {
          "base_uri": "https://localhost:8080/"
        },
        "outputId": "a0c76027-f3d8-4841-ad78-d32ecc7e8ac5"
      },
      "source": [
        "from sklearn.metrics import classification_report, confusion_matrix\n",
        "print(confusion_matrix(y_test, y_pred))\n",
        "print(classification_report(y_test, y_pred))"
      ],
      "execution_count": 157,
      "outputs": [
        {
          "output_type": "stream",
          "name": "stdout",
          "text": [
            "[[ 0  1  0  0  0  0]\n",
            " [ 1 82 38  3 10  0]\n",
            " [ 0 60 30  5  3  1]\n",
            " [ 0 15  8  0  1  0]\n",
            " [ 0  7  5  0  2  0]\n",
            " [ 0  2  2  0  0  0]]\n",
            "              precision    recall  f1-score   support\n",
            "\n",
            "           0       0.00      0.00      0.00         1\n",
            "           1       0.49      0.61      0.54       134\n",
            "           2       0.36      0.30      0.33        99\n",
            "           3       0.00      0.00      0.00        24\n",
            "           4       0.12      0.14      0.13        14\n",
            "           5       0.00      0.00      0.00         4\n",
            "\n",
            "    accuracy                           0.41       276\n",
            "   macro avg       0.16      0.18      0.17       276\n",
            "weighted avg       0.37      0.41      0.39       276\n",
            "\n"
          ]
        }
      ]
    },
    {
      "cell_type": "code",
      "metadata": {
        "id": "nOPEnC2xiExG",
        "colab": {
          "base_uri": "https://localhost:8080/",
          "height": 421
        },
        "outputId": "08c3f26a-4823-4d2b-d3c6-4300fd4a1900"
      },
      "source": [
        "error = []\n",
        "\n",
        "# Calculating error for K values between 1 and 40\n",
        "for i in range(1, 40):\n",
        "    knn = KNeighborsClassifier(n_neighbors=i, metric=\"euclidean\")\n",
        "    knn.fit(X_train, y_train)\n",
        "    pred_i = knn.predict(X_test)\n",
        "    error.append(np.mean(pred_i != y_test))\n",
        "\n",
        "plt.figure(figsize=(12, 6))\n",
        "plt.plot(range(1, 40), error, color='red', linestyle='dashed', marker='o',\n",
        "         markerfacecolor='blue', markersize=5)\n",
        "plt.title('Error Rate K Value')\n",
        "plt.xlabel('K Value')\n",
        "plt.ylabel('Mean Error')"
      ],
      "execution_count": 158,
      "outputs": [
        {
          "output_type": "execute_result",
          "data": {
            "text/plain": [
              "Text(0, 0.5, 'Mean Error')"
            ]
          },
          "metadata": {},
          "execution_count": 158
        },
        {
          "output_type": "display_data",
          "data": {
            "image/png": "[encoded data removed]",
            "text/plain": [
              "<Figure size 864x432 with 1 Axes>"
            ]
          },
          "metadata": {
            "needs_background": "light"
          }
        }
      ]
    },
    {
      "cell_type": "markdown",
      "metadata": {
        "id": "OGwL8CjrzhMZ"
      },
      "source": [
        ""
      ]
    }
  ]
}