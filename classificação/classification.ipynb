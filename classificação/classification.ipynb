{
  "nbformat": 4,
  "nbformat_minor": 0,
  "metadata": {
    "colab": {
      "name": "classification.ipynb",
      "provenance": [],
      "authorship_tag": "ABX9TyOHox6LE/5KepQqnF8IeUfU",
      "include_colab_link": true
    },
    "kernelspec": {
      "name": "python3",
      "display_name": "Python 3"
    },
    "language_info": {
      "name": "python"
    }
  },
  "cells": [
    {
      "cell_type": "markdown",
      "metadata": {
        "id": "view-in-github",
        "colab_type": "text"
      },
      "source": [
        "<a href=\"https://colab.research.google.com/github/roxacarv/edulearn/blob/main/classifica%C3%A7%C3%A3o/classification.ipynb\" target=\"_parent\"><img src=\"https://colab.research.google.com/assets/colab-badge.svg\" alt=\"Open In Colab\"/></a>"
      ]
    },
    {
      "cell_type": "markdown",
      "metadata": {
        "id": "SgV24cqNiWz5"
      },
      "source": [
        "*texto em itálico*\n",
        "\n",
        "# Carregamento dos dados"
      ]
    },
    {
      "cell_type": "code",
      "metadata": {
        "id": "DNX9oc6njssL"
      },
      "source": [
        "import numpy as np\n",
        "import pandas as pd\n",
        "from sklearn.model_selection import train_test_split\n",
        "from sklearn.neighbors import KNeighborsClassifier\n",
        "import matplotlib.pyplot as plt \n",
        "import seaborn as sns\n",
        "from sklearn import preprocessing\n",
        "import matplotlib.pyplot as plt\n",
        "from sklearn import datasets\n",
        "from mlxtend.plotting import plot_decision_regions\n",
        "\n",
        "dataset = pd.read_csv(\"dados_ies_sem_nan_utf8.csv\", index_col=0, encoding=\"utf8\")\n",
        "dataset.drop(dataset[dataset.TIPO_CATEGORIA_ADM == \"Privada sem fins lucrativos\"].index, inplace=True)\n",
        "dataset.drop(dataset[dataset.TIPO_CATEGORIA_ADM == \"Privada com fins lucrativos\"].index, inplace=True)\n",
        "\n",
        "#dataset.dropna(subset=[\"TIPO_CATEGORIA_ADM\"], inplace=True)\n",
        "#print(set(dataset[\"TIPO_CATEGORIA_ADM\"]))\n",
        "#dataset.to_csv(\"dados_ies_sem_nan_sem_privadas_utf8.csv\")"
      ],
      "execution_count": 24,
      "outputs": []
    },
    {
      "cell_type": "markdown",
      "metadata": {
        "id": "L8Bvpza6ikBp"
      },
      "source": [
        "# Categorização e mapeamento dos dados de strings para inteiros"
      ]
    },
    {
      "cell_type": "code",
      "metadata": {
        "id": "MGwwDaL7Yf9h"
      },
      "source": [
        "from sklearn import preprocessing\n",
        "from copy import deepcopy\n",
        "\n",
        "u = deepcopy(dataset)\n",
        "\n",
        "le = preprocessing.LabelEncoder()\n",
        "\n",
        "le.fit(dataset[\"TIPO_CATEGORIA_ADM\"])\n",
        "dataset[\"TIPO_CATEGORIA_ADM\"]=le.transform(dataset[\"TIPO_CATEGORIA_ADM\"])\n",
        "le_name_mapping_1 = dict(zip(le.classes_, le.transform(le.classes_)))\n",
        "\n",
        "le.fit(dataset[\"REGIAO\"])\n",
        "dataset[\"REGIAO\"]=le.transform(dataset[\"REGIAO\"])\n",
        "le_name_mapping_2 = dict(zip(le.classes_, le.transform(le.classes_)))\n",
        "\n",
        "le.fit(dataset[\"UF\"])\n",
        "dataset[\"UF\"]=le.transform(dataset[\"UF\"])\n",
        "le_name_mapping_3 = dict(zip(le.classes_, le.transform(le.classes_)))\n",
        "\n",
        "def np_encoder(object):\n",
        "    if isinstance(object, np.generic):\n",
        "        return object.item()\n",
        "\n",
        "import json\n",
        "a = json.dumps(le_name_mapping_1, default=np_encoder, indent=True, ensure_ascii=False)\n",
        "b = json.dumps(le_name_mapping_2, default=np_encoder, indent=True, ensure_ascii=False)\n",
        "c = json.dumps(le_name_mapping_3, default=np_encoder, indent=True, ensure_ascii=False)\n",
        "\n",
        "ff = '{'\n",
        "ff += f'\\n\"TIPO_CATEGORIA_ADM\": [\\n{a}\\n],\\n\"REGIAO\": [\\n{b}\\n],\\n\"UF\": [\\n{c}\\n]'\n",
        "ff += '\\n}'\n",
        "\n",
        "f = open(\"mapa_categorias.json\", \"w\")\n",
        "f.write(ff)\n",
        "f.close()\n",
        "\n",
        "dataset.to_csv(\"dados_ies_categorizados.csv\")"
      ],
      "execution_count": 25,
      "outputs": []
    },
    {
      "cell_type": "markdown",
      "metadata": {
        "id": "WyExvdr5iI4l"
      },
      "source": [
        "\n",
        "# Predição do dataset utilizando KNN"
      ]
    },
    {
      "cell_type": "markdown",
      "metadata": {
        "id": "e38OD1bh9rC_"
      },
      "source": [
        "Processa células não padronizadas (células vazias)"
      ]
    },
    {
      "cell_type": "code",
      "metadata": {
        "id": "gF8DMQ1F9cdK"
      },
      "source": [
        "from sklearn import preprocessing\n",
        "le = preprocessing.LabelEncoder()\n",
        "for i in dataset.columns:\n",
        "  if dataset[i].dtype == object:\n",
        "    dataset[i] = le.fit_transform(dataset[i])\n",
        "  else:\n",
        "    pass\n",
        "\n",
        "dataset_encoded = le.fit_transform(dataset.columns)"
      ],
      "execution_count": 26,
      "outputs": []
    },
    {
      "cell_type": "markdown",
      "metadata": {
        "id": "vylkpWQ_94rM"
      },
      "source": [
        "Normaliza os dados usando StandardScaler e treina o modelo"
      ]
    },
    {
      "cell_type": "code",
      "metadata": {
        "id": "FfDod73Y9Too"
      },
      "source": [
        "X = dataset.drop(columns=[\n",
        "                          \"REGIAO\", \n",
        "                          \"TIPO_CATEGORIA_ADM\", \n",
        "                          \"UF\", \n",
        "                          \"CODIGO_IES\", \n",
        "                          \"NUM_CURSOS\",\n",
        "                          \"DEFICIENCIA_AUDITIVA\",\n",
        "                          \"DEFICIENCIA_VISUAL\",\n",
        "                          \"DEFICIENCIA_COGNITIVA\",\n",
        "                          \"DEFICIENCIA_MULTIPLA\",\n",
        "                          \"RECURSOS_DEF_VISUAL\",\n",
        "                          \"RECURSOS_DEF_AUDITIVA\",\n",
        "                          \"RECURSOS_DEF_COGNITIVA\",\n",
        "                          \"RECURSOS_DEF_MULTIPLA\"\n",
        "                          ])\n",
        "y = dataset[\"TIPO_CATEGORIA_ADM\"].values\n",
        "\n",
        "from sklearn import preprocessing\n",
        "le = preprocessing.LabelEncoder()\n",
        "le.fit(y)\n",
        "y=le.transform(y)\n",
        "\n",
        "from sklearn.model_selection import train_test_split\n",
        "X_train, X_test, y_train, y_test = train_test_split(X, y, test_size=0.4)"
      ],
      "execution_count": 27,
      "outputs": []
    },
    {
      "cell_type": "markdown",
      "metadata": {
        "id": "5ABtFsuIho69"
      },
      "source": [
        "Cria o objeto KNN"
      ]
    },
    {
      "cell_type": "code",
      "metadata": {
        "id": "iQzYO7IMhnVr"
      },
      "source": [
        "from sklearn.neighbors import KNeighborsClassifier\n",
        "classifier = KNeighborsClassifier(n_neighbors=5, metric=\"euclidean\")\n",
        "classifier.fit(X_train, y_train)\n",
        "\n",
        "y_pred = classifier.predict(X_test)"
      ],
      "execution_count": 28,
      "outputs": []
    },
    {
      "cell_type": "code",
      "metadata": {
        "id": "u2bvh0WTh2bP",
        "colab": {
          "base_uri": "https://localhost:8080/"
        },
        "outputId": "5444b293-a51d-4db4-bc60-f55fa127a4a7"
      },
      "source": [
        "y_pred"
      ],
      "execution_count": 29,
      "outputs": [
        {
          "output_type": "execute_result",
          "data": {
            "text/plain": [
              "array([2, 1, 1, 2, 2, 1, 2, 2, 2, 1, 2, 1, 1, 2, 2, 2, 2, 1, 2, 1, 2, 2,\n",
              "       2, 2, 1, 2, 2, 1, 1, 2, 1, 1, 1, 1, 1, 1, 1, 1, 1, 1, 2, 1, 2, 1,\n",
              "       1, 1, 1, 1, 2, 2, 1, 1, 2, 2, 1, 1, 1, 1, 1, 2, 2, 1, 1, 2, 1, 2,\n",
              "       2, 1, 1, 2, 2, 2, 1, 2, 2, 2, 1, 1, 2, 1, 1, 2, 2, 1, 1, 1, 2, 2,\n",
              "       1, 2, 2, 1, 2, 2, 1, 2, 2])"
            ]
          },
          "metadata": {},
          "execution_count": 29
        }
      ]
    },
    {
      "cell_type": "markdown",
      "metadata": {
        "id": "_7DmlAXo-Anm"
      },
      "source": [
        "Faz a predição"
      ]
    },
    {
      "cell_type": "code",
      "metadata": {
        "id": "55MXqnzf9MuF",
        "colab": {
          "base_uri": "https://localhost:8080/"
        },
        "outputId": "12279178-99b6-46d8-c956-6bb68c1da1e9"
      },
      "source": [
        "from sklearn.metrics import classification_report, confusion_matrix, accuracy_score\n",
        "print(\"Confusion matrix:\\n\")\n",
        "print(confusion_matrix(y_test, y_pred))\n",
        "print(\"\\nClassification report:\\n\")\n",
        "print(classification_report(y_test, y_pred))\n",
        "print(\"Accuracy:\\n\")\n",
        "print(accuracy_score(y_test, y_pred))"
      ],
      "execution_count": 30,
      "outputs": [
        {
          "output_type": "stream",
          "name": "stdout",
          "text": [
            "Confusion matrix:\n",
            "\n",
            "[[ 0  3  0  0]\n",
            " [ 0 33 15  0]\n",
            " [ 0  8 32  0]\n",
            " [ 0  6  0  0]]\n",
            "\n",
            "Classification report:\n",
            "\n",
            "              precision    recall  f1-score   support\n",
            "\n",
            "           0       0.00      0.00      0.00         3\n",
            "           1       0.66      0.69      0.67        48\n",
            "           2       0.68      0.80      0.74        40\n",
            "           3       0.00      0.00      0.00         6\n",
            "\n",
            "    accuracy                           0.67        97\n",
            "   macro avg       0.34      0.37      0.35        97\n",
            "weighted avg       0.61      0.67      0.64        97\n",
            "\n",
            "Accuracy:\n",
            "\n",
            "0.6701030927835051\n"
          ]
        },
        {
          "output_type": "stream",
          "name": "stderr",
          "text": [
            "/usr/local/lib/python3.7/dist-packages/sklearn/metrics/_classification.py:1272: UndefinedMetricWarning: Precision and F-score are ill-defined and being set to 0.0 in labels with no predicted samples. Use `zero_division` parameter to control this behavior.\n",
            "  _warn_prf(average, modifier, msg_start, len(result))\n"
          ]
        }
      ]
    },
    {
      "cell_type": "code",
      "metadata": {
        "id": "nOPEnC2xiExG",
        "colab": {
          "base_uri": "https://localhost:8080/",
          "height": 421
        },
        "outputId": "9b96565f-b4af-49ae-bd43-544bd8472c32"
      },
      "source": [
        "error = []\n",
        "\n",
        "# Calculating error for K values between 1 and 40\n",
        "for i in range(1, 40):\n",
        "    knn = KNeighborsClassifier(n_neighbors=i, metric=\"euclidean\")\n",
        "    knn.fit(X_train, y_train)\n",
        "    pred_i = knn.predict(X_test)\n",
        "    error.append(np.mean(pred_i != y_test))\n",
        "\n",
        "plt.figure(figsize=(12, 6))\n",
        "plt.plot(range(1, 40), error, color='red', linestyle='dashed', marker='o',\n",
        "         markerfacecolor='blue', markersize=5)\n",
        "plt.title('Error Rate K Value')\n",
        "plt.xlabel('K Value')\n",
        "plt.ylabel('Mean Error')"
      ],
      "execution_count": 31,
      "outputs": [
        {
          "output_type": "execute_result",
          "data": {
            "text/plain": [
              "Text(0, 0.5, 'Mean Error')"
            ]
          },
          "metadata": {},
          "execution_count": 31
        },
        {
          "output_type": "display_data",
          "data": {
            "image/png": "[encoded data removed]",
            "text/plain": [
              "<Figure size 864x432 with 1 Axes>"
            ]
          },
          "metadata": {}
        }
      ]
    },
    {
      "cell_type": "code",
      "metadata": {
        "id": "5_pAe0G-nNHJ",
        "colab": {
          "base_uri": "https://localhost:8080/",
          "height": 423
        },
        "outputId": "adc0e10e-0de7-4591-a23e-64de459ab83b"
      },
      "source": [
        "X_train"
      ],
      "execution_count": 32,
      "outputs": [
        {
          "output_type": "execute_result",
          "data": {
            "text/html": [
              "<div>\n",
              "<style scoped>\n",
              "    .dataframe tbody tr th:only-of-type {\n",
              "        vertical-align: middle;\n",
              "    }\n",
              "\n",
              "    .dataframe tbody tr th {\n",
              "        vertical-align: top;\n",
              "    }\n",
              "\n",
              "    .dataframe thead th {\n",
              "        text-align: right;\n",
              "    }\n",
              "</style>\n",
              "<table border=\"1\" class=\"dataframe\">\n",
              "  <thead>\n",
              "    <tr style=\"text-align: right;\">\n",
              "      <th></th>\n",
              "      <th>DEFICIENCIA_FISICA</th>\n",
              "      <th>RECURSOS_DEF_FISICA</th>\n",
              "    </tr>\n",
              "  </thead>\n",
              "  <tbody>\n",
              "    <tr>\n",
              "      <th>267</th>\n",
              "      <td>253.0</td>\n",
              "      <td>1.811321</td>\n",
              "    </tr>\n",
              "    <tr>\n",
              "      <th>1736</th>\n",
              "      <td>88.0</td>\n",
              "      <td>4.714286</td>\n",
              "    </tr>\n",
              "    <tr>\n",
              "      <th>380</th>\n",
              "      <td>17.0</td>\n",
              "      <td>0.000000</td>\n",
              "    </tr>\n",
              "    <tr>\n",
              "      <th>348</th>\n",
              "      <td>16.0</td>\n",
              "      <td>2.200000</td>\n",
              "    </tr>\n",
              "    <tr>\n",
              "      <th>2384</th>\n",
              "      <td>1.0</td>\n",
              "      <td>0.000000</td>\n",
              "    </tr>\n",
              "    <tr>\n",
              "      <th>...</th>\n",
              "      <td>...</td>\n",
              "      <td>...</td>\n",
              "    </tr>\n",
              "    <tr>\n",
              "      <th>42</th>\n",
              "      <td>3.0</td>\n",
              "      <td>4.000000</td>\n",
              "    </tr>\n",
              "    <tr>\n",
              "      <th>2079</th>\n",
              "      <td>1.0</td>\n",
              "      <td>0.000000</td>\n",
              "    </tr>\n",
              "    <tr>\n",
              "      <th>522</th>\n",
              "      <td>2.0</td>\n",
              "      <td>0.298507</td>\n",
              "    </tr>\n",
              "    <tr>\n",
              "      <th>1792</th>\n",
              "      <td>39.0</td>\n",
              "      <td>1.605634</td>\n",
              "    </tr>\n",
              "    <tr>\n",
              "      <th>2004</th>\n",
              "      <td>8.0</td>\n",
              "      <td>3.275862</td>\n",
              "    </tr>\n",
              "  </tbody>\n",
              "</table>\n",
              "<p>145 rows × 2 columns</p>\n",
              "</div>"
            ],
            "text/plain": [
              "      DEFICIENCIA_FISICA  RECURSOS_DEF_FISICA\n",
              "267                253.0             1.811321\n",
              "1736                88.0             4.714286\n",
              "380                 17.0             0.000000\n",
              "348                 16.0             2.200000\n",
              "2384                 1.0             0.000000\n",
              "...                  ...                  ...\n",
              "42                   3.0             4.000000\n",
              "2079                 1.0             0.000000\n",
              "522                  2.0             0.298507\n",
              "1792                39.0             1.605634\n",
              "2004                 8.0             3.275862\n",
              "\n",
              "[145 rows x 2 columns]"
            ]
          },
          "metadata": {},
          "execution_count": 32
        }
      ]
    },
    {
      "cell_type": "code",
      "metadata": {
        "id": "065I5WBYxE1n",
        "colab": {
          "base_uri": "https://localhost:8080/",
          "height": 424
        },
        "outputId": "c96d0264-c1cc-4ea0-89c1-9f3982881b71"
      },
      "source": [
        "sns.set_style(\"whitegrid\");\n",
        "sns.FacetGrid(dataset, hue=\"TIPO_CATEGORIA_ADM\", size=5).map(plt.scatter, \"DEFICIENCIA_FISICA\", \"RECURSOS_DEF_FISICA\").add_legend();\n",
        "plt.show()"
      ],
      "execution_count": 33,
      "outputs": [
        {
          "output_type": "stream",
          "name": "stderr",
          "text": [
            "/usr/local/lib/python3.7/dist-packages/seaborn/axisgrid.py:337: UserWarning: The `size` parameter has been renamed to `height`; please update your code.\n",
            "  warnings.warn(msg, UserWarning)\n"
          ]
        },
        {
          "output_type": "display_data",
          "data": {
            "image/png": "[encoded data removed]",
            "text/plain": [
              "<Figure size 481.25x360 with 1 Axes>"
            ]
          },
          "metadata": {}
        }
      ]
    },
    {
      "cell_type": "code",
      "metadata": {
        "id": "A1dBE-Z7xEqa"
      },
      "source": [
        ""
      ],
      "execution_count": 33,
      "outputs": []
    },
    {
      "cell_type": "code",
      "metadata": {
        "id": "kBeYbwRilGIv",
        "colab": {
          "base_uri": "https://localhost:8080/",
          "height": 568
        },
        "outputId": "6edf49ea-6189-4921-99f5-03e902fe92d3"
      },
      "source": [
        "\n",
        "def knn_comparison(X, y, k):\n",
        "  clf = KNeighborsClassifier(n_neighbors=k)\n",
        "  clf.fit(X, y)\n",
        "  value=1.5\n",
        "  width=0.75\n",
        "# Plotting decision region\n",
        "  plt.figure(figsize=(10, 8))\n",
        "  plot_decision_regions(\n",
        "     X.to_numpy(), \n",
        "     y, \n",
        "     clf=clf, \n",
        "     legend=4\n",
        "     )\n",
        "# Adding axes annotations\n",
        "  plt.xlabel(\"X\")\n",
        "  plt.ylabel(\"Y\")\n",
        "  plt.title(\"Knn com K=\" + str(k))\n",
        "  plt.show()\n",
        "\n",
        "for i in [40]:\n",
        "  knn_comparison(X_train, y_train, i)"
      ],
      "execution_count": 34,
      "outputs": [
        {
          "output_type": "stream",
          "name": "stderr",
          "text": [
            "/usr/local/lib/python3.7/dist-packages/mlxtend/plotting/decision_regions.py:244: MatplotlibDeprecationWarning: Passing unsupported keyword arguments to axis() will raise a TypeError in 3.3.\n",
            "  ax.axis(xmin=xx.min(), xmax=xx.max(), y_min=yy.min(), y_max=yy.max())\n"
          ]
        },
        {
          "output_type": "display_data",
          "data": {
            "image/png": "[encoded data removed]",
            "text/plain": [
              "<Figure size 720x576 with 1 Axes>"
            ]
          },
          "metadata": {}
        }
      ]
    },
    {
      "cell_type": "code",
      "metadata": {
        "id": "qb0RVAfusgty",
        "colab": {
          "base_uri": "https://localhost:8080/"
        },
        "outputId": "cb6d8e02-5168-404a-fa87-87b444672574"
      },
      "source": [
        "from sklearn import svm\n",
        "from sklearn import metrics\n",
        "\n",
        "clf = svm.SVC(kernel='linear')\n",
        "clf.fit(X_train, y_train)\n",
        "y_pred = clf.predict(X_test)\n",
        "\n",
        "print(\"Accuracy:\",metrics.accuracy_score(y_test, y_pred))\n",
        "print(\"Precision:\",metrics.precision_score(y_test, y_pred, average=\"weighted\"))\n",
        "print(\"Recall:\",metrics.recall_score(y_test, y_pred, average=\"weighted\"))\n"
      ],
      "execution_count": 35,
      "outputs": [
        {
          "output_type": "stream",
          "name": "stdout",
          "text": [
            "Accuracy: 0.6701030927835051\n",
            "Precision: 0.6266590077697494\n",
            "Recall: 0.6701030927835051\n"
          ]
        },
        {
          "output_type": "stream",
          "name": "stderr",
          "text": [
            "/usr/local/lib/python3.7/dist-packages/sklearn/metrics/_classification.py:1272: UndefinedMetricWarning: Precision is ill-defined and being set to 0.0 in labels with no predicted samples. Use `zero_division` parameter to control this behavior.\n",
            "  _warn_prf(average, modifier, msg_start, len(result))\n"
          ]
        }
      ]
    }
  ]
}