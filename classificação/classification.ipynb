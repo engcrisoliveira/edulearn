{
  "nbformat": 4,
  "nbformat_minor": 0,
  "metadata": {
    "colab": {
      "name": "classification.ipynb",
      "provenance": [],
      "authorship_tag": "ABX9TyNOTxNE/tLbVXWDcRjTrjPt",
      "include_colab_link": true
    },
    "kernelspec": {
      "name": "python3",
      "display_name": "Python 3"
    },
    "language_info": {
      "name": "python"
    }
  },
  "cells": [
    {
      "cell_type": "markdown",
      "metadata": {
        "id": "view-in-github",
        "colab_type": "text"
      },
      "source": [
        "<a href=\"https://colab.research.google.com/github/roxacarv/edulearn/blob/main/classifica%C3%A7%C3%A3o/classification.ipynb\" target=\"_parent\"><img src=\"https://colab.research.google.com/assets/colab-badge.svg\" alt=\"Open In Colab\"/></a>"
      ]
    },
    {
      "cell_type": "code",
      "metadata": {
        "colab": {
          "base_uri": "https://localhost:8080/",
          "height": 574
        },
        "id": "DNX9oc6njssL",
        "outputId": "d149c00d-71cc-4e83-ac62-1805c2207541"
      },
      "source": [
        "import pandas as pd, seaborn as sb, numpy as np, matplotlib.pyplot as plt\n",
        "\n",
        "names = [\n",
        "         \"CO_UF\",\n",
        "         \"CO_MUNICIPIO\",\n",
        "         \"IN_CAPITAL\",\n",
        "         \"CO_CURSO\", \n",
        "         \"IN_AJUDA_DEFICIENTE\", \n",
        "         \"IN_MATERIAL_DIGITAL\", \n",
        "         \"IN_MATERIAL_AMPLIADO\",\n",
        "         \"IN_MATERIAL_TATIL\", \n",
        "         \"IN_MATERIAL_IMPRESSO\", \n",
        "         \"IN_MATERIAL_AUDIO\",\n",
        "         \"IN_MATERIAL_BRAILLE\",\n",
        "         \"IN_MATERIAL_LIBRAS\",\n",
        "         \"IN_DISCIPLINA_LIBRAS\",\n",
        "         \"IN_TRADUTOR_LIBRAS\",\n",
        "         \"IN_GUIA_INTERPRETE\",\n",
        "         \"IN_RECURSOS_COMUNICACAO\",\n",
        "         \"IN_RECURSOS_INFORMATICA\"\n",
        "         ]\n",
        "dataset = pd.read_csv(\"teste_ies.csv\", names=names, sep='|', encoding='latin-1')\n",
        "#dataset[\"DT_INICIO_FUNCIONAMENTO\"] = dataset[\"DT_INICIO_FUNCIONAMENTO\"].fillna(0)\n",
        "dataset.fillna(-1, inplace=True)\n",
        "\n",
        "from sklearn import preprocessing\n",
        "le = preprocessing.LabelEncoder()\n",
        "for i in dataset.columns:\n",
        "  if dataset[i].dtype == object:\n",
        "    dataset[i] = le.fit_transform(dataset[i])\n",
        "  else:\n",
        "    pass\n",
        "\n",
        "X = dataset.iloc[:, :-1].values\n",
        "y = dataset.iloc[:, 4].values\n",
        "\n",
        "from sklearn.model_selection import train_test_split\n",
        "X_train, X_test, y_train, y_test = train_test_split(X, y, test_size=0.20)\n",
        "\n",
        "from sklearn.preprocessing import StandardScaler\n",
        "scaler = StandardScaler()\n",
        "scaler.fit(X_train)\n",
        "\n",
        "X_train = scaler.transform(X_train)\n",
        "X_test = scaler.transform(X_test)\n",
        "\n",
        "from sklearn.neighbors import KNeighborsClassifier\n",
        "classifier = KNeighborsClassifier(n_neighbors=5)\n",
        "classifier.fit(X_train, y_train)\n",
        "\n",
        "y_pred = classifier.predict(X_test)\n",
        "\n",
        "from sklearn.metrics import classification_report, confusion_matrix\n",
        "print(confusion_matrix(y_test, y_pred))\n",
        "print(classification_report(y_test, y_pred))\n",
        "\n",
        "error = []\n",
        "\n",
        "# Calculating error for K values between 1 and 40\n",
        "for i in range(1, 40):\n",
        "    knn = KNeighborsClassifier(n_neighbors=i)\n",
        "    knn.fit(X_train, y_train)\n",
        "    pred_i = knn.predict(X_test)\n",
        "    error.append(np.mean(pred_i != y_test))\n",
        "\n",
        "plt.figure(figsize=(12, 6))\n",
        "plt.plot(range(1, 40), error, color='red', linestyle='dashed', marker='o',\n",
        "         markerfacecolor='blue', markersize=10)\n",
        "plt.title('Error Rate K Value')\n",
        "plt.xlabel('K Value')\n",
        "plt.ylabel('Mean Error')"
      ],
      "execution_count": 56,
      "outputs": [
        {
          "output_type": "stream",
          "name": "stdout",
          "text": [
            "[[8142]]\n",
            "              precision    recall  f1-score   support\n",
            "\n",
            "        -1.0       1.00      1.00      1.00      8142\n",
            "\n",
            "    accuracy                           1.00      8142\n",
            "   macro avg       1.00      1.00      1.00      8142\n",
            "weighted avg       1.00      1.00      1.00      8142\n",
            "\n"
          ]
        },
        {
          "output_type": "execute_result",
          "data": {
            "text/plain": [
              "Text(0, 0.5, 'Mean Error')"
            ]
          },
          "metadata": {},
          "execution_count": 56
        },
        {
          "output_type": "display_data",
          "data": {
            "image/png": "[encoded data removed]",
            "text/plain": [
              "<Figure size 864x432 with 1 Axes>"
            ]
          },
          "metadata": {
            "needs_background": "light"
          }
        }
      ]
    },
    {
      "cell_type": "markdown",
      "metadata": {
        "id": "OGwL8CjrzhMZ"
      },
      "source": [
        ""
      ]
    }
  ]
}