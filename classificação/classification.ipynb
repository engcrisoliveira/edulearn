{
  "nbformat": 4,
  "nbformat_minor": 0,
  "metadata": {
    "colab": {
      "name": "classification.ipynb",
      "provenance": [],
      "authorship_tag": "ABX9TyPAVSYxJYtutxtMpqzVY3h0",
      "include_colab_link": true
    },
    "kernelspec": {
      "name": "python3",
      "display_name": "Python 3"
    },
    "language_info": {
      "name": "python"
    }
  },
  "cells": [
    {
      "cell_type": "markdown",
      "metadata": {
        "id": "view-in-github",
        "colab_type": "text"
      },
      "source": [
        "<a href=\"https://colab.research.google.com/github/roxacarv/edulearn/blob/main/classifica%C3%A7%C3%A3o/classification.ipynb\" target=\"_parent\"><img src=\"https://colab.research.google.com/assets/colab-badge.svg\" alt=\"Open In Colab\"/></a>"
      ]
    },
    {
      "cell_type": "code",
      "metadata": {
        "id": "DNX9oc6njssL",
        "colab": {
          "base_uri": "https://localhost:8080/"
        },
        "outputId": "ad58b627-4e34-4394-c6f0-2ec82f8c97dd"
      },
      "source": [
        "import numpy as np\n",
        "import pandas as pd\n",
        "from sklearn.model_selection import train_test_split\n",
        "from sklearn.neighbors import KNeighborsClassifier\n",
        "import matplotlib.pyplot as plt \n",
        "import seaborn as sns\n",
        "from sklearn import preprocessing\n",
        "\n",
        "names = [\n",
        "         \"NUM_CURSOS\",\n",
        "         \"CODIGO_IES\",\n",
        "         \"DEFICIENCIA_FISICA\",\n",
        "         \"DEFICIENCIA_VISUAL\",\n",
        "         \"DEFICIENCIA_AUDITIVA\", \n",
        "         \"DEFICIENCIA_COGNITIVA\", \n",
        "         \"DEFICIENCIA_MULTIPLA\", \n",
        "         \"RECURSOS_DEF_FISICA\",\n",
        "         \"RECURSOS_DEF_VISUAL\", \n",
        "         \"RECURSOS_DEF_AUDITIVA\", \n",
        "         \"RECURSOS_DEF_COGNITIVA\",\n",
        "         \"RECURSOS_DEF_MULTIPLA\"\n",
        "         ]\n",
        "\n",
        "from sklearn import preprocessing\n",
        "le = preprocessing.LabelEncoder()\n",
        "le.fit(names)\n",
        "names=le.transform(names)\n",
        "print(names) \n",
        "\n",
        "dataset = pd.read_csv(\"teste_classes_rand.csv\", index_col=0)\n",
        "\n",
        "#Substitui NaN por 0\n",
        "#dataset.fillna(0, inplace=True)\n",
        "#dataset.describe()"
      ],
      "execution_count": 13,
      "outputs": [
        {
          "output_type": "stream",
          "name": "stdout",
          "text": [
            "[ 6  0  3  5  1  2  4  9 11  7  8 10]\n"
          ]
        }
      ]
    },
    {
      "cell_type": "markdown",
      "metadata": {
        "id": "e38OD1bh9rC_"
      },
      "source": [
        "Processa células não padronizadas (células vazias)"
      ]
    },
    {
      "cell_type": "code",
      "metadata": {
        "id": "gF8DMQ1F9cdK"
      },
      "source": [
        "from sklearn import preprocessing\n",
        "le = preprocessing.LabelEncoder()\n",
        "for i in dataset.columns:\n",
        "  if dataset[i].dtype == object:\n",
        "    dataset[i] = le.fit_transform(dataset[i])\n",
        "  else:\n",
        "    pass\n",
        "\n",
        "dataset_encoded = le.fit_transform(dataset.columns)"
      ],
      "execution_count": 2,
      "outputs": []
    },
    {
      "cell_type": "markdown",
      "metadata": {
        "id": "vylkpWQ_94rM"
      },
      "source": [
        "Normaliza os dados usando StandardScaler e treina o modelo"
      ]
    },
    {
      "cell_type": "code",
      "metadata": {
        "id": "FfDod73Y9Too"
      },
      "source": [
        "X = dataset.drop(columns=[\"CLASS\"])\n",
        "y = dataset[\"CLASS\"].values\n",
        "\n",
        "from sklearn.model_selection import train_test_split\n",
        "X_train, X_test, y_train, y_test = train_test_split(X, y, test_size=0.2)"
      ],
      "execution_count": 8,
      "outputs": []
    },
    {
      "cell_type": "markdown",
      "metadata": {
        "id": "5ABtFsuIho69"
      },
      "source": [
        "Cria o objeto KNN"
      ]
    },
    {
      "cell_type": "code",
      "metadata": {
        "id": "iQzYO7IMhnVr"
      },
      "source": [
        "from sklearn.neighbors import KNeighborsClassifier\n",
        "classifier = KNeighborsClassifier(n_neighbors=5, metric=\"euclidean\")\n",
        "classifier.fit(X_train, y_train)\n",
        "\n",
        "y_pred = classifier.predict(X_test)"
      ],
      "execution_count": 9,
      "outputs": []
    },
    {
      "cell_type": "code",
      "metadata": {
        "id": "u2bvh0WTh2bP",
        "colab": {
          "base_uri": "https://localhost:8080/"
        },
        "outputId": "d9b654cd-3946-409e-99ac-233274ce27c7"
      },
      "source": [
        "y_pred"
      ],
      "execution_count": 5,
      "outputs": [
        {
          "output_type": "execute_result",
          "data": {
            "text/plain": [
              "array([    9,   150,   140,   908,   192,  2123,    21,    57,  1797,\n",
              "        1417,   163,   626,   234,    40,  1980,  1118,  1115,  1294,\n",
              "        1513,  1835,    57,   568,   383,     7,   526,    59,   140,\n",
              "        2703,   434,    60,    34,  1931,   416,   764,   410,  1462,\n",
              "        2831,   151,  1064,   242,  1080,   151,   376,   107,  1045,\n",
              "        1518,   796,   712,   796,   908,   514,   673,   426,   125,\n",
              "         727,   166,   224,  1683,   135,  1307,   319,   151,   727,\n",
              "        1426,   151,   192,  3295,   160,    29,   592,    94, 21281,\n",
              "          57,   739,  1426,     8,  1292,  2288,   151,  1683,   781,\n",
              "         420,  1387,   171,  1305,  1462,   434,   490,   387,    15,\n",
              "          15,   387,   140,  1664,   475,   672,  1913,  1373,   144,\n",
              "        1815,   506,   450,    19,   151,     8,  1677,   166,   435,\n",
              "        1708,    35,  1113,  1507,    87,    95,  1187,    56,    21,\n",
              "        1563,   685,   140,    33,  1085,   824,   506,  1767,   568,\n",
              "         426,  2264,   192,  1187,  1614,   224,   165,   490,   719,\n",
              "         410, 19272,  1518,    10,   151,   202,   431,   763,  1202,\n",
              "        2133,    17,   590,  1292,  1267,  1892,   736,  1811,  1477,\n",
              "         605,  1442,   163,  2264,   202,  2324,   135,   165,    17,\n",
              "        1402,  1513,  1817,   109,    17,   352,  2123,    27,   796,\n",
              "         547,  1563,    57,  1084,    81,  1373,   636,   160,     2,\n",
              "         197,    60,  1507,   161,  1583,  1432,   171,   790,   151,\n",
              "        1085,  1201,   626,  1519,   416,   166,   908,    81,   143,\n",
              "        1201,  1507,  1940,  1337,  3862,   701,  1345,  1538,   745,\n",
              "          36,  1949,   718,  1395,   337,    99,     2,   790,   608,\n",
              "          11,  1521,   197,   267,  5276,   781,  2133,  1412,   908,\n",
              "         717,  1931,   724,   151,    23,   434,  1273,    13,   423,\n",
              "         343,  1247,  1401,   621,  2450,  2465,  1224,   598,  1949,\n",
              "        1312,    87,   677,  1909,  1446,  1815,  1187,  1239,   150,\n",
              "          30,    24,  1059,   319,  1059,   203,  1749,  1080,   626,\n",
              "        1797,  1632,   360,   701,  1637,   788,   150,   533, 19272,\n",
              "         267,   640,  1312,     9,  1375,   572])"
            ]
          },
          "metadata": {},
          "execution_count": 5
        }
      ]
    },
    {
      "cell_type": "markdown",
      "metadata": {
        "id": "_7DmlAXo-Anm"
      },
      "source": [
        "Faz a predição"
      ]
    },
    {
      "cell_type": "code",
      "metadata": {
        "id": "55MXqnzf9MuF",
        "colab": {
          "base_uri": "https://localhost:8080/"
        },
        "outputId": "a35042bd-a130-4483-bb36-a475b6f82424"
      },
      "source": [
        "from sklearn.metrics import classification_report, confusion_matrix\n",
        "print(confusion_matrix(y_test, y_pred))\n",
        "print(classification_report(y_test, y_pred))"
      ],
      "execution_count": 10,
      "outputs": [
        {
          "output_type": "stream",
          "name": "stdout",
          "text": [
            "[[32 21 19 14]\n",
            " [25 21 14 14]\n",
            " [23 11 13 11]\n",
            " [22 15 11 10]]\n",
            "              precision    recall  f1-score   support\n",
            "\n",
            "           0       0.31      0.37      0.34        86\n",
            "           1       0.31      0.28      0.30        74\n",
            "           2       0.23      0.22      0.23        58\n",
            "           3       0.20      0.17      0.19        58\n",
            "\n",
            "    accuracy                           0.28       276\n",
            "   macro avg       0.26      0.26      0.26       276\n",
            "weighted avg       0.27      0.28      0.27       276\n",
            "\n"
          ]
        }
      ]
    },
    {
      "cell_type": "code",
      "metadata": {
        "id": "nOPEnC2xiExG",
        "colab": {
          "base_uri": "https://localhost:8080/",
          "height": 421
        },
        "outputId": "69278f09-2081-42e8-f282-67ad6a4a6e2c"
      },
      "source": [
        "error = []\n",
        "\n",
        "# Calculating error for K values between 1 and 40\n",
        "for i in range(1, 40):\n",
        "    knn = KNeighborsClassifier(n_neighbors=i, metric=\"euclidean\")\n",
        "    knn.fit(X_train, y_train)\n",
        "    pred_i = knn.predict(X_test)\n",
        "    error.append(np.mean(pred_i != y_test))\n",
        "\n",
        "plt.figure(figsize=(12, 6))\n",
        "plt.plot(range(1, 40), error, color='red', linestyle='dashed', marker='o',\n",
        "         markerfacecolor='blue', markersize=10)\n",
        "plt.title('Error Rate K Value')\n",
        "plt.xlabel('K Value')\n",
        "plt.ylabel('Mean Error')"
      ],
      "execution_count": 11,
      "outputs": [
        {
          "output_type": "execute_result",
          "data": {
            "text/plain": [
              "Text(0, 0.5, 'Mean Error')"
            ]
          },
          "metadata": {},
          "execution_count": 11
        },
        {
          "output_type": "display_data",
          "data": {
            "image/png": "[encoded data removed]",
            "text/plain": [
              "<Figure size 864x432 with 1 Axes>"
            ]
          },
          "metadata": {
            "needs_background": "light"
          }
        }
      ]
    },
    {
      "cell_type": "markdown",
      "metadata": {
        "id": "OGwL8CjrzhMZ"
      },
      "source": [
        ""
      ]
    }
  ]
}