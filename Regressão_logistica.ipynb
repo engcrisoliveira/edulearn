{
  "nbformat": 4,
  "nbformat_minor": 0,
  "metadata": {
    "colab": {
      "name": "Regressão logistica.ipynb",
      "provenance": [],
      "authorship_tag": "ABX9TyMi61u46drvg4ku+ARCA+vG",
      "include_colab_link": true
    },
    "kernelspec": {
      "name": "python3",
      "display_name": "Python 3"
    },
    "language_info": {
      "name": "python"
    }
  },
  "cells": [
    {
      "cell_type": "markdown",
      "metadata": {
        "id": "view-in-github",
        "colab_type": "text"
      },
      "source": [
        "<a href=\"https://colab.research.google.com/github/roxacarv/edulearn/blob/main/Regress%C3%A3o_logistica.ipynb\" target=\"_parent\"><img src=\"https://colab.research.google.com/assets/colab-badge.svg\" alt=\"Open In Colab\"/></a>"
      ]
    },
    {
      "cell_type": "markdown",
      "source": [
        "# Importando bibliotecas"
      ],
      "metadata": {
        "id": "YqMiW6PWsU-k"
      }
    },
    {
      "cell_type": "code",
      "execution_count": 36,
      "metadata": {
        "id": "g2Qe4ICBqARQ"
      },
      "outputs": [],
      "source": [
        "from sklearn.linear_model import LogisticRegression\n",
        "from sklearn.model_selection import train_test_split\n",
        "from sklearn.metrics import confusion_matrix, classification_report\n",
        "from sklearn.metrics import roc_curve\n",
        "import pandas as pd\n",
        "import numpy as np\n",
        "import matplotlib.pyplot as plt\n"
      ]
    },
    {
      "cell_type": "markdown",
      "source": [
        "# Importando base de dados"
      ],
      "metadata": {
        "id": "CuvQohcstAl6"
      }
    },
    {
      "cell_type": "code",
      "source": [
        "df_curso = pd.read_csv('https://raw.githubusercontent.com/roxacarv/edulearn/main/dados/SUP_CURSO_2019.CSV', sep='|', encoding='latin-1', usecols=['NU_ANO_CENSO','CO_IES','CO_UF','CO_MUNICIPIO','NO_CURSO','IN_AJUDA_DEFICIENTE','QT_MATRICULA_TOTAL','QT_CONCLUINTE_TOTAL'])\n",
        "df_curso_2 = df_curso.fillna(0)\n",
        "df_curso_2.head()"
      ],
      "metadata": {
        "colab": {
          "base_uri": "https://localhost:8080/",
          "height": 206
        },
        "id": "CW4G80yO4cwq",
        "outputId": "724b3bbe-72f7-4e26-f474-01315c13a416"
      },
      "execution_count": 4,
      "outputs": [
        {
          "output_type": "execute_result",
          "data": {
            "text/html": [
              "<div>\n",
              "<style scoped>\n",
              "    .dataframe tbody tr th:only-of-type {\n",
              "        vertical-align: middle;\n",
              "    }\n",
              "\n",
              "    .dataframe tbody tr th {\n",
              "        vertical-align: top;\n",
              "    }\n",
              "\n",
              "    .dataframe thead th {\n",
              "        text-align: right;\n",
              "    }\n",
              "</style>\n",
              "<table border=\"1\" class=\"dataframe\">\n",
              "  <thead>\n",
              "    <tr style=\"text-align: right;\">\n",
              "      <th></th>\n",
              "      <th>NU_ANO_CENSO</th>\n",
              "      <th>CO_IES</th>\n",
              "      <th>CO_UF</th>\n",
              "      <th>CO_MUNICIPIO</th>\n",
              "      <th>NO_CURSO</th>\n",
              "      <th>IN_AJUDA_DEFICIENTE</th>\n",
              "      <th>QT_MATRICULA_TOTAL</th>\n",
              "      <th>QT_CONCLUINTE_TOTAL</th>\n",
              "    </tr>\n",
              "  </thead>\n",
              "  <tbody>\n",
              "    <tr>\n",
              "      <th>0</th>\n",
              "      <td>2019</td>\n",
              "      <td>1</td>\n",
              "      <td>51.0</td>\n",
              "      <td>5103403.0</td>\n",
              "      <td>DIREITO</td>\n",
              "      <td>1</td>\n",
              "      <td>447</td>\n",
              "      <td>75</td>\n",
              "    </tr>\n",
              "    <tr>\n",
              "      <th>1</th>\n",
              "      <td>2019</td>\n",
              "      <td>1</td>\n",
              "      <td>51.0</td>\n",
              "      <td>5103403.0</td>\n",
              "      <td>CIÊNCIAS ECONÔMICAS</td>\n",
              "      <td>0</td>\n",
              "      <td>323</td>\n",
              "      <td>28</td>\n",
              "    </tr>\n",
              "    <tr>\n",
              "      <th>2</th>\n",
              "      <td>2019</td>\n",
              "      <td>1</td>\n",
              "      <td>51.0</td>\n",
              "      <td>5103403.0</td>\n",
              "      <td>ENGENHARIA CIVIL</td>\n",
              "      <td>0</td>\n",
              "      <td>248</td>\n",
              "      <td>45</td>\n",
              "    </tr>\n",
              "    <tr>\n",
              "      <th>3</th>\n",
              "      <td>2019</td>\n",
              "      <td>1</td>\n",
              "      <td>51.0</td>\n",
              "      <td>5103403.0</td>\n",
              "      <td>PEDAGOGIA</td>\n",
              "      <td>1</td>\n",
              "      <td>331</td>\n",
              "      <td>53</td>\n",
              "    </tr>\n",
              "    <tr>\n",
              "      <th>4</th>\n",
              "      <td>2019</td>\n",
              "      <td>1</td>\n",
              "      <td>51.0</td>\n",
              "      <td>5103403.0</td>\n",
              "      <td>SERVIÇO SOCIAL</td>\n",
              "      <td>1</td>\n",
              "      <td>274</td>\n",
              "      <td>32</td>\n",
              "    </tr>\n",
              "  </tbody>\n",
              "</table>\n",
              "</div>"
            ],
            "text/plain": [
              "   NU_ANO_CENSO  CO_IES  ...  QT_MATRICULA_TOTAL  QT_CONCLUINTE_TOTAL\n",
              "0          2019       1  ...                 447                   75\n",
              "1          2019       1  ...                 323                   28\n",
              "2          2019       1  ...                 248                   45\n",
              "3          2019       1  ...                 331                   53\n",
              "4          2019       1  ...                 274                   32\n",
              "\n",
              "[5 rows x 8 columns]"
            ]
          },
          "metadata": {},
          "execution_count": 4
        }
      ]
    },
    {
      "cell_type": "code",
      "source": [
        "positive = df_curso_2[df_curso_2['IN_AJUDA_DEFICIENTE'].isin([1])]  \n",
        "negative = df_curso_2[df_curso_2['IN_AJUDA_DEFICIENTE'].isin([0])]\n",
        "\n",
        "fig, ax = plt.subplots(figsize=(6,6)) \n",
        "ax.scatter(positive['QT_MATRICULA_TOTAL'], positive['QT_CONCLUINTE_TOTAL'], s=50, c='b', marker='o', label='Tem recurso')  \n",
        "ax.scatter(negative['QT_MATRICULA_TOTAL'], negative['QT_CONCLUINTE_TOTAL'], s=50, c='r', marker='x', label='Não tem recurso')  \n",
        "ax.legend()  \n",
        "ax.set_xlabel('Matriculados')  \n",
        "ax.set_ylabel('Concluintes') "
      ],
      "metadata": {
        "colab": {
          "base_uri": "https://localhost:8080/",
          "height": 406
        },
        "id": "XtP0TsVwGU6W",
        "outputId": "3398f349-1cdf-4974-d151-ec77d7b20f28"
      },
      "execution_count": 8,
      "outputs": [
        {
          "output_type": "execute_result",
          "data": {
            "text/plain": [
              "Text(0, 0.5, 'Concluintes')"
            ]
          },
          "metadata": {},
          "execution_count": 8
        },
        {
          "output_type": "display_data",
          "data": {
            "image/png": "[encoded data removed]",
            "text/plain": [
              "<Figure size 432x432 with 1 Axes>"
            ]
          },
          "metadata": {
            "needs_background": "light"
          }
        }
      ]
    },
    {
      "cell_type": "code",
      "source": [
        "X = df_curso_2['IN_AJUDA_DEFICIENTE'].values\n",
        "X = x.reshape(-1, 1)\n",
        "y = df_curso_2['QT_CONCLUINTE_TOTAL'].values\n",
        "X_train, X_test, y_train, y_test = train_test_split(X, y, test_size = 0.3, random_state=42)"
      ],
      "metadata": {
        "id": "Ak5W_z3TJutV"
      },
      "execution_count": 32,
      "outputs": []
    },
    {
      "cell_type": "code",
      "source": [
        "X_train, X_test, y_train, y_test = train_test_split(X, y, test_size = 0.3, random_state=42)"
      ],
      "metadata": {
        "id": "_bNABbVZMkS5"
      },
      "execution_count": 33,
      "outputs": []
    },
    {
      "cell_type": "code",
      "source": [
        "modelo = LogisticRegression()"
      ],
      "metadata": {
        "id": "m69au6gvPVzw"
      },
      "execution_count": 43,
      "outputs": []
    },
    {
      "cell_type": "code",
      "source": [
        "modelo.fit(X_train,y_train)"
      ],
      "metadata": {
        "colab": {
          "base_uri": "https://localhost:8080/"
        },
        "id": "8Om6TUzCPcAQ",
        "outputId": "c7d59d19-4624-406b-819b-a2bbc3385c39"
      },
      "execution_count": 45,
      "outputs": [
        {
          "output_type": "stream",
          "name": "stderr",
          "text": [
            "/usr/local/lib/python3.7/dist-packages/sklearn/linear_model/_logistic.py:818: ConvergenceWarning: lbfgs failed to converge (status=1):\n",
            "STOP: TOTAL NO. of ITERATIONS REACHED LIMIT.\n",
            "\n",
            "Increase the number of iterations (max_iter) or scale the data as shown in:\n",
            "    https://scikit-learn.org/stable/modules/preprocessing.html\n",
            "Please also refer to the documentation for alternative solver options:\n",
            "    https://scikit-learn.org/stable/modules/linear_model.html#logistic-regression\n",
            "  extra_warning_msg=_LOGISTIC_SOLVER_CONVERGENCE_MSG,\n"
          ]
        },
        {
          "output_type": "execute_result",
          "data": {
            "text/plain": [
              "LogisticRegression()"
            ]
          },
          "metadata": {},
          "execution_count": 45
        }
      ]
    },
    {
      "cell_type": "code",
      "source": [
        "y_pred = modelo.predict(X_test)"
      ],
      "metadata": {
        "id": "4Lh3oBMUS-Zc"
      },
      "execution_count": 47,
      "outputs": []
    },
    {
      "cell_type": "code",
      "source": [
        "modelo.score(X_test, y_test)"
      ],
      "metadata": {
        "id": "Nd_NWHpwTJHm",
        "outputId": "404106ac-610a-457d-e776-f8c64d8c845c",
        "colab": {
          "base_uri": "https://localhost:8080/"
        }
      },
      "execution_count": 49,
      "outputs": [
        {
          "output_type": "execute_result",
          "data": {
            "text/plain": [
              "0.2942765905183002"
            ]
          },
          "metadata": {},
          "execution_count": 49
        }
      ]
    },
    {
      "cell_type": "code",
      "source": [
        "print(confusion_matrix(y_test, y_pred))"
      ],
      "metadata": {
        "id": "I4GWIIrRTRWW",
        "outputId": "605d9f5b-1242-46fd-faf3-1aea7da3a8ab",
        "colab": {
          "base_uri": "https://localhost:8080/"
        }
      },
      "execution_count": 50,
      "outputs": [
        {
          "output_type": "stream",
          "name": "stdout",
          "text": [
            "[[3594    0    0 ...    0    0    0]\n",
            " [ 353    0    0 ...    0    0    0]\n",
            " [ 217    0    0 ...    0    0    0]\n",
            " ...\n",
            " [   1    0    0 ...    0    0    0]\n",
            " [   1    0    0 ...    0    0    0]\n",
            " [   1    0    0 ...    0    0    0]]\n"
          ]
        }
      ]
    },
    {
      "cell_type": "code",
      "source": [
        "print(classification_report(y_test, y_pred))\n"
      ],
      "metadata": {
        "id": "gEjByu-wTUGu",
        "outputId": "77dde14f-13d0-40f3-c9c7-e43e2f29edf5",
        "colab": {
          "base_uri": "https://localhost:8080/"
        }
      },
      "execution_count": 51,
      "outputs": [
        {
          "output_type": "stream",
          "name": "stdout",
          "text": [
            "              precision    recall  f1-score   support\n",
            "\n",
            "           0       0.29      1.00      0.45      3594\n",
            "           1       0.00      0.00      0.00       353\n",
            "           2       0.00      0.00      0.00       217\n",
            "           3       0.00      0.00      0.00       232\n",
            "           4       0.00      0.00      0.00       188\n",
            "           5       0.00      0.00      0.00       200\n",
            "           6       0.00      0.00      0.00       212\n",
            "           7       0.00      0.00      0.00       237\n",
            "           8       0.00      0.00      0.00       199\n",
            "           9       0.00      0.00      0.00       196\n",
            "          10       0.00      0.00      0.00       204\n",
            "          11       0.00      0.00      0.00       202\n",
            "          12       0.00      0.00      0.00       203\n",
            "          13       0.00      0.00      0.00       188\n",
            "          14       0.00      0.00      0.00       200\n",
            "          15       0.00      0.00      0.00       196\n",
            "          16       0.00      0.00      0.00       184\n",
            "          17       0.00      0.00      0.00       182\n",
            "          18       0.00      0.00      0.00       181\n",
            "          19       0.00      0.00      0.00       152\n",
            "          20       0.00      0.00      0.00       148\n",
            "          21       0.00      0.00      0.00       183\n",
            "          22       0.00      0.00      0.00       155\n",
            "          23       0.00      0.00      0.00       145\n",
            "          24       0.00      0.00      0.00       173\n",
            "          25       0.00      0.00      0.00       130\n",
            "          26       0.00      0.00      0.00       144\n",
            "          27       0.00      0.00      0.00       119\n",
            "          28       0.00      0.00      0.00       128\n",
            "          29       0.00      0.00      0.00       118\n",
            "          30       0.00      0.00      0.00       100\n",
            "          31       0.00      0.00      0.00       121\n",
            "          32       0.00      0.00      0.00        95\n",
            "          33       0.00      0.00      0.00       100\n",
            "          34       0.00      0.00      0.00        70\n",
            "          35       0.00      0.00      0.00        92\n",
            "          36       0.00      0.00      0.00        82\n",
            "          37       0.00      0.00      0.00        71\n",
            "          38       0.00      0.00      0.00        69\n",
            "          39       0.00      0.00      0.00        67\n",
            "          40       0.00      0.00      0.00        66\n",
            "          41       0.00      0.00      0.00        50\n",
            "          42       0.00      0.00      0.00        67\n",
            "          43       0.00      0.00      0.00        60\n",
            "          44       0.00      0.00      0.00        66\n",
            "          45       0.00      0.00      0.00        56\n",
            "          46       0.00      0.00      0.00        54\n",
            "          47       0.00      0.00      0.00        50\n",
            "          48       0.00      0.00      0.00        51\n",
            "          49       0.00      0.00      0.00        34\n",
            "          50       0.00      0.00      0.00        52\n",
            "          51       0.00      0.00      0.00        47\n",
            "          52       0.00      0.00      0.00        49\n",
            "          53       0.00      0.00      0.00        44\n",
            "          54       0.00      0.00      0.00        41\n",
            "          55       0.00      0.00      0.00        35\n",
            "          56       0.00      0.00      0.00        34\n",
            "          57       0.00      0.00      0.00        39\n",
            "          58       0.00      0.00      0.00        24\n",
            "          59       0.00      0.00      0.00        35\n",
            "          60       0.00      0.00      0.00        44\n",
            "          61       0.00      0.00      0.00        29\n",
            "          62       0.00      0.00      0.00        28\n",
            "          63       0.00      0.00      0.00        34\n",
            "          64       0.00      0.00      0.00        43\n",
            "          65       0.00      0.00      0.00        24\n",
            "          66       0.00      0.00      0.00        27\n",
            "          67       0.00      0.00      0.00        28\n",
            "          68       0.00      0.00      0.00        23\n",
            "          69       0.00      0.00      0.00        34\n",
            "          70       0.00      0.00      0.00        25\n",
            "          71       0.00      0.00      0.00        28\n",
            "          72       0.00      0.00      0.00        21\n",
            "          73       0.00      0.00      0.00        23\n",
            "          74       0.00      0.00      0.00        17\n",
            "          75       0.00      0.00      0.00        11\n",
            "          76       0.00      0.00      0.00        24\n",
            "          77       0.00      0.00      0.00        19\n",
            "          78       0.00      0.00      0.00        11\n",
            "          79       0.00      0.00      0.00        14\n",
            "          80       0.00      0.00      0.00        21\n",
            "          81       0.00      0.00      0.00        10\n",
            "          82       0.00      0.00      0.00        20\n",
            "          83       0.00      0.00      0.00        18\n",
            "          84       0.00      0.00      0.00        25\n",
            "          85       0.00      0.00      0.00        15\n",
            "          86       0.00      0.00      0.00        20\n",
            "          87       0.00      0.00      0.00        14\n",
            "          88       0.00      0.00      0.00        12\n",
            "          89       0.00      0.00      0.00        12\n",
            "          90       0.00      0.00      0.00        20\n",
            "          91       0.00      0.00      0.00        14\n",
            "          92       0.00      0.00      0.00        15\n",
            "          93       0.00      0.00      0.00        14\n",
            "          94       0.00      0.00      0.00        16\n",
            "          95       0.00      0.00      0.00         7\n",
            "          96       0.00      0.00      0.00        10\n",
            "          97       0.00      0.00      0.00        14\n",
            "          98       0.00      0.00      0.00         7\n",
            "          99       0.00      0.00      0.00        14\n",
            "         100       0.00      0.00      0.00        16\n",
            "         101       0.00      0.00      0.00        14\n",
            "         102       0.00      0.00      0.00        10\n",
            "         103       0.00      0.00      0.00        12\n",
            "         104       0.00      0.00      0.00         8\n",
            "         105       0.00      0.00      0.00         7\n",
            "         106       0.00      0.00      0.00        12\n",
            "         107       0.00      0.00      0.00        14\n",
            "         108       0.00      0.00      0.00        10\n",
            "         109       0.00      0.00      0.00         9\n",
            "         110       0.00      0.00      0.00        13\n",
            "         111       0.00      0.00      0.00         8\n",
            "         112       0.00      0.00      0.00         7\n",
            "         113       0.00      0.00      0.00        11\n",
            "         114       0.00      0.00      0.00         8\n",
            "         115       0.00      0.00      0.00         6\n",
            "         116       0.00      0.00      0.00         3\n",
            "         117       0.00      0.00      0.00         7\n",
            "         118       0.00      0.00      0.00         7\n",
            "         119       0.00      0.00      0.00        11\n",
            "         120       0.00      0.00      0.00        10\n",
            "         121       0.00      0.00      0.00         9\n",
            "         122       0.00      0.00      0.00         5\n",
            "         123       0.00      0.00      0.00        10\n",
            "         124       0.00      0.00      0.00         7\n",
            "         125       0.00      0.00      0.00         3\n",
            "         126       0.00      0.00      0.00         8\n",
            "         127       0.00      0.00      0.00         6\n",
            "         128       0.00      0.00      0.00         6\n",
            "         129       0.00      0.00      0.00         5\n",
            "         130       0.00      0.00      0.00         7\n",
            "         131       0.00      0.00      0.00         8\n",
            "         132       0.00      0.00      0.00         1\n",
            "         133       0.00      0.00      0.00         6\n",
            "         134       0.00      0.00      0.00         5\n",
            "         135       0.00      0.00      0.00         5\n",
            "         136       0.00      0.00      0.00         2\n",
            "         137       0.00      0.00      0.00         2\n",
            "         138       0.00      0.00      0.00         7\n",
            "         139       0.00      0.00      0.00         5\n",
            "         140       0.00      0.00      0.00         4\n",
            "         141       0.00      0.00      0.00         2\n",
            "         143       0.00      0.00      0.00         5\n",
            "         144       0.00      0.00      0.00         2\n",
            "         145       0.00      0.00      0.00         5\n",
            "         146       0.00      0.00      0.00         1\n",
            "         147       0.00      0.00      0.00         7\n",
            "         148       0.00      0.00      0.00         6\n",
            "         149       0.00      0.00      0.00         3\n",
            "         150       0.00      0.00      0.00         5\n",
            "         151       0.00      0.00      0.00         1\n",
            "         152       0.00      0.00      0.00         4\n",
            "         153       0.00      0.00      0.00         4\n",
            "         154       0.00      0.00      0.00         3\n",
            "         155       0.00      0.00      0.00         3\n",
            "         156       0.00      0.00      0.00         4\n",
            "         157       0.00      0.00      0.00         3\n",
            "         158       0.00      0.00      0.00         5\n",
            "         159       0.00      0.00      0.00         3\n",
            "         160       0.00      0.00      0.00         3\n",
            "         161       0.00      0.00      0.00         4\n",
            "         162       0.00      0.00      0.00         4\n",
            "         163       0.00      0.00      0.00         2\n",
            "         164       0.00      0.00      0.00         4\n",
            "         165       0.00      0.00      0.00         7\n",
            "         166       0.00      0.00      0.00         1\n",
            "         167       0.00      0.00      0.00         5\n",
            "         168       0.00      0.00      0.00         4\n",
            "         169       0.00      0.00      0.00         3\n",
            "         170       0.00      0.00      0.00         1\n",
            "         171       0.00      0.00      0.00         1\n",
            "         172       0.00      0.00      0.00         4\n",
            "         173       0.00      0.00      0.00         2\n",
            "         174       0.00      0.00      0.00         2\n",
            "         176       0.00      0.00      0.00         2\n",
            "         177       0.00      0.00      0.00         2\n",
            "         178       0.00      0.00      0.00         1\n",
            "         179       0.00      0.00      0.00         1\n",
            "         181       0.00      0.00      0.00         3\n",
            "         182       0.00      0.00      0.00         2\n",
            "         183       0.00      0.00      0.00         2\n",
            "         184       0.00      0.00      0.00         2\n",
            "         185       0.00      0.00      0.00         3\n",
            "         188       0.00      0.00      0.00         2\n",
            "         189       0.00      0.00      0.00         2\n",
            "         190       0.00      0.00      0.00         1\n",
            "         191       0.00      0.00      0.00         3\n",
            "         192       0.00      0.00      0.00         2\n",
            "         193       0.00      0.00      0.00         3\n",
            "         194       0.00      0.00      0.00         2\n",
            "         195       0.00      0.00      0.00         1\n",
            "         198       0.00      0.00      0.00         2\n",
            "         200       0.00      0.00      0.00         1\n",
            "         203       0.00      0.00      0.00         2\n",
            "         204       0.00      0.00      0.00         2\n",
            "         205       0.00      0.00      0.00         1\n",
            "         206       0.00      0.00      0.00         3\n",
            "         207       0.00      0.00      0.00         2\n",
            "         208       0.00      0.00      0.00         1\n",
            "         209       0.00      0.00      0.00         1\n",
            "         212       0.00      0.00      0.00         1\n",
            "         213       0.00      0.00      0.00         3\n",
            "         214       0.00      0.00      0.00         4\n",
            "         215       0.00      0.00      0.00         4\n",
            "         216       0.00      0.00      0.00         3\n",
            "         217       0.00      0.00      0.00         1\n",
            "         218       0.00      0.00      0.00         2\n",
            "         220       0.00      0.00      0.00         2\n",
            "         221       0.00      0.00      0.00         3\n",
            "         222       0.00      0.00      0.00         1\n",
            "         223       0.00      0.00      0.00         3\n",
            "         224       0.00      0.00      0.00         2\n",
            "         226       0.00      0.00      0.00         1\n",
            "         227       0.00      0.00      0.00         1\n",
            "         230       0.00      0.00      0.00         1\n",
            "         231       0.00      0.00      0.00         5\n",
            "         232       0.00      0.00      0.00         1\n",
            "         233       0.00      0.00      0.00         1\n",
            "         235       0.00      0.00      0.00         2\n",
            "         238       0.00      0.00      0.00         1\n",
            "         241       0.00      0.00      0.00         1\n",
            "         244       0.00      0.00      0.00         1\n",
            "         245       0.00      0.00      0.00         1\n",
            "         251       0.00      0.00      0.00         1\n",
            "         252       0.00      0.00      0.00         1\n",
            "         255       0.00      0.00      0.00         1\n",
            "         257       0.00      0.00      0.00         1\n",
            "         258       0.00      0.00      0.00         1\n",
            "         261       0.00      0.00      0.00         1\n",
            "         263       0.00      0.00      0.00         1\n",
            "         266       0.00      0.00      0.00         2\n",
            "         268       0.00      0.00      0.00         1\n",
            "         273       0.00      0.00      0.00         1\n",
            "         275       0.00      0.00      0.00         1\n",
            "         278       0.00      0.00      0.00         2\n",
            "         279       0.00      0.00      0.00         1\n",
            "         282       0.00      0.00      0.00         1\n",
            "         283       0.00      0.00      0.00         1\n",
            "         284       0.00      0.00      0.00         1\n",
            "         288       0.00      0.00      0.00         1\n",
            "         290       0.00      0.00      0.00         1\n",
            "         292       0.00      0.00      0.00         1\n",
            "         294       0.00      0.00      0.00         2\n",
            "         303       0.00      0.00      0.00         1\n",
            "         316       0.00      0.00      0.00         1\n",
            "         318       0.00      0.00      0.00         1\n",
            "         320       0.00      0.00      0.00         1\n",
            "         323       0.00      0.00      0.00         1\n",
            "         326       0.00      0.00      0.00         2\n",
            "         327       0.00      0.00      0.00         1\n",
            "         331       0.00      0.00      0.00         1\n",
            "         333       0.00      0.00      0.00         1\n",
            "         335       0.00      0.00      0.00         1\n",
            "         340       0.00      0.00      0.00         1\n",
            "         343       0.00      0.00      0.00         1\n",
            "         345       0.00      0.00      0.00         1\n",
            "         353       0.00      0.00      0.00         1\n",
            "         358       0.00      0.00      0.00         2\n",
            "         363       0.00      0.00      0.00         1\n",
            "         370       0.00      0.00      0.00         1\n",
            "         373       0.00      0.00      0.00         1\n",
            "         383       0.00      0.00      0.00         1\n",
            "         384       0.00      0.00      0.00         1\n",
            "         392       0.00      0.00      0.00         1\n",
            "         393       0.00      0.00      0.00         1\n",
            "         399       0.00      0.00      0.00         1\n",
            "         410       0.00      0.00      0.00         1\n",
            "         419       0.00      0.00      0.00         1\n",
            "         429       0.00      0.00      0.00         1\n",
            "         431       0.00      0.00      0.00         1\n",
            "         433       0.00      0.00      0.00         1\n",
            "         436       0.00      0.00      0.00         1\n",
            "         438       0.00      0.00      0.00         1\n",
            "         440       0.00      0.00      0.00         1\n",
            "         446       0.00      0.00      0.00         1\n",
            "         447       0.00      0.00      0.00         1\n",
            "         452       0.00      0.00      0.00         1\n",
            "         465       0.00      0.00      0.00         1\n",
            "         498       0.00      0.00      0.00         1\n",
            "         500       0.00      0.00      0.00         1\n",
            "         507       0.00      0.00      0.00         1\n",
            "         515       0.00      0.00      0.00         1\n",
            "         534       0.00      0.00      0.00         1\n",
            "         550       0.00      0.00      0.00         1\n",
            "         576       0.00      0.00      0.00         1\n",
            "         607       0.00      0.00      0.00         1\n",
            "         616       0.00      0.00      0.00         1\n",
            "         635       0.00      0.00      0.00         1\n",
            "         660       0.00      0.00      0.00         1\n",
            "         667       0.00      0.00      0.00         1\n",
            "         693       0.00      0.00      0.00         1\n",
            "         704       0.00      0.00      0.00         1\n",
            "         707       0.00      0.00      0.00         1\n",
            "         711       0.00      0.00      0.00         1\n",
            "         715       0.00      0.00      0.00         1\n",
            "         724       0.00      0.00      0.00         1\n",
            "         744       0.00      0.00      0.00         1\n",
            "         753       0.00      0.00      0.00         1\n",
            "         756       0.00      0.00      0.00         1\n",
            "         763       0.00      0.00      0.00         1\n",
            "         803       0.00      0.00      0.00         1\n",
            "         815       0.00      0.00      0.00         1\n",
            "         821       0.00      0.00      0.00         1\n",
            "         877       0.00      0.00      0.00         1\n",
            "         918       0.00      0.00      0.00         1\n",
            "         919       0.00      0.00      0.00         1\n",
            "         995       0.00      0.00      0.00         1\n",
            "        1047       0.00      0.00      0.00         1\n",
            "        1126       0.00      0.00      0.00         1\n",
            "        1254       0.00      0.00      0.00         1\n",
            "        1283       0.00      0.00      0.00         1\n",
            "        1402       0.00      0.00      0.00         1\n",
            "        1513       0.00      0.00      0.00         1\n",
            "        1682       0.00      0.00      0.00         1\n",
            "        1776       0.00      0.00      0.00         1\n",
            "        1830       0.00      0.00      0.00         1\n",
            "        2137       0.00      0.00      0.00         1\n",
            "        2250       0.00      0.00      0.00         1\n",
            "        2670       0.00      0.00      0.00         1\n",
            "        3297       0.00      0.00      0.00         1\n",
            "        6496       0.00      0.00      0.00         1\n",
            "\n",
            "    accuracy                           0.29     12213\n",
            "   macro avg       0.00      0.00      0.00     12213\n",
            "weighted avg       0.09      0.29      0.13     12213\n",
            "\n"
          ]
        },
        {
          "output_type": "stream",
          "name": "stderr",
          "text": [
            "/usr/local/lib/python3.7/dist-packages/sklearn/metrics/_classification.py:1308: UndefinedMetricWarning: Precision and F-score are ill-defined and being set to 0.0 in labels with no predicted samples. Use `zero_division` parameter to control this behavior.\n",
            "  _warn_prf(average, modifier, msg_start, len(result))\n",
            "/usr/local/lib/python3.7/dist-packages/sklearn/metrics/_classification.py:1308: UndefinedMetricWarning: Precision and F-score are ill-defined and being set to 0.0 in labels with no predicted samples. Use `zero_division` parameter to control this behavior.\n",
            "  _warn_prf(average, modifier, msg_start, len(result))\n",
            "/usr/local/lib/python3.7/dist-packages/sklearn/metrics/_classification.py:1308: UndefinedMetricWarning: Precision and F-score are ill-defined and being set to 0.0 in labels with no predicted samples. Use `zero_division` parameter to control this behavior.\n",
            "  _warn_prf(average, modifier, msg_start, len(result))\n"
          ]
        }
      ]
    },
    {
      "cell_type": "code",
      "source": [
        "y_pred_prob = modelo.predict_proba(X_test)[:,1]"
      ],
      "metadata": {
        "id": "lrwu7MIGTW0F"
      },
      "execution_count": 52,
      "outputs": []
    },
    {
      "cell_type": "code",
      "source": [
        "fpr, tpr, thresholds = roc_curve(y_test, y_pred_prob)"
      ],
      "metadata": {
        "id": "S-BWnrl1Tc2M",
        "outputId": "389b9f60-6b7f-42b9-baeb-f0dd725077e9",
        "colab": {
          "base_uri": "https://localhost:8080/",
          "height": 322
        }
      },
      "execution_count": 53,
      "outputs": [
        {
          "output_type": "error",
          "ename": "ValueError",
          "evalue": "ignored",
          "traceback": [
            "\u001b[0;31m---------------------------------------------------------------------------\u001b[0m",
            "\u001b[0;31mValueError\u001b[0m                                Traceback (most recent call last)",
            "\u001b[0;32m<ipython-input-53-271b10144c89>\u001b[0m in \u001b[0;36m<module>\u001b[0;34m()\u001b[0m\n\u001b[0;32m----> 1\u001b[0;31m \u001b[0mfpr\u001b[0m\u001b[0;34m,\u001b[0m \u001b[0mtpr\u001b[0m\u001b[0;34m,\u001b[0m \u001b[0mthresholds\u001b[0m \u001b[0;34m=\u001b[0m \u001b[0mroc_curve\u001b[0m\u001b[0;34m(\u001b[0m\u001b[0my_test\u001b[0m\u001b[0;34m,\u001b[0m \u001b[0my_pred_prob\u001b[0m\u001b[0;34m)\u001b[0m\u001b[0;34m\u001b[0m\u001b[0;34m\u001b[0m\u001b[0m\n\u001b[0m",
            "\u001b[0;32m/usr/local/lib/python3.7/dist-packages/sklearn/metrics/_ranking.py\u001b[0m in \u001b[0;36mroc_curve\u001b[0;34m(y_true, y_score, pos_label, sample_weight, drop_intermediate)\u001b[0m\n\u001b[1;32m    961\u001b[0m     \"\"\"\n\u001b[1;32m    962\u001b[0m     fps, tps, thresholds = _binary_clf_curve(\n\u001b[0;32m--> 963\u001b[0;31m         \u001b[0my_true\u001b[0m\u001b[0;34m,\u001b[0m \u001b[0my_score\u001b[0m\u001b[0;34m,\u001b[0m \u001b[0mpos_label\u001b[0m\u001b[0;34m=\u001b[0m\u001b[0mpos_label\u001b[0m\u001b[0;34m,\u001b[0m \u001b[0msample_weight\u001b[0m\u001b[0;34m=\u001b[0m\u001b[0msample_weight\u001b[0m\u001b[0;34m\u001b[0m\u001b[0;34m\u001b[0m\u001b[0m\n\u001b[0m\u001b[1;32m    964\u001b[0m     )\n\u001b[1;32m    965\u001b[0m \u001b[0;34m\u001b[0m\u001b[0m\n",
            "\u001b[0;32m/usr/local/lib/python3.7/dist-packages/sklearn/metrics/_ranking.py\u001b[0m in \u001b[0;36m_binary_clf_curve\u001b[0;34m(y_true, y_score, pos_label, sample_weight)\u001b[0m\n\u001b[1;32m    729\u001b[0m     \u001b[0my_type\u001b[0m \u001b[0;34m=\u001b[0m \u001b[0mtype_of_target\u001b[0m\u001b[0;34m(\u001b[0m\u001b[0my_true\u001b[0m\u001b[0;34m)\u001b[0m\u001b[0;34m\u001b[0m\u001b[0;34m\u001b[0m\u001b[0m\n\u001b[1;32m    730\u001b[0m     \u001b[0;32mif\u001b[0m \u001b[0;32mnot\u001b[0m \u001b[0;34m(\u001b[0m\u001b[0my_type\u001b[0m \u001b[0;34m==\u001b[0m \u001b[0;34m\"binary\"\u001b[0m \u001b[0;32mor\u001b[0m \u001b[0;34m(\u001b[0m\u001b[0my_type\u001b[0m \u001b[0;34m==\u001b[0m \u001b[0;34m\"multiclass\"\u001b[0m \u001b[0;32mand\u001b[0m \u001b[0mpos_label\u001b[0m \u001b[0;32mis\u001b[0m \u001b[0;32mnot\u001b[0m \u001b[0;32mNone\u001b[0m\u001b[0;34m)\u001b[0m\u001b[0;34m)\u001b[0m\u001b[0;34m:\u001b[0m\u001b[0;34m\u001b[0m\u001b[0;34m\u001b[0m\u001b[0m\n\u001b[0;32m--> 731\u001b[0;31m         \u001b[0;32mraise\u001b[0m \u001b[0mValueError\u001b[0m\u001b[0;34m(\u001b[0m\u001b[0;34m\"{0} format is not supported\"\u001b[0m\u001b[0;34m.\u001b[0m\u001b[0mformat\u001b[0m\u001b[0;34m(\u001b[0m\u001b[0my_type\u001b[0m\u001b[0;34m)\u001b[0m\u001b[0;34m)\u001b[0m\u001b[0;34m\u001b[0m\u001b[0;34m\u001b[0m\u001b[0m\n\u001b[0m\u001b[1;32m    732\u001b[0m \u001b[0;34m\u001b[0m\u001b[0m\n\u001b[1;32m    733\u001b[0m     \u001b[0mcheck_consistent_length\u001b[0m\u001b[0;34m(\u001b[0m\u001b[0my_true\u001b[0m\u001b[0;34m,\u001b[0m \u001b[0my_score\u001b[0m\u001b[0;34m,\u001b[0m \u001b[0msample_weight\u001b[0m\u001b[0;34m)\u001b[0m\u001b[0;34m\u001b[0m\u001b[0;34m\u001b[0m\u001b[0m\n",
            "\u001b[0;31mValueError\u001b[0m: multiclass format is not supported"
          ]
        }
      ]
    }
  ]
}