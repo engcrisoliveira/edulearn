{
  "nbformat": 4,
  "nbformat_minor": 0,
  "metadata": {
    "colab": {
      "name": "clustering2.ipynb",
      "provenance": [],
      "collapsed_sections": [],
      "toc_visible": true,
      "authorship_tag": "ABX9TyN1iurL7A5KQEyo3vbkczBj",
      "include_colab_link": true
    },
    "kernelspec": {
      "name": "python3",
      "display_name": "Python 3"
    },
    "language_info": {
      "name": "python"
    }
  },
  "cells": [
    {
      "cell_type": "markdown",
      "metadata": {
        "id": "view-in-github",
        "colab_type": "text"
      },
      "source": [
        "<a href=\"https://colab.research.google.com/github/roxacarv/edulearn/blob/main/clustering2.ipynb\" target=\"_parent\"><img src=\"https://colab.research.google.com/assets/colab-badge.svg\" alt=\"Open In Colab\"/></a>"
      ]
    },
    {
      "cell_type": "markdown",
      "metadata": {
        "id": "yMfEMPfbY-rx"
      },
      "source": [
        "#Edulearn - Clustering\n",
        "##IES\n",
        "---\n",
        "\n",
        "\n",
        "\n",
        "---"
      ]
    },
    {
      "cell_type": "code",
      "metadata": {
        "id": "PraEvtneZB6X"
      },
      "source": [
        "#Importando as bibliotecas\n",
        "import pandas as pd\n",
        "import matplotlib.pyplot as plt\n",
        "import plotly.graph_objects as go\n",
        "import seaborn as sns\n",
        "import numpy as np\n",
        "from sklearn.cluster import KMeans\n",
        "from sklearn.metrics import silhouette_score"
      ],
      "execution_count": 89,
      "outputs": []
    },
    {
      "cell_type": "markdown",
      "metadata": {
        "id": "68k061kKmu7v"
      },
      "source": [
        "## 1.Dados IES - INEP"
      ]
    },
    {
      "cell_type": "markdown",
      "metadata": {
        "id": "Y2LaAcaZuG2u"
      },
      "source": [
        "###1.1.Índice Geral dos Cursos (IGC)"
      ]
    },
    {
      "cell_type": "markdown",
      "metadata": {
        "id": "bzuRngkjdvHz"
      },
      "source": [
        " Índice referente à qualidade dos cursos, com resultado do desempenho das instituições de ensino superior do país"
      ]
    },
    {
      "cell_type": "code",
      "metadata": {
        "colab": {
          "base_uri": "https://localhost:8080/",
          "height": 206
        },
        "id": "ScWeqK1VshsW",
        "outputId": "bc266e7f-8d97-4747-8897-a48242054c1d"
      },
      "source": [
        "#Indicadores de Qualidade da Educação Superior (INEP)\n",
        "ies_igc = pd.read_excel('IGC_2019.xlsx', usecols=[1, 9, 14])\n",
        "ies_igc.head()"
      ],
      "execution_count": 90,
      "outputs": [
        {
          "output_type": "execute_result",
          "data": {
            "text/html": [
              "<div>\n",
              "<style scoped>\n",
              "    .dataframe tbody tr th:only-of-type {\n",
              "        vertical-align: middle;\n",
              "    }\n",
              "\n",
              "    .dataframe tbody tr th {\n",
              "        vertical-align: top;\n",
              "    }\n",
              "\n",
              "    .dataframe thead th {\n",
              "        text-align: right;\n",
              "    }\n",
              "</style>\n",
              "<table border=\"1\" class=\"dataframe\">\n",
              "  <thead>\n",
              "    <tr style=\"text-align: right;\">\n",
              "      <th></th>\n",
              "      <th>Código da IES</th>\n",
              "      <th>Conceito Médio de Graduação</th>\n",
              "      <th>IGC (Contínuo)</th>\n",
              "    </tr>\n",
              "  </thead>\n",
              "  <tbody>\n",
              "    <tr>\n",
              "      <th>0</th>\n",
              "      <td>1</td>\n",
              "      <td>2.924962</td>\n",
              "      <td>3.236518</td>\n",
              "    </tr>\n",
              "    <tr>\n",
              "      <th>1</th>\n",
              "      <td>2</td>\n",
              "      <td>3.269586</td>\n",
              "      <td>3.941659</td>\n",
              "    </tr>\n",
              "    <tr>\n",
              "      <th>2</th>\n",
              "      <td>3</td>\n",
              "      <td>3.105500</td>\n",
              "      <td>3.367594</td>\n",
              "    </tr>\n",
              "    <tr>\n",
              "      <th>3</th>\n",
              "      <td>4</td>\n",
              "      <td>2.821851</td>\n",
              "      <td>3.048187</td>\n",
              "    </tr>\n",
              "    <tr>\n",
              "      <th>4</th>\n",
              "      <td>5</td>\n",
              "      <td>2.713283</td>\n",
              "      <td>2.960657</td>\n",
              "    </tr>\n",
              "  </tbody>\n",
              "</table>\n",
              "</div>"
            ],
            "text/plain": [
              "    Código da IES   Conceito Médio de Graduação   IGC (Contínuo)\n",
              "0               1                      2.924962         3.236518\n",
              "1               2                      3.269586         3.941659\n",
              "2               3                      3.105500         3.367594\n",
              "3               4                      2.821851         3.048187\n",
              "4               5                      2.713283         2.960657"
            ]
          },
          "metadata": {},
          "execution_count": 90
        }
      ]
    },
    {
      "cell_type": "code",
      "metadata": {
        "colab": {
          "base_uri": "https://localhost:8080/"
        },
        "id": "POtNTIY9v4iH",
        "outputId": "e4f8c266-1863-4ae8-8080-a0366e9ddde5"
      },
      "source": [
        "ies_igc.columns"
      ],
      "execution_count": 91,
      "outputs": [
        {
          "output_type": "execute_result",
          "data": {
            "text/plain": [
              "Index([' Código da IES', ' Conceito Médio de Graduação', ' IGC (Contínuo)'], dtype='object')"
            ]
          },
          "metadata": {},
          "execution_count": 91
        }
      ]
    },
    {
      "cell_type": "code",
      "metadata": {
        "colab": {
          "base_uri": "https://localhost:8080/",
          "height": 206
        },
        "id": "0PclshufukUZ",
        "outputId": "b19d54b5-b4a9-40c9-a399-aab371d9992c"
      },
      "source": [
        "#Renomeando as colunas\n",
        "ies_igc = ies_igc.rename(columns={\n",
        "    ' Código da IES':'cod_ies',\n",
        "    ' Conceito Médio de Graduação':'conceito_medio_graduacao',\n",
        "    ' IGC (Contínuo)':'igc_continuo',\n",
        "    })\n",
        "ies_igc.head()"
      ],
      "execution_count": 92,
      "outputs": [
        {
          "output_type": "execute_result",
          "data": {
            "text/html": [
              "<div>\n",
              "<style scoped>\n",
              "    .dataframe tbody tr th:only-of-type {\n",
              "        vertical-align: middle;\n",
              "    }\n",
              "\n",
              "    .dataframe tbody tr th {\n",
              "        vertical-align: top;\n",
              "    }\n",
              "\n",
              "    .dataframe thead th {\n",
              "        text-align: right;\n",
              "    }\n",
              "</style>\n",
              "<table border=\"1\" class=\"dataframe\">\n",
              "  <thead>\n",
              "    <tr style=\"text-align: right;\">\n",
              "      <th></th>\n",
              "      <th>cod_ies</th>\n",
              "      <th>conceito_medio_graduacao</th>\n",
              "      <th>igc_continuo</th>\n",
              "    </tr>\n",
              "  </thead>\n",
              "  <tbody>\n",
              "    <tr>\n",
              "      <th>0</th>\n",
              "      <td>1</td>\n",
              "      <td>2.924962</td>\n",
              "      <td>3.236518</td>\n",
              "    </tr>\n",
              "    <tr>\n",
              "      <th>1</th>\n",
              "      <td>2</td>\n",
              "      <td>3.269586</td>\n",
              "      <td>3.941659</td>\n",
              "    </tr>\n",
              "    <tr>\n",
              "      <th>2</th>\n",
              "      <td>3</td>\n",
              "      <td>3.105500</td>\n",
              "      <td>3.367594</td>\n",
              "    </tr>\n",
              "    <tr>\n",
              "      <th>3</th>\n",
              "      <td>4</td>\n",
              "      <td>2.821851</td>\n",
              "      <td>3.048187</td>\n",
              "    </tr>\n",
              "    <tr>\n",
              "      <th>4</th>\n",
              "      <td>5</td>\n",
              "      <td>2.713283</td>\n",
              "      <td>2.960657</td>\n",
              "    </tr>\n",
              "  </tbody>\n",
              "</table>\n",
              "</div>"
            ],
            "text/plain": [
              "   cod_ies  conceito_medio_graduacao  igc_continuo\n",
              "0        1                  2.924962      3.236518\n",
              "1        2                  3.269586      3.941659\n",
              "2        3                  3.105500      3.367594\n",
              "3        4                  2.821851      3.048187\n",
              "4        5                  2.713283      2.960657"
            ]
          },
          "metadata": {},
          "execution_count": 92
        }
      ]
    },
    {
      "cell_type": "markdown",
      "metadata": {
        "id": "kYygOgdJxkgV"
      },
      "source": [
        "### 1.2.Receitas das IES"
      ]
    },
    {
      "cell_type": "code",
      "metadata": {
        "colab": {
          "base_uri": "https://localhost:8080/",
          "height": 163
        },
        "id": "HOoB8sQgZLKi",
        "outputId": "b61d2771-4c32-4771-d696-1022ebef298e"
      },
      "source": [
        "ies_receitas = pd.read_csv('SUP_IES_2019.CSV', sep='|', encoding='latin1', usecols=['CO_IES','TP_CATEGORIA_ADMINISTRATIVA', 'VL_RECEITA_PROPRIA','VL_RECEITA_TRANSFERENCIA','VL_RECEITA_OUTRA','VL_DESPESA_PESSOAL_DOCENTE','VL_DESPESA_PESSOAL_TECNICO','VL_DESPESA_PESSOAL_ENCARGO','VL_DESPESA_CUSTEIO','VL_DESPESA_INVESTIMENTO','VL_DESPESA_PESQUISA','VL_DESPESA_OUTRA'])\n",
        "ies_receitas.head(3)"
      ],
      "execution_count": 93,
      "outputs": [
        {
          "output_type": "execute_result",
          "data": {
            "text/html": [
              "<div>\n",
              "<style scoped>\n",
              "    .dataframe tbody tr th:only-of-type {\n",
              "        vertical-align: middle;\n",
              "    }\n",
              "\n",
              "    .dataframe tbody tr th {\n",
              "        vertical-align: top;\n",
              "    }\n",
              "\n",
              "    .dataframe thead th {\n",
              "        text-align: right;\n",
              "    }\n",
              "</style>\n",
              "<table border=\"1\" class=\"dataframe\">\n",
              "  <thead>\n",
              "    <tr style=\"text-align: right;\">\n",
              "      <th></th>\n",
              "      <th>CO_IES</th>\n",
              "      <th>TP_CATEGORIA_ADMINISTRATIVA</th>\n",
              "      <th>VL_RECEITA_PROPRIA</th>\n",
              "      <th>VL_RECEITA_TRANSFERENCIA</th>\n",
              "      <th>VL_RECEITA_OUTRA</th>\n",
              "      <th>VL_DESPESA_PESSOAL_DOCENTE</th>\n",
              "      <th>VL_DESPESA_PESSOAL_TECNICO</th>\n",
              "      <th>VL_DESPESA_PESSOAL_ENCARGO</th>\n",
              "      <th>VL_DESPESA_CUSTEIO</th>\n",
              "      <th>VL_DESPESA_INVESTIMENTO</th>\n",
              "      <th>VL_DESPESA_PESQUISA</th>\n",
              "      <th>VL_DESPESA_OUTRA</th>\n",
              "    </tr>\n",
              "  </thead>\n",
              "  <tbody>\n",
              "    <tr>\n",
              "      <th>0</th>\n",
              "      <td>1</td>\n",
              "      <td>1</td>\n",
              "      <td>8075408.31</td>\n",
              "      <td>9.190156e+08</td>\n",
              "      <td>0.00</td>\n",
              "      <td>2.737906e+08</td>\n",
              "      <td>1.089490e+08</td>\n",
              "      <td>1.050124e+08</td>\n",
              "      <td>1.225790e+08</td>\n",
              "      <td>9606414.13</td>\n",
              "      <td>2512494.15</td>\n",
              "      <td>3.046410e+08</td>\n",
              "    </tr>\n",
              "    <tr>\n",
              "      <th>1</th>\n",
              "      <td>2</td>\n",
              "      <td>1</td>\n",
              "      <td>42309485.04</td>\n",
              "      <td>6.376632e+07</td>\n",
              "      <td>53681013.45</td>\n",
              "      <td>8.438613e+08</td>\n",
              "      <td>0.000000e+00</td>\n",
              "      <td>2.873756e+08</td>\n",
              "      <td>2.102659e+08</td>\n",
              "      <td>23154904.42</td>\n",
              "      <td>10350582.30</td>\n",
              "      <td>4.738549e+08</td>\n",
              "    </tr>\n",
              "    <tr>\n",
              "      <th>2</th>\n",
              "      <td>3</td>\n",
              "      <td>1</td>\n",
              "      <td>2064512.28</td>\n",
              "      <td>8.836851e+08</td>\n",
              "      <td>59978137.27</td>\n",
              "      <td>2.847694e+08</td>\n",
              "      <td>1.533374e+08</td>\n",
              "      <td>1.080347e+08</td>\n",
              "      <td>1.491604e+08</td>\n",
              "      <td>8212361.64</td>\n",
              "      <td>1445146.30</td>\n",
              "      <td>3.204186e+08</td>\n",
              "    </tr>\n",
              "  </tbody>\n",
              "</table>\n",
              "</div>"
            ],
            "text/plain": [
              "   CO_IES  TP_CATEGORIA_ADMINISTRATIVA  ...  VL_DESPESA_PESQUISA  VL_DESPESA_OUTRA\n",
              "0       1                            1  ...           2512494.15      3.046410e+08\n",
              "1       2                            1  ...          10350582.30      4.738549e+08\n",
              "2       3                            1  ...           1445146.30      3.204186e+08\n",
              "\n",
              "[3 rows x 12 columns]"
            ]
          },
          "metadata": {},
          "execution_count": 93
        }
      ]
    },
    {
      "cell_type": "code",
      "metadata": {
        "colab": {
          "base_uri": "https://localhost:8080/",
          "height": 226
        },
        "id": "gNZyZJtpzbuM",
        "outputId": "15be5127-e843-4489-957a-7e51693be741"
      },
      "source": [
        "#Renomeando as colunas\n",
        "ies_receitas = ies_receitas.rename(columns={\n",
        "    'CO_IES':'cod_ies',\n",
        "    'TP_CATEGORIA_ADMINISTRATIVA':'categoria_administrativa',\n",
        "    'VL_RECEITA_PROPRIA':'receita_propria',\n",
        "    'VL_RECEITA_TRANSFERENCIA':'receita_transferencia',\n",
        "    'VL_RECEITA_OUTRA':'receita_outra',\n",
        "    'VL_DESPESA_PESSOAL_DOCENTE':'despesa_pessoal_docente',\n",
        "    'VL_DESPESA_PESSOAL_TECNICO':'despesa_pessoal_tecnico',\n",
        "    'VL_DESPESA_PESSOAL_ENCARGO':'despesa_pessoal_encargo',\n",
        "    'VL_DESPESA_CUSTEIO':'despesa_custeio',\n",
        "    'VL_DESPESA_INVESTIMENTO':'despesa_investimento',\n",
        "    'VL_DESPESA_PESQUISA':'despesa_pesquisa',\n",
        "    'VL_DESPESA_OUTRA':'despesa_outra',\n",
        "    })\n",
        "ies_receitas.head()"
      ],
      "execution_count": 94,
      "outputs": [
        {
          "output_type": "execute_result",
          "data": {
            "text/html": [
              "<div>\n",
              "<style scoped>\n",
              "    .dataframe tbody tr th:only-of-type {\n",
              "        vertical-align: middle;\n",
              "    }\n",
              "\n",
              "    .dataframe tbody tr th {\n",
              "        vertical-align: top;\n",
              "    }\n",
              "\n",
              "    .dataframe thead th {\n",
              "        text-align: right;\n",
              "    }\n",
              "</style>\n",
              "<table border=\"1\" class=\"dataframe\">\n",
              "  <thead>\n",
              "    <tr style=\"text-align: right;\">\n",
              "      <th></th>\n",
              "      <th>cod_ies</th>\n",
              "      <th>categoria_administrativa</th>\n",
              "      <th>receita_propria</th>\n",
              "      <th>receita_transferencia</th>\n",
              "      <th>receita_outra</th>\n",
              "      <th>despesa_pessoal_docente</th>\n",
              "      <th>despesa_pessoal_tecnico</th>\n",
              "      <th>despesa_pessoal_encargo</th>\n",
              "      <th>despesa_custeio</th>\n",
              "      <th>despesa_investimento</th>\n",
              "      <th>despesa_pesquisa</th>\n",
              "      <th>despesa_outra</th>\n",
              "    </tr>\n",
              "  </thead>\n",
              "  <tbody>\n",
              "    <tr>\n",
              "      <th>0</th>\n",
              "      <td>1</td>\n",
              "      <td>1</td>\n",
              "      <td>8075408.31</td>\n",
              "      <td>9.190156e+08</td>\n",
              "      <td>0.00</td>\n",
              "      <td>2.737906e+08</td>\n",
              "      <td>1.089490e+08</td>\n",
              "      <td>1.050124e+08</td>\n",
              "      <td>1.225790e+08</td>\n",
              "      <td>9606414.13</td>\n",
              "      <td>2512494.15</td>\n",
              "      <td>3.046410e+08</td>\n",
              "    </tr>\n",
              "    <tr>\n",
              "      <th>1</th>\n",
              "      <td>2</td>\n",
              "      <td>1</td>\n",
              "      <td>42309485.04</td>\n",
              "      <td>6.376632e+07</td>\n",
              "      <td>53681013.45</td>\n",
              "      <td>8.438613e+08</td>\n",
              "      <td>0.000000e+00</td>\n",
              "      <td>2.873756e+08</td>\n",
              "      <td>2.102659e+08</td>\n",
              "      <td>23154904.42</td>\n",
              "      <td>10350582.30</td>\n",
              "      <td>4.738549e+08</td>\n",
              "    </tr>\n",
              "    <tr>\n",
              "      <th>2</th>\n",
              "      <td>3</td>\n",
              "      <td>1</td>\n",
              "      <td>2064512.28</td>\n",
              "      <td>8.836851e+08</td>\n",
              "      <td>59978137.27</td>\n",
              "      <td>2.847694e+08</td>\n",
              "      <td>1.533374e+08</td>\n",
              "      <td>1.080347e+08</td>\n",
              "      <td>1.491604e+08</td>\n",
              "      <td>8212361.64</td>\n",
              "      <td>1445146.30</td>\n",
              "      <td>3.204186e+08</td>\n",
              "    </tr>\n",
              "    <tr>\n",
              "      <th>3</th>\n",
              "      <td>4</td>\n",
              "      <td>1</td>\n",
              "      <td>5603181.06</td>\n",
              "      <td>1.063315e+09</td>\n",
              "      <td>1721653.86</td>\n",
              "      <td>4.482062e+08</td>\n",
              "      <td>0.000000e+00</td>\n",
              "      <td>1.322010e+08</td>\n",
              "      <td>1.839712e+08</td>\n",
              "      <td>12676251.59</td>\n",
              "      <td>1312837.53</td>\n",
              "      <td>6.845330e+07</td>\n",
              "    </tr>\n",
              "    <tr>\n",
              "      <th>4</th>\n",
              "      <td>6</td>\n",
              "      <td>1</td>\n",
              "      <td>5905654.74</td>\n",
              "      <td>4.992185e+08</td>\n",
              "      <td>30461740.62</td>\n",
              "      <td>1.691617e+08</td>\n",
              "      <td>5.899877e+07</td>\n",
              "      <td>4.092087e+07</td>\n",
              "      <td>4.907550e+07</td>\n",
              "      <td>73345.77</td>\n",
              "      <td>828200.00</td>\n",
              "      <td>2.165275e+08</td>\n",
              "    </tr>\n",
              "  </tbody>\n",
              "</table>\n",
              "</div>"
            ],
            "text/plain": [
              "   cod_ies  categoria_administrativa  ...  despesa_pesquisa  despesa_outra\n",
              "0        1                         1  ...        2512494.15   3.046410e+08\n",
              "1        2                         1  ...       10350582.30   4.738549e+08\n",
              "2        3                         1  ...        1445146.30   3.204186e+08\n",
              "3        4                         1  ...        1312837.53   6.845330e+07\n",
              "4        6                         1  ...         828200.00   2.165275e+08\n",
              "\n",
              "[5 rows x 12 columns]"
            ]
          },
          "metadata": {},
          "execution_count": 94
        }
      ]
    },
    {
      "cell_type": "code",
      "metadata": {
        "colab": {
          "base_uri": "https://localhost:8080/",
          "height": 226
        },
        "id": "mzbEybVN1D1O",
        "outputId": "8f56893b-74f2-43fc-c862-bd3465c262f6"
      },
      "source": [
        "#Inserindo colunas com total de receitas e de despesas\n",
        "ies_receitas['receitas'] = ies_receitas['receita_propria'] + ies_receitas['receita_transferencia'] + ies_receitas['receita_outra']\n",
        "ies_receitas['despesas'] = ies_receitas['despesa_pessoal_docente'] + ies_receitas['despesa_pessoal_tecnico'] + ies_receitas['despesa_pessoal_encargo'] + ies_receitas['despesa_custeio'] + ies_receitas['despesa_investimento'] + ies_receitas['despesa_pesquisa'] + ies_receitas['despesa_outra']\n",
        "ies_receitas.head()"
      ],
      "execution_count": 95,
      "outputs": [
        {
          "output_type": "execute_result",
          "data": {
            "text/html": [
              "<div>\n",
              "<style scoped>\n",
              "    .dataframe tbody tr th:only-of-type {\n",
              "        vertical-align: middle;\n",
              "    }\n",
              "\n",
              "    .dataframe tbody tr th {\n",
              "        vertical-align: top;\n",
              "    }\n",
              "\n",
              "    .dataframe thead th {\n",
              "        text-align: right;\n",
              "    }\n",
              "</style>\n",
              "<table border=\"1\" class=\"dataframe\">\n",
              "  <thead>\n",
              "    <tr style=\"text-align: right;\">\n",
              "      <th></th>\n",
              "      <th>cod_ies</th>\n",
              "      <th>categoria_administrativa</th>\n",
              "      <th>receita_propria</th>\n",
              "      <th>receita_transferencia</th>\n",
              "      <th>receita_outra</th>\n",
              "      <th>despesa_pessoal_docente</th>\n",
              "      <th>despesa_pessoal_tecnico</th>\n",
              "      <th>despesa_pessoal_encargo</th>\n",
              "      <th>despesa_custeio</th>\n",
              "      <th>despesa_investimento</th>\n",
              "      <th>despesa_pesquisa</th>\n",
              "      <th>despesa_outra</th>\n",
              "      <th>receitas</th>\n",
              "      <th>despesas</th>\n",
              "    </tr>\n",
              "  </thead>\n",
              "  <tbody>\n",
              "    <tr>\n",
              "      <th>0</th>\n",
              "      <td>1</td>\n",
              "      <td>1</td>\n",
              "      <td>8075408.31</td>\n",
              "      <td>9.190156e+08</td>\n",
              "      <td>0.00</td>\n",
              "      <td>2.737906e+08</td>\n",
              "      <td>1.089490e+08</td>\n",
              "      <td>1.050124e+08</td>\n",
              "      <td>1.225790e+08</td>\n",
              "      <td>9606414.13</td>\n",
              "      <td>2512494.15</td>\n",
              "      <td>3.046410e+08</td>\n",
              "      <td>9.270910e+08</td>\n",
              "      <td>9.270910e+08</td>\n",
              "    </tr>\n",
              "    <tr>\n",
              "      <th>1</th>\n",
              "      <td>2</td>\n",
              "      <td>1</td>\n",
              "      <td>42309485.04</td>\n",
              "      <td>6.376632e+07</td>\n",
              "      <td>53681013.45</td>\n",
              "      <td>8.438613e+08</td>\n",
              "      <td>0.000000e+00</td>\n",
              "      <td>2.873756e+08</td>\n",
              "      <td>2.102659e+08</td>\n",
              "      <td>23154904.42</td>\n",
              "      <td>10350582.30</td>\n",
              "      <td>4.738549e+08</td>\n",
              "      <td>1.597568e+08</td>\n",
              "      <td>1.848863e+09</td>\n",
              "    </tr>\n",
              "    <tr>\n",
              "      <th>2</th>\n",
              "      <td>3</td>\n",
              "      <td>1</td>\n",
              "      <td>2064512.28</td>\n",
              "      <td>8.836851e+08</td>\n",
              "      <td>59978137.27</td>\n",
              "      <td>2.847694e+08</td>\n",
              "      <td>1.533374e+08</td>\n",
              "      <td>1.080347e+08</td>\n",
              "      <td>1.491604e+08</td>\n",
              "      <td>8212361.64</td>\n",
              "      <td>1445146.30</td>\n",
              "      <td>3.204186e+08</td>\n",
              "      <td>9.457277e+08</td>\n",
              "      <td>1.025378e+09</td>\n",
              "    </tr>\n",
              "    <tr>\n",
              "      <th>3</th>\n",
              "      <td>4</td>\n",
              "      <td>1</td>\n",
              "      <td>5603181.06</td>\n",
              "      <td>1.063315e+09</td>\n",
              "      <td>1721653.86</td>\n",
              "      <td>4.482062e+08</td>\n",
              "      <td>0.000000e+00</td>\n",
              "      <td>1.322010e+08</td>\n",
              "      <td>1.839712e+08</td>\n",
              "      <td>12676251.59</td>\n",
              "      <td>1312837.53</td>\n",
              "      <td>6.845330e+07</td>\n",
              "      <td>1.070640e+09</td>\n",
              "      <td>8.468208e+08</td>\n",
              "    </tr>\n",
              "    <tr>\n",
              "      <th>4</th>\n",
              "      <td>6</td>\n",
              "      <td>1</td>\n",
              "      <td>5905654.74</td>\n",
              "      <td>4.992185e+08</td>\n",
              "      <td>30461740.62</td>\n",
              "      <td>1.691617e+08</td>\n",
              "      <td>5.899877e+07</td>\n",
              "      <td>4.092087e+07</td>\n",
              "      <td>4.907550e+07</td>\n",
              "      <td>73345.77</td>\n",
              "      <td>828200.00</td>\n",
              "      <td>2.165275e+08</td>\n",
              "      <td>5.355859e+08</td>\n",
              "      <td>5.355859e+08</td>\n",
              "    </tr>\n",
              "  </tbody>\n",
              "</table>\n",
              "</div>"
            ],
            "text/plain": [
              "   cod_ies  categoria_administrativa  ...      receitas      despesas\n",
              "0        1                         1  ...  9.270910e+08  9.270910e+08\n",
              "1        2                         1  ...  1.597568e+08  1.848863e+09\n",
              "2        3                         1  ...  9.457277e+08  1.025378e+09\n",
              "3        4                         1  ...  1.070640e+09  8.468208e+08\n",
              "4        6                         1  ...  5.355859e+08  5.355859e+08\n",
              "\n",
              "[5 rows x 14 columns]"
            ]
          },
          "metadata": {},
          "execution_count": 95
        }
      ]
    },
    {
      "cell_type": "code",
      "metadata": {
        "colab": {
          "base_uri": "https://localhost:8080/",
          "height": 206
        },
        "id": "DzvmlF7PWpd4",
        "outputId": "b50ce5b7-8490-4bd2-8309-bd42f3bedfeb"
      },
      "source": [
        "ies_receitas = ies_receitas[['cod_ies','categoria_administrativa','despesa_investimento','receitas']]\n",
        "ies_receitas.head()"
      ],
      "execution_count": 96,
      "outputs": [
        {
          "output_type": "execute_result",
          "data": {
            "text/html": [
              "<div>\n",
              "<style scoped>\n",
              "    .dataframe tbody tr th:only-of-type {\n",
              "        vertical-align: middle;\n",
              "    }\n",
              "\n",
              "    .dataframe tbody tr th {\n",
              "        vertical-align: top;\n",
              "    }\n",
              "\n",
              "    .dataframe thead th {\n",
              "        text-align: right;\n",
              "    }\n",
              "</style>\n",
              "<table border=\"1\" class=\"dataframe\">\n",
              "  <thead>\n",
              "    <tr style=\"text-align: right;\">\n",
              "      <th></th>\n",
              "      <th>cod_ies</th>\n",
              "      <th>categoria_administrativa</th>\n",
              "      <th>despesa_investimento</th>\n",
              "      <th>receitas</th>\n",
              "    </tr>\n",
              "  </thead>\n",
              "  <tbody>\n",
              "    <tr>\n",
              "      <th>0</th>\n",
              "      <td>1</td>\n",
              "      <td>1</td>\n",
              "      <td>9606414.13</td>\n",
              "      <td>9.270910e+08</td>\n",
              "    </tr>\n",
              "    <tr>\n",
              "      <th>1</th>\n",
              "      <td>2</td>\n",
              "      <td>1</td>\n",
              "      <td>23154904.42</td>\n",
              "      <td>1.597568e+08</td>\n",
              "    </tr>\n",
              "    <tr>\n",
              "      <th>2</th>\n",
              "      <td>3</td>\n",
              "      <td>1</td>\n",
              "      <td>8212361.64</td>\n",
              "      <td>9.457277e+08</td>\n",
              "    </tr>\n",
              "    <tr>\n",
              "      <th>3</th>\n",
              "      <td>4</td>\n",
              "      <td>1</td>\n",
              "      <td>12676251.59</td>\n",
              "      <td>1.070640e+09</td>\n",
              "    </tr>\n",
              "    <tr>\n",
              "      <th>4</th>\n",
              "      <td>6</td>\n",
              "      <td>1</td>\n",
              "      <td>73345.77</td>\n",
              "      <td>5.355859e+08</td>\n",
              "    </tr>\n",
              "  </tbody>\n",
              "</table>\n",
              "</div>"
            ],
            "text/plain": [
              "   cod_ies  categoria_administrativa  despesa_investimento      receitas\n",
              "0        1                         1            9606414.13  9.270910e+08\n",
              "1        2                         1           23154904.42  1.597568e+08\n",
              "2        3                         1            8212361.64  9.457277e+08\n",
              "3        4                         1           12676251.59  1.070640e+09\n",
              "4        6                         1              73345.77  5.355859e+08"
            ]
          },
          "metadata": {},
          "execution_count": 96
        }
      ]
    },
    {
      "cell_type": "markdown",
      "metadata": {
        "id": "ag0hCx5r2bVs"
      },
      "source": [
        "### 1.3.Recursos"
      ]
    },
    {
      "cell_type": "code",
      "metadata": {
        "colab": {
          "base_uri": "https://localhost:8080/",
          "height": 163
        },
        "id": "X7dZVoIf2fFm",
        "outputId": "94840853-bc50-4750-eb02-f2c6080048f3"
      },
      "source": [
        "#Contando a quantidade de recursos por curso\n",
        "ies_recursos = pd.read_csv('SUP_CURSO_2019.CSV', sep='|', encoding='latin1', usecols=['CO_IES', 'CO_CURSO', 'IN_MATERIAL_DIGITAL','IN_MATERIAL_AMPLIADO','IN_MATERIAL_TATIL','IN_MATERIAL_IMPRESSO','IN_MATERIAL_AUDIO','IN_MATERIAL_BRAILLE','IN_MATERIAL_LIBRAS','IN_DISCIPLINA_LIBRAS','IN_TRADUTOR_LIBRAS','IN_GUIA_INTERPRETE','IN_RECURSOS_COMUNICACAO','IN_RECURSOS_INFORMATICA' ])\n",
        "ies_recursos.head(3)"
      ],
      "execution_count": 97,
      "outputs": [
        {
          "output_type": "execute_result",
          "data": {
            "text/html": [
              "<div>\n",
              "<style scoped>\n",
              "    .dataframe tbody tr th:only-of-type {\n",
              "        vertical-align: middle;\n",
              "    }\n",
              "\n",
              "    .dataframe tbody tr th {\n",
              "        vertical-align: top;\n",
              "    }\n",
              "\n",
              "    .dataframe thead th {\n",
              "        text-align: right;\n",
              "    }\n",
              "</style>\n",
              "<table border=\"1\" class=\"dataframe\">\n",
              "  <thead>\n",
              "    <tr style=\"text-align: right;\">\n",
              "      <th></th>\n",
              "      <th>CO_IES</th>\n",
              "      <th>CO_CURSO</th>\n",
              "      <th>IN_MATERIAL_DIGITAL</th>\n",
              "      <th>IN_MATERIAL_AMPLIADO</th>\n",
              "      <th>IN_MATERIAL_TATIL</th>\n",
              "      <th>IN_MATERIAL_IMPRESSO</th>\n",
              "      <th>IN_MATERIAL_AUDIO</th>\n",
              "      <th>IN_MATERIAL_BRAILLE</th>\n",
              "      <th>IN_MATERIAL_LIBRAS</th>\n",
              "      <th>IN_DISCIPLINA_LIBRAS</th>\n",
              "      <th>IN_TRADUTOR_LIBRAS</th>\n",
              "      <th>IN_GUIA_INTERPRETE</th>\n",
              "      <th>IN_RECURSOS_COMUNICACAO</th>\n",
              "      <th>IN_RECURSOS_INFORMATICA</th>\n",
              "    </tr>\n",
              "  </thead>\n",
              "  <tbody>\n",
              "    <tr>\n",
              "      <th>0</th>\n",
              "      <td>1</td>\n",
              "      <td>1</td>\n",
              "      <td>0.0</td>\n",
              "      <td>0.0</td>\n",
              "      <td>0.0</td>\n",
              "      <td>0.0</td>\n",
              "      <td>0.0</td>\n",
              "      <td>0.0</td>\n",
              "      <td>0.0</td>\n",
              "      <td>1.0</td>\n",
              "      <td>0.0</td>\n",
              "      <td>0.0</td>\n",
              "      <td>0.0</td>\n",
              "      <td>0.0</td>\n",
              "    </tr>\n",
              "    <tr>\n",
              "      <th>1</th>\n",
              "      <td>1</td>\n",
              "      <td>2</td>\n",
              "      <td>NaN</td>\n",
              "      <td>NaN</td>\n",
              "      <td>NaN</td>\n",
              "      <td>NaN</td>\n",
              "      <td>NaN</td>\n",
              "      <td>NaN</td>\n",
              "      <td>NaN</td>\n",
              "      <td>NaN</td>\n",
              "      <td>NaN</td>\n",
              "      <td>NaN</td>\n",
              "      <td>NaN</td>\n",
              "      <td>NaN</td>\n",
              "    </tr>\n",
              "    <tr>\n",
              "      <th>2</th>\n",
              "      <td>1</td>\n",
              "      <td>3</td>\n",
              "      <td>NaN</td>\n",
              "      <td>NaN</td>\n",
              "      <td>NaN</td>\n",
              "      <td>NaN</td>\n",
              "      <td>NaN</td>\n",
              "      <td>NaN</td>\n",
              "      <td>NaN</td>\n",
              "      <td>NaN</td>\n",
              "      <td>NaN</td>\n",
              "      <td>NaN</td>\n",
              "      <td>NaN</td>\n",
              "      <td>NaN</td>\n",
              "    </tr>\n",
              "  </tbody>\n",
              "</table>\n",
              "</div>"
            ],
            "text/plain": [
              "   CO_IES  CO_CURSO  ...  IN_RECURSOS_COMUNICACAO  IN_RECURSOS_INFORMATICA\n",
              "0       1         1  ...                      0.0                      0.0\n",
              "1       1         2  ...                      NaN                      NaN\n",
              "2       1         3  ...                      NaN                      NaN\n",
              "\n",
              "[3 rows x 14 columns]"
            ]
          },
          "metadata": {},
          "execution_count": 97
        }
      ]
    },
    {
      "cell_type": "code",
      "metadata": {
        "colab": {
          "base_uri": "https://localhost:8080/",
          "height": 226
        },
        "id": "M3gemuO3LUbr",
        "outputId": "bd3828aa-f2eb-4c3f-ed8a-1c2c4e5c6ab8"
      },
      "source": [
        "#Substituindo NaN por zero\n",
        "ies_recursos.fillna(0, inplace=True)\n",
        "ies_recursos.head()"
      ],
      "execution_count": 98,
      "outputs": [
        {
          "output_type": "execute_result",
          "data": {
            "text/html": [
              "<div>\n",
              "<style scoped>\n",
              "    .dataframe tbody tr th:only-of-type {\n",
              "        vertical-align: middle;\n",
              "    }\n",
              "\n",
              "    .dataframe tbody tr th {\n",
              "        vertical-align: top;\n",
              "    }\n",
              "\n",
              "    .dataframe thead th {\n",
              "        text-align: right;\n",
              "    }\n",
              "</style>\n",
              "<table border=\"1\" class=\"dataframe\">\n",
              "  <thead>\n",
              "    <tr style=\"text-align: right;\">\n",
              "      <th></th>\n",
              "      <th>CO_IES</th>\n",
              "      <th>CO_CURSO</th>\n",
              "      <th>IN_MATERIAL_DIGITAL</th>\n",
              "      <th>IN_MATERIAL_AMPLIADO</th>\n",
              "      <th>IN_MATERIAL_TATIL</th>\n",
              "      <th>IN_MATERIAL_IMPRESSO</th>\n",
              "      <th>IN_MATERIAL_AUDIO</th>\n",
              "      <th>IN_MATERIAL_BRAILLE</th>\n",
              "      <th>IN_MATERIAL_LIBRAS</th>\n",
              "      <th>IN_DISCIPLINA_LIBRAS</th>\n",
              "      <th>IN_TRADUTOR_LIBRAS</th>\n",
              "      <th>IN_GUIA_INTERPRETE</th>\n",
              "      <th>IN_RECURSOS_COMUNICACAO</th>\n",
              "      <th>IN_RECURSOS_INFORMATICA</th>\n",
              "    </tr>\n",
              "  </thead>\n",
              "  <tbody>\n",
              "    <tr>\n",
              "      <th>0</th>\n",
              "      <td>1</td>\n",
              "      <td>1</td>\n",
              "      <td>0.0</td>\n",
              "      <td>0.0</td>\n",
              "      <td>0.0</td>\n",
              "      <td>0.0</td>\n",
              "      <td>0.0</td>\n",
              "      <td>0.0</td>\n",
              "      <td>0.0</td>\n",
              "      <td>1.0</td>\n",
              "      <td>0.0</td>\n",
              "      <td>0.0</td>\n",
              "      <td>0.0</td>\n",
              "      <td>0.0</td>\n",
              "    </tr>\n",
              "    <tr>\n",
              "      <th>1</th>\n",
              "      <td>1</td>\n",
              "      <td>2</td>\n",
              "      <td>0.0</td>\n",
              "      <td>0.0</td>\n",
              "      <td>0.0</td>\n",
              "      <td>0.0</td>\n",
              "      <td>0.0</td>\n",
              "      <td>0.0</td>\n",
              "      <td>0.0</td>\n",
              "      <td>0.0</td>\n",
              "      <td>0.0</td>\n",
              "      <td>0.0</td>\n",
              "      <td>0.0</td>\n",
              "      <td>0.0</td>\n",
              "    </tr>\n",
              "    <tr>\n",
              "      <th>2</th>\n",
              "      <td>1</td>\n",
              "      <td>3</td>\n",
              "      <td>0.0</td>\n",
              "      <td>0.0</td>\n",
              "      <td>0.0</td>\n",
              "      <td>0.0</td>\n",
              "      <td>0.0</td>\n",
              "      <td>0.0</td>\n",
              "      <td>0.0</td>\n",
              "      <td>0.0</td>\n",
              "      <td>0.0</td>\n",
              "      <td>0.0</td>\n",
              "      <td>0.0</td>\n",
              "      <td>0.0</td>\n",
              "    </tr>\n",
              "    <tr>\n",
              "      <th>3</th>\n",
              "      <td>1</td>\n",
              "      <td>6</td>\n",
              "      <td>1.0</td>\n",
              "      <td>1.0</td>\n",
              "      <td>1.0</td>\n",
              "      <td>0.0</td>\n",
              "      <td>1.0</td>\n",
              "      <td>0.0</td>\n",
              "      <td>0.0</td>\n",
              "      <td>1.0</td>\n",
              "      <td>1.0</td>\n",
              "      <td>1.0</td>\n",
              "      <td>1.0</td>\n",
              "      <td>1.0</td>\n",
              "    </tr>\n",
              "    <tr>\n",
              "      <th>4</th>\n",
              "      <td>1</td>\n",
              "      <td>7</td>\n",
              "      <td>0.0</td>\n",
              "      <td>0.0</td>\n",
              "      <td>0.0</td>\n",
              "      <td>0.0</td>\n",
              "      <td>0.0</td>\n",
              "      <td>0.0</td>\n",
              "      <td>0.0</td>\n",
              "      <td>1.0</td>\n",
              "      <td>0.0</td>\n",
              "      <td>0.0</td>\n",
              "      <td>0.0</td>\n",
              "      <td>0.0</td>\n",
              "    </tr>\n",
              "  </tbody>\n",
              "</table>\n",
              "</div>"
            ],
            "text/plain": [
              "   CO_IES  CO_CURSO  ...  IN_RECURSOS_COMUNICACAO  IN_RECURSOS_INFORMATICA\n",
              "0       1         1  ...                      0.0                      0.0\n",
              "1       1         2  ...                      0.0                      0.0\n",
              "2       1         3  ...                      0.0                      0.0\n",
              "3       1         6  ...                      1.0                      1.0\n",
              "4       1         7  ...                      0.0                      0.0\n",
              "\n",
              "[5 rows x 14 columns]"
            ]
          },
          "metadata": {},
          "execution_count": 98
        }
      ]
    },
    {
      "cell_type": "code",
      "metadata": {
        "colab": {
          "base_uri": "https://localhost:8080/",
          "height": 226
        },
        "id": "96NXBA2b3kme",
        "outputId": "100667b1-2ac8-41cb-b315-f2ec12a12a58"
      },
      "source": [
        "#Renomeando as colunas\n",
        "ies_recursos = ies_recursos.rename(columns={\n",
        "    'CO_IES':'cod_ies',\n",
        "    'CO_CURSO':'cod_curso',\n",
        "    'IN_MATERIAL_DIGITAL':'material_digital',\n",
        "    'IN_MATERIAL_AMPLIADO':'material_ampliado',\n",
        "    'IN_MATERIAL_TATIL':'material_tatil',\n",
        "    'IN_MATERIAL_IMPRESSO':'material_impresso',\n",
        "    'IN_MATERIAL_AUDIO':'material_audio',\n",
        "    'IN_MATERIAL_BRAILLE':'material_braille',\n",
        "    'IN_MATERIAL_LIBRAS':'material_libras',\n",
        "    'IN_DISCIPLINA_LIBRAS':'disciplina_libras',\n",
        "    'IN_TRADUTOR_LIBRAS':'tradutor_libras',\n",
        "    'IN_GUIA_INTERPRETE':'guia_interprete',\n",
        "    'IN_RECURSOS_COMUNICACAO':'recursos_comunicacao',\n",
        "    'IN_RECURSOS_INFORMATICA':'recursos_informatica',\n",
        "})\n",
        "ies_recursos.head()"
      ],
      "execution_count": 99,
      "outputs": [
        {
          "output_type": "execute_result",
          "data": {
            "text/html": [
              "<div>\n",
              "<style scoped>\n",
              "    .dataframe tbody tr th:only-of-type {\n",
              "        vertical-align: middle;\n",
              "    }\n",
              "\n",
              "    .dataframe tbody tr th {\n",
              "        vertical-align: top;\n",
              "    }\n",
              "\n",
              "    .dataframe thead th {\n",
              "        text-align: right;\n",
              "    }\n",
              "</style>\n",
              "<table border=\"1\" class=\"dataframe\">\n",
              "  <thead>\n",
              "    <tr style=\"text-align: right;\">\n",
              "      <th></th>\n",
              "      <th>cod_ies</th>\n",
              "      <th>cod_curso</th>\n",
              "      <th>material_digital</th>\n",
              "      <th>material_ampliado</th>\n",
              "      <th>material_tatil</th>\n",
              "      <th>material_impresso</th>\n",
              "      <th>material_audio</th>\n",
              "      <th>material_braille</th>\n",
              "      <th>material_libras</th>\n",
              "      <th>disciplina_libras</th>\n",
              "      <th>tradutor_libras</th>\n",
              "      <th>guia_interprete</th>\n",
              "      <th>recursos_comunicacao</th>\n",
              "      <th>recursos_informatica</th>\n",
              "    </tr>\n",
              "  </thead>\n",
              "  <tbody>\n",
              "    <tr>\n",
              "      <th>0</th>\n",
              "      <td>1</td>\n",
              "      <td>1</td>\n",
              "      <td>0.0</td>\n",
              "      <td>0.0</td>\n",
              "      <td>0.0</td>\n",
              "      <td>0.0</td>\n",
              "      <td>0.0</td>\n",
              "      <td>0.0</td>\n",
              "      <td>0.0</td>\n",
              "      <td>1.0</td>\n",
              "      <td>0.0</td>\n",
              "      <td>0.0</td>\n",
              "      <td>0.0</td>\n",
              "      <td>0.0</td>\n",
              "    </tr>\n",
              "    <tr>\n",
              "      <th>1</th>\n",
              "      <td>1</td>\n",
              "      <td>2</td>\n",
              "      <td>0.0</td>\n",
              "      <td>0.0</td>\n",
              "      <td>0.0</td>\n",
              "      <td>0.0</td>\n",
              "      <td>0.0</td>\n",
              "      <td>0.0</td>\n",
              "      <td>0.0</td>\n",
              "      <td>0.0</td>\n",
              "      <td>0.0</td>\n",
              "      <td>0.0</td>\n",
              "      <td>0.0</td>\n",
              "      <td>0.0</td>\n",
              "    </tr>\n",
              "    <tr>\n",
              "      <th>2</th>\n",
              "      <td>1</td>\n",
              "      <td>3</td>\n",
              "      <td>0.0</td>\n",
              "      <td>0.0</td>\n",
              "      <td>0.0</td>\n",
              "      <td>0.0</td>\n",
              "      <td>0.0</td>\n",
              "      <td>0.0</td>\n",
              "      <td>0.0</td>\n",
              "      <td>0.0</td>\n",
              "      <td>0.0</td>\n",
              "      <td>0.0</td>\n",
              "      <td>0.0</td>\n",
              "      <td>0.0</td>\n",
              "    </tr>\n",
              "    <tr>\n",
              "      <th>3</th>\n",
              "      <td>1</td>\n",
              "      <td>6</td>\n",
              "      <td>1.0</td>\n",
              "      <td>1.0</td>\n",
              "      <td>1.0</td>\n",
              "      <td>0.0</td>\n",
              "      <td>1.0</td>\n",
              "      <td>0.0</td>\n",
              "      <td>0.0</td>\n",
              "      <td>1.0</td>\n",
              "      <td>1.0</td>\n",
              "      <td>1.0</td>\n",
              "      <td>1.0</td>\n",
              "      <td>1.0</td>\n",
              "    </tr>\n",
              "    <tr>\n",
              "      <th>4</th>\n",
              "      <td>1</td>\n",
              "      <td>7</td>\n",
              "      <td>0.0</td>\n",
              "      <td>0.0</td>\n",
              "      <td>0.0</td>\n",
              "      <td>0.0</td>\n",
              "      <td>0.0</td>\n",
              "      <td>0.0</td>\n",
              "      <td>0.0</td>\n",
              "      <td>1.0</td>\n",
              "      <td>0.0</td>\n",
              "      <td>0.0</td>\n",
              "      <td>0.0</td>\n",
              "      <td>0.0</td>\n",
              "    </tr>\n",
              "  </tbody>\n",
              "</table>\n",
              "</div>"
            ],
            "text/plain": [
              "   cod_ies  cod_curso  ...  recursos_comunicacao  recursos_informatica\n",
              "0        1          1  ...                   0.0                   0.0\n",
              "1        1          2  ...                   0.0                   0.0\n",
              "2        1          3  ...                   0.0                   0.0\n",
              "3        1          6  ...                   1.0                   1.0\n",
              "4        1          7  ...                   0.0                   0.0\n",
              "\n",
              "[5 rows x 14 columns]"
            ]
          },
          "metadata": {},
          "execution_count": 99
        }
      ]
    },
    {
      "cell_type": "code",
      "metadata": {
        "colab": {
          "base_uri": "https://localhost:8080/",
          "height": 226
        },
        "id": "5L22UFk2Kumz",
        "outputId": "ddfa9bbe-3efb-460e-d8d4-88ee165c32cf"
      },
      "source": [
        "ies_recursos['recursos_totais'] = ies_recursos['material_digital'] + ies_recursos['material_ampliado'] + ies_recursos['material_tatil'] + ies_recursos['material_impresso'] + ies_recursos['material_audio'] + ies_recursos['material_braille'] + ies_recursos['material_libras'] + ies_recursos['disciplina_libras'] + ies_recursos['tradutor_libras'] + ies_recursos['guia_interprete'] + ies_recursos['recursos_comunicacao'] + ies_recursos['recursos_informatica']\n",
        "ies_recursos.head()"
      ],
      "execution_count": 100,
      "outputs": [
        {
          "output_type": "execute_result",
          "data": {
            "text/html": [
              "<div>\n",
              "<style scoped>\n",
              "    .dataframe tbody tr th:only-of-type {\n",
              "        vertical-align: middle;\n",
              "    }\n",
              "\n",
              "    .dataframe tbody tr th {\n",
              "        vertical-align: top;\n",
              "    }\n",
              "\n",
              "    .dataframe thead th {\n",
              "        text-align: right;\n",
              "    }\n",
              "</style>\n",
              "<table border=\"1\" class=\"dataframe\">\n",
              "  <thead>\n",
              "    <tr style=\"text-align: right;\">\n",
              "      <th></th>\n",
              "      <th>cod_ies</th>\n",
              "      <th>cod_curso</th>\n",
              "      <th>material_digital</th>\n",
              "      <th>material_ampliado</th>\n",
              "      <th>material_tatil</th>\n",
              "      <th>material_impresso</th>\n",
              "      <th>material_audio</th>\n",
              "      <th>material_braille</th>\n",
              "      <th>material_libras</th>\n",
              "      <th>disciplina_libras</th>\n",
              "      <th>tradutor_libras</th>\n",
              "      <th>guia_interprete</th>\n",
              "      <th>recursos_comunicacao</th>\n",
              "      <th>recursos_informatica</th>\n",
              "      <th>recursos_totais</th>\n",
              "    </tr>\n",
              "  </thead>\n",
              "  <tbody>\n",
              "    <tr>\n",
              "      <th>0</th>\n",
              "      <td>1</td>\n",
              "      <td>1</td>\n",
              "      <td>0.0</td>\n",
              "      <td>0.0</td>\n",
              "      <td>0.0</td>\n",
              "      <td>0.0</td>\n",
              "      <td>0.0</td>\n",
              "      <td>0.0</td>\n",
              "      <td>0.0</td>\n",
              "      <td>1.0</td>\n",
              "      <td>0.0</td>\n",
              "      <td>0.0</td>\n",
              "      <td>0.0</td>\n",
              "      <td>0.0</td>\n",
              "      <td>1.0</td>\n",
              "    </tr>\n",
              "    <tr>\n",
              "      <th>1</th>\n",
              "      <td>1</td>\n",
              "      <td>2</td>\n",
              "      <td>0.0</td>\n",
              "      <td>0.0</td>\n",
              "      <td>0.0</td>\n",
              "      <td>0.0</td>\n",
              "      <td>0.0</td>\n",
              "      <td>0.0</td>\n",
              "      <td>0.0</td>\n",
              "      <td>0.0</td>\n",
              "      <td>0.0</td>\n",
              "      <td>0.0</td>\n",
              "      <td>0.0</td>\n",
              "      <td>0.0</td>\n",
              "      <td>0.0</td>\n",
              "    </tr>\n",
              "    <tr>\n",
              "      <th>2</th>\n",
              "      <td>1</td>\n",
              "      <td>3</td>\n",
              "      <td>0.0</td>\n",
              "      <td>0.0</td>\n",
              "      <td>0.0</td>\n",
              "      <td>0.0</td>\n",
              "      <td>0.0</td>\n",
              "      <td>0.0</td>\n",
              "      <td>0.0</td>\n",
              "      <td>0.0</td>\n",
              "      <td>0.0</td>\n",
              "      <td>0.0</td>\n",
              "      <td>0.0</td>\n",
              "      <td>0.0</td>\n",
              "      <td>0.0</td>\n",
              "    </tr>\n",
              "    <tr>\n",
              "      <th>3</th>\n",
              "      <td>1</td>\n",
              "      <td>6</td>\n",
              "      <td>1.0</td>\n",
              "      <td>1.0</td>\n",
              "      <td>1.0</td>\n",
              "      <td>0.0</td>\n",
              "      <td>1.0</td>\n",
              "      <td>0.0</td>\n",
              "      <td>0.0</td>\n",
              "      <td>1.0</td>\n",
              "      <td>1.0</td>\n",
              "      <td>1.0</td>\n",
              "      <td>1.0</td>\n",
              "      <td>1.0</td>\n",
              "      <td>9.0</td>\n",
              "    </tr>\n",
              "    <tr>\n",
              "      <th>4</th>\n",
              "      <td>1</td>\n",
              "      <td>7</td>\n",
              "      <td>0.0</td>\n",
              "      <td>0.0</td>\n",
              "      <td>0.0</td>\n",
              "      <td>0.0</td>\n",
              "      <td>0.0</td>\n",
              "      <td>0.0</td>\n",
              "      <td>0.0</td>\n",
              "      <td>1.0</td>\n",
              "      <td>0.0</td>\n",
              "      <td>0.0</td>\n",
              "      <td>0.0</td>\n",
              "      <td>0.0</td>\n",
              "      <td>1.0</td>\n",
              "    </tr>\n",
              "  </tbody>\n",
              "</table>\n",
              "</div>"
            ],
            "text/plain": [
              "   cod_ies  cod_curso  ...  recursos_informatica  recursos_totais\n",
              "0        1          1  ...                   0.0              1.0\n",
              "1        1          2  ...                   0.0              0.0\n",
              "2        1          3  ...                   0.0              0.0\n",
              "3        1          6  ...                   1.0              9.0\n",
              "4        1          7  ...                   0.0              1.0\n",
              "\n",
              "[5 rows x 15 columns]"
            ]
          },
          "metadata": {},
          "execution_count": 100
        }
      ]
    },
    {
      "cell_type": "code",
      "metadata": {
        "colab": {
          "base_uri": "https://localhost:8080/",
          "height": 238
        },
        "id": "_UFUAnpRMGhP",
        "outputId": "9d7b8af5-c9c3-4e2f-edc0-c8ff15dc074e"
      },
      "source": [
        "#Contando a quantidade de curso por IES\n",
        "ies_cursos = ies_recursos.groupby('cod_ies')[['cod_curso']].count()\n",
        "ies_cursos.head()"
      ],
      "execution_count": 101,
      "outputs": [
        {
          "output_type": "execute_result",
          "data": {
            "text/html": [
              "<div>\n",
              "<style scoped>\n",
              "    .dataframe tbody tr th:only-of-type {\n",
              "        vertical-align: middle;\n",
              "    }\n",
              "\n",
              "    .dataframe tbody tr th {\n",
              "        vertical-align: top;\n",
              "    }\n",
              "\n",
              "    .dataframe thead th {\n",
              "        text-align: right;\n",
              "    }\n",
              "</style>\n",
              "<table border=\"1\" class=\"dataframe\">\n",
              "  <thead>\n",
              "    <tr style=\"text-align: right;\">\n",
              "      <th></th>\n",
              "      <th>cod_curso</th>\n",
              "    </tr>\n",
              "    <tr>\n",
              "      <th>cod_ies</th>\n",
              "      <th></th>\n",
              "    </tr>\n",
              "  </thead>\n",
              "  <tbody>\n",
              "    <tr>\n",
              "      <th>1</th>\n",
              "      <td>114</td>\n",
              "    </tr>\n",
              "    <tr>\n",
              "      <th>2</th>\n",
              "      <td>149</td>\n",
              "    </tr>\n",
              "    <tr>\n",
              "      <th>3</th>\n",
              "      <td>116</td>\n",
              "    </tr>\n",
              "    <tr>\n",
              "      <th>4</th>\n",
              "      <td>107</td>\n",
              "    </tr>\n",
              "    <tr>\n",
              "      <th>5</th>\n",
              "      <td>100</td>\n",
              "    </tr>\n",
              "  </tbody>\n",
              "</table>\n",
              "</div>"
            ],
            "text/plain": [
              "         cod_curso\n",
              "cod_ies           \n",
              "1              114\n",
              "2              149\n",
              "3              116\n",
              "4              107\n",
              "5              100"
            ]
          },
          "metadata": {},
          "execution_count": 101
        }
      ]
    },
    {
      "cell_type": "code",
      "metadata": {
        "colab": {
          "base_uri": "https://localhost:8080/",
          "height": 206
        },
        "id": "DgvJPjgXM1rv",
        "outputId": "f32787d9-dfcd-43ef-f222-37002d3d8951"
      },
      "source": [
        "#Transformando num dataframe\n",
        "ies_cursos = pd.DataFrame(ies_cursos,columns=['cod_curso'])\n",
        "ies_cursos['cod_ies'] = ies_cursos.index\n",
        "ies_cursos.index = range(len(ies_cursos))\n",
        "ies_cursos.head()"
      ],
      "execution_count": 102,
      "outputs": [
        {
          "output_type": "execute_result",
          "data": {
            "text/html": [
              "<div>\n",
              "<style scoped>\n",
              "    .dataframe tbody tr th:only-of-type {\n",
              "        vertical-align: middle;\n",
              "    }\n",
              "\n",
              "    .dataframe tbody tr th {\n",
              "        vertical-align: top;\n",
              "    }\n",
              "\n",
              "    .dataframe thead th {\n",
              "        text-align: right;\n",
              "    }\n",
              "</style>\n",
              "<table border=\"1\" class=\"dataframe\">\n",
              "  <thead>\n",
              "    <tr style=\"text-align: right;\">\n",
              "      <th></th>\n",
              "      <th>cod_curso</th>\n",
              "      <th>cod_ies</th>\n",
              "    </tr>\n",
              "  </thead>\n",
              "  <tbody>\n",
              "    <tr>\n",
              "      <th>0</th>\n",
              "      <td>114</td>\n",
              "      <td>1</td>\n",
              "    </tr>\n",
              "    <tr>\n",
              "      <th>1</th>\n",
              "      <td>149</td>\n",
              "      <td>2</td>\n",
              "    </tr>\n",
              "    <tr>\n",
              "      <th>2</th>\n",
              "      <td>116</td>\n",
              "      <td>3</td>\n",
              "    </tr>\n",
              "    <tr>\n",
              "      <th>3</th>\n",
              "      <td>107</td>\n",
              "      <td>4</td>\n",
              "    </tr>\n",
              "    <tr>\n",
              "      <th>4</th>\n",
              "      <td>100</td>\n",
              "      <td>5</td>\n",
              "    </tr>\n",
              "  </tbody>\n",
              "</table>\n",
              "</div>"
            ],
            "text/plain": [
              "   cod_curso  cod_ies\n",
              "0        114        1\n",
              "1        149        2\n",
              "2        116        3\n",
              "3        107        4\n",
              "4        100        5"
            ]
          },
          "metadata": {},
          "execution_count": 102
        }
      ]
    },
    {
      "cell_type": "code",
      "metadata": {
        "colab": {
          "base_uri": "https://localhost:8080/",
          "height": 206
        },
        "id": "XW6jjN_vNPTI",
        "outputId": "1343810b-7734-472f-ab8b-2b6957250728"
      },
      "source": [
        "ies_cursos = ies_cursos.rename(columns={\n",
        "    'cod_curso':'num_curso',\n",
        "    })\n",
        "ies_cursos.head(5)"
      ],
      "execution_count": 103,
      "outputs": [
        {
          "output_type": "execute_result",
          "data": {
            "text/html": [
              "<div>\n",
              "<style scoped>\n",
              "    .dataframe tbody tr th:only-of-type {\n",
              "        vertical-align: middle;\n",
              "    }\n",
              "\n",
              "    .dataframe tbody tr th {\n",
              "        vertical-align: top;\n",
              "    }\n",
              "\n",
              "    .dataframe thead th {\n",
              "        text-align: right;\n",
              "    }\n",
              "</style>\n",
              "<table border=\"1\" class=\"dataframe\">\n",
              "  <thead>\n",
              "    <tr style=\"text-align: right;\">\n",
              "      <th></th>\n",
              "      <th>num_curso</th>\n",
              "      <th>cod_ies</th>\n",
              "    </tr>\n",
              "  </thead>\n",
              "  <tbody>\n",
              "    <tr>\n",
              "      <th>0</th>\n",
              "      <td>114</td>\n",
              "      <td>1</td>\n",
              "    </tr>\n",
              "    <tr>\n",
              "      <th>1</th>\n",
              "      <td>149</td>\n",
              "      <td>2</td>\n",
              "    </tr>\n",
              "    <tr>\n",
              "      <th>2</th>\n",
              "      <td>116</td>\n",
              "      <td>3</td>\n",
              "    </tr>\n",
              "    <tr>\n",
              "      <th>3</th>\n",
              "      <td>107</td>\n",
              "      <td>4</td>\n",
              "    </tr>\n",
              "    <tr>\n",
              "      <th>4</th>\n",
              "      <td>100</td>\n",
              "      <td>5</td>\n",
              "    </tr>\n",
              "  </tbody>\n",
              "</table>\n",
              "</div>"
            ],
            "text/plain": [
              "   num_curso  cod_ies\n",
              "0        114        1\n",
              "1        149        2\n",
              "2        116        3\n",
              "3        107        4\n",
              "4        100        5"
            ]
          },
          "metadata": {},
          "execution_count": 103
        }
      ]
    },
    {
      "cell_type": "code",
      "metadata": {
        "colab": {
          "base_uri": "https://localhost:8080/",
          "height": 163
        },
        "id": "4XZkFg5VwGVv",
        "outputId": "9e5f189c-0301-4c9d-f2e4-ba09e345940c"
      },
      "source": [
        "ies_recursos = ies_recursos.drop(columns='cod_curso')\n",
        "ies_recursos.head(3)"
      ],
      "execution_count": 104,
      "outputs": [
        {
          "output_type": "execute_result",
          "data": {
            "text/html": [
              "<div>\n",
              "<style scoped>\n",
              "    .dataframe tbody tr th:only-of-type {\n",
              "        vertical-align: middle;\n",
              "    }\n",
              "\n",
              "    .dataframe tbody tr th {\n",
              "        vertical-align: top;\n",
              "    }\n",
              "\n",
              "    .dataframe thead th {\n",
              "        text-align: right;\n",
              "    }\n",
              "</style>\n",
              "<table border=\"1\" class=\"dataframe\">\n",
              "  <thead>\n",
              "    <tr style=\"text-align: right;\">\n",
              "      <th></th>\n",
              "      <th>cod_ies</th>\n",
              "      <th>material_digital</th>\n",
              "      <th>material_ampliado</th>\n",
              "      <th>material_tatil</th>\n",
              "      <th>material_impresso</th>\n",
              "      <th>material_audio</th>\n",
              "      <th>material_braille</th>\n",
              "      <th>material_libras</th>\n",
              "      <th>disciplina_libras</th>\n",
              "      <th>tradutor_libras</th>\n",
              "      <th>guia_interprete</th>\n",
              "      <th>recursos_comunicacao</th>\n",
              "      <th>recursos_informatica</th>\n",
              "      <th>recursos_totais</th>\n",
              "    </tr>\n",
              "  </thead>\n",
              "  <tbody>\n",
              "    <tr>\n",
              "      <th>0</th>\n",
              "      <td>1</td>\n",
              "      <td>0.0</td>\n",
              "      <td>0.0</td>\n",
              "      <td>0.0</td>\n",
              "      <td>0.0</td>\n",
              "      <td>0.0</td>\n",
              "      <td>0.0</td>\n",
              "      <td>0.0</td>\n",
              "      <td>1.0</td>\n",
              "      <td>0.0</td>\n",
              "      <td>0.0</td>\n",
              "      <td>0.0</td>\n",
              "      <td>0.0</td>\n",
              "      <td>1.0</td>\n",
              "    </tr>\n",
              "    <tr>\n",
              "      <th>1</th>\n",
              "      <td>1</td>\n",
              "      <td>0.0</td>\n",
              "      <td>0.0</td>\n",
              "      <td>0.0</td>\n",
              "      <td>0.0</td>\n",
              "      <td>0.0</td>\n",
              "      <td>0.0</td>\n",
              "      <td>0.0</td>\n",
              "      <td>0.0</td>\n",
              "      <td>0.0</td>\n",
              "      <td>0.0</td>\n",
              "      <td>0.0</td>\n",
              "      <td>0.0</td>\n",
              "      <td>0.0</td>\n",
              "    </tr>\n",
              "    <tr>\n",
              "      <th>2</th>\n",
              "      <td>1</td>\n",
              "      <td>0.0</td>\n",
              "      <td>0.0</td>\n",
              "      <td>0.0</td>\n",
              "      <td>0.0</td>\n",
              "      <td>0.0</td>\n",
              "      <td>0.0</td>\n",
              "      <td>0.0</td>\n",
              "      <td>0.0</td>\n",
              "      <td>0.0</td>\n",
              "      <td>0.0</td>\n",
              "      <td>0.0</td>\n",
              "      <td>0.0</td>\n",
              "      <td>0.0</td>\n",
              "    </tr>\n",
              "  </tbody>\n",
              "</table>\n",
              "</div>"
            ],
            "text/plain": [
              "   cod_ies  material_digital  ...  recursos_informatica  recursos_totais\n",
              "0        1               0.0  ...                   0.0              1.0\n",
              "1        1               0.0  ...                   0.0              0.0\n",
              "2        1               0.0  ...                   0.0              0.0\n",
              "\n",
              "[3 rows x 14 columns]"
            ]
          },
          "metadata": {},
          "execution_count": 104
        }
      ]
    },
    {
      "cell_type": "code",
      "metadata": {
        "colab": {
          "base_uri": "https://localhost:8080/",
          "height": 258
        },
        "id": "F-_Ds9MtMekf",
        "outputId": "5b043458-7bbf-4e50-90a3-148db7fdc632"
      },
      "source": [
        "ies_recursos = ies_recursos.groupby('cod_ies').sum()\n",
        "ies_recursos.head()"
      ],
      "execution_count": 105,
      "outputs": [
        {
          "output_type": "execute_result",
          "data": {
            "text/html": [
              "<div>\n",
              "<style scoped>\n",
              "    .dataframe tbody tr th:only-of-type {\n",
              "        vertical-align: middle;\n",
              "    }\n",
              "\n",
              "    .dataframe tbody tr th {\n",
              "        vertical-align: top;\n",
              "    }\n",
              "\n",
              "    .dataframe thead th {\n",
              "        text-align: right;\n",
              "    }\n",
              "</style>\n",
              "<table border=\"1\" class=\"dataframe\">\n",
              "  <thead>\n",
              "    <tr style=\"text-align: right;\">\n",
              "      <th></th>\n",
              "      <th>material_digital</th>\n",
              "      <th>material_ampliado</th>\n",
              "      <th>material_tatil</th>\n",
              "      <th>material_impresso</th>\n",
              "      <th>material_audio</th>\n",
              "      <th>material_braille</th>\n",
              "      <th>material_libras</th>\n",
              "      <th>disciplina_libras</th>\n",
              "      <th>tradutor_libras</th>\n",
              "      <th>guia_interprete</th>\n",
              "      <th>recursos_comunicacao</th>\n",
              "      <th>recursos_informatica</th>\n",
              "      <th>recursos_totais</th>\n",
              "    </tr>\n",
              "    <tr>\n",
              "      <th>cod_ies</th>\n",
              "      <th></th>\n",
              "      <th></th>\n",
              "      <th></th>\n",
              "      <th></th>\n",
              "      <th></th>\n",
              "      <th></th>\n",
              "      <th></th>\n",
              "      <th></th>\n",
              "      <th></th>\n",
              "      <th></th>\n",
              "      <th></th>\n",
              "      <th></th>\n",
              "      <th></th>\n",
              "    </tr>\n",
              "  </thead>\n",
              "  <tbody>\n",
              "    <tr>\n",
              "      <th>1</th>\n",
              "      <td>11.0</td>\n",
              "      <td>13.0</td>\n",
              "      <td>3.0</td>\n",
              "      <td>9.0</td>\n",
              "      <td>5.0</td>\n",
              "      <td>3.0</td>\n",
              "      <td>5.0</td>\n",
              "      <td>66.0</td>\n",
              "      <td>26.0</td>\n",
              "      <td>11.0</td>\n",
              "      <td>7.0</td>\n",
              "      <td>5.0</td>\n",
              "      <td>164.0</td>\n",
              "    </tr>\n",
              "    <tr>\n",
              "      <th>2</th>\n",
              "      <td>149.0</td>\n",
              "      <td>148.0</td>\n",
              "      <td>149.0</td>\n",
              "      <td>149.0</td>\n",
              "      <td>148.0</td>\n",
              "      <td>149.0</td>\n",
              "      <td>149.0</td>\n",
              "      <td>149.0</td>\n",
              "      <td>149.0</td>\n",
              "      <td>149.0</td>\n",
              "      <td>148.0</td>\n",
              "      <td>149.0</td>\n",
              "      <td>1785.0</td>\n",
              "    </tr>\n",
              "    <tr>\n",
              "      <th>3</th>\n",
              "      <td>20.0</td>\n",
              "      <td>15.0</td>\n",
              "      <td>16.0</td>\n",
              "      <td>21.0</td>\n",
              "      <td>14.0</td>\n",
              "      <td>20.0</td>\n",
              "      <td>23.0</td>\n",
              "      <td>91.0</td>\n",
              "      <td>41.0</td>\n",
              "      <td>31.0</td>\n",
              "      <td>11.0</td>\n",
              "      <td>24.0</td>\n",
              "      <td>327.0</td>\n",
              "    </tr>\n",
              "    <tr>\n",
              "      <th>4</th>\n",
              "      <td>0.0</td>\n",
              "      <td>0.0</td>\n",
              "      <td>0.0</td>\n",
              "      <td>0.0</td>\n",
              "      <td>0.0</td>\n",
              "      <td>0.0</td>\n",
              "      <td>0.0</td>\n",
              "      <td>105.0</td>\n",
              "      <td>0.0</td>\n",
              "      <td>0.0</td>\n",
              "      <td>0.0</td>\n",
              "      <td>0.0</td>\n",
              "      <td>105.0</td>\n",
              "    </tr>\n",
              "    <tr>\n",
              "      <th>5</th>\n",
              "      <td>0.0</td>\n",
              "      <td>99.0</td>\n",
              "      <td>100.0</td>\n",
              "      <td>99.0</td>\n",
              "      <td>1.0</td>\n",
              "      <td>100.0</td>\n",
              "      <td>99.0</td>\n",
              "      <td>99.0</td>\n",
              "      <td>100.0</td>\n",
              "      <td>99.0</td>\n",
              "      <td>99.0</td>\n",
              "      <td>99.0</td>\n",
              "      <td>994.0</td>\n",
              "    </tr>\n",
              "  </tbody>\n",
              "</table>\n",
              "</div>"
            ],
            "text/plain": [
              "         material_digital  ...  recursos_totais\n",
              "cod_ies                    ...                 \n",
              "1                    11.0  ...            164.0\n",
              "2                   149.0  ...           1785.0\n",
              "3                    20.0  ...            327.0\n",
              "4                     0.0  ...            105.0\n",
              "5                     0.0  ...            994.0\n",
              "\n",
              "[5 rows x 13 columns]"
            ]
          },
          "metadata": {},
          "execution_count": 105
        }
      ]
    },
    {
      "cell_type": "code",
      "metadata": {
        "colab": {
          "base_uri": "https://localhost:8080/",
          "height": 226
        },
        "id": "9vXSVbscRf2x",
        "outputId": "78b7e4d1-e78f-461c-993f-57b0c6ba2982"
      },
      "source": [
        "ies_recursos = pd.merge(ies_recursos, ies_cursos, how='inner', on='cod_ies')\n",
        "ies_recursos.head()"
      ],
      "execution_count": 106,
      "outputs": [
        {
          "output_type": "execute_result",
          "data": {
            "text/html": [
              "<div>\n",
              "<style scoped>\n",
              "    .dataframe tbody tr th:only-of-type {\n",
              "        vertical-align: middle;\n",
              "    }\n",
              "\n",
              "    .dataframe tbody tr th {\n",
              "        vertical-align: top;\n",
              "    }\n",
              "\n",
              "    .dataframe thead th {\n",
              "        text-align: right;\n",
              "    }\n",
              "</style>\n",
              "<table border=\"1\" class=\"dataframe\">\n",
              "  <thead>\n",
              "    <tr style=\"text-align: right;\">\n",
              "      <th></th>\n",
              "      <th>cod_ies</th>\n",
              "      <th>material_digital</th>\n",
              "      <th>material_ampliado</th>\n",
              "      <th>material_tatil</th>\n",
              "      <th>material_impresso</th>\n",
              "      <th>material_audio</th>\n",
              "      <th>material_braille</th>\n",
              "      <th>material_libras</th>\n",
              "      <th>disciplina_libras</th>\n",
              "      <th>tradutor_libras</th>\n",
              "      <th>guia_interprete</th>\n",
              "      <th>recursos_comunicacao</th>\n",
              "      <th>recursos_informatica</th>\n",
              "      <th>recursos_totais</th>\n",
              "      <th>num_curso</th>\n",
              "    </tr>\n",
              "  </thead>\n",
              "  <tbody>\n",
              "    <tr>\n",
              "      <th>0</th>\n",
              "      <td>1</td>\n",
              "      <td>11.0</td>\n",
              "      <td>13.0</td>\n",
              "      <td>3.0</td>\n",
              "      <td>9.0</td>\n",
              "      <td>5.0</td>\n",
              "      <td>3.0</td>\n",
              "      <td>5.0</td>\n",
              "      <td>66.0</td>\n",
              "      <td>26.0</td>\n",
              "      <td>11.0</td>\n",
              "      <td>7.0</td>\n",
              "      <td>5.0</td>\n",
              "      <td>164.0</td>\n",
              "      <td>114</td>\n",
              "    </tr>\n",
              "    <tr>\n",
              "      <th>1</th>\n",
              "      <td>2</td>\n",
              "      <td>149.0</td>\n",
              "      <td>148.0</td>\n",
              "      <td>149.0</td>\n",
              "      <td>149.0</td>\n",
              "      <td>148.0</td>\n",
              "      <td>149.0</td>\n",
              "      <td>149.0</td>\n",
              "      <td>149.0</td>\n",
              "      <td>149.0</td>\n",
              "      <td>149.0</td>\n",
              "      <td>148.0</td>\n",
              "      <td>149.0</td>\n",
              "      <td>1785.0</td>\n",
              "      <td>149</td>\n",
              "    </tr>\n",
              "    <tr>\n",
              "      <th>2</th>\n",
              "      <td>3</td>\n",
              "      <td>20.0</td>\n",
              "      <td>15.0</td>\n",
              "      <td>16.0</td>\n",
              "      <td>21.0</td>\n",
              "      <td>14.0</td>\n",
              "      <td>20.0</td>\n",
              "      <td>23.0</td>\n",
              "      <td>91.0</td>\n",
              "      <td>41.0</td>\n",
              "      <td>31.0</td>\n",
              "      <td>11.0</td>\n",
              "      <td>24.0</td>\n",
              "      <td>327.0</td>\n",
              "      <td>116</td>\n",
              "    </tr>\n",
              "    <tr>\n",
              "      <th>3</th>\n",
              "      <td>4</td>\n",
              "      <td>0.0</td>\n",
              "      <td>0.0</td>\n",
              "      <td>0.0</td>\n",
              "      <td>0.0</td>\n",
              "      <td>0.0</td>\n",
              "      <td>0.0</td>\n",
              "      <td>0.0</td>\n",
              "      <td>105.0</td>\n",
              "      <td>0.0</td>\n",
              "      <td>0.0</td>\n",
              "      <td>0.0</td>\n",
              "      <td>0.0</td>\n",
              "      <td>105.0</td>\n",
              "      <td>107</td>\n",
              "    </tr>\n",
              "    <tr>\n",
              "      <th>4</th>\n",
              "      <td>5</td>\n",
              "      <td>0.0</td>\n",
              "      <td>99.0</td>\n",
              "      <td>100.0</td>\n",
              "      <td>99.0</td>\n",
              "      <td>1.0</td>\n",
              "      <td>100.0</td>\n",
              "      <td>99.0</td>\n",
              "      <td>99.0</td>\n",
              "      <td>100.0</td>\n",
              "      <td>99.0</td>\n",
              "      <td>99.0</td>\n",
              "      <td>99.0</td>\n",
              "      <td>994.0</td>\n",
              "      <td>100</td>\n",
              "    </tr>\n",
              "  </tbody>\n",
              "</table>\n",
              "</div>"
            ],
            "text/plain": [
              "   cod_ies  material_digital  ...  recursos_totais  num_curso\n",
              "0        1              11.0  ...            164.0        114\n",
              "1        2             149.0  ...           1785.0        149\n",
              "2        3              20.0  ...            327.0        116\n",
              "3        4               0.0  ...            105.0        107\n",
              "4        5               0.0  ...            994.0        100\n",
              "\n",
              "[5 rows x 15 columns]"
            ]
          },
          "metadata": {},
          "execution_count": 106
        }
      ]
    },
    {
      "cell_type": "code",
      "metadata": {
        "colab": {
          "base_uri": "https://localhost:8080/",
          "height": 226
        },
        "id": "RKSus8WGQYr8",
        "outputId": "54a5ed8e-eb1b-44c6-c6a7-48d05c7fd4d6"
      },
      "source": [
        "ies_recursos['num_recursos_medio'] = ies_recursos['recursos_totais'] / ies_recursos['num_curso']\n",
        "ies_recursos = ies_recursos.reset_index()\n",
        "ies_recursos.head()"
      ],
      "execution_count": 107,
      "outputs": [
        {
          "output_type": "execute_result",
          "data": {
            "text/html": [
              "<div>\n",
              "<style scoped>\n",
              "    .dataframe tbody tr th:only-of-type {\n",
              "        vertical-align: middle;\n",
              "    }\n",
              "\n",
              "    .dataframe tbody tr th {\n",
              "        vertical-align: top;\n",
              "    }\n",
              "\n",
              "    .dataframe thead th {\n",
              "        text-align: right;\n",
              "    }\n",
              "</style>\n",
              "<table border=\"1\" class=\"dataframe\">\n",
              "  <thead>\n",
              "    <tr style=\"text-align: right;\">\n",
              "      <th></th>\n",
              "      <th>index</th>\n",
              "      <th>cod_ies</th>\n",
              "      <th>material_digital</th>\n",
              "      <th>material_ampliado</th>\n",
              "      <th>material_tatil</th>\n",
              "      <th>material_impresso</th>\n",
              "      <th>material_audio</th>\n",
              "      <th>material_braille</th>\n",
              "      <th>material_libras</th>\n",
              "      <th>disciplina_libras</th>\n",
              "      <th>tradutor_libras</th>\n",
              "      <th>guia_interprete</th>\n",
              "      <th>recursos_comunicacao</th>\n",
              "      <th>recursos_informatica</th>\n",
              "      <th>recursos_totais</th>\n",
              "      <th>num_curso</th>\n",
              "      <th>num_recursos_medio</th>\n",
              "    </tr>\n",
              "  </thead>\n",
              "  <tbody>\n",
              "    <tr>\n",
              "      <th>0</th>\n",
              "      <td>0</td>\n",
              "      <td>1</td>\n",
              "      <td>11.0</td>\n",
              "      <td>13.0</td>\n",
              "      <td>3.0</td>\n",
              "      <td>9.0</td>\n",
              "      <td>5.0</td>\n",
              "      <td>3.0</td>\n",
              "      <td>5.0</td>\n",
              "      <td>66.0</td>\n",
              "      <td>26.0</td>\n",
              "      <td>11.0</td>\n",
              "      <td>7.0</td>\n",
              "      <td>5.0</td>\n",
              "      <td>164.0</td>\n",
              "      <td>114</td>\n",
              "      <td>1.438596</td>\n",
              "    </tr>\n",
              "    <tr>\n",
              "      <th>1</th>\n",
              "      <td>1</td>\n",
              "      <td>2</td>\n",
              "      <td>149.0</td>\n",
              "      <td>148.0</td>\n",
              "      <td>149.0</td>\n",
              "      <td>149.0</td>\n",
              "      <td>148.0</td>\n",
              "      <td>149.0</td>\n",
              "      <td>149.0</td>\n",
              "      <td>149.0</td>\n",
              "      <td>149.0</td>\n",
              "      <td>149.0</td>\n",
              "      <td>148.0</td>\n",
              "      <td>149.0</td>\n",
              "      <td>1785.0</td>\n",
              "      <td>149</td>\n",
              "      <td>11.979866</td>\n",
              "    </tr>\n",
              "    <tr>\n",
              "      <th>2</th>\n",
              "      <td>2</td>\n",
              "      <td>3</td>\n",
              "      <td>20.0</td>\n",
              "      <td>15.0</td>\n",
              "      <td>16.0</td>\n",
              "      <td>21.0</td>\n",
              "      <td>14.0</td>\n",
              "      <td>20.0</td>\n",
              "      <td>23.0</td>\n",
              "      <td>91.0</td>\n",
              "      <td>41.0</td>\n",
              "      <td>31.0</td>\n",
              "      <td>11.0</td>\n",
              "      <td>24.0</td>\n",
              "      <td>327.0</td>\n",
              "      <td>116</td>\n",
              "      <td>2.818966</td>\n",
              "    </tr>\n",
              "    <tr>\n",
              "      <th>3</th>\n",
              "      <td>3</td>\n",
              "      <td>4</td>\n",
              "      <td>0.0</td>\n",
              "      <td>0.0</td>\n",
              "      <td>0.0</td>\n",
              "      <td>0.0</td>\n",
              "      <td>0.0</td>\n",
              "      <td>0.0</td>\n",
              "      <td>0.0</td>\n",
              "      <td>105.0</td>\n",
              "      <td>0.0</td>\n",
              "      <td>0.0</td>\n",
              "      <td>0.0</td>\n",
              "      <td>0.0</td>\n",
              "      <td>105.0</td>\n",
              "      <td>107</td>\n",
              "      <td>0.981308</td>\n",
              "    </tr>\n",
              "    <tr>\n",
              "      <th>4</th>\n",
              "      <td>4</td>\n",
              "      <td>5</td>\n",
              "      <td>0.0</td>\n",
              "      <td>99.0</td>\n",
              "      <td>100.0</td>\n",
              "      <td>99.0</td>\n",
              "      <td>1.0</td>\n",
              "      <td>100.0</td>\n",
              "      <td>99.0</td>\n",
              "      <td>99.0</td>\n",
              "      <td>100.0</td>\n",
              "      <td>99.0</td>\n",
              "      <td>99.0</td>\n",
              "      <td>99.0</td>\n",
              "      <td>994.0</td>\n",
              "      <td>100</td>\n",
              "      <td>9.940000</td>\n",
              "    </tr>\n",
              "  </tbody>\n",
              "</table>\n",
              "</div>"
            ],
            "text/plain": [
              "   index  cod_ies  ...  num_curso  num_recursos_medio\n",
              "0      0        1  ...        114            1.438596\n",
              "1      1        2  ...        149           11.979866\n",
              "2      2        3  ...        116            2.818966\n",
              "3      3        4  ...        107            0.981308\n",
              "4      4        5  ...        100            9.940000\n",
              "\n",
              "[5 rows x 17 columns]"
            ]
          },
          "metadata": {},
          "execution_count": 107
        }
      ]
    },
    {
      "cell_type": "code",
      "metadata": {
        "id": "kuAKiNquNna7",
        "colab": {
          "base_uri": "https://localhost:8080/",
          "height": 206
        },
        "outputId": "0a490355-4ae8-4757-b6e7-fd4502be492a"
      },
      "source": [
        "ies_recursos = ies_recursos[['cod_ies','num_recursos_medio','num_curso']]\n",
        "ies_recursos.head()"
      ],
      "execution_count": 108,
      "outputs": [
        {
          "output_type": "execute_result",
          "data": {
            "text/html": [
              "<div>\n",
              "<style scoped>\n",
              "    .dataframe tbody tr th:only-of-type {\n",
              "        vertical-align: middle;\n",
              "    }\n",
              "\n",
              "    .dataframe tbody tr th {\n",
              "        vertical-align: top;\n",
              "    }\n",
              "\n",
              "    .dataframe thead th {\n",
              "        text-align: right;\n",
              "    }\n",
              "</style>\n",
              "<table border=\"1\" class=\"dataframe\">\n",
              "  <thead>\n",
              "    <tr style=\"text-align: right;\">\n",
              "      <th></th>\n",
              "      <th>cod_ies</th>\n",
              "      <th>num_recursos_medio</th>\n",
              "      <th>num_curso</th>\n",
              "    </tr>\n",
              "  </thead>\n",
              "  <tbody>\n",
              "    <tr>\n",
              "      <th>0</th>\n",
              "      <td>1</td>\n",
              "      <td>1.438596</td>\n",
              "      <td>114</td>\n",
              "    </tr>\n",
              "    <tr>\n",
              "      <th>1</th>\n",
              "      <td>2</td>\n",
              "      <td>11.979866</td>\n",
              "      <td>149</td>\n",
              "    </tr>\n",
              "    <tr>\n",
              "      <th>2</th>\n",
              "      <td>3</td>\n",
              "      <td>2.818966</td>\n",
              "      <td>116</td>\n",
              "    </tr>\n",
              "    <tr>\n",
              "      <th>3</th>\n",
              "      <td>4</td>\n",
              "      <td>0.981308</td>\n",
              "      <td>107</td>\n",
              "    </tr>\n",
              "    <tr>\n",
              "      <th>4</th>\n",
              "      <td>5</td>\n",
              "      <td>9.940000</td>\n",
              "      <td>100</td>\n",
              "    </tr>\n",
              "  </tbody>\n",
              "</table>\n",
              "</div>"
            ],
            "text/plain": [
              "   cod_ies  num_recursos_medio  num_curso\n",
              "0        1            1.438596        114\n",
              "1        2           11.979866        149\n",
              "2        3            2.818966        116\n",
              "3        4            0.981308        107\n",
              "4        5            9.940000        100"
            ]
          },
          "metadata": {},
          "execution_count": 108
        }
      ]
    },
    {
      "cell_type": "markdown",
      "metadata": {
        "id": "6EP7g40UZ2DN"
      },
      "source": [
        "### 1.4.Alunos com deficiência"
      ]
    },
    {
      "cell_type": "code",
      "metadata": {
        "colab": {
          "base_uri": "https://localhost:8080/",
          "height": 163
        },
        "id": "iumA0-ojJV-X",
        "outputId": "2c41c8a5-ac0e-43ae-e086-ab080cb29d66"
      },
      "source": [
        "#Contando a quantidade de alunos com deficiência por IES\n",
        "ies_alunos = pd.read_csv('alunodeficiente_2019.csv', sep=',', encoding='latin1', usecols=['CO_IES','IN_DEFICIENCIA_AUDITIVA','IN_DEFICIENCIA_FISICA','IN_DEFICIENCIA_INTELECTUAL','IN_DEFICIENCIA_MULTIPLA','IN_DEFICIENCIA_SURDEZ','IN_DEFICIENCIA_SURDOCEGUEIRA','IN_DEFICIENCIA_BAIXA_VISAO','IN_DEFICIENCIA_CEGUEIRA','IN_DEFICIENCIA_SUPERDOTACAO','IN_TGD_AUTISMO','IN_TGD_SINDROME_ASPERGER','IN_TGD_SINDROME_RETT','IN_TGD_TRANSTOR_DESINTEGRATIVO'])\n",
        "ies_alunos.head(3)"
      ],
      "execution_count": 109,
      "outputs": [
        {
          "output_type": "execute_result",
          "data": {
            "text/html": [
              "<div>\n",
              "<style scoped>\n",
              "    .dataframe tbody tr th:only-of-type {\n",
              "        vertical-align: middle;\n",
              "    }\n",
              "\n",
              "    .dataframe tbody tr th {\n",
              "        vertical-align: top;\n",
              "    }\n",
              "\n",
              "    .dataframe thead th {\n",
              "        text-align: right;\n",
              "    }\n",
              "</style>\n",
              "<table border=\"1\" class=\"dataframe\">\n",
              "  <thead>\n",
              "    <tr style=\"text-align: right;\">\n",
              "      <th></th>\n",
              "      <th>CO_IES</th>\n",
              "      <th>IN_DEFICIENCIA_AUDITIVA</th>\n",
              "      <th>IN_DEFICIENCIA_FISICA</th>\n",
              "      <th>IN_DEFICIENCIA_INTELECTUAL</th>\n",
              "      <th>IN_DEFICIENCIA_MULTIPLA</th>\n",
              "      <th>IN_DEFICIENCIA_SURDEZ</th>\n",
              "      <th>IN_DEFICIENCIA_SURDOCEGUEIRA</th>\n",
              "      <th>IN_DEFICIENCIA_BAIXA_VISAO</th>\n",
              "      <th>IN_DEFICIENCIA_CEGUEIRA</th>\n",
              "      <th>IN_DEFICIENCIA_SUPERDOTACAO</th>\n",
              "      <th>IN_TGD_AUTISMO</th>\n",
              "      <th>IN_TGD_SINDROME_ASPERGER</th>\n",
              "      <th>IN_TGD_SINDROME_RETT</th>\n",
              "      <th>IN_TGD_TRANSTOR_DESINTEGRATIVO</th>\n",
              "    </tr>\n",
              "  </thead>\n",
              "  <tbody>\n",
              "    <tr>\n",
              "      <th>0</th>\n",
              "      <td>1</td>\n",
              "      <td>0.0</td>\n",
              "      <td>1.0</td>\n",
              "      <td>0.0</td>\n",
              "      <td>0.0</td>\n",
              "      <td>0.0</td>\n",
              "      <td>0.0</td>\n",
              "      <td>0.0</td>\n",
              "      <td>0.0</td>\n",
              "      <td>0.0</td>\n",
              "      <td>0.0</td>\n",
              "      <td>0.0</td>\n",
              "      <td>0.0</td>\n",
              "      <td>0.0</td>\n",
              "    </tr>\n",
              "    <tr>\n",
              "      <th>1</th>\n",
              "      <td>1</td>\n",
              "      <td>0.0</td>\n",
              "      <td>1.0</td>\n",
              "      <td>0.0</td>\n",
              "      <td>0.0</td>\n",
              "      <td>0.0</td>\n",
              "      <td>0.0</td>\n",
              "      <td>0.0</td>\n",
              "      <td>0.0</td>\n",
              "      <td>0.0</td>\n",
              "      <td>0.0</td>\n",
              "      <td>0.0</td>\n",
              "      <td>0.0</td>\n",
              "      <td>0.0</td>\n",
              "    </tr>\n",
              "    <tr>\n",
              "      <th>2</th>\n",
              "      <td>1</td>\n",
              "      <td>0.0</td>\n",
              "      <td>1.0</td>\n",
              "      <td>0.0</td>\n",
              "      <td>0.0</td>\n",
              "      <td>0.0</td>\n",
              "      <td>0.0</td>\n",
              "      <td>0.0</td>\n",
              "      <td>0.0</td>\n",
              "      <td>0.0</td>\n",
              "      <td>0.0</td>\n",
              "      <td>0.0</td>\n",
              "      <td>0.0</td>\n",
              "      <td>0.0</td>\n",
              "    </tr>\n",
              "  </tbody>\n",
              "</table>\n",
              "</div>"
            ],
            "text/plain": [
              "   CO_IES  ...  IN_TGD_TRANSTOR_DESINTEGRATIVO\n",
              "0       1  ...                             0.0\n",
              "1       1  ...                             0.0\n",
              "2       1  ...                             0.0\n",
              "\n",
              "[3 rows x 14 columns]"
            ]
          },
          "metadata": {},
          "execution_count": 109
        }
      ]
    },
    {
      "cell_type": "code",
      "metadata": {
        "colab": {
          "base_uri": "https://localhost:8080/",
          "height": 258
        },
        "id": "AKzZPd0cUfm7",
        "outputId": "e9b38560-7e3d-46c0-e8bc-8ba6f84b22dc"
      },
      "source": [
        "#Contando a quantidade de curso por IES\n",
        "ies_alunos = ies_alunos.groupby('CO_IES').sum()\n",
        "ies_alunos.head()"
      ],
      "execution_count": 110,
      "outputs": [
        {
          "output_type": "execute_result",
          "data": {
            "text/html": [
              "<div>\n",
              "<style scoped>\n",
              "    .dataframe tbody tr th:only-of-type {\n",
              "        vertical-align: middle;\n",
              "    }\n",
              "\n",
              "    .dataframe tbody tr th {\n",
              "        vertical-align: top;\n",
              "    }\n",
              "\n",
              "    .dataframe thead th {\n",
              "        text-align: right;\n",
              "    }\n",
              "</style>\n",
              "<table border=\"1\" class=\"dataframe\">\n",
              "  <thead>\n",
              "    <tr style=\"text-align: right;\">\n",
              "      <th></th>\n",
              "      <th>IN_DEFICIENCIA_AUDITIVA</th>\n",
              "      <th>IN_DEFICIENCIA_FISICA</th>\n",
              "      <th>IN_DEFICIENCIA_INTELECTUAL</th>\n",
              "      <th>IN_DEFICIENCIA_MULTIPLA</th>\n",
              "      <th>IN_DEFICIENCIA_SURDEZ</th>\n",
              "      <th>IN_DEFICIENCIA_SURDOCEGUEIRA</th>\n",
              "      <th>IN_DEFICIENCIA_BAIXA_VISAO</th>\n",
              "      <th>IN_DEFICIENCIA_CEGUEIRA</th>\n",
              "      <th>IN_DEFICIENCIA_SUPERDOTACAO</th>\n",
              "      <th>IN_TGD_AUTISMO</th>\n",
              "      <th>IN_TGD_SINDROME_ASPERGER</th>\n",
              "      <th>IN_TGD_SINDROME_RETT</th>\n",
              "      <th>IN_TGD_TRANSTOR_DESINTEGRATIVO</th>\n",
              "    </tr>\n",
              "    <tr>\n",
              "      <th>CO_IES</th>\n",
              "      <th></th>\n",
              "      <th></th>\n",
              "      <th></th>\n",
              "      <th></th>\n",
              "      <th></th>\n",
              "      <th></th>\n",
              "      <th></th>\n",
              "      <th></th>\n",
              "      <th></th>\n",
              "      <th></th>\n",
              "      <th></th>\n",
              "      <th></th>\n",
              "      <th></th>\n",
              "    </tr>\n",
              "  </thead>\n",
              "  <tbody>\n",
              "    <tr>\n",
              "      <th>1</th>\n",
              "      <td>71.0</td>\n",
              "      <td>149.0</td>\n",
              "      <td>10.0</td>\n",
              "      <td>4.0</td>\n",
              "      <td>25.0</td>\n",
              "      <td>0.0</td>\n",
              "      <td>49.0</td>\n",
              "      <td>16.0</td>\n",
              "      <td>0.0</td>\n",
              "      <td>1.0</td>\n",
              "      <td>8.0</td>\n",
              "      <td>0.0</td>\n",
              "      <td>4.0</td>\n",
              "    </tr>\n",
              "    <tr>\n",
              "      <th>2</th>\n",
              "      <td>24.0</td>\n",
              "      <td>63.0</td>\n",
              "      <td>8.0</td>\n",
              "      <td>6.0</td>\n",
              "      <td>14.0</td>\n",
              "      <td>2.0</td>\n",
              "      <td>32.0</td>\n",
              "      <td>3.0</td>\n",
              "      <td>3.0</td>\n",
              "      <td>45.0</td>\n",
              "      <td>1.0</td>\n",
              "      <td>0.0</td>\n",
              "      <td>0.0</td>\n",
              "    </tr>\n",
              "    <tr>\n",
              "      <th>3</th>\n",
              "      <td>36.0</td>\n",
              "      <td>243.0</td>\n",
              "      <td>17.0</td>\n",
              "      <td>3.0</td>\n",
              "      <td>31.0</td>\n",
              "      <td>0.0</td>\n",
              "      <td>105.0</td>\n",
              "      <td>12.0</td>\n",
              "      <td>1.0</td>\n",
              "      <td>0.0</td>\n",
              "      <td>1.0</td>\n",
              "      <td>0.0</td>\n",
              "      <td>0.0</td>\n",
              "    </tr>\n",
              "    <tr>\n",
              "      <th>4</th>\n",
              "      <td>35.0</td>\n",
              "      <td>70.0</td>\n",
              "      <td>64.0</td>\n",
              "      <td>3.0</td>\n",
              "      <td>0.0</td>\n",
              "      <td>0.0</td>\n",
              "      <td>64.0</td>\n",
              "      <td>1.0</td>\n",
              "      <td>2.0</td>\n",
              "      <td>0.0</td>\n",
              "      <td>0.0</td>\n",
              "      <td>0.0</td>\n",
              "      <td>0.0</td>\n",
              "    </tr>\n",
              "    <tr>\n",
              "      <th>5</th>\n",
              "      <td>67.0</td>\n",
              "      <td>215.0</td>\n",
              "      <td>7.0</td>\n",
              "      <td>4.0</td>\n",
              "      <td>3.0</td>\n",
              "      <td>0.0</td>\n",
              "      <td>5.0</td>\n",
              "      <td>102.0</td>\n",
              "      <td>5.0</td>\n",
              "      <td>36.0</td>\n",
              "      <td>0.0</td>\n",
              "      <td>0.0</td>\n",
              "      <td>1.0</td>\n",
              "    </tr>\n",
              "  </tbody>\n",
              "</table>\n",
              "</div>"
            ],
            "text/plain": [
              "        IN_DEFICIENCIA_AUDITIVA  ...  IN_TGD_TRANSTOR_DESINTEGRATIVO\n",
              "CO_IES                           ...                                \n",
              "1                          71.0  ...                             4.0\n",
              "2                          24.0  ...                             0.0\n",
              "3                          36.0  ...                             0.0\n",
              "4                          35.0  ...                             0.0\n",
              "5                          67.0  ...                             1.0\n",
              "\n",
              "[5 rows x 13 columns]"
            ]
          },
          "metadata": {},
          "execution_count": 110
        }
      ]
    },
    {
      "cell_type": "code",
      "metadata": {
        "colab": {
          "base_uri": "https://localhost:8080/",
          "height": 226
        },
        "id": "QfNdREC5VMYe",
        "outputId": "fc7bbebe-b52b-4fb5-8f2e-322f7f472b32"
      },
      "source": [
        "ies_alunos['ALUNOS_DEFICIENCIA'] = ies_alunos['IN_DEFICIENCIA_AUDITIVA'] + ies_alunos['IN_DEFICIENCIA_FISICA'] + ies_alunos['IN_DEFICIENCIA_INTELECTUAL'] + ies_alunos['IN_DEFICIENCIA_MULTIPLA'] + ies_alunos['IN_DEFICIENCIA_SURDEZ'] + ies_alunos['IN_DEFICIENCIA_SURDOCEGUEIRA'] + ies_alunos['IN_DEFICIENCIA_BAIXA_VISAO'] + ies_alunos['IN_DEFICIENCIA_CEGUEIRA'] + ies_alunos['IN_DEFICIENCIA_SUPERDOTACAO'] + ies_alunos['IN_TGD_AUTISMO'] + ies_alunos['IN_TGD_SINDROME_ASPERGER'] + ies_alunos['IN_TGD_SINDROME_RETT'] + ies_alunos['IN_TGD_TRANSTOR_DESINTEGRATIVO']\n",
        "ies_alunos = ies_alunos.reset_index()\n",
        "ies_alunos.head()"
      ],
      "execution_count": 111,
      "outputs": [
        {
          "output_type": "execute_result",
          "data": {
            "text/html": [
              "<div>\n",
              "<style scoped>\n",
              "    .dataframe tbody tr th:only-of-type {\n",
              "        vertical-align: middle;\n",
              "    }\n",
              "\n",
              "    .dataframe tbody tr th {\n",
              "        vertical-align: top;\n",
              "    }\n",
              "\n",
              "    .dataframe thead th {\n",
              "        text-align: right;\n",
              "    }\n",
              "</style>\n",
              "<table border=\"1\" class=\"dataframe\">\n",
              "  <thead>\n",
              "    <tr style=\"text-align: right;\">\n",
              "      <th></th>\n",
              "      <th>CO_IES</th>\n",
              "      <th>IN_DEFICIENCIA_AUDITIVA</th>\n",
              "      <th>IN_DEFICIENCIA_FISICA</th>\n",
              "      <th>IN_DEFICIENCIA_INTELECTUAL</th>\n",
              "      <th>IN_DEFICIENCIA_MULTIPLA</th>\n",
              "      <th>IN_DEFICIENCIA_SURDEZ</th>\n",
              "      <th>IN_DEFICIENCIA_SURDOCEGUEIRA</th>\n",
              "      <th>IN_DEFICIENCIA_BAIXA_VISAO</th>\n",
              "      <th>IN_DEFICIENCIA_CEGUEIRA</th>\n",
              "      <th>IN_DEFICIENCIA_SUPERDOTACAO</th>\n",
              "      <th>IN_TGD_AUTISMO</th>\n",
              "      <th>IN_TGD_SINDROME_ASPERGER</th>\n",
              "      <th>IN_TGD_SINDROME_RETT</th>\n",
              "      <th>IN_TGD_TRANSTOR_DESINTEGRATIVO</th>\n",
              "      <th>ALUNOS_DEFICIENCIA</th>\n",
              "    </tr>\n",
              "  </thead>\n",
              "  <tbody>\n",
              "    <tr>\n",
              "      <th>0</th>\n",
              "      <td>1</td>\n",
              "      <td>71.0</td>\n",
              "      <td>149.0</td>\n",
              "      <td>10.0</td>\n",
              "      <td>4.0</td>\n",
              "      <td>25.0</td>\n",
              "      <td>0.0</td>\n",
              "      <td>49.0</td>\n",
              "      <td>16.0</td>\n",
              "      <td>0.0</td>\n",
              "      <td>1.0</td>\n",
              "      <td>8.0</td>\n",
              "      <td>0.0</td>\n",
              "      <td>4.0</td>\n",
              "      <td>337.0</td>\n",
              "    </tr>\n",
              "    <tr>\n",
              "      <th>1</th>\n",
              "      <td>2</td>\n",
              "      <td>24.0</td>\n",
              "      <td>63.0</td>\n",
              "      <td>8.0</td>\n",
              "      <td>6.0</td>\n",
              "      <td>14.0</td>\n",
              "      <td>2.0</td>\n",
              "      <td>32.0</td>\n",
              "      <td>3.0</td>\n",
              "      <td>3.0</td>\n",
              "      <td>45.0</td>\n",
              "      <td>1.0</td>\n",
              "      <td>0.0</td>\n",
              "      <td>0.0</td>\n",
              "      <td>201.0</td>\n",
              "    </tr>\n",
              "    <tr>\n",
              "      <th>2</th>\n",
              "      <td>3</td>\n",
              "      <td>36.0</td>\n",
              "      <td>243.0</td>\n",
              "      <td>17.0</td>\n",
              "      <td>3.0</td>\n",
              "      <td>31.0</td>\n",
              "      <td>0.0</td>\n",
              "      <td>105.0</td>\n",
              "      <td>12.0</td>\n",
              "      <td>1.0</td>\n",
              "      <td>0.0</td>\n",
              "      <td>1.0</td>\n",
              "      <td>0.0</td>\n",
              "      <td>0.0</td>\n",
              "      <td>449.0</td>\n",
              "    </tr>\n",
              "    <tr>\n",
              "      <th>3</th>\n",
              "      <td>4</td>\n",
              "      <td>35.0</td>\n",
              "      <td>70.0</td>\n",
              "      <td>64.0</td>\n",
              "      <td>3.0</td>\n",
              "      <td>0.0</td>\n",
              "      <td>0.0</td>\n",
              "      <td>64.0</td>\n",
              "      <td>1.0</td>\n",
              "      <td>2.0</td>\n",
              "      <td>0.0</td>\n",
              "      <td>0.0</td>\n",
              "      <td>0.0</td>\n",
              "      <td>0.0</td>\n",
              "      <td>239.0</td>\n",
              "    </tr>\n",
              "    <tr>\n",
              "      <th>4</th>\n",
              "      <td>5</td>\n",
              "      <td>67.0</td>\n",
              "      <td>215.0</td>\n",
              "      <td>7.0</td>\n",
              "      <td>4.0</td>\n",
              "      <td>3.0</td>\n",
              "      <td>0.0</td>\n",
              "      <td>5.0</td>\n",
              "      <td>102.0</td>\n",
              "      <td>5.0</td>\n",
              "      <td>36.0</td>\n",
              "      <td>0.0</td>\n",
              "      <td>0.0</td>\n",
              "      <td>1.0</td>\n",
              "      <td>445.0</td>\n",
              "    </tr>\n",
              "  </tbody>\n",
              "</table>\n",
              "</div>"
            ],
            "text/plain": [
              "   CO_IES  ...  ALUNOS_DEFICIENCIA\n",
              "0       1  ...               337.0\n",
              "1       2  ...               201.0\n",
              "2       3  ...               449.0\n",
              "3       4  ...               239.0\n",
              "4       5  ...               445.0\n",
              "\n",
              "[5 rows x 15 columns]"
            ]
          },
          "metadata": {},
          "execution_count": 111
        }
      ]
    },
    {
      "cell_type": "code",
      "metadata": {
        "colab": {
          "base_uri": "https://localhost:8080/",
          "height": 206
        },
        "id": "foiJE-XQVvtJ",
        "outputId": "3a06521c-0543-4ef9-8eeb-a70cfc0704e4"
      },
      "source": [
        "ies_alunos = ies_alunos[['CO_IES','ALUNOS_DEFICIENCIA']]\n",
        "ies_alunos.head()"
      ],
      "execution_count": 112,
      "outputs": [
        {
          "output_type": "execute_result",
          "data": {
            "text/html": [
              "<div>\n",
              "<style scoped>\n",
              "    .dataframe tbody tr th:only-of-type {\n",
              "        vertical-align: middle;\n",
              "    }\n",
              "\n",
              "    .dataframe tbody tr th {\n",
              "        vertical-align: top;\n",
              "    }\n",
              "\n",
              "    .dataframe thead th {\n",
              "        text-align: right;\n",
              "    }\n",
              "</style>\n",
              "<table border=\"1\" class=\"dataframe\">\n",
              "  <thead>\n",
              "    <tr style=\"text-align: right;\">\n",
              "      <th></th>\n",
              "      <th>CO_IES</th>\n",
              "      <th>ALUNOS_DEFICIENCIA</th>\n",
              "    </tr>\n",
              "  </thead>\n",
              "  <tbody>\n",
              "    <tr>\n",
              "      <th>0</th>\n",
              "      <td>1</td>\n",
              "      <td>337.0</td>\n",
              "    </tr>\n",
              "    <tr>\n",
              "      <th>1</th>\n",
              "      <td>2</td>\n",
              "      <td>201.0</td>\n",
              "    </tr>\n",
              "    <tr>\n",
              "      <th>2</th>\n",
              "      <td>3</td>\n",
              "      <td>449.0</td>\n",
              "    </tr>\n",
              "    <tr>\n",
              "      <th>3</th>\n",
              "      <td>4</td>\n",
              "      <td>239.0</td>\n",
              "    </tr>\n",
              "    <tr>\n",
              "      <th>4</th>\n",
              "      <td>5</td>\n",
              "      <td>445.0</td>\n",
              "    </tr>\n",
              "  </tbody>\n",
              "</table>\n",
              "</div>"
            ],
            "text/plain": [
              "   CO_IES  ALUNOS_DEFICIENCIA\n",
              "0       1               337.0\n",
              "1       2               201.0\n",
              "2       3               449.0\n",
              "3       4               239.0\n",
              "4       5               445.0"
            ]
          },
          "metadata": {},
          "execution_count": 112
        }
      ]
    },
    {
      "cell_type": "code",
      "metadata": {
        "colab": {
          "base_uri": "https://localhost:8080/",
          "height": 206
        },
        "id": "c0HDi35HXd3t",
        "outputId": "6f334faf-a7d3-476a-ca80-8b1237ffe511"
      },
      "source": [
        "#Renomeando as colunas\n",
        "ies_alunos = ies_alunos.rename(columns={\n",
        "    'CO_IES':'cod_ies',\n",
        "    'ALUNOS_DEFICIENCIA':'alunos_deficiencia',\n",
        "    })\n",
        "ies_alunos.head()"
      ],
      "execution_count": 113,
      "outputs": [
        {
          "output_type": "execute_result",
          "data": {
            "text/html": [
              "<div>\n",
              "<style scoped>\n",
              "    .dataframe tbody tr th:only-of-type {\n",
              "        vertical-align: middle;\n",
              "    }\n",
              "\n",
              "    .dataframe tbody tr th {\n",
              "        vertical-align: top;\n",
              "    }\n",
              "\n",
              "    .dataframe thead th {\n",
              "        text-align: right;\n",
              "    }\n",
              "</style>\n",
              "<table border=\"1\" class=\"dataframe\">\n",
              "  <thead>\n",
              "    <tr style=\"text-align: right;\">\n",
              "      <th></th>\n",
              "      <th>cod_ies</th>\n",
              "      <th>alunos_deficiencia</th>\n",
              "    </tr>\n",
              "  </thead>\n",
              "  <tbody>\n",
              "    <tr>\n",
              "      <th>0</th>\n",
              "      <td>1</td>\n",
              "      <td>337.0</td>\n",
              "    </tr>\n",
              "    <tr>\n",
              "      <th>1</th>\n",
              "      <td>2</td>\n",
              "      <td>201.0</td>\n",
              "    </tr>\n",
              "    <tr>\n",
              "      <th>2</th>\n",
              "      <td>3</td>\n",
              "      <td>449.0</td>\n",
              "    </tr>\n",
              "    <tr>\n",
              "      <th>3</th>\n",
              "      <td>4</td>\n",
              "      <td>239.0</td>\n",
              "    </tr>\n",
              "    <tr>\n",
              "      <th>4</th>\n",
              "      <td>5</td>\n",
              "      <td>445.0</td>\n",
              "    </tr>\n",
              "  </tbody>\n",
              "</table>\n",
              "</div>"
            ],
            "text/plain": [
              "   cod_ies  alunos_deficiencia\n",
              "0        1               337.0\n",
              "1        2               201.0\n",
              "2        3               449.0\n",
              "3        4               239.0\n",
              "4        5               445.0"
            ]
          },
          "metadata": {},
          "execution_count": 113
        }
      ]
    },
    {
      "cell_type": "markdown",
      "metadata": {
        "id": "KPGnZ8eOZ9PN"
      },
      "source": [
        "### 1.5.Dados da IES"
      ]
    },
    {
      "cell_type": "markdown",
      "metadata": {
        "id": "JJUjT1lLbeB5"
      },
      "source": [
        "A fim de fazer uma integração de dados referentes à IES, vamos juntar em um único dataset essas informações para que possam servir de entrada para o clustering."
      ]
    },
    {
      "cell_type": "code",
      "metadata": {
        "colab": {
          "base_uri": "https://localhost:8080/",
          "height": 206
        },
        "id": "Uz-729_97g9B",
        "outputId": "2a7486d5-8fbf-4042-adea-7b145db0536f"
      },
      "source": [
        "ies = pd.merge(ies_igc, ies_receitas, how='inner', on='cod_ies')\n",
        "ies.head()"
      ],
      "execution_count": 114,
      "outputs": [
        {
          "output_type": "execute_result",
          "data": {
            "text/html": [
              "<div>\n",
              "<style scoped>\n",
              "    .dataframe tbody tr th:only-of-type {\n",
              "        vertical-align: middle;\n",
              "    }\n",
              "\n",
              "    .dataframe tbody tr th {\n",
              "        vertical-align: top;\n",
              "    }\n",
              "\n",
              "    .dataframe thead th {\n",
              "        text-align: right;\n",
              "    }\n",
              "</style>\n",
              "<table border=\"1\" class=\"dataframe\">\n",
              "  <thead>\n",
              "    <tr style=\"text-align: right;\">\n",
              "      <th></th>\n",
              "      <th>cod_ies</th>\n",
              "      <th>conceito_medio_graduacao</th>\n",
              "      <th>igc_continuo</th>\n",
              "      <th>categoria_administrativa</th>\n",
              "      <th>despesa_investimento</th>\n",
              "      <th>receitas</th>\n",
              "    </tr>\n",
              "  </thead>\n",
              "  <tbody>\n",
              "    <tr>\n",
              "      <th>0</th>\n",
              "      <td>1</td>\n",
              "      <td>2.924962</td>\n",
              "      <td>3.236518</td>\n",
              "      <td>1</td>\n",
              "      <td>9606414.13</td>\n",
              "      <td>9.270910e+08</td>\n",
              "    </tr>\n",
              "    <tr>\n",
              "      <th>1</th>\n",
              "      <td>2</td>\n",
              "      <td>3.269586</td>\n",
              "      <td>3.941659</td>\n",
              "      <td>1</td>\n",
              "      <td>23154904.42</td>\n",
              "      <td>1.597568e+08</td>\n",
              "    </tr>\n",
              "    <tr>\n",
              "      <th>2</th>\n",
              "      <td>3</td>\n",
              "      <td>3.105500</td>\n",
              "      <td>3.367594</td>\n",
              "      <td>1</td>\n",
              "      <td>8212361.64</td>\n",
              "      <td>9.457277e+08</td>\n",
              "    </tr>\n",
              "    <tr>\n",
              "      <th>3</th>\n",
              "      <td>4</td>\n",
              "      <td>2.821851</td>\n",
              "      <td>3.048187</td>\n",
              "      <td>1</td>\n",
              "      <td>12676251.59</td>\n",
              "      <td>1.070640e+09</td>\n",
              "    </tr>\n",
              "    <tr>\n",
              "      <th>4</th>\n",
              "      <td>5</td>\n",
              "      <td>2.713283</td>\n",
              "      <td>2.960657</td>\n",
              "      <td>1</td>\n",
              "      <td>7835737.00</td>\n",
              "      <td>8.559507e+08</td>\n",
              "    </tr>\n",
              "  </tbody>\n",
              "</table>\n",
              "</div>"
            ],
            "text/plain": [
              "   cod_ies  conceito_medio_graduacao  ...  despesa_investimento      receitas\n",
              "0        1                  2.924962  ...            9606414.13  9.270910e+08\n",
              "1        2                  3.269586  ...           23154904.42  1.597568e+08\n",
              "2        3                  3.105500  ...            8212361.64  9.457277e+08\n",
              "3        4                  2.821851  ...           12676251.59  1.070640e+09\n",
              "4        5                  2.713283  ...            7835737.00  8.559507e+08\n",
              "\n",
              "[5 rows x 6 columns]"
            ]
          },
          "metadata": {},
          "execution_count": 114
        }
      ]
    },
    {
      "cell_type": "code",
      "metadata": {
        "colab": {
          "base_uri": "https://localhost:8080/",
          "height": 226
        },
        "id": "GAP6Jg3O60F-",
        "outputId": "914a0b95-d196-420d-9d77-9f112fc050ea"
      },
      "source": [
        "ies = pd.merge(ies, ies_recursos, how='inner', on='cod_ies')\n",
        "ies.head()"
      ],
      "execution_count": 115,
      "outputs": [
        {
          "output_type": "execute_result",
          "data": {
            "text/html": [
              "<div>\n",
              "<style scoped>\n",
              "    .dataframe tbody tr th:only-of-type {\n",
              "        vertical-align: middle;\n",
              "    }\n",
              "\n",
              "    .dataframe tbody tr th {\n",
              "        vertical-align: top;\n",
              "    }\n",
              "\n",
              "    .dataframe thead th {\n",
              "        text-align: right;\n",
              "    }\n",
              "</style>\n",
              "<table border=\"1\" class=\"dataframe\">\n",
              "  <thead>\n",
              "    <tr style=\"text-align: right;\">\n",
              "      <th></th>\n",
              "      <th>cod_ies</th>\n",
              "      <th>conceito_medio_graduacao</th>\n",
              "      <th>igc_continuo</th>\n",
              "      <th>categoria_administrativa</th>\n",
              "      <th>despesa_investimento</th>\n",
              "      <th>receitas</th>\n",
              "      <th>num_recursos_medio</th>\n",
              "      <th>num_curso</th>\n",
              "    </tr>\n",
              "  </thead>\n",
              "  <tbody>\n",
              "    <tr>\n",
              "      <th>0</th>\n",
              "      <td>1</td>\n",
              "      <td>2.924962</td>\n",
              "      <td>3.236518</td>\n",
              "      <td>1</td>\n",
              "      <td>9606414.13</td>\n",
              "      <td>9.270910e+08</td>\n",
              "      <td>1.438596</td>\n",
              "      <td>114</td>\n",
              "    </tr>\n",
              "    <tr>\n",
              "      <th>1</th>\n",
              "      <td>2</td>\n",
              "      <td>3.269586</td>\n",
              "      <td>3.941659</td>\n",
              "      <td>1</td>\n",
              "      <td>23154904.42</td>\n",
              "      <td>1.597568e+08</td>\n",
              "      <td>11.979866</td>\n",
              "      <td>149</td>\n",
              "    </tr>\n",
              "    <tr>\n",
              "      <th>2</th>\n",
              "      <td>3</td>\n",
              "      <td>3.105500</td>\n",
              "      <td>3.367594</td>\n",
              "      <td>1</td>\n",
              "      <td>8212361.64</td>\n",
              "      <td>9.457277e+08</td>\n",
              "      <td>2.818966</td>\n",
              "      <td>116</td>\n",
              "    </tr>\n",
              "    <tr>\n",
              "      <th>3</th>\n",
              "      <td>4</td>\n",
              "      <td>2.821851</td>\n",
              "      <td>3.048187</td>\n",
              "      <td>1</td>\n",
              "      <td>12676251.59</td>\n",
              "      <td>1.070640e+09</td>\n",
              "      <td>0.981308</td>\n",
              "      <td>107</td>\n",
              "    </tr>\n",
              "    <tr>\n",
              "      <th>4</th>\n",
              "      <td>5</td>\n",
              "      <td>2.713283</td>\n",
              "      <td>2.960657</td>\n",
              "      <td>1</td>\n",
              "      <td>7835737.00</td>\n",
              "      <td>8.559507e+08</td>\n",
              "      <td>9.940000</td>\n",
              "      <td>100</td>\n",
              "    </tr>\n",
              "  </tbody>\n",
              "</table>\n",
              "</div>"
            ],
            "text/plain": [
              "   cod_ies  conceito_medio_graduacao  ...  num_recursos_medio  num_curso\n",
              "0        1                  2.924962  ...            1.438596        114\n",
              "1        2                  3.269586  ...           11.979866        149\n",
              "2        3                  3.105500  ...            2.818966        116\n",
              "3        4                  2.821851  ...            0.981308        107\n",
              "4        5                  2.713283  ...            9.940000        100\n",
              "\n",
              "[5 rows x 8 columns]"
            ]
          },
          "metadata": {},
          "execution_count": 115
        }
      ]
    },
    {
      "cell_type": "code",
      "metadata": {
        "colab": {
          "base_uri": "https://localhost:8080/",
          "height": 226
        },
        "id": "s4BOCmCLXN9P",
        "outputId": "e9b08dac-5fa0-4458-d72c-c711496c7fa9"
      },
      "source": [
        "ies = pd.merge(ies, ies_alunos, how='inner', on='cod_ies')\n",
        "ies.head()"
      ],
      "execution_count": 116,
      "outputs": [
        {
          "output_type": "execute_result",
          "data": {
            "text/html": [
              "<div>\n",
              "<style scoped>\n",
              "    .dataframe tbody tr th:only-of-type {\n",
              "        vertical-align: middle;\n",
              "    }\n",
              "\n",
              "    .dataframe tbody tr th {\n",
              "        vertical-align: top;\n",
              "    }\n",
              "\n",
              "    .dataframe thead th {\n",
              "        text-align: right;\n",
              "    }\n",
              "</style>\n",
              "<table border=\"1\" class=\"dataframe\">\n",
              "  <thead>\n",
              "    <tr style=\"text-align: right;\">\n",
              "      <th></th>\n",
              "      <th>cod_ies</th>\n",
              "      <th>conceito_medio_graduacao</th>\n",
              "      <th>igc_continuo</th>\n",
              "      <th>categoria_administrativa</th>\n",
              "      <th>despesa_investimento</th>\n",
              "      <th>receitas</th>\n",
              "      <th>num_recursos_medio</th>\n",
              "      <th>num_curso</th>\n",
              "      <th>alunos_deficiencia</th>\n",
              "    </tr>\n",
              "  </thead>\n",
              "  <tbody>\n",
              "    <tr>\n",
              "      <th>0</th>\n",
              "      <td>1</td>\n",
              "      <td>2.924962</td>\n",
              "      <td>3.236518</td>\n",
              "      <td>1</td>\n",
              "      <td>9606414.13</td>\n",
              "      <td>9.270910e+08</td>\n",
              "      <td>1.438596</td>\n",
              "      <td>114</td>\n",
              "      <td>337.0</td>\n",
              "    </tr>\n",
              "    <tr>\n",
              "      <th>1</th>\n",
              "      <td>2</td>\n",
              "      <td>3.269586</td>\n",
              "      <td>3.941659</td>\n",
              "      <td>1</td>\n",
              "      <td>23154904.42</td>\n",
              "      <td>1.597568e+08</td>\n",
              "      <td>11.979866</td>\n",
              "      <td>149</td>\n",
              "      <td>201.0</td>\n",
              "    </tr>\n",
              "    <tr>\n",
              "      <th>2</th>\n",
              "      <td>3</td>\n",
              "      <td>3.105500</td>\n",
              "      <td>3.367594</td>\n",
              "      <td>1</td>\n",
              "      <td>8212361.64</td>\n",
              "      <td>9.457277e+08</td>\n",
              "      <td>2.818966</td>\n",
              "      <td>116</td>\n",
              "      <td>449.0</td>\n",
              "    </tr>\n",
              "    <tr>\n",
              "      <th>3</th>\n",
              "      <td>4</td>\n",
              "      <td>2.821851</td>\n",
              "      <td>3.048187</td>\n",
              "      <td>1</td>\n",
              "      <td>12676251.59</td>\n",
              "      <td>1.070640e+09</td>\n",
              "      <td>0.981308</td>\n",
              "      <td>107</td>\n",
              "      <td>239.0</td>\n",
              "    </tr>\n",
              "    <tr>\n",
              "      <th>4</th>\n",
              "      <td>5</td>\n",
              "      <td>2.713283</td>\n",
              "      <td>2.960657</td>\n",
              "      <td>1</td>\n",
              "      <td>7835737.00</td>\n",
              "      <td>8.559507e+08</td>\n",
              "      <td>9.940000</td>\n",
              "      <td>100</td>\n",
              "      <td>445.0</td>\n",
              "    </tr>\n",
              "  </tbody>\n",
              "</table>\n",
              "</div>"
            ],
            "text/plain": [
              "   cod_ies  conceito_medio_graduacao  ...  num_curso  alunos_deficiencia\n",
              "0        1                  2.924962  ...        114               337.0\n",
              "1        2                  3.269586  ...        149               201.0\n",
              "2        3                  3.105500  ...        116               449.0\n",
              "3        4                  2.821851  ...        107               239.0\n",
              "4        5                  2.713283  ...        100               445.0\n",
              "\n",
              "[5 rows x 9 columns]"
            ]
          },
          "metadata": {},
          "execution_count": 116
        }
      ]
    },
    {
      "cell_type": "code",
      "metadata": {
        "colab": {
          "base_uri": "https://localhost:8080/",
          "height": 226
        },
        "id": "BsiP3IlYD_pK",
        "outputId": "bfd1e0ce-c46b-4b83-8cdc-205154f01025"
      },
      "source": [
        "ies = ies[['categoria_administrativa','alunos_deficiencia','num_recursos_medio','num_curso','receitas','despesa_investimento','conceito_medio_graduacao','igc_continuo']]\n",
        "ies.head()"
      ],
      "execution_count": 117,
      "outputs": [
        {
          "output_type": "execute_result",
          "data": {
            "text/html": [
              "<div>\n",
              "<style scoped>\n",
              "    .dataframe tbody tr th:only-of-type {\n",
              "        vertical-align: middle;\n",
              "    }\n",
              "\n",
              "    .dataframe tbody tr th {\n",
              "        vertical-align: top;\n",
              "    }\n",
              "\n",
              "    .dataframe thead th {\n",
              "        text-align: right;\n",
              "    }\n",
              "</style>\n",
              "<table border=\"1\" class=\"dataframe\">\n",
              "  <thead>\n",
              "    <tr style=\"text-align: right;\">\n",
              "      <th></th>\n",
              "      <th>categoria_administrativa</th>\n",
              "      <th>alunos_deficiencia</th>\n",
              "      <th>num_recursos_medio</th>\n",
              "      <th>num_curso</th>\n",
              "      <th>receitas</th>\n",
              "      <th>despesa_investimento</th>\n",
              "      <th>conceito_medio_graduacao</th>\n",
              "      <th>igc_continuo</th>\n",
              "    </tr>\n",
              "  </thead>\n",
              "  <tbody>\n",
              "    <tr>\n",
              "      <th>0</th>\n",
              "      <td>1</td>\n",
              "      <td>337.0</td>\n",
              "      <td>1.438596</td>\n",
              "      <td>114</td>\n",
              "      <td>9.270910e+08</td>\n",
              "      <td>9606414.13</td>\n",
              "      <td>2.924962</td>\n",
              "      <td>3.236518</td>\n",
              "    </tr>\n",
              "    <tr>\n",
              "      <th>1</th>\n",
              "      <td>1</td>\n",
              "      <td>201.0</td>\n",
              "      <td>11.979866</td>\n",
              "      <td>149</td>\n",
              "      <td>1.597568e+08</td>\n",
              "      <td>23154904.42</td>\n",
              "      <td>3.269586</td>\n",
              "      <td>3.941659</td>\n",
              "    </tr>\n",
              "    <tr>\n",
              "      <th>2</th>\n",
              "      <td>1</td>\n",
              "      <td>449.0</td>\n",
              "      <td>2.818966</td>\n",
              "      <td>116</td>\n",
              "      <td>9.457277e+08</td>\n",
              "      <td>8212361.64</td>\n",
              "      <td>3.105500</td>\n",
              "      <td>3.367594</td>\n",
              "    </tr>\n",
              "    <tr>\n",
              "      <th>3</th>\n",
              "      <td>1</td>\n",
              "      <td>239.0</td>\n",
              "      <td>0.981308</td>\n",
              "      <td>107</td>\n",
              "      <td>1.070640e+09</td>\n",
              "      <td>12676251.59</td>\n",
              "      <td>2.821851</td>\n",
              "      <td>3.048187</td>\n",
              "    </tr>\n",
              "    <tr>\n",
              "      <th>4</th>\n",
              "      <td>1</td>\n",
              "      <td>445.0</td>\n",
              "      <td>9.940000</td>\n",
              "      <td>100</td>\n",
              "      <td>8.559507e+08</td>\n",
              "      <td>7835737.00</td>\n",
              "      <td>2.713283</td>\n",
              "      <td>2.960657</td>\n",
              "    </tr>\n",
              "  </tbody>\n",
              "</table>\n",
              "</div>"
            ],
            "text/plain": [
              "   categoria_administrativa  ...  igc_continuo\n",
              "0                         1  ...      3.236518\n",
              "1                         1  ...      3.941659\n",
              "2                         1  ...      3.367594\n",
              "3                         1  ...      3.048187\n",
              "4                         1  ...      2.960657\n",
              "\n",
              "[5 rows x 8 columns]"
            ]
          },
          "metadata": {},
          "execution_count": 117
        }
      ]
    },
    {
      "cell_type": "markdown",
      "metadata": {
        "id": "YDfwUjEMOZJI"
      },
      "source": [
        "### 1.6.Densidade de Kernel"
      ]
    },
    {
      "cell_type": "markdown",
      "metadata": {
        "id": "GSXhjKqsNkf9"
      },
      "source": [
        "Para termos uma melhor visualização dos nossos dados, foi feito ainda uma análise da densidade das features, \n",
        "por meio do kde plot (kernel density estimation plot). \n",
        "\n",
        "Nos gráficos a seguir, podemos observar uma estimativa da frequência relativa dos valores, ou seja, \n",
        "uma estimativa da função densidade de probabilidade da feature, em termos probabilísticos."
      ]
    },
    {
      "cell_type": "code",
      "metadata": {
        "colab": {
          "base_uri": "https://localhost:8080/",
          "height": 282
        },
        "id": "HcD8RGDNDw6C",
        "outputId": "3933ee87-a81d-4668-d931-02b79d7d0c46"
      },
      "source": [
        "#KDEPLOT 1\n",
        "plt.figure(1 , figsize = (7,4))\n",
        "sns.kdeplot(x = 'num_recursos_medio', y = 'conceito_medio_graduacao', data = ies, fill=True, palette='crest')\n",
        "#plt.title(\"DENSIDADE DAS FEATURES\", fontsize=14)\n",
        "plt.ylabel('Conceito Médio da Graduação', fontsize=13), plt.xlabel('Recursos de Acessibilidade', fontsize=13)\n",
        "plt.savefig('kdeplot1.png', transparent = True)"
      ],
      "execution_count": 167,
      "outputs": [
        {
          "output_type": "display_data",
          "data": {
            "image/png": "[encoded data removed]",
            "text/plain": [
              "<Figure size 504x288 with 1 Axes>"
            ]
          },
          "metadata": {}
        }
      ]
    },
    {
      "cell_type": "code",
      "metadata": {
        "colab": {
          "base_uri": "https://localhost:8080/",
          "height": 282
        },
        "id": "2ad2c_AFOSw9",
        "outputId": "9802898b-724f-4c7c-a751-83b99d643d0b"
      },
      "source": [
        "#KDEPLOT 2\n",
        "#plt.figure(1 , figsize = (7,4))\n",
        "sns.kdeplot(x = 'alunos_deficiencia', y = 'conceito_medio_graduacao', data = ies, fill=True, palette='crest')\n",
        "#plt.title(\"DENSIDADE DAS FEATURES\", fontsize=14)\n",
        "plt.ylabel('Conceito Médio da Graduação', fontsize=13), plt.xlabel('Alunos com Deficiência', fontsize=13)\n",
        "plt.savefig('kdeplot2.png', transparent = True)"
      ],
      "execution_count": 166,
      "outputs": [
        {
          "output_type": "display_data",
          "data": {
            "image/png": "[encoded data removed]",
            "text/plain": [
              "<Figure size 432x288 with 1 Axes>"
            ]
          },
          "metadata": {}
        }
      ]
    },
    {
      "cell_type": "code",
      "metadata": {
        "colab": {
          "base_uri": "https://localhost:8080/",
          "height": 283
        },
        "id": "7lmC9qUcPOTQ",
        "outputId": "a09a29ff-5d56-4949-a358-1a8cca8292a5"
      },
      "source": [
        "#KDEPLOT 3\n",
        "#plt.figure(1 , figsize = (7,4))\n",
        "sns.kdeplot(x = 'alunos_deficiencia', y = 'num_recursos_medio', data = ies, fill=True, palette='crest')\n",
        "#plt.title(\"DENSIDADE DAS FEATURES\", fontsize=14)\n",
        "plt.ylabel('Recursos de Acessibilidade', fontsize=13), plt.xlabel('Alunos com Deficiência', fontsize=13)\n",
        "plt.savefig('kdeplot3.png', transparent = True)"
      ],
      "execution_count": 165,
      "outputs": [
        {
          "output_type": "display_data",
          "data": {
            "image/png": "[encoded data removed]",
            "text/plain": [
              "<Figure size 432x288 with 1 Axes>"
            ]
          },
          "metadata": {}
        }
      ]
    },
    {
      "cell_type": "code",
      "metadata": {
        "colab": {
          "base_uri": "https://localhost:8080/",
          "height": 283
        },
        "id": "f1h6_HPIP2E7",
        "outputId": "360d1dba-6530-4368-9f54-277c645bfd3b"
      },
      "source": [
        "#KDEPLOT 4\n",
        "#plt.figure(1 , figsize = (7,4))\n",
        "sns.kdeplot(x = 'receitas', y = 'num_recursos_medio', data = ies, fill=True, palette='crest')\n",
        "#plt.title(\"DENSIDADE DAS FEATURES\", fontsize=14)\n",
        "plt.ylabel('Recursos de Acessibilidade', fontsize=13), plt.xlabel('Receitas das IES', fontsize=13)\n",
        "plt.savefig('kdeplot4.png', transparent = True)"
      ],
      "execution_count": 164,
      "outputs": [
        {
          "output_type": "display_data",
          "data": {
            "image/png": "[encoded data removed]",
            "text/plain": [
              "<Figure size 432x288 with 1 Axes>"
            ]
          },
          "metadata": {}
        }
      ]
    },
    {
      "cell_type": "code",
      "metadata": {
        "colab": {
          "base_uri": "https://localhost:8080/",
          "height": 283
        },
        "id": "_hCb44nIQOlo",
        "outputId": "fc6d9fed-d7a1-49bc-b1f2-feec910d88ed"
      },
      "source": [
        "#KDEPLOT 5\n",
        "#plt.figure(1 , figsize = (7,4))\n",
        "sns.kdeplot(x = 'despesa_investimento', y = 'num_recursos_medio', data = ies, fill=True, palette='crest')\n",
        "#plt.title(\"DENSIDADE DAS FEATURES\", fontsize=14)\n",
        "plt.ylabel('Recursos de Acessibilidade', fontsize=13), plt.xlabel('Despesas com Investimentos das IES', fontsize=13)\n",
        "plt.savefig('kdeplot5.png', transparent = True)"
      ],
      "execution_count": 163,
      "outputs": [
        {
          "output_type": "display_data",
          "data": {
            "image/png": "[encoded data removed]",
            "text/plain": [
              "<Figure size 432x288 with 1 Axes>"
            ]
          },
          "metadata": {}
        }
      ]
    },
    {
      "cell_type": "code",
      "metadata": {
        "colab": {
          "base_uri": "https://localhost:8080/",
          "height": 320
        },
        "id": "nqgGoBxPjDaT",
        "outputId": "9517edb2-0d25-49c0-9010-02913f446192"
      },
      "source": [
        "ies.describe()"
      ],
      "execution_count": 119,
      "outputs": [
        {
          "output_type": "execute_result",
          "data": {
            "text/html": [
              "<div>\n",
              "<style scoped>\n",
              "    .dataframe tbody tr th:only-of-type {\n",
              "        vertical-align: middle;\n",
              "    }\n",
              "\n",
              "    .dataframe tbody tr th {\n",
              "        vertical-align: top;\n",
              "    }\n",
              "\n",
              "    .dataframe thead th {\n",
              "        text-align: right;\n",
              "    }\n",
              "</style>\n",
              "<table border=\"1\" class=\"dataframe\">\n",
              "  <thead>\n",
              "    <tr style=\"text-align: right;\">\n",
              "      <th></th>\n",
              "      <th>categoria_administrativa</th>\n",
              "      <th>alunos_deficiencia</th>\n",
              "      <th>num_recursos_medio</th>\n",
              "      <th>num_curso</th>\n",
              "      <th>receitas</th>\n",
              "      <th>despesa_investimento</th>\n",
              "      <th>conceito_medio_graduacao</th>\n",
              "      <th>igc_continuo</th>\n",
              "    </tr>\n",
              "  </thead>\n",
              "  <tbody>\n",
              "    <tr>\n",
              "      <th>count</th>\n",
              "      <td>1443.000000</td>\n",
              "      <td>1443.000000</td>\n",
              "      <td>1443.000000</td>\n",
              "      <td>1443.000000</td>\n",
              "      <td>1.443000e+03</td>\n",
              "      <td>1.443000e+03</td>\n",
              "      <td>1443.000000</td>\n",
              "      <td>1441.000000</td>\n",
              "    </tr>\n",
              "    <tr>\n",
              "      <th>mean</th>\n",
              "      <td>4.012474</td>\n",
              "      <td>47.995149</td>\n",
              "      <td>6.089783</td>\n",
              "      <td>24.426888</td>\n",
              "      <td>2.947747e+08</td>\n",
              "      <td>1.648067e+07</td>\n",
              "      <td>2.627170</td>\n",
              "      <td>2.672296</td>\n",
              "    </tr>\n",
              "    <tr>\n",
              "      <th>std</th>\n",
              "      <td>1.166980</td>\n",
              "      <td>176.824558</td>\n",
              "      <td>3.689614</td>\n",
              "      <td>42.325656</td>\n",
              "      <td>5.993693e+08</td>\n",
              "      <td>5.308947e+07</td>\n",
              "      <td>0.501229</td>\n",
              "      <td>0.544439</td>\n",
              "    </tr>\n",
              "    <tr>\n",
              "      <th>min</th>\n",
              "      <td>1.000000</td>\n",
              "      <td>1.000000</td>\n",
              "      <td>0.000000</td>\n",
              "      <td>1.000000</td>\n",
              "      <td>1.000000e-02</td>\n",
              "      <td>0.000000e+00</td>\n",
              "      <td>0.000000</td>\n",
              "      <td>0.797657</td>\n",
              "    </tr>\n",
              "    <tr>\n",
              "      <th>25%</th>\n",
              "      <td>4.000000</td>\n",
              "      <td>2.000000</td>\n",
              "      <td>3.000000</td>\n",
              "      <td>5.000000</td>\n",
              "      <td>7.128023e+06</td>\n",
              "      <td>0.000000e+00</td>\n",
              "      <td>2.305112</td>\n",
              "      <td>2.307758</td>\n",
              "    </tr>\n",
              "    <tr>\n",
              "      <th>50%</th>\n",
              "      <td>4.000000</td>\n",
              "      <td>5.000000</td>\n",
              "      <td>6.000000</td>\n",
              "      <td>12.000000</td>\n",
              "      <td>3.373089e+07</td>\n",
              "      <td>5.877124e+05</td>\n",
              "      <td>2.618685</td>\n",
              "      <td>2.641441</td>\n",
              "    </tr>\n",
              "    <tr>\n",
              "      <th>75%</th>\n",
              "      <td>5.000000</td>\n",
              "      <td>24.000000</td>\n",
              "      <td>9.000000</td>\n",
              "      <td>25.000000</td>\n",
              "      <td>2.607849e+08</td>\n",
              "      <td>7.146007e+06</td>\n",
              "      <td>2.952388</td>\n",
              "      <td>2.996998</td>\n",
              "    </tr>\n",
              "    <tr>\n",
              "      <th>max</th>\n",
              "      <td>7.000000</td>\n",
              "      <td>3333.000000</td>\n",
              "      <td>12.000000</td>\n",
              "      <td>928.000000</td>\n",
              "      <td>4.167839e+09</td>\n",
              "      <td>5.355536e+08</td>\n",
              "      <td>4.302528</td>\n",
              "      <td>4.854888</td>\n",
              "    </tr>\n",
              "  </tbody>\n",
              "</table>\n",
              "</div>"
            ],
            "text/plain": [
              "       categoria_administrativa  ...  igc_continuo\n",
              "count               1443.000000  ...   1441.000000\n",
              "mean                   4.012474  ...      2.672296\n",
              "std                    1.166980  ...      0.544439\n",
              "min                    1.000000  ...      0.797657\n",
              "25%                    4.000000  ...      2.307758\n",
              "50%                    4.000000  ...      2.641441\n",
              "75%                    5.000000  ...      2.996998\n",
              "max                    7.000000  ...      4.854888\n",
              "\n",
              "[8 rows x 8 columns]"
            ]
          },
          "metadata": {},
          "execution_count": 119
        }
      ]
    },
    {
      "cell_type": "markdown",
      "metadata": {
        "id": "mBASp_ucanMt"
      },
      "source": [
        "## 2.Pré-processamento dos dados"
      ]
    },
    {
      "cell_type": "markdown",
      "metadata": {
        "id": "w_CQu2tNatBx"
      },
      "source": [
        "Depois de remover as duplicatas, colunas desnecessárias e analisar os dados inconsistentes, precisamos ainda fazer o tratamento dos dados ausentes e de outliers e ruído, ratamento de dados ausentes."
      ]
    },
    {
      "cell_type": "markdown",
      "metadata": {
        "id": "jiFOo7Irb6oB"
      },
      "source": [
        "Além disso, precisamos transformar os dados em relação a sua escala e remover as variáveis ​​dependentes (altamente correlacionadas), por meio da normalização e analisando sua correlação, respectivamente."
      ]
    },
    {
      "cell_type": "markdown",
      "metadata": {
        "id": "cK8V8eq0cbit"
      },
      "source": [
        "###2.1.Outliers"
      ]
    },
    {
      "cell_type": "markdown",
      "metadata": {
        "id": "t0YnTwCqjZDi"
      },
      "source": [
        "####2.1.1.Alunos"
      ]
    },
    {
      "cell_type": "code",
      "metadata": {
        "id": "MjVfT6PFgZ6d",
        "colab": {
          "base_uri": "https://localhost:8080/",
          "height": 282
        },
        "outputId": "9c6846f6-0f74-4442-8e9f-0dee26454f7c"
      },
      "source": [
        "#Boxplot para visualização de outliers\n",
        "plt.figure(figsize =(7, 4))\n",
        "sns.set_style('darkgrid')\n",
        "grafico_1 = sns.boxplot( y = \"alunos_deficiencia\", data = ies, linewidth=2, palette = \"crest\")\n",
        "plt.title(\"ALUNOS COM DEFICIÊNCIA\", loc=\"center\", fontsize=14)\n",
        "plt.ylabel('Alunos')"
      ],
      "execution_count": 120,
      "outputs": [
        {
          "output_type": "execute_result",
          "data": {
            "text/plain": [
              "Text(0, 0.5, 'Alunos')"
            ]
          },
          "metadata": {},
          "execution_count": 120
        },
        {
          "output_type": "display_data",
          "data": {
            "image/png": "[encoded data removed]",
            "text/plain": [
              "<Figure size 504x288 with 1 Axes>"
            ]
          },
          "metadata": {}
        }
      ]
    },
    {
      "cell_type": "code",
      "metadata": {
        "id": "ysKKI1ITg9oI"
      },
      "source": [
        "#Tratando outliers no campo de alunos\n",
        "alunos_novo = ies['alunos_deficiencia']\n",
        "Q1 = alunos_novo.quantile(.25)\n",
        "Q3 = alunos_novo.quantile(.75)\n",
        "IIQ = Q3 - Q1\n",
        "limite_inferior = Q1 - 1.5 * IIQ\n",
        "limite_superior = Q3 + 1.5 * IIQ\n",
        "\n",
        "selecao_alunos = (alunos_novo >= limite_inferior) & (alunos_novo <= limite_superior)\n",
        "novo_ies = ies[selecao_alunos]"
      ],
      "execution_count": 121,
      "outputs": []
    },
    {
      "cell_type": "code",
      "metadata": {
        "colab": {
          "base_uri": "https://localhost:8080/",
          "height": 282
        },
        "id": "3XcV3RkJ2gYj",
        "outputId": "89f85530-9ad2-4472-930c-1e31de544afc"
      },
      "source": [
        "#Boxplot para visualização pós tratamento de outliers\n",
        "plt.figure(figsize =(7, 4))\n",
        "sns.set_style('darkgrid')\n",
        "grafico_1 = sns.boxplot( y = \"alunos_deficiencia\", data = novo_ies, linewidth=2, palette = \"crest\")\n",
        "plt.title(\"ALUNOS COM DEFICIÊNCIA\", fontsize=14)\n",
        "plt.ylabel('Alunos', fontsize=13)"
      ],
      "execution_count": 122,
      "outputs": [
        {
          "output_type": "execute_result",
          "data": {
            "text/plain": [
              "Text(0, 0.5, 'Alunos')"
            ]
          },
          "metadata": {},
          "execution_count": 122
        },
        {
          "output_type": "display_data",
          "data": {
            "image/png": "[encoded data removed]",
            "text/plain": [
              "<Figure size 504x288 with 1 Axes>"
            ]
          },
          "metadata": {}
        }
      ]
    },
    {
      "cell_type": "markdown",
      "metadata": {
        "id": "d_Bkuj04ji_w"
      },
      "source": [
        "####2.1.2.Recursos"
      ]
    },
    {
      "cell_type": "code",
      "metadata": {
        "colab": {
          "base_uri": "https://localhost:8080/",
          "height": 265
        },
        "id": "o-_7boDvkJ-S",
        "outputId": "c6decd98-eb11-4d2e-f3c1-efb1fb6adf90"
      },
      "source": [
        "#Boxplot para visualização de outliers\n",
        "plt.figure(figsize =(7, 4))\n",
        "sns.set_style('darkgrid')\n",
        "grafico_2 = sns.boxplot( y = 'num_recursos_medio', data = ies, linewidth=2, palette = \"crest\")\n",
        "plt.title(\"RECURSOS DE ACESSIBILIDADE\", fontsize=14)\n",
        "plt.ylabel('Recursos', fontsize=13)\n",
        "plt.savefig('outliers_recursos.png', transparent = True)"
      ],
      "execution_count": 123,
      "outputs": [
        {
          "output_type": "display_data",
          "data": {
            "image/png": "[encoded data removed]",
            "text/plain": [
              "<Figure size 504x288 with 1 Axes>"
            ]
          },
          "metadata": {}
        }
      ]
    },
    {
      "cell_type": "markdown",
      "metadata": {
        "id": "W3F7sWy7k5RN"
      },
      "source": [
        "Neste caso, não houve tratamento de outliers, pois não conseguimos visualizá-los pelo boxplot"
      ]
    },
    {
      "cell_type": "markdown",
      "metadata": {
        "id": "tfz4E_B3joiw"
      },
      "source": [
        "####2.1.3.Número de cursos"
      ]
    },
    {
      "cell_type": "code",
      "metadata": {
        "colab": {
          "base_uri": "https://localhost:8080/",
          "height": 265
        },
        "id": "uh50psgrkOhG",
        "outputId": "c2d41317-9ca2-4840-fbe1-12bfc39e5017"
      },
      "source": [
        "#Boxplot para visualização de outliers\n",
        "plt.figure(figsize =(7, 4))\n",
        "sns.set_style('darkgrid')\n",
        "grafico_3 = sns.boxplot( y = \"num_curso\", data = ies, linewidth=2, palette = \"crest\")\n",
        "plt.title(\"NÚMERO DE CURSOS DA IES\", fontsize=14)\n",
        "plt.ylabel('Cursos', fontsize=13)\n",
        "plt.savefig('outliers_cursos.png', transparent = True)"
      ],
      "execution_count": 124,
      "outputs": [
        {
          "output_type": "display_data",
          "data": {
            "image/png": "[encoded data removed]",
            "text/plain": [
              "<Figure size 504x288 with 1 Axes>"
            ]
          },
          "metadata": {}
        }
      ]
    },
    {
      "cell_type": "code",
      "metadata": {
        "id": "HI-M3L3Y7cBb"
      },
      "source": [
        "#Tratando outliers no campo de receitas\n",
        "num_curso_novo = ies['num_curso']\n",
        "Q1 = num_curso_novo.quantile(.25)\n",
        "Q3 = num_curso_novo.quantile(.75)\n",
        "IIQ = Q3 - Q1\n",
        "limite_inferior = Q1 - 1.5 * IIQ\n",
        "limite_superior = Q3 + 1.5 * IIQ\n",
        "\n",
        "selecao_num_curso = (num_curso_novo >= limite_inferior) & (num_curso_novo <= limite_superior)\n",
        "novo_ies = ies[selecao_num_curso]"
      ],
      "execution_count": 125,
      "outputs": []
    },
    {
      "cell_type": "code",
      "metadata": {
        "id": "VYX0vhXu4sJo",
        "colab": {
          "base_uri": "https://localhost:8080/",
          "height": 265
        },
        "outputId": "d455f86c-e069-44b7-a4e1-a761ad8f67bb"
      },
      "source": [
        "#Boxplot para visualização após tratamento de outliers\n",
        "plt.figure(figsize =(7, 4))\n",
        "sns.set_style('darkgrid')\n",
        "grafico_3 = sns.boxplot( y = \"num_curso\", data = novo_ies, linewidth=2, palette = \"crest\")\n",
        "plt.title(\"NÚMERO DE CURSOS DA IES\", fontsize=14)\n",
        "plt.ylabel('Cursos', fontsize=13)\n",
        "plt.savefig('posoutliers_cursos.png', transparent = True)"
      ],
      "execution_count": 126,
      "outputs": [
        {
          "output_type": "display_data",
          "data": {
            "image/png": "[encoded data removed]",
            "text/plain": [
              "<Figure size 504x288 with 1 Axes>"
            ]
          },
          "metadata": {}
        }
      ]
    },
    {
      "cell_type": "markdown",
      "metadata": {
        "id": "IfRSlAmujsgE"
      },
      "source": [
        "####2.2.4.Receitas"
      ]
    },
    {
      "cell_type": "code",
      "metadata": {
        "colab": {
          "base_uri": "https://localhost:8080/",
          "height": 265
        },
        "id": "5gnWi5lGkPgN",
        "outputId": "fb7759e9-f904-42d3-9e74-2fd085f26ab5"
      },
      "source": [
        "#Boxplot para visualização de outliers\n",
        "plt.figure(figsize =(7, 4))\n",
        "sns.set_style('darkgrid')\n",
        "grafico_4 = sns.boxplot( y = \"receitas\", data = ies, linewidth=2, palette = \"crest\")\n",
        "plt.title(\"RECEITAS POR IES\", fontsize=14)\n",
        "plt.ylabel('Receita', fontsize=13)\n",
        "plt.savefig('outliers_receitas.png', transparent = True)"
      ],
      "execution_count": 127,
      "outputs": [
        {
          "output_type": "display_data",
          "data": {
            "image/png": "[encoded data removed]",
            "text/plain": [
              "<Figure size 504x288 with 1 Axes>"
            ]
          },
          "metadata": {}
        }
      ]
    },
    {
      "cell_type": "code",
      "metadata": {
        "id": "7hUjijbwkVm_",
        "colab": {
          "base_uri": "https://localhost:8080/",
          "height": 320
        },
        "outputId": "d15e17e2-f6e7-4454-d452-82e1b8f4931d"
      },
      "source": [
        "#Tratando outliers no campo de receitas\n",
        "receitas_novo = ies['receitas']\n",
        "Q1 = receitas_novo.quantile(.25)\n",
        "Q3 = receitas_novo.quantile(.75)\n",
        "IIQ = Q3 - Q1\n",
        "limite_inferior = Q1 - 1.5 * IIQ\n",
        "limite_superior = Q3 + 1.5 * IIQ\n",
        "\n",
        "selecao_receitas = (receitas_novo >= limite_inferior) & (receitas_novo <= limite_superior)\n",
        "novo_ies = ies[selecao_receitas]\n",
        "novo_ies.describe()"
      ],
      "execution_count": 128,
      "outputs": [
        {
          "output_type": "execute_result",
          "data": {
            "text/html": [
              "<div>\n",
              "<style scoped>\n",
              "    .dataframe tbody tr th:only-of-type {\n",
              "        vertical-align: middle;\n",
              "    }\n",
              "\n",
              "    .dataframe tbody tr th {\n",
              "        vertical-align: top;\n",
              "    }\n",
              "\n",
              "    .dataframe thead th {\n",
              "        text-align: right;\n",
              "    }\n",
              "</style>\n",
              "<table border=\"1\" class=\"dataframe\">\n",
              "  <thead>\n",
              "    <tr style=\"text-align: right;\">\n",
              "      <th></th>\n",
              "      <th>categoria_administrativa</th>\n",
              "      <th>alunos_deficiencia</th>\n",
              "      <th>num_recursos_medio</th>\n",
              "      <th>num_curso</th>\n",
              "      <th>receitas</th>\n",
              "      <th>despesa_investimento</th>\n",
              "      <th>conceito_medio_graduacao</th>\n",
              "      <th>igc_continuo</th>\n",
              "    </tr>\n",
              "  </thead>\n",
              "  <tbody>\n",
              "    <tr>\n",
              "      <th>count</th>\n",
              "      <td>1263.000000</td>\n",
              "      <td>1263.000000</td>\n",
              "      <td>1263.000000</td>\n",
              "      <td>1263.000000</td>\n",
              "      <td>1.263000e+03</td>\n",
              "      <td>1.263000e+03</td>\n",
              "      <td>1263.000000</td>\n",
              "      <td>1261.000000</td>\n",
              "    </tr>\n",
              "    <tr>\n",
              "      <th>mean</th>\n",
              "      <td>4.114806</td>\n",
              "      <td>30.842439</td>\n",
              "      <td>5.839997</td>\n",
              "      <td>20.121932</td>\n",
              "      <td>1.038622e+08</td>\n",
              "      <td>3.754587e+06</td>\n",
              "      <td>2.626950</td>\n",
              "      <td>2.660775</td>\n",
              "    </tr>\n",
              "    <tr>\n",
              "      <th>std</th>\n",
              "      <td>1.106941</td>\n",
              "      <td>132.258864</td>\n",
              "      <td>3.708410</td>\n",
              "      <td>26.641799</td>\n",
              "      <td>1.623415e+08</td>\n",
              "      <td>8.267849e+06</td>\n",
              "      <td>0.511315</td>\n",
              "      <td>0.532696</td>\n",
              "    </tr>\n",
              "    <tr>\n",
              "      <th>min</th>\n",
              "      <td>1.000000</td>\n",
              "      <td>1.000000</td>\n",
              "      <td>0.000000</td>\n",
              "      <td>1.000000</td>\n",
              "      <td>1.000000e-02</td>\n",
              "      <td>0.000000e+00</td>\n",
              "      <td>0.000000</td>\n",
              "      <td>0.797657</td>\n",
              "    </tr>\n",
              "    <tr>\n",
              "      <th>25%</th>\n",
              "      <td>4.000000</td>\n",
              "      <td>2.000000</td>\n",
              "      <td>2.741667</td>\n",
              "      <td>5.000000</td>\n",
              "      <td>5.765061e+06</td>\n",
              "      <td>0.000000e+00</td>\n",
              "      <td>2.301350</td>\n",
              "      <td>2.306535</td>\n",
              "    </tr>\n",
              "    <tr>\n",
              "      <th>50%</th>\n",
              "      <td>4.000000</td>\n",
              "      <td>4.000000</td>\n",
              "      <td>5.680000</td>\n",
              "      <td>11.000000</td>\n",
              "      <td>2.375738e+07</td>\n",
              "      <td>3.396300e+05</td>\n",
              "      <td>2.627094</td>\n",
              "      <td>2.644210</td>\n",
              "    </tr>\n",
              "    <tr>\n",
              "      <th>75%</th>\n",
              "      <td>5.000000</td>\n",
              "      <td>15.000000</td>\n",
              "      <td>9.000000</td>\n",
              "      <td>23.000000</td>\n",
              "      <td>1.255908e+08</td>\n",
              "      <td>3.614441e+06</td>\n",
              "      <td>2.949499</td>\n",
              "      <td>2.979479</td>\n",
              "    </tr>\n",
              "    <tr>\n",
              "      <th>max</th>\n",
              "      <td>7.000000</td>\n",
              "      <td>3333.000000</td>\n",
              "      <td>12.000000</td>\n",
              "      <td>247.000000</td>\n",
              "      <td>6.364278e+08</td>\n",
              "      <td>1.014132e+08</td>\n",
              "      <td>4.302528</td>\n",
              "      <td>4.854888</td>\n",
              "    </tr>\n",
              "  </tbody>\n",
              "</table>\n",
              "</div>"
            ],
            "text/plain": [
              "       categoria_administrativa  ...  igc_continuo\n",
              "count               1263.000000  ...   1261.000000\n",
              "mean                   4.114806  ...      2.660775\n",
              "std                    1.106941  ...      0.532696\n",
              "min                    1.000000  ...      0.797657\n",
              "25%                    4.000000  ...      2.306535\n",
              "50%                    4.000000  ...      2.644210\n",
              "75%                    5.000000  ...      2.979479\n",
              "max                    7.000000  ...      4.854888\n",
              "\n",
              "[8 rows x 8 columns]"
            ]
          },
          "metadata": {},
          "execution_count": 128
        }
      ]
    },
    {
      "cell_type": "code",
      "metadata": {
        "colab": {
          "base_uri": "https://localhost:8080/",
          "height": 265
        },
        "id": "woWlO-8WF7O0",
        "outputId": "31a38fdb-ccd4-4dcb-e8fe-033eeed89edb"
      },
      "source": [
        "#Boxplot para visualização após tratamento de outliers\n",
        "plt.figure(figsize =(7, 4))\n",
        "sns.set_style('darkgrid')\n",
        "grafico_4 = sns.boxplot( y = \"receitas\", data = novo_ies, linewidth=2, palette = \"crest\")\n",
        "plt.title(\"RECEITAS POR IES\", fontsize=14)\n",
        "plt.ylabel('Receita', fontsize=13)\n",
        "plt.savefig('posoutliers_receitas.png', transparent = True)"
      ],
      "execution_count": 129,
      "outputs": [
        {
          "output_type": "display_data",
          "data": {
            "image/png": "[encoded data removed]",
            "text/plain": [
              "<Figure size 504x288 with 1 Axes>"
            ]
          },
          "metadata": {}
        }
      ]
    },
    {
      "cell_type": "markdown",
      "metadata": {
        "id": "h0iArf9WjweI"
      },
      "source": [
        "####2.2.5.Despesas"
      ]
    },
    {
      "cell_type": "code",
      "metadata": {
        "colab": {
          "base_uri": "https://localhost:8080/",
          "height": 265
        },
        "id": "MFspe-rjkQR0",
        "outputId": "2d600a12-d12b-4a2c-c29e-7efc1373544f"
      },
      "source": [
        "#Boxplot para visualização de outliers\n",
        "plt.figure(figsize =(7, 4))\n",
        "sns.set_style('darkgrid')\n",
        "grafico_5 = sns.boxplot( y = \"despesa_investimento\", data = ies, linewidth=2, palette = \"crest\")\n",
        "plt.title(\"DESPESAS COM INVESTIMENTOS NAS IES\", fontsize=14)\n",
        "plt.ylabel('Despesas', fontsize=13)\n",
        "plt.savefig('outliers_despesa.png', transparent = True)"
      ],
      "execution_count": 130,
      "outputs": [
        {
          "output_type": "display_data",
          "data": {
            "image/png": "[encoded data removed]",
            "text/plain": [
              "<Figure size 504x288 with 1 Axes>"
            ]
          },
          "metadata": {}
        }
      ]
    },
    {
      "cell_type": "code",
      "metadata": {
        "colab": {
          "base_uri": "https://localhost:8080/",
          "height": 320
        },
        "id": "zCNviO2CkVCX",
        "outputId": "d39a4b33-80f6-44be-8148-56d7c253de65"
      },
      "source": [
        "#Tratando outliers no campo de despesas\n",
        "despesas_novo = ies['despesa_investimento']\n",
        "Q1 = despesas_novo.quantile(.25)\n",
        "Q3 = despesas_novo.quantile(.75)\n",
        "IIQ = Q3 - Q1\n",
        "limite_inferior = Q1 - 1.5 * IIQ\n",
        "limite_superior = Q3 + 1.5 * IIQ\n",
        "\n",
        "selecao_despesas = (despesas_novo >= limite_inferior) & (despesas_novo <= limite_superior)\n",
        "novo_ies = ies[selecao_despesas]\n",
        "novo_ies.describe()"
      ],
      "execution_count": 131,
      "outputs": [
        {
          "output_type": "execute_result",
          "data": {
            "text/html": [
              "<div>\n",
              "<style scoped>\n",
              "    .dataframe tbody tr th:only-of-type {\n",
              "        vertical-align: middle;\n",
              "    }\n",
              "\n",
              "    .dataframe tbody tr th {\n",
              "        vertical-align: top;\n",
              "    }\n",
              "\n",
              "    .dataframe thead th {\n",
              "        text-align: right;\n",
              "    }\n",
              "</style>\n",
              "<table border=\"1\" class=\"dataframe\">\n",
              "  <thead>\n",
              "    <tr style=\"text-align: right;\">\n",
              "      <th></th>\n",
              "      <th>categoria_administrativa</th>\n",
              "      <th>alunos_deficiencia</th>\n",
              "      <th>num_recursos_medio</th>\n",
              "      <th>num_curso</th>\n",
              "      <th>receitas</th>\n",
              "      <th>despesa_investimento</th>\n",
              "      <th>conceito_medio_graduacao</th>\n",
              "      <th>igc_continuo</th>\n",
              "    </tr>\n",
              "  </thead>\n",
              "  <tbody>\n",
              "    <tr>\n",
              "      <th>count</th>\n",
              "      <td>1275.000000</td>\n",
              "      <td>1275.000000</td>\n",
              "      <td>1275.000000</td>\n",
              "      <td>1275.000000</td>\n",
              "      <td>1.275000e+03</td>\n",
              "      <td>1.275000e+03</td>\n",
              "      <td>1275.000000</td>\n",
              "      <td>1273.000000</td>\n",
              "    </tr>\n",
              "    <tr>\n",
              "      <th>mean</th>\n",
              "      <td>4.073725</td>\n",
              "      <td>34.773333</td>\n",
              "      <td>5.820147</td>\n",
              "      <td>21.185098</td>\n",
              "      <td>1.615695e+08</td>\n",
              "      <td>2.776915e+06</td>\n",
              "      <td>2.620820</td>\n",
              "      <td>2.658819</td>\n",
              "    </tr>\n",
              "    <tr>\n",
              "      <th>std</th>\n",
              "      <td>1.135647</td>\n",
              "      <td>141.494095</td>\n",
              "      <td>3.696874</td>\n",
              "      <td>31.859734</td>\n",
              "      <td>3.853994e+08</td>\n",
              "      <td>4.810924e+06</td>\n",
              "      <td>0.506960</td>\n",
              "      <td>0.536298</td>\n",
              "    </tr>\n",
              "    <tr>\n",
              "      <th>min</th>\n",
              "      <td>1.000000</td>\n",
              "      <td>1.000000</td>\n",
              "      <td>0.000000</td>\n",
              "      <td>1.000000</td>\n",
              "      <td>1.000000e-02</td>\n",
              "      <td>0.000000e+00</td>\n",
              "      <td>0.000000</td>\n",
              "      <td>0.797657</td>\n",
              "    </tr>\n",
              "    <tr>\n",
              "      <th>25%</th>\n",
              "      <td>4.000000</td>\n",
              "      <td>2.000000</td>\n",
              "      <td>2.750000</td>\n",
              "      <td>5.000000</td>\n",
              "      <td>5.825178e+06</td>\n",
              "      <td>0.000000e+00</td>\n",
              "      <td>2.298781</td>\n",
              "      <td>2.305707</td>\n",
              "    </tr>\n",
              "    <tr>\n",
              "      <th>50%</th>\n",
              "      <td>4.000000</td>\n",
              "      <td>4.000000</td>\n",
              "      <td>5.625000</td>\n",
              "      <td>11.000000</td>\n",
              "      <td>2.480943e+07</td>\n",
              "      <td>3.040221e+05</td>\n",
              "      <td>2.619804</td>\n",
              "      <td>2.640851</td>\n",
              "    </tr>\n",
              "    <tr>\n",
              "      <th>75%</th>\n",
              "      <td>5.000000</td>\n",
              "      <td>15.000000</td>\n",
              "      <td>9.000000</td>\n",
              "      <td>23.000000</td>\n",
              "      <td>1.492101e+08</td>\n",
              "      <td>3.158863e+06</td>\n",
              "      <td>2.939377</td>\n",
              "      <td>2.973196</td>\n",
              "    </tr>\n",
              "    <tr>\n",
              "      <th>max</th>\n",
              "      <td>7.000000</td>\n",
              "      <td>3333.000000</td>\n",
              "      <td>12.000000</td>\n",
              "      <td>563.000000</td>\n",
              "      <td>3.610593e+09</td>\n",
              "      <td>1.782462e+07</td>\n",
              "      <td>4.302528</td>\n",
              "      <td>4.854888</td>\n",
              "    </tr>\n",
              "  </tbody>\n",
              "</table>\n",
              "</div>"
            ],
            "text/plain": [
              "       categoria_administrativa  ...  igc_continuo\n",
              "count               1275.000000  ...   1273.000000\n",
              "mean                   4.073725  ...      2.658819\n",
              "std                    1.135647  ...      0.536298\n",
              "min                    1.000000  ...      0.797657\n",
              "25%                    4.000000  ...      2.305707\n",
              "50%                    4.000000  ...      2.640851\n",
              "75%                    5.000000  ...      2.973196\n",
              "max                    7.000000  ...      4.854888\n",
              "\n",
              "[8 rows x 8 columns]"
            ]
          },
          "metadata": {},
          "execution_count": 131
        }
      ]
    },
    {
      "cell_type": "code",
      "metadata": {
        "colab": {
          "base_uri": "https://localhost:8080/",
          "height": 265
        },
        "id": "H_3FPLfYGcE-",
        "outputId": "b4ce943c-25cf-4c31-f105-6cd83b48c05f"
      },
      "source": [
        "#Boxplot para visualização após tratamento de outliers\n",
        "plt.figure(figsize =(7, 4))\n",
        "sns.set_style('darkgrid')\n",
        "grafico_5 = sns.boxplot( y = \"despesa_investimento\", data = novo_ies, linewidth=2, palette = \"crest\")\n",
        "plt.title(\"DESPESAS COM INVESTIMENTOS NAS IES\", fontsize=14)\n",
        "plt.ylabel('Despesas', fontsize=13)\n",
        "plt.savefig('posoutliers_despesa.png', transparent = True)"
      ],
      "execution_count": 132,
      "outputs": [
        {
          "output_type": "display_data",
          "data": {
            "image/png": "[encoded data removed]",
            "text/plain": [
              "<Figure size 504x288 with 1 Axes>"
            ]
          },
          "metadata": {}
        }
      ]
    },
    {
      "cell_type": "markdown",
      "metadata": {
        "id": "VKd-_8N7j5Jm"
      },
      "source": [
        "####2.2.6.IGC"
      ]
    },
    {
      "cell_type": "code",
      "metadata": {
        "colab": {
          "base_uri": "https://localhost:8080/",
          "height": 302
        },
        "id": "PGPmy1pTmTRN",
        "outputId": "5959c660-0ec0-442f-fd80-de220665d692"
      },
      "source": [
        "#Visualizando os outliers dos índices de qualidade das IES\n",
        "plt.figure(figsize =(7, 4))\n",
        "sns.set_style('darkgrid')\n",
        "avaliacao = pd.DataFrame(data = np.random.random(size=(5,2)), columns = ['conceito_medio_graduacao','igc_continuo'])\n",
        "sns.boxplot(x=\"variable\", y=\"value\", data=pd.melt(avaliacao), palette=\"crest\")\n",
        "plt.title(\"AVALIAÇÃO DAS IES\", loc=\"center\", fontsize=14)\n",
        "plt.xlabel('Índices de Qualidade', fontsize=13)\n",
        "plt.ylabel('Valor')\n",
        "plt.savefig('outliers_avaliacao.png', transparent = True)"
      ],
      "execution_count": 133,
      "outputs": [
        {
          "output_type": "display_data",
          "data": {
            "image/png": "[encoded data removed]",
            "text/plain": [
              "<Figure size 504x288 with 1 Axes>"
            ]
          },
          "metadata": {}
        }
      ]
    },
    {
      "cell_type": "markdown",
      "metadata": {
        "id": "5wJ5QpR-nKNB"
      },
      "source": [
        "Como o boxplot não mostra a existência de outliers, não será necessário fazer nenhum tratamento referente ao assunto."
      ]
    },
    {
      "cell_type": "markdown",
      "metadata": {
        "id": "0jmA8Uf7ciZy"
      },
      "source": [
        "###2.2.Normalização"
      ]
    },
    {
      "cell_type": "code",
      "metadata": {
        "id": "os1hIFHig-w9",
        "colab": {
          "base_uri": "https://localhost:8080/"
        },
        "outputId": "481607f9-6693-43ca-be34-8ba1bea51a0b"
      },
      "source": [
        "#Colunas para normalizar\n",
        "features_to_normalize = ['alunos_deficiencia','num_recursos_medio', 'num_curso', 'receitas','despesa_investimento', 'conceito_medio_graduacao', 'igc_continuo']\n",
        "\n",
        "novo_ies[features_to_normalize] = novo_ies[features_to_normalize].apply(lambda x:(x-x.min()) / (x.max()-x.min()))"
      ],
      "execution_count": 134,
      "outputs": [
        {
          "output_type": "stream",
          "name": "stderr",
          "text": [
            "/usr/local/lib/python3.7/dist-packages/pandas/core/frame.py:3069: SettingWithCopyWarning:\n",
            "\n",
            "\n",
            "A value is trying to be set on a copy of a slice from a DataFrame.\n",
            "Try using .loc[row_indexer,col_indexer] = value instead\n",
            "\n",
            "See the caveats in the documentation: https://pandas.pydata.org/pandas-docs/stable/user_guide/indexing.html#returning-a-view-versus-a-copy\n",
            "\n"
          ]
        }
      ]
    },
    {
      "cell_type": "code",
      "metadata": {
        "colab": {
          "base_uri": "https://localhost:8080/",
          "height": 226
        },
        "id": "OsIPjzh9nrYy",
        "outputId": "7c8da4b6-5c40-4aaa-ea54-2baf01c03df0"
      },
      "source": [
        "#Dataframe normalizado\n",
        "df_ies = novo_ies[['alunos_deficiencia','num_recursos_medio', 'num_curso', 'receitas','despesa_investimento', 'conceito_medio_graduacao','igc_continuo']]\n",
        "df_ies.head()"
      ],
      "execution_count": 135,
      "outputs": [
        {
          "output_type": "execute_result",
          "data": {
            "text/html": [
              "<div>\n",
              "<style scoped>\n",
              "    .dataframe tbody tr th:only-of-type {\n",
              "        vertical-align: middle;\n",
              "    }\n",
              "\n",
              "    .dataframe tbody tr th {\n",
              "        vertical-align: top;\n",
              "    }\n",
              "\n",
              "    .dataframe thead th {\n",
              "        text-align: right;\n",
              "    }\n",
              "</style>\n",
              "<table border=\"1\" class=\"dataframe\">\n",
              "  <thead>\n",
              "    <tr style=\"text-align: right;\">\n",
              "      <th></th>\n",
              "      <th>alunos_deficiencia</th>\n",
              "      <th>num_recursos_medio</th>\n",
              "      <th>num_curso</th>\n",
              "      <th>receitas</th>\n",
              "      <th>despesa_investimento</th>\n",
              "      <th>conceito_medio_graduacao</th>\n",
              "      <th>igc_continuo</th>\n",
              "    </tr>\n",
              "  </thead>\n",
              "  <tbody>\n",
              "    <tr>\n",
              "      <th>0</th>\n",
              "      <td>0.100840</td>\n",
              "      <td>0.119883</td>\n",
              "      <td>0.201068</td>\n",
              "      <td>0.256770</td>\n",
              "      <td>0.538941</td>\n",
              "      <td>0.679824</td>\n",
              "      <td>0.601115</td>\n",
              "    </tr>\n",
              "    <tr>\n",
              "      <th>2</th>\n",
              "      <td>0.134454</td>\n",
              "      <td>0.234914</td>\n",
              "      <td>0.204626</td>\n",
              "      <td>0.261931</td>\n",
              "      <td>0.460731</td>\n",
              "      <td>0.721785</td>\n",
              "      <td>0.633421</td>\n",
              "    </tr>\n",
              "    <tr>\n",
              "      <th>3</th>\n",
              "      <td>0.071429</td>\n",
              "      <td>0.081776</td>\n",
              "      <td>0.188612</td>\n",
              "      <td>0.296527</td>\n",
              "      <td>0.711165</td>\n",
              "      <td>0.655859</td>\n",
              "      <td>0.554696</td>\n",
              "    </tr>\n",
              "    <tr>\n",
              "      <th>4</th>\n",
              "      <td>0.133253</td>\n",
              "      <td>0.828333</td>\n",
              "      <td>0.176157</td>\n",
              "      <td>0.237067</td>\n",
              "      <td>0.439602</td>\n",
              "      <td>0.630625</td>\n",
              "      <td>0.533122</td>\n",
              "    </tr>\n",
              "    <tr>\n",
              "      <th>5</th>\n",
              "      <td>0.039916</td>\n",
              "      <td>0.919697</td>\n",
              "      <td>0.096085</td>\n",
              "      <td>0.148337</td>\n",
              "      <td>0.004115</td>\n",
              "      <td>0.749051</td>\n",
              "      <td>0.668392</td>\n",
              "    </tr>\n",
              "  </tbody>\n",
              "</table>\n",
              "</div>"
            ],
            "text/plain": [
              "   alunos_deficiencia  ...  igc_continuo\n",
              "0            0.100840  ...      0.601115\n",
              "2            0.134454  ...      0.633421\n",
              "3            0.071429  ...      0.554696\n",
              "4            0.133253  ...      0.533122\n",
              "5            0.039916  ...      0.668392\n",
              "\n",
              "[5 rows x 7 columns]"
            ]
          },
          "metadata": {},
          "execution_count": 135
        }
      ]
    },
    {
      "cell_type": "markdown",
      "metadata": {
        "id": "lS6qY6wAco7M"
      },
      "source": [
        "###2.3.Matriz de Correlação"
      ]
    },
    {
      "cell_type": "code",
      "metadata": {
        "colab": {
          "base_uri": "https://localhost:8080/",
          "height": 451
        },
        "id": "ldntnc2KoHKY",
        "outputId": "de211b0d-2465-42b2-c9a7-9b892a9a9882"
      },
      "source": [
        "plt.figure(figsize =(15, 6))\n",
        "sns.heatmap(df_ies.corr(), vmin = -1, vmax = +1, annot = True, cmap = 'crest')\n",
        "plt.tick_params(axis='x', rotation=25)\n",
        "plt.title(\"MATRIZ DE CORRELAÇÃO\", fontsize=14)\n",
        "plt.savefig('matriz_correlacao.png', transparent = True)"
      ],
      "execution_count": 136,
      "outputs": [
        {
          "output_type": "display_data",
          "data": {
            "image/png": "[encoded data removed]",
            "text/plain": [
              "<Figure size 1080x432 with 2 Axes>"
            ]
          },
          "metadata": {}
        }
      ]
    },
    {
      "cell_type": "markdown",
      "metadata": {
        "id": "KM9G5Sa-opyD"
      },
      "source": [
        "Como as variáveis \"conceito médio da graduação\" e \"igc contínuo\" possuem uma forte correlaçao, vamos retirar uma delas para usarmos no nosso modelo"
      ]
    },
    {
      "cell_type": "code",
      "metadata": {
        "colab": {
          "base_uri": "https://localhost:8080/",
          "height": 206
        },
        "id": "j3nOXwQ9o3xf",
        "outputId": "d6ddb889-df4e-49bd-e254-013a7a3d17f4"
      },
      "source": [
        "#Dataframe finalizado\n",
        "df_ies = df_ies[['alunos_deficiencia','num_recursos_medio', 'num_curso', 'receitas','despesa_investimento', 'conceito_medio_graduacao']]\n",
        "df_ies.head()"
      ],
      "execution_count": 137,
      "outputs": [
        {
          "output_type": "execute_result",
          "data": {
            "text/html": [
              "<div>\n",
              "<style scoped>\n",
              "    .dataframe tbody tr th:only-of-type {\n",
              "        vertical-align: middle;\n",
              "    }\n",
              "\n",
              "    .dataframe tbody tr th {\n",
              "        vertical-align: top;\n",
              "    }\n",
              "\n",
              "    .dataframe thead th {\n",
              "        text-align: right;\n",
              "    }\n",
              "</style>\n",
              "<table border=\"1\" class=\"dataframe\">\n",
              "  <thead>\n",
              "    <tr style=\"text-align: right;\">\n",
              "      <th></th>\n",
              "      <th>alunos_deficiencia</th>\n",
              "      <th>num_recursos_medio</th>\n",
              "      <th>num_curso</th>\n",
              "      <th>receitas</th>\n",
              "      <th>despesa_investimento</th>\n",
              "      <th>conceito_medio_graduacao</th>\n",
              "    </tr>\n",
              "  </thead>\n",
              "  <tbody>\n",
              "    <tr>\n",
              "      <th>0</th>\n",
              "      <td>0.100840</td>\n",
              "      <td>0.119883</td>\n",
              "      <td>0.201068</td>\n",
              "      <td>0.256770</td>\n",
              "      <td>0.538941</td>\n",
              "      <td>0.679824</td>\n",
              "    </tr>\n",
              "    <tr>\n",
              "      <th>2</th>\n",
              "      <td>0.134454</td>\n",
              "      <td>0.234914</td>\n",
              "      <td>0.204626</td>\n",
              "      <td>0.261931</td>\n",
              "      <td>0.460731</td>\n",
              "      <td>0.721785</td>\n",
              "    </tr>\n",
              "    <tr>\n",
              "      <th>3</th>\n",
              "      <td>0.071429</td>\n",
              "      <td>0.081776</td>\n",
              "      <td>0.188612</td>\n",
              "      <td>0.296527</td>\n",
              "      <td>0.711165</td>\n",
              "      <td>0.655859</td>\n",
              "    </tr>\n",
              "    <tr>\n",
              "      <th>4</th>\n",
              "      <td>0.133253</td>\n",
              "      <td>0.828333</td>\n",
              "      <td>0.176157</td>\n",
              "      <td>0.237067</td>\n",
              "      <td>0.439602</td>\n",
              "      <td>0.630625</td>\n",
              "    </tr>\n",
              "    <tr>\n",
              "      <th>5</th>\n",
              "      <td>0.039916</td>\n",
              "      <td>0.919697</td>\n",
              "      <td>0.096085</td>\n",
              "      <td>0.148337</td>\n",
              "      <td>0.004115</td>\n",
              "      <td>0.749051</td>\n",
              "    </tr>\n",
              "  </tbody>\n",
              "</table>\n",
              "</div>"
            ],
            "text/plain": [
              "   alunos_deficiencia  ...  conceito_medio_graduacao\n",
              "0            0.100840  ...                  0.679824\n",
              "2            0.134454  ...                  0.721785\n",
              "3            0.071429  ...                  0.655859\n",
              "4            0.133253  ...                  0.630625\n",
              "5            0.039916  ...                  0.749051\n",
              "\n",
              "[5 rows x 6 columns]"
            ]
          },
          "metadata": {},
          "execution_count": 137
        }
      ]
    },
    {
      "cell_type": "markdown",
      "metadata": {
        "id": "4mGwFARQJ0M2"
      },
      "source": [
        "##3.Clustering"
      ]
    },
    {
      "cell_type": "markdown",
      "metadata": {
        "id": "wdwh44mpzK9-"
      },
      "source": [
        "###3.1.Método da Silhueta\n",
        "#####Código de: MIT © Etzion Harari"
      ]
    },
    {
      "cell_type": "code",
      "metadata": {
        "id": "bdzI_w2t6Z4_"
      },
      "source": [
        "faixa_n_clusters = [i for i in range(2,10)]\n",
        "valores_silhueta = []\n",
        "for k in faixa_n_clusters:\n",
        "    agrupador = KMeans(n_clusters=k, random_state=10) #random state para inicializar sempre no mesmo local\n",
        "    labels = agrupador.fit_predict(df_ies)\n",
        "    media_silhueta = silhouette_score(df_ies, labels)\n",
        "    valores_silhueta.append(media_silhueta)"
      ],
      "execution_count": 138,
      "outputs": []
    },
    {
      "cell_type": "markdown",
      "metadata": {
        "id": "wIhOavy1Eq23"
      },
      "source": [
        ""
      ]
    },
    {
      "cell_type": "code",
      "metadata": {
        "colab": {
          "base_uri": "https://localhost:8080/"
        },
        "id": "hBxHmPSBID3i",
        "outputId": "256012ee-2218-4709-d299-143291e9fd66"
      },
      "source": [
        "valores_silhueta"
      ],
      "execution_count": 139,
      "outputs": [
        {
          "output_type": "execute_result",
          "data": {
            "text/plain": [
              "[0.3714146545761341,\n",
              " 0.4364874639334774,\n",
              " 0.34129036424558634,\n",
              " 0.35247138282643775,\n",
              " 0.3606007128780921,\n",
              " 0.3659461227184312,\n",
              " 0.30682156275283595,\n",
              " 0.308924984138032]"
            ]
          },
          "metadata": {},
          "execution_count": 139
        }
      ]
    },
    {
      "cell_type": "code",
      "metadata": {
        "colab": {
          "base_uri": "https://localhost:8080/",
          "height": 299
        },
        "id": "E_JcX_FRIL9_",
        "outputId": "8475c77e-328e-4d3f-fb9f-ed495439cdfb"
      },
      "source": [
        "plt.figure(figsize =(7, 4))\n",
        "sns.lineplot(x=faixa_n_clusters, y=valores_silhueta, palette='crest')\n",
        "sns.set_style('darkgrid')\n",
        "plt.title(\"COEFICIENTE DE SILHUETA\", fontsize=14)\n",
        "plt.xlabel('Valores de ‘k’', fontsize=13)\n",
        "plt.ylabel('Coeficiente de Silhueta', fontsize=13)\n",
        "plt.savefig('coeficiente_silhueta.png', transparent = True)"
      ],
      "execution_count": 140,
      "outputs": [
        {
          "output_type": "display_data",
          "data": {
            "image/png": "[encoded data removed]",
            "text/plain": [
              "<Figure size 504x288 with 1 Axes>"
            ]
          },
          "metadata": {}
        }
      ]
    },
    {
      "cell_type": "markdown",
      "metadata": {
        "id": "yAXvsgQSdFVL"
      },
      "source": [
        "###3.2.K-Means"
      ]
    },
    {
      "cell_type": "code",
      "metadata": {
        "colab": {
          "base_uri": "https://localhost:8080/",
          "height": 206
        },
        "id": "WaeIJwRkAFMI",
        "outputId": "da895799-22f5-497c-fd96-0e31260417f2"
      },
      "source": [
        "#Dados para o clustering\n",
        "df_ies.head()"
      ],
      "execution_count": 141,
      "outputs": [
        {
          "output_type": "execute_result",
          "data": {
            "text/html": [
              "<div>\n",
              "<style scoped>\n",
              "    .dataframe tbody tr th:only-of-type {\n",
              "        vertical-align: middle;\n",
              "    }\n",
              "\n",
              "    .dataframe tbody tr th {\n",
              "        vertical-align: top;\n",
              "    }\n",
              "\n",
              "    .dataframe thead th {\n",
              "        text-align: right;\n",
              "    }\n",
              "</style>\n",
              "<table border=\"1\" class=\"dataframe\">\n",
              "  <thead>\n",
              "    <tr style=\"text-align: right;\">\n",
              "      <th></th>\n",
              "      <th>alunos_deficiencia</th>\n",
              "      <th>num_recursos_medio</th>\n",
              "      <th>num_curso</th>\n",
              "      <th>receitas</th>\n",
              "      <th>despesa_investimento</th>\n",
              "      <th>conceito_medio_graduacao</th>\n",
              "    </tr>\n",
              "  </thead>\n",
              "  <tbody>\n",
              "    <tr>\n",
              "      <th>0</th>\n",
              "      <td>0.100840</td>\n",
              "      <td>0.119883</td>\n",
              "      <td>0.201068</td>\n",
              "      <td>0.256770</td>\n",
              "      <td>0.538941</td>\n",
              "      <td>0.679824</td>\n",
              "    </tr>\n",
              "    <tr>\n",
              "      <th>2</th>\n",
              "      <td>0.134454</td>\n",
              "      <td>0.234914</td>\n",
              "      <td>0.204626</td>\n",
              "      <td>0.261931</td>\n",
              "      <td>0.460731</td>\n",
              "      <td>0.721785</td>\n",
              "    </tr>\n",
              "    <tr>\n",
              "      <th>3</th>\n",
              "      <td>0.071429</td>\n",
              "      <td>0.081776</td>\n",
              "      <td>0.188612</td>\n",
              "      <td>0.296527</td>\n",
              "      <td>0.711165</td>\n",
              "      <td>0.655859</td>\n",
              "    </tr>\n",
              "    <tr>\n",
              "      <th>4</th>\n",
              "      <td>0.133253</td>\n",
              "      <td>0.828333</td>\n",
              "      <td>0.176157</td>\n",
              "      <td>0.237067</td>\n",
              "      <td>0.439602</td>\n",
              "      <td>0.630625</td>\n",
              "    </tr>\n",
              "    <tr>\n",
              "      <th>5</th>\n",
              "      <td>0.039916</td>\n",
              "      <td>0.919697</td>\n",
              "      <td>0.096085</td>\n",
              "      <td>0.148337</td>\n",
              "      <td>0.004115</td>\n",
              "      <td>0.749051</td>\n",
              "    </tr>\n",
              "  </tbody>\n",
              "</table>\n",
              "</div>"
            ],
            "text/plain": [
              "   alunos_deficiencia  ...  conceito_medio_graduacao\n",
              "0            0.100840  ...                  0.679824\n",
              "2            0.134454  ...                  0.721785\n",
              "3            0.071429  ...                  0.655859\n",
              "4            0.133253  ...                  0.630625\n",
              "5            0.039916  ...                  0.749051\n",
              "\n",
              "[5 rows x 6 columns]"
            ]
          },
          "metadata": {},
          "execution_count": 141
        }
      ]
    },
    {
      "cell_type": "markdown",
      "metadata": {
        "id": "g8ExoE-vAlAe"
      },
      "source": [
        "Vamos adotar o número de 3 clusters, pois foi o teve o melhor escore no método da silhueta"
      ]
    },
    {
      "cell_type": "markdown",
      "metadata": {
        "id": "aXfiTpa9LOqT"
      },
      "source": [
        "###3.2.1 Recursos de Acessibilidade x Conceito Médio da Graduação"
      ]
    },
    {
      "cell_type": "code",
      "metadata": {
        "colab": {
          "base_uri": "https://localhost:8080/"
        },
        "id": "xePZva0K_ysx",
        "outputId": "79ec26a2-95fe-4668-ddec-781e99487b92"
      },
      "source": [
        "#Inicializando e Computando o KMeans com o valor de 3 clusters:\n",
        "X1 = df_ies[['num_recursos_medio', 'conceito_medio_graduacao']].iloc[: , :].values\n",
        "algorithm = (KMeans(n_clusters = 3))\n",
        "algorithm.fit(X1)"
      ],
      "execution_count": 142,
      "outputs": [
        {
          "output_type": "execute_result",
          "data": {
            "text/plain": [
              "KMeans(n_clusters=3)"
            ]
          },
          "metadata": {},
          "execution_count": 142
        }
      ]
    },
    {
      "cell_type": "code",
      "metadata": {
        "colab": {
          "base_uri": "https://localhost:8080/",
          "height": 459
        },
        "id": "1SNpGR0k1xAQ",
        "outputId": "52adb65d-a06f-4580-c947-78936ce4db68"
      },
      "source": [
        "#Visualizando os grupos criados e seus centroides:\n",
        "labels2 = algorithm.labels_\n",
        "centroids2 = algorithm.cluster_centers_\n",
        "\n",
        "h = 0.02\n",
        "x_min, x_max = X1[:, 0].min() - 1, X1[:, 0].max() + 1\n",
        "y_min, y_max = X1[:, 1].min() - 1, X1[:, 1].max() + 1\n",
        "xx, yy = np.meshgrid(np.arange(x_min, x_max, h), np.arange(y_min, y_max, h))\n",
        "Z = algorithm.predict(np.c_[xx.ravel(), yy.ravel()]) \n",
        "\n",
        "plt.figure(1 , figsize = (7,7) )\n",
        "plt.clf()\n",
        "Z2 = Z.reshape(xx.shape)\n",
        "cmap = sns.color_palette(\"crest\", as_cmap=True)\n",
        "plt.imshow(Z2, extent=(xx.min(), xx.max(), yy.min(), yy.max()), cmap = cmap, alpha=0.2)\n",
        "plt.scatter(x = 'num_recursos_medio', y = 'conceito_medio_graduacao', data = df_ies , c = labels2 , s = 25, cmap='crest')\n",
        "plt.scatter(x = centroids2[: , 0] , y =  centroids2[: , 1] , s = 50 , c = 'yellow' , alpha = 1)\n",
        "plt.xlim(-0.2,1.2), plt.ylim(-0.2,1.2)\n",
        "plt.title(\"CLUSTER 1\", fontsize=14)\n",
        "plt.ylabel('Conceito Médio da Graduação') , plt.xlabel('Recursos de Acessibilidade')\n",
        "plt.savefig('k-means1.png', transparent = True)"
      ],
      "execution_count": 143,
      "outputs": [
        {
          "output_type": "display_data",
          "data": {
            "image/png": "[encoded data removed]",
            "text/plain": [
              "<Figure size 504x504 with 1 Axes>"
            ]
          },
          "metadata": {}
        }
      ]
    },
    {
      "cell_type": "markdown",
      "metadata": {
        "id": "62B_-5OZLnkt"
      },
      "source": [
        "###3.2.2 Alunos com Deficiência x Conceito Médio da Graduação"
      ]
    },
    {
      "cell_type": "code",
      "metadata": {
        "colab": {
          "base_uri": "https://localhost:8080/"
        },
        "id": "Gm36SPpILv-_",
        "outputId": "70379c1e-b6ed-46ac-f066-89677b32894b"
      },
      "source": [
        "#Inicializando e Computando o KMeans com o valor de 3 clusters:\n",
        "X2 = df_ies[['conceito_medio_graduacao', 'alunos_deficiencia']].iloc[: , :].values\n",
        "algorithm = (KMeans(n_clusters = 3))\n",
        "algorithm.fit(X2)"
      ],
      "execution_count": 144,
      "outputs": [
        {
          "output_type": "execute_result",
          "data": {
            "text/plain": [
              "KMeans(n_clusters=3)"
            ]
          },
          "metadata": {},
          "execution_count": 144
        }
      ]
    },
    {
      "cell_type": "code",
      "metadata": {
        "colab": {
          "base_uri": "https://localhost:8080/",
          "height": 462
        },
        "id": "tC_6_dcmJuRp",
        "outputId": "a3f9d731-59fb-47df-f5b8-9d0e31e4a2b1"
      },
      "source": [
        "#Visualizando os grupos criados e seus centroides:\n",
        "labels2 = algorithm.labels_\n",
        "centroids2 = algorithm.cluster_centers_\n",
        "\n",
        "h = 0.02\n",
        "x_min, x_max = X2[:, 0].min() - 1, X2[:, 0].max() + 1\n",
        "y_min, y_max = X2[:, 1].min() - 1, X2[:, 1].max() + 1\n",
        "xx, yy = np.meshgrid(np.arange(x_min, x_max, h), np.arange(y_min, y_max, h))\n",
        "Z = algorithm.predict(np.c_[xx.ravel(), yy.ravel()]) \n",
        "\n",
        "plt.figure(1 , figsize = (7,7))\n",
        "plt.clf()\n",
        "Z2 = Z.reshape(xx.shape)\n",
        "cmap = sns.color_palette(\"crest\", as_cmap=True)\n",
        "plt.imshow(Z2 , interpolation='nearest', extent=(xx.min(), xx.max(), yy.min(), yy.max()), cmap = cmap, aspect = 'auto', origin='lower', alpha=0.2)\n",
        "plt.scatter(x = 'conceito_medio_graduacao', y = 'alunos_deficiencia', data = df_ies , c = labels2 , s = 25, cmap='crest')\n",
        "plt.scatter(x = centroids2[: , 0] , y =  centroids2[: , 1] , s = 50 , c = 'yellow' , alpha = 1)\n",
        "plt.xlim(-0.2,1.2), plt.ylim(-0.2,1.2)\n",
        "plt.title(\"CLUSTER 2\", fontsize=14)\n",
        "plt.ylabel('Conceito Médio da Graduação', fontsize=13) , plt.xlabel('Alunos com Deficiência', fontsize=13)\n",
        "plt.savefig('k-means2.png', transparent = True)\n",
        "plt.show()"
      ],
      "execution_count": 145,
      "outputs": [
        {
          "output_type": "display_data",
          "data": {
            "image/png": "[encoded data removed]",
            "text/plain": [
              "<Figure size 504x504 with 1 Axes>"
            ]
          },
          "metadata": {}
        }
      ]
    },
    {
      "cell_type": "markdown",
      "metadata": {
        "id": "VH2sZQK8OPjB"
      },
      "source": [
        "###3.2.3 Recursos Acessibilidade x Alunos com Deficiência"
      ]
    },
    {
      "cell_type": "code",
      "metadata": {
        "colab": {
          "base_uri": "https://localhost:8080/"
        },
        "id": "3qUkgGHTOWOm",
        "outputId": "70f4db97-8327-48e3-c1f7-51598c7c4427"
      },
      "source": [
        "#Inicializando e Computando o KMeans com o valor de 3 clusters:\n",
        "X3 = df_ies[['num_recursos_medio', 'alunos_deficiencia']].iloc[: , :].values\n",
        "algorithm = (KMeans(n_clusters = 3))\n",
        "algorithm.fit(X3)"
      ],
      "execution_count": 146,
      "outputs": [
        {
          "output_type": "execute_result",
          "data": {
            "text/plain": [
              "KMeans(n_clusters=3)"
            ]
          },
          "metadata": {},
          "execution_count": 146
        }
      ]
    },
    {
      "cell_type": "code",
      "metadata": {
        "colab": {
          "base_uri": "https://localhost:8080/",
          "height": 462
        },
        "id": "SrK0lcKiKiQV",
        "outputId": "da84f700-0145-4fcd-dfc6-e3ffa1b924f1"
      },
      "source": [
        "#Visualizando os grupos criados e seus centroides:\n",
        "labels2 = algorithm.labels_\n",
        "centroids2 = algorithm.cluster_centers_\n",
        "\n",
        "h = 0.02\n",
        "x_min, x_max = X3[:, 0].min() - 1, X3[:, 0].max() + 1\n",
        "y_min, y_max = X3[:, 1].min() - 1, X3[:, 1].max() + 1\n",
        "xx, yy = np.meshgrid(np.arange(x_min, x_max, h), np.arange(y_min, y_max, h))\n",
        "Z = algorithm.predict(np.c_[xx.ravel(), yy.ravel()]) \n",
        "\n",
        "plt.figure(1 , figsize = (7,7) )\n",
        "plt.clf()\n",
        "Z2 = Z.reshape(xx.shape)\n",
        "cmap = sns.color_palette(\"crest\", as_cmap=True)\n",
        "plt.imshow(Z2 , interpolation='nearest', extent=(xx.min(), xx.max(), yy.min(), yy.max()), cmap = cmap, aspect = 'auto', origin='lower', alpha=0.2)\n",
        "plt.scatter(x = 'num_recursos_medio', y = 'alunos_deficiencia', data = df_ies , c = labels2 , s = 25, cmap='crest')\n",
        "plt.scatter(x = centroids2[: , 0] , y =  centroids2[: , 1] , s = 50 , c = 'yellow' , alpha = 1)\n",
        "plt.xlim(-0.2,1.2), plt.ylim(-0.2,1.2)\n",
        "plt.title(\"CLUSTER 3\", fontsize=14)\n",
        "plt.ylabel('Recursos de Acessibilidade', fontsize=13) , plt.xlabel('Alunos com Deficiência', fontsize=13)\n",
        "plt.savefig('k-means3.png', transparent = True)\n",
        "plt.show()"
      ],
      "execution_count": 147,
      "outputs": [
        {
          "output_type": "display_data",
          "data": {
            "image/png": "[encoded data removed]",
            "text/plain": [
              "<Figure size 504x504 with 1 Axes>"
            ]
          },
          "metadata": {}
        }
      ]
    },
    {
      "cell_type": "markdown",
      "metadata": {
        "id": "Te6jMsM0PRNk"
      },
      "source": [
        "###3.2.4 Recursos Acessibilidade x Receitas da IES"
      ]
    },
    {
      "cell_type": "code",
      "metadata": {
        "colab": {
          "base_uri": "https://localhost:8080/"
        },
        "id": "mwGOYRZyQIZh",
        "outputId": "9396dfb8-b5f3-4781-b7b9-0883eceb9e9a"
      },
      "source": [
        "#Inicializando e Computando o KMeans com o valor de 3 clusters:\n",
        "X4 = df_ies[['num_recursos_medio', 'receitas']].iloc[: , :].values\n",
        "algorithm = (KMeans(n_clusters = 3))\n",
        "algorithm.fit(X4)"
      ],
      "execution_count": 148,
      "outputs": [
        {
          "output_type": "execute_result",
          "data": {
            "text/plain": [
              "KMeans(n_clusters=3)"
            ]
          },
          "metadata": {},
          "execution_count": 148
        }
      ]
    },
    {
      "cell_type": "code",
      "metadata": {
        "colab": {
          "base_uri": "https://localhost:8080/",
          "height": 462
        },
        "id": "2TBZBvReQVKf",
        "outputId": "959152a2-3a3d-4c5f-ae3d-e113183c645e"
      },
      "source": [
        "#Visualizando os grupos criados e seus centroides:\n",
        "labels2 = algorithm.labels_\n",
        "centroids2 = algorithm.cluster_centers_\n",
        "\n",
        "h = 0.02\n",
        "x_min, x_max = X4[:, 0].min() - 1, X4[:, 0].max() + 1\n",
        "y_min, y_max = X4[:, 1].min() - 1, X4[:, 1].max() + 1\n",
        "xx, yy = np.meshgrid(np.arange(x_min, x_max, h), np.arange(y_min, y_max, h))\n",
        "Z = algorithm.predict(np.c_[xx.ravel(), yy.ravel()]) \n",
        "\n",
        "plt.figure(1 , figsize = (7,7) )\n",
        "plt.clf()\n",
        "Z2 = Z.reshape(xx.shape)\n",
        "cmap = sns.color_palette(\"crest\", as_cmap=True)\n",
        "plt.imshow(Z2 , interpolation='nearest', extent=(xx.min(), xx.max(), yy.min(), yy.max()), cmap = cmap, aspect = 'auto', origin='lower', alpha=0.2)\n",
        "plt.scatter(x = 'num_recursos_medio', y = 'receitas', data = df_ies , c = labels2 , s = 25, cmap='crest')\n",
        "plt.scatter(x = centroids2[: , 0] , y =  centroids2[: , 1] , s = 50 , c = 'yellow' , alpha = 1)\n",
        "plt.xlim(-0.2,1.2), plt.ylim(-0.2,1.2)\n",
        "plt.title(\"CLUSTER 4\", fontsize=14)\n",
        "plt.ylabel('Recursos de Acessibilidade', fontsize=13) , plt.xlabel('Receitas da IES', fontsize=13)\n",
        "plt.savefig('k-means4.png', transparent = True)\n",
        "plt.show()"
      ],
      "execution_count": 149,
      "outputs": [
        {
          "output_type": "display_data",
          "data": {
            "image/png": "[encoded data removed]",
            "text/plain": [
              "<Figure size 504x504 with 1 Axes>"
            ]
          },
          "metadata": {}
        }
      ]
    },
    {
      "cell_type": "markdown",
      "metadata": {
        "id": "9dh2zI3NQkuo"
      },
      "source": [
        "###3.2.5 Recursos Acessibilidade x Despesas com Investimentos da IES"
      ]
    },
    {
      "cell_type": "code",
      "metadata": {
        "id": "Tx-174IrQs-f",
        "colab": {
          "base_uri": "https://localhost:8080/"
        },
        "outputId": "e4be9051-6bde-4168-de6a-1ccfc3e79472"
      },
      "source": [
        "X5 = df_ies[['num_recursos_medio', 'despesa_investimento']].iloc[: , :].values\n",
        "algorithm = KMeans(n_clusters=3)\n",
        "algorithm.fit(X5)"
      ],
      "execution_count": 150,
      "outputs": [
        {
          "output_type": "execute_result",
          "data": {
            "text/plain": [
              "KMeans(n_clusters=3)"
            ]
          },
          "metadata": {},
          "execution_count": 150
        }
      ]
    },
    {
      "cell_type": "code",
      "metadata": {
        "colab": {
          "base_uri": "https://localhost:8080/",
          "height": 462
        },
        "id": "PrIUHTRnQs1V",
        "outputId": "29409da0-c551-4f8f-9771-c53384c0fee1"
      },
      "source": [
        "#Visualizando os grupos criados e seus centroides:\n",
        "labels2 = algorithm.labels_\n",
        "centroids2 = algorithm.cluster_centers_\n",
        "\n",
        "h = 0.02\n",
        "x_min, x_max = X5[:, 0].min() - 1, X5[:, 0].max() + 1\n",
        "y_min, y_max = X5[:, 1].min() - 1, X5[:, 1].max() + 1\n",
        "xx, yy = np.meshgrid(np.arange(x_min, x_max, h), np.arange(y_min, y_max, h))\n",
        "Z = algorithm.predict(np.c_[xx.ravel(), yy.ravel()]) \n",
        "\n",
        "plt.figure(1 , figsize = (7,7) )\n",
        "plt.clf()\n",
        "Z2 = Z.reshape(xx.shape)\n",
        "cmap = sns.color_palette(\"crest\", as_cmap=True)\n",
        "plt.imshow(Z2 , interpolation='nearest', extent=(xx.min(), xx.max(), yy.min(), yy.max()), cmap = cmap, aspect = 'auto', origin='lower', alpha=0.2)\n",
        "plt.scatter(x = 'num_recursos_medio', y = 'despesa_investimento', data = df_ies , c = labels2 , s = 25, cmap='crest')\n",
        "plt.scatter(x = centroids2[: , 0] , y =  centroids2[: , 1] , s = 50 , c = 'yellow' , alpha = 1)\n",
        "plt.xlim(-0.2,1.2), plt.ylim(-0.2,1.2)\n",
        "plt.title(\"CLUSTER 5\", fontsize=14)\n",
        "plt.ylabel('Recursos de Acessibilidade', fontsize=13) , plt.xlabel('Despesas com Investimentos da IES', fontsize=13)\n",
        "plt.savefig('k-means5.png', transparent = True)\n",
        "plt.show()"
      ],
      "execution_count": 151,
      "outputs": [
        {
          "output_type": "display_data",
          "data": {
            "image/png": "[encoded data removed]",
            "text/plain": [
              "<Figure size 504x504 with 1 Axes>"
            ]
          },
          "metadata": {}
        }
      ]
    }
  ]
}