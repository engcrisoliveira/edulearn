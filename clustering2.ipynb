{
  "nbformat": 4,
  "nbformat_minor": 0,
  "metadata": {
    "colab": {
      "name": "clustering2.ipynb",
      "provenance": [],
      "collapsed_sections": [],
      "authorship_tag": "ABX9TyPLLmtvfJj06zXRKFMDi62Z",
      "include_colab_link": true
    },
    "kernelspec": {
      "name": "python3",
      "display_name": "Python 3"
    },
    "language_info": {
      "name": "python"
    }
  },
  "cells": [
    {
      "cell_type": "markdown",
      "metadata": {
        "id": "view-in-github",
        "colab_type": "text"
      },
      "source": [
        "<a href=\"https://colab.research.google.com/github/roxacarv/edulearn/blob/main/clustering2.ipynb\" target=\"_parent\"><img src=\"https://colab.research.google.com/assets/colab-badge.svg\" alt=\"Open In Colab\"/></a>"
      ]
    },
    {
      "cell_type": "markdown",
      "metadata": {
        "id": "yMfEMPfbY-rx"
      },
      "source": [
        "#Edulearn - Clustering\n",
        "##IES\n",
        "---\n",
        "\n",
        "\n",
        "\n",
        "---"
      ]
    },
    {
      "cell_type": "code",
      "metadata": {
        "id": "PraEvtneZB6X"
      },
      "source": [
        "#Importando as bibliotecas\n",
        "import pandas as pd\n",
        "import matplotlib.pyplot as plt\n",
        "import plotly.graph_objects as go\n",
        "import seaborn as sns\n",
        "import numpy as np\n",
        "from sklearn.cluster import KMeans\n",
        "from sklearn.metrics import silhouette_score"
      ],
      "execution_count": 1,
      "outputs": []
    },
    {
      "cell_type": "markdown",
      "metadata": {
        "id": "68k061kKmu7v"
      },
      "source": [
        "## 1.Dados IES - INEP"
      ]
    },
    {
      "cell_type": "markdown",
      "metadata": {
        "id": "Y2LaAcaZuG2u"
      },
      "source": [
        "###1.1.Índice Geral dos Cursos (IGC)"
      ]
    },
    {
      "cell_type": "markdown",
      "metadata": {
        "id": "bzuRngkjdvHz"
      },
      "source": [
        " Índice referente à qualidade dos cursos, com resultado do desempenho das instituições de ensino superior do país"
      ]
    },
    {
      "cell_type": "code",
      "metadata": {
        "colab": {
          "base_uri": "https://localhost:8080/",
          "height": 206
        },
        "id": "ScWeqK1VshsW",
        "outputId": "a778bb8a-e50d-4e5c-98f0-d5a36740bfaf"
      },
      "source": [
        "#Indicadores de Qualidade da Educação Superior (INEP)\n",
        "ies_igc = pd.read_excel('IGC_2019.xlsx', usecols=[1, 9, 14])\n",
        "ies_igc.head()"
      ],
      "execution_count": 2,
      "outputs": [
        {
          "output_type": "execute_result",
          "data": {
            "text/html": [
              "<div>\n",
              "<style scoped>\n",
              "    .dataframe tbody tr th:only-of-type {\n",
              "        vertical-align: middle;\n",
              "    }\n",
              "\n",
              "    .dataframe tbody tr th {\n",
              "        vertical-align: top;\n",
              "    }\n",
              "\n",
              "    .dataframe thead th {\n",
              "        text-align: right;\n",
              "    }\n",
              "</style>\n",
              "<table border=\"1\" class=\"dataframe\">\n",
              "  <thead>\n",
              "    <tr style=\"text-align: right;\">\n",
              "      <th></th>\n",
              "      <th>Código da IES</th>\n",
              "      <th>Conceito Médio de Graduação</th>\n",
              "      <th>IGC (Contínuo)</th>\n",
              "    </tr>\n",
              "  </thead>\n",
              "  <tbody>\n",
              "    <tr>\n",
              "      <th>0</th>\n",
              "      <td>1</td>\n",
              "      <td>2.924962</td>\n",
              "      <td>3.236518</td>\n",
              "    </tr>\n",
              "    <tr>\n",
              "      <th>1</th>\n",
              "      <td>2</td>\n",
              "      <td>3.269586</td>\n",
              "      <td>3.941659</td>\n",
              "    </tr>\n",
              "    <tr>\n",
              "      <th>2</th>\n",
              "      <td>3</td>\n",
              "      <td>3.105500</td>\n",
              "      <td>3.367594</td>\n",
              "    </tr>\n",
              "    <tr>\n",
              "      <th>3</th>\n",
              "      <td>4</td>\n",
              "      <td>2.821851</td>\n",
              "      <td>3.048187</td>\n",
              "    </tr>\n",
              "    <tr>\n",
              "      <th>4</th>\n",
              "      <td>5</td>\n",
              "      <td>2.713283</td>\n",
              "      <td>2.960657</td>\n",
              "    </tr>\n",
              "  </tbody>\n",
              "</table>\n",
              "</div>"
            ],
            "text/plain": [
              "    Código da IES   Conceito Médio de Graduação   IGC (Contínuo)\n",
              "0               1                      2.924962         3.236518\n",
              "1               2                      3.269586         3.941659\n",
              "2               3                      3.105500         3.367594\n",
              "3               4                      2.821851         3.048187\n",
              "4               5                      2.713283         2.960657"
            ]
          },
          "metadata": {},
          "execution_count": 2
        }
      ]
    },
    {
      "cell_type": "code",
      "metadata": {
        "colab": {
          "base_uri": "https://localhost:8080/"
        },
        "id": "POtNTIY9v4iH",
        "outputId": "110b4239-d0e8-4dcb-843b-5fcfabbcf125"
      },
      "source": [
        "ies_igc.columns"
      ],
      "execution_count": 3,
      "outputs": [
        {
          "output_type": "execute_result",
          "data": {
            "text/plain": [
              "Index([' Código da IES', ' Conceito Médio de Graduação', ' IGC (Contínuo)'], dtype='object')"
            ]
          },
          "metadata": {},
          "execution_count": 3
        }
      ]
    },
    {
      "cell_type": "code",
      "metadata": {
        "colab": {
          "base_uri": "https://localhost:8080/",
          "height": 206
        },
        "id": "0PclshufukUZ",
        "outputId": "5a132980-a03e-42de-e63d-cc70562bb00f"
      },
      "source": [
        "#Renomeando as colunas\n",
        "ies_igc = ies_igc.rename(columns={\n",
        "    ' Código da IES':'cod_ies',\n",
        "    ' Conceito Médio de Graduação':'conceito_medio_graduacao',\n",
        "    ' IGC (Contínuo)':'igc_continuo',\n",
        "    })\n",
        "ies_igc.head()"
      ],
      "execution_count": 4,
      "outputs": [
        {
          "output_type": "execute_result",
          "data": {
            "text/html": [
              "<div>\n",
              "<style scoped>\n",
              "    .dataframe tbody tr th:only-of-type {\n",
              "        vertical-align: middle;\n",
              "    }\n",
              "\n",
              "    .dataframe tbody tr th {\n",
              "        vertical-align: top;\n",
              "    }\n",
              "\n",
              "    .dataframe thead th {\n",
              "        text-align: right;\n",
              "    }\n",
              "</style>\n",
              "<table border=\"1\" class=\"dataframe\">\n",
              "  <thead>\n",
              "    <tr style=\"text-align: right;\">\n",
              "      <th></th>\n",
              "      <th>cod_ies</th>\n",
              "      <th>conceito_medio_graduacao</th>\n",
              "      <th>igc_continuo</th>\n",
              "    </tr>\n",
              "  </thead>\n",
              "  <tbody>\n",
              "    <tr>\n",
              "      <th>0</th>\n",
              "      <td>1</td>\n",
              "      <td>2.924962</td>\n",
              "      <td>3.236518</td>\n",
              "    </tr>\n",
              "    <tr>\n",
              "      <th>1</th>\n",
              "      <td>2</td>\n",
              "      <td>3.269586</td>\n",
              "      <td>3.941659</td>\n",
              "    </tr>\n",
              "    <tr>\n",
              "      <th>2</th>\n",
              "      <td>3</td>\n",
              "      <td>3.105500</td>\n",
              "      <td>3.367594</td>\n",
              "    </tr>\n",
              "    <tr>\n",
              "      <th>3</th>\n",
              "      <td>4</td>\n",
              "      <td>2.821851</td>\n",
              "      <td>3.048187</td>\n",
              "    </tr>\n",
              "    <tr>\n",
              "      <th>4</th>\n",
              "      <td>5</td>\n",
              "      <td>2.713283</td>\n",
              "      <td>2.960657</td>\n",
              "    </tr>\n",
              "  </tbody>\n",
              "</table>\n",
              "</div>"
            ],
            "text/plain": [
              "   cod_ies  conceito_medio_graduacao  igc_continuo\n",
              "0        1                  2.924962      3.236518\n",
              "1        2                  3.269586      3.941659\n",
              "2        3                  3.105500      3.367594\n",
              "3        4                  2.821851      3.048187\n",
              "4        5                  2.713283      2.960657"
            ]
          },
          "metadata": {},
          "execution_count": 4
        }
      ]
    },
    {
      "cell_type": "markdown",
      "metadata": {
        "id": "kYygOgdJxkgV"
      },
      "source": [
        "### 1.2.Receitas das IES"
      ]
    },
    {
      "cell_type": "code",
      "metadata": {
        "colab": {
          "base_uri": "https://localhost:8080/",
          "height": 163
        },
        "id": "HOoB8sQgZLKi",
        "outputId": "fae38bce-bae6-4659-8e40-acb3b1d24241"
      },
      "source": [
        "ies_receitas = pd.read_csv('SUP_IES_2019.CSV', sep='|', encoding='latin1', usecols=['CO_IES','TP_CATEGORIA_ADMINISTRATIVA', 'VL_RECEITA_PROPRIA','VL_RECEITA_TRANSFERENCIA','VL_RECEITA_OUTRA','VL_DESPESA_PESSOAL_DOCENTE','VL_DESPESA_PESSOAL_TECNICO','VL_DESPESA_PESSOAL_ENCARGO','VL_DESPESA_CUSTEIO','VL_DESPESA_INVESTIMENTO','VL_DESPESA_PESQUISA','VL_DESPESA_OUTRA'])\n",
        "ies_receitas.head(3)"
      ],
      "execution_count": 5,
      "outputs": [
        {
          "output_type": "execute_result",
          "data": {
            "text/html": [
              "<div>\n",
              "<style scoped>\n",
              "    .dataframe tbody tr th:only-of-type {\n",
              "        vertical-align: middle;\n",
              "    }\n",
              "\n",
              "    .dataframe tbody tr th {\n",
              "        vertical-align: top;\n",
              "    }\n",
              "\n",
              "    .dataframe thead th {\n",
              "        text-align: right;\n",
              "    }\n",
              "</style>\n",
              "<table border=\"1\" class=\"dataframe\">\n",
              "  <thead>\n",
              "    <tr style=\"text-align: right;\">\n",
              "      <th></th>\n",
              "      <th>CO_IES</th>\n",
              "      <th>TP_CATEGORIA_ADMINISTRATIVA</th>\n",
              "      <th>VL_RECEITA_PROPRIA</th>\n",
              "      <th>VL_RECEITA_TRANSFERENCIA</th>\n",
              "      <th>VL_RECEITA_OUTRA</th>\n",
              "      <th>VL_DESPESA_PESSOAL_DOCENTE</th>\n",
              "      <th>VL_DESPESA_PESSOAL_TECNICO</th>\n",
              "      <th>VL_DESPESA_PESSOAL_ENCARGO</th>\n",
              "      <th>VL_DESPESA_CUSTEIO</th>\n",
              "      <th>VL_DESPESA_INVESTIMENTO</th>\n",
              "      <th>VL_DESPESA_PESQUISA</th>\n",
              "      <th>VL_DESPESA_OUTRA</th>\n",
              "    </tr>\n",
              "  </thead>\n",
              "  <tbody>\n",
              "    <tr>\n",
              "      <th>0</th>\n",
              "      <td>1</td>\n",
              "      <td>1</td>\n",
              "      <td>8075408.31</td>\n",
              "      <td>9.190156e+08</td>\n",
              "      <td>0.00</td>\n",
              "      <td>2.737906e+08</td>\n",
              "      <td>1.089490e+08</td>\n",
              "      <td>1.050124e+08</td>\n",
              "      <td>1.225790e+08</td>\n",
              "      <td>9606414.13</td>\n",
              "      <td>2512494.15</td>\n",
              "      <td>3.046410e+08</td>\n",
              "    </tr>\n",
              "    <tr>\n",
              "      <th>1</th>\n",
              "      <td>2</td>\n",
              "      <td>1</td>\n",
              "      <td>42309485.04</td>\n",
              "      <td>6.376632e+07</td>\n",
              "      <td>53681013.45</td>\n",
              "      <td>8.438613e+08</td>\n",
              "      <td>0.000000e+00</td>\n",
              "      <td>2.873756e+08</td>\n",
              "      <td>2.102659e+08</td>\n",
              "      <td>23154904.42</td>\n",
              "      <td>10350582.30</td>\n",
              "      <td>4.738549e+08</td>\n",
              "    </tr>\n",
              "    <tr>\n",
              "      <th>2</th>\n",
              "      <td>3</td>\n",
              "      <td>1</td>\n",
              "      <td>2064512.28</td>\n",
              "      <td>8.836851e+08</td>\n",
              "      <td>59978137.27</td>\n",
              "      <td>2.847694e+08</td>\n",
              "      <td>1.533374e+08</td>\n",
              "      <td>1.080347e+08</td>\n",
              "      <td>1.491604e+08</td>\n",
              "      <td>8212361.64</td>\n",
              "      <td>1445146.30</td>\n",
              "      <td>3.204186e+08</td>\n",
              "    </tr>\n",
              "  </tbody>\n",
              "</table>\n",
              "</div>"
            ],
            "text/plain": [
              "   CO_IES  TP_CATEGORIA_ADMINISTRATIVA  ...  VL_DESPESA_PESQUISA  VL_DESPESA_OUTRA\n",
              "0       1                            1  ...           2512494.15      3.046410e+08\n",
              "1       2                            1  ...          10350582.30      4.738549e+08\n",
              "2       3                            1  ...           1445146.30      3.204186e+08\n",
              "\n",
              "[3 rows x 12 columns]"
            ]
          },
          "metadata": {},
          "execution_count": 5
        }
      ]
    },
    {
      "cell_type": "code",
      "metadata": {
        "colab": {
          "base_uri": "https://localhost:8080/",
          "height": 226
        },
        "id": "gNZyZJtpzbuM",
        "outputId": "a2dbbda5-a897-4400-8232-4495f61478a9"
      },
      "source": [
        "#Renomeando as colunas\n",
        "ies_receitas = ies_receitas.rename(columns={\n",
        "    'CO_IES':'cod_ies',\n",
        "    'TP_CATEGORIA_ADMINISTRATIVA':'categoria_administrativa',\n",
        "    'VL_RECEITA_PROPRIA':'receita_propria',\n",
        "    'VL_RECEITA_TRANSFERENCIA':'receita_transferencia',\n",
        "    'VL_RECEITA_OUTRA':'receita_outra',\n",
        "    'VL_DESPESA_PESSOAL_DOCENTE':'despesa_pessoal_docente',\n",
        "    'VL_DESPESA_PESSOAL_TECNICO':'despesa_pessoal_tecnico',\n",
        "    'VL_DESPESA_PESSOAL_ENCARGO':'despesa_pessoal_encargo',\n",
        "    'VL_DESPESA_CUSTEIO':'despesa_custeio',\n",
        "    'VL_DESPESA_INVESTIMENTO':'despesa_investimento',\n",
        "    'VL_DESPESA_PESQUISA':'despesa_pesquisa',\n",
        "    'VL_DESPESA_OUTRA':'despesa_outra',\n",
        "    })\n",
        "ies_receitas.head()"
      ],
      "execution_count": 6,
      "outputs": [
        {
          "output_type": "execute_result",
          "data": {
            "text/html": [
              "<div>\n",
              "<style scoped>\n",
              "    .dataframe tbody tr th:only-of-type {\n",
              "        vertical-align: middle;\n",
              "    }\n",
              "\n",
              "    .dataframe tbody tr th {\n",
              "        vertical-align: top;\n",
              "    }\n",
              "\n",
              "    .dataframe thead th {\n",
              "        text-align: right;\n",
              "    }\n",
              "</style>\n",
              "<table border=\"1\" class=\"dataframe\">\n",
              "  <thead>\n",
              "    <tr style=\"text-align: right;\">\n",
              "      <th></th>\n",
              "      <th>cod_ies</th>\n",
              "      <th>categoria_administrativa</th>\n",
              "      <th>receita_propria</th>\n",
              "      <th>receita_transferencia</th>\n",
              "      <th>receita_outra</th>\n",
              "      <th>despesa_pessoal_docente</th>\n",
              "      <th>despesa_pessoal_tecnico</th>\n",
              "      <th>despesa_pessoal_encargo</th>\n",
              "      <th>despesa_custeio</th>\n",
              "      <th>despesa_investimento</th>\n",
              "      <th>despesa_pesquisa</th>\n",
              "      <th>despesa_outra</th>\n",
              "    </tr>\n",
              "  </thead>\n",
              "  <tbody>\n",
              "    <tr>\n",
              "      <th>0</th>\n",
              "      <td>1</td>\n",
              "      <td>1</td>\n",
              "      <td>8075408.31</td>\n",
              "      <td>9.190156e+08</td>\n",
              "      <td>0.00</td>\n",
              "      <td>2.737906e+08</td>\n",
              "      <td>1.089490e+08</td>\n",
              "      <td>1.050124e+08</td>\n",
              "      <td>1.225790e+08</td>\n",
              "      <td>9606414.13</td>\n",
              "      <td>2512494.15</td>\n",
              "      <td>3.046410e+08</td>\n",
              "    </tr>\n",
              "    <tr>\n",
              "      <th>1</th>\n",
              "      <td>2</td>\n",
              "      <td>1</td>\n",
              "      <td>42309485.04</td>\n",
              "      <td>6.376632e+07</td>\n",
              "      <td>53681013.45</td>\n",
              "      <td>8.438613e+08</td>\n",
              "      <td>0.000000e+00</td>\n",
              "      <td>2.873756e+08</td>\n",
              "      <td>2.102659e+08</td>\n",
              "      <td>23154904.42</td>\n",
              "      <td>10350582.30</td>\n",
              "      <td>4.738549e+08</td>\n",
              "    </tr>\n",
              "    <tr>\n",
              "      <th>2</th>\n",
              "      <td>3</td>\n",
              "      <td>1</td>\n",
              "      <td>2064512.28</td>\n",
              "      <td>8.836851e+08</td>\n",
              "      <td>59978137.27</td>\n",
              "      <td>2.847694e+08</td>\n",
              "      <td>1.533374e+08</td>\n",
              "      <td>1.080347e+08</td>\n",
              "      <td>1.491604e+08</td>\n",
              "      <td>8212361.64</td>\n",
              "      <td>1445146.30</td>\n",
              "      <td>3.204186e+08</td>\n",
              "    </tr>\n",
              "    <tr>\n",
              "      <th>3</th>\n",
              "      <td>4</td>\n",
              "      <td>1</td>\n",
              "      <td>5603181.06</td>\n",
              "      <td>1.063315e+09</td>\n",
              "      <td>1721653.86</td>\n",
              "      <td>4.482062e+08</td>\n",
              "      <td>0.000000e+00</td>\n",
              "      <td>1.322010e+08</td>\n",
              "      <td>1.839712e+08</td>\n",
              "      <td>12676251.59</td>\n",
              "      <td>1312837.53</td>\n",
              "      <td>6.845330e+07</td>\n",
              "    </tr>\n",
              "    <tr>\n",
              "      <th>4</th>\n",
              "      <td>6</td>\n",
              "      <td>1</td>\n",
              "      <td>5905654.74</td>\n",
              "      <td>4.992185e+08</td>\n",
              "      <td>30461740.62</td>\n",
              "      <td>1.691617e+08</td>\n",
              "      <td>5.899877e+07</td>\n",
              "      <td>4.092087e+07</td>\n",
              "      <td>4.907550e+07</td>\n",
              "      <td>73345.77</td>\n",
              "      <td>828200.00</td>\n",
              "      <td>2.165275e+08</td>\n",
              "    </tr>\n",
              "  </tbody>\n",
              "</table>\n",
              "</div>"
            ],
            "text/plain": [
              "   cod_ies  categoria_administrativa  ...  despesa_pesquisa  despesa_outra\n",
              "0        1                         1  ...        2512494.15   3.046410e+08\n",
              "1        2                         1  ...       10350582.30   4.738549e+08\n",
              "2        3                         1  ...        1445146.30   3.204186e+08\n",
              "3        4                         1  ...        1312837.53   6.845330e+07\n",
              "4        6                         1  ...         828200.00   2.165275e+08\n",
              "\n",
              "[5 rows x 12 columns]"
            ]
          },
          "metadata": {},
          "execution_count": 6
        }
      ]
    },
    {
      "cell_type": "code",
      "metadata": {
        "colab": {
          "base_uri": "https://localhost:8080/",
          "height": 226
        },
        "id": "mzbEybVN1D1O",
        "outputId": "3de13604-b9a7-445f-a3a0-0f89f9a603ff"
      },
      "source": [
        "#Inserindo colunas com total de receitas e de despesas\n",
        "ies_receitas['receitas'] = ies_receitas['receita_propria'] + ies_receitas['receita_transferencia'] + ies_receitas['receita_outra']\n",
        "ies_receitas['despesas'] = ies_receitas['despesa_pessoal_docente'] + ies_receitas['despesa_pessoal_tecnico'] + ies_receitas['despesa_pessoal_encargo'] + ies_receitas['despesa_custeio'] + ies_receitas['despesa_investimento'] + ies_receitas['despesa_pesquisa'] + ies_receitas['despesa_outra']\n",
        "ies_receitas.head()"
      ],
      "execution_count": 7,
      "outputs": [
        {
          "output_type": "execute_result",
          "data": {
            "text/html": [
              "<div>\n",
              "<style scoped>\n",
              "    .dataframe tbody tr th:only-of-type {\n",
              "        vertical-align: middle;\n",
              "    }\n",
              "\n",
              "    .dataframe tbody tr th {\n",
              "        vertical-align: top;\n",
              "    }\n",
              "\n",
              "    .dataframe thead th {\n",
              "        text-align: right;\n",
              "    }\n",
              "</style>\n",
              "<table border=\"1\" class=\"dataframe\">\n",
              "  <thead>\n",
              "    <tr style=\"text-align: right;\">\n",
              "      <th></th>\n",
              "      <th>cod_ies</th>\n",
              "      <th>categoria_administrativa</th>\n",
              "      <th>receita_propria</th>\n",
              "      <th>receita_transferencia</th>\n",
              "      <th>receita_outra</th>\n",
              "      <th>despesa_pessoal_docente</th>\n",
              "      <th>despesa_pessoal_tecnico</th>\n",
              "      <th>despesa_pessoal_encargo</th>\n",
              "      <th>despesa_custeio</th>\n",
              "      <th>despesa_investimento</th>\n",
              "      <th>despesa_pesquisa</th>\n",
              "      <th>despesa_outra</th>\n",
              "      <th>receitas</th>\n",
              "      <th>despesas</th>\n",
              "    </tr>\n",
              "  </thead>\n",
              "  <tbody>\n",
              "    <tr>\n",
              "      <th>0</th>\n",
              "      <td>1</td>\n",
              "      <td>1</td>\n",
              "      <td>8075408.31</td>\n",
              "      <td>9.190156e+08</td>\n",
              "      <td>0.00</td>\n",
              "      <td>2.737906e+08</td>\n",
              "      <td>1.089490e+08</td>\n",
              "      <td>1.050124e+08</td>\n",
              "      <td>1.225790e+08</td>\n",
              "      <td>9606414.13</td>\n",
              "      <td>2512494.15</td>\n",
              "      <td>3.046410e+08</td>\n",
              "      <td>9.270910e+08</td>\n",
              "      <td>9.270910e+08</td>\n",
              "    </tr>\n",
              "    <tr>\n",
              "      <th>1</th>\n",
              "      <td>2</td>\n",
              "      <td>1</td>\n",
              "      <td>42309485.04</td>\n",
              "      <td>6.376632e+07</td>\n",
              "      <td>53681013.45</td>\n",
              "      <td>8.438613e+08</td>\n",
              "      <td>0.000000e+00</td>\n",
              "      <td>2.873756e+08</td>\n",
              "      <td>2.102659e+08</td>\n",
              "      <td>23154904.42</td>\n",
              "      <td>10350582.30</td>\n",
              "      <td>4.738549e+08</td>\n",
              "      <td>1.597568e+08</td>\n",
              "      <td>1.848863e+09</td>\n",
              "    </tr>\n",
              "    <tr>\n",
              "      <th>2</th>\n",
              "      <td>3</td>\n",
              "      <td>1</td>\n",
              "      <td>2064512.28</td>\n",
              "      <td>8.836851e+08</td>\n",
              "      <td>59978137.27</td>\n",
              "      <td>2.847694e+08</td>\n",
              "      <td>1.533374e+08</td>\n",
              "      <td>1.080347e+08</td>\n",
              "      <td>1.491604e+08</td>\n",
              "      <td>8212361.64</td>\n",
              "      <td>1445146.30</td>\n",
              "      <td>3.204186e+08</td>\n",
              "      <td>9.457277e+08</td>\n",
              "      <td>1.025378e+09</td>\n",
              "    </tr>\n",
              "    <tr>\n",
              "      <th>3</th>\n",
              "      <td>4</td>\n",
              "      <td>1</td>\n",
              "      <td>5603181.06</td>\n",
              "      <td>1.063315e+09</td>\n",
              "      <td>1721653.86</td>\n",
              "      <td>4.482062e+08</td>\n",
              "      <td>0.000000e+00</td>\n",
              "      <td>1.322010e+08</td>\n",
              "      <td>1.839712e+08</td>\n",
              "      <td>12676251.59</td>\n",
              "      <td>1312837.53</td>\n",
              "      <td>6.845330e+07</td>\n",
              "      <td>1.070640e+09</td>\n",
              "      <td>8.468208e+08</td>\n",
              "    </tr>\n",
              "    <tr>\n",
              "      <th>4</th>\n",
              "      <td>6</td>\n",
              "      <td>1</td>\n",
              "      <td>5905654.74</td>\n",
              "      <td>4.992185e+08</td>\n",
              "      <td>30461740.62</td>\n",
              "      <td>1.691617e+08</td>\n",
              "      <td>5.899877e+07</td>\n",
              "      <td>4.092087e+07</td>\n",
              "      <td>4.907550e+07</td>\n",
              "      <td>73345.77</td>\n",
              "      <td>828200.00</td>\n",
              "      <td>2.165275e+08</td>\n",
              "      <td>5.355859e+08</td>\n",
              "      <td>5.355859e+08</td>\n",
              "    </tr>\n",
              "  </tbody>\n",
              "</table>\n",
              "</div>"
            ],
            "text/plain": [
              "   cod_ies  categoria_administrativa  ...      receitas      despesas\n",
              "0        1                         1  ...  9.270910e+08  9.270910e+08\n",
              "1        2                         1  ...  1.597568e+08  1.848863e+09\n",
              "2        3                         1  ...  9.457277e+08  1.025378e+09\n",
              "3        4                         1  ...  1.070640e+09  8.468208e+08\n",
              "4        6                         1  ...  5.355859e+08  5.355859e+08\n",
              "\n",
              "[5 rows x 14 columns]"
            ]
          },
          "metadata": {},
          "execution_count": 7
        }
      ]
    },
    {
      "cell_type": "code",
      "metadata": {
        "colab": {
          "base_uri": "https://localhost:8080/",
          "height": 206
        },
        "id": "DzvmlF7PWpd4",
        "outputId": "8468d2d2-bee7-4598-f0c4-2487d2d5db12"
      },
      "source": [
        "ies_receitas = ies_receitas[['cod_ies','categoria_administrativa','despesa_investimento','receitas']]\n",
        "ies_receitas.head()"
      ],
      "execution_count": 8,
      "outputs": [
        {
          "output_type": "execute_result",
          "data": {
            "text/html": [
              "<div>\n",
              "<style scoped>\n",
              "    .dataframe tbody tr th:only-of-type {\n",
              "        vertical-align: middle;\n",
              "    }\n",
              "\n",
              "    .dataframe tbody tr th {\n",
              "        vertical-align: top;\n",
              "    }\n",
              "\n",
              "    .dataframe thead th {\n",
              "        text-align: right;\n",
              "    }\n",
              "</style>\n",
              "<table border=\"1\" class=\"dataframe\">\n",
              "  <thead>\n",
              "    <tr style=\"text-align: right;\">\n",
              "      <th></th>\n",
              "      <th>cod_ies</th>\n",
              "      <th>categoria_administrativa</th>\n",
              "      <th>despesa_investimento</th>\n",
              "      <th>receitas</th>\n",
              "    </tr>\n",
              "  </thead>\n",
              "  <tbody>\n",
              "    <tr>\n",
              "      <th>0</th>\n",
              "      <td>1</td>\n",
              "      <td>1</td>\n",
              "      <td>9606414.13</td>\n",
              "      <td>9.270910e+08</td>\n",
              "    </tr>\n",
              "    <tr>\n",
              "      <th>1</th>\n",
              "      <td>2</td>\n",
              "      <td>1</td>\n",
              "      <td>23154904.42</td>\n",
              "      <td>1.597568e+08</td>\n",
              "    </tr>\n",
              "    <tr>\n",
              "      <th>2</th>\n",
              "      <td>3</td>\n",
              "      <td>1</td>\n",
              "      <td>8212361.64</td>\n",
              "      <td>9.457277e+08</td>\n",
              "    </tr>\n",
              "    <tr>\n",
              "      <th>3</th>\n",
              "      <td>4</td>\n",
              "      <td>1</td>\n",
              "      <td>12676251.59</td>\n",
              "      <td>1.070640e+09</td>\n",
              "    </tr>\n",
              "    <tr>\n",
              "      <th>4</th>\n",
              "      <td>6</td>\n",
              "      <td>1</td>\n",
              "      <td>73345.77</td>\n",
              "      <td>5.355859e+08</td>\n",
              "    </tr>\n",
              "  </tbody>\n",
              "</table>\n",
              "</div>"
            ],
            "text/plain": [
              "   cod_ies  categoria_administrativa  despesa_investimento      receitas\n",
              "0        1                         1            9606414.13  9.270910e+08\n",
              "1        2                         1           23154904.42  1.597568e+08\n",
              "2        3                         1            8212361.64  9.457277e+08\n",
              "3        4                         1           12676251.59  1.070640e+09\n",
              "4        6                         1              73345.77  5.355859e+08"
            ]
          },
          "metadata": {},
          "execution_count": 8
        }
      ]
    },
    {
      "cell_type": "markdown",
      "metadata": {
        "id": "ag0hCx5r2bVs"
      },
      "source": [
        "### 1.3.Recursos"
      ]
    },
    {
      "cell_type": "code",
      "metadata": {
        "colab": {
          "base_uri": "https://localhost:8080/",
          "height": 163
        },
        "id": "X7dZVoIf2fFm",
        "outputId": "1f1afecd-2a2f-4079-f6c2-12a40f6ddc3b"
      },
      "source": [
        "#Contando a quantidade de recursos por curso\n",
        "ies_recursos = pd.read_csv('SUP_CURSO_2019.CSV', sep='|', encoding='latin1', usecols=['CO_IES', 'CO_CURSO', 'IN_MATERIAL_DIGITAL','IN_MATERIAL_AMPLIADO','IN_MATERIAL_TATIL','IN_MATERIAL_IMPRESSO','IN_MATERIAL_AUDIO','IN_MATERIAL_BRAILLE','IN_MATERIAL_LIBRAS','IN_DISCIPLINA_LIBRAS','IN_TRADUTOR_LIBRAS','IN_GUIA_INTERPRETE','IN_RECURSOS_COMUNICACAO','IN_RECURSOS_INFORMATICA' ])\n",
        "ies_recursos.head(3)"
      ],
      "execution_count": 9,
      "outputs": [
        {
          "output_type": "execute_result",
          "data": {
            "text/html": [
              "<div>\n",
              "<style scoped>\n",
              "    .dataframe tbody tr th:only-of-type {\n",
              "        vertical-align: middle;\n",
              "    }\n",
              "\n",
              "    .dataframe tbody tr th {\n",
              "        vertical-align: top;\n",
              "    }\n",
              "\n",
              "    .dataframe thead th {\n",
              "        text-align: right;\n",
              "    }\n",
              "</style>\n",
              "<table border=\"1\" class=\"dataframe\">\n",
              "  <thead>\n",
              "    <tr style=\"text-align: right;\">\n",
              "      <th></th>\n",
              "      <th>CO_IES</th>\n",
              "      <th>CO_CURSO</th>\n",
              "      <th>IN_MATERIAL_DIGITAL</th>\n",
              "      <th>IN_MATERIAL_AMPLIADO</th>\n",
              "      <th>IN_MATERIAL_TATIL</th>\n",
              "      <th>IN_MATERIAL_IMPRESSO</th>\n",
              "      <th>IN_MATERIAL_AUDIO</th>\n",
              "      <th>IN_MATERIAL_BRAILLE</th>\n",
              "      <th>IN_MATERIAL_LIBRAS</th>\n",
              "      <th>IN_DISCIPLINA_LIBRAS</th>\n",
              "      <th>IN_TRADUTOR_LIBRAS</th>\n",
              "      <th>IN_GUIA_INTERPRETE</th>\n",
              "      <th>IN_RECURSOS_COMUNICACAO</th>\n",
              "      <th>IN_RECURSOS_INFORMATICA</th>\n",
              "    </tr>\n",
              "  </thead>\n",
              "  <tbody>\n",
              "    <tr>\n",
              "      <th>0</th>\n",
              "      <td>1</td>\n",
              "      <td>1</td>\n",
              "      <td>0.0</td>\n",
              "      <td>0.0</td>\n",
              "      <td>0.0</td>\n",
              "      <td>0.0</td>\n",
              "      <td>0.0</td>\n",
              "      <td>0.0</td>\n",
              "      <td>0.0</td>\n",
              "      <td>1.0</td>\n",
              "      <td>0.0</td>\n",
              "      <td>0.0</td>\n",
              "      <td>0.0</td>\n",
              "      <td>0.0</td>\n",
              "    </tr>\n",
              "    <tr>\n",
              "      <th>1</th>\n",
              "      <td>1</td>\n",
              "      <td>2</td>\n",
              "      <td>NaN</td>\n",
              "      <td>NaN</td>\n",
              "      <td>NaN</td>\n",
              "      <td>NaN</td>\n",
              "      <td>NaN</td>\n",
              "      <td>NaN</td>\n",
              "      <td>NaN</td>\n",
              "      <td>NaN</td>\n",
              "      <td>NaN</td>\n",
              "      <td>NaN</td>\n",
              "      <td>NaN</td>\n",
              "      <td>NaN</td>\n",
              "    </tr>\n",
              "    <tr>\n",
              "      <th>2</th>\n",
              "      <td>1</td>\n",
              "      <td>3</td>\n",
              "      <td>NaN</td>\n",
              "      <td>NaN</td>\n",
              "      <td>NaN</td>\n",
              "      <td>NaN</td>\n",
              "      <td>NaN</td>\n",
              "      <td>NaN</td>\n",
              "      <td>NaN</td>\n",
              "      <td>NaN</td>\n",
              "      <td>NaN</td>\n",
              "      <td>NaN</td>\n",
              "      <td>NaN</td>\n",
              "      <td>NaN</td>\n",
              "    </tr>\n",
              "  </tbody>\n",
              "</table>\n",
              "</div>"
            ],
            "text/plain": [
              "   CO_IES  CO_CURSO  ...  IN_RECURSOS_COMUNICACAO  IN_RECURSOS_INFORMATICA\n",
              "0       1         1  ...                      0.0                      0.0\n",
              "1       1         2  ...                      NaN                      NaN\n",
              "2       1         3  ...                      NaN                      NaN\n",
              "\n",
              "[3 rows x 14 columns]"
            ]
          },
          "metadata": {},
          "execution_count": 9
        }
      ]
    },
    {
      "cell_type": "code",
      "metadata": {
        "colab": {
          "base_uri": "https://localhost:8080/",
          "height": 226
        },
        "id": "M3gemuO3LUbr",
        "outputId": "6cee0807-2d9b-4666-f477-7b05f8a59912"
      },
      "source": [
        "#Substituindo NaN por zero\n",
        "ies_recursos.fillna(0, inplace=True)\n",
        "ies_recursos.head()"
      ],
      "execution_count": 10,
      "outputs": [
        {
          "output_type": "execute_result",
          "data": {
            "text/html": [
              "<div>\n",
              "<style scoped>\n",
              "    .dataframe tbody tr th:only-of-type {\n",
              "        vertical-align: middle;\n",
              "    }\n",
              "\n",
              "    .dataframe tbody tr th {\n",
              "        vertical-align: top;\n",
              "    }\n",
              "\n",
              "    .dataframe thead th {\n",
              "        text-align: right;\n",
              "    }\n",
              "</style>\n",
              "<table border=\"1\" class=\"dataframe\">\n",
              "  <thead>\n",
              "    <tr style=\"text-align: right;\">\n",
              "      <th></th>\n",
              "      <th>CO_IES</th>\n",
              "      <th>CO_CURSO</th>\n",
              "      <th>IN_MATERIAL_DIGITAL</th>\n",
              "      <th>IN_MATERIAL_AMPLIADO</th>\n",
              "      <th>IN_MATERIAL_TATIL</th>\n",
              "      <th>IN_MATERIAL_IMPRESSO</th>\n",
              "      <th>IN_MATERIAL_AUDIO</th>\n",
              "      <th>IN_MATERIAL_BRAILLE</th>\n",
              "      <th>IN_MATERIAL_LIBRAS</th>\n",
              "      <th>IN_DISCIPLINA_LIBRAS</th>\n",
              "      <th>IN_TRADUTOR_LIBRAS</th>\n",
              "      <th>IN_GUIA_INTERPRETE</th>\n",
              "      <th>IN_RECURSOS_COMUNICACAO</th>\n",
              "      <th>IN_RECURSOS_INFORMATICA</th>\n",
              "    </tr>\n",
              "  </thead>\n",
              "  <tbody>\n",
              "    <tr>\n",
              "      <th>0</th>\n",
              "      <td>1</td>\n",
              "      <td>1</td>\n",
              "      <td>0.0</td>\n",
              "      <td>0.0</td>\n",
              "      <td>0.0</td>\n",
              "      <td>0.0</td>\n",
              "      <td>0.0</td>\n",
              "      <td>0.0</td>\n",
              "      <td>0.0</td>\n",
              "      <td>1.0</td>\n",
              "      <td>0.0</td>\n",
              "      <td>0.0</td>\n",
              "      <td>0.0</td>\n",
              "      <td>0.0</td>\n",
              "    </tr>\n",
              "    <tr>\n",
              "      <th>1</th>\n",
              "      <td>1</td>\n",
              "      <td>2</td>\n",
              "      <td>0.0</td>\n",
              "      <td>0.0</td>\n",
              "      <td>0.0</td>\n",
              "      <td>0.0</td>\n",
              "      <td>0.0</td>\n",
              "      <td>0.0</td>\n",
              "      <td>0.0</td>\n",
              "      <td>0.0</td>\n",
              "      <td>0.0</td>\n",
              "      <td>0.0</td>\n",
              "      <td>0.0</td>\n",
              "      <td>0.0</td>\n",
              "    </tr>\n",
              "    <tr>\n",
              "      <th>2</th>\n",
              "      <td>1</td>\n",
              "      <td>3</td>\n",
              "      <td>0.0</td>\n",
              "      <td>0.0</td>\n",
              "      <td>0.0</td>\n",
              "      <td>0.0</td>\n",
              "      <td>0.0</td>\n",
              "      <td>0.0</td>\n",
              "      <td>0.0</td>\n",
              "      <td>0.0</td>\n",
              "      <td>0.0</td>\n",
              "      <td>0.0</td>\n",
              "      <td>0.0</td>\n",
              "      <td>0.0</td>\n",
              "    </tr>\n",
              "    <tr>\n",
              "      <th>3</th>\n",
              "      <td>1</td>\n",
              "      <td>6</td>\n",
              "      <td>1.0</td>\n",
              "      <td>1.0</td>\n",
              "      <td>1.0</td>\n",
              "      <td>0.0</td>\n",
              "      <td>1.0</td>\n",
              "      <td>0.0</td>\n",
              "      <td>0.0</td>\n",
              "      <td>1.0</td>\n",
              "      <td>1.0</td>\n",
              "      <td>1.0</td>\n",
              "      <td>1.0</td>\n",
              "      <td>1.0</td>\n",
              "    </tr>\n",
              "    <tr>\n",
              "      <th>4</th>\n",
              "      <td>1</td>\n",
              "      <td>7</td>\n",
              "      <td>0.0</td>\n",
              "      <td>0.0</td>\n",
              "      <td>0.0</td>\n",
              "      <td>0.0</td>\n",
              "      <td>0.0</td>\n",
              "      <td>0.0</td>\n",
              "      <td>0.0</td>\n",
              "      <td>1.0</td>\n",
              "      <td>0.0</td>\n",
              "      <td>0.0</td>\n",
              "      <td>0.0</td>\n",
              "      <td>0.0</td>\n",
              "    </tr>\n",
              "  </tbody>\n",
              "</table>\n",
              "</div>"
            ],
            "text/plain": [
              "   CO_IES  CO_CURSO  ...  IN_RECURSOS_COMUNICACAO  IN_RECURSOS_INFORMATICA\n",
              "0       1         1  ...                      0.0                      0.0\n",
              "1       1         2  ...                      0.0                      0.0\n",
              "2       1         3  ...                      0.0                      0.0\n",
              "3       1         6  ...                      1.0                      1.0\n",
              "4       1         7  ...                      0.0                      0.0\n",
              "\n",
              "[5 rows x 14 columns]"
            ]
          },
          "metadata": {},
          "execution_count": 10
        }
      ]
    },
    {
      "cell_type": "code",
      "metadata": {
        "colab": {
          "base_uri": "https://localhost:8080/",
          "height": 226
        },
        "id": "96NXBA2b3kme",
        "outputId": "e2bf580b-2b21-4144-fbc0-c7d0dd57cab3"
      },
      "source": [
        "#Renomeando as colunas\n",
        "ies_recursos = ies_recursos.rename(columns={\n",
        "    'CO_IES':'cod_ies',\n",
        "    'CO_CURSO':'cod_curso',\n",
        "    'IN_MATERIAL_DIGITAL':'material_digital',\n",
        "    'IN_MATERIAL_AMPLIADO':'material_ampliado',\n",
        "    'IN_MATERIAL_TATIL':'material_tatil',\n",
        "    'IN_MATERIAL_IMPRESSO':'material_impresso',\n",
        "    'IN_MATERIAL_AUDIO':'material_audio',\n",
        "    'IN_MATERIAL_BRAILLE':'material_braille',\n",
        "    'IN_MATERIAL_LIBRAS':'material_libras',\n",
        "    'IN_DISCIPLINA_LIBRAS':'disciplina_libras',\n",
        "    'IN_TRADUTOR_LIBRAS':'tradutor_libras',\n",
        "    'IN_GUIA_INTERPRETE':'guia_interprete',\n",
        "    'IN_RECURSOS_COMUNICACAO':'recursos_comunicacao',\n",
        "    'IN_RECURSOS_INFORMATICA':'recursos_informatica',\n",
        "})\n",
        "ies_recursos.head()"
      ],
      "execution_count": 11,
      "outputs": [
        {
          "output_type": "execute_result",
          "data": {
            "text/html": [
              "<div>\n",
              "<style scoped>\n",
              "    .dataframe tbody tr th:only-of-type {\n",
              "        vertical-align: middle;\n",
              "    }\n",
              "\n",
              "    .dataframe tbody tr th {\n",
              "        vertical-align: top;\n",
              "    }\n",
              "\n",
              "    .dataframe thead th {\n",
              "        text-align: right;\n",
              "    }\n",
              "</style>\n",
              "<table border=\"1\" class=\"dataframe\">\n",
              "  <thead>\n",
              "    <tr style=\"text-align: right;\">\n",
              "      <th></th>\n",
              "      <th>cod_ies</th>\n",
              "      <th>cod_curso</th>\n",
              "      <th>material_digital</th>\n",
              "      <th>material_ampliado</th>\n",
              "      <th>material_tatil</th>\n",
              "      <th>material_impresso</th>\n",
              "      <th>material_audio</th>\n",
              "      <th>material_braille</th>\n",
              "      <th>material_libras</th>\n",
              "      <th>disciplina_libras</th>\n",
              "      <th>tradutor_libras</th>\n",
              "      <th>guia_interprete</th>\n",
              "      <th>recursos_comunicacao</th>\n",
              "      <th>recursos_informatica</th>\n",
              "    </tr>\n",
              "  </thead>\n",
              "  <tbody>\n",
              "    <tr>\n",
              "      <th>0</th>\n",
              "      <td>1</td>\n",
              "      <td>1</td>\n",
              "      <td>0.0</td>\n",
              "      <td>0.0</td>\n",
              "      <td>0.0</td>\n",
              "      <td>0.0</td>\n",
              "      <td>0.0</td>\n",
              "      <td>0.0</td>\n",
              "      <td>0.0</td>\n",
              "      <td>1.0</td>\n",
              "      <td>0.0</td>\n",
              "      <td>0.0</td>\n",
              "      <td>0.0</td>\n",
              "      <td>0.0</td>\n",
              "    </tr>\n",
              "    <tr>\n",
              "      <th>1</th>\n",
              "      <td>1</td>\n",
              "      <td>2</td>\n",
              "      <td>0.0</td>\n",
              "      <td>0.0</td>\n",
              "      <td>0.0</td>\n",
              "      <td>0.0</td>\n",
              "      <td>0.0</td>\n",
              "      <td>0.0</td>\n",
              "      <td>0.0</td>\n",
              "      <td>0.0</td>\n",
              "      <td>0.0</td>\n",
              "      <td>0.0</td>\n",
              "      <td>0.0</td>\n",
              "      <td>0.0</td>\n",
              "    </tr>\n",
              "    <tr>\n",
              "      <th>2</th>\n",
              "      <td>1</td>\n",
              "      <td>3</td>\n",
              "      <td>0.0</td>\n",
              "      <td>0.0</td>\n",
              "      <td>0.0</td>\n",
              "      <td>0.0</td>\n",
              "      <td>0.0</td>\n",
              "      <td>0.0</td>\n",
              "      <td>0.0</td>\n",
              "      <td>0.0</td>\n",
              "      <td>0.0</td>\n",
              "      <td>0.0</td>\n",
              "      <td>0.0</td>\n",
              "      <td>0.0</td>\n",
              "    </tr>\n",
              "    <tr>\n",
              "      <th>3</th>\n",
              "      <td>1</td>\n",
              "      <td>6</td>\n",
              "      <td>1.0</td>\n",
              "      <td>1.0</td>\n",
              "      <td>1.0</td>\n",
              "      <td>0.0</td>\n",
              "      <td>1.0</td>\n",
              "      <td>0.0</td>\n",
              "      <td>0.0</td>\n",
              "      <td>1.0</td>\n",
              "      <td>1.0</td>\n",
              "      <td>1.0</td>\n",
              "      <td>1.0</td>\n",
              "      <td>1.0</td>\n",
              "    </tr>\n",
              "    <tr>\n",
              "      <th>4</th>\n",
              "      <td>1</td>\n",
              "      <td>7</td>\n",
              "      <td>0.0</td>\n",
              "      <td>0.0</td>\n",
              "      <td>0.0</td>\n",
              "      <td>0.0</td>\n",
              "      <td>0.0</td>\n",
              "      <td>0.0</td>\n",
              "      <td>0.0</td>\n",
              "      <td>1.0</td>\n",
              "      <td>0.0</td>\n",
              "      <td>0.0</td>\n",
              "      <td>0.0</td>\n",
              "      <td>0.0</td>\n",
              "    </tr>\n",
              "  </tbody>\n",
              "</table>\n",
              "</div>"
            ],
            "text/plain": [
              "   cod_ies  cod_curso  ...  recursos_comunicacao  recursos_informatica\n",
              "0        1          1  ...                   0.0                   0.0\n",
              "1        1          2  ...                   0.0                   0.0\n",
              "2        1          3  ...                   0.0                   0.0\n",
              "3        1          6  ...                   1.0                   1.0\n",
              "4        1          7  ...                   0.0                   0.0\n",
              "\n",
              "[5 rows x 14 columns]"
            ]
          },
          "metadata": {},
          "execution_count": 11
        }
      ]
    },
    {
      "cell_type": "code",
      "metadata": {
        "colab": {
          "base_uri": "https://localhost:8080/",
          "height": 226
        },
        "id": "5L22UFk2Kumz",
        "outputId": "9af47815-af5c-4246-b8f3-fdc50f40dc7e"
      },
      "source": [
        "ies_recursos['recursos_totais'] = ies_recursos['material_digital'] + ies_recursos['material_ampliado'] + ies_recursos['material_tatil'] + ies_recursos['material_impresso'] + ies_recursos['material_audio'] + ies_recursos['material_braille'] + ies_recursos['material_libras'] + ies_recursos['disciplina_libras'] + ies_recursos['tradutor_libras'] + ies_recursos['guia_interprete'] + ies_recursos['recursos_comunicacao'] + ies_recursos['recursos_informatica']\n",
        "ies_recursos.head()"
      ],
      "execution_count": 12,
      "outputs": [
        {
          "output_type": "execute_result",
          "data": {
            "text/html": [
              "<div>\n",
              "<style scoped>\n",
              "    .dataframe tbody tr th:only-of-type {\n",
              "        vertical-align: middle;\n",
              "    }\n",
              "\n",
              "    .dataframe tbody tr th {\n",
              "        vertical-align: top;\n",
              "    }\n",
              "\n",
              "    .dataframe thead th {\n",
              "        text-align: right;\n",
              "    }\n",
              "</style>\n",
              "<table border=\"1\" class=\"dataframe\">\n",
              "  <thead>\n",
              "    <tr style=\"text-align: right;\">\n",
              "      <th></th>\n",
              "      <th>cod_ies</th>\n",
              "      <th>cod_curso</th>\n",
              "      <th>material_digital</th>\n",
              "      <th>material_ampliado</th>\n",
              "      <th>material_tatil</th>\n",
              "      <th>material_impresso</th>\n",
              "      <th>material_audio</th>\n",
              "      <th>material_braille</th>\n",
              "      <th>material_libras</th>\n",
              "      <th>disciplina_libras</th>\n",
              "      <th>tradutor_libras</th>\n",
              "      <th>guia_interprete</th>\n",
              "      <th>recursos_comunicacao</th>\n",
              "      <th>recursos_informatica</th>\n",
              "      <th>recursos_totais</th>\n",
              "    </tr>\n",
              "  </thead>\n",
              "  <tbody>\n",
              "    <tr>\n",
              "      <th>0</th>\n",
              "      <td>1</td>\n",
              "      <td>1</td>\n",
              "      <td>0.0</td>\n",
              "      <td>0.0</td>\n",
              "      <td>0.0</td>\n",
              "      <td>0.0</td>\n",
              "      <td>0.0</td>\n",
              "      <td>0.0</td>\n",
              "      <td>0.0</td>\n",
              "      <td>1.0</td>\n",
              "      <td>0.0</td>\n",
              "      <td>0.0</td>\n",
              "      <td>0.0</td>\n",
              "      <td>0.0</td>\n",
              "      <td>1.0</td>\n",
              "    </tr>\n",
              "    <tr>\n",
              "      <th>1</th>\n",
              "      <td>1</td>\n",
              "      <td>2</td>\n",
              "      <td>0.0</td>\n",
              "      <td>0.0</td>\n",
              "      <td>0.0</td>\n",
              "      <td>0.0</td>\n",
              "      <td>0.0</td>\n",
              "      <td>0.0</td>\n",
              "      <td>0.0</td>\n",
              "      <td>0.0</td>\n",
              "      <td>0.0</td>\n",
              "      <td>0.0</td>\n",
              "      <td>0.0</td>\n",
              "      <td>0.0</td>\n",
              "      <td>0.0</td>\n",
              "    </tr>\n",
              "    <tr>\n",
              "      <th>2</th>\n",
              "      <td>1</td>\n",
              "      <td>3</td>\n",
              "      <td>0.0</td>\n",
              "      <td>0.0</td>\n",
              "      <td>0.0</td>\n",
              "      <td>0.0</td>\n",
              "      <td>0.0</td>\n",
              "      <td>0.0</td>\n",
              "      <td>0.0</td>\n",
              "      <td>0.0</td>\n",
              "      <td>0.0</td>\n",
              "      <td>0.0</td>\n",
              "      <td>0.0</td>\n",
              "      <td>0.0</td>\n",
              "      <td>0.0</td>\n",
              "    </tr>\n",
              "    <tr>\n",
              "      <th>3</th>\n",
              "      <td>1</td>\n",
              "      <td>6</td>\n",
              "      <td>1.0</td>\n",
              "      <td>1.0</td>\n",
              "      <td>1.0</td>\n",
              "      <td>0.0</td>\n",
              "      <td>1.0</td>\n",
              "      <td>0.0</td>\n",
              "      <td>0.0</td>\n",
              "      <td>1.0</td>\n",
              "      <td>1.0</td>\n",
              "      <td>1.0</td>\n",
              "      <td>1.0</td>\n",
              "      <td>1.0</td>\n",
              "      <td>9.0</td>\n",
              "    </tr>\n",
              "    <tr>\n",
              "      <th>4</th>\n",
              "      <td>1</td>\n",
              "      <td>7</td>\n",
              "      <td>0.0</td>\n",
              "      <td>0.0</td>\n",
              "      <td>0.0</td>\n",
              "      <td>0.0</td>\n",
              "      <td>0.0</td>\n",
              "      <td>0.0</td>\n",
              "      <td>0.0</td>\n",
              "      <td>1.0</td>\n",
              "      <td>0.0</td>\n",
              "      <td>0.0</td>\n",
              "      <td>0.0</td>\n",
              "      <td>0.0</td>\n",
              "      <td>1.0</td>\n",
              "    </tr>\n",
              "  </tbody>\n",
              "</table>\n",
              "</div>"
            ],
            "text/plain": [
              "   cod_ies  cod_curso  ...  recursos_informatica  recursos_totais\n",
              "0        1          1  ...                   0.0              1.0\n",
              "1        1          2  ...                   0.0              0.0\n",
              "2        1          3  ...                   0.0              0.0\n",
              "3        1          6  ...                   1.0              9.0\n",
              "4        1          7  ...                   0.0              1.0\n",
              "\n",
              "[5 rows x 15 columns]"
            ]
          },
          "metadata": {},
          "execution_count": 12
        }
      ]
    },
    {
      "cell_type": "code",
      "metadata": {
        "colab": {
          "base_uri": "https://localhost:8080/",
          "height": 238
        },
        "id": "_UFUAnpRMGhP",
        "outputId": "4f6f541b-138d-45cd-931a-4805dd1ea3c8"
      },
      "source": [
        "#Contando a quantidade de curso por IES\n",
        "ies_cursos = ies_recursos.groupby('cod_ies')[['cod_curso']].count()\n",
        "ies_cursos.head()"
      ],
      "execution_count": 13,
      "outputs": [
        {
          "output_type": "execute_result",
          "data": {
            "text/html": [
              "<div>\n",
              "<style scoped>\n",
              "    .dataframe tbody tr th:only-of-type {\n",
              "        vertical-align: middle;\n",
              "    }\n",
              "\n",
              "    .dataframe tbody tr th {\n",
              "        vertical-align: top;\n",
              "    }\n",
              "\n",
              "    .dataframe thead th {\n",
              "        text-align: right;\n",
              "    }\n",
              "</style>\n",
              "<table border=\"1\" class=\"dataframe\">\n",
              "  <thead>\n",
              "    <tr style=\"text-align: right;\">\n",
              "      <th></th>\n",
              "      <th>cod_curso</th>\n",
              "    </tr>\n",
              "    <tr>\n",
              "      <th>cod_ies</th>\n",
              "      <th></th>\n",
              "    </tr>\n",
              "  </thead>\n",
              "  <tbody>\n",
              "    <tr>\n",
              "      <th>1</th>\n",
              "      <td>114</td>\n",
              "    </tr>\n",
              "    <tr>\n",
              "      <th>2</th>\n",
              "      <td>149</td>\n",
              "    </tr>\n",
              "    <tr>\n",
              "      <th>3</th>\n",
              "      <td>116</td>\n",
              "    </tr>\n",
              "    <tr>\n",
              "      <th>4</th>\n",
              "      <td>107</td>\n",
              "    </tr>\n",
              "    <tr>\n",
              "      <th>5</th>\n",
              "      <td>100</td>\n",
              "    </tr>\n",
              "  </tbody>\n",
              "</table>\n",
              "</div>"
            ],
            "text/plain": [
              "         cod_curso\n",
              "cod_ies           \n",
              "1              114\n",
              "2              149\n",
              "3              116\n",
              "4              107\n",
              "5              100"
            ]
          },
          "metadata": {},
          "execution_count": 13
        }
      ]
    },
    {
      "cell_type": "code",
      "metadata": {
        "colab": {
          "base_uri": "https://localhost:8080/",
          "height": 206
        },
        "id": "DgvJPjgXM1rv",
        "outputId": "3e5de935-a524-4779-ec88-2c28ba8a9b3e"
      },
      "source": [
        "#Transformando num dataframe\n",
        "ies_cursos = pd.DataFrame(ies_cursos,columns=['cod_curso'])\n",
        "ies_cursos['cod_ies'] = ies_cursos.index\n",
        "ies_cursos.index = range(len(ies_cursos))\n",
        "ies_cursos.head()"
      ],
      "execution_count": 14,
      "outputs": [
        {
          "output_type": "execute_result",
          "data": {
            "text/html": [
              "<div>\n",
              "<style scoped>\n",
              "    .dataframe tbody tr th:only-of-type {\n",
              "        vertical-align: middle;\n",
              "    }\n",
              "\n",
              "    .dataframe tbody tr th {\n",
              "        vertical-align: top;\n",
              "    }\n",
              "\n",
              "    .dataframe thead th {\n",
              "        text-align: right;\n",
              "    }\n",
              "</style>\n",
              "<table border=\"1\" class=\"dataframe\">\n",
              "  <thead>\n",
              "    <tr style=\"text-align: right;\">\n",
              "      <th></th>\n",
              "      <th>cod_curso</th>\n",
              "      <th>cod_ies</th>\n",
              "    </tr>\n",
              "  </thead>\n",
              "  <tbody>\n",
              "    <tr>\n",
              "      <th>0</th>\n",
              "      <td>114</td>\n",
              "      <td>1</td>\n",
              "    </tr>\n",
              "    <tr>\n",
              "      <th>1</th>\n",
              "      <td>149</td>\n",
              "      <td>2</td>\n",
              "    </tr>\n",
              "    <tr>\n",
              "      <th>2</th>\n",
              "      <td>116</td>\n",
              "      <td>3</td>\n",
              "    </tr>\n",
              "    <tr>\n",
              "      <th>3</th>\n",
              "      <td>107</td>\n",
              "      <td>4</td>\n",
              "    </tr>\n",
              "    <tr>\n",
              "      <th>4</th>\n",
              "      <td>100</td>\n",
              "      <td>5</td>\n",
              "    </tr>\n",
              "  </tbody>\n",
              "</table>\n",
              "</div>"
            ],
            "text/plain": [
              "   cod_curso  cod_ies\n",
              "0        114        1\n",
              "1        149        2\n",
              "2        116        3\n",
              "3        107        4\n",
              "4        100        5"
            ]
          },
          "metadata": {},
          "execution_count": 14
        }
      ]
    },
    {
      "cell_type": "code",
      "metadata": {
        "colab": {
          "base_uri": "https://localhost:8080/",
          "height": 206
        },
        "id": "XW6jjN_vNPTI",
        "outputId": "96f8d12f-deab-467a-b417-3d63f9907a64"
      },
      "source": [
        "ies_cursos = ies_cursos.rename(columns={\n",
        "    'cod_curso':'num_curso',\n",
        "    })\n",
        "ies_cursos.head(5)"
      ],
      "execution_count": 15,
      "outputs": [
        {
          "output_type": "execute_result",
          "data": {
            "text/html": [
              "<div>\n",
              "<style scoped>\n",
              "    .dataframe tbody tr th:only-of-type {\n",
              "        vertical-align: middle;\n",
              "    }\n",
              "\n",
              "    .dataframe tbody tr th {\n",
              "        vertical-align: top;\n",
              "    }\n",
              "\n",
              "    .dataframe thead th {\n",
              "        text-align: right;\n",
              "    }\n",
              "</style>\n",
              "<table border=\"1\" class=\"dataframe\">\n",
              "  <thead>\n",
              "    <tr style=\"text-align: right;\">\n",
              "      <th></th>\n",
              "      <th>num_curso</th>\n",
              "      <th>cod_ies</th>\n",
              "    </tr>\n",
              "  </thead>\n",
              "  <tbody>\n",
              "    <tr>\n",
              "      <th>0</th>\n",
              "      <td>114</td>\n",
              "      <td>1</td>\n",
              "    </tr>\n",
              "    <tr>\n",
              "      <th>1</th>\n",
              "      <td>149</td>\n",
              "      <td>2</td>\n",
              "    </tr>\n",
              "    <tr>\n",
              "      <th>2</th>\n",
              "      <td>116</td>\n",
              "      <td>3</td>\n",
              "    </tr>\n",
              "    <tr>\n",
              "      <th>3</th>\n",
              "      <td>107</td>\n",
              "      <td>4</td>\n",
              "    </tr>\n",
              "    <tr>\n",
              "      <th>4</th>\n",
              "      <td>100</td>\n",
              "      <td>5</td>\n",
              "    </tr>\n",
              "  </tbody>\n",
              "</table>\n",
              "</div>"
            ],
            "text/plain": [
              "   num_curso  cod_ies\n",
              "0        114        1\n",
              "1        149        2\n",
              "2        116        3\n",
              "3        107        4\n",
              "4        100        5"
            ]
          },
          "metadata": {},
          "execution_count": 15
        }
      ]
    },
    {
      "cell_type": "code",
      "metadata": {
        "colab": {
          "base_uri": "https://localhost:8080/",
          "height": 163
        },
        "id": "4XZkFg5VwGVv",
        "outputId": "703f3806-9191-4671-a56a-f153495def5d"
      },
      "source": [
        "ies_recursos = ies_recursos.drop(columns='cod_curso')\n",
        "ies_recursos.head(3)"
      ],
      "execution_count": 16,
      "outputs": [
        {
          "output_type": "execute_result",
          "data": {
            "text/html": [
              "<div>\n",
              "<style scoped>\n",
              "    .dataframe tbody tr th:only-of-type {\n",
              "        vertical-align: middle;\n",
              "    }\n",
              "\n",
              "    .dataframe tbody tr th {\n",
              "        vertical-align: top;\n",
              "    }\n",
              "\n",
              "    .dataframe thead th {\n",
              "        text-align: right;\n",
              "    }\n",
              "</style>\n",
              "<table border=\"1\" class=\"dataframe\">\n",
              "  <thead>\n",
              "    <tr style=\"text-align: right;\">\n",
              "      <th></th>\n",
              "      <th>cod_ies</th>\n",
              "      <th>material_digital</th>\n",
              "      <th>material_ampliado</th>\n",
              "      <th>material_tatil</th>\n",
              "      <th>material_impresso</th>\n",
              "      <th>material_audio</th>\n",
              "      <th>material_braille</th>\n",
              "      <th>material_libras</th>\n",
              "      <th>disciplina_libras</th>\n",
              "      <th>tradutor_libras</th>\n",
              "      <th>guia_interprete</th>\n",
              "      <th>recursos_comunicacao</th>\n",
              "      <th>recursos_informatica</th>\n",
              "      <th>recursos_totais</th>\n",
              "    </tr>\n",
              "  </thead>\n",
              "  <tbody>\n",
              "    <tr>\n",
              "      <th>0</th>\n",
              "      <td>1</td>\n",
              "      <td>0.0</td>\n",
              "      <td>0.0</td>\n",
              "      <td>0.0</td>\n",
              "      <td>0.0</td>\n",
              "      <td>0.0</td>\n",
              "      <td>0.0</td>\n",
              "      <td>0.0</td>\n",
              "      <td>1.0</td>\n",
              "      <td>0.0</td>\n",
              "      <td>0.0</td>\n",
              "      <td>0.0</td>\n",
              "      <td>0.0</td>\n",
              "      <td>1.0</td>\n",
              "    </tr>\n",
              "    <tr>\n",
              "      <th>1</th>\n",
              "      <td>1</td>\n",
              "      <td>0.0</td>\n",
              "      <td>0.0</td>\n",
              "      <td>0.0</td>\n",
              "      <td>0.0</td>\n",
              "      <td>0.0</td>\n",
              "      <td>0.0</td>\n",
              "      <td>0.0</td>\n",
              "      <td>0.0</td>\n",
              "      <td>0.0</td>\n",
              "      <td>0.0</td>\n",
              "      <td>0.0</td>\n",
              "      <td>0.0</td>\n",
              "      <td>0.0</td>\n",
              "    </tr>\n",
              "    <tr>\n",
              "      <th>2</th>\n",
              "      <td>1</td>\n",
              "      <td>0.0</td>\n",
              "      <td>0.0</td>\n",
              "      <td>0.0</td>\n",
              "      <td>0.0</td>\n",
              "      <td>0.0</td>\n",
              "      <td>0.0</td>\n",
              "      <td>0.0</td>\n",
              "      <td>0.0</td>\n",
              "      <td>0.0</td>\n",
              "      <td>0.0</td>\n",
              "      <td>0.0</td>\n",
              "      <td>0.0</td>\n",
              "      <td>0.0</td>\n",
              "    </tr>\n",
              "  </tbody>\n",
              "</table>\n",
              "</div>"
            ],
            "text/plain": [
              "   cod_ies  material_digital  ...  recursos_informatica  recursos_totais\n",
              "0        1               0.0  ...                   0.0              1.0\n",
              "1        1               0.0  ...                   0.0              0.0\n",
              "2        1               0.0  ...                   0.0              0.0\n",
              "\n",
              "[3 rows x 14 columns]"
            ]
          },
          "metadata": {},
          "execution_count": 16
        }
      ]
    },
    {
      "cell_type": "code",
      "metadata": {
        "colab": {
          "base_uri": "https://localhost:8080/",
          "height": 258
        },
        "id": "F-_Ds9MtMekf",
        "outputId": "0c7fe305-93ad-46d2-dbd5-4084811d4e1d"
      },
      "source": [
        "ies_recursos = ies_recursos.groupby('cod_ies').sum()\n",
        "ies_recursos.head()"
      ],
      "execution_count": 17,
      "outputs": [
        {
          "output_type": "execute_result",
          "data": {
            "text/html": [
              "<div>\n",
              "<style scoped>\n",
              "    .dataframe tbody tr th:only-of-type {\n",
              "        vertical-align: middle;\n",
              "    }\n",
              "\n",
              "    .dataframe tbody tr th {\n",
              "        vertical-align: top;\n",
              "    }\n",
              "\n",
              "    .dataframe thead th {\n",
              "        text-align: right;\n",
              "    }\n",
              "</style>\n",
              "<table border=\"1\" class=\"dataframe\">\n",
              "  <thead>\n",
              "    <tr style=\"text-align: right;\">\n",
              "      <th></th>\n",
              "      <th>material_digital</th>\n",
              "      <th>material_ampliado</th>\n",
              "      <th>material_tatil</th>\n",
              "      <th>material_impresso</th>\n",
              "      <th>material_audio</th>\n",
              "      <th>material_braille</th>\n",
              "      <th>material_libras</th>\n",
              "      <th>disciplina_libras</th>\n",
              "      <th>tradutor_libras</th>\n",
              "      <th>guia_interprete</th>\n",
              "      <th>recursos_comunicacao</th>\n",
              "      <th>recursos_informatica</th>\n",
              "      <th>recursos_totais</th>\n",
              "    </tr>\n",
              "    <tr>\n",
              "      <th>cod_ies</th>\n",
              "      <th></th>\n",
              "      <th></th>\n",
              "      <th></th>\n",
              "      <th></th>\n",
              "      <th></th>\n",
              "      <th></th>\n",
              "      <th></th>\n",
              "      <th></th>\n",
              "      <th></th>\n",
              "      <th></th>\n",
              "      <th></th>\n",
              "      <th></th>\n",
              "      <th></th>\n",
              "    </tr>\n",
              "  </thead>\n",
              "  <tbody>\n",
              "    <tr>\n",
              "      <th>1</th>\n",
              "      <td>11.0</td>\n",
              "      <td>13.0</td>\n",
              "      <td>3.0</td>\n",
              "      <td>9.0</td>\n",
              "      <td>5.0</td>\n",
              "      <td>3.0</td>\n",
              "      <td>5.0</td>\n",
              "      <td>66.0</td>\n",
              "      <td>26.0</td>\n",
              "      <td>11.0</td>\n",
              "      <td>7.0</td>\n",
              "      <td>5.0</td>\n",
              "      <td>164.0</td>\n",
              "    </tr>\n",
              "    <tr>\n",
              "      <th>2</th>\n",
              "      <td>149.0</td>\n",
              "      <td>148.0</td>\n",
              "      <td>149.0</td>\n",
              "      <td>149.0</td>\n",
              "      <td>148.0</td>\n",
              "      <td>149.0</td>\n",
              "      <td>149.0</td>\n",
              "      <td>149.0</td>\n",
              "      <td>149.0</td>\n",
              "      <td>149.0</td>\n",
              "      <td>148.0</td>\n",
              "      <td>149.0</td>\n",
              "      <td>1785.0</td>\n",
              "    </tr>\n",
              "    <tr>\n",
              "      <th>3</th>\n",
              "      <td>20.0</td>\n",
              "      <td>15.0</td>\n",
              "      <td>16.0</td>\n",
              "      <td>21.0</td>\n",
              "      <td>14.0</td>\n",
              "      <td>20.0</td>\n",
              "      <td>23.0</td>\n",
              "      <td>91.0</td>\n",
              "      <td>41.0</td>\n",
              "      <td>31.0</td>\n",
              "      <td>11.0</td>\n",
              "      <td>24.0</td>\n",
              "      <td>327.0</td>\n",
              "    </tr>\n",
              "    <tr>\n",
              "      <th>4</th>\n",
              "      <td>0.0</td>\n",
              "      <td>0.0</td>\n",
              "      <td>0.0</td>\n",
              "      <td>0.0</td>\n",
              "      <td>0.0</td>\n",
              "      <td>0.0</td>\n",
              "      <td>0.0</td>\n",
              "      <td>105.0</td>\n",
              "      <td>0.0</td>\n",
              "      <td>0.0</td>\n",
              "      <td>0.0</td>\n",
              "      <td>0.0</td>\n",
              "      <td>105.0</td>\n",
              "    </tr>\n",
              "    <tr>\n",
              "      <th>5</th>\n",
              "      <td>0.0</td>\n",
              "      <td>99.0</td>\n",
              "      <td>100.0</td>\n",
              "      <td>99.0</td>\n",
              "      <td>1.0</td>\n",
              "      <td>100.0</td>\n",
              "      <td>99.0</td>\n",
              "      <td>99.0</td>\n",
              "      <td>100.0</td>\n",
              "      <td>99.0</td>\n",
              "      <td>99.0</td>\n",
              "      <td>99.0</td>\n",
              "      <td>994.0</td>\n",
              "    </tr>\n",
              "  </tbody>\n",
              "</table>\n",
              "</div>"
            ],
            "text/plain": [
              "         material_digital  ...  recursos_totais\n",
              "cod_ies                    ...                 \n",
              "1                    11.0  ...            164.0\n",
              "2                   149.0  ...           1785.0\n",
              "3                    20.0  ...            327.0\n",
              "4                     0.0  ...            105.0\n",
              "5                     0.0  ...            994.0\n",
              "\n",
              "[5 rows x 13 columns]"
            ]
          },
          "metadata": {},
          "execution_count": 17
        }
      ]
    },
    {
      "cell_type": "code",
      "metadata": {
        "colab": {
          "base_uri": "https://localhost:8080/",
          "height": 226
        },
        "id": "9vXSVbscRf2x",
        "outputId": "7d295189-da2f-4ff7-b8f9-aba34a25bb9b"
      },
      "source": [
        "ies_recursos = pd.merge(ies_recursos, ies_cursos, how='inner', on='cod_ies')\n",
        "ies_recursos.head()"
      ],
      "execution_count": 18,
      "outputs": [
        {
          "output_type": "execute_result",
          "data": {
            "text/html": [
              "<div>\n",
              "<style scoped>\n",
              "    .dataframe tbody tr th:only-of-type {\n",
              "        vertical-align: middle;\n",
              "    }\n",
              "\n",
              "    .dataframe tbody tr th {\n",
              "        vertical-align: top;\n",
              "    }\n",
              "\n",
              "    .dataframe thead th {\n",
              "        text-align: right;\n",
              "    }\n",
              "</style>\n",
              "<table border=\"1\" class=\"dataframe\">\n",
              "  <thead>\n",
              "    <tr style=\"text-align: right;\">\n",
              "      <th></th>\n",
              "      <th>cod_ies</th>\n",
              "      <th>material_digital</th>\n",
              "      <th>material_ampliado</th>\n",
              "      <th>material_tatil</th>\n",
              "      <th>material_impresso</th>\n",
              "      <th>material_audio</th>\n",
              "      <th>material_braille</th>\n",
              "      <th>material_libras</th>\n",
              "      <th>disciplina_libras</th>\n",
              "      <th>tradutor_libras</th>\n",
              "      <th>guia_interprete</th>\n",
              "      <th>recursos_comunicacao</th>\n",
              "      <th>recursos_informatica</th>\n",
              "      <th>recursos_totais</th>\n",
              "      <th>num_curso</th>\n",
              "    </tr>\n",
              "  </thead>\n",
              "  <tbody>\n",
              "    <tr>\n",
              "      <th>0</th>\n",
              "      <td>1</td>\n",
              "      <td>11.0</td>\n",
              "      <td>13.0</td>\n",
              "      <td>3.0</td>\n",
              "      <td>9.0</td>\n",
              "      <td>5.0</td>\n",
              "      <td>3.0</td>\n",
              "      <td>5.0</td>\n",
              "      <td>66.0</td>\n",
              "      <td>26.0</td>\n",
              "      <td>11.0</td>\n",
              "      <td>7.0</td>\n",
              "      <td>5.0</td>\n",
              "      <td>164.0</td>\n",
              "      <td>114</td>\n",
              "    </tr>\n",
              "    <tr>\n",
              "      <th>1</th>\n",
              "      <td>2</td>\n",
              "      <td>149.0</td>\n",
              "      <td>148.0</td>\n",
              "      <td>149.0</td>\n",
              "      <td>149.0</td>\n",
              "      <td>148.0</td>\n",
              "      <td>149.0</td>\n",
              "      <td>149.0</td>\n",
              "      <td>149.0</td>\n",
              "      <td>149.0</td>\n",
              "      <td>149.0</td>\n",
              "      <td>148.0</td>\n",
              "      <td>149.0</td>\n",
              "      <td>1785.0</td>\n",
              "      <td>149</td>\n",
              "    </tr>\n",
              "    <tr>\n",
              "      <th>2</th>\n",
              "      <td>3</td>\n",
              "      <td>20.0</td>\n",
              "      <td>15.0</td>\n",
              "      <td>16.0</td>\n",
              "      <td>21.0</td>\n",
              "      <td>14.0</td>\n",
              "      <td>20.0</td>\n",
              "      <td>23.0</td>\n",
              "      <td>91.0</td>\n",
              "      <td>41.0</td>\n",
              "      <td>31.0</td>\n",
              "      <td>11.0</td>\n",
              "      <td>24.0</td>\n",
              "      <td>327.0</td>\n",
              "      <td>116</td>\n",
              "    </tr>\n",
              "    <tr>\n",
              "      <th>3</th>\n",
              "      <td>4</td>\n",
              "      <td>0.0</td>\n",
              "      <td>0.0</td>\n",
              "      <td>0.0</td>\n",
              "      <td>0.0</td>\n",
              "      <td>0.0</td>\n",
              "      <td>0.0</td>\n",
              "      <td>0.0</td>\n",
              "      <td>105.0</td>\n",
              "      <td>0.0</td>\n",
              "      <td>0.0</td>\n",
              "      <td>0.0</td>\n",
              "      <td>0.0</td>\n",
              "      <td>105.0</td>\n",
              "      <td>107</td>\n",
              "    </tr>\n",
              "    <tr>\n",
              "      <th>4</th>\n",
              "      <td>5</td>\n",
              "      <td>0.0</td>\n",
              "      <td>99.0</td>\n",
              "      <td>100.0</td>\n",
              "      <td>99.0</td>\n",
              "      <td>1.0</td>\n",
              "      <td>100.0</td>\n",
              "      <td>99.0</td>\n",
              "      <td>99.0</td>\n",
              "      <td>100.0</td>\n",
              "      <td>99.0</td>\n",
              "      <td>99.0</td>\n",
              "      <td>99.0</td>\n",
              "      <td>994.0</td>\n",
              "      <td>100</td>\n",
              "    </tr>\n",
              "  </tbody>\n",
              "</table>\n",
              "</div>"
            ],
            "text/plain": [
              "   cod_ies  material_digital  ...  recursos_totais  num_curso\n",
              "0        1              11.0  ...            164.0        114\n",
              "1        2             149.0  ...           1785.0        149\n",
              "2        3              20.0  ...            327.0        116\n",
              "3        4               0.0  ...            105.0        107\n",
              "4        5               0.0  ...            994.0        100\n",
              "\n",
              "[5 rows x 15 columns]"
            ]
          },
          "metadata": {},
          "execution_count": 18
        }
      ]
    },
    {
      "cell_type": "code",
      "metadata": {
        "colab": {
          "base_uri": "https://localhost:8080/",
          "height": 226
        },
        "id": "RKSus8WGQYr8",
        "outputId": "f0130bd0-1c87-4559-c46f-2ddd3c421875"
      },
      "source": [
        "ies_recursos['num_recursos_medio'] = ies_recursos['recursos_totais'] / ies_recursos['num_curso']\n",
        "ies_recursos = ies_recursos.reset_index()\n",
        "ies_recursos.head()"
      ],
      "execution_count": 19,
      "outputs": [
        {
          "output_type": "execute_result",
          "data": {
            "text/html": [
              "<div>\n",
              "<style scoped>\n",
              "    .dataframe tbody tr th:only-of-type {\n",
              "        vertical-align: middle;\n",
              "    }\n",
              "\n",
              "    .dataframe tbody tr th {\n",
              "        vertical-align: top;\n",
              "    }\n",
              "\n",
              "    .dataframe thead th {\n",
              "        text-align: right;\n",
              "    }\n",
              "</style>\n",
              "<table border=\"1\" class=\"dataframe\">\n",
              "  <thead>\n",
              "    <tr style=\"text-align: right;\">\n",
              "      <th></th>\n",
              "      <th>index</th>\n",
              "      <th>cod_ies</th>\n",
              "      <th>material_digital</th>\n",
              "      <th>material_ampliado</th>\n",
              "      <th>material_tatil</th>\n",
              "      <th>material_impresso</th>\n",
              "      <th>material_audio</th>\n",
              "      <th>material_braille</th>\n",
              "      <th>material_libras</th>\n",
              "      <th>disciplina_libras</th>\n",
              "      <th>tradutor_libras</th>\n",
              "      <th>guia_interprete</th>\n",
              "      <th>recursos_comunicacao</th>\n",
              "      <th>recursos_informatica</th>\n",
              "      <th>recursos_totais</th>\n",
              "      <th>num_curso</th>\n",
              "      <th>num_recursos_medio</th>\n",
              "    </tr>\n",
              "  </thead>\n",
              "  <tbody>\n",
              "    <tr>\n",
              "      <th>0</th>\n",
              "      <td>0</td>\n",
              "      <td>1</td>\n",
              "      <td>11.0</td>\n",
              "      <td>13.0</td>\n",
              "      <td>3.0</td>\n",
              "      <td>9.0</td>\n",
              "      <td>5.0</td>\n",
              "      <td>3.0</td>\n",
              "      <td>5.0</td>\n",
              "      <td>66.0</td>\n",
              "      <td>26.0</td>\n",
              "      <td>11.0</td>\n",
              "      <td>7.0</td>\n",
              "      <td>5.0</td>\n",
              "      <td>164.0</td>\n",
              "      <td>114</td>\n",
              "      <td>1.438596</td>\n",
              "    </tr>\n",
              "    <tr>\n",
              "      <th>1</th>\n",
              "      <td>1</td>\n",
              "      <td>2</td>\n",
              "      <td>149.0</td>\n",
              "      <td>148.0</td>\n",
              "      <td>149.0</td>\n",
              "      <td>149.0</td>\n",
              "      <td>148.0</td>\n",
              "      <td>149.0</td>\n",
              "      <td>149.0</td>\n",
              "      <td>149.0</td>\n",
              "      <td>149.0</td>\n",
              "      <td>149.0</td>\n",
              "      <td>148.0</td>\n",
              "      <td>149.0</td>\n",
              "      <td>1785.0</td>\n",
              "      <td>149</td>\n",
              "      <td>11.979866</td>\n",
              "    </tr>\n",
              "    <tr>\n",
              "      <th>2</th>\n",
              "      <td>2</td>\n",
              "      <td>3</td>\n",
              "      <td>20.0</td>\n",
              "      <td>15.0</td>\n",
              "      <td>16.0</td>\n",
              "      <td>21.0</td>\n",
              "      <td>14.0</td>\n",
              "      <td>20.0</td>\n",
              "      <td>23.0</td>\n",
              "      <td>91.0</td>\n",
              "      <td>41.0</td>\n",
              "      <td>31.0</td>\n",
              "      <td>11.0</td>\n",
              "      <td>24.0</td>\n",
              "      <td>327.0</td>\n",
              "      <td>116</td>\n",
              "      <td>2.818966</td>\n",
              "    </tr>\n",
              "    <tr>\n",
              "      <th>3</th>\n",
              "      <td>3</td>\n",
              "      <td>4</td>\n",
              "      <td>0.0</td>\n",
              "      <td>0.0</td>\n",
              "      <td>0.0</td>\n",
              "      <td>0.0</td>\n",
              "      <td>0.0</td>\n",
              "      <td>0.0</td>\n",
              "      <td>0.0</td>\n",
              "      <td>105.0</td>\n",
              "      <td>0.0</td>\n",
              "      <td>0.0</td>\n",
              "      <td>0.0</td>\n",
              "      <td>0.0</td>\n",
              "      <td>105.0</td>\n",
              "      <td>107</td>\n",
              "      <td>0.981308</td>\n",
              "    </tr>\n",
              "    <tr>\n",
              "      <th>4</th>\n",
              "      <td>4</td>\n",
              "      <td>5</td>\n",
              "      <td>0.0</td>\n",
              "      <td>99.0</td>\n",
              "      <td>100.0</td>\n",
              "      <td>99.0</td>\n",
              "      <td>1.0</td>\n",
              "      <td>100.0</td>\n",
              "      <td>99.0</td>\n",
              "      <td>99.0</td>\n",
              "      <td>100.0</td>\n",
              "      <td>99.0</td>\n",
              "      <td>99.0</td>\n",
              "      <td>99.0</td>\n",
              "      <td>994.0</td>\n",
              "      <td>100</td>\n",
              "      <td>9.940000</td>\n",
              "    </tr>\n",
              "  </tbody>\n",
              "</table>\n",
              "</div>"
            ],
            "text/plain": [
              "   index  cod_ies  ...  num_curso  num_recursos_medio\n",
              "0      0        1  ...        114            1.438596\n",
              "1      1        2  ...        149           11.979866\n",
              "2      2        3  ...        116            2.818966\n",
              "3      3        4  ...        107            0.981308\n",
              "4      4        5  ...        100            9.940000\n",
              "\n",
              "[5 rows x 17 columns]"
            ]
          },
          "metadata": {},
          "execution_count": 19
        }
      ]
    },
    {
      "cell_type": "code",
      "metadata": {
        "id": "kuAKiNquNna7",
        "colab": {
          "base_uri": "https://localhost:8080/",
          "height": 206
        },
        "outputId": "99daf06a-e853-476a-e6c9-4af648bb5249"
      },
      "source": [
        "ies_recursos = ies_recursos[['cod_ies','num_recursos_medio','num_curso']]\n",
        "ies_recursos.head()"
      ],
      "execution_count": 20,
      "outputs": [
        {
          "output_type": "execute_result",
          "data": {
            "text/html": [
              "<div>\n",
              "<style scoped>\n",
              "    .dataframe tbody tr th:only-of-type {\n",
              "        vertical-align: middle;\n",
              "    }\n",
              "\n",
              "    .dataframe tbody tr th {\n",
              "        vertical-align: top;\n",
              "    }\n",
              "\n",
              "    .dataframe thead th {\n",
              "        text-align: right;\n",
              "    }\n",
              "</style>\n",
              "<table border=\"1\" class=\"dataframe\">\n",
              "  <thead>\n",
              "    <tr style=\"text-align: right;\">\n",
              "      <th></th>\n",
              "      <th>cod_ies</th>\n",
              "      <th>num_recursos_medio</th>\n",
              "      <th>num_curso</th>\n",
              "    </tr>\n",
              "  </thead>\n",
              "  <tbody>\n",
              "    <tr>\n",
              "      <th>0</th>\n",
              "      <td>1</td>\n",
              "      <td>1.438596</td>\n",
              "      <td>114</td>\n",
              "    </tr>\n",
              "    <tr>\n",
              "      <th>1</th>\n",
              "      <td>2</td>\n",
              "      <td>11.979866</td>\n",
              "      <td>149</td>\n",
              "    </tr>\n",
              "    <tr>\n",
              "      <th>2</th>\n",
              "      <td>3</td>\n",
              "      <td>2.818966</td>\n",
              "      <td>116</td>\n",
              "    </tr>\n",
              "    <tr>\n",
              "      <th>3</th>\n",
              "      <td>4</td>\n",
              "      <td>0.981308</td>\n",
              "      <td>107</td>\n",
              "    </tr>\n",
              "    <tr>\n",
              "      <th>4</th>\n",
              "      <td>5</td>\n",
              "      <td>9.940000</td>\n",
              "      <td>100</td>\n",
              "    </tr>\n",
              "  </tbody>\n",
              "</table>\n",
              "</div>"
            ],
            "text/plain": [
              "   cod_ies  num_recursos_medio  num_curso\n",
              "0        1            1.438596        114\n",
              "1        2           11.979866        149\n",
              "2        3            2.818966        116\n",
              "3        4            0.981308        107\n",
              "4        5            9.940000        100"
            ]
          },
          "metadata": {},
          "execution_count": 20
        }
      ]
    },
    {
      "cell_type": "markdown",
      "metadata": {
        "id": "6EP7g40UZ2DN"
      },
      "source": [
        "### 1.4.Alunos com deficiência"
      ]
    },
    {
      "cell_type": "code",
      "metadata": {
        "colab": {
          "base_uri": "https://localhost:8080/",
          "height": 163
        },
        "id": "iumA0-ojJV-X",
        "outputId": "49cdf2cc-a952-418b-efeb-cb310f185d07"
      },
      "source": [
        "#Contando a quantidade de alunos com deficiência por IES\n",
        "ies_alunos = pd.read_csv('alunodeficiente_2019.csv', sep=',', encoding='latin1', usecols=['CO_IES','IN_DEFICIENCIA_AUDITIVA','IN_DEFICIENCIA_FISICA','IN_DEFICIENCIA_INTELECTUAL','IN_DEFICIENCIA_MULTIPLA','IN_DEFICIENCIA_SURDEZ','IN_DEFICIENCIA_SURDOCEGUEIRA','IN_DEFICIENCIA_BAIXA_VISAO','IN_DEFICIENCIA_CEGUEIRA','IN_DEFICIENCIA_SUPERDOTACAO','IN_TGD_AUTISMO','IN_TGD_SINDROME_ASPERGER','IN_TGD_SINDROME_RETT','IN_TGD_TRANSTOR_DESINTEGRATIVO'])\n",
        "ies_alunos.head(3)"
      ],
      "execution_count": 21,
      "outputs": [
        {
          "output_type": "execute_result",
          "data": {
            "text/html": [
              "<div>\n",
              "<style scoped>\n",
              "    .dataframe tbody tr th:only-of-type {\n",
              "        vertical-align: middle;\n",
              "    }\n",
              "\n",
              "    .dataframe tbody tr th {\n",
              "        vertical-align: top;\n",
              "    }\n",
              "\n",
              "    .dataframe thead th {\n",
              "        text-align: right;\n",
              "    }\n",
              "</style>\n",
              "<table border=\"1\" class=\"dataframe\">\n",
              "  <thead>\n",
              "    <tr style=\"text-align: right;\">\n",
              "      <th></th>\n",
              "      <th>CO_IES</th>\n",
              "      <th>IN_DEFICIENCIA_AUDITIVA</th>\n",
              "      <th>IN_DEFICIENCIA_FISICA</th>\n",
              "      <th>IN_DEFICIENCIA_INTELECTUAL</th>\n",
              "      <th>IN_DEFICIENCIA_MULTIPLA</th>\n",
              "      <th>IN_DEFICIENCIA_SURDEZ</th>\n",
              "      <th>IN_DEFICIENCIA_SURDOCEGUEIRA</th>\n",
              "      <th>IN_DEFICIENCIA_BAIXA_VISAO</th>\n",
              "      <th>IN_DEFICIENCIA_CEGUEIRA</th>\n",
              "      <th>IN_DEFICIENCIA_SUPERDOTACAO</th>\n",
              "      <th>IN_TGD_AUTISMO</th>\n",
              "      <th>IN_TGD_SINDROME_ASPERGER</th>\n",
              "      <th>IN_TGD_SINDROME_RETT</th>\n",
              "      <th>IN_TGD_TRANSTOR_DESINTEGRATIVO</th>\n",
              "    </tr>\n",
              "  </thead>\n",
              "  <tbody>\n",
              "    <tr>\n",
              "      <th>0</th>\n",
              "      <td>1</td>\n",
              "      <td>0.0</td>\n",
              "      <td>1.0</td>\n",
              "      <td>0.0</td>\n",
              "      <td>0.0</td>\n",
              "      <td>0.0</td>\n",
              "      <td>0.0</td>\n",
              "      <td>0.0</td>\n",
              "      <td>0.0</td>\n",
              "      <td>0.0</td>\n",
              "      <td>0.0</td>\n",
              "      <td>0.0</td>\n",
              "      <td>0.0</td>\n",
              "      <td>0.0</td>\n",
              "    </tr>\n",
              "    <tr>\n",
              "      <th>1</th>\n",
              "      <td>1</td>\n",
              "      <td>0.0</td>\n",
              "      <td>1.0</td>\n",
              "      <td>0.0</td>\n",
              "      <td>0.0</td>\n",
              "      <td>0.0</td>\n",
              "      <td>0.0</td>\n",
              "      <td>0.0</td>\n",
              "      <td>0.0</td>\n",
              "      <td>0.0</td>\n",
              "      <td>0.0</td>\n",
              "      <td>0.0</td>\n",
              "      <td>0.0</td>\n",
              "      <td>0.0</td>\n",
              "    </tr>\n",
              "    <tr>\n",
              "      <th>2</th>\n",
              "      <td>1</td>\n",
              "      <td>0.0</td>\n",
              "      <td>1.0</td>\n",
              "      <td>0.0</td>\n",
              "      <td>0.0</td>\n",
              "      <td>0.0</td>\n",
              "      <td>0.0</td>\n",
              "      <td>0.0</td>\n",
              "      <td>0.0</td>\n",
              "      <td>0.0</td>\n",
              "      <td>0.0</td>\n",
              "      <td>0.0</td>\n",
              "      <td>0.0</td>\n",
              "      <td>0.0</td>\n",
              "    </tr>\n",
              "  </tbody>\n",
              "</table>\n",
              "</div>"
            ],
            "text/plain": [
              "   CO_IES  ...  IN_TGD_TRANSTOR_DESINTEGRATIVO\n",
              "0       1  ...                             0.0\n",
              "1       1  ...                             0.0\n",
              "2       1  ...                             0.0\n",
              "\n",
              "[3 rows x 14 columns]"
            ]
          },
          "metadata": {},
          "execution_count": 21
        }
      ]
    },
    {
      "cell_type": "code",
      "metadata": {
        "colab": {
          "base_uri": "https://localhost:8080/",
          "height": 258
        },
        "id": "AKzZPd0cUfm7",
        "outputId": "3ca204a7-9fd2-468b-83c5-c91330e4e34c"
      },
      "source": [
        "#Contando a quantidade de curso por IES\n",
        "ies_alunos = ies_alunos.groupby('CO_IES').sum()\n",
        "ies_alunos.head()"
      ],
      "execution_count": 22,
      "outputs": [
        {
          "output_type": "execute_result",
          "data": {
            "text/html": [
              "<div>\n",
              "<style scoped>\n",
              "    .dataframe tbody tr th:only-of-type {\n",
              "        vertical-align: middle;\n",
              "    }\n",
              "\n",
              "    .dataframe tbody tr th {\n",
              "        vertical-align: top;\n",
              "    }\n",
              "\n",
              "    .dataframe thead th {\n",
              "        text-align: right;\n",
              "    }\n",
              "</style>\n",
              "<table border=\"1\" class=\"dataframe\">\n",
              "  <thead>\n",
              "    <tr style=\"text-align: right;\">\n",
              "      <th></th>\n",
              "      <th>IN_DEFICIENCIA_AUDITIVA</th>\n",
              "      <th>IN_DEFICIENCIA_FISICA</th>\n",
              "      <th>IN_DEFICIENCIA_INTELECTUAL</th>\n",
              "      <th>IN_DEFICIENCIA_MULTIPLA</th>\n",
              "      <th>IN_DEFICIENCIA_SURDEZ</th>\n",
              "      <th>IN_DEFICIENCIA_SURDOCEGUEIRA</th>\n",
              "      <th>IN_DEFICIENCIA_BAIXA_VISAO</th>\n",
              "      <th>IN_DEFICIENCIA_CEGUEIRA</th>\n",
              "      <th>IN_DEFICIENCIA_SUPERDOTACAO</th>\n",
              "      <th>IN_TGD_AUTISMO</th>\n",
              "      <th>IN_TGD_SINDROME_ASPERGER</th>\n",
              "      <th>IN_TGD_SINDROME_RETT</th>\n",
              "      <th>IN_TGD_TRANSTOR_DESINTEGRATIVO</th>\n",
              "    </tr>\n",
              "    <tr>\n",
              "      <th>CO_IES</th>\n",
              "      <th></th>\n",
              "      <th></th>\n",
              "      <th></th>\n",
              "      <th></th>\n",
              "      <th></th>\n",
              "      <th></th>\n",
              "      <th></th>\n",
              "      <th></th>\n",
              "      <th></th>\n",
              "      <th></th>\n",
              "      <th></th>\n",
              "      <th></th>\n",
              "      <th></th>\n",
              "    </tr>\n",
              "  </thead>\n",
              "  <tbody>\n",
              "    <tr>\n",
              "      <th>1</th>\n",
              "      <td>71.0</td>\n",
              "      <td>149.0</td>\n",
              "      <td>10.0</td>\n",
              "      <td>4.0</td>\n",
              "      <td>25.0</td>\n",
              "      <td>0.0</td>\n",
              "      <td>49.0</td>\n",
              "      <td>16.0</td>\n",
              "      <td>0.0</td>\n",
              "      <td>1.0</td>\n",
              "      <td>8.0</td>\n",
              "      <td>0.0</td>\n",
              "      <td>4.0</td>\n",
              "    </tr>\n",
              "    <tr>\n",
              "      <th>2</th>\n",
              "      <td>24.0</td>\n",
              "      <td>63.0</td>\n",
              "      <td>8.0</td>\n",
              "      <td>6.0</td>\n",
              "      <td>14.0</td>\n",
              "      <td>2.0</td>\n",
              "      <td>32.0</td>\n",
              "      <td>3.0</td>\n",
              "      <td>3.0</td>\n",
              "      <td>45.0</td>\n",
              "      <td>1.0</td>\n",
              "      <td>0.0</td>\n",
              "      <td>0.0</td>\n",
              "    </tr>\n",
              "    <tr>\n",
              "      <th>3</th>\n",
              "      <td>36.0</td>\n",
              "      <td>243.0</td>\n",
              "      <td>17.0</td>\n",
              "      <td>3.0</td>\n",
              "      <td>31.0</td>\n",
              "      <td>0.0</td>\n",
              "      <td>105.0</td>\n",
              "      <td>12.0</td>\n",
              "      <td>1.0</td>\n",
              "      <td>0.0</td>\n",
              "      <td>1.0</td>\n",
              "      <td>0.0</td>\n",
              "      <td>0.0</td>\n",
              "    </tr>\n",
              "    <tr>\n",
              "      <th>4</th>\n",
              "      <td>35.0</td>\n",
              "      <td>70.0</td>\n",
              "      <td>64.0</td>\n",
              "      <td>3.0</td>\n",
              "      <td>0.0</td>\n",
              "      <td>0.0</td>\n",
              "      <td>64.0</td>\n",
              "      <td>1.0</td>\n",
              "      <td>2.0</td>\n",
              "      <td>0.0</td>\n",
              "      <td>0.0</td>\n",
              "      <td>0.0</td>\n",
              "      <td>0.0</td>\n",
              "    </tr>\n",
              "    <tr>\n",
              "      <th>5</th>\n",
              "      <td>67.0</td>\n",
              "      <td>215.0</td>\n",
              "      <td>7.0</td>\n",
              "      <td>4.0</td>\n",
              "      <td>3.0</td>\n",
              "      <td>0.0</td>\n",
              "      <td>5.0</td>\n",
              "      <td>102.0</td>\n",
              "      <td>5.0</td>\n",
              "      <td>36.0</td>\n",
              "      <td>0.0</td>\n",
              "      <td>0.0</td>\n",
              "      <td>1.0</td>\n",
              "    </tr>\n",
              "  </tbody>\n",
              "</table>\n",
              "</div>"
            ],
            "text/plain": [
              "        IN_DEFICIENCIA_AUDITIVA  ...  IN_TGD_TRANSTOR_DESINTEGRATIVO\n",
              "CO_IES                           ...                                \n",
              "1                          71.0  ...                             4.0\n",
              "2                          24.0  ...                             0.0\n",
              "3                          36.0  ...                             0.0\n",
              "4                          35.0  ...                             0.0\n",
              "5                          67.0  ...                             1.0\n",
              "\n",
              "[5 rows x 13 columns]"
            ]
          },
          "metadata": {},
          "execution_count": 22
        }
      ]
    },
    {
      "cell_type": "code",
      "metadata": {
        "colab": {
          "base_uri": "https://localhost:8080/",
          "height": 226
        },
        "id": "QfNdREC5VMYe",
        "outputId": "78553222-b5b2-4595-e065-ba714c9c2856"
      },
      "source": [
        "ies_alunos['ALUNOS_DEFICIENCIA'] = ies_alunos['IN_DEFICIENCIA_AUDITIVA'] + ies_alunos['IN_DEFICIENCIA_FISICA'] + ies_alunos['IN_DEFICIENCIA_INTELECTUAL'] + ies_alunos['IN_DEFICIENCIA_MULTIPLA'] + ies_alunos['IN_DEFICIENCIA_SURDEZ'] + ies_alunos['IN_DEFICIENCIA_SURDOCEGUEIRA'] + ies_alunos['IN_DEFICIENCIA_BAIXA_VISAO'] + ies_alunos['IN_DEFICIENCIA_CEGUEIRA'] + ies_alunos['IN_DEFICIENCIA_SUPERDOTACAO'] + ies_alunos['IN_TGD_AUTISMO'] + ies_alunos['IN_TGD_SINDROME_ASPERGER'] + ies_alunos['IN_TGD_SINDROME_RETT'] + ies_alunos['IN_TGD_TRANSTOR_DESINTEGRATIVO']\n",
        "ies_alunos = ies_alunos.reset_index()\n",
        "ies_alunos.head()"
      ],
      "execution_count": 23,
      "outputs": [
        {
          "output_type": "execute_result",
          "data": {
            "text/html": [
              "<div>\n",
              "<style scoped>\n",
              "    .dataframe tbody tr th:only-of-type {\n",
              "        vertical-align: middle;\n",
              "    }\n",
              "\n",
              "    .dataframe tbody tr th {\n",
              "        vertical-align: top;\n",
              "    }\n",
              "\n",
              "    .dataframe thead th {\n",
              "        text-align: right;\n",
              "    }\n",
              "</style>\n",
              "<table border=\"1\" class=\"dataframe\">\n",
              "  <thead>\n",
              "    <tr style=\"text-align: right;\">\n",
              "      <th></th>\n",
              "      <th>CO_IES</th>\n",
              "      <th>IN_DEFICIENCIA_AUDITIVA</th>\n",
              "      <th>IN_DEFICIENCIA_FISICA</th>\n",
              "      <th>IN_DEFICIENCIA_INTELECTUAL</th>\n",
              "      <th>IN_DEFICIENCIA_MULTIPLA</th>\n",
              "      <th>IN_DEFICIENCIA_SURDEZ</th>\n",
              "      <th>IN_DEFICIENCIA_SURDOCEGUEIRA</th>\n",
              "      <th>IN_DEFICIENCIA_BAIXA_VISAO</th>\n",
              "      <th>IN_DEFICIENCIA_CEGUEIRA</th>\n",
              "      <th>IN_DEFICIENCIA_SUPERDOTACAO</th>\n",
              "      <th>IN_TGD_AUTISMO</th>\n",
              "      <th>IN_TGD_SINDROME_ASPERGER</th>\n",
              "      <th>IN_TGD_SINDROME_RETT</th>\n",
              "      <th>IN_TGD_TRANSTOR_DESINTEGRATIVO</th>\n",
              "      <th>ALUNOS_DEFICIENCIA</th>\n",
              "    </tr>\n",
              "  </thead>\n",
              "  <tbody>\n",
              "    <tr>\n",
              "      <th>0</th>\n",
              "      <td>1</td>\n",
              "      <td>71.0</td>\n",
              "      <td>149.0</td>\n",
              "      <td>10.0</td>\n",
              "      <td>4.0</td>\n",
              "      <td>25.0</td>\n",
              "      <td>0.0</td>\n",
              "      <td>49.0</td>\n",
              "      <td>16.0</td>\n",
              "      <td>0.0</td>\n",
              "      <td>1.0</td>\n",
              "      <td>8.0</td>\n",
              "      <td>0.0</td>\n",
              "      <td>4.0</td>\n",
              "      <td>337.0</td>\n",
              "    </tr>\n",
              "    <tr>\n",
              "      <th>1</th>\n",
              "      <td>2</td>\n",
              "      <td>24.0</td>\n",
              "      <td>63.0</td>\n",
              "      <td>8.0</td>\n",
              "      <td>6.0</td>\n",
              "      <td>14.0</td>\n",
              "      <td>2.0</td>\n",
              "      <td>32.0</td>\n",
              "      <td>3.0</td>\n",
              "      <td>3.0</td>\n",
              "      <td>45.0</td>\n",
              "      <td>1.0</td>\n",
              "      <td>0.0</td>\n",
              "      <td>0.0</td>\n",
              "      <td>201.0</td>\n",
              "    </tr>\n",
              "    <tr>\n",
              "      <th>2</th>\n",
              "      <td>3</td>\n",
              "      <td>36.0</td>\n",
              "      <td>243.0</td>\n",
              "      <td>17.0</td>\n",
              "      <td>3.0</td>\n",
              "      <td>31.0</td>\n",
              "      <td>0.0</td>\n",
              "      <td>105.0</td>\n",
              "      <td>12.0</td>\n",
              "      <td>1.0</td>\n",
              "      <td>0.0</td>\n",
              "      <td>1.0</td>\n",
              "      <td>0.0</td>\n",
              "      <td>0.0</td>\n",
              "      <td>449.0</td>\n",
              "    </tr>\n",
              "    <tr>\n",
              "      <th>3</th>\n",
              "      <td>4</td>\n",
              "      <td>35.0</td>\n",
              "      <td>70.0</td>\n",
              "      <td>64.0</td>\n",
              "      <td>3.0</td>\n",
              "      <td>0.0</td>\n",
              "      <td>0.0</td>\n",
              "      <td>64.0</td>\n",
              "      <td>1.0</td>\n",
              "      <td>2.0</td>\n",
              "      <td>0.0</td>\n",
              "      <td>0.0</td>\n",
              "      <td>0.0</td>\n",
              "      <td>0.0</td>\n",
              "      <td>239.0</td>\n",
              "    </tr>\n",
              "    <tr>\n",
              "      <th>4</th>\n",
              "      <td>5</td>\n",
              "      <td>67.0</td>\n",
              "      <td>215.0</td>\n",
              "      <td>7.0</td>\n",
              "      <td>4.0</td>\n",
              "      <td>3.0</td>\n",
              "      <td>0.0</td>\n",
              "      <td>5.0</td>\n",
              "      <td>102.0</td>\n",
              "      <td>5.0</td>\n",
              "      <td>36.0</td>\n",
              "      <td>0.0</td>\n",
              "      <td>0.0</td>\n",
              "      <td>1.0</td>\n",
              "      <td>445.0</td>\n",
              "    </tr>\n",
              "  </tbody>\n",
              "</table>\n",
              "</div>"
            ],
            "text/plain": [
              "   CO_IES  ...  ALUNOS_DEFICIENCIA\n",
              "0       1  ...               337.0\n",
              "1       2  ...               201.0\n",
              "2       3  ...               449.0\n",
              "3       4  ...               239.0\n",
              "4       5  ...               445.0\n",
              "\n",
              "[5 rows x 15 columns]"
            ]
          },
          "metadata": {},
          "execution_count": 23
        }
      ]
    },
    {
      "cell_type": "code",
      "metadata": {
        "colab": {
          "base_uri": "https://localhost:8080/",
          "height": 206
        },
        "id": "foiJE-XQVvtJ",
        "outputId": "0f876b4b-1370-4cad-fb91-9876b37ca788"
      },
      "source": [
        "ies_alunos = ies_alunos[['CO_IES','ALUNOS_DEFICIENCIA']]\n",
        "ies_alunos.head()"
      ],
      "execution_count": 24,
      "outputs": [
        {
          "output_type": "execute_result",
          "data": {
            "text/html": [
              "<div>\n",
              "<style scoped>\n",
              "    .dataframe tbody tr th:only-of-type {\n",
              "        vertical-align: middle;\n",
              "    }\n",
              "\n",
              "    .dataframe tbody tr th {\n",
              "        vertical-align: top;\n",
              "    }\n",
              "\n",
              "    .dataframe thead th {\n",
              "        text-align: right;\n",
              "    }\n",
              "</style>\n",
              "<table border=\"1\" class=\"dataframe\">\n",
              "  <thead>\n",
              "    <tr style=\"text-align: right;\">\n",
              "      <th></th>\n",
              "      <th>CO_IES</th>\n",
              "      <th>ALUNOS_DEFICIENCIA</th>\n",
              "    </tr>\n",
              "  </thead>\n",
              "  <tbody>\n",
              "    <tr>\n",
              "      <th>0</th>\n",
              "      <td>1</td>\n",
              "      <td>337.0</td>\n",
              "    </tr>\n",
              "    <tr>\n",
              "      <th>1</th>\n",
              "      <td>2</td>\n",
              "      <td>201.0</td>\n",
              "    </tr>\n",
              "    <tr>\n",
              "      <th>2</th>\n",
              "      <td>3</td>\n",
              "      <td>449.0</td>\n",
              "    </tr>\n",
              "    <tr>\n",
              "      <th>3</th>\n",
              "      <td>4</td>\n",
              "      <td>239.0</td>\n",
              "    </tr>\n",
              "    <tr>\n",
              "      <th>4</th>\n",
              "      <td>5</td>\n",
              "      <td>445.0</td>\n",
              "    </tr>\n",
              "  </tbody>\n",
              "</table>\n",
              "</div>"
            ],
            "text/plain": [
              "   CO_IES  ALUNOS_DEFICIENCIA\n",
              "0       1               337.0\n",
              "1       2               201.0\n",
              "2       3               449.0\n",
              "3       4               239.0\n",
              "4       5               445.0"
            ]
          },
          "metadata": {},
          "execution_count": 24
        }
      ]
    },
    {
      "cell_type": "code",
      "metadata": {
        "colab": {
          "base_uri": "https://localhost:8080/",
          "height": 206
        },
        "id": "c0HDi35HXd3t",
        "outputId": "6f3c687a-90b9-46cf-a1f3-2f77481720cc"
      },
      "source": [
        "#Renomeando as colunas\n",
        "ies_alunos = ies_alunos.rename(columns={\n",
        "    'CO_IES':'cod_ies',\n",
        "    'ALUNOS_DEFICIENCIA':'alunos_deficiencia',\n",
        "    })\n",
        "ies_alunos.head()"
      ],
      "execution_count": 25,
      "outputs": [
        {
          "output_type": "execute_result",
          "data": {
            "text/html": [
              "<div>\n",
              "<style scoped>\n",
              "    .dataframe tbody tr th:only-of-type {\n",
              "        vertical-align: middle;\n",
              "    }\n",
              "\n",
              "    .dataframe tbody tr th {\n",
              "        vertical-align: top;\n",
              "    }\n",
              "\n",
              "    .dataframe thead th {\n",
              "        text-align: right;\n",
              "    }\n",
              "</style>\n",
              "<table border=\"1\" class=\"dataframe\">\n",
              "  <thead>\n",
              "    <tr style=\"text-align: right;\">\n",
              "      <th></th>\n",
              "      <th>cod_ies</th>\n",
              "      <th>alunos_deficiencia</th>\n",
              "    </tr>\n",
              "  </thead>\n",
              "  <tbody>\n",
              "    <tr>\n",
              "      <th>0</th>\n",
              "      <td>1</td>\n",
              "      <td>337.0</td>\n",
              "    </tr>\n",
              "    <tr>\n",
              "      <th>1</th>\n",
              "      <td>2</td>\n",
              "      <td>201.0</td>\n",
              "    </tr>\n",
              "    <tr>\n",
              "      <th>2</th>\n",
              "      <td>3</td>\n",
              "      <td>449.0</td>\n",
              "    </tr>\n",
              "    <tr>\n",
              "      <th>3</th>\n",
              "      <td>4</td>\n",
              "      <td>239.0</td>\n",
              "    </tr>\n",
              "    <tr>\n",
              "      <th>4</th>\n",
              "      <td>5</td>\n",
              "      <td>445.0</td>\n",
              "    </tr>\n",
              "  </tbody>\n",
              "</table>\n",
              "</div>"
            ],
            "text/plain": [
              "   cod_ies  alunos_deficiencia\n",
              "0        1               337.0\n",
              "1        2               201.0\n",
              "2        3               449.0\n",
              "3        4               239.0\n",
              "4        5               445.0"
            ]
          },
          "metadata": {},
          "execution_count": 25
        }
      ]
    },
    {
      "cell_type": "markdown",
      "metadata": {
        "id": "KPGnZ8eOZ9PN"
      },
      "source": [
        "### 1.5.Dados da IES"
      ]
    },
    {
      "cell_type": "markdown",
      "metadata": {
        "id": "JJUjT1lLbeB5"
      },
      "source": [
        "A fim de fazer uma integração de dados referentes à IES, vamos juntar em um único dataset essas informações para que possam servir de entrada para o clustering."
      ]
    },
    {
      "cell_type": "code",
      "metadata": {
        "colab": {
          "base_uri": "https://localhost:8080/",
          "height": 206
        },
        "id": "Uz-729_97g9B",
        "outputId": "8e4de509-eaaf-4688-a5ef-b07bafb62f9a"
      },
      "source": [
        "ies = pd.merge(ies_igc, ies_receitas, how='inner', on='cod_ies')\n",
        "ies.head()"
      ],
      "execution_count": 26,
      "outputs": [
        {
          "output_type": "execute_result",
          "data": {
            "text/html": [
              "<div>\n",
              "<style scoped>\n",
              "    .dataframe tbody tr th:only-of-type {\n",
              "        vertical-align: middle;\n",
              "    }\n",
              "\n",
              "    .dataframe tbody tr th {\n",
              "        vertical-align: top;\n",
              "    }\n",
              "\n",
              "    .dataframe thead th {\n",
              "        text-align: right;\n",
              "    }\n",
              "</style>\n",
              "<table border=\"1\" class=\"dataframe\">\n",
              "  <thead>\n",
              "    <tr style=\"text-align: right;\">\n",
              "      <th></th>\n",
              "      <th>cod_ies</th>\n",
              "      <th>conceito_medio_graduacao</th>\n",
              "      <th>igc_continuo</th>\n",
              "      <th>categoria_administrativa</th>\n",
              "      <th>despesa_investimento</th>\n",
              "      <th>receitas</th>\n",
              "    </tr>\n",
              "  </thead>\n",
              "  <tbody>\n",
              "    <tr>\n",
              "      <th>0</th>\n",
              "      <td>1</td>\n",
              "      <td>2.924962</td>\n",
              "      <td>3.236518</td>\n",
              "      <td>1</td>\n",
              "      <td>9606414.13</td>\n",
              "      <td>9.270910e+08</td>\n",
              "    </tr>\n",
              "    <tr>\n",
              "      <th>1</th>\n",
              "      <td>2</td>\n",
              "      <td>3.269586</td>\n",
              "      <td>3.941659</td>\n",
              "      <td>1</td>\n",
              "      <td>23154904.42</td>\n",
              "      <td>1.597568e+08</td>\n",
              "    </tr>\n",
              "    <tr>\n",
              "      <th>2</th>\n",
              "      <td>3</td>\n",
              "      <td>3.105500</td>\n",
              "      <td>3.367594</td>\n",
              "      <td>1</td>\n",
              "      <td>8212361.64</td>\n",
              "      <td>9.457277e+08</td>\n",
              "    </tr>\n",
              "    <tr>\n",
              "      <th>3</th>\n",
              "      <td>4</td>\n",
              "      <td>2.821851</td>\n",
              "      <td>3.048187</td>\n",
              "      <td>1</td>\n",
              "      <td>12676251.59</td>\n",
              "      <td>1.070640e+09</td>\n",
              "    </tr>\n",
              "    <tr>\n",
              "      <th>4</th>\n",
              "      <td>5</td>\n",
              "      <td>2.713283</td>\n",
              "      <td>2.960657</td>\n",
              "      <td>1</td>\n",
              "      <td>7835737.00</td>\n",
              "      <td>8.559507e+08</td>\n",
              "    </tr>\n",
              "  </tbody>\n",
              "</table>\n",
              "</div>"
            ],
            "text/plain": [
              "   cod_ies  conceito_medio_graduacao  ...  despesa_investimento      receitas\n",
              "0        1                  2.924962  ...            9606414.13  9.270910e+08\n",
              "1        2                  3.269586  ...           23154904.42  1.597568e+08\n",
              "2        3                  3.105500  ...            8212361.64  9.457277e+08\n",
              "3        4                  2.821851  ...           12676251.59  1.070640e+09\n",
              "4        5                  2.713283  ...            7835737.00  8.559507e+08\n",
              "\n",
              "[5 rows x 6 columns]"
            ]
          },
          "metadata": {},
          "execution_count": 26
        }
      ]
    },
    {
      "cell_type": "code",
      "metadata": {
        "colab": {
          "base_uri": "https://localhost:8080/",
          "height": 226
        },
        "id": "GAP6Jg3O60F-",
        "outputId": "651df778-44c8-4e3a-add3-12f042210966"
      },
      "source": [
        "ies = pd.merge(ies, ies_recursos, how='inner', on='cod_ies')\n",
        "ies.head()"
      ],
      "execution_count": 27,
      "outputs": [
        {
          "output_type": "execute_result",
          "data": {
            "text/html": [
              "<div>\n",
              "<style scoped>\n",
              "    .dataframe tbody tr th:only-of-type {\n",
              "        vertical-align: middle;\n",
              "    }\n",
              "\n",
              "    .dataframe tbody tr th {\n",
              "        vertical-align: top;\n",
              "    }\n",
              "\n",
              "    .dataframe thead th {\n",
              "        text-align: right;\n",
              "    }\n",
              "</style>\n",
              "<table border=\"1\" class=\"dataframe\">\n",
              "  <thead>\n",
              "    <tr style=\"text-align: right;\">\n",
              "      <th></th>\n",
              "      <th>cod_ies</th>\n",
              "      <th>conceito_medio_graduacao</th>\n",
              "      <th>igc_continuo</th>\n",
              "      <th>categoria_administrativa</th>\n",
              "      <th>despesa_investimento</th>\n",
              "      <th>receitas</th>\n",
              "      <th>num_recursos_medio</th>\n",
              "      <th>num_curso</th>\n",
              "    </tr>\n",
              "  </thead>\n",
              "  <tbody>\n",
              "    <tr>\n",
              "      <th>0</th>\n",
              "      <td>1</td>\n",
              "      <td>2.924962</td>\n",
              "      <td>3.236518</td>\n",
              "      <td>1</td>\n",
              "      <td>9606414.13</td>\n",
              "      <td>9.270910e+08</td>\n",
              "      <td>1.438596</td>\n",
              "      <td>114</td>\n",
              "    </tr>\n",
              "    <tr>\n",
              "      <th>1</th>\n",
              "      <td>2</td>\n",
              "      <td>3.269586</td>\n",
              "      <td>3.941659</td>\n",
              "      <td>1</td>\n",
              "      <td>23154904.42</td>\n",
              "      <td>1.597568e+08</td>\n",
              "      <td>11.979866</td>\n",
              "      <td>149</td>\n",
              "    </tr>\n",
              "    <tr>\n",
              "      <th>2</th>\n",
              "      <td>3</td>\n",
              "      <td>3.105500</td>\n",
              "      <td>3.367594</td>\n",
              "      <td>1</td>\n",
              "      <td>8212361.64</td>\n",
              "      <td>9.457277e+08</td>\n",
              "      <td>2.818966</td>\n",
              "      <td>116</td>\n",
              "    </tr>\n",
              "    <tr>\n",
              "      <th>3</th>\n",
              "      <td>4</td>\n",
              "      <td>2.821851</td>\n",
              "      <td>3.048187</td>\n",
              "      <td>1</td>\n",
              "      <td>12676251.59</td>\n",
              "      <td>1.070640e+09</td>\n",
              "      <td>0.981308</td>\n",
              "      <td>107</td>\n",
              "    </tr>\n",
              "    <tr>\n",
              "      <th>4</th>\n",
              "      <td>5</td>\n",
              "      <td>2.713283</td>\n",
              "      <td>2.960657</td>\n",
              "      <td>1</td>\n",
              "      <td>7835737.00</td>\n",
              "      <td>8.559507e+08</td>\n",
              "      <td>9.940000</td>\n",
              "      <td>100</td>\n",
              "    </tr>\n",
              "  </tbody>\n",
              "</table>\n",
              "</div>"
            ],
            "text/plain": [
              "   cod_ies  conceito_medio_graduacao  ...  num_recursos_medio  num_curso\n",
              "0        1                  2.924962  ...            1.438596        114\n",
              "1        2                  3.269586  ...           11.979866        149\n",
              "2        3                  3.105500  ...            2.818966        116\n",
              "3        4                  2.821851  ...            0.981308        107\n",
              "4        5                  2.713283  ...            9.940000        100\n",
              "\n",
              "[5 rows x 8 columns]"
            ]
          },
          "metadata": {},
          "execution_count": 27
        }
      ]
    },
    {
      "cell_type": "code",
      "metadata": {
        "colab": {
          "base_uri": "https://localhost:8080/",
          "height": 226
        },
        "id": "s4BOCmCLXN9P",
        "outputId": "4601ab92-5869-48b5-8f51-3a58edc6b3ad"
      },
      "source": [
        "ies = pd.merge(ies, ies_alunos, how='inner', on='cod_ies')\n",
        "ies.head()"
      ],
      "execution_count": 28,
      "outputs": [
        {
          "output_type": "execute_result",
          "data": {
            "text/html": [
              "<div>\n",
              "<style scoped>\n",
              "    .dataframe tbody tr th:only-of-type {\n",
              "        vertical-align: middle;\n",
              "    }\n",
              "\n",
              "    .dataframe tbody tr th {\n",
              "        vertical-align: top;\n",
              "    }\n",
              "\n",
              "    .dataframe thead th {\n",
              "        text-align: right;\n",
              "    }\n",
              "</style>\n",
              "<table border=\"1\" class=\"dataframe\">\n",
              "  <thead>\n",
              "    <tr style=\"text-align: right;\">\n",
              "      <th></th>\n",
              "      <th>cod_ies</th>\n",
              "      <th>conceito_medio_graduacao</th>\n",
              "      <th>igc_continuo</th>\n",
              "      <th>categoria_administrativa</th>\n",
              "      <th>despesa_investimento</th>\n",
              "      <th>receitas</th>\n",
              "      <th>num_recursos_medio</th>\n",
              "      <th>num_curso</th>\n",
              "      <th>alunos_deficiencia</th>\n",
              "    </tr>\n",
              "  </thead>\n",
              "  <tbody>\n",
              "    <tr>\n",
              "      <th>0</th>\n",
              "      <td>1</td>\n",
              "      <td>2.924962</td>\n",
              "      <td>3.236518</td>\n",
              "      <td>1</td>\n",
              "      <td>9606414.13</td>\n",
              "      <td>9.270910e+08</td>\n",
              "      <td>1.438596</td>\n",
              "      <td>114</td>\n",
              "      <td>337.0</td>\n",
              "    </tr>\n",
              "    <tr>\n",
              "      <th>1</th>\n",
              "      <td>2</td>\n",
              "      <td>3.269586</td>\n",
              "      <td>3.941659</td>\n",
              "      <td>1</td>\n",
              "      <td>23154904.42</td>\n",
              "      <td>1.597568e+08</td>\n",
              "      <td>11.979866</td>\n",
              "      <td>149</td>\n",
              "      <td>201.0</td>\n",
              "    </tr>\n",
              "    <tr>\n",
              "      <th>2</th>\n",
              "      <td>3</td>\n",
              "      <td>3.105500</td>\n",
              "      <td>3.367594</td>\n",
              "      <td>1</td>\n",
              "      <td>8212361.64</td>\n",
              "      <td>9.457277e+08</td>\n",
              "      <td>2.818966</td>\n",
              "      <td>116</td>\n",
              "      <td>449.0</td>\n",
              "    </tr>\n",
              "    <tr>\n",
              "      <th>3</th>\n",
              "      <td>4</td>\n",
              "      <td>2.821851</td>\n",
              "      <td>3.048187</td>\n",
              "      <td>1</td>\n",
              "      <td>12676251.59</td>\n",
              "      <td>1.070640e+09</td>\n",
              "      <td>0.981308</td>\n",
              "      <td>107</td>\n",
              "      <td>239.0</td>\n",
              "    </tr>\n",
              "    <tr>\n",
              "      <th>4</th>\n",
              "      <td>5</td>\n",
              "      <td>2.713283</td>\n",
              "      <td>2.960657</td>\n",
              "      <td>1</td>\n",
              "      <td>7835737.00</td>\n",
              "      <td>8.559507e+08</td>\n",
              "      <td>9.940000</td>\n",
              "      <td>100</td>\n",
              "      <td>445.0</td>\n",
              "    </tr>\n",
              "  </tbody>\n",
              "</table>\n",
              "</div>"
            ],
            "text/plain": [
              "   cod_ies  conceito_medio_graduacao  ...  num_curso  alunos_deficiencia\n",
              "0        1                  2.924962  ...        114               337.0\n",
              "1        2                  3.269586  ...        149               201.0\n",
              "2        3                  3.105500  ...        116               449.0\n",
              "3        4                  2.821851  ...        107               239.0\n",
              "4        5                  2.713283  ...        100               445.0\n",
              "\n",
              "[5 rows x 9 columns]"
            ]
          },
          "metadata": {},
          "execution_count": 28
        }
      ]
    },
    {
      "cell_type": "code",
      "metadata": {
        "colab": {
          "base_uri": "https://localhost:8080/",
          "height": 226
        },
        "id": "BsiP3IlYD_pK",
        "outputId": "95a72350-e3b1-457c-adc6-b60955327204"
      },
      "source": [
        "ies = ies[['categoria_administrativa','alunos_deficiencia','num_recursos_medio','num_curso','receitas','despesa_investimento','conceito_medio_graduacao','igc_continuo']]\n",
        "ies.head()"
      ],
      "execution_count": 29,
      "outputs": [
        {
          "output_type": "execute_result",
          "data": {
            "text/html": [
              "<div>\n",
              "<style scoped>\n",
              "    .dataframe tbody tr th:only-of-type {\n",
              "        vertical-align: middle;\n",
              "    }\n",
              "\n",
              "    .dataframe tbody tr th {\n",
              "        vertical-align: top;\n",
              "    }\n",
              "\n",
              "    .dataframe thead th {\n",
              "        text-align: right;\n",
              "    }\n",
              "</style>\n",
              "<table border=\"1\" class=\"dataframe\">\n",
              "  <thead>\n",
              "    <tr style=\"text-align: right;\">\n",
              "      <th></th>\n",
              "      <th>categoria_administrativa</th>\n",
              "      <th>alunos_deficiencia</th>\n",
              "      <th>num_recursos_medio</th>\n",
              "      <th>num_curso</th>\n",
              "      <th>receitas</th>\n",
              "      <th>despesa_investimento</th>\n",
              "      <th>conceito_medio_graduacao</th>\n",
              "      <th>igc_continuo</th>\n",
              "    </tr>\n",
              "  </thead>\n",
              "  <tbody>\n",
              "    <tr>\n",
              "      <th>0</th>\n",
              "      <td>1</td>\n",
              "      <td>337.0</td>\n",
              "      <td>1.438596</td>\n",
              "      <td>114</td>\n",
              "      <td>9.270910e+08</td>\n",
              "      <td>9606414.13</td>\n",
              "      <td>2.924962</td>\n",
              "      <td>3.236518</td>\n",
              "    </tr>\n",
              "    <tr>\n",
              "      <th>1</th>\n",
              "      <td>1</td>\n",
              "      <td>201.0</td>\n",
              "      <td>11.979866</td>\n",
              "      <td>149</td>\n",
              "      <td>1.597568e+08</td>\n",
              "      <td>23154904.42</td>\n",
              "      <td>3.269586</td>\n",
              "      <td>3.941659</td>\n",
              "    </tr>\n",
              "    <tr>\n",
              "      <th>2</th>\n",
              "      <td>1</td>\n",
              "      <td>449.0</td>\n",
              "      <td>2.818966</td>\n",
              "      <td>116</td>\n",
              "      <td>9.457277e+08</td>\n",
              "      <td>8212361.64</td>\n",
              "      <td>3.105500</td>\n",
              "      <td>3.367594</td>\n",
              "    </tr>\n",
              "    <tr>\n",
              "      <th>3</th>\n",
              "      <td>1</td>\n",
              "      <td>239.0</td>\n",
              "      <td>0.981308</td>\n",
              "      <td>107</td>\n",
              "      <td>1.070640e+09</td>\n",
              "      <td>12676251.59</td>\n",
              "      <td>2.821851</td>\n",
              "      <td>3.048187</td>\n",
              "    </tr>\n",
              "    <tr>\n",
              "      <th>4</th>\n",
              "      <td>1</td>\n",
              "      <td>445.0</td>\n",
              "      <td>9.940000</td>\n",
              "      <td>100</td>\n",
              "      <td>8.559507e+08</td>\n",
              "      <td>7835737.00</td>\n",
              "      <td>2.713283</td>\n",
              "      <td>2.960657</td>\n",
              "    </tr>\n",
              "  </tbody>\n",
              "</table>\n",
              "</div>"
            ],
            "text/plain": [
              "   categoria_administrativa  ...  igc_continuo\n",
              "0                         1  ...      3.236518\n",
              "1                         1  ...      3.941659\n",
              "2                         1  ...      3.367594\n",
              "3                         1  ...      3.048187\n",
              "4                         1  ...      2.960657\n",
              "\n",
              "[5 rows x 8 columns]"
            ]
          },
          "metadata": {},
          "execution_count": 29
        }
      ]
    },
    {
      "cell_type": "code",
      "metadata": {
        "colab": {
          "base_uri": "https://localhost:8080/",
          "height": 299
        },
        "id": "HcD8RGDNDw6C",
        "outputId": "77096685-6893-4a1f-ce70-580af2192224"
      },
      "source": [
        "plt.figure(1 , figsize = (7,4))\n",
        "sns.kdeplot(x = 'num_recursos_medio', y = 'conceito_medio_graduacao', data = ies, fill=True, palette='crest')\n",
        "plt.title(\"KDEPLOT\", fontsize=14)\n",
        "plt.ylabel('Conceito Médio da Graduação', fontsize=13), plt.xlabel('Recursos de Acessibilidade', fontsize=13)\n",
        "plt.savefig('kdeplot.png', transparent = True)"
      ],
      "execution_count": 30,
      "outputs": [
        {
          "output_type": "display_data",
          "data": {
            "image/png": "[encoded data removed]",
            "text/plain": [
              "<Figure size 504x288 with 1 Axes>"
            ]
          },
          "metadata": {
            "needs_background": "light"
          }
        }
      ]
    },
    {
      "cell_type": "code",
      "metadata": {
        "colab": {
          "base_uri": "https://localhost:8080/",
          "height": 320
        },
        "id": "nqgGoBxPjDaT",
        "outputId": "f596cec3-c23a-4dd3-cee1-c60e1426c7e9"
      },
      "source": [
        "ies.describe()"
      ],
      "execution_count": 31,
      "outputs": [
        {
          "output_type": "execute_result",
          "data": {
            "text/html": [
              "<div>\n",
              "<style scoped>\n",
              "    .dataframe tbody tr th:only-of-type {\n",
              "        vertical-align: middle;\n",
              "    }\n",
              "\n",
              "    .dataframe tbody tr th {\n",
              "        vertical-align: top;\n",
              "    }\n",
              "\n",
              "    .dataframe thead th {\n",
              "        text-align: right;\n",
              "    }\n",
              "</style>\n",
              "<table border=\"1\" class=\"dataframe\">\n",
              "  <thead>\n",
              "    <tr style=\"text-align: right;\">\n",
              "      <th></th>\n",
              "      <th>categoria_administrativa</th>\n",
              "      <th>alunos_deficiencia</th>\n",
              "      <th>num_recursos_medio</th>\n",
              "      <th>num_curso</th>\n",
              "      <th>receitas</th>\n",
              "      <th>despesa_investimento</th>\n",
              "      <th>conceito_medio_graduacao</th>\n",
              "      <th>igc_continuo</th>\n",
              "    </tr>\n",
              "  </thead>\n",
              "  <tbody>\n",
              "    <tr>\n",
              "      <th>count</th>\n",
              "      <td>382.000000</td>\n",
              "      <td>382.000000</td>\n",
              "      <td>382.000000</td>\n",
              "      <td>382.000000</td>\n",
              "      <td>3.820000e+02</td>\n",
              "      <td>3.820000e+02</td>\n",
              "      <td>382.000000</td>\n",
              "      <td>382.000000</td>\n",
              "    </tr>\n",
              "    <tr>\n",
              "      <th>mean</th>\n",
              "      <td>3.918848</td>\n",
              "      <td>110.219895</td>\n",
              "      <td>6.131553</td>\n",
              "      <td>49.793194</td>\n",
              "      <td>3.799294e+08</td>\n",
              "      <td>1.575922e+07</td>\n",
              "      <td>2.743017</td>\n",
              "      <td>2.860191</td>\n",
              "    </tr>\n",
              "    <tr>\n",
              "      <th>std</th>\n",
              "      <td>1.528800</td>\n",
              "      <td>261.879034</td>\n",
              "      <td>3.773416</td>\n",
              "      <td>70.262624</td>\n",
              "      <td>6.225188e+08</td>\n",
              "      <td>4.889316e+07</td>\n",
              "      <td>0.445230</td>\n",
              "      <td>0.565518</td>\n",
              "    </tr>\n",
              "    <tr>\n",
              "      <th>min</th>\n",
              "      <td>1.000000</td>\n",
              "      <td>1.000000</td>\n",
              "      <td>0.000000</td>\n",
              "      <td>1.000000</td>\n",
              "      <td>3.125000e+03</td>\n",
              "      <td>0.000000e+00</td>\n",
              "      <td>1.380159</td>\n",
              "      <td>1.380159</td>\n",
              "    </tr>\n",
              "    <tr>\n",
              "      <th>25%</th>\n",
              "      <td>3.000000</td>\n",
              "      <td>4.000000</td>\n",
              "      <td>2.905996</td>\n",
              "      <td>10.000000</td>\n",
              "      <td>2.849671e+07</td>\n",
              "      <td>1.156460e+05</td>\n",
              "      <td>2.440559</td>\n",
              "      <td>2.454748</td>\n",
              "    </tr>\n",
              "    <tr>\n",
              "      <th>50%</th>\n",
              "      <td>5.000000</td>\n",
              "      <td>19.000000</td>\n",
              "      <td>6.000000</td>\n",
              "      <td>31.000000</td>\n",
              "      <td>1.403790e+08</td>\n",
              "      <td>2.737926e+06</td>\n",
              "      <td>2.743514</td>\n",
              "      <td>2.819881</td>\n",
              "    </tr>\n",
              "    <tr>\n",
              "      <th>75%</th>\n",
              "      <td>5.000000</td>\n",
              "      <td>102.500000</td>\n",
              "      <td>9.000000</td>\n",
              "      <td>67.000000</td>\n",
              "      <td>3.743658e+08</td>\n",
              "      <td>1.190465e+07</td>\n",
              "      <td>3.102737</td>\n",
              "      <td>3.236070</td>\n",
              "    </tr>\n",
              "    <tr>\n",
              "      <th>max</th>\n",
              "      <td>7.000000</td>\n",
              "      <td>2613.000000</td>\n",
              "      <td>12.000000</td>\n",
              "      <td>928.000000</td>\n",
              "      <td>4.167839e+09</td>\n",
              "      <td>5.355536e+08</td>\n",
              "      <td>3.918731</td>\n",
              "      <td>4.424983</td>\n",
              "    </tr>\n",
              "  </tbody>\n",
              "</table>\n",
              "</div>"
            ],
            "text/plain": [
              "       categoria_administrativa  ...  igc_continuo\n",
              "count                382.000000  ...    382.000000\n",
              "mean                   3.918848  ...      2.860191\n",
              "std                    1.528800  ...      0.565518\n",
              "min                    1.000000  ...      1.380159\n",
              "25%                    3.000000  ...      2.454748\n",
              "50%                    5.000000  ...      2.819881\n",
              "75%                    5.000000  ...      3.236070\n",
              "max                    7.000000  ...      4.424983\n",
              "\n",
              "[8 rows x 8 columns]"
            ]
          },
          "metadata": {},
          "execution_count": 31
        }
      ]
    },
    {
      "cell_type": "markdown",
      "metadata": {
        "id": "mBASp_ucanMt"
      },
      "source": [
        "## 2.Pré-processamento dos dados"
      ]
    },
    {
      "cell_type": "markdown",
      "metadata": {
        "id": "w_CQu2tNatBx"
      },
      "source": [
        "Depois de remover as duplicatas, colunas desnecessárias e analisar os dados inconsistentes, precisamos ainda fazer o tratamento dos dados ausentes e de outliers e ruído, ratamento de dados ausentes."
      ]
    },
    {
      "cell_type": "markdown",
      "metadata": {
        "id": "jiFOo7Irb6oB"
      },
      "source": [
        "Além disso, precisamos transformar os dados em relação a sua escala e remover as variáveis ​​dependentes (altamente correlacionadas), por meio da normalização e analisando sua correlação, respectivamente."
      ]
    },
    {
      "cell_type": "markdown",
      "metadata": {
        "id": "cK8V8eq0cbit"
      },
      "source": [
        "###2.1.Outliers"
      ]
    },
    {
      "cell_type": "markdown",
      "metadata": {
        "id": "t0YnTwCqjZDi"
      },
      "source": [
        "####2.1.1.Alunos"
      ]
    },
    {
      "cell_type": "code",
      "metadata": {
        "id": "MjVfT6PFgZ6d",
        "colab": {
          "base_uri": "https://localhost:8080/",
          "height": 282
        },
        "outputId": "104cab4a-7d44-4424-9880-42a05a8ee5ea"
      },
      "source": [
        "#Boxplot para visualização de outliers\n",
        "plt.figure(figsize =(7, 4))\n",
        "sns.set_style('darkgrid')\n",
        "grafico_1 = sns.boxplot( y = \"alunos_deficiencia\", data = ies, linewidth=2, palette = \"crest\")\n",
        "plt.title(\"ALUNOS COM DEFICIÊNCIA\", loc=\"center\", fontsize=14)\n",
        "plt.ylabel('Alunos')"
      ],
      "execution_count": 69,
      "outputs": [
        {
          "output_type": "execute_result",
          "data": {
            "text/plain": [
              "Text(0, 0.5, 'Alunos')"
            ]
          },
          "metadata": {},
          "execution_count": 69
        },
        {
          "output_type": "display_data",
          "data": {
            "image/png": "[encoded data removed]",
            "text/plain": [
              "<Figure size 504x288 with 1 Axes>"
            ]
          },
          "metadata": {}
        }
      ]
    },
    {
      "cell_type": "code",
      "metadata": {
        "id": "ysKKI1ITg9oI"
      },
      "source": [
        "#Tratando outliers no campo de alunos\n",
        "alunos_novo = ies['alunos_deficiencia']\n",
        "Q1 = alunos_novo.quantile(.25)\n",
        "Q3 = alunos_novo.quantile(.75)\n",
        "IIQ = Q3 - Q1\n",
        "limite_inferior = Q1 - 1.5 * IIQ\n",
        "limite_superior = Q3 + 1.5 * IIQ\n",
        "\n",
        "selecao_alunos = (alunos_novo >= limite_inferior) & (alunos_novo <= limite_superior)\n",
        "novo_ies = ies[selecao_alunos]"
      ],
      "execution_count": 72,
      "outputs": []
    },
    {
      "cell_type": "code",
      "metadata": {
        "colab": {
          "base_uri": "https://localhost:8080/",
          "height": 282
        },
        "id": "3XcV3RkJ2gYj",
        "outputId": "419bb2aa-14e8-42da-bfb1-b2a5eead8e6e"
      },
      "source": [
        "#Boxplot para visualização pós tratamento de outliers\n",
        "plt.figure(figsize =(7, 4))\n",
        "sns.set_style('darkgrid')\n",
        "grafico_1 = sns.boxplot( y = \"alunos_deficiencia\", data = novo_ies, linewidth=2, palette = \"crest\")\n",
        "plt.title(\"ALUNOS COM DEFICIÊNCIA\", fontsize=14)\n",
        "plt.ylabel('Alunos', fontsize=13)"
      ],
      "execution_count": 73,
      "outputs": [
        {
          "output_type": "execute_result",
          "data": {
            "text/plain": [
              "Text(0, 0.5, 'Alunos')"
            ]
          },
          "metadata": {},
          "execution_count": 73
        },
        {
          "output_type": "display_data",
          "data": {
            "image/png": "[encoded data removed]",
            "text/plain": [
              "<Figure size 504x288 with 1 Axes>"
            ]
          },
          "metadata": {}
        }
      ]
    },
    {
      "cell_type": "markdown",
      "metadata": {
        "id": "d_Bkuj04ji_w"
      },
      "source": [
        "####2.1.2.Recursos"
      ]
    },
    {
      "cell_type": "code",
      "metadata": {
        "colab": {
          "base_uri": "https://localhost:8080/",
          "height": 265
        },
        "id": "o-_7boDvkJ-S",
        "outputId": "c3d7d24f-5683-4c34-f710-47adea68400d"
      },
      "source": [
        "#Boxplot para visualização de outliers\n",
        "plt.figure(figsize =(7, 4))\n",
        "sns.set_style('darkgrid')\n",
        "grafico_2 = sns.boxplot( y = 'num_recursos_medio', data = ies, linewidth=2, palette = \"crest\")\n",
        "plt.title(\"RECURSOS DE ACESSIBILIDADE\", fontsize=14)\n",
        "plt.ylabel('Recursos', fontsize=13)\n",
        "plt.savefig('outliers_recursos.png', transparent = True)"
      ],
      "execution_count": 74,
      "outputs": [
        {
          "output_type": "display_data",
          "data": {
            "image/png": "[encoded data removed]",
            "text/plain": [
              "<Figure size 504x288 with 1 Axes>"
            ]
          },
          "metadata": {}
        }
      ]
    },
    {
      "cell_type": "markdown",
      "metadata": {
        "id": "W3F7sWy7k5RN"
      },
      "source": [
        "Neste caso, não houve tratamento de outliers, pois não conseguimos visualizá-los pelo boxplot"
      ]
    },
    {
      "cell_type": "markdown",
      "metadata": {
        "id": "tfz4E_B3joiw"
      },
      "source": [
        "####2.1.3.Número de cursos"
      ]
    },
    {
      "cell_type": "code",
      "metadata": {
        "colab": {
          "base_uri": "https://localhost:8080/",
          "height": 265
        },
        "id": "uh50psgrkOhG",
        "outputId": "9870dc27-a58f-41be-bd7a-7cb62bccaf07"
      },
      "source": [
        "#Boxplot para visualização de outliers\n",
        "plt.figure(figsize =(7, 4))\n",
        "sns.set_style('darkgrid')\n",
        "grafico_3 = sns.boxplot( y = \"num_curso\", data = ies, linewidth=2, palette = \"crest\")\n",
        "plt.title(\"NÚMERO DE CURSOS DA IES\", fontsize=14)\n",
        "plt.ylabel('Cursos', fontsize=13)\n",
        "plt.savefig('outliers_cursos.png', transparent = True)"
      ],
      "execution_count": 75,
      "outputs": [
        {
          "output_type": "display_data",
          "data": {
            "image/png": "[encoded data removed]",
            "text/plain": [
              "<Figure size 504x288 with 1 Axes>"
            ]
          },
          "metadata": {}
        }
      ]
    },
    {
      "cell_type": "code",
      "metadata": {
        "id": "HI-M3L3Y7cBb"
      },
      "source": [
        "#Tratando outliers no campo de receitas\n",
        "num_curso_novo = ies['num_curso']\n",
        "Q1 = num_curso_novo.quantile(.25)\n",
        "Q3 = num_curso_novo.quantile(.75)\n",
        "IIQ = Q3 - Q1\n",
        "limite_inferior = Q1 - 1.5 * IIQ\n",
        "limite_superior = Q3 + 1.5 * IIQ\n",
        "\n",
        "selecao_num_curso = (num_curso_novo >= limite_inferior) & (num_curso_novo <= limite_superior)\n",
        "novo_ies = ies[selecao_num_curso]"
      ],
      "execution_count": 76,
      "outputs": []
    },
    {
      "cell_type": "code",
      "metadata": {
        "id": "VYX0vhXu4sJo",
        "colab": {
          "base_uri": "https://localhost:8080/",
          "height": 265
        },
        "outputId": "72ac3626-f0be-4df6-912f-6022a4386225"
      },
      "source": [
        "#Boxplot para visualização após tratamento de outliers\n",
        "plt.figure(figsize =(7, 4))\n",
        "sns.set_style('darkgrid')\n",
        "grafico_3 = sns.boxplot( y = \"num_curso\", data = novo_ies, linewidth=2, palette = \"crest\")\n",
        "plt.title(\"NÚMERO DE CURSOS DA IES\", fontsize=14)\n",
        "plt.ylabel('Cursos', fontsize=13)\n",
        "plt.savefig('posoutliers_cursos.png', transparent = True)"
      ],
      "execution_count": 77,
      "outputs": [
        {
          "output_type": "display_data",
          "data": {
            "image/png": "[encoded data removed]",
            "text/plain": [
              "<Figure size 504x288 with 1 Axes>"
            ]
          },
          "metadata": {}
        }
      ]
    },
    {
      "cell_type": "markdown",
      "metadata": {
        "id": "IfRSlAmujsgE"
      },
      "source": [
        "####2.2.4.Receitas"
      ]
    },
    {
      "cell_type": "code",
      "metadata": {
        "colab": {
          "base_uri": "https://localhost:8080/",
          "height": 265
        },
        "id": "5gnWi5lGkPgN",
        "outputId": "5c378622-8458-4bc5-eac2-105bc8c7ca61"
      },
      "source": [
        "#Boxplot para visualização de outliers\n",
        "plt.figure(figsize =(7, 4))\n",
        "sns.set_style('darkgrid')\n",
        "grafico_4 = sns.boxplot( y = \"receitas\", data = ies, linewidth=2, palette = \"crest\")\n",
        "plt.title(\"RECEITAS POR IES\", fontsize=14)\n",
        "plt.ylabel('Receita', fontsize=13)\n",
        "plt.savefig('outliers_receitas.png', transparent = True)"
      ],
      "execution_count": 78,
      "outputs": [
        {
          "output_type": "display_data",
          "data": {
            "image/png": "[encoded data removed]",
            "text/plain": [
              "<Figure size 504x288 with 1 Axes>"
            ]
          },
          "metadata": {}
        }
      ]
    },
    {
      "cell_type": "code",
      "metadata": {
        "id": "7hUjijbwkVm_",
        "colab": {
          "base_uri": "https://localhost:8080/",
          "height": 320
        },
        "outputId": "99afc7fb-223a-458b-d0d5-b63bea4fadfc"
      },
      "source": [
        "#Tratando outliers no campo de receitas\n",
        "receitas_novo = ies['receitas']\n",
        "Q1 = receitas_novo.quantile(.25)\n",
        "Q3 = receitas_novo.quantile(.75)\n",
        "IIQ = Q3 - Q1\n",
        "limite_inferior = Q1 - 1.5 * IIQ\n",
        "limite_superior = Q3 + 1.5 * IIQ\n",
        "\n",
        "selecao_receitas = (receitas_novo >= limite_inferior) & (receitas_novo <= limite_superior)\n",
        "novo_ies = ies[selecao_receitas]\n",
        "novo_ies.describe()"
      ],
      "execution_count": 79,
      "outputs": [
        {
          "output_type": "execute_result",
          "data": {
            "text/html": [
              "<div>\n",
              "<style scoped>\n",
              "    .dataframe tbody tr th:only-of-type {\n",
              "        vertical-align: middle;\n",
              "    }\n",
              "\n",
              "    .dataframe tbody tr th {\n",
              "        vertical-align: top;\n",
              "    }\n",
              "\n",
              "    .dataframe thead th {\n",
              "        text-align: right;\n",
              "    }\n",
              "</style>\n",
              "<table border=\"1\" class=\"dataframe\">\n",
              "  <thead>\n",
              "    <tr style=\"text-align: right;\">\n",
              "      <th></th>\n",
              "      <th>categoria_administrativa</th>\n",
              "      <th>alunos_deficiencia</th>\n",
              "      <th>num_recursos_medio</th>\n",
              "      <th>num_curso</th>\n",
              "      <th>receitas</th>\n",
              "      <th>despesa_investimento</th>\n",
              "      <th>conceito_medio_graduacao</th>\n",
              "      <th>igc_continuo</th>\n",
              "    </tr>\n",
              "  </thead>\n",
              "  <tbody>\n",
              "    <tr>\n",
              "      <th>count</th>\n",
              "      <td>338.000000</td>\n",
              "      <td>338.000000</td>\n",
              "      <td>338.000000</td>\n",
              "      <td>338.000000</td>\n",
              "      <td>3.380000e+02</td>\n",
              "      <td>3.380000e+02</td>\n",
              "      <td>338.000000</td>\n",
              "      <td>338.000000</td>\n",
              "    </tr>\n",
              "    <tr>\n",
              "      <th>mean</th>\n",
              "      <td>4.127219</td>\n",
              "      <td>70.751479</td>\n",
              "      <td>6.036015</td>\n",
              "      <td>39.014793</td>\n",
              "      <td>1.889423e+08</td>\n",
              "      <td>7.396435e+06</td>\n",
              "      <td>2.726640</td>\n",
              "      <td>2.815008</td>\n",
              "    </tr>\n",
              "    <tr>\n",
              "      <th>std</th>\n",
              "      <td>1.407409</td>\n",
              "      <td>161.508496</td>\n",
              "      <td>3.756459</td>\n",
              "      <td>40.699191</td>\n",
              "      <td>2.136538e+08</td>\n",
              "      <td>1.840498e+07</td>\n",
              "      <td>0.444582</td>\n",
              "      <td>0.523528</td>\n",
              "    </tr>\n",
              "    <tr>\n",
              "      <th>min</th>\n",
              "      <td>1.000000</td>\n",
              "      <td>1.000000</td>\n",
              "      <td>0.000000</td>\n",
              "      <td>1.000000</td>\n",
              "      <td>3.125000e+03</td>\n",
              "      <td>0.000000e+00</td>\n",
              "      <td>1.380159</td>\n",
              "      <td>1.380159</td>\n",
              "    </tr>\n",
              "    <tr>\n",
              "      <th>25%</th>\n",
              "      <td>4.000000</td>\n",
              "      <td>3.000000</td>\n",
              "      <td>2.905996</td>\n",
              "      <td>9.000000</td>\n",
              "      <td>2.161540e+07</td>\n",
              "      <td>9.437828e+04</td>\n",
              "      <td>2.440559</td>\n",
              "      <td>2.454748</td>\n",
              "    </tr>\n",
              "    <tr>\n",
              "      <th>50%</th>\n",
              "      <td>5.000000</td>\n",
              "      <td>11.000000</td>\n",
              "      <td>6.000000</td>\n",
              "      <td>24.500000</td>\n",
              "      <td>1.072954e+08</td>\n",
              "      <td>1.731509e+06</td>\n",
              "      <td>2.733048</td>\n",
              "      <td>2.801108</td>\n",
              "    </tr>\n",
              "    <tr>\n",
              "      <th>75%</th>\n",
              "      <td>5.000000</td>\n",
              "      <td>69.750000</td>\n",
              "      <td>9.000000</td>\n",
              "      <td>56.750000</td>\n",
              "      <td>2.855814e+08</td>\n",
              "      <td>7.973584e+06</td>\n",
              "      <td>3.058731</td>\n",
              "      <td>3.196481</td>\n",
              "    </tr>\n",
              "    <tr>\n",
              "      <th>max</th>\n",
              "      <td>7.000000</td>\n",
              "      <td>1814.000000</td>\n",
              "      <td>12.000000</td>\n",
              "      <td>200.000000</td>\n",
              "      <td>8.792710e+08</td>\n",
              "      <td>2.045685e+08</td>\n",
              "      <td>3.918731</td>\n",
              "      <td>4.329011</td>\n",
              "    </tr>\n",
              "  </tbody>\n",
              "</table>\n",
              "</div>"
            ],
            "text/plain": [
              "       categoria_administrativa  ...  igc_continuo\n",
              "count                338.000000  ...    338.000000\n",
              "mean                   4.127219  ...      2.815008\n",
              "std                    1.407409  ...      0.523528\n",
              "min                    1.000000  ...      1.380159\n",
              "25%                    4.000000  ...      2.454748\n",
              "50%                    5.000000  ...      2.801108\n",
              "75%                    5.000000  ...      3.196481\n",
              "max                    7.000000  ...      4.329011\n",
              "\n",
              "[8 rows x 8 columns]"
            ]
          },
          "metadata": {},
          "execution_count": 79
        }
      ]
    },
    {
      "cell_type": "code",
      "metadata": {
        "colab": {
          "base_uri": "https://localhost:8080/",
          "height": 265
        },
        "id": "woWlO-8WF7O0",
        "outputId": "460cdca7-1eca-49cc-c905-9c0a61ecb983"
      },
      "source": [
        "#Boxplot para visualização após tratamento de outliers\n",
        "plt.figure(figsize =(7, 4))\n",
        "sns.set_style('darkgrid')\n",
        "grafico_4 = sns.boxplot( y = \"receitas\", data = novo_ies, linewidth=2, palette = \"crest\")\n",
        "plt.title(\"RECEITAS POR IES\", fontsize=14)\n",
        "plt.ylabel('Receita', fontsize=13)\n",
        "plt.savefig('posoutliers_receitas.png', transparent = True)"
      ],
      "execution_count": 80,
      "outputs": [
        {
          "output_type": "display_data",
          "data": {
            "image/png": "[encoded data removed]",
            "text/plain": [
              "<Figure size 504x288 with 1 Axes>"
            ]
          },
          "metadata": {}
        }
      ]
    },
    {
      "cell_type": "markdown",
      "metadata": {
        "id": "h0iArf9WjweI"
      },
      "source": [
        "####2.2.5.Despesas"
      ]
    },
    {
      "cell_type": "code",
      "metadata": {
        "colab": {
          "base_uri": "https://localhost:8080/",
          "height": 265
        },
        "id": "MFspe-rjkQR0",
        "outputId": "8abd8afc-0191-4997-f2c4-9faf67044a10"
      },
      "source": [
        "#Boxplot para visualização de outliers\n",
        "plt.figure(figsize =(7, 4))\n",
        "sns.set_style('darkgrid')\n",
        "grafico_5 = sns.boxplot( y = \"despesa_investimento\", data = ies, linewidth=2, palette = \"crest\")\n",
        "plt.title(\"DESPESAS COM INVESTIMENTOS NAS IES\", fontsize=14)\n",
        "plt.ylabel('Despesas', fontsize=13)\n",
        "plt.savefig('outliers_despesa.png', transparent = True)"
      ],
      "execution_count": 81,
      "outputs": [
        {
          "output_type": "display_data",
          "data": {
            "image/png": "[encoded data removed]",
            "text/plain": [
              "<Figure size 504x288 with 1 Axes>"
            ]
          },
          "metadata": {}
        }
      ]
    },
    {
      "cell_type": "code",
      "metadata": {
        "colab": {
          "base_uri": "https://localhost:8080/",
          "height": 320
        },
        "id": "zCNviO2CkVCX",
        "outputId": "ca47af13-0388-49e1-80e0-0931e60080ec"
      },
      "source": [
        "#Tratando outliers no campo de despesas\n",
        "despesas_novo = ies['despesa_investimento']\n",
        "Q1 = despesas_novo.quantile(.25)\n",
        "Q3 = despesas_novo.quantile(.75)\n",
        "IIQ = Q3 - Q1\n",
        "limite_inferior = Q1 - 1.5 * IIQ\n",
        "limite_superior = Q3 + 1.5 * IIQ\n",
        "\n",
        "selecao_despesas = (despesas_novo >= limite_inferior) & (despesas_novo <= limite_superior)\n",
        "novo_ies = ies[selecao_despesas]\n",
        "novo_ies.describe()"
      ],
      "execution_count": 82,
      "outputs": [
        {
          "output_type": "execute_result",
          "data": {
            "text/html": [
              "<div>\n",
              "<style scoped>\n",
              "    .dataframe tbody tr th:only-of-type {\n",
              "        vertical-align: middle;\n",
              "    }\n",
              "\n",
              "    .dataframe tbody tr th {\n",
              "        vertical-align: top;\n",
              "    }\n",
              "\n",
              "    .dataframe thead th {\n",
              "        text-align: right;\n",
              "    }\n",
              "</style>\n",
              "<table border=\"1\" class=\"dataframe\">\n",
              "  <thead>\n",
              "    <tr style=\"text-align: right;\">\n",
              "      <th></th>\n",
              "      <th>categoria_administrativa</th>\n",
              "      <th>alunos_deficiencia</th>\n",
              "      <th>num_recursos_medio</th>\n",
              "      <th>num_curso</th>\n",
              "      <th>receitas</th>\n",
              "      <th>despesa_investimento</th>\n",
              "      <th>conceito_medio_graduacao</th>\n",
              "      <th>igc_continuo</th>\n",
              "    </tr>\n",
              "  </thead>\n",
              "  <tbody>\n",
              "    <tr>\n",
              "      <th>count</th>\n",
              "      <td>354.000000</td>\n",
              "      <td>354.000000</td>\n",
              "      <td>354.000000</td>\n",
              "      <td>354.000000</td>\n",
              "      <td>3.540000e+02</td>\n",
              "      <td>3.540000e+02</td>\n",
              "      <td>354.000000</td>\n",
              "      <td>354.000000</td>\n",
              "    </tr>\n",
              "    <tr>\n",
              "      <th>mean</th>\n",
              "      <td>3.951977</td>\n",
              "      <td>90.285311</td>\n",
              "      <td>5.977369</td>\n",
              "      <td>46.776836</td>\n",
              "      <td>3.055302e+08</td>\n",
              "      <td>5.466814e+06</td>\n",
              "      <td>2.739717</td>\n",
              "      <td>2.849971</td>\n",
              "    </tr>\n",
              "    <tr>\n",
              "      <th>std</th>\n",
              "      <td>1.526149</td>\n",
              "      <td>201.648968</td>\n",
              "      <td>3.778359</td>\n",
              "      <td>69.662630</td>\n",
              "      <td>5.190609e+08</td>\n",
              "      <td>7.146242e+06</td>\n",
              "      <td>0.444845</td>\n",
              "      <td>0.556829</td>\n",
              "    </tr>\n",
              "    <tr>\n",
              "      <th>min</th>\n",
              "      <td>1.000000</td>\n",
              "      <td>1.000000</td>\n",
              "      <td>0.000000</td>\n",
              "      <td>1.000000</td>\n",
              "      <td>3.125000e+03</td>\n",
              "      <td>0.000000e+00</td>\n",
              "      <td>1.380159</td>\n",
              "      <td>1.380159</td>\n",
              "    </tr>\n",
              "    <tr>\n",
              "      <th>25%</th>\n",
              "      <td>3.000000</td>\n",
              "      <td>4.000000</td>\n",
              "      <td>2.712500</td>\n",
              "      <td>9.000000</td>\n",
              "      <td>2.429403e+07</td>\n",
              "      <td>9.056011e+04</td>\n",
              "      <td>2.445124</td>\n",
              "      <td>2.455390</td>\n",
              "    </tr>\n",
              "    <tr>\n",
              "      <th>50%</th>\n",
              "      <td>5.000000</td>\n",
              "      <td>15.000000</td>\n",
              "      <td>6.000000</td>\n",
              "      <td>28.500000</td>\n",
              "      <td>1.200563e+08</td>\n",
              "      <td>1.884302e+06</td>\n",
              "      <td>2.741201</td>\n",
              "      <td>2.817880</td>\n",
              "    </tr>\n",
              "    <tr>\n",
              "      <th>75%</th>\n",
              "      <td>5.000000</td>\n",
              "      <td>83.500000</td>\n",
              "      <td>9.000000</td>\n",
              "      <td>64.000000</td>\n",
              "      <td>3.410803e+08</td>\n",
              "      <td>8.521611e+06</td>\n",
              "      <td>3.086676</td>\n",
              "      <td>3.217642</td>\n",
              "    </tr>\n",
              "    <tr>\n",
              "      <th>max</th>\n",
              "      <td>7.000000</td>\n",
              "      <td>1842.000000</td>\n",
              "      <td>12.000000</td>\n",
              "      <td>928.000000</td>\n",
              "      <td>3.610593e+09</td>\n",
              "      <td>2.867215e+07</td>\n",
              "      <td>3.918731</td>\n",
              "      <td>4.424983</td>\n",
              "    </tr>\n",
              "  </tbody>\n",
              "</table>\n",
              "</div>"
            ],
            "text/plain": [
              "       categoria_administrativa  ...  igc_continuo\n",
              "count                354.000000  ...    354.000000\n",
              "mean                   3.951977  ...      2.849971\n",
              "std                    1.526149  ...      0.556829\n",
              "min                    1.000000  ...      1.380159\n",
              "25%                    3.000000  ...      2.455390\n",
              "50%                    5.000000  ...      2.817880\n",
              "75%                    5.000000  ...      3.217642\n",
              "max                    7.000000  ...      4.424983\n",
              "\n",
              "[8 rows x 8 columns]"
            ]
          },
          "metadata": {},
          "execution_count": 82
        }
      ]
    },
    {
      "cell_type": "code",
      "metadata": {
        "colab": {
          "base_uri": "https://localhost:8080/",
          "height": 265
        },
        "id": "H_3FPLfYGcE-",
        "outputId": "cbe87fe2-21d2-4adf-bf7e-8eacf39a7877"
      },
      "source": [
        "#Boxplot para visualização após tratamento de outliers\n",
        "plt.figure(figsize =(7, 4))\n",
        "sns.set_style('darkgrid')\n",
        "grafico_5 = sns.boxplot( y = \"despesa_investimento\", data = novo_ies, linewidth=2, palette = \"crest\")\n",
        "plt.title(\"DESPESAS COM INVESTIMENTOS NAS IES\", fontsize=14)\n",
        "plt.ylabel('Despesas', fontsize=13)\n",
        "plt.savefig('posoutliers_despesa.png', transparent = True)"
      ],
      "execution_count": 83,
      "outputs": [
        {
          "output_type": "display_data",
          "data": {
            "image/png": "[encoded data removed]",
            "text/plain": [
              "<Figure size 504x288 with 1 Axes>"
            ]
          },
          "metadata": {}
        }
      ]
    },
    {
      "cell_type": "markdown",
      "metadata": {
        "id": "VKd-_8N7j5Jm"
      },
      "source": [
        "####2.2.6.IGC"
      ]
    },
    {
      "cell_type": "code",
      "metadata": {
        "colab": {
          "base_uri": "https://localhost:8080/",
          "height": 302
        },
        "id": "PGPmy1pTmTRN",
        "outputId": "b38823bb-9571-43ba-cd98-8496e06f6249"
      },
      "source": [
        "#Visualizando os outliers dos índices de qualidade das IES\n",
        "plt.figure(figsize =(7, 4))\n",
        "sns.set_style('darkgrid')\n",
        "avaliacao = pd.DataFrame(data = np.random.random(size=(5,2)), columns = ['conceito_medio_graduacao','igc_continuo'])\n",
        "sns.boxplot(x=\"variable\", y=\"value\", data=pd.melt(avaliacao), palette=\"crest\")\n",
        "plt.title(\"AVALIAÇÃO DAS IES\", loc=\"center\", fontsize=14)\n",
        "plt.xlabel('Índices de Qualidade', fontsize=13)\n",
        "plt.ylabel('Valor')\n",
        "plt.savefig('outliers_avaliacao.png', transparent = True)"
      ],
      "execution_count": 84,
      "outputs": [
        {
          "output_type": "display_data",
          "data": {
            "image/png": "[encoded data removed]",
            "text/plain": [
              "<Figure size 504x288 with 1 Axes>"
            ]
          },
          "metadata": {}
        }
      ]
    },
    {
      "cell_type": "markdown",
      "metadata": {
        "id": "5wJ5QpR-nKNB"
      },
      "source": [
        "Como o boxplot não mostra a existência de outliers, não será necessário fazer nenhum tratamento referente ao assunto."
      ]
    },
    {
      "cell_type": "markdown",
      "metadata": {
        "id": "0jmA8Uf7ciZy"
      },
      "source": [
        "###2.2.Normalização"
      ]
    },
    {
      "cell_type": "code",
      "metadata": {
        "id": "os1hIFHig-w9",
        "colab": {
          "base_uri": "https://localhost:8080/"
        },
        "outputId": "6c6323ef-3065-4d52-c7f3-a6ef74fe8f32"
      },
      "source": [
        "#Colunas para normalizar\n",
        "features_to_normalize = ['alunos_deficiencia','num_recursos_medio', 'num_curso', 'receitas','despesa_investimento', 'conceito_medio_graduacao', 'igc_continuo']\n",
        "\n",
        "novo_ies[features_to_normalize] = novo_ies[features_to_normalize].apply(lambda x:(x-x.min()) / (x.max()-x.min()))"
      ],
      "execution_count": 48,
      "outputs": [
        {
          "output_type": "stream",
          "name": "stderr",
          "text": [
            "/usr/local/lib/python3.7/dist-packages/pandas/core/frame.py:3069: SettingWithCopyWarning:\n",
            "\n",
            "\n",
            "A value is trying to be set on a copy of a slice from a DataFrame.\n",
            "Try using .loc[row_indexer,col_indexer] = value instead\n",
            "\n",
            "See the caveats in the documentation: https://pandas.pydata.org/pandas-docs/stable/user_guide/indexing.html#returning-a-view-versus-a-copy\n",
            "\n"
          ]
        }
      ]
    },
    {
      "cell_type": "code",
      "metadata": {
        "colab": {
          "base_uri": "https://localhost:8080/",
          "height": 226
        },
        "id": "OsIPjzh9nrYy",
        "outputId": "eba4bb74-7499-4c3c-df95-1f6a05bbfe67"
      },
      "source": [
        "#Dataframe normalizado\n",
        "df_ies = novo_ies[['alunos_deficiencia','num_recursos_medio', 'num_curso', 'receitas','despesa_investimento', 'conceito_medio_graduacao','igc_continuo']]\n",
        "df_ies.head()"
      ],
      "execution_count": 49,
      "outputs": [
        {
          "output_type": "execute_result",
          "data": {
            "text/html": [
              "<div>\n",
              "<style scoped>\n",
              "    .dataframe tbody tr th:only-of-type {\n",
              "        vertical-align: middle;\n",
              "    }\n",
              "\n",
              "    .dataframe tbody tr th {\n",
              "        vertical-align: top;\n",
              "    }\n",
              "\n",
              "    .dataframe thead th {\n",
              "        text-align: right;\n",
              "    }\n",
              "</style>\n",
              "<table border=\"1\" class=\"dataframe\">\n",
              "  <thead>\n",
              "    <tr style=\"text-align: right;\">\n",
              "      <th></th>\n",
              "      <th>alunos_deficiencia</th>\n",
              "      <th>num_recursos_medio</th>\n",
              "      <th>num_curso</th>\n",
              "      <th>receitas</th>\n",
              "      <th>despesa_investimento</th>\n",
              "      <th>conceito_medio_graduacao</th>\n",
              "      <th>igc_continuo</th>\n",
              "    </tr>\n",
              "  </thead>\n",
              "  <tbody>\n",
              "    <tr>\n",
              "      <th>0</th>\n",
              "      <td>0.182510</td>\n",
              "      <td>0.119883</td>\n",
              "      <td>0.121899</td>\n",
              "      <td>0.256769</td>\n",
              "      <td>0.335043</td>\n",
              "      <td>0.608532</td>\n",
              "      <td>0.609677</td>\n",
              "    </tr>\n",
              "    <tr>\n",
              "      <th>1</th>\n",
              "      <td>0.108637</td>\n",
              "      <td>0.998322</td>\n",
              "      <td>0.159655</td>\n",
              "      <td>0.044246</td>\n",
              "      <td>0.807575</td>\n",
              "      <td>0.744287</td>\n",
              "      <td>0.841264</td>\n",
              "    </tr>\n",
              "    <tr>\n",
              "      <th>2</th>\n",
              "      <td>0.243346</td>\n",
              "      <td>0.234914</td>\n",
              "      <td>0.124056</td>\n",
              "      <td>0.261931</td>\n",
              "      <td>0.286423</td>\n",
              "      <td>0.679650</td>\n",
              "      <td>0.652726</td>\n",
              "    </tr>\n",
              "    <tr>\n",
              "      <th>3</th>\n",
              "      <td>0.129278</td>\n",
              "      <td>0.081776</td>\n",
              "      <td>0.114347</td>\n",
              "      <td>0.296527</td>\n",
              "      <td>0.442110</td>\n",
              "      <td>0.567915</td>\n",
              "      <td>0.547824</td>\n",
              "    </tr>\n",
              "    <tr>\n",
              "      <th>4</th>\n",
              "      <td>0.241173</td>\n",
              "      <td>0.828333</td>\n",
              "      <td>0.106796</td>\n",
              "      <td>0.237066</td>\n",
              "      <td>0.273287</td>\n",
              "      <td>0.525147</td>\n",
              "      <td>0.519077</td>\n",
              "    </tr>\n",
              "  </tbody>\n",
              "</table>\n",
              "</div>"
            ],
            "text/plain": [
              "   alunos_deficiencia  ...  igc_continuo\n",
              "0            0.182510  ...      0.609677\n",
              "1            0.108637  ...      0.841264\n",
              "2            0.243346  ...      0.652726\n",
              "3            0.129278  ...      0.547824\n",
              "4            0.241173  ...      0.519077\n",
              "\n",
              "[5 rows x 7 columns]"
            ]
          },
          "metadata": {},
          "execution_count": 49
        }
      ]
    },
    {
      "cell_type": "markdown",
      "metadata": {
        "id": "lS6qY6wAco7M"
      },
      "source": [
        "###2.3.Matriz de Correlação"
      ]
    },
    {
      "cell_type": "code",
      "metadata": {
        "colab": {
          "base_uri": "https://localhost:8080/",
          "height": 451
        },
        "id": "ldntnc2KoHKY",
        "outputId": "3ffa7837-e454-4d32-d4cc-5d2dd8cbbdbd"
      },
      "source": [
        "plt.figure(figsize =(15, 6))\n",
        "sns.heatmap(df_ies.corr(), vmin = -1, vmax = +1, annot = True, cmap = 'crest')\n",
        "plt.tick_params(axis='x', rotation=25)\n",
        "plt.title(\"MATRIZ DE CORRELAÇÃO\", fontsize=14)\n",
        "plt.savefig('matriz_correlacao.png', transparent = True)"
      ],
      "execution_count": 50,
      "outputs": [
        {
          "output_type": "display_data",
          "data": {
            "image/png": "[encoded data removed]",
            "text/plain": [
              "<Figure size 1080x432 with 2 Axes>"
            ]
          },
          "metadata": {
            "needs_background": "light"
          }
        }
      ]
    },
    {
      "cell_type": "markdown",
      "metadata": {
        "id": "KM9G5Sa-opyD"
      },
      "source": [
        "Como as variáveis \"conceito médio da graduação\" e \"igc contínuo\" possuem uma forte correlaçao, vamos retirar uma delas para usarmos no nosso modelo"
      ]
    },
    {
      "cell_type": "code",
      "metadata": {
        "colab": {
          "base_uri": "https://localhost:8080/",
          "height": 206
        },
        "id": "j3nOXwQ9o3xf",
        "outputId": "928f31d7-dd79-4252-e91d-79fea12cec4f"
      },
      "source": [
        "#Dataframe finalizado\n",
        "df_ies = df_ies[['alunos_deficiencia','num_recursos_medio', 'num_curso', 'receitas','despesa_investimento', 'conceito_medio_graduacao']]\n",
        "df_ies.head()"
      ],
      "execution_count": 51,
      "outputs": [
        {
          "output_type": "execute_result",
          "data": {
            "text/html": [
              "<div>\n",
              "<style scoped>\n",
              "    .dataframe tbody tr th:only-of-type {\n",
              "        vertical-align: middle;\n",
              "    }\n",
              "\n",
              "    .dataframe tbody tr th {\n",
              "        vertical-align: top;\n",
              "    }\n",
              "\n",
              "    .dataframe thead th {\n",
              "        text-align: right;\n",
              "    }\n",
              "</style>\n",
              "<table border=\"1\" class=\"dataframe\">\n",
              "  <thead>\n",
              "    <tr style=\"text-align: right;\">\n",
              "      <th></th>\n",
              "      <th>alunos_deficiencia</th>\n",
              "      <th>num_recursos_medio</th>\n",
              "      <th>num_curso</th>\n",
              "      <th>receitas</th>\n",
              "      <th>despesa_investimento</th>\n",
              "      <th>conceito_medio_graduacao</th>\n",
              "    </tr>\n",
              "  </thead>\n",
              "  <tbody>\n",
              "    <tr>\n",
              "      <th>0</th>\n",
              "      <td>0.182510</td>\n",
              "      <td>0.119883</td>\n",
              "      <td>0.121899</td>\n",
              "      <td>0.256769</td>\n",
              "      <td>0.335043</td>\n",
              "      <td>0.608532</td>\n",
              "    </tr>\n",
              "    <tr>\n",
              "      <th>1</th>\n",
              "      <td>0.108637</td>\n",
              "      <td>0.998322</td>\n",
              "      <td>0.159655</td>\n",
              "      <td>0.044246</td>\n",
              "      <td>0.807575</td>\n",
              "      <td>0.744287</td>\n",
              "    </tr>\n",
              "    <tr>\n",
              "      <th>2</th>\n",
              "      <td>0.243346</td>\n",
              "      <td>0.234914</td>\n",
              "      <td>0.124056</td>\n",
              "      <td>0.261931</td>\n",
              "      <td>0.286423</td>\n",
              "      <td>0.679650</td>\n",
              "    </tr>\n",
              "    <tr>\n",
              "      <th>3</th>\n",
              "      <td>0.129278</td>\n",
              "      <td>0.081776</td>\n",
              "      <td>0.114347</td>\n",
              "      <td>0.296527</td>\n",
              "      <td>0.442110</td>\n",
              "      <td>0.567915</td>\n",
              "    </tr>\n",
              "    <tr>\n",
              "      <th>4</th>\n",
              "      <td>0.241173</td>\n",
              "      <td>0.828333</td>\n",
              "      <td>0.106796</td>\n",
              "      <td>0.237066</td>\n",
              "      <td>0.273287</td>\n",
              "      <td>0.525147</td>\n",
              "    </tr>\n",
              "  </tbody>\n",
              "</table>\n",
              "</div>"
            ],
            "text/plain": [
              "   alunos_deficiencia  ...  conceito_medio_graduacao\n",
              "0            0.182510  ...                  0.608532\n",
              "1            0.108637  ...                  0.744287\n",
              "2            0.243346  ...                  0.679650\n",
              "3            0.129278  ...                  0.567915\n",
              "4            0.241173  ...                  0.525147\n",
              "\n",
              "[5 rows x 6 columns]"
            ]
          },
          "metadata": {},
          "execution_count": 51
        }
      ]
    },
    {
      "cell_type": "markdown",
      "metadata": {
        "id": "4mGwFARQJ0M2"
      },
      "source": [
        "##3.Clustering"
      ]
    },
    {
      "cell_type": "markdown",
      "metadata": {
        "id": "wdwh44mpzK9-"
      },
      "source": [
        "###3.1.Método da Silhueta\n",
        "#####Código de: MIT © Etzion Harari"
      ]
    },
    {
      "cell_type": "code",
      "metadata": {
        "id": "bdzI_w2t6Z4_"
      },
      "source": [
        "faixa_n_clusters = [i for i in range(2,10)]\n",
        "valores_silhueta = []\n",
        "for k in faixa_n_clusters:\n",
        "    agrupador = KMeans(n_clusters=k, random_state=10) #random state para inicializar sempre no mesmo local\n",
        "    labels = agrupador.fit_predict(df_ies)\n",
        "    media_silhueta = silhouette_score(df_ies, labels)\n",
        "    valores_silhueta.append(media_silhueta)"
      ],
      "execution_count": 52,
      "outputs": []
    },
    {
      "cell_type": "code",
      "metadata": {
        "colab": {
          "base_uri": "https://localhost:8080/"
        },
        "id": "hBxHmPSBID3i",
        "outputId": "2f1e204a-f935-4d42-9cc5-eefb1669d6dc"
      },
      "source": [
        "valores_silhueta"
      ],
      "execution_count": 53,
      "outputs": [
        {
          "output_type": "execute_result",
          "data": {
            "text/plain": [
              "[0.32674216630204844,\n",
              " 0.3315555242899342,\n",
              " 0.33075421501339214,\n",
              " 0.27599849092163514,\n",
              " 0.28258561097667456,\n",
              " 0.27494541940865064,\n",
              " 0.26457649450721343,\n",
              " 0.26291276862123186]"
            ]
          },
          "metadata": {},
          "execution_count": 53
        }
      ]
    },
    {
      "cell_type": "code",
      "metadata": {
        "colab": {
          "base_uri": "https://localhost:8080/",
          "height": 299
        },
        "id": "E_JcX_FRIL9_",
        "outputId": "5297cee1-0c75-4c63-fe87-0a0b7b1f2e1e"
      },
      "source": [
        "plt.figure(figsize =(7, 4))\n",
        "sns.lineplot(x=faixa_n_clusters, y=valores_silhueta, palette='crest')\n",
        "plt.title(\"COEFICIENTE DE SILHUETA\", fontsize=14)\n",
        "plt.xlabel('Valores de ‘k’', fontsize=13)\n",
        "plt.ylabel('Coeficiente de Silhueta', fontsize=13)\n",
        "plt.savefig('coeficiente_silhueta.png', transparent = True)"
      ],
      "execution_count": 54,
      "outputs": [
        {
          "output_type": "display_data",
          "data": {
            "image/png": "[encoded data removed]",
            "text/plain": [
              "<Figure size 504x288 with 1 Axes>"
            ]
          },
          "metadata": {
            "needs_background": "light"
          }
        }
      ]
    },
    {
      "cell_type": "markdown",
      "metadata": {
        "id": "yAXvsgQSdFVL"
      },
      "source": [
        "###3.2.K-Means"
      ]
    },
    {
      "cell_type": "code",
      "metadata": {
        "colab": {
          "base_uri": "https://localhost:8080/",
          "height": 206
        },
        "id": "WaeIJwRkAFMI",
        "outputId": "42ceb151-57cd-44f7-ffe5-300c37e9eec1"
      },
      "source": [
        "#Dados para o clustering\n",
        "df_ies.head()"
      ],
      "execution_count": 55,
      "outputs": [
        {
          "output_type": "execute_result",
          "data": {
            "text/html": [
              "<div>\n",
              "<style scoped>\n",
              "    .dataframe tbody tr th:only-of-type {\n",
              "        vertical-align: middle;\n",
              "    }\n",
              "\n",
              "    .dataframe tbody tr th {\n",
              "        vertical-align: top;\n",
              "    }\n",
              "\n",
              "    .dataframe thead th {\n",
              "        text-align: right;\n",
              "    }\n",
              "</style>\n",
              "<table border=\"1\" class=\"dataframe\">\n",
              "  <thead>\n",
              "    <tr style=\"text-align: right;\">\n",
              "      <th></th>\n",
              "      <th>alunos_deficiencia</th>\n",
              "      <th>num_recursos_medio</th>\n",
              "      <th>num_curso</th>\n",
              "      <th>receitas</th>\n",
              "      <th>despesa_investimento</th>\n",
              "      <th>conceito_medio_graduacao</th>\n",
              "    </tr>\n",
              "  </thead>\n",
              "  <tbody>\n",
              "    <tr>\n",
              "      <th>0</th>\n",
              "      <td>0.182510</td>\n",
              "      <td>0.119883</td>\n",
              "      <td>0.121899</td>\n",
              "      <td>0.256769</td>\n",
              "      <td>0.335043</td>\n",
              "      <td>0.608532</td>\n",
              "    </tr>\n",
              "    <tr>\n",
              "      <th>1</th>\n",
              "      <td>0.108637</td>\n",
              "      <td>0.998322</td>\n",
              "      <td>0.159655</td>\n",
              "      <td>0.044246</td>\n",
              "      <td>0.807575</td>\n",
              "      <td>0.744287</td>\n",
              "    </tr>\n",
              "    <tr>\n",
              "      <th>2</th>\n",
              "      <td>0.243346</td>\n",
              "      <td>0.234914</td>\n",
              "      <td>0.124056</td>\n",
              "      <td>0.261931</td>\n",
              "      <td>0.286423</td>\n",
              "      <td>0.679650</td>\n",
              "    </tr>\n",
              "    <tr>\n",
              "      <th>3</th>\n",
              "      <td>0.129278</td>\n",
              "      <td>0.081776</td>\n",
              "      <td>0.114347</td>\n",
              "      <td>0.296527</td>\n",
              "      <td>0.442110</td>\n",
              "      <td>0.567915</td>\n",
              "    </tr>\n",
              "    <tr>\n",
              "      <th>4</th>\n",
              "      <td>0.241173</td>\n",
              "      <td>0.828333</td>\n",
              "      <td>0.106796</td>\n",
              "      <td>0.237066</td>\n",
              "      <td>0.273287</td>\n",
              "      <td>0.525147</td>\n",
              "    </tr>\n",
              "  </tbody>\n",
              "</table>\n",
              "</div>"
            ],
            "text/plain": [
              "   alunos_deficiencia  ...  conceito_medio_graduacao\n",
              "0            0.182510  ...                  0.608532\n",
              "1            0.108637  ...                  0.744287\n",
              "2            0.243346  ...                  0.679650\n",
              "3            0.129278  ...                  0.567915\n",
              "4            0.241173  ...                  0.525147\n",
              "\n",
              "[5 rows x 6 columns]"
            ]
          },
          "metadata": {},
          "execution_count": 55
        }
      ]
    },
    {
      "cell_type": "markdown",
      "metadata": {
        "id": "g8ExoE-vAlAe"
      },
      "source": [
        "Vamos adotar o número de 3 clusters, pois foi o teve o melhor escore no método da silhueta"
      ]
    },
    {
      "cell_type": "markdown",
      "metadata": {
        "id": "aXfiTpa9LOqT"
      },
      "source": [
        "###3.2.1 Recursos de Acessibilidade x Conceito Médio da Graduação"
      ]
    },
    {
      "cell_type": "code",
      "metadata": {
        "colab": {
          "base_uri": "https://localhost:8080/"
        },
        "id": "xePZva0K_ysx",
        "outputId": "bf0be4d0-4815-4bb7-c0d2-ce824d5b3824"
      },
      "source": [
        "#Inicializando e Computando o KMeans com o valor de 3 clusters:\n",
        "X1 = df_ies[['num_recursos_medio', 'conceito_medio_graduacao']].iloc[: , :].values\n",
        "algorithm = (KMeans(n_clusters = 3))\n",
        "algorithm.fit(X1)"
      ],
      "execution_count": 56,
      "outputs": [
        {
          "output_type": "execute_result",
          "data": {
            "text/plain": [
              "KMeans(n_clusters=3)"
            ]
          },
          "metadata": {},
          "execution_count": 56
        }
      ]
    },
    {
      "cell_type": "code",
      "metadata": {
        "colab": {
          "base_uri": "https://localhost:8080/",
          "height": 459
        },
        "id": "1SNpGR0k1xAQ",
        "outputId": "0cccac99-f11b-4ffe-95a0-dd73175c5d8d"
      },
      "source": [
        "#Visualizando os grupos criados e seus centroides:\n",
        "labels2 = algorithm.labels_\n",
        "centroids2 = algorithm.cluster_centers_\n",
        "\n",
        "h = 0.02\n",
        "x_min, x_max = X1[:, 0].min() - 1, X1[:, 0].max() + 1\n",
        "y_min, y_max = X1[:, 1].min() - 1, X1[:, 1].max() + 1\n",
        "xx, yy = np.meshgrid(np.arange(x_min, x_max, h), np.arange(y_min, y_max, h))\n",
        "Z = algorithm.predict(np.c_[xx.ravel(), yy.ravel()]) \n",
        "\n",
        "plt.figure(1 , figsize = (7,7) )\n",
        "plt.clf()\n",
        "Z2 = Z.reshape(xx.shape)\n",
        "cmap = sns.color_palette(\"crest\", as_cmap=True)\n",
        "plt.imshow(Z2, extent=(xx.min(), xx.max(), yy.min(), yy.max()), cmap = cmap, alpha=0.2)\n",
        "plt.scatter(x = 'num_recursos_medio', y = 'conceito_medio_graduacao', data = df_ies , c = labels2 , s = 25, cmap='crest')\n",
        "plt.scatter(x = centroids2[: , 0] , y =  centroids2[: , 1] , s = 50 , c = 'yellow' , alpha = 1)\n",
        "plt.xlim(-0.2,1.2), plt.ylim(-0.2,1.2)\n",
        "plt.title(\"CLUSTER 1\", fontsize=14)\n",
        "plt.ylabel('Conceito Médio da Graduação') , plt.xlabel('Recursos de Acessibilidade')\n",
        "plt.savefig('k-means1.png', transparent = True)"
      ],
      "execution_count": 57,
      "outputs": [
        {
          "output_type": "display_data",
          "data": {
            "image/png": "[encoded data removed]",
            "text/plain": [
              "<Figure size 504x504 with 1 Axes>"
            ]
          },
          "metadata": {
            "needs_background": "light"
          }
        }
      ]
    },
    {
      "cell_type": "markdown",
      "metadata": {
        "id": "62B_-5OZLnkt"
      },
      "source": [
        "###3.2.2 Alunos com Deficiência x Conceito Médio da Graduação"
      ]
    },
    {
      "cell_type": "code",
      "metadata": {
        "colab": {
          "base_uri": "https://localhost:8080/"
        },
        "id": "Gm36SPpILv-_",
        "outputId": "d644124e-a10b-443f-c0d3-731fc635351c"
      },
      "source": [
        "#Inicializando e Computando o KMeans com o valor de 3 clusters:\n",
        "X2 = df_ies[['conceito_medio_graduacao', 'alunos_deficiencia']].iloc[: , :].values\n",
        "algorithm = (KMeans(n_clusters = 3))\n",
        "algorithm.fit(X2)"
      ],
      "execution_count": 58,
      "outputs": [
        {
          "output_type": "execute_result",
          "data": {
            "text/plain": [
              "KMeans(n_clusters=3)"
            ]
          },
          "metadata": {},
          "execution_count": 58
        }
      ]
    },
    {
      "cell_type": "code",
      "metadata": {
        "colab": {
          "base_uri": "https://localhost:8080/",
          "height": 462
        },
        "id": "tC_6_dcmJuRp",
        "outputId": "25fbc2d4-015f-4e5d-bfef-9f97d697d11b"
      },
      "source": [
        "#Visualizando os grupos criados e seus centroides:\n",
        "labels2 = algorithm.labels_\n",
        "centroids2 = algorithm.cluster_centers_\n",
        "\n",
        "h = 0.02\n",
        "x_min, x_max = X2[:, 0].min() - 1, X2[:, 0].max() + 1\n",
        "y_min, y_max = X2[:, 1].min() - 1, X2[:, 1].max() + 1\n",
        "xx, yy = np.meshgrid(np.arange(x_min, x_max, h), np.arange(y_min, y_max, h))\n",
        "Z = algorithm.predict(np.c_[xx.ravel(), yy.ravel()]) \n",
        "\n",
        "plt.figure(1 , figsize = (7,7))\n",
        "plt.clf()\n",
        "Z2 = Z.reshape(xx.shape)\n",
        "cmap = sns.color_palette(\"crest\", as_cmap=True)\n",
        "plt.imshow(Z2 , interpolation='nearest', extent=(xx.min(), xx.max(), yy.min(), yy.max()), cmap = cmap, aspect = 'auto', origin='lower', alpha=0.2)\n",
        "plt.scatter(x = 'conceito_medio_graduacao', y = 'alunos_deficiencia', data = df_ies , c = labels2 , s = 25, cmap='crest')\n",
        "plt.scatter(x = centroids2[: , 0] , y =  centroids2[: , 1] , s = 50 , c = 'yellow' , alpha = 1)\n",
        "plt.xlim(-0.2,1.2), plt.ylim(-0.2,1.2)\n",
        "plt.title(\"CLUSTER 2\", fontsize=14)\n",
        "plt.ylabel('Conceito Médio da Graduação', fontsize=13) , plt.xlabel('Alunos com Deficiência', fontsize=13)\n",
        "plt.savefig('k-means2.png', transparent = True)\n",
        "plt.show()"
      ],
      "execution_count": 59,
      "outputs": [
        {
          "output_type": "display_data",
          "data": {
            "image/png": "[encoded data removed]",
            "text/plain": [
              "<Figure size 504x504 with 1 Axes>"
            ]
          },
          "metadata": {
            "needs_background": "light"
          }
        }
      ]
    },
    {
      "cell_type": "markdown",
      "metadata": {
        "id": "VH2sZQK8OPjB"
      },
      "source": [
        "###3.2.3 Recursos Acessibilidade x Alunos com Deficiência"
      ]
    },
    {
      "cell_type": "code",
      "metadata": {
        "colab": {
          "base_uri": "https://localhost:8080/"
        },
        "id": "3qUkgGHTOWOm",
        "outputId": "98ff9ffd-1f71-4946-be54-2b157c31517c"
      },
      "source": [
        "#Inicializando e Computando o KMeans com o valor de 3 clusters:\n",
        "X3 = df_ies[['num_recursos_medio', 'alunos_deficiencia']].iloc[: , :].values\n",
        "algorithm = (KMeans(n_clusters = 3))\n",
        "algorithm.fit(X3)"
      ],
      "execution_count": 60,
      "outputs": [
        {
          "output_type": "execute_result",
          "data": {
            "text/plain": [
              "KMeans(n_clusters=3)"
            ]
          },
          "metadata": {},
          "execution_count": 60
        }
      ]
    },
    {
      "cell_type": "code",
      "metadata": {
        "colab": {
          "base_uri": "https://localhost:8080/",
          "height": 462
        },
        "id": "SrK0lcKiKiQV",
        "outputId": "e8ed1fe7-05fd-42d6-c8c6-4440a97061ff"
      },
      "source": [
        "#Visualizando os grupos criados e seus centroides:\n",
        "labels2 = algorithm.labels_\n",
        "centroids2 = algorithm.cluster_centers_\n",
        "\n",
        "h = 0.02\n",
        "x_min, x_max = X3[:, 0].min() - 1, X3[:, 0].max() + 1\n",
        "y_min, y_max = X3[:, 1].min() - 1, X3[:, 1].max() + 1\n",
        "xx, yy = np.meshgrid(np.arange(x_min, x_max, h), np.arange(y_min, y_max, h))\n",
        "Z = algorithm.predict(np.c_[xx.ravel(), yy.ravel()]) \n",
        "\n",
        "plt.figure(1 , figsize = (7,7) )\n",
        "plt.clf()\n",
        "Z2 = Z.reshape(xx.shape)\n",
        "cmap = sns.color_palette(\"crest\", as_cmap=True)\n",
        "plt.imshow(Z2 , interpolation='nearest', extent=(xx.min(), xx.max(), yy.min(), yy.max()), cmap = cmap, aspect = 'auto', origin='lower', alpha=0.2)\n",
        "plt.scatter(x = 'num_recursos_medio', y = 'alunos_deficiencia', data = df_ies , c = labels2 , s = 25, cmap='crest')\n",
        "plt.scatter(x = centroids2[: , 0] , y =  centroids2[: , 1] , s = 50 , c = 'yellow' , alpha = 1)\n",
        "plt.xlim(-0.2,1.2), plt.ylim(-0.2,1.2)\n",
        "plt.title(\"CLUSTER 3\", fontsize=14)\n",
        "plt.ylabel('Recursos de Acessibilidade', fontsize=13) , plt.xlabel('Alunos com Deficiência', fontsize=13)\n",
        "plt.savefig('k-means3.png', transparent = True)\n",
        "plt.show()"
      ],
      "execution_count": 61,
      "outputs": [
        {
          "output_type": "display_data",
          "data": {
            "image/png": "[encoded data removed]",
            "text/plain": [
              "<Figure size 504x504 with 1 Axes>"
            ]
          },
          "metadata": {
            "needs_background": "light"
          }
        }
      ]
    },
    {
      "cell_type": "markdown",
      "metadata": {
        "id": "Te6jMsM0PRNk"
      },
      "source": [
        "###3.2.4 Recursos Acessibilidade x Receitas da IES"
      ]
    },
    {
      "cell_type": "code",
      "metadata": {
        "colab": {
          "base_uri": "https://localhost:8080/"
        },
        "id": "mwGOYRZyQIZh",
        "outputId": "1286e5de-9652-47a4-a9f4-b164deac58e7"
      },
      "source": [
        "#Inicializando e Computando o KMeans com o valor de 3 clusters:\n",
        "X4 = df_ies[['num_recursos_medio', 'receitas']].iloc[: , :].values\n",
        "algorithm = (KMeans(n_clusters = 3))\n",
        "algorithm.fit(X4)"
      ],
      "execution_count": 62,
      "outputs": [
        {
          "output_type": "execute_result",
          "data": {
            "text/plain": [
              "KMeans(n_clusters=3)"
            ]
          },
          "metadata": {},
          "execution_count": 62
        }
      ]
    },
    {
      "cell_type": "code",
      "metadata": {
        "colab": {
          "base_uri": "https://localhost:8080/",
          "height": 462
        },
        "id": "2TBZBvReQVKf",
        "outputId": "59cadae3-0fde-46c5-a75e-00e8195b2501"
      },
      "source": [
        "#Visualizando os grupos criados e seus centroides:\n",
        "labels2 = algorithm.labels_\n",
        "centroids2 = algorithm.cluster_centers_\n",
        "\n",
        "h = 0.02\n",
        "x_min, x_max = X4[:, 0].min() - 1, X4[:, 0].max() + 1\n",
        "y_min, y_max = X4[:, 1].min() - 1, X4[:, 1].max() + 1\n",
        "xx, yy = np.meshgrid(np.arange(x_min, x_max, h), np.arange(y_min, y_max, h))\n",
        "Z = algorithm.predict(np.c_[xx.ravel(), yy.ravel()]) \n",
        "\n",
        "plt.figure(1 , figsize = (7,7) )\n",
        "plt.clf()\n",
        "Z2 = Z.reshape(xx.shape)\n",
        "cmap = sns.color_palette(\"crest\", as_cmap=True)\n",
        "plt.imshow(Z2 , interpolation='nearest', extent=(xx.min(), xx.max(), yy.min(), yy.max()), cmap = cmap, aspect = 'auto', origin='lower', alpha=0.2)\n",
        "plt.scatter(x = 'num_recursos_medio', y = 'receitas', data = df_ies , c = labels2 , s = 25, cmap='crest')\n",
        "plt.scatter(x = centroids2[: , 0] , y =  centroids2[: , 1] , s = 50 , c = 'yellow' , alpha = 1)\n",
        "plt.xlim(-0.2,1.2), plt.ylim(-0.2,1.2)\n",
        "plt.title(\"CLUSTER 4\", fontsize=14)\n",
        "plt.ylabel('Recursos de Acessibilidade', fontsize=13) , plt.xlabel('Receitas da IES', fontsize=13)\n",
        "plt.savefig('k-means4.png', transparent = True)\n",
        "plt.show()"
      ],
      "execution_count": 63,
      "outputs": [
        {
          "output_type": "display_data",
          "data": {
            "image/png": "[encoded data removed]",
            "text/plain": [
              "<Figure size 504x504 with 1 Axes>"
            ]
          },
          "metadata": {
            "needs_background": "light"
          }
        }
      ]
    },
    {
      "cell_type": "markdown",
      "metadata": {
        "id": "9dh2zI3NQkuo"
      },
      "source": [
        "###3.2.5 Recursos Acessibilidade x Despesas com Investimentos da IES"
      ]
    },
    {
      "cell_type": "code",
      "metadata": {
        "id": "Tx-174IrQs-f",
        "colab": {
          "base_uri": "https://localhost:8080/"
        },
        "outputId": "f47c789c-f646-492a-d816-134d2331e703"
      },
      "source": [
        "X5 = df_ies[['num_recursos_medio', 'despesa_investimento']].iloc[: , :].values\n",
        "algorithm = KMeans(n_clusters=3)\n",
        "algorithm.fit(X5)"
      ],
      "execution_count": 64,
      "outputs": [
        {
          "output_type": "execute_result",
          "data": {
            "text/plain": [
              "KMeans(n_clusters=3)"
            ]
          },
          "metadata": {},
          "execution_count": 64
        }
      ]
    },
    {
      "cell_type": "code",
      "metadata": {
        "colab": {
          "base_uri": "https://localhost:8080/",
          "height": 462
        },
        "id": "PrIUHTRnQs1V",
        "outputId": "c8a5d941-2d7d-4324-ec53-3398a6b8dda2"
      },
      "source": [
        "#Visualizando os grupos criados e seus centroides:\n",
        "labels2 = algorithm.labels_\n",
        "centroids2 = algorithm.cluster_centers_\n",
        "\n",
        "h = 0.02\n",
        "x_min, x_max = X5[:, 0].min() - 1, X5[:, 0].max() + 1\n",
        "y_min, y_max = X5[:, 1].min() - 1, X5[:, 1].max() + 1\n",
        "xx, yy = np.meshgrid(np.arange(x_min, x_max, h), np.arange(y_min, y_max, h))\n",
        "Z = algorithm.predict(np.c_[xx.ravel(), yy.ravel()]) \n",
        "\n",
        "plt.figure(1 , figsize = (7,7) )\n",
        "plt.clf()\n",
        "Z2 = Z.reshape(xx.shape)\n",
        "cmap = sns.color_palette(\"crest\", as_cmap=True)\n",
        "plt.imshow(Z2 , interpolation='nearest', extent=(xx.min(), xx.max(), yy.min(), yy.max()), cmap = cmap, aspect = 'auto', origin='lower', alpha=0.2)\n",
        "plt.scatter(x = 'num_recursos_medio', y = 'despesa_investimento', data = df_ies , c = labels2 , s = 25, cmap='crest')\n",
        "plt.scatter(x = centroids2[: , 0] , y =  centroids2[: , 1] , s = 50 , c = 'yellow' , alpha = 1)\n",
        "plt.xlim(-0.2,1.2), plt.ylim(-0.2,1.2)\n",
        "plt.title(\"CLUSTER 5\", fontsize=14)\n",
        "plt.ylabel('Recursos de Acessibilidade', fontsize=13) , plt.xlabel('Despesas com Investimentos da IES', fontsize=13)\n",
        "plt.savefig('k-means5.png', transparent = True)\n",
        "plt.show()"
      ],
      "execution_count": 65,
      "outputs": [
        {
          "output_type": "display_data",
          "data": {
            "image/png": "[encoded data removed]",
            "text/plain": [
              "<Figure size 504x504 with 1 Axes>"
            ]
          },
          "metadata": {
            "needs_background": "light"
          }
        }
      ]
    }
  ]
}