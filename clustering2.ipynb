{
  "nbformat": 4,
  "nbformat_minor": 0,
  "metadata": {
    "colab": {
      "name": "clustering2.ipynb",
      "provenance": [],
      "collapsed_sections": [],
      "toc_visible": true,
      "authorship_tag": "ABX9TyP13a0tU0AYIujbp46O/mY2",
      "include_colab_link": true
    },
    "kernelspec": {
      "name": "python3",
      "display_name": "Python 3"
    },
    "language_info": {
      "name": "python"
    }
  },
  "cells": [
    {
      "cell_type": "markdown",
      "metadata": {
        "id": "view-in-github",
        "colab_type": "text"
      },
      "source": [
        "<a href=\"https://colab.research.google.com/github/roxacarv/edulearn/blob/main/clustering2.ipynb\" target=\"_parent\"><img src=\"https://colab.research.google.com/assets/colab-badge.svg\" alt=\"Open In Colab\"/></a>"
      ]
    },
    {
      "cell_type": "markdown",
      "metadata": {
        "id": "yMfEMPfbY-rx"
      },
      "source": [
        "#Edulearn - Clustering\n",
        "##IES\n",
        "---\n",
        "\n",
        "\n",
        "\n",
        "---"
      ]
    },
    {
      "cell_type": "code",
      "metadata": {
        "id": "PraEvtneZB6X"
      },
      "source": [
        "#Importando as bibliotecas\n",
        "import pandas as pd\n",
        "import matplotlib.pyplot as plt\n",
        "import plotly.graph_objects as go\n",
        "import seaborn as sns\n",
        "import numpy as np\n",
        "from sklearn.cluster import KMeans\n",
        "from sklearn.metrics import silhouette_score"
      ],
      "execution_count": 1,
      "outputs": []
    },
    {
      "cell_type": "markdown",
      "metadata": {
        "id": "68k061kKmu7v"
      },
      "source": [
        "## 1.Dados IES - INEP"
      ]
    },
    {
      "cell_type": "markdown",
      "metadata": {
        "id": "Y2LaAcaZuG2u"
      },
      "source": [
        "###1.1.Índice Geral dos Cursos (IGC)"
      ]
    },
    {
      "cell_type": "markdown",
      "metadata": {
        "id": "bzuRngkjdvHz"
      },
      "source": [
        " Índice referente à qualidade dos cursos, com resultado do desempenho das instituições de ensino superior do país"
      ]
    },
    {
      "cell_type": "code",
      "metadata": {
        "colab": {
          "base_uri": "https://localhost:8080/",
          "height": 206
        },
        "id": "ScWeqK1VshsW",
        "outputId": "c60e0255-07d5-4c21-af46-57820eeb1b5f"
      },
      "source": [
        "#Indicadores de Qualidade da Educação Superior (INEP)\n",
        "ies_igc = pd.read_excel('IGC_2019.xlsx', usecols=[1, 9, 14])\n",
        "ies_igc.head()"
      ],
      "execution_count": 2,
      "outputs": [
        {
          "output_type": "execute_result",
          "data": {
            "text/html": [
              "<div>\n",
              "<style scoped>\n",
              "    .dataframe tbody tr th:only-of-type {\n",
              "        vertical-align: middle;\n",
              "    }\n",
              "\n",
              "    .dataframe tbody tr th {\n",
              "        vertical-align: top;\n",
              "    }\n",
              "\n",
              "    .dataframe thead th {\n",
              "        text-align: right;\n",
              "    }\n",
              "</style>\n",
              "<table border=\"1\" class=\"dataframe\">\n",
              "  <thead>\n",
              "    <tr style=\"text-align: right;\">\n",
              "      <th></th>\n",
              "      <th>Código da IES</th>\n",
              "      <th>Conceito Médio de Graduação</th>\n",
              "      <th>IGC (Contínuo)</th>\n",
              "    </tr>\n",
              "  </thead>\n",
              "  <tbody>\n",
              "    <tr>\n",
              "      <th>0</th>\n",
              "      <td>1</td>\n",
              "      <td>2.924962</td>\n",
              "      <td>3.236518</td>\n",
              "    </tr>\n",
              "    <tr>\n",
              "      <th>1</th>\n",
              "      <td>2</td>\n",
              "      <td>3.269586</td>\n",
              "      <td>3.941659</td>\n",
              "    </tr>\n",
              "    <tr>\n",
              "      <th>2</th>\n",
              "      <td>3</td>\n",
              "      <td>3.105500</td>\n",
              "      <td>3.367594</td>\n",
              "    </tr>\n",
              "    <tr>\n",
              "      <th>3</th>\n",
              "      <td>4</td>\n",
              "      <td>2.821851</td>\n",
              "      <td>3.048187</td>\n",
              "    </tr>\n",
              "    <tr>\n",
              "      <th>4</th>\n",
              "      <td>5</td>\n",
              "      <td>2.713283</td>\n",
              "      <td>2.960657</td>\n",
              "    </tr>\n",
              "  </tbody>\n",
              "</table>\n",
              "</div>"
            ],
            "text/plain": [
              "    Código da IES   Conceito Médio de Graduação   IGC (Contínuo)\n",
              "0               1                      2.924962         3.236518\n",
              "1               2                      3.269586         3.941659\n",
              "2               3                      3.105500         3.367594\n",
              "3               4                      2.821851         3.048187\n",
              "4               5                      2.713283         2.960657"
            ]
          },
          "metadata": {},
          "execution_count": 2
        }
      ]
    },
    {
      "cell_type": "code",
      "metadata": {
        "colab": {
          "base_uri": "https://localhost:8080/"
        },
        "id": "POtNTIY9v4iH",
        "outputId": "8c0ca9d4-d78c-426f-b647-a5d0a7c996cb"
      },
      "source": [
        "ies_igc.columns"
      ],
      "execution_count": 3,
      "outputs": [
        {
          "output_type": "execute_result",
          "data": {
            "text/plain": [
              "Index([' Código da IES', ' Conceito Médio de Graduação', ' IGC (Contínuo)'], dtype='object')"
            ]
          },
          "metadata": {},
          "execution_count": 3
        }
      ]
    },
    {
      "cell_type": "code",
      "metadata": {
        "colab": {
          "base_uri": "https://localhost:8080/",
          "height": 206
        },
        "id": "0PclshufukUZ",
        "outputId": "ab302aa4-6cc7-49a6-e4f0-52d7f24ec4ab"
      },
      "source": [
        "#Renomeando as colunas\n",
        "ies_igc = ies_igc.rename(columns={\n",
        "    ' Código da IES':'cod_ies',\n",
        "    ' Conceito Médio de Graduação':'conceito_medio_graduacao',\n",
        "    ' IGC (Contínuo)':'igc_continuo',\n",
        "    })\n",
        "ies_igc.head()"
      ],
      "execution_count": 4,
      "outputs": [
        {
          "output_type": "execute_result",
          "data": {
            "text/html": [
              "<div>\n",
              "<style scoped>\n",
              "    .dataframe tbody tr th:only-of-type {\n",
              "        vertical-align: middle;\n",
              "    }\n",
              "\n",
              "    .dataframe tbody tr th {\n",
              "        vertical-align: top;\n",
              "    }\n",
              "\n",
              "    .dataframe thead th {\n",
              "        text-align: right;\n",
              "    }\n",
              "</style>\n",
              "<table border=\"1\" class=\"dataframe\">\n",
              "  <thead>\n",
              "    <tr style=\"text-align: right;\">\n",
              "      <th></th>\n",
              "      <th>cod_ies</th>\n",
              "      <th>conceito_medio_graduacao</th>\n",
              "      <th>igc_continuo</th>\n",
              "    </tr>\n",
              "  </thead>\n",
              "  <tbody>\n",
              "    <tr>\n",
              "      <th>0</th>\n",
              "      <td>1</td>\n",
              "      <td>2.924962</td>\n",
              "      <td>3.236518</td>\n",
              "    </tr>\n",
              "    <tr>\n",
              "      <th>1</th>\n",
              "      <td>2</td>\n",
              "      <td>3.269586</td>\n",
              "      <td>3.941659</td>\n",
              "    </tr>\n",
              "    <tr>\n",
              "      <th>2</th>\n",
              "      <td>3</td>\n",
              "      <td>3.105500</td>\n",
              "      <td>3.367594</td>\n",
              "    </tr>\n",
              "    <tr>\n",
              "      <th>3</th>\n",
              "      <td>4</td>\n",
              "      <td>2.821851</td>\n",
              "      <td>3.048187</td>\n",
              "    </tr>\n",
              "    <tr>\n",
              "      <th>4</th>\n",
              "      <td>5</td>\n",
              "      <td>2.713283</td>\n",
              "      <td>2.960657</td>\n",
              "    </tr>\n",
              "  </tbody>\n",
              "</table>\n",
              "</div>"
            ],
            "text/plain": [
              "   cod_ies  conceito_medio_graduacao  igc_continuo\n",
              "0        1                  2.924962      3.236518\n",
              "1        2                  3.269586      3.941659\n",
              "2        3                  3.105500      3.367594\n",
              "3        4                  2.821851      3.048187\n",
              "4        5                  2.713283      2.960657"
            ]
          },
          "metadata": {},
          "execution_count": 4
        }
      ]
    },
    {
      "cell_type": "markdown",
      "metadata": {
        "id": "kYygOgdJxkgV"
      },
      "source": [
        "### 1.2.Receitas das IES"
      ]
    },
    {
      "cell_type": "code",
      "metadata": {
        "colab": {
          "base_uri": "https://localhost:8080/",
          "height": 163
        },
        "id": "HOoB8sQgZLKi",
        "outputId": "01cee854-0664-4371-a090-6c9eee0615b2"
      },
      "source": [
        "ies_receitas = pd.read_csv('SUP_IES_2019.CSV', sep='|', encoding='latin1', usecols=['CO_IES','TP_CATEGORIA_ADMINISTRATIVA', 'VL_RECEITA_PROPRIA','VL_RECEITA_TRANSFERENCIA','VL_RECEITA_OUTRA','VL_DESPESA_PESSOAL_DOCENTE','VL_DESPESA_PESSOAL_TECNICO','VL_DESPESA_PESSOAL_ENCARGO','VL_DESPESA_CUSTEIO','VL_DESPESA_INVESTIMENTO','VL_DESPESA_PESQUISA','VL_DESPESA_OUTRA'])\n",
        "ies_receitas.head(3)"
      ],
      "execution_count": 5,
      "outputs": [
        {
          "output_type": "execute_result",
          "data": {
            "text/html": [
              "<div>\n",
              "<style scoped>\n",
              "    .dataframe tbody tr th:only-of-type {\n",
              "        vertical-align: middle;\n",
              "    }\n",
              "\n",
              "    .dataframe tbody tr th {\n",
              "        vertical-align: top;\n",
              "    }\n",
              "\n",
              "    .dataframe thead th {\n",
              "        text-align: right;\n",
              "    }\n",
              "</style>\n",
              "<table border=\"1\" class=\"dataframe\">\n",
              "  <thead>\n",
              "    <tr style=\"text-align: right;\">\n",
              "      <th></th>\n",
              "      <th>CO_IES</th>\n",
              "      <th>TP_CATEGORIA_ADMINISTRATIVA</th>\n",
              "      <th>VL_RECEITA_PROPRIA</th>\n",
              "      <th>VL_RECEITA_TRANSFERENCIA</th>\n",
              "      <th>VL_RECEITA_OUTRA</th>\n",
              "      <th>VL_DESPESA_PESSOAL_DOCENTE</th>\n",
              "      <th>VL_DESPESA_PESSOAL_TECNICO</th>\n",
              "      <th>VL_DESPESA_PESSOAL_ENCARGO</th>\n",
              "      <th>VL_DESPESA_CUSTEIO</th>\n",
              "      <th>VL_DESPESA_INVESTIMENTO</th>\n",
              "      <th>VL_DESPESA_PESQUISA</th>\n",
              "      <th>VL_DESPESA_OUTRA</th>\n",
              "    </tr>\n",
              "  </thead>\n",
              "  <tbody>\n",
              "    <tr>\n",
              "      <th>0</th>\n",
              "      <td>1</td>\n",
              "      <td>1</td>\n",
              "      <td>8075408.31</td>\n",
              "      <td>9.190156e+08</td>\n",
              "      <td>0.00</td>\n",
              "      <td>2.737906e+08</td>\n",
              "      <td>1.089490e+08</td>\n",
              "      <td>1.050124e+08</td>\n",
              "      <td>1.225790e+08</td>\n",
              "      <td>9606414.13</td>\n",
              "      <td>2512494.15</td>\n",
              "      <td>3.046410e+08</td>\n",
              "    </tr>\n",
              "    <tr>\n",
              "      <th>1</th>\n",
              "      <td>2</td>\n",
              "      <td>1</td>\n",
              "      <td>42309485.04</td>\n",
              "      <td>6.376632e+07</td>\n",
              "      <td>53681013.45</td>\n",
              "      <td>8.438613e+08</td>\n",
              "      <td>0.000000e+00</td>\n",
              "      <td>2.873756e+08</td>\n",
              "      <td>2.102659e+08</td>\n",
              "      <td>23154904.42</td>\n",
              "      <td>10350582.30</td>\n",
              "      <td>4.738549e+08</td>\n",
              "    </tr>\n",
              "    <tr>\n",
              "      <th>2</th>\n",
              "      <td>3</td>\n",
              "      <td>1</td>\n",
              "      <td>2064512.28</td>\n",
              "      <td>8.836851e+08</td>\n",
              "      <td>59978137.27</td>\n",
              "      <td>2.847694e+08</td>\n",
              "      <td>1.533374e+08</td>\n",
              "      <td>1.080347e+08</td>\n",
              "      <td>1.491604e+08</td>\n",
              "      <td>8212361.64</td>\n",
              "      <td>1445146.30</td>\n",
              "      <td>3.204186e+08</td>\n",
              "    </tr>\n",
              "  </tbody>\n",
              "</table>\n",
              "</div>"
            ],
            "text/plain": [
              "   CO_IES  TP_CATEGORIA_ADMINISTRATIVA  ...  VL_DESPESA_PESQUISA  VL_DESPESA_OUTRA\n",
              "0       1                            1  ...           2512494.15      3.046410e+08\n",
              "1       2                            1  ...          10350582.30      4.738549e+08\n",
              "2       3                            1  ...           1445146.30      3.204186e+08\n",
              "\n",
              "[3 rows x 12 columns]"
            ]
          },
          "metadata": {},
          "execution_count": 5
        }
      ]
    },
    {
      "cell_type": "code",
      "metadata": {
        "colab": {
          "base_uri": "https://localhost:8080/",
          "height": 226
        },
        "id": "gNZyZJtpzbuM",
        "outputId": "2ac83424-4f96-4949-f91b-3fd0ef4edff8"
      },
      "source": [
        "#Renomeando as colunas\n",
        "ies_receitas = ies_receitas.rename(columns={\n",
        "    'CO_IES':'cod_ies',\n",
        "    'TP_CATEGORIA_ADMINISTRATIVA':'categoria_administrativa',\n",
        "    'VL_RECEITA_PROPRIA':'receita_propria',\n",
        "    'VL_RECEITA_TRANSFERENCIA':'receita_transferencia',\n",
        "    'VL_RECEITA_OUTRA':'receita_outra',\n",
        "    'VL_DESPESA_PESSOAL_DOCENTE':'despesa_pessoal_docente',\n",
        "    'VL_DESPESA_PESSOAL_TECNICO':'despesa_pessoal_tecnico',\n",
        "    'VL_DESPESA_PESSOAL_ENCARGO':'despesa_pessoal_encargo',\n",
        "    'VL_DESPESA_CUSTEIO':'despesa_custeio',\n",
        "    'VL_DESPESA_INVESTIMENTO':'despesa_investimento',\n",
        "    'VL_DESPESA_PESQUISA':'despesa_pesquisa',\n",
        "    'VL_DESPESA_OUTRA':'despesa_outra',\n",
        "    })\n",
        "ies_receitas.head()"
      ],
      "execution_count": 6,
      "outputs": [
        {
          "output_type": "execute_result",
          "data": {
            "text/html": [
              "<div>\n",
              "<style scoped>\n",
              "    .dataframe tbody tr th:only-of-type {\n",
              "        vertical-align: middle;\n",
              "    }\n",
              "\n",
              "    .dataframe tbody tr th {\n",
              "        vertical-align: top;\n",
              "    }\n",
              "\n",
              "    .dataframe thead th {\n",
              "        text-align: right;\n",
              "    }\n",
              "</style>\n",
              "<table border=\"1\" class=\"dataframe\">\n",
              "  <thead>\n",
              "    <tr style=\"text-align: right;\">\n",
              "      <th></th>\n",
              "      <th>cod_ies</th>\n",
              "      <th>categoria_administrativa</th>\n",
              "      <th>receita_propria</th>\n",
              "      <th>receita_transferencia</th>\n",
              "      <th>receita_outra</th>\n",
              "      <th>despesa_pessoal_docente</th>\n",
              "      <th>despesa_pessoal_tecnico</th>\n",
              "      <th>despesa_pessoal_encargo</th>\n",
              "      <th>despesa_custeio</th>\n",
              "      <th>despesa_investimento</th>\n",
              "      <th>despesa_pesquisa</th>\n",
              "      <th>despesa_outra</th>\n",
              "    </tr>\n",
              "  </thead>\n",
              "  <tbody>\n",
              "    <tr>\n",
              "      <th>0</th>\n",
              "      <td>1</td>\n",
              "      <td>1</td>\n",
              "      <td>8075408.31</td>\n",
              "      <td>9.190156e+08</td>\n",
              "      <td>0.00</td>\n",
              "      <td>2.737906e+08</td>\n",
              "      <td>1.089490e+08</td>\n",
              "      <td>1.050124e+08</td>\n",
              "      <td>1.225790e+08</td>\n",
              "      <td>9606414.13</td>\n",
              "      <td>2512494.15</td>\n",
              "      <td>3.046410e+08</td>\n",
              "    </tr>\n",
              "    <tr>\n",
              "      <th>1</th>\n",
              "      <td>2</td>\n",
              "      <td>1</td>\n",
              "      <td>42309485.04</td>\n",
              "      <td>6.376632e+07</td>\n",
              "      <td>53681013.45</td>\n",
              "      <td>8.438613e+08</td>\n",
              "      <td>0.000000e+00</td>\n",
              "      <td>2.873756e+08</td>\n",
              "      <td>2.102659e+08</td>\n",
              "      <td>23154904.42</td>\n",
              "      <td>10350582.30</td>\n",
              "      <td>4.738549e+08</td>\n",
              "    </tr>\n",
              "    <tr>\n",
              "      <th>2</th>\n",
              "      <td>3</td>\n",
              "      <td>1</td>\n",
              "      <td>2064512.28</td>\n",
              "      <td>8.836851e+08</td>\n",
              "      <td>59978137.27</td>\n",
              "      <td>2.847694e+08</td>\n",
              "      <td>1.533374e+08</td>\n",
              "      <td>1.080347e+08</td>\n",
              "      <td>1.491604e+08</td>\n",
              "      <td>8212361.64</td>\n",
              "      <td>1445146.30</td>\n",
              "      <td>3.204186e+08</td>\n",
              "    </tr>\n",
              "    <tr>\n",
              "      <th>3</th>\n",
              "      <td>4</td>\n",
              "      <td>1</td>\n",
              "      <td>5603181.06</td>\n",
              "      <td>1.063315e+09</td>\n",
              "      <td>1721653.86</td>\n",
              "      <td>4.482062e+08</td>\n",
              "      <td>0.000000e+00</td>\n",
              "      <td>1.322010e+08</td>\n",
              "      <td>1.839712e+08</td>\n",
              "      <td>12676251.59</td>\n",
              "      <td>1312837.53</td>\n",
              "      <td>6.845330e+07</td>\n",
              "    </tr>\n",
              "    <tr>\n",
              "      <th>4</th>\n",
              "      <td>6</td>\n",
              "      <td>1</td>\n",
              "      <td>5905654.74</td>\n",
              "      <td>4.992185e+08</td>\n",
              "      <td>30461740.62</td>\n",
              "      <td>1.691617e+08</td>\n",
              "      <td>5.899877e+07</td>\n",
              "      <td>4.092087e+07</td>\n",
              "      <td>4.907550e+07</td>\n",
              "      <td>73345.77</td>\n",
              "      <td>828200.00</td>\n",
              "      <td>2.165275e+08</td>\n",
              "    </tr>\n",
              "  </tbody>\n",
              "</table>\n",
              "</div>"
            ],
            "text/plain": [
              "   cod_ies  categoria_administrativa  ...  despesa_pesquisa  despesa_outra\n",
              "0        1                         1  ...        2512494.15   3.046410e+08\n",
              "1        2                         1  ...       10350582.30   4.738549e+08\n",
              "2        3                         1  ...        1445146.30   3.204186e+08\n",
              "3        4                         1  ...        1312837.53   6.845330e+07\n",
              "4        6                         1  ...         828200.00   2.165275e+08\n",
              "\n",
              "[5 rows x 12 columns]"
            ]
          },
          "metadata": {},
          "execution_count": 6
        }
      ]
    },
    {
      "cell_type": "code",
      "metadata": {
        "colab": {
          "base_uri": "https://localhost:8080/",
          "height": 226
        },
        "id": "mzbEybVN1D1O",
        "outputId": "f302cbdc-deb9-447a-920c-a6d2d2996a4d"
      },
      "source": [
        "#Inserindo colunas com total de receitas e de despesas\n",
        "ies_receitas['receitas'] = ies_receitas['receita_propria'] + ies_receitas['receita_transferencia'] + ies_receitas['receita_outra']\n",
        "ies_receitas['despesas'] = ies_receitas['despesa_pessoal_docente'] + ies_receitas['despesa_pessoal_tecnico'] + ies_receitas['despesa_pessoal_encargo'] + ies_receitas['despesa_custeio'] + ies_receitas['despesa_investimento'] + ies_receitas['despesa_pesquisa'] + ies_receitas['despesa_outra']\n",
        "ies_receitas.head()"
      ],
      "execution_count": 7,
      "outputs": [
        {
          "output_type": "execute_result",
          "data": {
            "text/html": [
              "<div>\n",
              "<style scoped>\n",
              "    .dataframe tbody tr th:only-of-type {\n",
              "        vertical-align: middle;\n",
              "    }\n",
              "\n",
              "    .dataframe tbody tr th {\n",
              "        vertical-align: top;\n",
              "    }\n",
              "\n",
              "    .dataframe thead th {\n",
              "        text-align: right;\n",
              "    }\n",
              "</style>\n",
              "<table border=\"1\" class=\"dataframe\">\n",
              "  <thead>\n",
              "    <tr style=\"text-align: right;\">\n",
              "      <th></th>\n",
              "      <th>cod_ies</th>\n",
              "      <th>categoria_administrativa</th>\n",
              "      <th>receita_propria</th>\n",
              "      <th>receita_transferencia</th>\n",
              "      <th>receita_outra</th>\n",
              "      <th>despesa_pessoal_docente</th>\n",
              "      <th>despesa_pessoal_tecnico</th>\n",
              "      <th>despesa_pessoal_encargo</th>\n",
              "      <th>despesa_custeio</th>\n",
              "      <th>despesa_investimento</th>\n",
              "      <th>despesa_pesquisa</th>\n",
              "      <th>despesa_outra</th>\n",
              "      <th>receitas</th>\n",
              "      <th>despesas</th>\n",
              "    </tr>\n",
              "  </thead>\n",
              "  <tbody>\n",
              "    <tr>\n",
              "      <th>0</th>\n",
              "      <td>1</td>\n",
              "      <td>1</td>\n",
              "      <td>8075408.31</td>\n",
              "      <td>9.190156e+08</td>\n",
              "      <td>0.00</td>\n",
              "      <td>2.737906e+08</td>\n",
              "      <td>1.089490e+08</td>\n",
              "      <td>1.050124e+08</td>\n",
              "      <td>1.225790e+08</td>\n",
              "      <td>9606414.13</td>\n",
              "      <td>2512494.15</td>\n",
              "      <td>3.046410e+08</td>\n",
              "      <td>9.270910e+08</td>\n",
              "      <td>9.270910e+08</td>\n",
              "    </tr>\n",
              "    <tr>\n",
              "      <th>1</th>\n",
              "      <td>2</td>\n",
              "      <td>1</td>\n",
              "      <td>42309485.04</td>\n",
              "      <td>6.376632e+07</td>\n",
              "      <td>53681013.45</td>\n",
              "      <td>8.438613e+08</td>\n",
              "      <td>0.000000e+00</td>\n",
              "      <td>2.873756e+08</td>\n",
              "      <td>2.102659e+08</td>\n",
              "      <td>23154904.42</td>\n",
              "      <td>10350582.30</td>\n",
              "      <td>4.738549e+08</td>\n",
              "      <td>1.597568e+08</td>\n",
              "      <td>1.848863e+09</td>\n",
              "    </tr>\n",
              "    <tr>\n",
              "      <th>2</th>\n",
              "      <td>3</td>\n",
              "      <td>1</td>\n",
              "      <td>2064512.28</td>\n",
              "      <td>8.836851e+08</td>\n",
              "      <td>59978137.27</td>\n",
              "      <td>2.847694e+08</td>\n",
              "      <td>1.533374e+08</td>\n",
              "      <td>1.080347e+08</td>\n",
              "      <td>1.491604e+08</td>\n",
              "      <td>8212361.64</td>\n",
              "      <td>1445146.30</td>\n",
              "      <td>3.204186e+08</td>\n",
              "      <td>9.457277e+08</td>\n",
              "      <td>1.025378e+09</td>\n",
              "    </tr>\n",
              "    <tr>\n",
              "      <th>3</th>\n",
              "      <td>4</td>\n",
              "      <td>1</td>\n",
              "      <td>5603181.06</td>\n",
              "      <td>1.063315e+09</td>\n",
              "      <td>1721653.86</td>\n",
              "      <td>4.482062e+08</td>\n",
              "      <td>0.000000e+00</td>\n",
              "      <td>1.322010e+08</td>\n",
              "      <td>1.839712e+08</td>\n",
              "      <td>12676251.59</td>\n",
              "      <td>1312837.53</td>\n",
              "      <td>6.845330e+07</td>\n",
              "      <td>1.070640e+09</td>\n",
              "      <td>8.468208e+08</td>\n",
              "    </tr>\n",
              "    <tr>\n",
              "      <th>4</th>\n",
              "      <td>6</td>\n",
              "      <td>1</td>\n",
              "      <td>5905654.74</td>\n",
              "      <td>4.992185e+08</td>\n",
              "      <td>30461740.62</td>\n",
              "      <td>1.691617e+08</td>\n",
              "      <td>5.899877e+07</td>\n",
              "      <td>4.092087e+07</td>\n",
              "      <td>4.907550e+07</td>\n",
              "      <td>73345.77</td>\n",
              "      <td>828200.00</td>\n",
              "      <td>2.165275e+08</td>\n",
              "      <td>5.355859e+08</td>\n",
              "      <td>5.355859e+08</td>\n",
              "    </tr>\n",
              "  </tbody>\n",
              "</table>\n",
              "</div>"
            ],
            "text/plain": [
              "   cod_ies  categoria_administrativa  ...      receitas      despesas\n",
              "0        1                         1  ...  9.270910e+08  9.270910e+08\n",
              "1        2                         1  ...  1.597568e+08  1.848863e+09\n",
              "2        3                         1  ...  9.457277e+08  1.025378e+09\n",
              "3        4                         1  ...  1.070640e+09  8.468208e+08\n",
              "4        6                         1  ...  5.355859e+08  5.355859e+08\n",
              "\n",
              "[5 rows x 14 columns]"
            ]
          },
          "metadata": {},
          "execution_count": 7
        }
      ]
    },
    {
      "cell_type": "code",
      "metadata": {
        "colab": {
          "base_uri": "https://localhost:8080/",
          "height": 206
        },
        "id": "DzvmlF7PWpd4",
        "outputId": "da2186b2-4334-4050-ad26-7cbabc9b2ae9"
      },
      "source": [
        "ies_receitas = ies_receitas[['cod_ies','categoria_administrativa','despesa_investimento','receitas']]\n",
        "ies_receitas.head()"
      ],
      "execution_count": 8,
      "outputs": [
        {
          "output_type": "execute_result",
          "data": {
            "text/html": [
              "<div>\n",
              "<style scoped>\n",
              "    .dataframe tbody tr th:only-of-type {\n",
              "        vertical-align: middle;\n",
              "    }\n",
              "\n",
              "    .dataframe tbody tr th {\n",
              "        vertical-align: top;\n",
              "    }\n",
              "\n",
              "    .dataframe thead th {\n",
              "        text-align: right;\n",
              "    }\n",
              "</style>\n",
              "<table border=\"1\" class=\"dataframe\">\n",
              "  <thead>\n",
              "    <tr style=\"text-align: right;\">\n",
              "      <th></th>\n",
              "      <th>cod_ies</th>\n",
              "      <th>categoria_administrativa</th>\n",
              "      <th>despesa_investimento</th>\n",
              "      <th>receitas</th>\n",
              "    </tr>\n",
              "  </thead>\n",
              "  <tbody>\n",
              "    <tr>\n",
              "      <th>0</th>\n",
              "      <td>1</td>\n",
              "      <td>1</td>\n",
              "      <td>9606414.13</td>\n",
              "      <td>9.270910e+08</td>\n",
              "    </tr>\n",
              "    <tr>\n",
              "      <th>1</th>\n",
              "      <td>2</td>\n",
              "      <td>1</td>\n",
              "      <td>23154904.42</td>\n",
              "      <td>1.597568e+08</td>\n",
              "    </tr>\n",
              "    <tr>\n",
              "      <th>2</th>\n",
              "      <td>3</td>\n",
              "      <td>1</td>\n",
              "      <td>8212361.64</td>\n",
              "      <td>9.457277e+08</td>\n",
              "    </tr>\n",
              "    <tr>\n",
              "      <th>3</th>\n",
              "      <td>4</td>\n",
              "      <td>1</td>\n",
              "      <td>12676251.59</td>\n",
              "      <td>1.070640e+09</td>\n",
              "    </tr>\n",
              "    <tr>\n",
              "      <th>4</th>\n",
              "      <td>6</td>\n",
              "      <td>1</td>\n",
              "      <td>73345.77</td>\n",
              "      <td>5.355859e+08</td>\n",
              "    </tr>\n",
              "  </tbody>\n",
              "</table>\n",
              "</div>"
            ],
            "text/plain": [
              "   cod_ies  categoria_administrativa  despesa_investimento      receitas\n",
              "0        1                         1            9606414.13  9.270910e+08\n",
              "1        2                         1           23154904.42  1.597568e+08\n",
              "2        3                         1            8212361.64  9.457277e+08\n",
              "3        4                         1           12676251.59  1.070640e+09\n",
              "4        6                         1              73345.77  5.355859e+08"
            ]
          },
          "metadata": {},
          "execution_count": 8
        }
      ]
    },
    {
      "cell_type": "markdown",
      "metadata": {
        "id": "ag0hCx5r2bVs"
      },
      "source": [
        "### 1.3.Recursos"
      ]
    },
    {
      "cell_type": "code",
      "metadata": {
        "colab": {
          "base_uri": "https://localhost:8080/",
          "height": 163
        },
        "id": "X7dZVoIf2fFm",
        "outputId": "d17e3cce-8c42-4a13-f59e-85cd6153675d"
      },
      "source": [
        "#Contando a quantidade de recursos por curso\n",
        "ies_recursos = pd.read_csv('SUP_CURSO_2019.CSV', sep='|', encoding='latin1', usecols=['CO_IES', 'CO_CURSO', 'IN_MATERIAL_DIGITAL','IN_MATERIAL_AMPLIADO','IN_MATERIAL_TATIL','IN_MATERIAL_IMPRESSO','IN_MATERIAL_AUDIO','IN_MATERIAL_BRAILLE','IN_MATERIAL_LIBRAS','IN_DISCIPLINA_LIBRAS','IN_TRADUTOR_LIBRAS','IN_GUIA_INTERPRETE','IN_RECURSOS_COMUNICACAO','IN_RECURSOS_INFORMATICA' ])\n",
        "ies_recursos.head(3)"
      ],
      "execution_count": 9,
      "outputs": [
        {
          "output_type": "execute_result",
          "data": {
            "text/html": [
              "<div>\n",
              "<style scoped>\n",
              "    .dataframe tbody tr th:only-of-type {\n",
              "        vertical-align: middle;\n",
              "    }\n",
              "\n",
              "    .dataframe tbody tr th {\n",
              "        vertical-align: top;\n",
              "    }\n",
              "\n",
              "    .dataframe thead th {\n",
              "        text-align: right;\n",
              "    }\n",
              "</style>\n",
              "<table border=\"1\" class=\"dataframe\">\n",
              "  <thead>\n",
              "    <tr style=\"text-align: right;\">\n",
              "      <th></th>\n",
              "      <th>CO_IES</th>\n",
              "      <th>CO_CURSO</th>\n",
              "      <th>IN_MATERIAL_DIGITAL</th>\n",
              "      <th>IN_MATERIAL_AMPLIADO</th>\n",
              "      <th>IN_MATERIAL_TATIL</th>\n",
              "      <th>IN_MATERIAL_IMPRESSO</th>\n",
              "      <th>IN_MATERIAL_AUDIO</th>\n",
              "      <th>IN_MATERIAL_BRAILLE</th>\n",
              "      <th>IN_MATERIAL_LIBRAS</th>\n",
              "      <th>IN_DISCIPLINA_LIBRAS</th>\n",
              "      <th>IN_TRADUTOR_LIBRAS</th>\n",
              "      <th>IN_GUIA_INTERPRETE</th>\n",
              "      <th>IN_RECURSOS_COMUNICACAO</th>\n",
              "      <th>IN_RECURSOS_INFORMATICA</th>\n",
              "    </tr>\n",
              "  </thead>\n",
              "  <tbody>\n",
              "    <tr>\n",
              "      <th>0</th>\n",
              "      <td>1</td>\n",
              "      <td>1</td>\n",
              "      <td>0.0</td>\n",
              "      <td>0.0</td>\n",
              "      <td>0.0</td>\n",
              "      <td>0.0</td>\n",
              "      <td>0.0</td>\n",
              "      <td>0.0</td>\n",
              "      <td>0.0</td>\n",
              "      <td>1.0</td>\n",
              "      <td>0.0</td>\n",
              "      <td>0.0</td>\n",
              "      <td>0.0</td>\n",
              "      <td>0.0</td>\n",
              "    </tr>\n",
              "    <tr>\n",
              "      <th>1</th>\n",
              "      <td>1</td>\n",
              "      <td>2</td>\n",
              "      <td>NaN</td>\n",
              "      <td>NaN</td>\n",
              "      <td>NaN</td>\n",
              "      <td>NaN</td>\n",
              "      <td>NaN</td>\n",
              "      <td>NaN</td>\n",
              "      <td>NaN</td>\n",
              "      <td>NaN</td>\n",
              "      <td>NaN</td>\n",
              "      <td>NaN</td>\n",
              "      <td>NaN</td>\n",
              "      <td>NaN</td>\n",
              "    </tr>\n",
              "    <tr>\n",
              "      <th>2</th>\n",
              "      <td>1</td>\n",
              "      <td>3</td>\n",
              "      <td>NaN</td>\n",
              "      <td>NaN</td>\n",
              "      <td>NaN</td>\n",
              "      <td>NaN</td>\n",
              "      <td>NaN</td>\n",
              "      <td>NaN</td>\n",
              "      <td>NaN</td>\n",
              "      <td>NaN</td>\n",
              "      <td>NaN</td>\n",
              "      <td>NaN</td>\n",
              "      <td>NaN</td>\n",
              "      <td>NaN</td>\n",
              "    </tr>\n",
              "  </tbody>\n",
              "</table>\n",
              "</div>"
            ],
            "text/plain": [
              "   CO_IES  CO_CURSO  ...  IN_RECURSOS_COMUNICACAO  IN_RECURSOS_INFORMATICA\n",
              "0       1         1  ...                      0.0                      0.0\n",
              "1       1         2  ...                      NaN                      NaN\n",
              "2       1         3  ...                      NaN                      NaN\n",
              "\n",
              "[3 rows x 14 columns]"
            ]
          },
          "metadata": {},
          "execution_count": 9
        }
      ]
    },
    {
      "cell_type": "code",
      "metadata": {
        "colab": {
          "base_uri": "https://localhost:8080/",
          "height": 226
        },
        "id": "M3gemuO3LUbr",
        "outputId": "c33fe094-8a68-40cb-ad27-1e0c0b56f89f"
      },
      "source": [
        "#Substituindo NaN por zero\n",
        "ies_recursos.fillna(0, inplace=True)\n",
        "ies_recursos.head()"
      ],
      "execution_count": 10,
      "outputs": [
        {
          "output_type": "execute_result",
          "data": {
            "text/html": [
              "<div>\n",
              "<style scoped>\n",
              "    .dataframe tbody tr th:only-of-type {\n",
              "        vertical-align: middle;\n",
              "    }\n",
              "\n",
              "    .dataframe tbody tr th {\n",
              "        vertical-align: top;\n",
              "    }\n",
              "\n",
              "    .dataframe thead th {\n",
              "        text-align: right;\n",
              "    }\n",
              "</style>\n",
              "<table border=\"1\" class=\"dataframe\">\n",
              "  <thead>\n",
              "    <tr style=\"text-align: right;\">\n",
              "      <th></th>\n",
              "      <th>CO_IES</th>\n",
              "      <th>CO_CURSO</th>\n",
              "      <th>IN_MATERIAL_DIGITAL</th>\n",
              "      <th>IN_MATERIAL_AMPLIADO</th>\n",
              "      <th>IN_MATERIAL_TATIL</th>\n",
              "      <th>IN_MATERIAL_IMPRESSO</th>\n",
              "      <th>IN_MATERIAL_AUDIO</th>\n",
              "      <th>IN_MATERIAL_BRAILLE</th>\n",
              "      <th>IN_MATERIAL_LIBRAS</th>\n",
              "      <th>IN_DISCIPLINA_LIBRAS</th>\n",
              "      <th>IN_TRADUTOR_LIBRAS</th>\n",
              "      <th>IN_GUIA_INTERPRETE</th>\n",
              "      <th>IN_RECURSOS_COMUNICACAO</th>\n",
              "      <th>IN_RECURSOS_INFORMATICA</th>\n",
              "    </tr>\n",
              "  </thead>\n",
              "  <tbody>\n",
              "    <tr>\n",
              "      <th>0</th>\n",
              "      <td>1</td>\n",
              "      <td>1</td>\n",
              "      <td>0.0</td>\n",
              "      <td>0.0</td>\n",
              "      <td>0.0</td>\n",
              "      <td>0.0</td>\n",
              "      <td>0.0</td>\n",
              "      <td>0.0</td>\n",
              "      <td>0.0</td>\n",
              "      <td>1.0</td>\n",
              "      <td>0.0</td>\n",
              "      <td>0.0</td>\n",
              "      <td>0.0</td>\n",
              "      <td>0.0</td>\n",
              "    </tr>\n",
              "    <tr>\n",
              "      <th>1</th>\n",
              "      <td>1</td>\n",
              "      <td>2</td>\n",
              "      <td>0.0</td>\n",
              "      <td>0.0</td>\n",
              "      <td>0.0</td>\n",
              "      <td>0.0</td>\n",
              "      <td>0.0</td>\n",
              "      <td>0.0</td>\n",
              "      <td>0.0</td>\n",
              "      <td>0.0</td>\n",
              "      <td>0.0</td>\n",
              "      <td>0.0</td>\n",
              "      <td>0.0</td>\n",
              "      <td>0.0</td>\n",
              "    </tr>\n",
              "    <tr>\n",
              "      <th>2</th>\n",
              "      <td>1</td>\n",
              "      <td>3</td>\n",
              "      <td>0.0</td>\n",
              "      <td>0.0</td>\n",
              "      <td>0.0</td>\n",
              "      <td>0.0</td>\n",
              "      <td>0.0</td>\n",
              "      <td>0.0</td>\n",
              "      <td>0.0</td>\n",
              "      <td>0.0</td>\n",
              "      <td>0.0</td>\n",
              "      <td>0.0</td>\n",
              "      <td>0.0</td>\n",
              "      <td>0.0</td>\n",
              "    </tr>\n",
              "    <tr>\n",
              "      <th>3</th>\n",
              "      <td>1</td>\n",
              "      <td>6</td>\n",
              "      <td>1.0</td>\n",
              "      <td>1.0</td>\n",
              "      <td>1.0</td>\n",
              "      <td>0.0</td>\n",
              "      <td>1.0</td>\n",
              "      <td>0.0</td>\n",
              "      <td>0.0</td>\n",
              "      <td>1.0</td>\n",
              "      <td>1.0</td>\n",
              "      <td>1.0</td>\n",
              "      <td>1.0</td>\n",
              "      <td>1.0</td>\n",
              "    </tr>\n",
              "    <tr>\n",
              "      <th>4</th>\n",
              "      <td>1</td>\n",
              "      <td>7</td>\n",
              "      <td>0.0</td>\n",
              "      <td>0.0</td>\n",
              "      <td>0.0</td>\n",
              "      <td>0.0</td>\n",
              "      <td>0.0</td>\n",
              "      <td>0.0</td>\n",
              "      <td>0.0</td>\n",
              "      <td>1.0</td>\n",
              "      <td>0.0</td>\n",
              "      <td>0.0</td>\n",
              "      <td>0.0</td>\n",
              "      <td>0.0</td>\n",
              "    </tr>\n",
              "  </tbody>\n",
              "</table>\n",
              "</div>"
            ],
            "text/plain": [
              "   CO_IES  CO_CURSO  ...  IN_RECURSOS_COMUNICACAO  IN_RECURSOS_INFORMATICA\n",
              "0       1         1  ...                      0.0                      0.0\n",
              "1       1         2  ...                      0.0                      0.0\n",
              "2       1         3  ...                      0.0                      0.0\n",
              "3       1         6  ...                      1.0                      1.0\n",
              "4       1         7  ...                      0.0                      0.0\n",
              "\n",
              "[5 rows x 14 columns]"
            ]
          },
          "metadata": {},
          "execution_count": 10
        }
      ]
    },
    {
      "cell_type": "code",
      "metadata": {
        "colab": {
          "base_uri": "https://localhost:8080/",
          "height": 226
        },
        "id": "96NXBA2b3kme",
        "outputId": "66838db4-d55c-4c18-dfbe-65a92c5877a7"
      },
      "source": [
        "#Renomeando as colunas\n",
        "ies_recursos = ies_recursos.rename(columns={\n",
        "    'CO_IES':'cod_ies',\n",
        "    'CO_CURSO':'cod_curso',\n",
        "    'IN_MATERIAL_DIGITAL':'material_digital',\n",
        "    'IN_MATERIAL_AMPLIADO':'material_ampliado',\n",
        "    'IN_MATERIAL_TATIL':'material_tatil',\n",
        "    'IN_MATERIAL_IMPRESSO':'material_impresso',\n",
        "    'IN_MATERIAL_AUDIO':'material_audio',\n",
        "    'IN_MATERIAL_BRAILLE':'material_braille',\n",
        "    'IN_MATERIAL_LIBRAS':'material_libras',\n",
        "    'IN_DISCIPLINA_LIBRAS':'disciplina_libras',\n",
        "    'IN_TRADUTOR_LIBRAS':'tradutor_libras',\n",
        "    'IN_GUIA_INTERPRETE':'guia_interprete',\n",
        "    'IN_RECURSOS_COMUNICACAO':'recursos_comunicacao',\n",
        "    'IN_RECURSOS_INFORMATICA':'recursos_informatica',\n",
        "})\n",
        "ies_recursos.head()"
      ],
      "execution_count": 11,
      "outputs": [
        {
          "output_type": "execute_result",
          "data": {
            "text/html": [
              "<div>\n",
              "<style scoped>\n",
              "    .dataframe tbody tr th:only-of-type {\n",
              "        vertical-align: middle;\n",
              "    }\n",
              "\n",
              "    .dataframe tbody tr th {\n",
              "        vertical-align: top;\n",
              "    }\n",
              "\n",
              "    .dataframe thead th {\n",
              "        text-align: right;\n",
              "    }\n",
              "</style>\n",
              "<table border=\"1\" class=\"dataframe\">\n",
              "  <thead>\n",
              "    <tr style=\"text-align: right;\">\n",
              "      <th></th>\n",
              "      <th>cod_ies</th>\n",
              "      <th>cod_curso</th>\n",
              "      <th>material_digital</th>\n",
              "      <th>material_ampliado</th>\n",
              "      <th>material_tatil</th>\n",
              "      <th>material_impresso</th>\n",
              "      <th>material_audio</th>\n",
              "      <th>material_braille</th>\n",
              "      <th>material_libras</th>\n",
              "      <th>disciplina_libras</th>\n",
              "      <th>tradutor_libras</th>\n",
              "      <th>guia_interprete</th>\n",
              "      <th>recursos_comunicacao</th>\n",
              "      <th>recursos_informatica</th>\n",
              "    </tr>\n",
              "  </thead>\n",
              "  <tbody>\n",
              "    <tr>\n",
              "      <th>0</th>\n",
              "      <td>1</td>\n",
              "      <td>1</td>\n",
              "      <td>0.0</td>\n",
              "      <td>0.0</td>\n",
              "      <td>0.0</td>\n",
              "      <td>0.0</td>\n",
              "      <td>0.0</td>\n",
              "      <td>0.0</td>\n",
              "      <td>0.0</td>\n",
              "      <td>1.0</td>\n",
              "      <td>0.0</td>\n",
              "      <td>0.0</td>\n",
              "      <td>0.0</td>\n",
              "      <td>0.0</td>\n",
              "    </tr>\n",
              "    <tr>\n",
              "      <th>1</th>\n",
              "      <td>1</td>\n",
              "      <td>2</td>\n",
              "      <td>0.0</td>\n",
              "      <td>0.0</td>\n",
              "      <td>0.0</td>\n",
              "      <td>0.0</td>\n",
              "      <td>0.0</td>\n",
              "      <td>0.0</td>\n",
              "      <td>0.0</td>\n",
              "      <td>0.0</td>\n",
              "      <td>0.0</td>\n",
              "      <td>0.0</td>\n",
              "      <td>0.0</td>\n",
              "      <td>0.0</td>\n",
              "    </tr>\n",
              "    <tr>\n",
              "      <th>2</th>\n",
              "      <td>1</td>\n",
              "      <td>3</td>\n",
              "      <td>0.0</td>\n",
              "      <td>0.0</td>\n",
              "      <td>0.0</td>\n",
              "      <td>0.0</td>\n",
              "      <td>0.0</td>\n",
              "      <td>0.0</td>\n",
              "      <td>0.0</td>\n",
              "      <td>0.0</td>\n",
              "      <td>0.0</td>\n",
              "      <td>0.0</td>\n",
              "      <td>0.0</td>\n",
              "      <td>0.0</td>\n",
              "    </tr>\n",
              "    <tr>\n",
              "      <th>3</th>\n",
              "      <td>1</td>\n",
              "      <td>6</td>\n",
              "      <td>1.0</td>\n",
              "      <td>1.0</td>\n",
              "      <td>1.0</td>\n",
              "      <td>0.0</td>\n",
              "      <td>1.0</td>\n",
              "      <td>0.0</td>\n",
              "      <td>0.0</td>\n",
              "      <td>1.0</td>\n",
              "      <td>1.0</td>\n",
              "      <td>1.0</td>\n",
              "      <td>1.0</td>\n",
              "      <td>1.0</td>\n",
              "    </tr>\n",
              "    <tr>\n",
              "      <th>4</th>\n",
              "      <td>1</td>\n",
              "      <td>7</td>\n",
              "      <td>0.0</td>\n",
              "      <td>0.0</td>\n",
              "      <td>0.0</td>\n",
              "      <td>0.0</td>\n",
              "      <td>0.0</td>\n",
              "      <td>0.0</td>\n",
              "      <td>0.0</td>\n",
              "      <td>1.0</td>\n",
              "      <td>0.0</td>\n",
              "      <td>0.0</td>\n",
              "      <td>0.0</td>\n",
              "      <td>0.0</td>\n",
              "    </tr>\n",
              "  </tbody>\n",
              "</table>\n",
              "</div>"
            ],
            "text/plain": [
              "   cod_ies  cod_curso  ...  recursos_comunicacao  recursos_informatica\n",
              "0        1          1  ...                   0.0                   0.0\n",
              "1        1          2  ...                   0.0                   0.0\n",
              "2        1          3  ...                   0.0                   0.0\n",
              "3        1          6  ...                   1.0                   1.0\n",
              "4        1          7  ...                   0.0                   0.0\n",
              "\n",
              "[5 rows x 14 columns]"
            ]
          },
          "metadata": {},
          "execution_count": 11
        }
      ]
    },
    {
      "cell_type": "code",
      "metadata": {
        "colab": {
          "base_uri": "https://localhost:8080/",
          "height": 226
        },
        "id": "5L22UFk2Kumz",
        "outputId": "0fd1e572-d0cd-464a-f49d-e009219220b5"
      },
      "source": [
        "ies_recursos['recursos_totais'] = ies_recursos['material_digital'] + ies_recursos['material_ampliado'] + ies_recursos['material_tatil'] + ies_recursos['material_impresso'] + ies_recursos['material_audio'] + ies_recursos['material_braille'] + ies_recursos['material_libras'] + ies_recursos['disciplina_libras'] + ies_recursos['tradutor_libras'] + ies_recursos['guia_interprete'] + ies_recursos['recursos_comunicacao'] + ies_recursos['recursos_informatica']\n",
        "ies_recursos.head()"
      ],
      "execution_count": 12,
      "outputs": [
        {
          "output_type": "execute_result",
          "data": {
            "text/html": [
              "<div>\n",
              "<style scoped>\n",
              "    .dataframe tbody tr th:only-of-type {\n",
              "        vertical-align: middle;\n",
              "    }\n",
              "\n",
              "    .dataframe tbody tr th {\n",
              "        vertical-align: top;\n",
              "    }\n",
              "\n",
              "    .dataframe thead th {\n",
              "        text-align: right;\n",
              "    }\n",
              "</style>\n",
              "<table border=\"1\" class=\"dataframe\">\n",
              "  <thead>\n",
              "    <tr style=\"text-align: right;\">\n",
              "      <th></th>\n",
              "      <th>cod_ies</th>\n",
              "      <th>cod_curso</th>\n",
              "      <th>material_digital</th>\n",
              "      <th>material_ampliado</th>\n",
              "      <th>material_tatil</th>\n",
              "      <th>material_impresso</th>\n",
              "      <th>material_audio</th>\n",
              "      <th>material_braille</th>\n",
              "      <th>material_libras</th>\n",
              "      <th>disciplina_libras</th>\n",
              "      <th>tradutor_libras</th>\n",
              "      <th>guia_interprete</th>\n",
              "      <th>recursos_comunicacao</th>\n",
              "      <th>recursos_informatica</th>\n",
              "      <th>recursos_totais</th>\n",
              "    </tr>\n",
              "  </thead>\n",
              "  <tbody>\n",
              "    <tr>\n",
              "      <th>0</th>\n",
              "      <td>1</td>\n",
              "      <td>1</td>\n",
              "      <td>0.0</td>\n",
              "      <td>0.0</td>\n",
              "      <td>0.0</td>\n",
              "      <td>0.0</td>\n",
              "      <td>0.0</td>\n",
              "      <td>0.0</td>\n",
              "      <td>0.0</td>\n",
              "      <td>1.0</td>\n",
              "      <td>0.0</td>\n",
              "      <td>0.0</td>\n",
              "      <td>0.0</td>\n",
              "      <td>0.0</td>\n",
              "      <td>1.0</td>\n",
              "    </tr>\n",
              "    <tr>\n",
              "      <th>1</th>\n",
              "      <td>1</td>\n",
              "      <td>2</td>\n",
              "      <td>0.0</td>\n",
              "      <td>0.0</td>\n",
              "      <td>0.0</td>\n",
              "      <td>0.0</td>\n",
              "      <td>0.0</td>\n",
              "      <td>0.0</td>\n",
              "      <td>0.0</td>\n",
              "      <td>0.0</td>\n",
              "      <td>0.0</td>\n",
              "      <td>0.0</td>\n",
              "      <td>0.0</td>\n",
              "      <td>0.0</td>\n",
              "      <td>0.0</td>\n",
              "    </tr>\n",
              "    <tr>\n",
              "      <th>2</th>\n",
              "      <td>1</td>\n",
              "      <td>3</td>\n",
              "      <td>0.0</td>\n",
              "      <td>0.0</td>\n",
              "      <td>0.0</td>\n",
              "      <td>0.0</td>\n",
              "      <td>0.0</td>\n",
              "      <td>0.0</td>\n",
              "      <td>0.0</td>\n",
              "      <td>0.0</td>\n",
              "      <td>0.0</td>\n",
              "      <td>0.0</td>\n",
              "      <td>0.0</td>\n",
              "      <td>0.0</td>\n",
              "      <td>0.0</td>\n",
              "    </tr>\n",
              "    <tr>\n",
              "      <th>3</th>\n",
              "      <td>1</td>\n",
              "      <td>6</td>\n",
              "      <td>1.0</td>\n",
              "      <td>1.0</td>\n",
              "      <td>1.0</td>\n",
              "      <td>0.0</td>\n",
              "      <td>1.0</td>\n",
              "      <td>0.0</td>\n",
              "      <td>0.0</td>\n",
              "      <td>1.0</td>\n",
              "      <td>1.0</td>\n",
              "      <td>1.0</td>\n",
              "      <td>1.0</td>\n",
              "      <td>1.0</td>\n",
              "      <td>9.0</td>\n",
              "    </tr>\n",
              "    <tr>\n",
              "      <th>4</th>\n",
              "      <td>1</td>\n",
              "      <td>7</td>\n",
              "      <td>0.0</td>\n",
              "      <td>0.0</td>\n",
              "      <td>0.0</td>\n",
              "      <td>0.0</td>\n",
              "      <td>0.0</td>\n",
              "      <td>0.0</td>\n",
              "      <td>0.0</td>\n",
              "      <td>1.0</td>\n",
              "      <td>0.0</td>\n",
              "      <td>0.0</td>\n",
              "      <td>0.0</td>\n",
              "      <td>0.0</td>\n",
              "      <td>1.0</td>\n",
              "    </tr>\n",
              "  </tbody>\n",
              "</table>\n",
              "</div>"
            ],
            "text/plain": [
              "   cod_ies  cod_curso  ...  recursos_informatica  recursos_totais\n",
              "0        1          1  ...                   0.0              1.0\n",
              "1        1          2  ...                   0.0              0.0\n",
              "2        1          3  ...                   0.0              0.0\n",
              "3        1          6  ...                   1.0              9.0\n",
              "4        1          7  ...                   0.0              1.0\n",
              "\n",
              "[5 rows x 15 columns]"
            ]
          },
          "metadata": {},
          "execution_count": 12
        }
      ]
    },
    {
      "cell_type": "code",
      "metadata": {
        "colab": {
          "base_uri": "https://localhost:8080/",
          "height": 238
        },
        "id": "_UFUAnpRMGhP",
        "outputId": "3fbce9d4-9261-47c7-8a42-fd66d8cfda5d"
      },
      "source": [
        "#Contando a quantidade de curso por IES\n",
        "ies_cursos = ies_recursos.groupby('cod_ies')[['cod_curso']].count()\n",
        "ies_cursos.head()"
      ],
      "execution_count": 13,
      "outputs": [
        {
          "output_type": "execute_result",
          "data": {
            "text/html": [
              "<div>\n",
              "<style scoped>\n",
              "    .dataframe tbody tr th:only-of-type {\n",
              "        vertical-align: middle;\n",
              "    }\n",
              "\n",
              "    .dataframe tbody tr th {\n",
              "        vertical-align: top;\n",
              "    }\n",
              "\n",
              "    .dataframe thead th {\n",
              "        text-align: right;\n",
              "    }\n",
              "</style>\n",
              "<table border=\"1\" class=\"dataframe\">\n",
              "  <thead>\n",
              "    <tr style=\"text-align: right;\">\n",
              "      <th></th>\n",
              "      <th>cod_curso</th>\n",
              "    </tr>\n",
              "    <tr>\n",
              "      <th>cod_ies</th>\n",
              "      <th></th>\n",
              "    </tr>\n",
              "  </thead>\n",
              "  <tbody>\n",
              "    <tr>\n",
              "      <th>1</th>\n",
              "      <td>114</td>\n",
              "    </tr>\n",
              "    <tr>\n",
              "      <th>2</th>\n",
              "      <td>149</td>\n",
              "    </tr>\n",
              "    <tr>\n",
              "      <th>3</th>\n",
              "      <td>116</td>\n",
              "    </tr>\n",
              "    <tr>\n",
              "      <th>4</th>\n",
              "      <td>107</td>\n",
              "    </tr>\n",
              "    <tr>\n",
              "      <th>5</th>\n",
              "      <td>100</td>\n",
              "    </tr>\n",
              "  </tbody>\n",
              "</table>\n",
              "</div>"
            ],
            "text/plain": [
              "         cod_curso\n",
              "cod_ies           \n",
              "1              114\n",
              "2              149\n",
              "3              116\n",
              "4              107\n",
              "5              100"
            ]
          },
          "metadata": {},
          "execution_count": 13
        }
      ]
    },
    {
      "cell_type": "code",
      "metadata": {
        "colab": {
          "base_uri": "https://localhost:8080/",
          "height": 206
        },
        "id": "DgvJPjgXM1rv",
        "outputId": "538911e3-a5b8-4a38-e9a4-cd76318064aa"
      },
      "source": [
        "#Transformando num dataframe\n",
        "ies_cursos = pd.DataFrame(ies_cursos,columns=['cod_curso'])\n",
        "ies_cursos['cod_ies'] = ies_cursos.index\n",
        "ies_cursos.index = range(len(ies_cursos))\n",
        "ies_cursos.head()"
      ],
      "execution_count": 14,
      "outputs": [
        {
          "output_type": "execute_result",
          "data": {
            "text/html": [
              "<div>\n",
              "<style scoped>\n",
              "    .dataframe tbody tr th:only-of-type {\n",
              "        vertical-align: middle;\n",
              "    }\n",
              "\n",
              "    .dataframe tbody tr th {\n",
              "        vertical-align: top;\n",
              "    }\n",
              "\n",
              "    .dataframe thead th {\n",
              "        text-align: right;\n",
              "    }\n",
              "</style>\n",
              "<table border=\"1\" class=\"dataframe\">\n",
              "  <thead>\n",
              "    <tr style=\"text-align: right;\">\n",
              "      <th></th>\n",
              "      <th>cod_curso</th>\n",
              "      <th>cod_ies</th>\n",
              "    </tr>\n",
              "  </thead>\n",
              "  <tbody>\n",
              "    <tr>\n",
              "      <th>0</th>\n",
              "      <td>114</td>\n",
              "      <td>1</td>\n",
              "    </tr>\n",
              "    <tr>\n",
              "      <th>1</th>\n",
              "      <td>149</td>\n",
              "      <td>2</td>\n",
              "    </tr>\n",
              "    <tr>\n",
              "      <th>2</th>\n",
              "      <td>116</td>\n",
              "      <td>3</td>\n",
              "    </tr>\n",
              "    <tr>\n",
              "      <th>3</th>\n",
              "      <td>107</td>\n",
              "      <td>4</td>\n",
              "    </tr>\n",
              "    <tr>\n",
              "      <th>4</th>\n",
              "      <td>100</td>\n",
              "      <td>5</td>\n",
              "    </tr>\n",
              "  </tbody>\n",
              "</table>\n",
              "</div>"
            ],
            "text/plain": [
              "   cod_curso  cod_ies\n",
              "0        114        1\n",
              "1        149        2\n",
              "2        116        3\n",
              "3        107        4\n",
              "4        100        5"
            ]
          },
          "metadata": {},
          "execution_count": 14
        }
      ]
    },
    {
      "cell_type": "code",
      "metadata": {
        "colab": {
          "base_uri": "https://localhost:8080/",
          "height": 206
        },
        "id": "XW6jjN_vNPTI",
        "outputId": "e3907aa1-ef44-4601-9e33-08b5f7b83314"
      },
      "source": [
        "ies_cursos = ies_cursos.rename(columns={\n",
        "    'cod_curso':'num_curso',\n",
        "    })\n",
        "ies_cursos.head(5)"
      ],
      "execution_count": 15,
      "outputs": [
        {
          "output_type": "execute_result",
          "data": {
            "text/html": [
              "<div>\n",
              "<style scoped>\n",
              "    .dataframe tbody tr th:only-of-type {\n",
              "        vertical-align: middle;\n",
              "    }\n",
              "\n",
              "    .dataframe tbody tr th {\n",
              "        vertical-align: top;\n",
              "    }\n",
              "\n",
              "    .dataframe thead th {\n",
              "        text-align: right;\n",
              "    }\n",
              "</style>\n",
              "<table border=\"1\" class=\"dataframe\">\n",
              "  <thead>\n",
              "    <tr style=\"text-align: right;\">\n",
              "      <th></th>\n",
              "      <th>num_curso</th>\n",
              "      <th>cod_ies</th>\n",
              "    </tr>\n",
              "  </thead>\n",
              "  <tbody>\n",
              "    <tr>\n",
              "      <th>0</th>\n",
              "      <td>114</td>\n",
              "      <td>1</td>\n",
              "    </tr>\n",
              "    <tr>\n",
              "      <th>1</th>\n",
              "      <td>149</td>\n",
              "      <td>2</td>\n",
              "    </tr>\n",
              "    <tr>\n",
              "      <th>2</th>\n",
              "      <td>116</td>\n",
              "      <td>3</td>\n",
              "    </tr>\n",
              "    <tr>\n",
              "      <th>3</th>\n",
              "      <td>107</td>\n",
              "      <td>4</td>\n",
              "    </tr>\n",
              "    <tr>\n",
              "      <th>4</th>\n",
              "      <td>100</td>\n",
              "      <td>5</td>\n",
              "    </tr>\n",
              "  </tbody>\n",
              "</table>\n",
              "</div>"
            ],
            "text/plain": [
              "   num_curso  cod_ies\n",
              "0        114        1\n",
              "1        149        2\n",
              "2        116        3\n",
              "3        107        4\n",
              "4        100        5"
            ]
          },
          "metadata": {},
          "execution_count": 15
        }
      ]
    },
    {
      "cell_type": "code",
      "metadata": {
        "colab": {
          "base_uri": "https://localhost:8080/",
          "height": 163
        },
        "id": "4XZkFg5VwGVv",
        "outputId": "ba558508-6e8e-4355-ab0c-9a69693ad22d"
      },
      "source": [
        "ies_recursos = ies_recursos.drop(columns='cod_curso')\n",
        "ies_recursos.head(3)"
      ],
      "execution_count": 16,
      "outputs": [
        {
          "output_type": "execute_result",
          "data": {
            "text/html": [
              "<div>\n",
              "<style scoped>\n",
              "    .dataframe tbody tr th:only-of-type {\n",
              "        vertical-align: middle;\n",
              "    }\n",
              "\n",
              "    .dataframe tbody tr th {\n",
              "        vertical-align: top;\n",
              "    }\n",
              "\n",
              "    .dataframe thead th {\n",
              "        text-align: right;\n",
              "    }\n",
              "</style>\n",
              "<table border=\"1\" class=\"dataframe\">\n",
              "  <thead>\n",
              "    <tr style=\"text-align: right;\">\n",
              "      <th></th>\n",
              "      <th>cod_ies</th>\n",
              "      <th>material_digital</th>\n",
              "      <th>material_ampliado</th>\n",
              "      <th>material_tatil</th>\n",
              "      <th>material_impresso</th>\n",
              "      <th>material_audio</th>\n",
              "      <th>material_braille</th>\n",
              "      <th>material_libras</th>\n",
              "      <th>disciplina_libras</th>\n",
              "      <th>tradutor_libras</th>\n",
              "      <th>guia_interprete</th>\n",
              "      <th>recursos_comunicacao</th>\n",
              "      <th>recursos_informatica</th>\n",
              "      <th>recursos_totais</th>\n",
              "    </tr>\n",
              "  </thead>\n",
              "  <tbody>\n",
              "    <tr>\n",
              "      <th>0</th>\n",
              "      <td>1</td>\n",
              "      <td>0.0</td>\n",
              "      <td>0.0</td>\n",
              "      <td>0.0</td>\n",
              "      <td>0.0</td>\n",
              "      <td>0.0</td>\n",
              "      <td>0.0</td>\n",
              "      <td>0.0</td>\n",
              "      <td>1.0</td>\n",
              "      <td>0.0</td>\n",
              "      <td>0.0</td>\n",
              "      <td>0.0</td>\n",
              "      <td>0.0</td>\n",
              "      <td>1.0</td>\n",
              "    </tr>\n",
              "    <tr>\n",
              "      <th>1</th>\n",
              "      <td>1</td>\n",
              "      <td>0.0</td>\n",
              "      <td>0.0</td>\n",
              "      <td>0.0</td>\n",
              "      <td>0.0</td>\n",
              "      <td>0.0</td>\n",
              "      <td>0.0</td>\n",
              "      <td>0.0</td>\n",
              "      <td>0.0</td>\n",
              "      <td>0.0</td>\n",
              "      <td>0.0</td>\n",
              "      <td>0.0</td>\n",
              "      <td>0.0</td>\n",
              "      <td>0.0</td>\n",
              "    </tr>\n",
              "    <tr>\n",
              "      <th>2</th>\n",
              "      <td>1</td>\n",
              "      <td>0.0</td>\n",
              "      <td>0.0</td>\n",
              "      <td>0.0</td>\n",
              "      <td>0.0</td>\n",
              "      <td>0.0</td>\n",
              "      <td>0.0</td>\n",
              "      <td>0.0</td>\n",
              "      <td>0.0</td>\n",
              "      <td>0.0</td>\n",
              "      <td>0.0</td>\n",
              "      <td>0.0</td>\n",
              "      <td>0.0</td>\n",
              "      <td>0.0</td>\n",
              "    </tr>\n",
              "  </tbody>\n",
              "</table>\n",
              "</div>"
            ],
            "text/plain": [
              "   cod_ies  material_digital  ...  recursos_informatica  recursos_totais\n",
              "0        1               0.0  ...                   0.0              1.0\n",
              "1        1               0.0  ...                   0.0              0.0\n",
              "2        1               0.0  ...                   0.0              0.0\n",
              "\n",
              "[3 rows x 14 columns]"
            ]
          },
          "metadata": {},
          "execution_count": 16
        }
      ]
    },
    {
      "cell_type": "code",
      "metadata": {
        "colab": {
          "base_uri": "https://localhost:8080/",
          "height": 258
        },
        "id": "F-_Ds9MtMekf",
        "outputId": "f3e66ab5-48f1-42a2-a1f7-cd94006888b1"
      },
      "source": [
        "ies_recursos = ies_recursos.groupby('cod_ies').sum()\n",
        "ies_recursos.head()"
      ],
      "execution_count": 17,
      "outputs": [
        {
          "output_type": "execute_result",
          "data": {
            "text/html": [
              "<div>\n",
              "<style scoped>\n",
              "    .dataframe tbody tr th:only-of-type {\n",
              "        vertical-align: middle;\n",
              "    }\n",
              "\n",
              "    .dataframe tbody tr th {\n",
              "        vertical-align: top;\n",
              "    }\n",
              "\n",
              "    .dataframe thead th {\n",
              "        text-align: right;\n",
              "    }\n",
              "</style>\n",
              "<table border=\"1\" class=\"dataframe\">\n",
              "  <thead>\n",
              "    <tr style=\"text-align: right;\">\n",
              "      <th></th>\n",
              "      <th>material_digital</th>\n",
              "      <th>material_ampliado</th>\n",
              "      <th>material_tatil</th>\n",
              "      <th>material_impresso</th>\n",
              "      <th>material_audio</th>\n",
              "      <th>material_braille</th>\n",
              "      <th>material_libras</th>\n",
              "      <th>disciplina_libras</th>\n",
              "      <th>tradutor_libras</th>\n",
              "      <th>guia_interprete</th>\n",
              "      <th>recursos_comunicacao</th>\n",
              "      <th>recursos_informatica</th>\n",
              "      <th>recursos_totais</th>\n",
              "    </tr>\n",
              "    <tr>\n",
              "      <th>cod_ies</th>\n",
              "      <th></th>\n",
              "      <th></th>\n",
              "      <th></th>\n",
              "      <th></th>\n",
              "      <th></th>\n",
              "      <th></th>\n",
              "      <th></th>\n",
              "      <th></th>\n",
              "      <th></th>\n",
              "      <th></th>\n",
              "      <th></th>\n",
              "      <th></th>\n",
              "      <th></th>\n",
              "    </tr>\n",
              "  </thead>\n",
              "  <tbody>\n",
              "    <tr>\n",
              "      <th>1</th>\n",
              "      <td>11.0</td>\n",
              "      <td>13.0</td>\n",
              "      <td>3.0</td>\n",
              "      <td>9.0</td>\n",
              "      <td>5.0</td>\n",
              "      <td>3.0</td>\n",
              "      <td>5.0</td>\n",
              "      <td>66.0</td>\n",
              "      <td>26.0</td>\n",
              "      <td>11.0</td>\n",
              "      <td>7.0</td>\n",
              "      <td>5.0</td>\n",
              "      <td>164.0</td>\n",
              "    </tr>\n",
              "    <tr>\n",
              "      <th>2</th>\n",
              "      <td>149.0</td>\n",
              "      <td>148.0</td>\n",
              "      <td>149.0</td>\n",
              "      <td>149.0</td>\n",
              "      <td>148.0</td>\n",
              "      <td>149.0</td>\n",
              "      <td>149.0</td>\n",
              "      <td>149.0</td>\n",
              "      <td>149.0</td>\n",
              "      <td>149.0</td>\n",
              "      <td>148.0</td>\n",
              "      <td>149.0</td>\n",
              "      <td>1785.0</td>\n",
              "    </tr>\n",
              "    <tr>\n",
              "      <th>3</th>\n",
              "      <td>20.0</td>\n",
              "      <td>15.0</td>\n",
              "      <td>16.0</td>\n",
              "      <td>21.0</td>\n",
              "      <td>14.0</td>\n",
              "      <td>20.0</td>\n",
              "      <td>23.0</td>\n",
              "      <td>91.0</td>\n",
              "      <td>41.0</td>\n",
              "      <td>31.0</td>\n",
              "      <td>11.0</td>\n",
              "      <td>24.0</td>\n",
              "      <td>327.0</td>\n",
              "    </tr>\n",
              "    <tr>\n",
              "      <th>4</th>\n",
              "      <td>0.0</td>\n",
              "      <td>0.0</td>\n",
              "      <td>0.0</td>\n",
              "      <td>0.0</td>\n",
              "      <td>0.0</td>\n",
              "      <td>0.0</td>\n",
              "      <td>0.0</td>\n",
              "      <td>105.0</td>\n",
              "      <td>0.0</td>\n",
              "      <td>0.0</td>\n",
              "      <td>0.0</td>\n",
              "      <td>0.0</td>\n",
              "      <td>105.0</td>\n",
              "    </tr>\n",
              "    <tr>\n",
              "      <th>5</th>\n",
              "      <td>0.0</td>\n",
              "      <td>99.0</td>\n",
              "      <td>100.0</td>\n",
              "      <td>99.0</td>\n",
              "      <td>1.0</td>\n",
              "      <td>100.0</td>\n",
              "      <td>99.0</td>\n",
              "      <td>99.0</td>\n",
              "      <td>100.0</td>\n",
              "      <td>99.0</td>\n",
              "      <td>99.0</td>\n",
              "      <td>99.0</td>\n",
              "      <td>994.0</td>\n",
              "    </tr>\n",
              "  </tbody>\n",
              "</table>\n",
              "</div>"
            ],
            "text/plain": [
              "         material_digital  ...  recursos_totais\n",
              "cod_ies                    ...                 \n",
              "1                    11.0  ...            164.0\n",
              "2                   149.0  ...           1785.0\n",
              "3                    20.0  ...            327.0\n",
              "4                     0.0  ...            105.0\n",
              "5                     0.0  ...            994.0\n",
              "\n",
              "[5 rows x 13 columns]"
            ]
          },
          "metadata": {},
          "execution_count": 17
        }
      ]
    },
    {
      "cell_type": "code",
      "metadata": {
        "colab": {
          "base_uri": "https://localhost:8080/",
          "height": 226
        },
        "id": "9vXSVbscRf2x",
        "outputId": "e8aeac77-e5e7-4b8d-cd67-3e388baddd06"
      },
      "source": [
        "ies_recursos = pd.merge(ies_recursos, ies_cursos, how='inner', on='cod_ies')\n",
        "ies_recursos.head()"
      ],
      "execution_count": 18,
      "outputs": [
        {
          "output_type": "execute_result",
          "data": {
            "text/html": [
              "<div>\n",
              "<style scoped>\n",
              "    .dataframe tbody tr th:only-of-type {\n",
              "        vertical-align: middle;\n",
              "    }\n",
              "\n",
              "    .dataframe tbody tr th {\n",
              "        vertical-align: top;\n",
              "    }\n",
              "\n",
              "    .dataframe thead th {\n",
              "        text-align: right;\n",
              "    }\n",
              "</style>\n",
              "<table border=\"1\" class=\"dataframe\">\n",
              "  <thead>\n",
              "    <tr style=\"text-align: right;\">\n",
              "      <th></th>\n",
              "      <th>cod_ies</th>\n",
              "      <th>material_digital</th>\n",
              "      <th>material_ampliado</th>\n",
              "      <th>material_tatil</th>\n",
              "      <th>material_impresso</th>\n",
              "      <th>material_audio</th>\n",
              "      <th>material_braille</th>\n",
              "      <th>material_libras</th>\n",
              "      <th>disciplina_libras</th>\n",
              "      <th>tradutor_libras</th>\n",
              "      <th>guia_interprete</th>\n",
              "      <th>recursos_comunicacao</th>\n",
              "      <th>recursos_informatica</th>\n",
              "      <th>recursos_totais</th>\n",
              "      <th>num_curso</th>\n",
              "    </tr>\n",
              "  </thead>\n",
              "  <tbody>\n",
              "    <tr>\n",
              "      <th>0</th>\n",
              "      <td>1</td>\n",
              "      <td>11.0</td>\n",
              "      <td>13.0</td>\n",
              "      <td>3.0</td>\n",
              "      <td>9.0</td>\n",
              "      <td>5.0</td>\n",
              "      <td>3.0</td>\n",
              "      <td>5.0</td>\n",
              "      <td>66.0</td>\n",
              "      <td>26.0</td>\n",
              "      <td>11.0</td>\n",
              "      <td>7.0</td>\n",
              "      <td>5.0</td>\n",
              "      <td>164.0</td>\n",
              "      <td>114</td>\n",
              "    </tr>\n",
              "    <tr>\n",
              "      <th>1</th>\n",
              "      <td>2</td>\n",
              "      <td>149.0</td>\n",
              "      <td>148.0</td>\n",
              "      <td>149.0</td>\n",
              "      <td>149.0</td>\n",
              "      <td>148.0</td>\n",
              "      <td>149.0</td>\n",
              "      <td>149.0</td>\n",
              "      <td>149.0</td>\n",
              "      <td>149.0</td>\n",
              "      <td>149.0</td>\n",
              "      <td>148.0</td>\n",
              "      <td>149.0</td>\n",
              "      <td>1785.0</td>\n",
              "      <td>149</td>\n",
              "    </tr>\n",
              "    <tr>\n",
              "      <th>2</th>\n",
              "      <td>3</td>\n",
              "      <td>20.0</td>\n",
              "      <td>15.0</td>\n",
              "      <td>16.0</td>\n",
              "      <td>21.0</td>\n",
              "      <td>14.0</td>\n",
              "      <td>20.0</td>\n",
              "      <td>23.0</td>\n",
              "      <td>91.0</td>\n",
              "      <td>41.0</td>\n",
              "      <td>31.0</td>\n",
              "      <td>11.0</td>\n",
              "      <td>24.0</td>\n",
              "      <td>327.0</td>\n",
              "      <td>116</td>\n",
              "    </tr>\n",
              "    <tr>\n",
              "      <th>3</th>\n",
              "      <td>4</td>\n",
              "      <td>0.0</td>\n",
              "      <td>0.0</td>\n",
              "      <td>0.0</td>\n",
              "      <td>0.0</td>\n",
              "      <td>0.0</td>\n",
              "      <td>0.0</td>\n",
              "      <td>0.0</td>\n",
              "      <td>105.0</td>\n",
              "      <td>0.0</td>\n",
              "      <td>0.0</td>\n",
              "      <td>0.0</td>\n",
              "      <td>0.0</td>\n",
              "      <td>105.0</td>\n",
              "      <td>107</td>\n",
              "    </tr>\n",
              "    <tr>\n",
              "      <th>4</th>\n",
              "      <td>5</td>\n",
              "      <td>0.0</td>\n",
              "      <td>99.0</td>\n",
              "      <td>100.0</td>\n",
              "      <td>99.0</td>\n",
              "      <td>1.0</td>\n",
              "      <td>100.0</td>\n",
              "      <td>99.0</td>\n",
              "      <td>99.0</td>\n",
              "      <td>100.0</td>\n",
              "      <td>99.0</td>\n",
              "      <td>99.0</td>\n",
              "      <td>99.0</td>\n",
              "      <td>994.0</td>\n",
              "      <td>100</td>\n",
              "    </tr>\n",
              "  </tbody>\n",
              "</table>\n",
              "</div>"
            ],
            "text/plain": [
              "   cod_ies  material_digital  ...  recursos_totais  num_curso\n",
              "0        1              11.0  ...            164.0        114\n",
              "1        2             149.0  ...           1785.0        149\n",
              "2        3              20.0  ...            327.0        116\n",
              "3        4               0.0  ...            105.0        107\n",
              "4        5               0.0  ...            994.0        100\n",
              "\n",
              "[5 rows x 15 columns]"
            ]
          },
          "metadata": {},
          "execution_count": 18
        }
      ]
    },
    {
      "cell_type": "code",
      "metadata": {
        "colab": {
          "base_uri": "https://localhost:8080/",
          "height": 226
        },
        "id": "RKSus8WGQYr8",
        "outputId": "67a65926-e62a-4f38-dac2-8b017627c2d8"
      },
      "source": [
        "ies_recursos['num_recursos_medio'] = ies_recursos['recursos_totais'] / ies_recursos['num_curso']\n",
        "ies_recursos = ies_recursos.reset_index()\n",
        "ies_recursos.head()"
      ],
      "execution_count": 19,
      "outputs": [
        {
          "output_type": "execute_result",
          "data": {
            "text/html": [
              "<div>\n",
              "<style scoped>\n",
              "    .dataframe tbody tr th:only-of-type {\n",
              "        vertical-align: middle;\n",
              "    }\n",
              "\n",
              "    .dataframe tbody tr th {\n",
              "        vertical-align: top;\n",
              "    }\n",
              "\n",
              "    .dataframe thead th {\n",
              "        text-align: right;\n",
              "    }\n",
              "</style>\n",
              "<table border=\"1\" class=\"dataframe\">\n",
              "  <thead>\n",
              "    <tr style=\"text-align: right;\">\n",
              "      <th></th>\n",
              "      <th>index</th>\n",
              "      <th>cod_ies</th>\n",
              "      <th>material_digital</th>\n",
              "      <th>material_ampliado</th>\n",
              "      <th>material_tatil</th>\n",
              "      <th>material_impresso</th>\n",
              "      <th>material_audio</th>\n",
              "      <th>material_braille</th>\n",
              "      <th>material_libras</th>\n",
              "      <th>disciplina_libras</th>\n",
              "      <th>tradutor_libras</th>\n",
              "      <th>guia_interprete</th>\n",
              "      <th>recursos_comunicacao</th>\n",
              "      <th>recursos_informatica</th>\n",
              "      <th>recursos_totais</th>\n",
              "      <th>num_curso</th>\n",
              "      <th>num_recursos_medio</th>\n",
              "    </tr>\n",
              "  </thead>\n",
              "  <tbody>\n",
              "    <tr>\n",
              "      <th>0</th>\n",
              "      <td>0</td>\n",
              "      <td>1</td>\n",
              "      <td>11.0</td>\n",
              "      <td>13.0</td>\n",
              "      <td>3.0</td>\n",
              "      <td>9.0</td>\n",
              "      <td>5.0</td>\n",
              "      <td>3.0</td>\n",
              "      <td>5.0</td>\n",
              "      <td>66.0</td>\n",
              "      <td>26.0</td>\n",
              "      <td>11.0</td>\n",
              "      <td>7.0</td>\n",
              "      <td>5.0</td>\n",
              "      <td>164.0</td>\n",
              "      <td>114</td>\n",
              "      <td>1.438596</td>\n",
              "    </tr>\n",
              "    <tr>\n",
              "      <th>1</th>\n",
              "      <td>1</td>\n",
              "      <td>2</td>\n",
              "      <td>149.0</td>\n",
              "      <td>148.0</td>\n",
              "      <td>149.0</td>\n",
              "      <td>149.0</td>\n",
              "      <td>148.0</td>\n",
              "      <td>149.0</td>\n",
              "      <td>149.0</td>\n",
              "      <td>149.0</td>\n",
              "      <td>149.0</td>\n",
              "      <td>149.0</td>\n",
              "      <td>148.0</td>\n",
              "      <td>149.0</td>\n",
              "      <td>1785.0</td>\n",
              "      <td>149</td>\n",
              "      <td>11.979866</td>\n",
              "    </tr>\n",
              "    <tr>\n",
              "      <th>2</th>\n",
              "      <td>2</td>\n",
              "      <td>3</td>\n",
              "      <td>20.0</td>\n",
              "      <td>15.0</td>\n",
              "      <td>16.0</td>\n",
              "      <td>21.0</td>\n",
              "      <td>14.0</td>\n",
              "      <td>20.0</td>\n",
              "      <td>23.0</td>\n",
              "      <td>91.0</td>\n",
              "      <td>41.0</td>\n",
              "      <td>31.0</td>\n",
              "      <td>11.0</td>\n",
              "      <td>24.0</td>\n",
              "      <td>327.0</td>\n",
              "      <td>116</td>\n",
              "      <td>2.818966</td>\n",
              "    </tr>\n",
              "    <tr>\n",
              "      <th>3</th>\n",
              "      <td>3</td>\n",
              "      <td>4</td>\n",
              "      <td>0.0</td>\n",
              "      <td>0.0</td>\n",
              "      <td>0.0</td>\n",
              "      <td>0.0</td>\n",
              "      <td>0.0</td>\n",
              "      <td>0.0</td>\n",
              "      <td>0.0</td>\n",
              "      <td>105.0</td>\n",
              "      <td>0.0</td>\n",
              "      <td>0.0</td>\n",
              "      <td>0.0</td>\n",
              "      <td>0.0</td>\n",
              "      <td>105.0</td>\n",
              "      <td>107</td>\n",
              "      <td>0.981308</td>\n",
              "    </tr>\n",
              "    <tr>\n",
              "      <th>4</th>\n",
              "      <td>4</td>\n",
              "      <td>5</td>\n",
              "      <td>0.0</td>\n",
              "      <td>99.0</td>\n",
              "      <td>100.0</td>\n",
              "      <td>99.0</td>\n",
              "      <td>1.0</td>\n",
              "      <td>100.0</td>\n",
              "      <td>99.0</td>\n",
              "      <td>99.0</td>\n",
              "      <td>100.0</td>\n",
              "      <td>99.0</td>\n",
              "      <td>99.0</td>\n",
              "      <td>99.0</td>\n",
              "      <td>994.0</td>\n",
              "      <td>100</td>\n",
              "      <td>9.940000</td>\n",
              "    </tr>\n",
              "  </tbody>\n",
              "</table>\n",
              "</div>"
            ],
            "text/plain": [
              "   index  cod_ies  ...  num_curso  num_recursos_medio\n",
              "0      0        1  ...        114            1.438596\n",
              "1      1        2  ...        149           11.979866\n",
              "2      2        3  ...        116            2.818966\n",
              "3      3        4  ...        107            0.981308\n",
              "4      4        5  ...        100            9.940000\n",
              "\n",
              "[5 rows x 17 columns]"
            ]
          },
          "metadata": {},
          "execution_count": 19
        }
      ]
    },
    {
      "cell_type": "code",
      "metadata": {
        "id": "kuAKiNquNna7",
        "colab": {
          "base_uri": "https://localhost:8080/",
          "height": 206
        },
        "outputId": "fc925c78-7fb6-4cea-ce32-870c604bb2ab"
      },
      "source": [
        "ies_recursos = ies_recursos[['cod_ies','num_recursos_medio','num_curso']]\n",
        "ies_recursos.head()"
      ],
      "execution_count": 20,
      "outputs": [
        {
          "output_type": "execute_result",
          "data": {
            "text/html": [
              "<div>\n",
              "<style scoped>\n",
              "    .dataframe tbody tr th:only-of-type {\n",
              "        vertical-align: middle;\n",
              "    }\n",
              "\n",
              "    .dataframe tbody tr th {\n",
              "        vertical-align: top;\n",
              "    }\n",
              "\n",
              "    .dataframe thead th {\n",
              "        text-align: right;\n",
              "    }\n",
              "</style>\n",
              "<table border=\"1\" class=\"dataframe\">\n",
              "  <thead>\n",
              "    <tr style=\"text-align: right;\">\n",
              "      <th></th>\n",
              "      <th>cod_ies</th>\n",
              "      <th>num_recursos_medio</th>\n",
              "      <th>num_curso</th>\n",
              "    </tr>\n",
              "  </thead>\n",
              "  <tbody>\n",
              "    <tr>\n",
              "      <th>0</th>\n",
              "      <td>1</td>\n",
              "      <td>1.438596</td>\n",
              "      <td>114</td>\n",
              "    </tr>\n",
              "    <tr>\n",
              "      <th>1</th>\n",
              "      <td>2</td>\n",
              "      <td>11.979866</td>\n",
              "      <td>149</td>\n",
              "    </tr>\n",
              "    <tr>\n",
              "      <th>2</th>\n",
              "      <td>3</td>\n",
              "      <td>2.818966</td>\n",
              "      <td>116</td>\n",
              "    </tr>\n",
              "    <tr>\n",
              "      <th>3</th>\n",
              "      <td>4</td>\n",
              "      <td>0.981308</td>\n",
              "      <td>107</td>\n",
              "    </tr>\n",
              "    <tr>\n",
              "      <th>4</th>\n",
              "      <td>5</td>\n",
              "      <td>9.940000</td>\n",
              "      <td>100</td>\n",
              "    </tr>\n",
              "  </tbody>\n",
              "</table>\n",
              "</div>"
            ],
            "text/plain": [
              "   cod_ies  num_recursos_medio  num_curso\n",
              "0        1            1.438596        114\n",
              "1        2           11.979866        149\n",
              "2        3            2.818966        116\n",
              "3        4            0.981308        107\n",
              "4        5            9.940000        100"
            ]
          },
          "metadata": {},
          "execution_count": 20
        }
      ]
    },
    {
      "cell_type": "markdown",
      "metadata": {
        "id": "6EP7g40UZ2DN"
      },
      "source": [
        "### 1.4.Alunos com deficiência"
      ]
    },
    {
      "cell_type": "code",
      "metadata": {
        "colab": {
          "base_uri": "https://localhost:8080/",
          "height": 163
        },
        "id": "iumA0-ojJV-X",
        "outputId": "65f5f3ff-23d8-469b-bb55-1c7ea4139a4b"
      },
      "source": [
        "#Contando a quantidade de alunos com deficiência por IES\n",
        "ies_alunos = pd.read_csv('alunodeficiente_2019.csv', sep=',', encoding='latin1', usecols=['CO_IES','IN_DEFICIENCIA_AUDITIVA','IN_DEFICIENCIA_FISICA','IN_DEFICIENCIA_INTELECTUAL','IN_DEFICIENCIA_MULTIPLA','IN_DEFICIENCIA_SURDEZ','IN_DEFICIENCIA_SURDOCEGUEIRA','IN_DEFICIENCIA_BAIXA_VISAO','IN_DEFICIENCIA_CEGUEIRA','IN_DEFICIENCIA_SUPERDOTACAO','IN_TGD_AUTISMO','IN_TGD_SINDROME_ASPERGER','IN_TGD_SINDROME_RETT','IN_TGD_TRANSTOR_DESINTEGRATIVO'])\n",
        "ies_alunos.head(3)"
      ],
      "execution_count": 21,
      "outputs": [
        {
          "output_type": "execute_result",
          "data": {
            "text/html": [
              "<div>\n",
              "<style scoped>\n",
              "    .dataframe tbody tr th:only-of-type {\n",
              "        vertical-align: middle;\n",
              "    }\n",
              "\n",
              "    .dataframe tbody tr th {\n",
              "        vertical-align: top;\n",
              "    }\n",
              "\n",
              "    .dataframe thead th {\n",
              "        text-align: right;\n",
              "    }\n",
              "</style>\n",
              "<table border=\"1\" class=\"dataframe\">\n",
              "  <thead>\n",
              "    <tr style=\"text-align: right;\">\n",
              "      <th></th>\n",
              "      <th>CO_IES</th>\n",
              "      <th>IN_DEFICIENCIA_AUDITIVA</th>\n",
              "      <th>IN_DEFICIENCIA_FISICA</th>\n",
              "      <th>IN_DEFICIENCIA_INTELECTUAL</th>\n",
              "      <th>IN_DEFICIENCIA_MULTIPLA</th>\n",
              "      <th>IN_DEFICIENCIA_SURDEZ</th>\n",
              "      <th>IN_DEFICIENCIA_SURDOCEGUEIRA</th>\n",
              "      <th>IN_DEFICIENCIA_BAIXA_VISAO</th>\n",
              "      <th>IN_DEFICIENCIA_CEGUEIRA</th>\n",
              "      <th>IN_DEFICIENCIA_SUPERDOTACAO</th>\n",
              "      <th>IN_TGD_AUTISMO</th>\n",
              "      <th>IN_TGD_SINDROME_ASPERGER</th>\n",
              "      <th>IN_TGD_SINDROME_RETT</th>\n",
              "      <th>IN_TGD_TRANSTOR_DESINTEGRATIVO</th>\n",
              "    </tr>\n",
              "  </thead>\n",
              "  <tbody>\n",
              "    <tr>\n",
              "      <th>0</th>\n",
              "      <td>1</td>\n",
              "      <td>0.0</td>\n",
              "      <td>1.0</td>\n",
              "      <td>0.0</td>\n",
              "      <td>0.0</td>\n",
              "      <td>0.0</td>\n",
              "      <td>0.0</td>\n",
              "      <td>0.0</td>\n",
              "      <td>0.0</td>\n",
              "      <td>0.0</td>\n",
              "      <td>0.0</td>\n",
              "      <td>0.0</td>\n",
              "      <td>0.0</td>\n",
              "      <td>0.0</td>\n",
              "    </tr>\n",
              "    <tr>\n",
              "      <th>1</th>\n",
              "      <td>1</td>\n",
              "      <td>0.0</td>\n",
              "      <td>1.0</td>\n",
              "      <td>0.0</td>\n",
              "      <td>0.0</td>\n",
              "      <td>0.0</td>\n",
              "      <td>0.0</td>\n",
              "      <td>0.0</td>\n",
              "      <td>0.0</td>\n",
              "      <td>0.0</td>\n",
              "      <td>0.0</td>\n",
              "      <td>0.0</td>\n",
              "      <td>0.0</td>\n",
              "      <td>0.0</td>\n",
              "    </tr>\n",
              "    <tr>\n",
              "      <th>2</th>\n",
              "      <td>1</td>\n",
              "      <td>0.0</td>\n",
              "      <td>1.0</td>\n",
              "      <td>0.0</td>\n",
              "      <td>0.0</td>\n",
              "      <td>0.0</td>\n",
              "      <td>0.0</td>\n",
              "      <td>0.0</td>\n",
              "      <td>0.0</td>\n",
              "      <td>0.0</td>\n",
              "      <td>0.0</td>\n",
              "      <td>0.0</td>\n",
              "      <td>0.0</td>\n",
              "      <td>0.0</td>\n",
              "    </tr>\n",
              "  </tbody>\n",
              "</table>\n",
              "</div>"
            ],
            "text/plain": [
              "   CO_IES  ...  IN_TGD_TRANSTOR_DESINTEGRATIVO\n",
              "0       1  ...                             0.0\n",
              "1       1  ...                             0.0\n",
              "2       1  ...                             0.0\n",
              "\n",
              "[3 rows x 14 columns]"
            ]
          },
          "metadata": {},
          "execution_count": 21
        }
      ]
    },
    {
      "cell_type": "code",
      "metadata": {
        "colab": {
          "base_uri": "https://localhost:8080/",
          "height": 258
        },
        "id": "AKzZPd0cUfm7",
        "outputId": "b3496ae6-01d3-4001-9bf1-cce23e9ebdb9"
      },
      "source": [
        "#Contando a quantidade de curso por IES\n",
        "ies_alunos = ies_alunos.groupby('CO_IES').sum()\n",
        "ies_alunos.head()"
      ],
      "execution_count": 22,
      "outputs": [
        {
          "output_type": "execute_result",
          "data": {
            "text/html": [
              "<div>\n",
              "<style scoped>\n",
              "    .dataframe tbody tr th:only-of-type {\n",
              "        vertical-align: middle;\n",
              "    }\n",
              "\n",
              "    .dataframe tbody tr th {\n",
              "        vertical-align: top;\n",
              "    }\n",
              "\n",
              "    .dataframe thead th {\n",
              "        text-align: right;\n",
              "    }\n",
              "</style>\n",
              "<table border=\"1\" class=\"dataframe\">\n",
              "  <thead>\n",
              "    <tr style=\"text-align: right;\">\n",
              "      <th></th>\n",
              "      <th>IN_DEFICIENCIA_AUDITIVA</th>\n",
              "      <th>IN_DEFICIENCIA_FISICA</th>\n",
              "      <th>IN_DEFICIENCIA_INTELECTUAL</th>\n",
              "      <th>IN_DEFICIENCIA_MULTIPLA</th>\n",
              "      <th>IN_DEFICIENCIA_SURDEZ</th>\n",
              "      <th>IN_DEFICIENCIA_SURDOCEGUEIRA</th>\n",
              "      <th>IN_DEFICIENCIA_BAIXA_VISAO</th>\n",
              "      <th>IN_DEFICIENCIA_CEGUEIRA</th>\n",
              "      <th>IN_DEFICIENCIA_SUPERDOTACAO</th>\n",
              "      <th>IN_TGD_AUTISMO</th>\n",
              "      <th>IN_TGD_SINDROME_ASPERGER</th>\n",
              "      <th>IN_TGD_SINDROME_RETT</th>\n",
              "      <th>IN_TGD_TRANSTOR_DESINTEGRATIVO</th>\n",
              "    </tr>\n",
              "    <tr>\n",
              "      <th>CO_IES</th>\n",
              "      <th></th>\n",
              "      <th></th>\n",
              "      <th></th>\n",
              "      <th></th>\n",
              "      <th></th>\n",
              "      <th></th>\n",
              "      <th></th>\n",
              "      <th></th>\n",
              "      <th></th>\n",
              "      <th></th>\n",
              "      <th></th>\n",
              "      <th></th>\n",
              "      <th></th>\n",
              "    </tr>\n",
              "  </thead>\n",
              "  <tbody>\n",
              "    <tr>\n",
              "      <th>1</th>\n",
              "      <td>71.0</td>\n",
              "      <td>149.0</td>\n",
              "      <td>10.0</td>\n",
              "      <td>4.0</td>\n",
              "      <td>25.0</td>\n",
              "      <td>0.0</td>\n",
              "      <td>49.0</td>\n",
              "      <td>16.0</td>\n",
              "      <td>0.0</td>\n",
              "      <td>1.0</td>\n",
              "      <td>8.0</td>\n",
              "      <td>0.0</td>\n",
              "      <td>4.0</td>\n",
              "    </tr>\n",
              "    <tr>\n",
              "      <th>2</th>\n",
              "      <td>24.0</td>\n",
              "      <td>63.0</td>\n",
              "      <td>8.0</td>\n",
              "      <td>6.0</td>\n",
              "      <td>14.0</td>\n",
              "      <td>2.0</td>\n",
              "      <td>32.0</td>\n",
              "      <td>3.0</td>\n",
              "      <td>3.0</td>\n",
              "      <td>45.0</td>\n",
              "      <td>1.0</td>\n",
              "      <td>0.0</td>\n",
              "      <td>0.0</td>\n",
              "    </tr>\n",
              "    <tr>\n",
              "      <th>3</th>\n",
              "      <td>36.0</td>\n",
              "      <td>243.0</td>\n",
              "      <td>17.0</td>\n",
              "      <td>3.0</td>\n",
              "      <td>31.0</td>\n",
              "      <td>0.0</td>\n",
              "      <td>105.0</td>\n",
              "      <td>12.0</td>\n",
              "      <td>1.0</td>\n",
              "      <td>0.0</td>\n",
              "      <td>1.0</td>\n",
              "      <td>0.0</td>\n",
              "      <td>0.0</td>\n",
              "    </tr>\n",
              "    <tr>\n",
              "      <th>4</th>\n",
              "      <td>35.0</td>\n",
              "      <td>70.0</td>\n",
              "      <td>64.0</td>\n",
              "      <td>3.0</td>\n",
              "      <td>0.0</td>\n",
              "      <td>0.0</td>\n",
              "      <td>64.0</td>\n",
              "      <td>1.0</td>\n",
              "      <td>2.0</td>\n",
              "      <td>0.0</td>\n",
              "      <td>0.0</td>\n",
              "      <td>0.0</td>\n",
              "      <td>0.0</td>\n",
              "    </tr>\n",
              "    <tr>\n",
              "      <th>5</th>\n",
              "      <td>67.0</td>\n",
              "      <td>215.0</td>\n",
              "      <td>7.0</td>\n",
              "      <td>4.0</td>\n",
              "      <td>3.0</td>\n",
              "      <td>0.0</td>\n",
              "      <td>5.0</td>\n",
              "      <td>102.0</td>\n",
              "      <td>5.0</td>\n",
              "      <td>36.0</td>\n",
              "      <td>0.0</td>\n",
              "      <td>0.0</td>\n",
              "      <td>1.0</td>\n",
              "    </tr>\n",
              "  </tbody>\n",
              "</table>\n",
              "</div>"
            ],
            "text/plain": [
              "        IN_DEFICIENCIA_AUDITIVA  ...  IN_TGD_TRANSTOR_DESINTEGRATIVO\n",
              "CO_IES                           ...                                \n",
              "1                          71.0  ...                             4.0\n",
              "2                          24.0  ...                             0.0\n",
              "3                          36.0  ...                             0.0\n",
              "4                          35.0  ...                             0.0\n",
              "5                          67.0  ...                             1.0\n",
              "\n",
              "[5 rows x 13 columns]"
            ]
          },
          "metadata": {},
          "execution_count": 22
        }
      ]
    },
    {
      "cell_type": "code",
      "metadata": {
        "colab": {
          "base_uri": "https://localhost:8080/",
          "height": 226
        },
        "id": "QfNdREC5VMYe",
        "outputId": "f08a8fd4-5fcc-46ea-f5f7-4bd55b469f5c"
      },
      "source": [
        "ies_alunos['ALUNOS_DEFICIENCIA'] = ies_alunos['IN_DEFICIENCIA_AUDITIVA'] + ies_alunos['IN_DEFICIENCIA_FISICA'] + ies_alunos['IN_DEFICIENCIA_INTELECTUAL'] + ies_alunos['IN_DEFICIENCIA_MULTIPLA'] + ies_alunos['IN_DEFICIENCIA_SURDEZ'] + ies_alunos['IN_DEFICIENCIA_SURDOCEGUEIRA'] + ies_alunos['IN_DEFICIENCIA_BAIXA_VISAO'] + ies_alunos['IN_DEFICIENCIA_CEGUEIRA'] + ies_alunos['IN_DEFICIENCIA_SUPERDOTACAO'] + ies_alunos['IN_TGD_AUTISMO'] + ies_alunos['IN_TGD_SINDROME_ASPERGER'] + ies_alunos['IN_TGD_SINDROME_RETT'] + ies_alunos['IN_TGD_TRANSTOR_DESINTEGRATIVO']\n",
        "ies_alunos = ies_alunos.reset_index()\n",
        "ies_alunos.head()"
      ],
      "execution_count": 23,
      "outputs": [
        {
          "output_type": "execute_result",
          "data": {
            "text/html": [
              "<div>\n",
              "<style scoped>\n",
              "    .dataframe tbody tr th:only-of-type {\n",
              "        vertical-align: middle;\n",
              "    }\n",
              "\n",
              "    .dataframe tbody tr th {\n",
              "        vertical-align: top;\n",
              "    }\n",
              "\n",
              "    .dataframe thead th {\n",
              "        text-align: right;\n",
              "    }\n",
              "</style>\n",
              "<table border=\"1\" class=\"dataframe\">\n",
              "  <thead>\n",
              "    <tr style=\"text-align: right;\">\n",
              "      <th></th>\n",
              "      <th>CO_IES</th>\n",
              "      <th>IN_DEFICIENCIA_AUDITIVA</th>\n",
              "      <th>IN_DEFICIENCIA_FISICA</th>\n",
              "      <th>IN_DEFICIENCIA_INTELECTUAL</th>\n",
              "      <th>IN_DEFICIENCIA_MULTIPLA</th>\n",
              "      <th>IN_DEFICIENCIA_SURDEZ</th>\n",
              "      <th>IN_DEFICIENCIA_SURDOCEGUEIRA</th>\n",
              "      <th>IN_DEFICIENCIA_BAIXA_VISAO</th>\n",
              "      <th>IN_DEFICIENCIA_CEGUEIRA</th>\n",
              "      <th>IN_DEFICIENCIA_SUPERDOTACAO</th>\n",
              "      <th>IN_TGD_AUTISMO</th>\n",
              "      <th>IN_TGD_SINDROME_ASPERGER</th>\n",
              "      <th>IN_TGD_SINDROME_RETT</th>\n",
              "      <th>IN_TGD_TRANSTOR_DESINTEGRATIVO</th>\n",
              "      <th>ALUNOS_DEFICIENCIA</th>\n",
              "    </tr>\n",
              "  </thead>\n",
              "  <tbody>\n",
              "    <tr>\n",
              "      <th>0</th>\n",
              "      <td>1</td>\n",
              "      <td>71.0</td>\n",
              "      <td>149.0</td>\n",
              "      <td>10.0</td>\n",
              "      <td>4.0</td>\n",
              "      <td>25.0</td>\n",
              "      <td>0.0</td>\n",
              "      <td>49.0</td>\n",
              "      <td>16.0</td>\n",
              "      <td>0.0</td>\n",
              "      <td>1.0</td>\n",
              "      <td>8.0</td>\n",
              "      <td>0.0</td>\n",
              "      <td>4.0</td>\n",
              "      <td>337.0</td>\n",
              "    </tr>\n",
              "    <tr>\n",
              "      <th>1</th>\n",
              "      <td>2</td>\n",
              "      <td>24.0</td>\n",
              "      <td>63.0</td>\n",
              "      <td>8.0</td>\n",
              "      <td>6.0</td>\n",
              "      <td>14.0</td>\n",
              "      <td>2.0</td>\n",
              "      <td>32.0</td>\n",
              "      <td>3.0</td>\n",
              "      <td>3.0</td>\n",
              "      <td>45.0</td>\n",
              "      <td>1.0</td>\n",
              "      <td>0.0</td>\n",
              "      <td>0.0</td>\n",
              "      <td>201.0</td>\n",
              "    </tr>\n",
              "    <tr>\n",
              "      <th>2</th>\n",
              "      <td>3</td>\n",
              "      <td>36.0</td>\n",
              "      <td>243.0</td>\n",
              "      <td>17.0</td>\n",
              "      <td>3.0</td>\n",
              "      <td>31.0</td>\n",
              "      <td>0.0</td>\n",
              "      <td>105.0</td>\n",
              "      <td>12.0</td>\n",
              "      <td>1.0</td>\n",
              "      <td>0.0</td>\n",
              "      <td>1.0</td>\n",
              "      <td>0.0</td>\n",
              "      <td>0.0</td>\n",
              "      <td>449.0</td>\n",
              "    </tr>\n",
              "    <tr>\n",
              "      <th>3</th>\n",
              "      <td>4</td>\n",
              "      <td>35.0</td>\n",
              "      <td>70.0</td>\n",
              "      <td>64.0</td>\n",
              "      <td>3.0</td>\n",
              "      <td>0.0</td>\n",
              "      <td>0.0</td>\n",
              "      <td>64.0</td>\n",
              "      <td>1.0</td>\n",
              "      <td>2.0</td>\n",
              "      <td>0.0</td>\n",
              "      <td>0.0</td>\n",
              "      <td>0.0</td>\n",
              "      <td>0.0</td>\n",
              "      <td>239.0</td>\n",
              "    </tr>\n",
              "    <tr>\n",
              "      <th>4</th>\n",
              "      <td>5</td>\n",
              "      <td>67.0</td>\n",
              "      <td>215.0</td>\n",
              "      <td>7.0</td>\n",
              "      <td>4.0</td>\n",
              "      <td>3.0</td>\n",
              "      <td>0.0</td>\n",
              "      <td>5.0</td>\n",
              "      <td>102.0</td>\n",
              "      <td>5.0</td>\n",
              "      <td>36.0</td>\n",
              "      <td>0.0</td>\n",
              "      <td>0.0</td>\n",
              "      <td>1.0</td>\n",
              "      <td>445.0</td>\n",
              "    </tr>\n",
              "  </tbody>\n",
              "</table>\n",
              "</div>"
            ],
            "text/plain": [
              "   CO_IES  ...  ALUNOS_DEFICIENCIA\n",
              "0       1  ...               337.0\n",
              "1       2  ...               201.0\n",
              "2       3  ...               449.0\n",
              "3       4  ...               239.0\n",
              "4       5  ...               445.0\n",
              "\n",
              "[5 rows x 15 columns]"
            ]
          },
          "metadata": {},
          "execution_count": 23
        }
      ]
    },
    {
      "cell_type": "code",
      "metadata": {
        "colab": {
          "base_uri": "https://localhost:8080/",
          "height": 206
        },
        "id": "foiJE-XQVvtJ",
        "outputId": "8cedb1a6-5c01-42cb-817f-bb7fad699f3c"
      },
      "source": [
        "ies_alunos = ies_alunos[['CO_IES','ALUNOS_DEFICIENCIA']]\n",
        "ies_alunos.head()"
      ],
      "execution_count": 24,
      "outputs": [
        {
          "output_type": "execute_result",
          "data": {
            "text/html": [
              "<div>\n",
              "<style scoped>\n",
              "    .dataframe tbody tr th:only-of-type {\n",
              "        vertical-align: middle;\n",
              "    }\n",
              "\n",
              "    .dataframe tbody tr th {\n",
              "        vertical-align: top;\n",
              "    }\n",
              "\n",
              "    .dataframe thead th {\n",
              "        text-align: right;\n",
              "    }\n",
              "</style>\n",
              "<table border=\"1\" class=\"dataframe\">\n",
              "  <thead>\n",
              "    <tr style=\"text-align: right;\">\n",
              "      <th></th>\n",
              "      <th>CO_IES</th>\n",
              "      <th>ALUNOS_DEFICIENCIA</th>\n",
              "    </tr>\n",
              "  </thead>\n",
              "  <tbody>\n",
              "    <tr>\n",
              "      <th>0</th>\n",
              "      <td>1</td>\n",
              "      <td>337.0</td>\n",
              "    </tr>\n",
              "    <tr>\n",
              "      <th>1</th>\n",
              "      <td>2</td>\n",
              "      <td>201.0</td>\n",
              "    </tr>\n",
              "    <tr>\n",
              "      <th>2</th>\n",
              "      <td>3</td>\n",
              "      <td>449.0</td>\n",
              "    </tr>\n",
              "    <tr>\n",
              "      <th>3</th>\n",
              "      <td>4</td>\n",
              "      <td>239.0</td>\n",
              "    </tr>\n",
              "    <tr>\n",
              "      <th>4</th>\n",
              "      <td>5</td>\n",
              "      <td>445.0</td>\n",
              "    </tr>\n",
              "  </tbody>\n",
              "</table>\n",
              "</div>"
            ],
            "text/plain": [
              "   CO_IES  ALUNOS_DEFICIENCIA\n",
              "0       1               337.0\n",
              "1       2               201.0\n",
              "2       3               449.0\n",
              "3       4               239.0\n",
              "4       5               445.0"
            ]
          },
          "metadata": {},
          "execution_count": 24
        }
      ]
    },
    {
      "cell_type": "code",
      "metadata": {
        "colab": {
          "base_uri": "https://localhost:8080/",
          "height": 206
        },
        "id": "c0HDi35HXd3t",
        "outputId": "a7d6edc6-a7ca-4c03-fa95-e7ca94fdde57"
      },
      "source": [
        "#Renomeando as colunas\n",
        "ies_alunos = ies_alunos.rename(columns={\n",
        "    'CO_IES':'cod_ies',\n",
        "    'ALUNOS_DEFICIENCIA':'alunos_deficiencia',\n",
        "    })\n",
        "ies_alunos.head()"
      ],
      "execution_count": 25,
      "outputs": [
        {
          "output_type": "execute_result",
          "data": {
            "text/html": [
              "<div>\n",
              "<style scoped>\n",
              "    .dataframe tbody tr th:only-of-type {\n",
              "        vertical-align: middle;\n",
              "    }\n",
              "\n",
              "    .dataframe tbody tr th {\n",
              "        vertical-align: top;\n",
              "    }\n",
              "\n",
              "    .dataframe thead th {\n",
              "        text-align: right;\n",
              "    }\n",
              "</style>\n",
              "<table border=\"1\" class=\"dataframe\">\n",
              "  <thead>\n",
              "    <tr style=\"text-align: right;\">\n",
              "      <th></th>\n",
              "      <th>cod_ies</th>\n",
              "      <th>alunos_deficiencia</th>\n",
              "    </tr>\n",
              "  </thead>\n",
              "  <tbody>\n",
              "    <tr>\n",
              "      <th>0</th>\n",
              "      <td>1</td>\n",
              "      <td>337.0</td>\n",
              "    </tr>\n",
              "    <tr>\n",
              "      <th>1</th>\n",
              "      <td>2</td>\n",
              "      <td>201.0</td>\n",
              "    </tr>\n",
              "    <tr>\n",
              "      <th>2</th>\n",
              "      <td>3</td>\n",
              "      <td>449.0</td>\n",
              "    </tr>\n",
              "    <tr>\n",
              "      <th>3</th>\n",
              "      <td>4</td>\n",
              "      <td>239.0</td>\n",
              "    </tr>\n",
              "    <tr>\n",
              "      <th>4</th>\n",
              "      <td>5</td>\n",
              "      <td>445.0</td>\n",
              "    </tr>\n",
              "  </tbody>\n",
              "</table>\n",
              "</div>"
            ],
            "text/plain": [
              "   cod_ies  alunos_deficiencia\n",
              "0        1               337.0\n",
              "1        2               201.0\n",
              "2        3               449.0\n",
              "3        4               239.0\n",
              "4        5               445.0"
            ]
          },
          "metadata": {},
          "execution_count": 25
        }
      ]
    },
    {
      "cell_type": "markdown",
      "metadata": {
        "id": "KPGnZ8eOZ9PN"
      },
      "source": [
        "### 1.5.Dados da IES"
      ]
    },
    {
      "cell_type": "markdown",
      "metadata": {
        "id": "JJUjT1lLbeB5"
      },
      "source": [
        "A fim de fazer uma integração de dados referentes à IES, vamos juntar em um único dataset essas informações para que possam servir de entrada para o clustering."
      ]
    },
    {
      "cell_type": "code",
      "metadata": {
        "colab": {
          "base_uri": "https://localhost:8080/",
          "height": 206
        },
        "id": "Uz-729_97g9B",
        "outputId": "38dc2ade-2870-477a-f80f-e1ff5c303de7"
      },
      "source": [
        "ies = pd.merge(ies_igc, ies_receitas, how='inner', on='cod_ies')\n",
        "ies.head()"
      ],
      "execution_count": 26,
      "outputs": [
        {
          "output_type": "execute_result",
          "data": {
            "text/html": [
              "<div>\n",
              "<style scoped>\n",
              "    .dataframe tbody tr th:only-of-type {\n",
              "        vertical-align: middle;\n",
              "    }\n",
              "\n",
              "    .dataframe tbody tr th {\n",
              "        vertical-align: top;\n",
              "    }\n",
              "\n",
              "    .dataframe thead th {\n",
              "        text-align: right;\n",
              "    }\n",
              "</style>\n",
              "<table border=\"1\" class=\"dataframe\">\n",
              "  <thead>\n",
              "    <tr style=\"text-align: right;\">\n",
              "      <th></th>\n",
              "      <th>cod_ies</th>\n",
              "      <th>conceito_medio_graduacao</th>\n",
              "      <th>igc_continuo</th>\n",
              "      <th>categoria_administrativa</th>\n",
              "      <th>despesa_investimento</th>\n",
              "      <th>receitas</th>\n",
              "    </tr>\n",
              "  </thead>\n",
              "  <tbody>\n",
              "    <tr>\n",
              "      <th>0</th>\n",
              "      <td>1</td>\n",
              "      <td>2.924962</td>\n",
              "      <td>3.236518</td>\n",
              "      <td>1</td>\n",
              "      <td>9606414.13</td>\n",
              "      <td>9.270910e+08</td>\n",
              "    </tr>\n",
              "    <tr>\n",
              "      <th>1</th>\n",
              "      <td>2</td>\n",
              "      <td>3.269586</td>\n",
              "      <td>3.941659</td>\n",
              "      <td>1</td>\n",
              "      <td>23154904.42</td>\n",
              "      <td>1.597568e+08</td>\n",
              "    </tr>\n",
              "    <tr>\n",
              "      <th>2</th>\n",
              "      <td>3</td>\n",
              "      <td>3.105500</td>\n",
              "      <td>3.367594</td>\n",
              "      <td>1</td>\n",
              "      <td>8212361.64</td>\n",
              "      <td>9.457277e+08</td>\n",
              "    </tr>\n",
              "    <tr>\n",
              "      <th>3</th>\n",
              "      <td>4</td>\n",
              "      <td>2.821851</td>\n",
              "      <td>3.048187</td>\n",
              "      <td>1</td>\n",
              "      <td>12676251.59</td>\n",
              "      <td>1.070640e+09</td>\n",
              "    </tr>\n",
              "    <tr>\n",
              "      <th>4</th>\n",
              "      <td>5</td>\n",
              "      <td>2.713283</td>\n",
              "      <td>2.960657</td>\n",
              "      <td>1</td>\n",
              "      <td>7835737.00</td>\n",
              "      <td>8.559507e+08</td>\n",
              "    </tr>\n",
              "  </tbody>\n",
              "</table>\n",
              "</div>"
            ],
            "text/plain": [
              "   cod_ies  conceito_medio_graduacao  ...  despesa_investimento      receitas\n",
              "0        1                  2.924962  ...            9606414.13  9.270910e+08\n",
              "1        2                  3.269586  ...           23154904.42  1.597568e+08\n",
              "2        3                  3.105500  ...            8212361.64  9.457277e+08\n",
              "3        4                  2.821851  ...           12676251.59  1.070640e+09\n",
              "4        5                  2.713283  ...            7835737.00  8.559507e+08\n",
              "\n",
              "[5 rows x 6 columns]"
            ]
          },
          "metadata": {},
          "execution_count": 26
        }
      ]
    },
    {
      "cell_type": "code",
      "metadata": {
        "colab": {
          "base_uri": "https://localhost:8080/",
          "height": 226
        },
        "id": "GAP6Jg3O60F-",
        "outputId": "ba1632cf-6170-414b-a54d-5c666dc5fe22"
      },
      "source": [
        "ies = pd.merge(ies, ies_recursos, how='inner', on='cod_ies')\n",
        "ies.head()"
      ],
      "execution_count": 27,
      "outputs": [
        {
          "output_type": "execute_result",
          "data": {
            "text/html": [
              "<div>\n",
              "<style scoped>\n",
              "    .dataframe tbody tr th:only-of-type {\n",
              "        vertical-align: middle;\n",
              "    }\n",
              "\n",
              "    .dataframe tbody tr th {\n",
              "        vertical-align: top;\n",
              "    }\n",
              "\n",
              "    .dataframe thead th {\n",
              "        text-align: right;\n",
              "    }\n",
              "</style>\n",
              "<table border=\"1\" class=\"dataframe\">\n",
              "  <thead>\n",
              "    <tr style=\"text-align: right;\">\n",
              "      <th></th>\n",
              "      <th>cod_ies</th>\n",
              "      <th>conceito_medio_graduacao</th>\n",
              "      <th>igc_continuo</th>\n",
              "      <th>categoria_administrativa</th>\n",
              "      <th>despesa_investimento</th>\n",
              "      <th>receitas</th>\n",
              "      <th>num_recursos_medio</th>\n",
              "      <th>num_curso</th>\n",
              "    </tr>\n",
              "  </thead>\n",
              "  <tbody>\n",
              "    <tr>\n",
              "      <th>0</th>\n",
              "      <td>1</td>\n",
              "      <td>2.924962</td>\n",
              "      <td>3.236518</td>\n",
              "      <td>1</td>\n",
              "      <td>9606414.13</td>\n",
              "      <td>9.270910e+08</td>\n",
              "      <td>1.438596</td>\n",
              "      <td>114</td>\n",
              "    </tr>\n",
              "    <tr>\n",
              "      <th>1</th>\n",
              "      <td>2</td>\n",
              "      <td>3.269586</td>\n",
              "      <td>3.941659</td>\n",
              "      <td>1</td>\n",
              "      <td>23154904.42</td>\n",
              "      <td>1.597568e+08</td>\n",
              "      <td>11.979866</td>\n",
              "      <td>149</td>\n",
              "    </tr>\n",
              "    <tr>\n",
              "      <th>2</th>\n",
              "      <td>3</td>\n",
              "      <td>3.105500</td>\n",
              "      <td>3.367594</td>\n",
              "      <td>1</td>\n",
              "      <td>8212361.64</td>\n",
              "      <td>9.457277e+08</td>\n",
              "      <td>2.818966</td>\n",
              "      <td>116</td>\n",
              "    </tr>\n",
              "    <tr>\n",
              "      <th>3</th>\n",
              "      <td>4</td>\n",
              "      <td>2.821851</td>\n",
              "      <td>3.048187</td>\n",
              "      <td>1</td>\n",
              "      <td>12676251.59</td>\n",
              "      <td>1.070640e+09</td>\n",
              "      <td>0.981308</td>\n",
              "      <td>107</td>\n",
              "    </tr>\n",
              "    <tr>\n",
              "      <th>4</th>\n",
              "      <td>5</td>\n",
              "      <td>2.713283</td>\n",
              "      <td>2.960657</td>\n",
              "      <td>1</td>\n",
              "      <td>7835737.00</td>\n",
              "      <td>8.559507e+08</td>\n",
              "      <td>9.940000</td>\n",
              "      <td>100</td>\n",
              "    </tr>\n",
              "  </tbody>\n",
              "</table>\n",
              "</div>"
            ],
            "text/plain": [
              "   cod_ies  conceito_medio_graduacao  ...  num_recursos_medio  num_curso\n",
              "0        1                  2.924962  ...            1.438596        114\n",
              "1        2                  3.269586  ...           11.979866        149\n",
              "2        3                  3.105500  ...            2.818966        116\n",
              "3        4                  2.821851  ...            0.981308        107\n",
              "4        5                  2.713283  ...            9.940000        100\n",
              "\n",
              "[5 rows x 8 columns]"
            ]
          },
          "metadata": {},
          "execution_count": 27
        }
      ]
    },
    {
      "cell_type": "code",
      "metadata": {
        "colab": {
          "base_uri": "https://localhost:8080/",
          "height": 226
        },
        "id": "s4BOCmCLXN9P",
        "outputId": "825a1c35-4c85-456c-9518-791f2e85ea51"
      },
      "source": [
        "ies = pd.merge(ies, ies_alunos, how='inner', on='cod_ies')\n",
        "ies.head()"
      ],
      "execution_count": 28,
      "outputs": [
        {
          "output_type": "execute_result",
          "data": {
            "text/html": [
              "<div>\n",
              "<style scoped>\n",
              "    .dataframe tbody tr th:only-of-type {\n",
              "        vertical-align: middle;\n",
              "    }\n",
              "\n",
              "    .dataframe tbody tr th {\n",
              "        vertical-align: top;\n",
              "    }\n",
              "\n",
              "    .dataframe thead th {\n",
              "        text-align: right;\n",
              "    }\n",
              "</style>\n",
              "<table border=\"1\" class=\"dataframe\">\n",
              "  <thead>\n",
              "    <tr style=\"text-align: right;\">\n",
              "      <th></th>\n",
              "      <th>cod_ies</th>\n",
              "      <th>conceito_medio_graduacao</th>\n",
              "      <th>igc_continuo</th>\n",
              "      <th>categoria_administrativa</th>\n",
              "      <th>despesa_investimento</th>\n",
              "      <th>receitas</th>\n",
              "      <th>num_recursos_medio</th>\n",
              "      <th>num_curso</th>\n",
              "      <th>alunos_deficiencia</th>\n",
              "    </tr>\n",
              "  </thead>\n",
              "  <tbody>\n",
              "    <tr>\n",
              "      <th>0</th>\n",
              "      <td>1</td>\n",
              "      <td>2.924962</td>\n",
              "      <td>3.236518</td>\n",
              "      <td>1</td>\n",
              "      <td>9606414.13</td>\n",
              "      <td>9.270910e+08</td>\n",
              "      <td>1.438596</td>\n",
              "      <td>114</td>\n",
              "      <td>337.0</td>\n",
              "    </tr>\n",
              "    <tr>\n",
              "      <th>1</th>\n",
              "      <td>2</td>\n",
              "      <td>3.269586</td>\n",
              "      <td>3.941659</td>\n",
              "      <td>1</td>\n",
              "      <td>23154904.42</td>\n",
              "      <td>1.597568e+08</td>\n",
              "      <td>11.979866</td>\n",
              "      <td>149</td>\n",
              "      <td>201.0</td>\n",
              "    </tr>\n",
              "    <tr>\n",
              "      <th>2</th>\n",
              "      <td>3</td>\n",
              "      <td>3.105500</td>\n",
              "      <td>3.367594</td>\n",
              "      <td>1</td>\n",
              "      <td>8212361.64</td>\n",
              "      <td>9.457277e+08</td>\n",
              "      <td>2.818966</td>\n",
              "      <td>116</td>\n",
              "      <td>449.0</td>\n",
              "    </tr>\n",
              "    <tr>\n",
              "      <th>3</th>\n",
              "      <td>4</td>\n",
              "      <td>2.821851</td>\n",
              "      <td>3.048187</td>\n",
              "      <td>1</td>\n",
              "      <td>12676251.59</td>\n",
              "      <td>1.070640e+09</td>\n",
              "      <td>0.981308</td>\n",
              "      <td>107</td>\n",
              "      <td>239.0</td>\n",
              "    </tr>\n",
              "    <tr>\n",
              "      <th>4</th>\n",
              "      <td>5</td>\n",
              "      <td>2.713283</td>\n",
              "      <td>2.960657</td>\n",
              "      <td>1</td>\n",
              "      <td>7835737.00</td>\n",
              "      <td>8.559507e+08</td>\n",
              "      <td>9.940000</td>\n",
              "      <td>100</td>\n",
              "      <td>445.0</td>\n",
              "    </tr>\n",
              "  </tbody>\n",
              "</table>\n",
              "</div>"
            ],
            "text/plain": [
              "   cod_ies  conceito_medio_graduacao  ...  num_curso  alunos_deficiencia\n",
              "0        1                  2.924962  ...        114               337.0\n",
              "1        2                  3.269586  ...        149               201.0\n",
              "2        3                  3.105500  ...        116               449.0\n",
              "3        4                  2.821851  ...        107               239.0\n",
              "4        5                  2.713283  ...        100               445.0\n",
              "\n",
              "[5 rows x 9 columns]"
            ]
          },
          "metadata": {},
          "execution_count": 28
        }
      ]
    },
    {
      "cell_type": "code",
      "metadata": {
        "colab": {
          "base_uri": "https://localhost:8080/",
          "height": 226
        },
        "id": "BsiP3IlYD_pK",
        "outputId": "a2385ea1-d6f2-4066-b444-10e7541bf121"
      },
      "source": [
        "ies = ies[['cod_ies','categoria_administrativa','alunos_deficiencia','num_recursos_medio','num_curso','receitas','despesa_investimento','conceito_medio_graduacao','igc_continuo']]\n",
        "ies.head()"
      ],
      "execution_count": 29,
      "outputs": [
        {
          "output_type": "execute_result",
          "data": {
            "text/html": [
              "<div>\n",
              "<style scoped>\n",
              "    .dataframe tbody tr th:only-of-type {\n",
              "        vertical-align: middle;\n",
              "    }\n",
              "\n",
              "    .dataframe tbody tr th {\n",
              "        vertical-align: top;\n",
              "    }\n",
              "\n",
              "    .dataframe thead th {\n",
              "        text-align: right;\n",
              "    }\n",
              "</style>\n",
              "<table border=\"1\" class=\"dataframe\">\n",
              "  <thead>\n",
              "    <tr style=\"text-align: right;\">\n",
              "      <th></th>\n",
              "      <th>cod_ies</th>\n",
              "      <th>categoria_administrativa</th>\n",
              "      <th>alunos_deficiencia</th>\n",
              "      <th>num_recursos_medio</th>\n",
              "      <th>num_curso</th>\n",
              "      <th>receitas</th>\n",
              "      <th>despesa_investimento</th>\n",
              "      <th>conceito_medio_graduacao</th>\n",
              "      <th>igc_continuo</th>\n",
              "    </tr>\n",
              "  </thead>\n",
              "  <tbody>\n",
              "    <tr>\n",
              "      <th>0</th>\n",
              "      <td>1</td>\n",
              "      <td>1</td>\n",
              "      <td>337.0</td>\n",
              "      <td>1.438596</td>\n",
              "      <td>114</td>\n",
              "      <td>9.270910e+08</td>\n",
              "      <td>9606414.13</td>\n",
              "      <td>2.924962</td>\n",
              "      <td>3.236518</td>\n",
              "    </tr>\n",
              "    <tr>\n",
              "      <th>1</th>\n",
              "      <td>2</td>\n",
              "      <td>1</td>\n",
              "      <td>201.0</td>\n",
              "      <td>11.979866</td>\n",
              "      <td>149</td>\n",
              "      <td>1.597568e+08</td>\n",
              "      <td>23154904.42</td>\n",
              "      <td>3.269586</td>\n",
              "      <td>3.941659</td>\n",
              "    </tr>\n",
              "    <tr>\n",
              "      <th>2</th>\n",
              "      <td>3</td>\n",
              "      <td>1</td>\n",
              "      <td>449.0</td>\n",
              "      <td>2.818966</td>\n",
              "      <td>116</td>\n",
              "      <td>9.457277e+08</td>\n",
              "      <td>8212361.64</td>\n",
              "      <td>3.105500</td>\n",
              "      <td>3.367594</td>\n",
              "    </tr>\n",
              "    <tr>\n",
              "      <th>3</th>\n",
              "      <td>4</td>\n",
              "      <td>1</td>\n",
              "      <td>239.0</td>\n",
              "      <td>0.981308</td>\n",
              "      <td>107</td>\n",
              "      <td>1.070640e+09</td>\n",
              "      <td>12676251.59</td>\n",
              "      <td>2.821851</td>\n",
              "      <td>3.048187</td>\n",
              "    </tr>\n",
              "    <tr>\n",
              "      <th>4</th>\n",
              "      <td>5</td>\n",
              "      <td>1</td>\n",
              "      <td>445.0</td>\n",
              "      <td>9.940000</td>\n",
              "      <td>100</td>\n",
              "      <td>8.559507e+08</td>\n",
              "      <td>7835737.00</td>\n",
              "      <td>2.713283</td>\n",
              "      <td>2.960657</td>\n",
              "    </tr>\n",
              "  </tbody>\n",
              "</table>\n",
              "</div>"
            ],
            "text/plain": [
              "   cod_ies  categoria_administrativa  ...  conceito_medio_graduacao  igc_continuo\n",
              "0        1                         1  ...                  2.924962      3.236518\n",
              "1        2                         1  ...                  3.269586      3.941659\n",
              "2        3                         1  ...                  3.105500      3.367594\n",
              "3        4                         1  ...                  2.821851      3.048187\n",
              "4        5                         1  ...                  2.713283      2.960657\n",
              "\n",
              "[5 rows x 9 columns]"
            ]
          },
          "metadata": {},
          "execution_count": 29
        }
      ]
    },
    {
      "cell_type": "markdown",
      "metadata": {
        "id": "YDfwUjEMOZJI"
      },
      "source": [
        "### 1.6.Densidade de Kernel"
      ]
    },
    {
      "cell_type": "markdown",
      "metadata": {
        "id": "GSXhjKqsNkf9"
      },
      "source": [
        "Para termos uma melhor visualização dos nossos dados, foi feito ainda uma análise da densidade das features, \n",
        "por meio do kde plot (kernel density estimation plot). \n",
        "\n",
        "Nos gráficos a seguir, podemos observar uma estimativa da frequência relativa dos valores, ou seja, \n",
        "uma estimativa da função densidade de probabilidade da feature, em termos probabilísticos."
      ]
    },
    {
      "cell_type": "code",
      "metadata": {
        "colab": {
          "base_uri": "https://localhost:8080/",
          "height": 282
        },
        "id": "HcD8RGDNDw6C",
        "outputId": "0d83246a-aecb-419b-c01f-281fb51ae78e"
      },
      "source": [
        "#KDEPLOT 1\n",
        "plt.figure(1 , figsize = (7,4))\n",
        "sns.kdeplot(x = 'num_recursos_medio', y = 'conceito_medio_graduacao', data = ies, fill=True, palette='crest')\n",
        "#plt.title(\"DENSIDADE DAS FEATURES\", fontsize=14)\n",
        "plt.ylabel('Conceito Médio da Graduação', fontsize=13), plt.xlabel('Recursos de Acessibilidade', fontsize=13)\n",
        "plt.savefig('kdeplot1.png', transparent = True)"
      ],
      "execution_count": 30,
      "outputs": [
        {
          "output_type": "display_data",
          "data": {
            "image/png": "[encoded data removed]",
            "text/plain": [
              "<Figure size 504x288 with 1 Axes>"
            ]
          },
          "metadata": {
            "needs_background": "light"
          }
        }
      ]
    },
    {
      "cell_type": "code",
      "metadata": {
        "colab": {
          "base_uri": "https://localhost:8080/",
          "height": 282
        },
        "id": "2ad2c_AFOSw9",
        "outputId": "1823a0e5-0a8c-4036-89fb-df610870e7ac"
      },
      "source": [
        "#KDEPLOT 2\n",
        "#plt.figure(1 , figsize = (7,4))\n",
        "sns.kdeplot(x = 'alunos_deficiencia', y = 'conceito_medio_graduacao', data = ies, fill=True, palette='crest')\n",
        "#plt.title(\"DENSIDADE DAS FEATURES\", fontsize=14)\n",
        "plt.ylabel('Conceito Médio da Graduação', fontsize=13), plt.xlabel('Alunos com Deficiência', fontsize=13)\n",
        "plt.savefig('kdeplot2.png', transparent = True)"
      ],
      "execution_count": 31,
      "outputs": [
        {
          "output_type": "display_data",
          "data": {
            "image/png": "[encoded data removed]",
            "text/plain": [
              "<Figure size 432x288 with 1 Axes>"
            ]
          },
          "metadata": {
            "needs_background": "light"
          }
        }
      ]
    },
    {
      "cell_type": "code",
      "metadata": {
        "colab": {
          "base_uri": "https://localhost:8080/",
          "height": 283
        },
        "id": "7lmC9qUcPOTQ",
        "outputId": "ef25012d-aef1-48fc-f460-929b5a8bd837"
      },
      "source": [
        "#KDEPLOT 3\n",
        "#plt.figure(1 , figsize = (7,4))\n",
        "sns.kdeplot(x = 'alunos_deficiencia', y = 'num_recursos_medio', data = ies, fill=True, palette='crest')\n",
        "#plt.title(\"DENSIDADE DAS FEATURES\", fontsize=14)\n",
        "plt.ylabel('Recursos de Acessibilidade', fontsize=13), plt.xlabel('Alunos com Deficiência', fontsize=13)\n",
        "plt.savefig('kdeplot3.png', transparent = True)"
      ],
      "execution_count": 32,
      "outputs": [
        {
          "output_type": "display_data",
          "data": {
            "image/png": "[encoded data removed]",
            "text/plain": [
              "<Figure size 432x288 with 1 Axes>"
            ]
          },
          "metadata": {
            "needs_background": "light"
          }
        }
      ]
    },
    {
      "cell_type": "code",
      "metadata": {
        "colab": {
          "base_uri": "https://localhost:8080/",
          "height": 283
        },
        "id": "f1h6_HPIP2E7",
        "outputId": "5d61b4b4-dc0b-476c-d39c-75192de644e5"
      },
      "source": [
        "#KDEPLOT 4\n",
        "#plt.figure(1 , figsize = (7,4))\n",
        "sns.kdeplot(x = 'receitas', y = 'num_recursos_medio', data = ies, fill=True, palette='crest')\n",
        "#plt.title(\"DENSIDADE DAS FEATURES\", fontsize=14)\n",
        "plt.ylabel('Recursos de Acessibilidade', fontsize=13), plt.xlabel('Receitas das IES', fontsize=13)\n",
        "plt.savefig('kdeplot4.png', transparent = True)"
      ],
      "execution_count": 33,
      "outputs": [
        {
          "output_type": "display_data",
          "data": {
            "image/png": "[encoded data removed]",
            "text/plain": [
              "<Figure size 432x288 with 1 Axes>"
            ]
          },
          "metadata": {
            "needs_background": "light"
          }
        }
      ]
    },
    {
      "cell_type": "code",
      "metadata": {
        "colab": {
          "base_uri": "https://localhost:8080/",
          "height": 283
        },
        "id": "_hCb44nIQOlo",
        "outputId": "115d1c19-b9b2-423c-bf17-e3621559ed6d"
      },
      "source": [
        "#KDEPLOT 5\n",
        "#plt.figure(1 , figsize = (7,4))\n",
        "sns.kdeplot(x = 'despesa_investimento', y = 'num_recursos_medio', data = ies, fill=True, palette='crest')\n",
        "#plt.title(\"DENSIDADE DAS FEATURES\", fontsize=14)\n",
        "plt.ylabel('Recursos de Acessibilidade', fontsize=13), plt.xlabel('Despesas com Investimentos das IES', fontsize=13)\n",
        "plt.savefig('kdeplot5.png', transparent = True)"
      ],
      "execution_count": 34,
      "outputs": [
        {
          "output_type": "display_data",
          "data": {
            "image/png": "[encoded data removed]",
            "text/plain": [
              "<Figure size 432x288 with 1 Axes>"
            ]
          },
          "metadata": {
            "needs_background": "light"
          }
        }
      ]
    },
    {
      "cell_type": "code",
      "metadata": {
        "colab": {
          "base_uri": "https://localhost:8080/",
          "height": 320
        },
        "id": "nqgGoBxPjDaT",
        "outputId": "ae0a3ce4-2222-47e5-bd55-d6ef9c0a76cf"
      },
      "source": [
        "ies.describe()"
      ],
      "execution_count": 35,
      "outputs": [
        {
          "output_type": "execute_result",
          "data": {
            "text/html": [
              "<div>\n",
              "<style scoped>\n",
              "    .dataframe tbody tr th:only-of-type {\n",
              "        vertical-align: middle;\n",
              "    }\n",
              "\n",
              "    .dataframe tbody tr th {\n",
              "        vertical-align: top;\n",
              "    }\n",
              "\n",
              "    .dataframe thead th {\n",
              "        text-align: right;\n",
              "    }\n",
              "</style>\n",
              "<table border=\"1\" class=\"dataframe\">\n",
              "  <thead>\n",
              "    <tr style=\"text-align: right;\">\n",
              "      <th></th>\n",
              "      <th>cod_ies</th>\n",
              "      <th>categoria_administrativa</th>\n",
              "      <th>alunos_deficiencia</th>\n",
              "      <th>num_recursos_medio</th>\n",
              "      <th>num_curso</th>\n",
              "      <th>receitas</th>\n",
              "      <th>despesa_investimento</th>\n",
              "      <th>conceito_medio_graduacao</th>\n",
              "      <th>igc_continuo</th>\n",
              "    </tr>\n",
              "  </thead>\n",
              "  <tbody>\n",
              "    <tr>\n",
              "      <th>count</th>\n",
              "      <td>1443.000000</td>\n",
              "      <td>1443.000000</td>\n",
              "      <td>1443.000000</td>\n",
              "      <td>1443.000000</td>\n",
              "      <td>1443.000000</td>\n",
              "      <td>1.443000e+03</td>\n",
              "      <td>1.443000e+03</td>\n",
              "      <td>1443.000000</td>\n",
              "      <td>1441.000000</td>\n",
              "    </tr>\n",
              "    <tr>\n",
              "      <th>mean</th>\n",
              "      <td>3742.246708</td>\n",
              "      <td>4.012474</td>\n",
              "      <td>47.995149</td>\n",
              "      <td>6.089783</td>\n",
              "      <td>24.426888</td>\n",
              "      <td>2.947747e+08</td>\n",
              "      <td>1.648067e+07</td>\n",
              "      <td>2.627170</td>\n",
              "      <td>2.672296</td>\n",
              "    </tr>\n",
              "    <tr>\n",
              "      <th>std</th>\n",
              "      <td>4747.606563</td>\n",
              "      <td>1.166980</td>\n",
              "      <td>176.824558</td>\n",
              "      <td>3.689614</td>\n",
              "      <td>42.325656</td>\n",
              "      <td>5.993693e+08</td>\n",
              "      <td>5.308947e+07</td>\n",
              "      <td>0.501229</td>\n",
              "      <td>0.544439</td>\n",
              "    </tr>\n",
              "    <tr>\n",
              "      <th>min</th>\n",
              "      <td>1.000000</td>\n",
              "      <td>1.000000</td>\n",
              "      <td>1.000000</td>\n",
              "      <td>0.000000</td>\n",
              "      <td>1.000000</td>\n",
              "      <td>1.000000e-02</td>\n",
              "      <td>0.000000e+00</td>\n",
              "      <td>0.000000</td>\n",
              "      <td>0.797657</td>\n",
              "    </tr>\n",
              "    <tr>\n",
              "      <th>25%</th>\n",
              "      <td>1030.000000</td>\n",
              "      <td>4.000000</td>\n",
              "      <td>2.000000</td>\n",
              "      <td>3.000000</td>\n",
              "      <td>5.000000</td>\n",
              "      <td>7.128023e+06</td>\n",
              "      <td>0.000000e+00</td>\n",
              "      <td>2.305112</td>\n",
              "      <td>2.307758</td>\n",
              "    </tr>\n",
              "    <tr>\n",
              "      <th>50%</th>\n",
              "      <td>1872.000000</td>\n",
              "      <td>4.000000</td>\n",
              "      <td>5.000000</td>\n",
              "      <td>6.000000</td>\n",
              "      <td>12.000000</td>\n",
              "      <td>3.373089e+07</td>\n",
              "      <td>5.877124e+05</td>\n",
              "      <td>2.618685</td>\n",
              "      <td>2.641441</td>\n",
              "    </tr>\n",
              "    <tr>\n",
              "      <th>75%</th>\n",
              "      <td>4020.500000</td>\n",
              "      <td>5.000000</td>\n",
              "      <td>24.000000</td>\n",
              "      <td>9.000000</td>\n",
              "      <td>25.000000</td>\n",
              "      <td>2.607849e+08</td>\n",
              "      <td>7.146007e+06</td>\n",
              "      <td>2.952388</td>\n",
              "      <td>2.996998</td>\n",
              "    </tr>\n",
              "    <tr>\n",
              "      <th>max</th>\n",
              "      <td>23410.000000</td>\n",
              "      <td>7.000000</td>\n",
              "      <td>3333.000000</td>\n",
              "      <td>12.000000</td>\n",
              "      <td>928.000000</td>\n",
              "      <td>4.167839e+09</td>\n",
              "      <td>5.355536e+08</td>\n",
              "      <td>4.302528</td>\n",
              "      <td>4.854888</td>\n",
              "    </tr>\n",
              "  </tbody>\n",
              "</table>\n",
              "</div>"
            ],
            "text/plain": [
              "            cod_ies  ...  igc_continuo\n",
              "count   1443.000000  ...   1441.000000\n",
              "mean    3742.246708  ...      2.672296\n",
              "std     4747.606563  ...      0.544439\n",
              "min        1.000000  ...      0.797657\n",
              "25%     1030.000000  ...      2.307758\n",
              "50%     1872.000000  ...      2.641441\n",
              "75%     4020.500000  ...      2.996998\n",
              "max    23410.000000  ...      4.854888\n",
              "\n",
              "[8 rows x 9 columns]"
            ]
          },
          "metadata": {},
          "execution_count": 35
        }
      ]
    },
    {
      "cell_type": "markdown",
      "metadata": {
        "id": "mBASp_ucanMt"
      },
      "source": [
        "## 2.Pré-processamento dos dados"
      ]
    },
    {
      "cell_type": "markdown",
      "metadata": {
        "id": "w_CQu2tNatBx"
      },
      "source": [
        "Depois de remover as duplicatas, colunas desnecessárias e analisar os dados inconsistentes, precisamos ainda fazer o tratamento dos dados ausentes e de outliers e ruído, ratamento de dados ausentes."
      ]
    },
    {
      "cell_type": "markdown",
      "metadata": {
        "id": "jiFOo7Irb6oB"
      },
      "source": [
        "Além disso, precisamos transformar os dados em relação a sua escala e remover as variáveis ​​dependentes (altamente correlacionadas), por meio da normalização e analisando sua correlação, respectivamente."
      ]
    },
    {
      "cell_type": "markdown",
      "metadata": {
        "id": "cK8V8eq0cbit"
      },
      "source": [
        "###2.1.Outliers"
      ]
    },
    {
      "cell_type": "markdown",
      "metadata": {
        "id": "t0YnTwCqjZDi"
      },
      "source": [
        "####2.1.1.Alunos"
      ]
    },
    {
      "cell_type": "code",
      "metadata": {
        "id": "MjVfT6PFgZ6d",
        "colab": {
          "base_uri": "https://localhost:8080/",
          "height": 282
        },
        "outputId": "c9692a8b-4bea-4513-cbe2-f673cc47e693"
      },
      "source": [
        "#Boxplot para visualização de outliers\n",
        "plt.figure(figsize =(7, 4))\n",
        "sns.set_style('darkgrid')\n",
        "grafico_1 = sns.boxplot( y = \"alunos_deficiencia\", data = ies, linewidth=2, palette = \"crest\")\n",
        "plt.title(\"ALUNOS COM DEFICIÊNCIA\", loc=\"center\", fontsize=14)\n",
        "plt.ylabel('Alunos')"
      ],
      "execution_count": 36,
      "outputs": [
        {
          "output_type": "execute_result",
          "data": {
            "text/plain": [
              "Text(0, 0.5, 'Alunos')"
            ]
          },
          "metadata": {},
          "execution_count": 36
        },
        {
          "output_type": "display_data",
          "data": {
            "image/png": "[encoded data removed]",
            "text/plain": [
              "<Figure size 504x288 with 1 Axes>"
            ]
          },
          "metadata": {
            "needs_background": "light"
          }
        }
      ]
    },
    {
      "cell_type": "code",
      "metadata": {
        "id": "ysKKI1ITg9oI"
      },
      "source": [
        "#Tratando outliers no campo de alunos\n",
        "alunos_novo = ies['alunos_deficiencia']\n",
        "Q1 = alunos_novo.quantile(.25)\n",
        "Q3 = alunos_novo.quantile(.75)\n",
        "IIQ = Q3 - Q1\n",
        "limite_inferior = Q1 - 1.5 * IIQ\n",
        "limite_superior = Q3 + 1.5 * IIQ\n",
        "\n",
        "selecao_alunos = (alunos_novo >= limite_inferior) & (alunos_novo <= limite_superior)\n",
        "novo_ies = ies[selecao_alunos]"
      ],
      "execution_count": 37,
      "outputs": []
    },
    {
      "cell_type": "code",
      "metadata": {
        "colab": {
          "base_uri": "https://localhost:8080/",
          "height": 282
        },
        "id": "3XcV3RkJ2gYj",
        "outputId": "5a4a98d0-f62c-458c-e236-7b1ccab49c15"
      },
      "source": [
        "#Boxplot para visualização pós tratamento de outliers\n",
        "plt.figure(figsize =(7, 4))\n",
        "sns.set_style('darkgrid')\n",
        "grafico_1 = sns.boxplot( y = \"alunos_deficiencia\", data = novo_ies, linewidth=2, palette = \"crest\")\n",
        "plt.title(\"ALUNOS COM DEFICIÊNCIA\", fontsize=14)\n",
        "plt.ylabel('Alunos', fontsize=13)"
      ],
      "execution_count": 38,
      "outputs": [
        {
          "output_type": "execute_result",
          "data": {
            "text/plain": [
              "Text(0, 0.5, 'Alunos')"
            ]
          },
          "metadata": {},
          "execution_count": 38
        },
        {
          "output_type": "display_data",
          "data": {
            "image/png": "[encoded data removed]",
            "text/plain": [
              "<Figure size 504x288 with 1 Axes>"
            ]
          },
          "metadata": {}
        }
      ]
    },
    {
      "cell_type": "markdown",
      "metadata": {
        "id": "d_Bkuj04ji_w"
      },
      "source": [
        "####2.1.2.Recursos"
      ]
    },
    {
      "cell_type": "code",
      "metadata": {
        "colab": {
          "base_uri": "https://localhost:8080/",
          "height": 265
        },
        "id": "o-_7boDvkJ-S",
        "outputId": "b06530cb-8b86-4b02-b998-14056b318f23"
      },
      "source": [
        "#Boxplot para visualização de outliers\n",
        "plt.figure(figsize =(7, 4))\n",
        "sns.set_style('darkgrid')\n",
        "grafico_2 = sns.boxplot( y = 'num_recursos_medio', data = ies, linewidth=2, palette = \"crest\")\n",
        "plt.title(\"RECURSOS DE ACESSIBILIDADE\", fontsize=14)\n",
        "plt.ylabel('Recursos', fontsize=13)\n",
        "plt.savefig('outliers_recursos.png', transparent = True)"
      ],
      "execution_count": 39,
      "outputs": [
        {
          "output_type": "display_data",
          "data": {
            "image/png": "[encoded data removed]",
            "text/plain": [
              "<Figure size 504x288 with 1 Axes>"
            ]
          },
          "metadata": {}
        }
      ]
    },
    {
      "cell_type": "markdown",
      "metadata": {
        "id": "W3F7sWy7k5RN"
      },
      "source": [
        "Neste caso, não houve tratamento de outliers, pois não conseguimos visualizá-los pelo boxplot"
      ]
    },
    {
      "cell_type": "markdown",
      "metadata": {
        "id": "tfz4E_B3joiw"
      },
      "source": [
        "####2.1.3.Número de cursos"
      ]
    },
    {
      "cell_type": "code",
      "metadata": {
        "colab": {
          "base_uri": "https://localhost:8080/",
          "height": 265
        },
        "id": "uh50psgrkOhG",
        "outputId": "d2419e9c-de3f-4dd4-d471-a995ec3b59d8"
      },
      "source": [
        "#Boxplot para visualização de outliers\n",
        "plt.figure(figsize =(7, 4))\n",
        "sns.set_style('darkgrid')\n",
        "grafico_3 = sns.boxplot( y = \"num_curso\", data = ies, linewidth=2, palette = \"crest\")\n",
        "plt.title(\"NÚMERO DE CURSOS DA IES\", fontsize=14)\n",
        "plt.ylabel('Cursos', fontsize=13)\n",
        "plt.savefig('outliers_cursos.png', transparent = True)"
      ],
      "execution_count": 40,
      "outputs": [
        {
          "output_type": "display_data",
          "data": {
            "image/png": "[encoded data removed]",
            "text/plain": [
              "<Figure size 504x288 with 1 Axes>"
            ]
          },
          "metadata": {}
        }
      ]
    },
    {
      "cell_type": "code",
      "metadata": {
        "id": "HI-M3L3Y7cBb"
      },
      "source": [
        "#Tratando outliers no campo de receitas\n",
        "num_curso_novo = ies['num_curso']\n",
        "Q1 = num_curso_novo.quantile(.25)\n",
        "Q3 = num_curso_novo.quantile(.75)\n",
        "IIQ = Q3 - Q1\n",
        "limite_inferior = Q1 - 1.5 * IIQ\n",
        "limite_superior = Q3 + 1.5 * IIQ\n",
        "\n",
        "selecao_num_curso = (num_curso_novo >= limite_inferior) & (num_curso_novo <= limite_superior)\n",
        "novo_ies = ies[selecao_num_curso]"
      ],
      "execution_count": 41,
      "outputs": []
    },
    {
      "cell_type": "code",
      "metadata": {
        "id": "VYX0vhXu4sJo",
        "colab": {
          "base_uri": "https://localhost:8080/",
          "height": 265
        },
        "outputId": "5d6901e8-abc4-4423-f549-efb41f972b45"
      },
      "source": [
        "#Boxplot para visualização após tratamento de outliers\n",
        "plt.figure(figsize =(7, 4))\n",
        "sns.set_style('darkgrid')\n",
        "grafico_3 = sns.boxplot( y = \"num_curso\", data = novo_ies, linewidth=2, palette = \"crest\")\n",
        "plt.title(\"NÚMERO DE CURSOS DA IES\", fontsize=14)\n",
        "plt.ylabel('Cursos', fontsize=13)\n",
        "plt.savefig('posoutliers_cursos.png', transparent = True)"
      ],
      "execution_count": 42,
      "outputs": [
        {
          "output_type": "display_data",
          "data": {
            "image/png": "[encoded data removed]",
            "text/plain": [
              "<Figure size 504x288 with 1 Axes>"
            ]
          },
          "metadata": {}
        }
      ]
    },
    {
      "cell_type": "markdown",
      "metadata": {
        "id": "IfRSlAmujsgE"
      },
      "source": [
        "####2.2.4.Receitas"
      ]
    },
    {
      "cell_type": "code",
      "metadata": {
        "colab": {
          "base_uri": "https://localhost:8080/",
          "height": 265
        },
        "id": "5gnWi5lGkPgN",
        "outputId": "75b28c4f-c473-42a4-d821-7b1efc681f4c"
      },
      "source": [
        "#Boxplot para visualização de outliers\n",
        "plt.figure(figsize =(7, 4))\n",
        "sns.set_style('darkgrid')\n",
        "grafico_4 = sns.boxplot( y = \"receitas\", data = ies, linewidth=2, palette = \"crest\")\n",
        "plt.title(\"RECEITAS POR IES\", fontsize=14)\n",
        "plt.ylabel('Receita', fontsize=13)\n",
        "plt.savefig('outliers_receitas.png', transparent = True)"
      ],
      "execution_count": 43,
      "outputs": [
        {
          "output_type": "display_data",
          "data": {
            "image/png": "[encoded data removed]",
            "text/plain": [
              "<Figure size 504x288 with 1 Axes>"
            ]
          },
          "metadata": {}
        }
      ]
    },
    {
      "cell_type": "code",
      "metadata": {
        "id": "7hUjijbwkVm_",
        "colab": {
          "base_uri": "https://localhost:8080/",
          "height": 320
        },
        "outputId": "07e0c0fb-ffae-40d9-846c-6e849d9ead2c"
      },
      "source": [
        "#Tratando outliers no campo de receitas\n",
        "receitas_novo = ies['receitas']\n",
        "Q1 = receitas_novo.quantile(.25)\n",
        "Q3 = receitas_novo.quantile(.75)\n",
        "IIQ = Q3 - Q1\n",
        "limite_inferior = Q1 - 1.5 * IIQ\n",
        "limite_superior = Q3 + 1.5 * IIQ\n",
        "\n",
        "selecao_receitas = (receitas_novo >= limite_inferior) & (receitas_novo <= limite_superior)\n",
        "novo_ies = ies[selecao_receitas]\n",
        "novo_ies.describe()"
      ],
      "execution_count": 44,
      "outputs": [
        {
          "output_type": "execute_result",
          "data": {
            "text/html": [
              "<div>\n",
              "<style scoped>\n",
              "    .dataframe tbody tr th:only-of-type {\n",
              "        vertical-align: middle;\n",
              "    }\n",
              "\n",
              "    .dataframe tbody tr th {\n",
              "        vertical-align: top;\n",
              "    }\n",
              "\n",
              "    .dataframe thead th {\n",
              "        text-align: right;\n",
              "    }\n",
              "</style>\n",
              "<table border=\"1\" class=\"dataframe\">\n",
              "  <thead>\n",
              "    <tr style=\"text-align: right;\">\n",
              "      <th></th>\n",
              "      <th>cod_ies</th>\n",
              "      <th>categoria_administrativa</th>\n",
              "      <th>alunos_deficiencia</th>\n",
              "      <th>num_recursos_medio</th>\n",
              "      <th>num_curso</th>\n",
              "      <th>receitas</th>\n",
              "      <th>despesa_investimento</th>\n",
              "      <th>conceito_medio_graduacao</th>\n",
              "      <th>igc_continuo</th>\n",
              "    </tr>\n",
              "  </thead>\n",
              "  <tbody>\n",
              "    <tr>\n",
              "      <th>count</th>\n",
              "      <td>1263.000000</td>\n",
              "      <td>1263.000000</td>\n",
              "      <td>1263.000000</td>\n",
              "      <td>1263.000000</td>\n",
              "      <td>1263.000000</td>\n",
              "      <td>1.263000e+03</td>\n",
              "      <td>1.263000e+03</td>\n",
              "      <td>1263.000000</td>\n",
              "      <td>1261.000000</td>\n",
              "    </tr>\n",
              "    <tr>\n",
              "      <th>mean</th>\n",
              "      <td>3894.978622</td>\n",
              "      <td>4.114806</td>\n",
              "      <td>30.842439</td>\n",
              "      <td>5.839997</td>\n",
              "      <td>20.121932</td>\n",
              "      <td>1.038622e+08</td>\n",
              "      <td>3.754587e+06</td>\n",
              "      <td>2.626950</td>\n",
              "      <td>2.660775</td>\n",
              "    </tr>\n",
              "    <tr>\n",
              "      <th>std</th>\n",
              "      <td>4896.627901</td>\n",
              "      <td>1.106941</td>\n",
              "      <td>132.258864</td>\n",
              "      <td>3.708410</td>\n",
              "      <td>26.641799</td>\n",
              "      <td>1.623415e+08</td>\n",
              "      <td>8.267849e+06</td>\n",
              "      <td>0.511315</td>\n",
              "      <td>0.532696</td>\n",
              "    </tr>\n",
              "    <tr>\n",
              "      <th>min</th>\n",
              "      <td>2.000000</td>\n",
              "      <td>1.000000</td>\n",
              "      <td>1.000000</td>\n",
              "      <td>0.000000</td>\n",
              "      <td>1.000000</td>\n",
              "      <td>1.000000e-02</td>\n",
              "      <td>0.000000e+00</td>\n",
              "      <td>0.000000</td>\n",
              "      <td>0.797657</td>\n",
              "    </tr>\n",
              "    <tr>\n",
              "      <th>25%</th>\n",
              "      <td>1078.500000</td>\n",
              "      <td>4.000000</td>\n",
              "      <td>2.000000</td>\n",
              "      <td>2.741667</td>\n",
              "      <td>5.000000</td>\n",
              "      <td>5.765061e+06</td>\n",
              "      <td>0.000000e+00</td>\n",
              "      <td>2.301350</td>\n",
              "      <td>2.306535</td>\n",
              "    </tr>\n",
              "    <tr>\n",
              "      <th>50%</th>\n",
              "      <td>1921.000000</td>\n",
              "      <td>4.000000</td>\n",
              "      <td>4.000000</td>\n",
              "      <td>5.680000</td>\n",
              "      <td>11.000000</td>\n",
              "      <td>2.375738e+07</td>\n",
              "      <td>3.396300e+05</td>\n",
              "      <td>2.627094</td>\n",
              "      <td>2.644210</td>\n",
              "    </tr>\n",
              "    <tr>\n",
              "      <th>75%</th>\n",
              "      <td>4025.500000</td>\n",
              "      <td>5.000000</td>\n",
              "      <td>15.000000</td>\n",
              "      <td>9.000000</td>\n",
              "      <td>23.000000</td>\n",
              "      <td>1.255908e+08</td>\n",
              "      <td>3.614441e+06</td>\n",
              "      <td>2.949499</td>\n",
              "      <td>2.979479</td>\n",
              "    </tr>\n",
              "    <tr>\n",
              "      <th>max</th>\n",
              "      <td>23410.000000</td>\n",
              "      <td>7.000000</td>\n",
              "      <td>3333.000000</td>\n",
              "      <td>12.000000</td>\n",
              "      <td>247.000000</td>\n",
              "      <td>6.364278e+08</td>\n",
              "      <td>1.014132e+08</td>\n",
              "      <td>4.302528</td>\n",
              "      <td>4.854888</td>\n",
              "    </tr>\n",
              "  </tbody>\n",
              "</table>\n",
              "</div>"
            ],
            "text/plain": [
              "            cod_ies  ...  igc_continuo\n",
              "count   1263.000000  ...   1261.000000\n",
              "mean    3894.978622  ...      2.660775\n",
              "std     4896.627901  ...      0.532696\n",
              "min        2.000000  ...      0.797657\n",
              "25%     1078.500000  ...      2.306535\n",
              "50%     1921.000000  ...      2.644210\n",
              "75%     4025.500000  ...      2.979479\n",
              "max    23410.000000  ...      4.854888\n",
              "\n",
              "[8 rows x 9 columns]"
            ]
          },
          "metadata": {},
          "execution_count": 44
        }
      ]
    },
    {
      "cell_type": "code",
      "metadata": {
        "colab": {
          "base_uri": "https://localhost:8080/",
          "height": 265
        },
        "id": "woWlO-8WF7O0",
        "outputId": "d609c431-eee4-4d14-afcb-baf96b014ff7"
      },
      "source": [
        "#Boxplot para visualização após tratamento de outliers\n",
        "plt.figure(figsize =(7, 4))\n",
        "sns.set_style('darkgrid')\n",
        "grafico_4 = sns.boxplot( y = \"receitas\", data = novo_ies, linewidth=2, palette = \"crest\")\n",
        "plt.title(\"RECEITAS POR IES\", fontsize=14)\n",
        "plt.ylabel('Receita', fontsize=13)\n",
        "plt.savefig('posoutliers_receitas.png', transparent = True)"
      ],
      "execution_count": 45,
      "outputs": [
        {
          "output_type": "display_data",
          "data": {
            "image/png": "[encoded data removed]",
            "text/plain": [
              "<Figure size 504x288 with 1 Axes>"
            ]
          },
          "metadata": {}
        }
      ]
    },
    {
      "cell_type": "markdown",
      "metadata": {
        "id": "h0iArf9WjweI"
      },
      "source": [
        "####2.2.5.Despesas"
      ]
    },
    {
      "cell_type": "code",
      "metadata": {
        "colab": {
          "base_uri": "https://localhost:8080/",
          "height": 265
        },
        "id": "MFspe-rjkQR0",
        "outputId": "1ffcc015-a359-4b1d-f6d5-a4e062064d5e"
      },
      "source": [
        "#Boxplot para visualização de outliers\n",
        "plt.figure(figsize =(7, 4))\n",
        "sns.set_style('darkgrid')\n",
        "grafico_5 = sns.boxplot( y = \"despesa_investimento\", data = ies, linewidth=2, palette = \"crest\")\n",
        "plt.title(\"DESPESAS COM INVESTIMENTOS NAS IES\", fontsize=14)\n",
        "plt.ylabel('Despesas', fontsize=13)\n",
        "plt.savefig('outliers_despesa.png', transparent = True)"
      ],
      "execution_count": 46,
      "outputs": [
        {
          "output_type": "display_data",
          "data": {
            "image/png": "[encoded data removed]",
            "text/plain": [
              "<Figure size 504x288 with 1 Axes>"
            ]
          },
          "metadata": {}
        }
      ]
    },
    {
      "cell_type": "code",
      "metadata": {
        "colab": {
          "base_uri": "https://localhost:8080/",
          "height": 320
        },
        "id": "zCNviO2CkVCX",
        "outputId": "14ea38bf-d022-4e64-ed5b-6c8ad177407f"
      },
      "source": [
        "#Tratando outliers no campo de despesas\n",
        "despesas_novo = ies['despesa_investimento']\n",
        "Q1 = despesas_novo.quantile(.25)\n",
        "Q3 = despesas_novo.quantile(.75)\n",
        "IIQ = Q3 - Q1\n",
        "limite_inferior = Q1 - 1.5 * IIQ\n",
        "limite_superior = Q3 + 1.5 * IIQ\n",
        "\n",
        "selecao_despesas = (despesas_novo >= limite_inferior) & (despesas_novo <= limite_superior)\n",
        "novo_ies = ies[selecao_despesas]\n",
        "novo_ies.describe()"
      ],
      "execution_count": 47,
      "outputs": [
        {
          "output_type": "execute_result",
          "data": {
            "text/html": [
              "<div>\n",
              "<style scoped>\n",
              "    .dataframe tbody tr th:only-of-type {\n",
              "        vertical-align: middle;\n",
              "    }\n",
              "\n",
              "    .dataframe tbody tr th {\n",
              "        vertical-align: top;\n",
              "    }\n",
              "\n",
              "    .dataframe thead th {\n",
              "        text-align: right;\n",
              "    }\n",
              "</style>\n",
              "<table border=\"1\" class=\"dataframe\">\n",
              "  <thead>\n",
              "    <tr style=\"text-align: right;\">\n",
              "      <th></th>\n",
              "      <th>cod_ies</th>\n",
              "      <th>categoria_administrativa</th>\n",
              "      <th>alunos_deficiencia</th>\n",
              "      <th>num_recursos_medio</th>\n",
              "      <th>num_curso</th>\n",
              "      <th>receitas</th>\n",
              "      <th>despesa_investimento</th>\n",
              "      <th>conceito_medio_graduacao</th>\n",
              "      <th>igc_continuo</th>\n",
              "    </tr>\n",
              "  </thead>\n",
              "  <tbody>\n",
              "    <tr>\n",
              "      <th>count</th>\n",
              "      <td>1275.000000</td>\n",
              "      <td>1275.000000</td>\n",
              "      <td>1275.000000</td>\n",
              "      <td>1275.000000</td>\n",
              "      <td>1275.000000</td>\n",
              "      <td>1.275000e+03</td>\n",
              "      <td>1.275000e+03</td>\n",
              "      <td>1275.000000</td>\n",
              "      <td>1273.000000</td>\n",
              "    </tr>\n",
              "    <tr>\n",
              "      <th>mean</th>\n",
              "      <td>3831.170980</td>\n",
              "      <td>4.073725</td>\n",
              "      <td>34.773333</td>\n",
              "      <td>5.820147</td>\n",
              "      <td>21.185098</td>\n",
              "      <td>1.615695e+08</td>\n",
              "      <td>2.776915e+06</td>\n",
              "      <td>2.620820</td>\n",
              "      <td>2.658819</td>\n",
              "    </tr>\n",
              "    <tr>\n",
              "      <th>std</th>\n",
              "      <td>4840.189144</td>\n",
              "      <td>1.135647</td>\n",
              "      <td>141.494095</td>\n",
              "      <td>3.696874</td>\n",
              "      <td>31.859734</td>\n",
              "      <td>3.853994e+08</td>\n",
              "      <td>4.810924e+06</td>\n",
              "      <td>0.506960</td>\n",
              "      <td>0.536298</td>\n",
              "    </tr>\n",
              "    <tr>\n",
              "      <th>min</th>\n",
              "      <td>1.000000</td>\n",
              "      <td>1.000000</td>\n",
              "      <td>1.000000</td>\n",
              "      <td>0.000000</td>\n",
              "      <td>1.000000</td>\n",
              "      <td>1.000000e-02</td>\n",
              "      <td>0.000000e+00</td>\n",
              "      <td>0.000000</td>\n",
              "      <td>0.797657</td>\n",
              "    </tr>\n",
              "    <tr>\n",
              "      <th>25%</th>\n",
              "      <td>1063.500000</td>\n",
              "      <td>4.000000</td>\n",
              "      <td>2.000000</td>\n",
              "      <td>2.750000</td>\n",
              "      <td>5.000000</td>\n",
              "      <td>5.825178e+06</td>\n",
              "      <td>0.000000e+00</td>\n",
              "      <td>2.298781</td>\n",
              "      <td>2.305707</td>\n",
              "    </tr>\n",
              "    <tr>\n",
              "      <th>50%</th>\n",
              "      <td>1907.000000</td>\n",
              "      <td>4.000000</td>\n",
              "      <td>4.000000</td>\n",
              "      <td>5.625000</td>\n",
              "      <td>11.000000</td>\n",
              "      <td>2.480943e+07</td>\n",
              "      <td>3.040221e+05</td>\n",
              "      <td>2.619804</td>\n",
              "      <td>2.640851</td>\n",
              "    </tr>\n",
              "    <tr>\n",
              "      <th>75%</th>\n",
              "      <td>4022.500000</td>\n",
              "      <td>5.000000</td>\n",
              "      <td>15.000000</td>\n",
              "      <td>9.000000</td>\n",
              "      <td>23.000000</td>\n",
              "      <td>1.492101e+08</td>\n",
              "      <td>3.158863e+06</td>\n",
              "      <td>2.939377</td>\n",
              "      <td>2.973196</td>\n",
              "    </tr>\n",
              "    <tr>\n",
              "      <th>max</th>\n",
              "      <td>23410.000000</td>\n",
              "      <td>7.000000</td>\n",
              "      <td>3333.000000</td>\n",
              "      <td>12.000000</td>\n",
              "      <td>563.000000</td>\n",
              "      <td>3.610593e+09</td>\n",
              "      <td>1.782462e+07</td>\n",
              "      <td>4.302528</td>\n",
              "      <td>4.854888</td>\n",
              "    </tr>\n",
              "  </tbody>\n",
              "</table>\n",
              "</div>"
            ],
            "text/plain": [
              "            cod_ies  ...  igc_continuo\n",
              "count   1275.000000  ...   1273.000000\n",
              "mean    3831.170980  ...      2.658819\n",
              "std     4840.189144  ...      0.536298\n",
              "min        1.000000  ...      0.797657\n",
              "25%     1063.500000  ...      2.305707\n",
              "50%     1907.000000  ...      2.640851\n",
              "75%     4022.500000  ...      2.973196\n",
              "max    23410.000000  ...      4.854888\n",
              "\n",
              "[8 rows x 9 columns]"
            ]
          },
          "metadata": {},
          "execution_count": 47
        }
      ]
    },
    {
      "cell_type": "code",
      "metadata": {
        "colab": {
          "base_uri": "https://localhost:8080/",
          "height": 265
        },
        "id": "H_3FPLfYGcE-",
        "outputId": "62aac69f-677e-434e-dc57-7b4880cdc92e"
      },
      "source": [
        "#Boxplot para visualização após tratamento de outliers\n",
        "plt.figure(figsize =(7, 4))\n",
        "sns.set_style('darkgrid')\n",
        "grafico_5 = sns.boxplot( y = \"despesa_investimento\", data = novo_ies, linewidth=2, palette = \"crest\")\n",
        "plt.title(\"DESPESAS COM INVESTIMENTOS NAS IES\", fontsize=14)\n",
        "plt.ylabel('Despesas', fontsize=13)\n",
        "plt.savefig('posoutliers_despesa.png', transparent = True)"
      ],
      "execution_count": 48,
      "outputs": [
        {
          "output_type": "display_data",
          "data": {
            "image/png": "[encoded data removed]",
            "text/plain": [
              "<Figure size 504x288 with 1 Axes>"
            ]
          },
          "metadata": {}
        }
      ]
    },
    {
      "cell_type": "markdown",
      "metadata": {
        "id": "VKd-_8N7j5Jm"
      },
      "source": [
        "####2.2.6.IGC"
      ]
    },
    {
      "cell_type": "code",
      "metadata": {
        "colab": {
          "base_uri": "https://localhost:8080/",
          "height": 302
        },
        "id": "PGPmy1pTmTRN",
        "outputId": "4ab1d881-86bb-4fd5-b281-fedd4d829cbc"
      },
      "source": [
        "#Visualizando os outliers dos índices de qualidade das IES\n",
        "plt.figure(figsize =(7, 4))\n",
        "sns.set_style('darkgrid')\n",
        "avaliacao = pd.DataFrame(data = np.random.random(size=(5,2)), columns = ['conceito_medio_graduacao','igc_continuo'])\n",
        "sns.boxplot(x=\"variable\", y=\"value\", data=pd.melt(avaliacao), palette=\"crest\")\n",
        "plt.title(\"AVALIAÇÃO DAS IES\", loc=\"center\", fontsize=14)\n",
        "plt.xlabel('Índices de Qualidade', fontsize=13)\n",
        "plt.ylabel('Valor')\n",
        "plt.savefig('outliers_avaliacao.png', transparent = True)"
      ],
      "execution_count": 49,
      "outputs": [
        {
          "output_type": "display_data",
          "data": {
            "image/png": "[encoded data removed]",
            "text/plain": [
              "<Figure size 504x288 with 1 Axes>"
            ]
          },
          "metadata": {}
        }
      ]
    },
    {
      "cell_type": "markdown",
      "metadata": {
        "id": "5wJ5QpR-nKNB"
      },
      "source": [
        "Como o boxplot não mostra a existência de outliers, não será necessário fazer nenhum tratamento referente ao assunto."
      ]
    },
    {
      "cell_type": "markdown",
      "metadata": {
        "id": "0jmA8Uf7ciZy"
      },
      "source": [
        "###2.2.Normalização"
      ]
    },
    {
      "cell_type": "code",
      "metadata": {
        "id": "os1hIFHig-w9",
        "colab": {
          "base_uri": "https://localhost:8080/"
        },
        "outputId": "3e244542-2515-4f48-f2d2-5595e931c52f"
      },
      "source": [
        "#Colunas para normalizar\n",
        "features_to_normalize = ['alunos_deficiencia','num_recursos_medio', 'num_curso', 'receitas','despesa_investimento', 'conceito_medio_graduacao', 'igc_continuo']\n",
        "\n",
        "novo_ies[features_to_normalize] = novo_ies[features_to_normalize].apply(lambda x:(x-x.min()) / (x.max()-x.min()))"
      ],
      "execution_count": 50,
      "outputs": [
        {
          "output_type": "stream",
          "name": "stderr",
          "text": [
            "/usr/local/lib/python3.7/dist-packages/pandas/core/frame.py:3069: SettingWithCopyWarning:\n",
            "\n",
            "\n",
            "A value is trying to be set on a copy of a slice from a DataFrame.\n",
            "Try using .loc[row_indexer,col_indexer] = value instead\n",
            "\n",
            "See the caveats in the documentation: https://pandas.pydata.org/pandas-docs/stable/user_guide/indexing.html#returning-a-view-versus-a-copy\n",
            "\n"
          ]
        }
      ]
    },
    {
      "cell_type": "code",
      "metadata": {
        "colab": {
          "base_uri": "https://localhost:8080/",
          "height": 226
        },
        "id": "OsIPjzh9nrYy",
        "outputId": "9f4bbc54-ad37-48b4-9965-c9be71c966a6"
      },
      "source": [
        "#Dataframe normalizado\n",
        "df_ies = novo_ies\n",
        "df_ies.head()"
      ],
      "execution_count": 51,
      "outputs": [
        {
          "output_type": "execute_result",
          "data": {
            "text/html": [
              "<div>\n",
              "<style scoped>\n",
              "    .dataframe tbody tr th:only-of-type {\n",
              "        vertical-align: middle;\n",
              "    }\n",
              "\n",
              "    .dataframe tbody tr th {\n",
              "        vertical-align: top;\n",
              "    }\n",
              "\n",
              "    .dataframe thead th {\n",
              "        text-align: right;\n",
              "    }\n",
              "</style>\n",
              "<table border=\"1\" class=\"dataframe\">\n",
              "  <thead>\n",
              "    <tr style=\"text-align: right;\">\n",
              "      <th></th>\n",
              "      <th>cod_ies</th>\n",
              "      <th>categoria_administrativa</th>\n",
              "      <th>alunos_deficiencia</th>\n",
              "      <th>num_recursos_medio</th>\n",
              "      <th>num_curso</th>\n",
              "      <th>receitas</th>\n",
              "      <th>despesa_investimento</th>\n",
              "      <th>conceito_medio_graduacao</th>\n",
              "      <th>igc_continuo</th>\n",
              "    </tr>\n",
              "  </thead>\n",
              "  <tbody>\n",
              "    <tr>\n",
              "      <th>0</th>\n",
              "      <td>1</td>\n",
              "      <td>1</td>\n",
              "      <td>0.100840</td>\n",
              "      <td>0.119883</td>\n",
              "      <td>0.201068</td>\n",
              "      <td>0.256770</td>\n",
              "      <td>0.538941</td>\n",
              "      <td>0.679824</td>\n",
              "      <td>0.601115</td>\n",
              "    </tr>\n",
              "    <tr>\n",
              "      <th>2</th>\n",
              "      <td>3</td>\n",
              "      <td>1</td>\n",
              "      <td>0.134454</td>\n",
              "      <td>0.234914</td>\n",
              "      <td>0.204626</td>\n",
              "      <td>0.261931</td>\n",
              "      <td>0.460731</td>\n",
              "      <td>0.721785</td>\n",
              "      <td>0.633421</td>\n",
              "    </tr>\n",
              "    <tr>\n",
              "      <th>3</th>\n",
              "      <td>4</td>\n",
              "      <td>1</td>\n",
              "      <td>0.071429</td>\n",
              "      <td>0.081776</td>\n",
              "      <td>0.188612</td>\n",
              "      <td>0.296527</td>\n",
              "      <td>0.711165</td>\n",
              "      <td>0.655859</td>\n",
              "      <td>0.554696</td>\n",
              "    </tr>\n",
              "    <tr>\n",
              "      <th>4</th>\n",
              "      <td>5</td>\n",
              "      <td>1</td>\n",
              "      <td>0.133253</td>\n",
              "      <td>0.828333</td>\n",
              "      <td>0.176157</td>\n",
              "      <td>0.237067</td>\n",
              "      <td>0.439602</td>\n",
              "      <td>0.630625</td>\n",
              "      <td>0.533122</td>\n",
              "    </tr>\n",
              "    <tr>\n",
              "      <th>5</th>\n",
              "      <td>6</td>\n",
              "      <td>1</td>\n",
              "      <td>0.039916</td>\n",
              "      <td>0.919697</td>\n",
              "      <td>0.096085</td>\n",
              "      <td>0.148337</td>\n",
              "      <td>0.004115</td>\n",
              "      <td>0.749051</td>\n",
              "      <td>0.668392</td>\n",
              "    </tr>\n",
              "  </tbody>\n",
              "</table>\n",
              "</div>"
            ],
            "text/plain": [
              "   cod_ies  categoria_administrativa  ...  conceito_medio_graduacao  igc_continuo\n",
              "0        1                         1  ...                  0.679824      0.601115\n",
              "2        3                         1  ...                  0.721785      0.633421\n",
              "3        4                         1  ...                  0.655859      0.554696\n",
              "4        5                         1  ...                  0.630625      0.533122\n",
              "5        6                         1  ...                  0.749051      0.668392\n",
              "\n",
              "[5 rows x 9 columns]"
            ]
          },
          "metadata": {},
          "execution_count": 51
        }
      ]
    },
    {
      "cell_type": "markdown",
      "metadata": {
        "id": "lS6qY6wAco7M"
      },
      "source": [
        "###2.3.Matriz de Correlação"
      ]
    },
    {
      "cell_type": "code",
      "metadata": {
        "colab": {
          "base_uri": "https://localhost:8080/",
          "height": 451
        },
        "id": "ldntnc2KoHKY",
        "outputId": "db293d40-0204-4996-efa1-b6d8454fd049"
      },
      "source": [
        "plt.figure(figsize =(15, 6))\n",
        "sns.heatmap(df_ies.corr(), vmin = -1, vmax = +1, annot = True, cmap = 'crest')\n",
        "plt.tick_params(axis='x', rotation=25)\n",
        "plt.title(\"MATRIZ DE CORRELAÇÃO\", fontsize=14)\n",
        "plt.savefig('matriz_correlacao.png', transparent = True)"
      ],
      "execution_count": 52,
      "outputs": [
        {
          "output_type": "display_data",
          "data": {
            "image/png": "[encoded data removed]",
            "text/plain": [
              "<Figure size 1080x432 with 2 Axes>"
            ]
          },
          "metadata": {}
        }
      ]
    },
    {
      "cell_type": "markdown",
      "metadata": {
        "id": "KM9G5Sa-opyD"
      },
      "source": [
        "Como as variáveis \"conceito médio da graduação\" e \"igc contínuo\" possuem uma forte correlaçao, vamos retirar uma delas para usarmos no nosso modelo"
      ]
    },
    {
      "cell_type": "markdown",
      "metadata": {
        "id": "4mGwFARQJ0M2"
      },
      "source": [
        "##3.Clustering"
      ]
    },
    {
      "cell_type": "markdown",
      "metadata": {
        "id": "wdwh44mpzK9-"
      },
      "source": [
        "###3.1.Método da Silhueta\n",
        "#####Código de: MIT © Etzion Harari"
      ]
    },
    {
      "cell_type": "code",
      "source": [
        "df_ies.head()"
      ],
      "metadata": {
        "colab": {
          "base_uri": "https://localhost:8080/",
          "height": 226
        },
        "id": "h1MiOj3xskL0",
        "outputId": "b3e95005-083f-48b1-8e07-7b2567ec6bb8"
      },
      "execution_count": 53,
      "outputs": [
        {
          "output_type": "execute_result",
          "data": {
            "text/html": [
              "<div>\n",
              "<style scoped>\n",
              "    .dataframe tbody tr th:only-of-type {\n",
              "        vertical-align: middle;\n",
              "    }\n",
              "\n",
              "    .dataframe tbody tr th {\n",
              "        vertical-align: top;\n",
              "    }\n",
              "\n",
              "    .dataframe thead th {\n",
              "        text-align: right;\n",
              "    }\n",
              "</style>\n",
              "<table border=\"1\" class=\"dataframe\">\n",
              "  <thead>\n",
              "    <tr style=\"text-align: right;\">\n",
              "      <th></th>\n",
              "      <th>cod_ies</th>\n",
              "      <th>categoria_administrativa</th>\n",
              "      <th>alunos_deficiencia</th>\n",
              "      <th>num_recursos_medio</th>\n",
              "      <th>num_curso</th>\n",
              "      <th>receitas</th>\n",
              "      <th>despesa_investimento</th>\n",
              "      <th>conceito_medio_graduacao</th>\n",
              "      <th>igc_continuo</th>\n",
              "    </tr>\n",
              "  </thead>\n",
              "  <tbody>\n",
              "    <tr>\n",
              "      <th>0</th>\n",
              "      <td>1</td>\n",
              "      <td>1</td>\n",
              "      <td>0.100840</td>\n",
              "      <td>0.119883</td>\n",
              "      <td>0.201068</td>\n",
              "      <td>0.256770</td>\n",
              "      <td>0.538941</td>\n",
              "      <td>0.679824</td>\n",
              "      <td>0.601115</td>\n",
              "    </tr>\n",
              "    <tr>\n",
              "      <th>2</th>\n",
              "      <td>3</td>\n",
              "      <td>1</td>\n",
              "      <td>0.134454</td>\n",
              "      <td>0.234914</td>\n",
              "      <td>0.204626</td>\n",
              "      <td>0.261931</td>\n",
              "      <td>0.460731</td>\n",
              "      <td>0.721785</td>\n",
              "      <td>0.633421</td>\n",
              "    </tr>\n",
              "    <tr>\n",
              "      <th>3</th>\n",
              "      <td>4</td>\n",
              "      <td>1</td>\n",
              "      <td>0.071429</td>\n",
              "      <td>0.081776</td>\n",
              "      <td>0.188612</td>\n",
              "      <td>0.296527</td>\n",
              "      <td>0.711165</td>\n",
              "      <td>0.655859</td>\n",
              "      <td>0.554696</td>\n",
              "    </tr>\n",
              "    <tr>\n",
              "      <th>4</th>\n",
              "      <td>5</td>\n",
              "      <td>1</td>\n",
              "      <td>0.133253</td>\n",
              "      <td>0.828333</td>\n",
              "      <td>0.176157</td>\n",
              "      <td>0.237067</td>\n",
              "      <td>0.439602</td>\n",
              "      <td>0.630625</td>\n",
              "      <td>0.533122</td>\n",
              "    </tr>\n",
              "    <tr>\n",
              "      <th>5</th>\n",
              "      <td>6</td>\n",
              "      <td>1</td>\n",
              "      <td>0.039916</td>\n",
              "      <td>0.919697</td>\n",
              "      <td>0.096085</td>\n",
              "      <td>0.148337</td>\n",
              "      <td>0.004115</td>\n",
              "      <td>0.749051</td>\n",
              "      <td>0.668392</td>\n",
              "    </tr>\n",
              "  </tbody>\n",
              "</table>\n",
              "</div>"
            ],
            "text/plain": [
              "   cod_ies  categoria_administrativa  ...  conceito_medio_graduacao  igc_continuo\n",
              "0        1                         1  ...                  0.679824      0.601115\n",
              "2        3                         1  ...                  0.721785      0.633421\n",
              "3        4                         1  ...                  0.655859      0.554696\n",
              "4        5                         1  ...                  0.630625      0.533122\n",
              "5        6                         1  ...                  0.749051      0.668392\n",
              "\n",
              "[5 rows x 9 columns]"
            ]
          },
          "metadata": {},
          "execution_count": 53
        }
      ]
    },
    {
      "cell_type": "code",
      "source": [
        "df_ies[['alunos_deficiencia','num_recursos_medio','num_curso','receitas','despesa_investimento','conceito_medio_graduacao']]"
      ],
      "metadata": {
        "colab": {
          "base_uri": "https://localhost:8080/",
          "height": 424
        },
        "id": "8CjvX7JbsQ1F",
        "outputId": "273fc853-04ea-4feb-9541-afbec5101e47"
      },
      "execution_count": 54,
      "outputs": [
        {
          "output_type": "execute_result",
          "data": {
            "text/html": [
              "<div>\n",
              "<style scoped>\n",
              "    .dataframe tbody tr th:only-of-type {\n",
              "        vertical-align: middle;\n",
              "    }\n",
              "\n",
              "    .dataframe tbody tr th {\n",
              "        vertical-align: top;\n",
              "    }\n",
              "\n",
              "    .dataframe thead th {\n",
              "        text-align: right;\n",
              "    }\n",
              "</style>\n",
              "<table border=\"1\" class=\"dataframe\">\n",
              "  <thead>\n",
              "    <tr style=\"text-align: right;\">\n",
              "      <th></th>\n",
              "      <th>alunos_deficiencia</th>\n",
              "      <th>num_recursos_medio</th>\n",
              "      <th>num_curso</th>\n",
              "      <th>receitas</th>\n",
              "      <th>despesa_investimento</th>\n",
              "      <th>conceito_medio_graduacao</th>\n",
              "    </tr>\n",
              "  </thead>\n",
              "  <tbody>\n",
              "    <tr>\n",
              "      <th>0</th>\n",
              "      <td>0.100840</td>\n",
              "      <td>0.119883</td>\n",
              "      <td>0.201068</td>\n",
              "      <td>0.256770</td>\n",
              "      <td>0.538941</td>\n",
              "      <td>0.679824</td>\n",
              "    </tr>\n",
              "    <tr>\n",
              "      <th>2</th>\n",
              "      <td>0.134454</td>\n",
              "      <td>0.234914</td>\n",
              "      <td>0.204626</td>\n",
              "      <td>0.261931</td>\n",
              "      <td>0.460731</td>\n",
              "      <td>0.721785</td>\n",
              "    </tr>\n",
              "    <tr>\n",
              "      <th>3</th>\n",
              "      <td>0.071429</td>\n",
              "      <td>0.081776</td>\n",
              "      <td>0.188612</td>\n",
              "      <td>0.296527</td>\n",
              "      <td>0.711165</td>\n",
              "      <td>0.655859</td>\n",
              "    </tr>\n",
              "    <tr>\n",
              "      <th>4</th>\n",
              "      <td>0.133253</td>\n",
              "      <td>0.828333</td>\n",
              "      <td>0.176157</td>\n",
              "      <td>0.237067</td>\n",
              "      <td>0.439602</td>\n",
              "      <td>0.630625</td>\n",
              "    </tr>\n",
              "    <tr>\n",
              "      <th>5</th>\n",
              "      <td>0.039916</td>\n",
              "      <td>0.919697</td>\n",
              "      <td>0.096085</td>\n",
              "      <td>0.148337</td>\n",
              "      <td>0.004115</td>\n",
              "      <td>0.749051</td>\n",
              "    </tr>\n",
              "    <tr>\n",
              "      <th>...</th>\n",
              "      <td>...</td>\n",
              "      <td>...</td>\n",
              "      <td>...</td>\n",
              "      <td>...</td>\n",
              "      <td>...</td>\n",
              "      <td>...</td>\n",
              "    </tr>\n",
              "    <tr>\n",
              "      <th>1438</th>\n",
              "      <td>0.000000</td>\n",
              "      <td>0.541667</td>\n",
              "      <td>0.005338</td>\n",
              "      <td>0.000219</td>\n",
              "      <td>0.000000</td>\n",
              "      <td>0.422483</td>\n",
              "    </tr>\n",
              "    <tr>\n",
              "      <th>1439</th>\n",
              "      <td>0.000000</td>\n",
              "      <td>1.000000</td>\n",
              "      <td>0.000000</td>\n",
              "      <td>0.174452</td>\n",
              "      <td>0.989925</td>\n",
              "      <td>0.659068</td>\n",
              "    </tr>\n",
              "    <tr>\n",
              "      <th>1440</th>\n",
              "      <td>0.000300</td>\n",
              "      <td>0.208333</td>\n",
              "      <td>0.001779</td>\n",
              "      <td>0.174452</td>\n",
              "      <td>0.989925</td>\n",
              "      <td>0.584002</td>\n",
              "    </tr>\n",
              "    <tr>\n",
              "      <th>1441</th>\n",
              "      <td>0.000000</td>\n",
              "      <td>0.611111</td>\n",
              "      <td>0.003559</td>\n",
              "      <td>0.000328</td>\n",
              "      <td>0.000000</td>\n",
              "      <td>0.532919</td>\n",
              "    </tr>\n",
              "    <tr>\n",
              "      <th>1442</th>\n",
              "      <td>0.000900</td>\n",
              "      <td>0.285088</td>\n",
              "      <td>0.032028</td>\n",
              "      <td>0.011275</td>\n",
              "      <td>0.279700</td>\n",
              "      <td>0.359001</td>\n",
              "    </tr>\n",
              "  </tbody>\n",
              "</table>\n",
              "<p>1275 rows × 6 columns</p>\n",
              "</div>"
            ],
            "text/plain": [
              "      alunos_deficiencia  ...  conceito_medio_graduacao\n",
              "0               0.100840  ...                  0.679824\n",
              "2               0.134454  ...                  0.721785\n",
              "3               0.071429  ...                  0.655859\n",
              "4               0.133253  ...                  0.630625\n",
              "5               0.039916  ...                  0.749051\n",
              "...                  ...  ...                       ...\n",
              "1438            0.000000  ...                  0.422483\n",
              "1439            0.000000  ...                  0.659068\n",
              "1440            0.000300  ...                  0.584002\n",
              "1441            0.000000  ...                  0.532919\n",
              "1442            0.000900  ...                  0.359001\n",
              "\n",
              "[1275 rows x 6 columns]"
            ]
          },
          "metadata": {},
          "execution_count": 54
        }
      ]
    },
    {
      "cell_type": "code",
      "source": [
        "#df_ies.loc[2].isna()"
      ],
      "metadata": {
        "id": "iEzNAF8irt8K"
      },
      "execution_count": 55,
      "outputs": []
    },
    {
      "cell_type": "code",
      "metadata": {
        "id": "bdzI_w2t6Z4_"
      },
      "source": [
        "faixa_n_clusters = [i for i in range(2,10)]\n",
        "valores_silhueta = []\n",
        "for k in faixa_n_clusters:\n",
        "    agrupador = KMeans(n_clusters=k, random_state=10) #random state para inicializar sempre no mesmo local\n",
        "    labels = agrupador.fit_predict(df_ies[['alunos_deficiencia','num_recursos_medio','num_curso','receitas','despesa_investimento','conceito_medio_graduacao']])\n",
        "    media_silhueta = silhouette_score(df_ies[['alunos_deficiencia','num_recursos_medio','num_curso','receitas','despesa_investimento','conceito_medio_graduacao']], labels)\n",
        "    valores_silhueta.append(media_silhueta)"
      ],
      "execution_count": 56,
      "outputs": []
    },
    {
      "cell_type": "markdown",
      "metadata": {
        "id": "wIhOavy1Eq23"
      },
      "source": [
        ""
      ]
    },
    {
      "cell_type": "code",
      "metadata": {
        "colab": {
          "base_uri": "https://localhost:8080/"
        },
        "id": "hBxHmPSBID3i",
        "outputId": "bddda948-e342-4b05-c6d2-8986eba893d9"
      },
      "source": [
        "valores_silhueta"
      ],
      "execution_count": 57,
      "outputs": [
        {
          "output_type": "execute_result",
          "data": {
            "text/plain": [
              "[0.3714146545761341,\n",
              " 0.4364874639334774,\n",
              " 0.34129036424558634,\n",
              " 0.35247138282643775,\n",
              " 0.3606007128780921,\n",
              " 0.3659461227184312,\n",
              " 0.30682156275283595,\n",
              " 0.308924984138032]"
            ]
          },
          "metadata": {},
          "execution_count": 57
        }
      ]
    },
    {
      "cell_type": "code",
      "metadata": {
        "colab": {
          "base_uri": "https://localhost:8080/",
          "height": 299
        },
        "id": "E_JcX_FRIL9_",
        "outputId": "281a9610-46a1-473c-aae4-93a8c9ef344c"
      },
      "source": [
        "plt.figure(figsize =(7, 4))\n",
        "sns.lineplot(x=faixa_n_clusters, y=valores_silhueta, palette='crest')\n",
        "sns.set_style('darkgrid')\n",
        "plt.title(\"COEFICIENTE DE SILHUETA\", fontsize=14)\n",
        "plt.xlabel('Valores de ‘k’', fontsize=13)\n",
        "plt.ylabel('Coeficiente de Silhueta', fontsize=13)\n",
        "plt.savefig('coeficiente_silhueta.png', transparent = True)"
      ],
      "execution_count": 58,
      "outputs": [
        {
          "output_type": "display_data",
          "data": {
            "image/png": "[encoded data removed]",
            "text/plain": [
              "<Figure size 504x288 with 1 Axes>"
            ]
          },
          "metadata": {}
        }
      ]
    },
    {
      "cell_type": "markdown",
      "metadata": {
        "id": "yAXvsgQSdFVL"
      },
      "source": [
        "###3.2.K-Means"
      ]
    },
    {
      "cell_type": "code",
      "metadata": {
        "colab": {
          "base_uri": "https://localhost:8080/",
          "height": 226
        },
        "id": "WaeIJwRkAFMI",
        "outputId": "01f80089-b260-4bae-9cf4-6c143ded8b45"
      },
      "source": [
        "#Dados para o clustering\n",
        "df_ies.head()"
      ],
      "execution_count": 59,
      "outputs": [
        {
          "output_type": "execute_result",
          "data": {
            "text/html": [
              "<div>\n",
              "<style scoped>\n",
              "    .dataframe tbody tr th:only-of-type {\n",
              "        vertical-align: middle;\n",
              "    }\n",
              "\n",
              "    .dataframe tbody tr th {\n",
              "        vertical-align: top;\n",
              "    }\n",
              "\n",
              "    .dataframe thead th {\n",
              "        text-align: right;\n",
              "    }\n",
              "</style>\n",
              "<table border=\"1\" class=\"dataframe\">\n",
              "  <thead>\n",
              "    <tr style=\"text-align: right;\">\n",
              "      <th></th>\n",
              "      <th>cod_ies</th>\n",
              "      <th>categoria_administrativa</th>\n",
              "      <th>alunos_deficiencia</th>\n",
              "      <th>num_recursos_medio</th>\n",
              "      <th>num_curso</th>\n",
              "      <th>receitas</th>\n",
              "      <th>despesa_investimento</th>\n",
              "      <th>conceito_medio_graduacao</th>\n",
              "      <th>igc_continuo</th>\n",
              "    </tr>\n",
              "  </thead>\n",
              "  <tbody>\n",
              "    <tr>\n",
              "      <th>0</th>\n",
              "      <td>1</td>\n",
              "      <td>1</td>\n",
              "      <td>0.100840</td>\n",
              "      <td>0.119883</td>\n",
              "      <td>0.201068</td>\n",
              "      <td>0.256770</td>\n",
              "      <td>0.538941</td>\n",
              "      <td>0.679824</td>\n",
              "      <td>0.601115</td>\n",
              "    </tr>\n",
              "    <tr>\n",
              "      <th>2</th>\n",
              "      <td>3</td>\n",
              "      <td>1</td>\n",
              "      <td>0.134454</td>\n",
              "      <td>0.234914</td>\n",
              "      <td>0.204626</td>\n",
              "      <td>0.261931</td>\n",
              "      <td>0.460731</td>\n",
              "      <td>0.721785</td>\n",
              "      <td>0.633421</td>\n",
              "    </tr>\n",
              "    <tr>\n",
              "      <th>3</th>\n",
              "      <td>4</td>\n",
              "      <td>1</td>\n",
              "      <td>0.071429</td>\n",
              "      <td>0.081776</td>\n",
              "      <td>0.188612</td>\n",
              "      <td>0.296527</td>\n",
              "      <td>0.711165</td>\n",
              "      <td>0.655859</td>\n",
              "      <td>0.554696</td>\n",
              "    </tr>\n",
              "    <tr>\n",
              "      <th>4</th>\n",
              "      <td>5</td>\n",
              "      <td>1</td>\n",
              "      <td>0.133253</td>\n",
              "      <td>0.828333</td>\n",
              "      <td>0.176157</td>\n",
              "      <td>0.237067</td>\n",
              "      <td>0.439602</td>\n",
              "      <td>0.630625</td>\n",
              "      <td>0.533122</td>\n",
              "    </tr>\n",
              "    <tr>\n",
              "      <th>5</th>\n",
              "      <td>6</td>\n",
              "      <td>1</td>\n",
              "      <td>0.039916</td>\n",
              "      <td>0.919697</td>\n",
              "      <td>0.096085</td>\n",
              "      <td>0.148337</td>\n",
              "      <td>0.004115</td>\n",
              "      <td>0.749051</td>\n",
              "      <td>0.668392</td>\n",
              "    </tr>\n",
              "  </tbody>\n",
              "</table>\n",
              "</div>"
            ],
            "text/plain": [
              "   cod_ies  categoria_administrativa  ...  conceito_medio_graduacao  igc_continuo\n",
              "0        1                         1  ...                  0.679824      0.601115\n",
              "2        3                         1  ...                  0.721785      0.633421\n",
              "3        4                         1  ...                  0.655859      0.554696\n",
              "4        5                         1  ...                  0.630625      0.533122\n",
              "5        6                         1  ...                  0.749051      0.668392\n",
              "\n",
              "[5 rows x 9 columns]"
            ]
          },
          "metadata": {},
          "execution_count": 59
        }
      ]
    },
    {
      "cell_type": "markdown",
      "metadata": {
        "id": "g8ExoE-vAlAe"
      },
      "source": [
        "Vamos adotar o número de 3 clusters, pois foi o teve o melhor escore no método da silhueta"
      ]
    },
    {
      "cell_type": "markdown",
      "metadata": {
        "id": "aXfiTpa9LOqT"
      },
      "source": [
        "###3.2.1 Recursos de Acessibilidade x Conceito Médio da Graduação"
      ]
    },
    {
      "cell_type": "code",
      "metadata": {
        "colab": {
          "base_uri": "https://localhost:8080/"
        },
        "id": "xePZva0K_ysx",
        "outputId": "85617975-e672-437d-fcda-89f648fb0447"
      },
      "source": [
        "#Inicializando e Computando o KMeans com o valor de 3 clusters:\n",
        "X1 = df_ies[['num_recursos_medio', 'conceito_medio_graduacao']].iloc[: , :].values\n",
        "algorithm = (KMeans(n_clusters = 3))\n",
        "algorithm.fit(X1)"
      ],
      "execution_count": 60,
      "outputs": [
        {
          "output_type": "execute_result",
          "data": {
            "text/plain": [
              "KMeans(n_clusters=3)"
            ]
          },
          "metadata": {},
          "execution_count": 60
        }
      ]
    },
    {
      "cell_type": "code",
      "metadata": {
        "colab": {
          "base_uri": "https://localhost:8080/",
          "height": 459
        },
        "id": "1SNpGR0k1xAQ",
        "outputId": "2b47e475-10b8-423c-bd70-2715adf33b0b"
      },
      "source": [
        "#Visualizando os grupos criados e seus centroides:\n",
        "labels2 = algorithm.labels_\n",
        "centroids2 = algorithm.cluster_centers_\n",
        "\n",
        "h = 0.02\n",
        "x_min, x_max = X1[:, 0].min() - 1, X1[:, 0].max() + 1\n",
        "y_min, y_max = X1[:, 1].min() - 1, X1[:, 1].max() + 1\n",
        "xx, yy = np.meshgrid(np.arange(x_min, x_max, h), np.arange(y_min, y_max, h))\n",
        "Z = algorithm.predict(np.c_[xx.ravel(), yy.ravel()]) \n",
        "\n",
        "plt.figure(1 , figsize = (7,7) )\n",
        "plt.clf()\n",
        "Z2 = Z.reshape(xx.shape)\n",
        "cmap = sns.color_palette(\"crest\", as_cmap=True)\n",
        "plt.imshow(Z2, extent=(xx.min(), xx.max(), yy.min(), yy.max()), cmap = cmap, alpha=0.2)\n",
        "plt.scatter(x = 'num_recursos_medio', y = 'conceito_medio_graduacao', data = df_ies , c = labels2 , s = 25, cmap='crest')\n",
        "plt.scatter(x = centroids2[: , 0] , y =  centroids2[: , 1] , s = 50 , c = 'yellow' , alpha = 1)\n",
        "plt.xlim(-0.2,1.2), plt.ylim(-0.2,1.2)\n",
        "plt.title(\"CLUSTER 1\", fontsize=14)\n",
        "plt.ylabel('Conceito Médio da Graduação') , plt.xlabel('Recursos de Acessibilidade')\n",
        "plt.savefig('k-means1.png', transparent = True)"
      ],
      "execution_count": 61,
      "outputs": [
        {
          "output_type": "display_data",
          "data": {
            "image/png": "[encoded data removed]",
            "text/plain": [
              "<Figure size 504x504 with 1 Axes>"
            ]
          },
          "metadata": {}
        }
      ]
    },
    {
      "cell_type": "markdown",
      "metadata": {
        "id": "62B_-5OZLnkt"
      },
      "source": [
        "###3.2.2 Alunos com Deficiência x Conceito Médio da Graduação"
      ]
    },
    {
      "cell_type": "code",
      "metadata": {
        "colab": {
          "base_uri": "https://localhost:8080/"
        },
        "id": "Gm36SPpILv-_",
        "outputId": "bd20ffca-f4a4-4b52-c512-706b5f62245b"
      },
      "source": [
        "#Inicializando e Computando o KMeans com o valor de 3 clusters:\n",
        "X2 = df_ies[['conceito_medio_graduacao', 'alunos_deficiencia']].iloc[: , :].values\n",
        "algorithm = (KMeans(n_clusters = 3))\n",
        "algorithm.fit(X2)"
      ],
      "execution_count": 62,
      "outputs": [
        {
          "output_type": "execute_result",
          "data": {
            "text/plain": [
              "KMeans(n_clusters=3)"
            ]
          },
          "metadata": {},
          "execution_count": 62
        }
      ]
    },
    {
      "cell_type": "code",
      "metadata": {
        "colab": {
          "base_uri": "https://localhost:8080/",
          "height": 462
        },
        "id": "tC_6_dcmJuRp",
        "outputId": "3592d47b-0167-4306-aa06-33136de300f6"
      },
      "source": [
        "#Visualizando os grupos criados e seus centroides:\n",
        "labels2 = algorithm.labels_\n",
        "centroids2 = algorithm.cluster_centers_\n",
        "\n",
        "h = 0.02\n",
        "x_min, x_max = X2[:, 0].min() - 1, X2[:, 0].max() + 1\n",
        "y_min, y_max = X2[:, 1].min() - 1, X2[:, 1].max() + 1\n",
        "xx, yy = np.meshgrid(np.arange(x_min, x_max, h), np.arange(y_min, y_max, h))\n",
        "Z = algorithm.predict(np.c_[xx.ravel(), yy.ravel()]) \n",
        "\n",
        "plt.figure(1 , figsize = (7,7))\n",
        "plt.clf()\n",
        "Z2 = Z.reshape(xx.shape)\n",
        "cmap = sns.color_palette(\"crest\", as_cmap=True)\n",
        "plt.imshow(Z2 , interpolation='nearest', extent=(xx.min(), xx.max(), yy.min(), yy.max()), cmap = cmap, aspect = 'auto', origin='lower', alpha=0.2)\n",
        "plt.scatter(x = 'conceito_medio_graduacao', y = 'alunos_deficiencia', data = df_ies , c = labels2 , s = 25, cmap='crest')\n",
        "plt.scatter(x = centroids2[: , 0] , y =  centroids2[: , 1] , s = 50 , c = 'yellow' , alpha = 1)\n",
        "plt.xlim(-0.2,1.2), plt.ylim(-0.2,1.2)\n",
        "plt.title(\"CLUSTER 2\", fontsize=14)\n",
        "plt.ylabel('Conceito Médio da Graduação', fontsize=13) , plt.xlabel('Alunos com Deficiência', fontsize=13)\n",
        "plt.savefig('k-means2.png', transparent = True)\n",
        "plt.show()"
      ],
      "execution_count": 63,
      "outputs": [
        {
          "output_type": "display_data",
          "data": {
            "image/png": "[encoded data removed]",
            "text/plain": [
              "<Figure size 504x504 with 1 Axes>"
            ]
          },
          "metadata": {}
        }
      ]
    },
    {
      "cell_type": "markdown",
      "metadata": {
        "id": "VH2sZQK8OPjB"
      },
      "source": [
        "###3.2.3 Recursos Acessibilidade x Alunos com Deficiência"
      ]
    },
    {
      "cell_type": "code",
      "metadata": {
        "colab": {
          "base_uri": "https://localhost:8080/"
        },
        "id": "3qUkgGHTOWOm",
        "outputId": "9390762d-9785-4783-9a7c-1f4a0d5ab8a5"
      },
      "source": [
        "#Inicializando e Computando o KMeans com o valor de 3 clusters:\n",
        "X3 = df_ies[['num_recursos_medio', 'alunos_deficiencia']].iloc[: , :].values\n",
        "algorithm = (KMeans(n_clusters = 3))\n",
        "algorithm.fit(X3)"
      ],
      "execution_count": 64,
      "outputs": [
        {
          "output_type": "execute_result",
          "data": {
            "text/plain": [
              "KMeans(n_clusters=3)"
            ]
          },
          "metadata": {},
          "execution_count": 64
        }
      ]
    },
    {
      "cell_type": "code",
      "metadata": {
        "colab": {
          "base_uri": "https://localhost:8080/",
          "height": 462
        },
        "id": "SrK0lcKiKiQV",
        "outputId": "b898e172-5d57-4f3d-a5ad-9adc495fe068"
      },
      "source": [
        "#Visualizando os grupos criados e seus centroides:\n",
        "labels2 = algorithm.labels_\n",
        "centroids2 = algorithm.cluster_centers_\n",
        "\n",
        "h = 0.02\n",
        "x_min, x_max = X3[:, 0].min() - 1, X3[:, 0].max() + 1\n",
        "y_min, y_max = X3[:, 1].min() - 1, X3[:, 1].max() + 1\n",
        "xx, yy = np.meshgrid(np.arange(x_min, x_max, h), np.arange(y_min, y_max, h))\n",
        "Z = algorithm.predict(np.c_[xx.ravel(), yy.ravel()]) \n",
        "\n",
        "plt.figure(1 , figsize = (7,7) )\n",
        "plt.clf()\n",
        "Z2 = Z.reshape(xx.shape)\n",
        "cmap = sns.color_palette(\"crest\", as_cmap=True)\n",
        "plt.imshow(Z2 , interpolation='nearest', extent=(xx.min(), xx.max(), yy.min(), yy.max()), cmap = cmap, aspect = 'auto', origin='lower', alpha=0.2)\n",
        "plt.scatter(x = 'num_recursos_medio', y = 'alunos_deficiencia', data = df_ies , c = labels2 , s = 25, cmap='crest')\n",
        "plt.scatter(x = centroids2[: , 0] , y =  centroids2[: , 1] , s = 50 , c = 'yellow' , alpha = 1)\n",
        "plt.xlim(-0.2,1.2), plt.ylim(-0.2,1.2)\n",
        "plt.title(\"CLUSTER 3\", fontsize=14)\n",
        "plt.ylabel('Recursos de Acessibilidade', fontsize=13) , plt.xlabel('Alunos com Deficiência', fontsize=13)\n",
        "plt.savefig('k-means3.png', transparent = True)\n",
        "plt.show()"
      ],
      "execution_count": 65,
      "outputs": [
        {
          "output_type": "display_data",
          "data": {
            "image/png": "[encoded data removed]",
            "text/plain": [
              "<Figure size 504x504 with 1 Axes>"
            ]
          },
          "metadata": {}
        }
      ]
    },
    {
      "cell_type": "markdown",
      "metadata": {
        "id": "Te6jMsM0PRNk"
      },
      "source": [
        "###3.2.4 Recursos Acessibilidade x Receitas da IES"
      ]
    },
    {
      "cell_type": "code",
      "metadata": {
        "colab": {
          "base_uri": "https://localhost:8080/"
        },
        "id": "mwGOYRZyQIZh",
        "outputId": "a639200c-673b-4c28-aa20-7d5654e393d7"
      },
      "source": [
        "#Inicializando e Computando o KMeans com o valor de 3 clusters:\n",
        "X4 = df_ies[['num_recursos_medio', 'receitas']].iloc[: , :].values\n",
        "algorithm = (KMeans(n_clusters = 3))\n",
        "algorithm.fit(X4)"
      ],
      "execution_count": 67,
      "outputs": [
        {
          "output_type": "execute_result",
          "data": {
            "text/plain": [
              "KMeans(n_clusters=3)"
            ]
          },
          "metadata": {},
          "execution_count": 67
        }
      ]
    },
    {
      "cell_type": "code",
      "metadata": {
        "colab": {
          "base_uri": "https://localhost:8080/",
          "height": 462
        },
        "id": "2TBZBvReQVKf",
        "outputId": "e07af852-d77b-4364-98ed-ebbec7732ce0"
      },
      "source": [
        "#Visualizando os grupos criados e seus centroides:\n",
        "labels2 = algorithm.labels_\n",
        "centroids2 = algorithm.cluster_centers_\n",
        "\n",
        "h = 0.02\n",
        "x_min, x_max = X4[:, 0].min() - 1, X4[:, 0].max() + 1\n",
        "y_min, y_max = X4[:, 1].min() - 1, X4[:, 1].max() + 1\n",
        "xx, yy = np.meshgrid(np.arange(x_min, x_max, h), np.arange(y_min, y_max, h))\n",
        "Z = algorithm.predict(np.c_[xx.ravel(), yy.ravel()]) \n",
        "\n",
        "plt.figure(1 , figsize = (7,7) )\n",
        "plt.clf()\n",
        "Z2 = Z.reshape(xx.shape)\n",
        "cmap = sns.color_palette(\"crest\", as_cmap=True)\n",
        "plt.imshow(Z2 , interpolation='nearest', extent=(xx.min(), xx.max(), yy.min(), yy.max()), cmap = cmap, aspect = 'auto', origin='lower', alpha=0.2)\n",
        "plt.scatter(x = 'num_recursos_medio', y = 'receitas', data = df_ies , c = labels2 , s = 25, cmap='crest')\n",
        "plt.scatter(x = centroids2[: , 0] , y =  centroids2[: , 1] , s = 50 , c = 'yellow' , alpha = 1)\n",
        "plt.xlim(-0.2,1.2), plt.ylim(-0.2,1.2)\n",
        "plt.title(\"CLUSTER 4\", fontsize=14)\n",
        "plt.ylabel('Recursos de Acessibilidade', fontsize=13) , plt.xlabel('Receitas da IES', fontsize=13)\n",
        "plt.savefig('k-means4.png', transparent = True)\n",
        "plt.show()"
      ],
      "execution_count": 74,
      "outputs": [
        {
          "output_type": "display_data",
          "data": {
            "image/png": "[encoded data removed]",
            "text/plain": [
              "<Figure size 504x504 with 1 Axes>"
            ]
          },
          "metadata": {}
        }
      ]
    },
    {
      "cell_type": "markdown",
      "metadata": {
        "id": "9dh2zI3NQkuo"
      },
      "source": [
        "###3.2.5 Recursos Acessibilidade x Despesas com Investimentos da IES"
      ]
    },
    {
      "cell_type": "code",
      "metadata": {
        "id": "Tx-174IrQs-f",
        "colab": {
          "base_uri": "https://localhost:8080/"
        },
        "outputId": "dc972778-08d2-46e4-f9ce-f1ec1374ace1"
      },
      "source": [
        "X5 = df_ies[['num_recursos_medio', 'despesa_investimento']].iloc[: , :].values\n",
        "algorithm = KMeans(n_clusters=3)\n",
        "algorithm.fit(X5)"
      ],
      "execution_count": 75,
      "outputs": [
        {
          "output_type": "execute_result",
          "data": {
            "text/plain": [
              "KMeans(n_clusters=3)"
            ]
          },
          "metadata": {},
          "execution_count": 75
        }
      ]
    },
    {
      "cell_type": "code",
      "metadata": {
        "colab": {
          "base_uri": "https://localhost:8080/",
          "height": 462
        },
        "id": "PrIUHTRnQs1V",
        "outputId": "093dae6e-82a3-4644-951b-3c7b941d3f96"
      },
      "source": [
        "#Visualizando os grupos criados e seus centroides:\n",
        "labels2 = algorithm.labels_\n",
        "centroids2 = algorithm.cluster_centers_\n",
        "\n",
        "h = 0.02\n",
        "x_min, x_max = X5[:, 0].min() - 1, X5[:, 0].max() + 1\n",
        "y_min, y_max = X5[:, 1].min() - 1, X5[:, 1].max() + 1\n",
        "xx, yy = np.meshgrid(np.arange(x_min, x_max, h), np.arange(y_min, y_max, h))\n",
        "Z = algorithm.predict(np.c_[xx.ravel(), yy.ravel()]) \n",
        "\n",
        "plt.figure(1 , figsize = (7,7) )\n",
        "plt.clf()\n",
        "Z2 = Z.reshape(xx.shape)\n",
        "cmap = sns.color_palette(\"crest\", as_cmap=True)\n",
        "plt.imshow(Z2 , interpolation='nearest', extent=(xx.min(), xx.max(), yy.min(), yy.max()), cmap = cmap, aspect = 'auto', origin='lower', alpha=0.2)\n",
        "plt.scatter(x = 'num_recursos_medio', y = 'despesa_investimento', data = df_ies , c = labels2 , s = 25, cmap='crest')\n",
        "plt.scatter(x = centroids2[: , 0] , y =  centroids2[: , 1] , s = 50 , c = 'yellow' , alpha = 1)\n",
        "plt.xlim(-0.2,1.2), plt.ylim(-0.2,1.2)\n",
        "plt.title(\"CLUSTER 5\", fontsize=14)\n",
        "plt.ylabel('Recursos de Acessibilidade', fontsize=13) , plt.xlabel('Despesas com Investimentos da IES', fontsize=13)\n",
        "plt.savefig('k-means5.png', transparent = True)\n",
        "plt.show()"
      ],
      "execution_count": 76,
      "outputs": [
        {
          "output_type": "display_data",
          "data": {
            "image/png": "[encoded data removed]",
            "text/plain": [
              "<Figure size 504x504 with 1 Axes>"
            ]
          },
          "metadata": {}
        }
      ]
    },
    {
      "cell_type": "markdown",
      "source": [
        "##4.Resultados"
      ],
      "metadata": {
        "id": "CPm8pUzmOVm0"
      }
    },
    {
      "cell_type": "code",
      "source": [
        "#Obtendo os índices dos pontos para cada cluster correspondente\n",
        "#pontos_cluster = {i: np.where(algorithm.labels_ == i) for i in range(algorithm.n_clusters)}\n",
        "#pontos_cluster"
      ],
      "metadata": {
        "id": "QXHlsbUjhCCz"
      },
      "execution_count": 105,
      "outputs": []
    },
    {
      "cell_type": "code",
      "source": [
        "#Inserindo os clusters no dataframe\n",
        "df_ies_reindexed = df_ies.reset_index()\n",
        "df_ies_reindexed['cluster'] = algorithm.labels_\n",
        "df_ies_reindexed.head()"
      ],
      "metadata": {
        "id": "akH2CldLOXEH",
        "outputId": "cfd1d999-ad51-4237-8e70-d8c71d04f2ef",
        "colab": {
          "base_uri": "https://localhost:8080/",
          "height": 226
        }
      },
      "execution_count": 107,
      "outputs": [
        {
          "output_type": "execute_result",
          "data": {
            "text/html": [
              "<div>\n",
              "<style scoped>\n",
              "    .dataframe tbody tr th:only-of-type {\n",
              "        vertical-align: middle;\n",
              "    }\n",
              "\n",
              "    .dataframe tbody tr th {\n",
              "        vertical-align: top;\n",
              "    }\n",
              "\n",
              "    .dataframe thead th {\n",
              "        text-align: right;\n",
              "    }\n",
              "</style>\n",
              "<table border=\"1\" class=\"dataframe\">\n",
              "  <thead>\n",
              "    <tr style=\"text-align: right;\">\n",
              "      <th></th>\n",
              "      <th>index</th>\n",
              "      <th>cod_ies</th>\n",
              "      <th>categoria_administrativa</th>\n",
              "      <th>alunos_deficiencia</th>\n",
              "      <th>num_recursos_medio</th>\n",
              "      <th>num_curso</th>\n",
              "      <th>receitas</th>\n",
              "      <th>despesa_investimento</th>\n",
              "      <th>conceito_medio_graduacao</th>\n",
              "      <th>igc_continuo</th>\n",
              "      <th>cluster</th>\n",
              "    </tr>\n",
              "  </thead>\n",
              "  <tbody>\n",
              "    <tr>\n",
              "      <th>0</th>\n",
              "      <td>0</td>\n",
              "      <td>1</td>\n",
              "      <td>1</td>\n",
              "      <td>0.100840</td>\n",
              "      <td>0.119883</td>\n",
              "      <td>0.201068</td>\n",
              "      <td>0.256770</td>\n",
              "      <td>0.538941</td>\n",
              "      <td>0.679824</td>\n",
              "      <td>0.601115</td>\n",
              "      <td>0</td>\n",
              "    </tr>\n",
              "    <tr>\n",
              "      <th>1</th>\n",
              "      <td>2</td>\n",
              "      <td>3</td>\n",
              "      <td>1</td>\n",
              "      <td>0.134454</td>\n",
              "      <td>0.234914</td>\n",
              "      <td>0.204626</td>\n",
              "      <td>0.261931</td>\n",
              "      <td>0.460731</td>\n",
              "      <td>0.721785</td>\n",
              "      <td>0.633421</td>\n",
              "      <td>0</td>\n",
              "    </tr>\n",
              "    <tr>\n",
              "      <th>2</th>\n",
              "      <td>3</td>\n",
              "      <td>4</td>\n",
              "      <td>1</td>\n",
              "      <td>0.071429</td>\n",
              "      <td>0.081776</td>\n",
              "      <td>0.188612</td>\n",
              "      <td>0.296527</td>\n",
              "      <td>0.711165</td>\n",
              "      <td>0.655859</td>\n",
              "      <td>0.554696</td>\n",
              "      <td>0</td>\n",
              "    </tr>\n",
              "    <tr>\n",
              "      <th>3</th>\n",
              "      <td>4</td>\n",
              "      <td>5</td>\n",
              "      <td>1</td>\n",
              "      <td>0.133253</td>\n",
              "      <td>0.828333</td>\n",
              "      <td>0.176157</td>\n",
              "      <td>0.237067</td>\n",
              "      <td>0.439602</td>\n",
              "      <td>0.630625</td>\n",
              "      <td>0.533122</td>\n",
              "      <td>1</td>\n",
              "    </tr>\n",
              "    <tr>\n",
              "      <th>4</th>\n",
              "      <td>5</td>\n",
              "      <td>6</td>\n",
              "      <td>1</td>\n",
              "      <td>0.039916</td>\n",
              "      <td>0.919697</td>\n",
              "      <td>0.096085</td>\n",
              "      <td>0.148337</td>\n",
              "      <td>0.004115</td>\n",
              "      <td>0.749051</td>\n",
              "      <td>0.668392</td>\n",
              "      <td>1</td>\n",
              "    </tr>\n",
              "  </tbody>\n",
              "</table>\n",
              "</div>"
            ],
            "text/plain": [
              "   index  cod_ies  ...  igc_continuo  cluster\n",
              "0      0        1  ...      0.601115        0\n",
              "1      2        3  ...      0.633421        0\n",
              "2      3        4  ...      0.554696        0\n",
              "3      4        5  ...      0.533122        1\n",
              "4      5        6  ...      0.668392        1\n",
              "\n",
              "[5 rows x 11 columns]"
            ]
          },
          "metadata": {},
          "execution_count": 107
        }
      ]
    },
    {
      "cell_type": "code",
      "source": [
        "#Juntando com dados não normalizados\n",
        "clusters_ies = pd.merge(ies, df_ies_reindexed, how='inner', on='cod_ies')\n",
        "clusters_ies = clusters_ies[['cod_ies','categoria_administrativa_x','alunos_deficiencia_x','num_recursos_medio_x','num_curso_x','receitas_x','despesa_investimento_x','conceito_medio_graduacao_x','cluster']]\n",
        "clusters_ies.head()"
      ],
      "metadata": {
        "id": "Cnrg6_mfPq0W",
        "outputId": "faa7ac06-3828-4dfe-a77c-bd2fd04f537f",
        "colab": {
          "base_uri": "https://localhost:8080/",
          "height": 226
        }
      },
      "execution_count": 108,
      "outputs": [
        {
          "output_type": "execute_result",
          "data": {
            "text/html": [
              "<div>\n",
              "<style scoped>\n",
              "    .dataframe tbody tr th:only-of-type {\n",
              "        vertical-align: middle;\n",
              "    }\n",
              "\n",
              "    .dataframe tbody tr th {\n",
              "        vertical-align: top;\n",
              "    }\n",
              "\n",
              "    .dataframe thead th {\n",
              "        text-align: right;\n",
              "    }\n",
              "</style>\n",
              "<table border=\"1\" class=\"dataframe\">\n",
              "  <thead>\n",
              "    <tr style=\"text-align: right;\">\n",
              "      <th></th>\n",
              "      <th>cod_ies</th>\n",
              "      <th>categoria_administrativa_x</th>\n",
              "      <th>alunos_deficiencia_x</th>\n",
              "      <th>num_recursos_medio_x</th>\n",
              "      <th>num_curso_x</th>\n",
              "      <th>receitas_x</th>\n",
              "      <th>despesa_investimento_x</th>\n",
              "      <th>conceito_medio_graduacao_x</th>\n",
              "      <th>cluster</th>\n",
              "    </tr>\n",
              "  </thead>\n",
              "  <tbody>\n",
              "    <tr>\n",
              "      <th>0</th>\n",
              "      <td>1</td>\n",
              "      <td>1</td>\n",
              "      <td>337.0</td>\n",
              "      <td>1.438596</td>\n",
              "      <td>114</td>\n",
              "      <td>9.270910e+08</td>\n",
              "      <td>9606414.13</td>\n",
              "      <td>2.924962</td>\n",
              "      <td>0</td>\n",
              "    </tr>\n",
              "    <tr>\n",
              "      <th>1</th>\n",
              "      <td>3</td>\n",
              "      <td>1</td>\n",
              "      <td>449.0</td>\n",
              "      <td>2.818966</td>\n",
              "      <td>116</td>\n",
              "      <td>9.457277e+08</td>\n",
              "      <td>8212361.64</td>\n",
              "      <td>3.105500</td>\n",
              "      <td>0</td>\n",
              "    </tr>\n",
              "    <tr>\n",
              "      <th>2</th>\n",
              "      <td>4</td>\n",
              "      <td>1</td>\n",
              "      <td>239.0</td>\n",
              "      <td>0.981308</td>\n",
              "      <td>107</td>\n",
              "      <td>1.070640e+09</td>\n",
              "      <td>12676251.59</td>\n",
              "      <td>2.821851</td>\n",
              "      <td>0</td>\n",
              "    </tr>\n",
              "    <tr>\n",
              "      <th>3</th>\n",
              "      <td>5</td>\n",
              "      <td>1</td>\n",
              "      <td>445.0</td>\n",
              "      <td>9.940000</td>\n",
              "      <td>100</td>\n",
              "      <td>8.559507e+08</td>\n",
              "      <td>7835737.00</td>\n",
              "      <td>2.713283</td>\n",
              "      <td>1</td>\n",
              "    </tr>\n",
              "    <tr>\n",
              "      <th>4</th>\n",
              "      <td>6</td>\n",
              "      <td>1</td>\n",
              "      <td>134.0</td>\n",
              "      <td>11.036364</td>\n",
              "      <td>55</td>\n",
              "      <td>5.355859e+08</td>\n",
              "      <td>73345.77</td>\n",
              "      <td>3.222811</td>\n",
              "      <td>1</td>\n",
              "    </tr>\n",
              "  </tbody>\n",
              "</table>\n",
              "</div>"
            ],
            "text/plain": [
              "   cod_ies  categoria_administrativa_x  ...  conceito_medio_graduacao_x  cluster\n",
              "0        1                           1  ...                    2.924962        0\n",
              "1        3                           1  ...                    3.105500        0\n",
              "2        4                           1  ...                    2.821851        0\n",
              "3        5                           1  ...                    2.713283        1\n",
              "4        6                           1  ...                    3.222811        1\n",
              "\n",
              "[5 rows x 9 columns]"
            ]
          },
          "metadata": {},
          "execution_count": 108
        }
      ]
    },
    {
      "cell_type": "code",
      "source": [
        "#Renomeando as colunas\n",
        "clusters_ies = clusters_ies.rename(columns={\n",
        "    'categoria_administrativa_x':'categoria_administrativa',\n",
        "    'alunos_deficiencia_x':'alunos_deficiencia',\n",
        "    'num_recursos_medio_x':'num_recursos_medio',\n",
        "    'num_curso_x':'num_curso',\n",
        "    'receitas_x':'receitas',\n",
        "    'despesa_investimento_x':'despesa_investimento',\n",
        "    'conceito_medio_graduacao_x':'conceito_medio_graduacao',\n",
        "    })\n",
        "clusters_ies.head()"
      ],
      "metadata": {
        "id": "iPaFLpsjPyTJ",
        "outputId": "da478e2e-3aba-49b0-f2d6-2164bb322c72",
        "colab": {
          "base_uri": "https://localhost:8080/",
          "height": 226
        }
      },
      "execution_count": 109,
      "outputs": [
        {
          "output_type": "execute_result",
          "data": {
            "text/html": [
              "<div>\n",
              "<style scoped>\n",
              "    .dataframe tbody tr th:only-of-type {\n",
              "        vertical-align: middle;\n",
              "    }\n",
              "\n",
              "    .dataframe tbody tr th {\n",
              "        vertical-align: top;\n",
              "    }\n",
              "\n",
              "    .dataframe thead th {\n",
              "        text-align: right;\n",
              "    }\n",
              "</style>\n",
              "<table border=\"1\" class=\"dataframe\">\n",
              "  <thead>\n",
              "    <tr style=\"text-align: right;\">\n",
              "      <th></th>\n",
              "      <th>cod_ies</th>\n",
              "      <th>categoria_administrativa</th>\n",
              "      <th>alunos_deficiencia</th>\n",
              "      <th>num_recursos_medio</th>\n",
              "      <th>num_curso</th>\n",
              "      <th>receitas</th>\n",
              "      <th>despesa_investimento</th>\n",
              "      <th>conceito_medio_graduacao</th>\n",
              "      <th>cluster</th>\n",
              "    </tr>\n",
              "  </thead>\n",
              "  <tbody>\n",
              "    <tr>\n",
              "      <th>0</th>\n",
              "      <td>1</td>\n",
              "      <td>1</td>\n",
              "      <td>337.0</td>\n",
              "      <td>1.438596</td>\n",
              "      <td>114</td>\n",
              "      <td>9.270910e+08</td>\n",
              "      <td>9606414.13</td>\n",
              "      <td>2.924962</td>\n",
              "      <td>0</td>\n",
              "    </tr>\n",
              "    <tr>\n",
              "      <th>1</th>\n",
              "      <td>3</td>\n",
              "      <td>1</td>\n",
              "      <td>449.0</td>\n",
              "      <td>2.818966</td>\n",
              "      <td>116</td>\n",
              "      <td>9.457277e+08</td>\n",
              "      <td>8212361.64</td>\n",
              "      <td>3.105500</td>\n",
              "      <td>0</td>\n",
              "    </tr>\n",
              "    <tr>\n",
              "      <th>2</th>\n",
              "      <td>4</td>\n",
              "      <td>1</td>\n",
              "      <td>239.0</td>\n",
              "      <td>0.981308</td>\n",
              "      <td>107</td>\n",
              "      <td>1.070640e+09</td>\n",
              "      <td>12676251.59</td>\n",
              "      <td>2.821851</td>\n",
              "      <td>0</td>\n",
              "    </tr>\n",
              "    <tr>\n",
              "      <th>3</th>\n",
              "      <td>5</td>\n",
              "      <td>1</td>\n",
              "      <td>445.0</td>\n",
              "      <td>9.940000</td>\n",
              "      <td>100</td>\n",
              "      <td>8.559507e+08</td>\n",
              "      <td>7835737.00</td>\n",
              "      <td>2.713283</td>\n",
              "      <td>1</td>\n",
              "    </tr>\n",
              "    <tr>\n",
              "      <th>4</th>\n",
              "      <td>6</td>\n",
              "      <td>1</td>\n",
              "      <td>134.0</td>\n",
              "      <td>11.036364</td>\n",
              "      <td>55</td>\n",
              "      <td>5.355859e+08</td>\n",
              "      <td>73345.77</td>\n",
              "      <td>3.222811</td>\n",
              "      <td>1</td>\n",
              "    </tr>\n",
              "  </tbody>\n",
              "</table>\n",
              "</div>"
            ],
            "text/plain": [
              "   cod_ies  categoria_administrativa  ...  conceito_medio_graduacao  cluster\n",
              "0        1                         1  ...                  2.924962        0\n",
              "1        3                         1  ...                  3.105500        0\n",
              "2        4                         1  ...                  2.821851        0\n",
              "3        5                         1  ...                  2.713283        1\n",
              "4        6                         1  ...                  3.222811        1\n",
              "\n",
              "[5 rows x 9 columns]"
            ]
          },
          "metadata": {},
          "execution_count": 109
        }
      ]
    },
    {
      "cell_type": "code",
      "source": [
        "#criando o dataframe do cluster 0\n",
        "cluster_0 = clusters_ies.loc[clusters_ies['cluster'] == 0]\n",
        "cluster_0.head()"
      ],
      "metadata": {
        "id": "1fO_Nj93PjCu",
        "outputId": "05f0a77d-3ce7-467b-e6c2-6474d0bd930b",
        "colab": {
          "base_uri": "https://localhost:8080/",
          "height": 226
        }
      },
      "execution_count": 111,
      "outputs": [
        {
          "output_type": "execute_result",
          "data": {
            "text/html": [
              "<div>\n",
              "<style scoped>\n",
              "    .dataframe tbody tr th:only-of-type {\n",
              "        vertical-align: middle;\n",
              "    }\n",
              "\n",
              "    .dataframe tbody tr th {\n",
              "        vertical-align: top;\n",
              "    }\n",
              "\n",
              "    .dataframe thead th {\n",
              "        text-align: right;\n",
              "    }\n",
              "</style>\n",
              "<table border=\"1\" class=\"dataframe\">\n",
              "  <thead>\n",
              "    <tr style=\"text-align: right;\">\n",
              "      <th></th>\n",
              "      <th>cod_ies</th>\n",
              "      <th>categoria_administrativa</th>\n",
              "      <th>alunos_deficiencia</th>\n",
              "      <th>num_recursos_medio</th>\n",
              "      <th>num_curso</th>\n",
              "      <th>receitas</th>\n",
              "      <th>despesa_investimento</th>\n",
              "      <th>conceito_medio_graduacao</th>\n",
              "      <th>cluster</th>\n",
              "    </tr>\n",
              "  </thead>\n",
              "  <tbody>\n",
              "    <tr>\n",
              "      <th>0</th>\n",
              "      <td>1</td>\n",
              "      <td>1</td>\n",
              "      <td>337.0</td>\n",
              "      <td>1.438596</td>\n",
              "      <td>114</td>\n",
              "      <td>9.270910e+08</td>\n",
              "      <td>9606414.13</td>\n",
              "      <td>2.924962</td>\n",
              "      <td>0</td>\n",
              "    </tr>\n",
              "    <tr>\n",
              "      <th>1</th>\n",
              "      <td>3</td>\n",
              "      <td>1</td>\n",
              "      <td>449.0</td>\n",
              "      <td>2.818966</td>\n",
              "      <td>116</td>\n",
              "      <td>9.457277e+08</td>\n",
              "      <td>8212361.64</td>\n",
              "      <td>3.105500</td>\n",
              "      <td>0</td>\n",
              "    </tr>\n",
              "    <tr>\n",
              "      <th>2</th>\n",
              "      <td>4</td>\n",
              "      <td>1</td>\n",
              "      <td>239.0</td>\n",
              "      <td>0.981308</td>\n",
              "      <td>107</td>\n",
              "      <td>1.070640e+09</td>\n",
              "      <td>12676251.59</td>\n",
              "      <td>2.821851</td>\n",
              "      <td>0</td>\n",
              "    </tr>\n",
              "    <tr>\n",
              "      <th>5</th>\n",
              "      <td>7</td>\n",
              "      <td>1</td>\n",
              "      <td>62.0</td>\n",
              "      <td>10.263158</td>\n",
              "      <td>76</td>\n",
              "      <td>7.788272e+08</td>\n",
              "      <td>13498425.66</td>\n",
              "      <td>3.354018</td>\n",
              "      <td>0</td>\n",
              "    </tr>\n",
              "    <tr>\n",
              "      <th>7</th>\n",
              "      <td>11</td>\n",
              "      <td>5</td>\n",
              "      <td>5.0</td>\n",
              "      <td>10.030303</td>\n",
              "      <td>33</td>\n",
              "      <td>2.073116e+08</td>\n",
              "      <td>17408235.00</td>\n",
              "      <td>2.645547</td>\n",
              "      <td>0</td>\n",
              "    </tr>\n",
              "  </tbody>\n",
              "</table>\n",
              "</div>"
            ],
            "text/plain": [
              "   cod_ies  categoria_administrativa  ...  conceito_medio_graduacao  cluster\n",
              "0        1                         1  ...                  2.924962        0\n",
              "1        3                         1  ...                  3.105500        0\n",
              "2        4                         1  ...                  2.821851        0\n",
              "5        7                         1  ...                  3.354018        0\n",
              "7       11                         5  ...                  2.645547        0\n",
              "\n",
              "[5 rows x 9 columns]"
            ]
          },
          "metadata": {},
          "execution_count": 111
        }
      ]
    },
    {
      "cell_type": "code",
      "source": [
        "}#criando o dataframe do cluster 1\n",
        "cluster_1 = clusters_ies.loc[clusters_ies['cluster'] == 1]\n",
        "cluster_1.head()"
      ],
      "metadata": {
        "id": "2R-bbN50QPcB",
        "outputId": "118f2a87-67a4-4cfd-b43e-77f9ff8fabf7",
        "colab": {
          "base_uri": "https://localhost:8080/",
          "height": 226
        }
      },
      "execution_count": 112,
      "outputs": [
        {
          "output_type": "execute_result",
          "data": {
            "text/html": [
              "<div>\n",
              "<style scoped>\n",
              "    .dataframe tbody tr th:only-of-type {\n",
              "        vertical-align: middle;\n",
              "    }\n",
              "\n",
              "    .dataframe tbody tr th {\n",
              "        vertical-align: top;\n",
              "    }\n",
              "\n",
              "    .dataframe thead th {\n",
              "        text-align: right;\n",
              "    }\n",
              "</style>\n",
              "<table border=\"1\" class=\"dataframe\">\n",
              "  <thead>\n",
              "    <tr style=\"text-align: right;\">\n",
              "      <th></th>\n",
              "      <th>cod_ies</th>\n",
              "      <th>categoria_administrativa</th>\n",
              "      <th>alunos_deficiencia</th>\n",
              "      <th>num_recursos_medio</th>\n",
              "      <th>num_curso</th>\n",
              "      <th>receitas</th>\n",
              "      <th>despesa_investimento</th>\n",
              "      <th>conceito_medio_graduacao</th>\n",
              "      <th>cluster</th>\n",
              "    </tr>\n",
              "  </thead>\n",
              "  <tbody>\n",
              "    <tr>\n",
              "      <th>3</th>\n",
              "      <td>5</td>\n",
              "      <td>1</td>\n",
              "      <td>445.0</td>\n",
              "      <td>9.940000</td>\n",
              "      <td>100</td>\n",
              "      <td>8.559507e+08</td>\n",
              "      <td>7835737.00</td>\n",
              "      <td>2.713283</td>\n",
              "      <td>1</td>\n",
              "    </tr>\n",
              "    <tr>\n",
              "      <th>4</th>\n",
              "      <td>6</td>\n",
              "      <td>1</td>\n",
              "      <td>134.0</td>\n",
              "      <td>11.036364</td>\n",
              "      <td>55</td>\n",
              "      <td>5.355859e+08</td>\n",
              "      <td>73345.77</td>\n",
              "      <td>3.222811</td>\n",
              "      <td>1</td>\n",
              "    </tr>\n",
              "    <tr>\n",
              "      <th>6</th>\n",
              "      <td>9</td>\n",
              "      <td>2</td>\n",
              "      <td>79.0</td>\n",
              "      <td>8.724138</td>\n",
              "      <td>58</td>\n",
              "      <td>8.706682e+08</td>\n",
              "      <td>7447206.00</td>\n",
              "      <td>3.206958</td>\n",
              "      <td>1</td>\n",
              "    </tr>\n",
              "    <tr>\n",
              "      <th>8</th>\n",
              "      <td>12</td>\n",
              "      <td>1</td>\n",
              "      <td>158.0</td>\n",
              "      <td>11.937500</td>\n",
              "      <td>64</td>\n",
              "      <td>5.979678e+08</td>\n",
              "      <td>7429329.42</td>\n",
              "      <td>3.000950</td>\n",
              "      <td>1</td>\n",
              "    </tr>\n",
              "    <tr>\n",
              "      <th>11</th>\n",
              "      <td>15</td>\n",
              "      <td>5</td>\n",
              "      <td>18.0</td>\n",
              "      <td>7.971429</td>\n",
              "      <td>35</td>\n",
              "      <td>4.703256e+07</td>\n",
              "      <td>396918.57</td>\n",
              "      <td>2.952277</td>\n",
              "      <td>1</td>\n",
              "    </tr>\n",
              "  </tbody>\n",
              "</table>\n",
              "</div>"
            ],
            "text/plain": [
              "    cod_ies  categoria_administrativa  ...  conceito_medio_graduacao  cluster\n",
              "3         5                         1  ...                  2.713283        1\n",
              "4         6                         1  ...                  3.222811        1\n",
              "6         9                         2  ...                  3.206958        1\n",
              "8        12                         1  ...                  3.000950        1\n",
              "11       15                         5  ...                  2.952277        1\n",
              "\n",
              "[5 rows x 9 columns]"
            ]
          },
          "metadata": {},
          "execution_count": 112
        }
      ]
    },
    {
      "cell_type": "code",
      "source": [
        "#criando o dataframe do cluster 2\n",
        "cluster_2 = clusters_ies.loc[clusters_ies['cluster'] == 2]\n",
        "cluster_2.head()"
      ],
      "metadata": {
        "id": "rxLvKoocQP39",
        "outputId": "c12fbc88-8c6e-47e5-f1c2-d6b87bd8af2f",
        "colab": {
          "base_uri": "https://localhost:8080/",
          "height": 226
        }
      },
      "execution_count": 113,
      "outputs": [
        {
          "output_type": "execute_result",
          "data": {
            "text/html": [
              "<div>\n",
              "<style scoped>\n",
              "    .dataframe tbody tr th:only-of-type {\n",
              "        vertical-align: middle;\n",
              "    }\n",
              "\n",
              "    .dataframe tbody tr th {\n",
              "        vertical-align: top;\n",
              "    }\n",
              "\n",
              "    .dataframe thead th {\n",
              "        text-align: right;\n",
              "    }\n",
              "</style>\n",
              "<table border=\"1\" class=\"dataframe\">\n",
              "  <thead>\n",
              "    <tr style=\"text-align: right;\">\n",
              "      <th></th>\n",
              "      <th>cod_ies</th>\n",
              "      <th>categoria_administrativa</th>\n",
              "      <th>alunos_deficiencia</th>\n",
              "      <th>num_recursos_medio</th>\n",
              "      <th>num_curso</th>\n",
              "      <th>receitas</th>\n",
              "      <th>despesa_investimento</th>\n",
              "      <th>conceito_medio_graduacao</th>\n",
              "      <th>cluster</th>\n",
              "    </tr>\n",
              "  </thead>\n",
              "  <tbody>\n",
              "    <tr>\n",
              "      <th>13</th>\n",
              "      <td>18</td>\n",
              "      <td>5</td>\n",
              "      <td>22.0</td>\n",
              "      <td>4.975610</td>\n",
              "      <td>41</td>\n",
              "      <td>1.190055e+08</td>\n",
              "      <td>3410787.98</td>\n",
              "      <td>2.543183</td>\n",
              "      <td>2</td>\n",
              "    </tr>\n",
              "    <tr>\n",
              "      <th>18</th>\n",
              "      <td>29</td>\n",
              "      <td>2</td>\n",
              "      <td>253.0</td>\n",
              "      <td>0.987952</td>\n",
              "      <td>83</td>\n",
              "      <td>2.866198e+08</td>\n",
              "      <td>1525478.82</td>\n",
              "      <td>2.627094</td>\n",
              "      <td>2</td>\n",
              "    </tr>\n",
              "    <tr>\n",
              "      <th>20</th>\n",
              "      <td>32</td>\n",
              "      <td>2</td>\n",
              "      <td>19.0</td>\n",
              "      <td>0.000000</td>\n",
              "      <td>15</td>\n",
              "      <td>2.411698e+08</td>\n",
              "      <td>4264517.79</td>\n",
              "      <td>2.650687</td>\n",
              "      <td>2</td>\n",
              "    </tr>\n",
              "    <tr>\n",
              "      <th>30</th>\n",
              "      <td>58</td>\n",
              "      <td>3</td>\n",
              "      <td>1.0</td>\n",
              "      <td>1.000000</td>\n",
              "      <td>1</td>\n",
              "      <td>3.762536e+07</td>\n",
              "      <td>51133.70</td>\n",
              "      <td>2.600772</td>\n",
              "      <td>2</td>\n",
              "    </tr>\n",
              "    <tr>\n",
              "      <th>31</th>\n",
              "      <td>59</td>\n",
              "      <td>3</td>\n",
              "      <td>3.0</td>\n",
              "      <td>6.000000</td>\n",
              "      <td>1</td>\n",
              "      <td>1.753693e+07</td>\n",
              "      <td>2310232.70</td>\n",
              "      <td>2.803781</td>\n",
              "      <td>2</td>\n",
              "    </tr>\n",
              "  </tbody>\n",
              "</table>\n",
              "</div>"
            ],
            "text/plain": [
              "    cod_ies  categoria_administrativa  ...  conceito_medio_graduacao  cluster\n",
              "13       18                         5  ...                  2.543183        2\n",
              "18       29                         2  ...                  2.627094        2\n",
              "20       32                         2  ...                  2.650687        2\n",
              "30       58                         3  ...                  2.600772        2\n",
              "31       59                         3  ...                  2.803781        2\n",
              "\n",
              "[5 rows x 9 columns]"
            ]
          },
          "metadata": {},
          "execution_count": 113
        }
      ]
    },
    {
      "cell_type": "code",
      "source": [
        "cluster_0.describe()"
      ],
      "metadata": {
        "id": "PALOCNr_L2px",
        "outputId": "e2b286fa-138c-465c-9b23-b80efef11a1a",
        "colab": {
          "base_uri": "https://localhost:8080/",
          "height": 320
        }
      },
      "execution_count": 126,
      "outputs": [
        {
          "output_type": "execute_result",
          "data": {
            "text/html": [
              "<div>\n",
              "<style scoped>\n",
              "    .dataframe tbody tr th:only-of-type {\n",
              "        vertical-align: middle;\n",
              "    }\n",
              "\n",
              "    .dataframe tbody tr th {\n",
              "        vertical-align: top;\n",
              "    }\n",
              "\n",
              "    .dataframe thead th {\n",
              "        text-align: right;\n",
              "    }\n",
              "</style>\n",
              "<table border=\"1\" class=\"dataframe\">\n",
              "  <thead>\n",
              "    <tr style=\"text-align: right;\">\n",
              "      <th></th>\n",
              "      <th>cod_ies</th>\n",
              "      <th>categoria_administrativa</th>\n",
              "      <th>alunos_deficiencia</th>\n",
              "      <th>num_recursos_medio</th>\n",
              "      <th>num_curso</th>\n",
              "      <th>receitas</th>\n",
              "      <th>despesa_investimento</th>\n",
              "      <th>conceito_medio_graduacao</th>\n",
              "      <th>cluster</th>\n",
              "    </tr>\n",
              "  </thead>\n",
              "  <tbody>\n",
              "    <tr>\n",
              "      <th>count</th>\n",
              "      <td>175.000000</td>\n",
              "      <td>175.000000</td>\n",
              "      <td>175.000000</td>\n",
              "      <td>175.000000</td>\n",
              "      <td>175.000000</td>\n",
              "      <td>1.750000e+02</td>\n",
              "      <td>1.750000e+02</td>\n",
              "      <td>175.000000</td>\n",
              "      <td>175.0</td>\n",
              "    </tr>\n",
              "    <tr>\n",
              "      <th>mean</th>\n",
              "      <td>5401.714286</td>\n",
              "      <td>2.691429</td>\n",
              "      <td>88.800000</td>\n",
              "      <td>4.989344</td>\n",
              "      <td>36.040000</td>\n",
              "      <td>4.855213e+08</td>\n",
              "      <td>1.353602e+07</td>\n",
              "      <td>2.782871</td>\n",
              "      <td>0.0</td>\n",
              "    </tr>\n",
              "    <tr>\n",
              "      <th>std</th>\n",
              "      <td>6526.559199</td>\n",
              "      <td>1.445041</td>\n",
              "      <td>196.550804</td>\n",
              "      <td>3.659738</td>\n",
              "      <td>41.163308</td>\n",
              "      <td>3.435263e+08</td>\n",
              "      <td>3.590158e+06</td>\n",
              "      <td>0.380952</td>\n",
              "      <td>0.0</td>\n",
              "    </tr>\n",
              "    <tr>\n",
              "      <th>min</th>\n",
              "      <td>1.000000</td>\n",
              "      <td>1.000000</td>\n",
              "      <td>1.000000</td>\n",
              "      <td>0.000000</td>\n",
              "      <td>1.000000</td>\n",
              "      <td>8.500550e+05</td>\n",
              "      <td>6.983848e+06</td>\n",
              "      <td>1.347797</td>\n",
              "      <td>0.0</td>\n",
              "    </tr>\n",
              "    <tr>\n",
              "      <th>25%</th>\n",
              "      <td>585.000000</td>\n",
              "      <td>2.000000</td>\n",
              "      <td>4.000000</td>\n",
              "      <td>2.000000</td>\n",
              "      <td>5.000000</td>\n",
              "      <td>2.454226e+08</td>\n",
              "      <td>1.046453e+07</td>\n",
              "      <td>2.534165</td>\n",
              "      <td>0.0</td>\n",
              "    </tr>\n",
              "    <tr>\n",
              "      <th>50%</th>\n",
              "      <td>1984.000000</td>\n",
              "      <td>2.000000</td>\n",
              "      <td>15.000000</td>\n",
              "      <td>4.666667</td>\n",
              "      <td>18.000000</td>\n",
              "      <td>5.058723e+08</td>\n",
              "      <td>1.417604e+07</td>\n",
              "      <td>2.787081</td>\n",
              "      <td>0.0</td>\n",
              "    </tr>\n",
              "    <tr>\n",
              "      <th>75%</th>\n",
              "      <td>5630.000000</td>\n",
              "      <td>4.000000</td>\n",
              "      <td>80.500000</td>\n",
              "      <td>8.475113</td>\n",
              "      <td>54.500000</td>\n",
              "      <td>6.298745e+08</td>\n",
              "      <td>1.764504e+07</td>\n",
              "      <td>3.063055</td>\n",
              "      <td>0.0</td>\n",
              "    </tr>\n",
              "    <tr>\n",
              "      <th>max</th>\n",
              "      <td>20478.000000</td>\n",
              "      <td>5.000000</td>\n",
              "      <td>1814.000000</td>\n",
              "      <td>12.000000</td>\n",
              "      <td>181.000000</td>\n",
              "      <td>2.699257e+09</td>\n",
              "      <td>1.782462e+07</td>\n",
              "      <td>3.962833</td>\n",
              "      <td>0.0</td>\n",
              "    </tr>\n",
              "  </tbody>\n",
              "</table>\n",
              "</div>"
            ],
            "text/plain": [
              "            cod_ies  ...  cluster\n",
              "count    175.000000  ...    175.0\n",
              "mean    5401.714286  ...      0.0\n",
              "std     6526.559199  ...      0.0\n",
              "min        1.000000  ...      0.0\n",
              "25%      585.000000  ...      0.0\n",
              "50%     1984.000000  ...      0.0\n",
              "75%     5630.000000  ...      0.0\n",
              "max    20478.000000  ...      0.0\n",
              "\n",
              "[8 rows x 9 columns]"
            ]
          },
          "metadata": {},
          "execution_count": 126
        }
      ]
    },
    {
      "cell_type": "code",
      "source": [
        "#Número de alunos com deficiência\n",
        "alunos_cluster0 = cluster_0['alunos_deficiencia'].sum()\n",
        "alunos_cluster1 = cluster_1['alunos_deficiencia'].sum()\n",
        "alunos_cluster2 = cluster_2['alunos_deficiencia'].sum()"
      ],
      "metadata": {
        "id": "t-Bi_JOeUKHi"
      },
      "execution_count": 139,
      "outputs": []
    },
    {
      "cell_type": "code",
      "source": [
        "#Número de recursos médio\n",
        "recursos_medio0 = cluster_0['num_recursos_medio'].mean()\n",
        "recursos_medio1 = cluster_1['num_recursos_medio'].mean()\n",
        "recursos_medio2 = cluster_2['num_recursos_medio'].mean()"
      ],
      "metadata": {
        "id": "ifQpMdIvU_Sy"
      },
      "execution_count": 140,
      "outputs": []
    },
    {
      "cell_type": "code",
      "source": [
        "#Receitas média\n",
        "receitas_med0 = cluster_0['receitas'].mean()\n",
        "receitas_med1 = cluster_1['receitas'].mean()\n",
        "receitas_med2 = cluster_2['receitas'].mean()"
      ],
      "metadata": {
        "id": "8GcTVcrma2xI"
      },
      "execution_count": 166,
      "outputs": []
    },
    {
      "cell_type": "code",
      "source": [
        "#Despesa média despesas com investimentos\n",
        "despesa_investimento_med0 = cluster_0['despesa_investimento'].mean()\n",
        "despesa_investimento_med1 = cluster_1['despesa_investimento'].mean()\n",
        "despesa_investimento_med2 = cluster_2['despesa_investimento'].mean()"
      ],
      "metadata": {
        "id": "hQcCf9VBbHNO"
      },
      "execution_count": 167,
      "outputs": []
    },
    {
      "cell_type": "code",
      "source": [
        "#Conceito médio da graduação\n",
        "conceito_medio_graduacao_med0 = cluster_0['conceito_medio_graduacao'].mean()\n",
        "conceito_medio_graduacao_med1 = cluster_1['conceito_medio_graduacao'].mean()\n",
        "conceito_medio_graduacao_med2 = cluster_2['conceito_medio_graduacao'].mean()"
      ],
      "metadata": {
        "id": "nre6IyLDbPli"
      },
      "execution_count": 168,
      "outputs": []
    },
    {
      "cell_type": "code",
      "source": [
        "#cluster\n",
        "incluster_0 = [0, 175, alunos_cluster0, recursos_medio0, receitas_med0, despesa_investimento_med0, conceito_medio_graduacao_med0]\n",
        "incluster_1 = [1, 483, alunos_cluster1, recursos_medio1, receitas_med1, despesa_investimento_med1, conceito_medio_graduacao_med1]\n",
        "incluster_2 = [2, 617, alunos_cluster2, recursos_medio2, receitas_med2, despesa_investimento_med2, conceito_medio_graduacao_med2]"
      ],
      "metadata": {
        "id": "ln8WW-fFSw9L"
      },
      "execution_count": 180,
      "outputs": []
    },
    {
      "cell_type": "code",
      "source": [
        "clusters = [incluster_0, incluster_1, incluster_2]\n",
        "grupos = pd.DataFrame(clusters, columns = ['Cluster','Quantidade de IES', 'Alunos com deficiência', 'Média de Recursos' , 'Receitas média', 'Despesa média com investimentos', 'Conceito médio da graduação'])\n",
        "#grupos = pd.DataFrame(clusters, columns = ['Quantidade de IES', 'Alunos com deficiência', 'Média de Recursos' , 'Valor mínimo de receitas', 'Valor máximo de receitas', 'Valor mínimo de despesas com investimentos', 'Valor máximo de despesas com investimentos', 'Valor mínimo do conceito médio da graduacao', 'Valor máximo do conceito médio da graduacao'])\n",
        "grupos.head()"
      ],
      "metadata": {
        "id": "iiPNtTaoUjUC",
        "outputId": "272d768e-e03a-4354-f9a5-05ee46456f6d",
        "colab": {
          "base_uri": "https://localhost:8080/",
          "height": 161
        }
      },
      "execution_count": 181,
      "outputs": [
        {
          "output_type": "execute_result",
          "data": {
            "text/html": [
              "<div>\n",
              "<style scoped>\n",
              "    .dataframe tbody tr th:only-of-type {\n",
              "        vertical-align: middle;\n",
              "    }\n",
              "\n",
              "    .dataframe tbody tr th {\n",
              "        vertical-align: top;\n",
              "    }\n",
              "\n",
              "    .dataframe thead th {\n",
              "        text-align: right;\n",
              "    }\n",
              "</style>\n",
              "<table border=\"1\" class=\"dataframe\">\n",
              "  <thead>\n",
              "    <tr style=\"text-align: right;\">\n",
              "      <th></th>\n",
              "      <th>Cluster</th>\n",
              "      <th>Quantidade de IES</th>\n",
              "      <th>Alunos com deficiência</th>\n",
              "      <th>Média de Recursos</th>\n",
              "      <th>Receitas média</th>\n",
              "      <th>Despesa média com investimentos</th>\n",
              "      <th>Conceito médio da graduação</th>\n",
              "    </tr>\n",
              "  </thead>\n",
              "  <tbody>\n",
              "    <tr>\n",
              "      <th>0</th>\n",
              "      <td>0</td>\n",
              "      <td>175</td>\n",
              "      <td>15540.0</td>\n",
              "      <td>4.989344</td>\n",
              "      <td>4.855213e+08</td>\n",
              "      <td>1.353602e+07</td>\n",
              "      <td>2.782871</td>\n",
              "    </tr>\n",
              "    <tr>\n",
              "      <th>1</th>\n",
              "      <td>1</td>\n",
              "      <td>483</td>\n",
              "      <td>16607.0</td>\n",
              "      <td>9.558355</td>\n",
              "      <td>1.486772e+08</td>\n",
              "      <td>1.409380e+06</td>\n",
              "      <td>2.674184</td>\n",
              "    </tr>\n",
              "    <tr>\n",
              "      <th>2</th>\n",
              "      <td>2</td>\n",
              "      <td>617</td>\n",
              "      <td>12189.0</td>\n",
              "      <td>3.129444</td>\n",
              "      <td>7.977919e+07</td>\n",
              "      <td>7.958378e+05</td>\n",
              "      <td>2.533084</td>\n",
              "    </tr>\n",
              "  </tbody>\n",
              "</table>\n",
              "</div>"
            ],
            "text/plain": [
              "   Cluster  ...  Conceito médio da graduação\n",
              "0        0  ...                     2.782871\n",
              "1        1  ...                     2.674184\n",
              "2        2  ...                     2.533084\n",
              "\n",
              "[3 rows x 7 columns]"
            ]
          },
          "metadata": {},
          "execution_count": 181
        }
      ]
    },
    {
      "cell_type": "code",
      "source": [
        "grupos['IES (%)'] = grupos['Quantidade de IES']/grupos['Quantidade de IES'].sum() *100\n",
        "grupos['Alunos com deficiência (%)'] = grupos['Alunos com deficiência']/grupos['Alunos com deficiência'].sum() *100"
      ],
      "metadata": {
        "id": "h3B4Ze6laBMA"
      },
      "execution_count": 190,
      "outputs": []
    },
    {
      "cell_type": "code",
      "source": [
        "grupos.head()"
      ],
      "metadata": {
        "id": "Ou5y0lflaQY1",
        "outputId": "5d05e935-3825-454f-8a2d-46a4e4ce46d3",
        "colab": {
          "base_uri": "https://localhost:8080/",
          "height": 178
        }
      },
      "execution_count": 191,
      "outputs": [
        {
          "output_type": "execute_result",
          "data": {
            "text/html": [
              "<div>\n",
              "<style scoped>\n",
              "    .dataframe tbody tr th:only-of-type {\n",
              "        vertical-align: middle;\n",
              "    }\n",
              "\n",
              "    .dataframe tbody tr th {\n",
              "        vertical-align: top;\n",
              "    }\n",
              "\n",
              "    .dataframe thead th {\n",
              "        text-align: right;\n",
              "    }\n",
              "</style>\n",
              "<table border=\"1\" class=\"dataframe\">\n",
              "  <thead>\n",
              "    <tr style=\"text-align: right;\">\n",
              "      <th></th>\n",
              "      <th>Cluster</th>\n",
              "      <th>Quantidade de IES</th>\n",
              "      <th>Alunos com deficiência</th>\n",
              "      <th>Média de Recursos</th>\n",
              "      <th>Receitas média</th>\n",
              "      <th>Despesa média com investimentos</th>\n",
              "      <th>Conceito médio da graduação</th>\n",
              "      <th>IES</th>\n",
              "      <th>Alunos com deficiência (%)</th>\n",
              "      <th>IES (%)</th>\n",
              "    </tr>\n",
              "  </thead>\n",
              "  <tbody>\n",
              "    <tr>\n",
              "      <th>0</th>\n",
              "      <td>0</td>\n",
              "      <td>175</td>\n",
              "      <td>15540.0</td>\n",
              "      <td>4.989344</td>\n",
              "      <td>4.855213e+08</td>\n",
              "      <td>1.353602e+07</td>\n",
              "      <td>2.782871</td>\n",
              "      <td>13.725490</td>\n",
              "      <td>35.050523</td>\n",
              "      <td>13.725490</td>\n",
              "    </tr>\n",
              "    <tr>\n",
              "      <th>1</th>\n",
              "      <td>1</td>\n",
              "      <td>483</td>\n",
              "      <td>16607.0</td>\n",
              "      <td>9.558355</td>\n",
              "      <td>1.486772e+08</td>\n",
              "      <td>1.409380e+06</td>\n",
              "      <td>2.674184</td>\n",
              "      <td>37.882353</td>\n",
              "      <td>37.457145</td>\n",
              "      <td>37.882353</td>\n",
              "    </tr>\n",
              "    <tr>\n",
              "      <th>2</th>\n",
              "      <td>2</td>\n",
              "      <td>617</td>\n",
              "      <td>12189.0</td>\n",
              "      <td>3.129444</td>\n",
              "      <td>7.977919e+07</td>\n",
              "      <td>7.958378e+05</td>\n",
              "      <td>2.533084</td>\n",
              "      <td>48.392157</td>\n",
              "      <td>27.492331</td>\n",
              "      <td>48.392157</td>\n",
              "    </tr>\n",
              "  </tbody>\n",
              "</table>\n",
              "</div>"
            ],
            "text/plain": [
              "   Cluster  Quantidade de IES  ...  Alunos com deficiência (%)    IES (%)\n",
              "0        0                175  ...                   35.050523  13.725490\n",
              "1        1                483  ...                   37.457145  37.882353\n",
              "2        2                617  ...                   27.492331  48.392157\n",
              "\n",
              "[3 rows x 10 columns]"
            ]
          },
          "metadata": {},
          "execution_count": 191
        }
      ]
    },
    {
      "cell_type": "code",
      "source": [
        "grupos.transpose()"
      ],
      "metadata": {
        "id": "lRGRUK2BeqGP",
        "outputId": "424525aa-7d9d-405b-c090-9f19849fd915",
        "colab": {
          "base_uri": "https://localhost:8080/",
          "height": 332
        }
      },
      "execution_count": 186,
      "outputs": [
        {
          "output_type": "execute_result",
          "data": {
            "text/html": [
              "<div>\n",
              "<style scoped>\n",
              "    .dataframe tbody tr th:only-of-type {\n",
              "        vertical-align: middle;\n",
              "    }\n",
              "\n",
              "    .dataframe tbody tr th {\n",
              "        vertical-align: top;\n",
              "    }\n",
              "\n",
              "    .dataframe thead th {\n",
              "        text-align: right;\n",
              "    }\n",
              "</style>\n",
              "<table border=\"1\" class=\"dataframe\">\n",
              "  <thead>\n",
              "    <tr style=\"text-align: right;\">\n",
              "      <th></th>\n",
              "      <th>0</th>\n",
              "      <th>1</th>\n",
              "      <th>2</th>\n",
              "    </tr>\n",
              "  </thead>\n",
              "  <tbody>\n",
              "    <tr>\n",
              "      <th>Cluster</th>\n",
              "      <td>0.000000e+00</td>\n",
              "      <td>1.000000e+00</td>\n",
              "      <td>2.000000e+00</td>\n",
              "    </tr>\n",
              "    <tr>\n",
              "      <th>Quantidade de IES</th>\n",
              "      <td>1.750000e+02</td>\n",
              "      <td>4.830000e+02</td>\n",
              "      <td>6.170000e+02</td>\n",
              "    </tr>\n",
              "    <tr>\n",
              "      <th>Alunos com deficiência</th>\n",
              "      <td>1.554000e+04</td>\n",
              "      <td>1.660700e+04</td>\n",
              "      <td>1.218900e+04</td>\n",
              "    </tr>\n",
              "    <tr>\n",
              "      <th>Média de Recursos</th>\n",
              "      <td>4.989344e+00</td>\n",
              "      <td>9.558355e+00</td>\n",
              "      <td>3.129444e+00</td>\n",
              "    </tr>\n",
              "    <tr>\n",
              "      <th>Receitas média</th>\n",
              "      <td>4.855213e+08</td>\n",
              "      <td>1.486772e+08</td>\n",
              "      <td>7.977919e+07</td>\n",
              "    </tr>\n",
              "    <tr>\n",
              "      <th>Despesa média com investimentos</th>\n",
              "      <td>1.353602e+07</td>\n",
              "      <td>1.409380e+06</td>\n",
              "      <td>7.958378e+05</td>\n",
              "    </tr>\n",
              "    <tr>\n",
              "      <th>Conceito médio da graduação</th>\n",
              "      <td>2.782871e+00</td>\n",
              "      <td>2.674184e+00</td>\n",
              "      <td>2.533084e+00</td>\n",
              "    </tr>\n",
              "    <tr>\n",
              "      <th>IES</th>\n",
              "      <td>1.372549e+01</td>\n",
              "      <td>3.788235e+01</td>\n",
              "      <td>4.839216e+01</td>\n",
              "    </tr>\n",
              "    <tr>\n",
              "      <th>Alunos com deficiência (%)</th>\n",
              "      <td>3.505052e+01</td>\n",
              "      <td>3.745715e+01</td>\n",
              "      <td>2.749233e+01</td>\n",
              "    </tr>\n",
              "  </tbody>\n",
              "</table>\n",
              "</div>"
            ],
            "text/plain": [
              "                                            0             1             2\n",
              "Cluster                          0.000000e+00  1.000000e+00  2.000000e+00\n",
              "Quantidade de IES                1.750000e+02  4.830000e+02  6.170000e+02\n",
              "Alunos com deficiência           1.554000e+04  1.660700e+04  1.218900e+04\n",
              "Média de Recursos                4.989344e+00  9.558355e+00  3.129444e+00\n",
              "Receitas média                   4.855213e+08  1.486772e+08  7.977919e+07\n",
              "Despesa média com investimentos  1.353602e+07  1.409380e+06  7.958378e+05\n",
              "Conceito médio da graduação      2.782871e+00  2.674184e+00  2.533084e+00\n",
              "IES                              1.372549e+01  3.788235e+01  4.839216e+01\n",
              "Alunos com deficiência (%)       3.505052e+01  3.745715e+01  2.749233e+01"
            ]
          },
          "metadata": {},
          "execution_count": 186
        }
      ]
    },
    {
      "cell_type": "code",
      "source": [
        "grupos.head()"
      ],
      "metadata": {
        "id": "CI8R86u0e8m9",
        "outputId": "d47f51ae-e3a2-49a1-bbe1-a61edf41201b",
        "colab": {
          "base_uri": "https://localhost:8080/",
          "height": 161
        }
      },
      "execution_count": 179,
      "outputs": [
        {
          "output_type": "execute_result",
          "data": {
            "text/html": [
              "<div>\n",
              "<style scoped>\n",
              "    .dataframe tbody tr th:only-of-type {\n",
              "        vertical-align: middle;\n",
              "    }\n",
              "\n",
              "    .dataframe tbody tr th {\n",
              "        vertical-align: top;\n",
              "    }\n",
              "\n",
              "    .dataframe thead th {\n",
              "        text-align: right;\n",
              "    }\n",
              "</style>\n",
              "<table border=\"1\" class=\"dataframe\">\n",
              "  <thead>\n",
              "    <tr style=\"text-align: right;\">\n",
              "      <th></th>\n",
              "      <th>Quantidade de IES</th>\n",
              "      <th>Alunos com deficiência</th>\n",
              "      <th>Média de Recursos</th>\n",
              "      <th>Receitas média</th>\n",
              "      <th>Despesa média com investimentos</th>\n",
              "      <th>Conceito médio da graduação</th>\n",
              "      <th>IES</th>\n",
              "      <th>Alunos com deficiência (%)</th>\n",
              "    </tr>\n",
              "  </thead>\n",
              "  <tbody>\n",
              "    <tr>\n",
              "      <th>0</th>\n",
              "      <td>175</td>\n",
              "      <td>15540.0</td>\n",
              "      <td>4.989344</td>\n",
              "      <td>4.855213e+08</td>\n",
              "      <td>1.353602e+07</td>\n",
              "      <td>2.782871</td>\n",
              "      <td>13.725490</td>\n",
              "      <td>35.050523</td>\n",
              "    </tr>\n",
              "    <tr>\n",
              "      <th>1</th>\n",
              "      <td>483</td>\n",
              "      <td>16607.0</td>\n",
              "      <td>9.558355</td>\n",
              "      <td>1.486772e+08</td>\n",
              "      <td>1.409380e+06</td>\n",
              "      <td>2.674184</td>\n",
              "      <td>37.882353</td>\n",
              "      <td>37.457145</td>\n",
              "    </tr>\n",
              "    <tr>\n",
              "      <th>2</th>\n",
              "      <td>617</td>\n",
              "      <td>12189.0</td>\n",
              "      <td>3.129444</td>\n",
              "      <td>7.977919e+07</td>\n",
              "      <td>7.958378e+05</td>\n",
              "      <td>2.533084</td>\n",
              "      <td>48.392157</td>\n",
              "      <td>27.492331</td>\n",
              "    </tr>\n",
              "  </tbody>\n",
              "</table>\n",
              "</div>"
            ],
            "text/plain": [
              "   Quantidade de IES  ...  Alunos com deficiência (%)\n",
              "0                175  ...                   35.050523\n",
              "1                483  ...                   37.457145\n",
              "2                617  ...                   27.492331\n",
              "\n",
              "[3 rows x 8 columns]"
            ]
          },
          "metadata": {},
          "execution_count": 179
        }
      ]
    }
  ]
}