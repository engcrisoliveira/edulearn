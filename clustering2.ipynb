{
  "nbformat": 4,
  "nbformat_minor": 0,
  "metadata": {
    "colab": {
      "name": "clustering2.ipynb",
      "provenance": [],
      "collapsed_sections": [],
      "toc_visible": true,
      "authorship_tag": "ABX9TyN/SADeMJYSjVpzB5QuvfIO",
      "include_colab_link": true
    },
    "kernelspec": {
      "name": "python3",
      "display_name": "Python 3"
    },
    "language_info": {
      "name": "python"
    }
  },
  "cells": [
    {
      "cell_type": "markdown",
      "metadata": {
        "id": "view-in-github",
        "colab_type": "text"
      },
      "source": [
        "<a href=\"https://colab.research.google.com/github/roxacarv/edulearn/blob/main/clustering2.ipynb\" target=\"_parent\"><img src=\"https://colab.research.google.com/assets/colab-badge.svg\" alt=\"Open In Colab\"/></a>"
      ]
    },
    {
      "cell_type": "markdown",
      "metadata": {
        "id": "yMfEMPfbY-rx"
      },
      "source": [
        "#Edulearn - Clustering\n",
        "##IES\n",
        "---\n",
        "\n",
        "\n",
        "\n",
        "---"
      ]
    },
    {
      "cell_type": "code",
      "metadata": {
        "id": "PraEvtneZB6X"
      },
      "source": [
        "#Importando as bibliotecas\n",
        "import pandas as pd\n",
        "import matplotlib.pyplot as plt\n",
        "import plotly.graph_objects as go\n",
        "import seaborn as sns\n",
        "import numpy as np\n",
        "from sklearn.cluster import KMeans\n",
        "from sklearn.metrics import silhouette_score"
      ],
      "execution_count": 194,
      "outputs": []
    },
    {
      "cell_type": "markdown",
      "metadata": {
        "id": "68k061kKmu7v"
      },
      "source": [
        "## 1.Dados IES - INEP"
      ]
    },
    {
      "cell_type": "markdown",
      "metadata": {
        "id": "Y2LaAcaZuG2u"
      },
      "source": [
        "###1.1.Índice Geral dos Cursos (IGC)"
      ]
    },
    {
      "cell_type": "markdown",
      "metadata": {
        "id": "bzuRngkjdvHz"
      },
      "source": [
        " Índice referente à qualidade dos cursos, com resultado do desempenho das instituições de ensino superior do país"
      ]
    },
    {
      "cell_type": "code",
      "metadata": {
        "colab": {
          "base_uri": "https://localhost:8080/",
          "height": 206
        },
        "id": "ScWeqK1VshsW",
        "outputId": "2d48f0b9-0784-4f54-a47d-ba4c2f30924b"
      },
      "source": [
        "#Indicadores de Qualidade da Educação Superior (INEP)\n",
        "ies_igc = pd.read_excel('IGC_2019.xlsx', usecols=[1, 9, 14])\n",
        "ies_igc.head()"
      ],
      "execution_count": 195,
      "outputs": [
        {
          "output_type": "execute_result",
          "data": {
            "text/html": [
              "<div>\n",
              "<style scoped>\n",
              "    .dataframe tbody tr th:only-of-type {\n",
              "        vertical-align: middle;\n",
              "    }\n",
              "\n",
              "    .dataframe tbody tr th {\n",
              "        vertical-align: top;\n",
              "    }\n",
              "\n",
              "    .dataframe thead th {\n",
              "        text-align: right;\n",
              "    }\n",
              "</style>\n",
              "<table border=\"1\" class=\"dataframe\">\n",
              "  <thead>\n",
              "    <tr style=\"text-align: right;\">\n",
              "      <th></th>\n",
              "      <th>Código da IES</th>\n",
              "      <th>Conceito Médio de Graduação</th>\n",
              "      <th>IGC (Contínuo)</th>\n",
              "    </tr>\n",
              "  </thead>\n",
              "  <tbody>\n",
              "    <tr>\n",
              "      <th>0</th>\n",
              "      <td>1</td>\n",
              "      <td>2.924962</td>\n",
              "      <td>3.236518</td>\n",
              "    </tr>\n",
              "    <tr>\n",
              "      <th>1</th>\n",
              "      <td>2</td>\n",
              "      <td>3.269586</td>\n",
              "      <td>3.941659</td>\n",
              "    </tr>\n",
              "    <tr>\n",
              "      <th>2</th>\n",
              "      <td>3</td>\n",
              "      <td>3.105500</td>\n",
              "      <td>3.367594</td>\n",
              "    </tr>\n",
              "    <tr>\n",
              "      <th>3</th>\n",
              "      <td>4</td>\n",
              "      <td>2.821851</td>\n",
              "      <td>3.048187</td>\n",
              "    </tr>\n",
              "    <tr>\n",
              "      <th>4</th>\n",
              "      <td>5</td>\n",
              "      <td>2.713283</td>\n",
              "      <td>2.960657</td>\n",
              "    </tr>\n",
              "  </tbody>\n",
              "</table>\n",
              "</div>"
            ],
            "text/plain": [
              "    Código da IES   Conceito Médio de Graduação   IGC (Contínuo)\n",
              "0               1                      2.924962         3.236518\n",
              "1               2                      3.269586         3.941659\n",
              "2               3                      3.105500         3.367594\n",
              "3               4                      2.821851         3.048187\n",
              "4               5                      2.713283         2.960657"
            ]
          },
          "metadata": {},
          "execution_count": 195
        }
      ]
    },
    {
      "cell_type": "code",
      "metadata": {
        "colab": {
          "base_uri": "https://localhost:8080/"
        },
        "id": "POtNTIY9v4iH",
        "outputId": "a03b6113-168b-400a-957a-f214861f2101"
      },
      "source": [
        "ies_igc.columns"
      ],
      "execution_count": 196,
      "outputs": [
        {
          "output_type": "execute_result",
          "data": {
            "text/plain": [
              "Index([' Código da IES', ' Conceito Médio de Graduação', ' IGC (Contínuo)'], dtype='object')"
            ]
          },
          "metadata": {},
          "execution_count": 196
        }
      ]
    },
    {
      "cell_type": "code",
      "metadata": {
        "colab": {
          "base_uri": "https://localhost:8080/",
          "height": 206
        },
        "id": "0PclshufukUZ",
        "outputId": "0def8318-5d3e-432b-b328-359ce6e5a01f"
      },
      "source": [
        "#Renomeando as colunas\n",
        "ies_igc = ies_igc.rename(columns={\n",
        "    ' Código da IES':'cod_ies',\n",
        "    ' Conceito Médio de Graduação':'conceito_medio_graduacao',\n",
        "    ' IGC (Contínuo)':'igc_continuo',\n",
        "    })\n",
        "ies_igc.head()"
      ],
      "execution_count": 197,
      "outputs": [
        {
          "output_type": "execute_result",
          "data": {
            "text/html": [
              "<div>\n",
              "<style scoped>\n",
              "    .dataframe tbody tr th:only-of-type {\n",
              "        vertical-align: middle;\n",
              "    }\n",
              "\n",
              "    .dataframe tbody tr th {\n",
              "        vertical-align: top;\n",
              "    }\n",
              "\n",
              "    .dataframe thead th {\n",
              "        text-align: right;\n",
              "    }\n",
              "</style>\n",
              "<table border=\"1\" class=\"dataframe\">\n",
              "  <thead>\n",
              "    <tr style=\"text-align: right;\">\n",
              "      <th></th>\n",
              "      <th>cod_ies</th>\n",
              "      <th>conceito_medio_graduacao</th>\n",
              "      <th>igc_continuo</th>\n",
              "    </tr>\n",
              "  </thead>\n",
              "  <tbody>\n",
              "    <tr>\n",
              "      <th>0</th>\n",
              "      <td>1</td>\n",
              "      <td>2.924962</td>\n",
              "      <td>3.236518</td>\n",
              "    </tr>\n",
              "    <tr>\n",
              "      <th>1</th>\n",
              "      <td>2</td>\n",
              "      <td>3.269586</td>\n",
              "      <td>3.941659</td>\n",
              "    </tr>\n",
              "    <tr>\n",
              "      <th>2</th>\n",
              "      <td>3</td>\n",
              "      <td>3.105500</td>\n",
              "      <td>3.367594</td>\n",
              "    </tr>\n",
              "    <tr>\n",
              "      <th>3</th>\n",
              "      <td>4</td>\n",
              "      <td>2.821851</td>\n",
              "      <td>3.048187</td>\n",
              "    </tr>\n",
              "    <tr>\n",
              "      <th>4</th>\n",
              "      <td>5</td>\n",
              "      <td>2.713283</td>\n",
              "      <td>2.960657</td>\n",
              "    </tr>\n",
              "  </tbody>\n",
              "</table>\n",
              "</div>"
            ],
            "text/plain": [
              "   cod_ies  conceito_medio_graduacao  igc_continuo\n",
              "0        1                  2.924962      3.236518\n",
              "1        2                  3.269586      3.941659\n",
              "2        3                  3.105500      3.367594\n",
              "3        4                  2.821851      3.048187\n",
              "4        5                  2.713283      2.960657"
            ]
          },
          "metadata": {},
          "execution_count": 197
        }
      ]
    },
    {
      "cell_type": "markdown",
      "metadata": {
        "id": "kYygOgdJxkgV"
      },
      "source": [
        "### 1.2.Receitas das IES"
      ]
    },
    {
      "cell_type": "code",
      "metadata": {
        "colab": {
          "base_uri": "https://localhost:8080/",
          "height": 163
        },
        "id": "HOoB8sQgZLKi",
        "outputId": "e25251b9-2cfe-47a2-c5dc-cbf694727f3b"
      },
      "source": [
        "ies_receitas = pd.read_csv('SUP_IES_2019.CSV', sep='|', encoding='latin1', usecols=['CO_IES','TP_CATEGORIA_ADMINISTRATIVA', 'VL_RECEITA_PROPRIA','VL_RECEITA_TRANSFERENCIA','VL_RECEITA_OUTRA','VL_DESPESA_PESSOAL_DOCENTE','VL_DESPESA_PESSOAL_TECNICO','VL_DESPESA_PESSOAL_ENCARGO','VL_DESPESA_CUSTEIO','VL_DESPESA_INVESTIMENTO','VL_DESPESA_PESQUISA','VL_DESPESA_OUTRA'])\n",
        "ies_receitas.head(3)"
      ],
      "execution_count": 198,
      "outputs": [
        {
          "output_type": "execute_result",
          "data": {
            "text/html": [
              "<div>\n",
              "<style scoped>\n",
              "    .dataframe tbody tr th:only-of-type {\n",
              "        vertical-align: middle;\n",
              "    }\n",
              "\n",
              "    .dataframe tbody tr th {\n",
              "        vertical-align: top;\n",
              "    }\n",
              "\n",
              "    .dataframe thead th {\n",
              "        text-align: right;\n",
              "    }\n",
              "</style>\n",
              "<table border=\"1\" class=\"dataframe\">\n",
              "  <thead>\n",
              "    <tr style=\"text-align: right;\">\n",
              "      <th></th>\n",
              "      <th>CO_IES</th>\n",
              "      <th>TP_CATEGORIA_ADMINISTRATIVA</th>\n",
              "      <th>VL_RECEITA_PROPRIA</th>\n",
              "      <th>VL_RECEITA_TRANSFERENCIA</th>\n",
              "      <th>VL_RECEITA_OUTRA</th>\n",
              "      <th>VL_DESPESA_PESSOAL_DOCENTE</th>\n",
              "      <th>VL_DESPESA_PESSOAL_TECNICO</th>\n",
              "      <th>VL_DESPESA_PESSOAL_ENCARGO</th>\n",
              "      <th>VL_DESPESA_CUSTEIO</th>\n",
              "      <th>VL_DESPESA_INVESTIMENTO</th>\n",
              "      <th>VL_DESPESA_PESQUISA</th>\n",
              "      <th>VL_DESPESA_OUTRA</th>\n",
              "    </tr>\n",
              "  </thead>\n",
              "  <tbody>\n",
              "    <tr>\n",
              "      <th>0</th>\n",
              "      <td>1</td>\n",
              "      <td>1</td>\n",
              "      <td>8075408.31</td>\n",
              "      <td>9.190156e+08</td>\n",
              "      <td>0.00</td>\n",
              "      <td>2.737906e+08</td>\n",
              "      <td>1.089490e+08</td>\n",
              "      <td>1.050124e+08</td>\n",
              "      <td>1.225790e+08</td>\n",
              "      <td>9606414.13</td>\n",
              "      <td>2512494.15</td>\n",
              "      <td>3.046410e+08</td>\n",
              "    </tr>\n",
              "    <tr>\n",
              "      <th>1</th>\n",
              "      <td>2</td>\n",
              "      <td>1</td>\n",
              "      <td>42309485.04</td>\n",
              "      <td>6.376632e+07</td>\n",
              "      <td>53681013.45</td>\n",
              "      <td>8.438613e+08</td>\n",
              "      <td>0.000000e+00</td>\n",
              "      <td>2.873756e+08</td>\n",
              "      <td>2.102659e+08</td>\n",
              "      <td>23154904.42</td>\n",
              "      <td>10350582.30</td>\n",
              "      <td>4.738549e+08</td>\n",
              "    </tr>\n",
              "    <tr>\n",
              "      <th>2</th>\n",
              "      <td>3</td>\n",
              "      <td>1</td>\n",
              "      <td>2064512.28</td>\n",
              "      <td>8.836851e+08</td>\n",
              "      <td>59978137.27</td>\n",
              "      <td>2.847694e+08</td>\n",
              "      <td>1.533374e+08</td>\n",
              "      <td>1.080347e+08</td>\n",
              "      <td>1.491604e+08</td>\n",
              "      <td>8212361.64</td>\n",
              "      <td>1445146.30</td>\n",
              "      <td>3.204186e+08</td>\n",
              "    </tr>\n",
              "  </tbody>\n",
              "</table>\n",
              "</div>"
            ],
            "text/plain": [
              "   CO_IES  TP_CATEGORIA_ADMINISTRATIVA  ...  VL_DESPESA_PESQUISA  VL_DESPESA_OUTRA\n",
              "0       1                            1  ...           2512494.15      3.046410e+08\n",
              "1       2                            1  ...          10350582.30      4.738549e+08\n",
              "2       3                            1  ...           1445146.30      3.204186e+08\n",
              "\n",
              "[3 rows x 12 columns]"
            ]
          },
          "metadata": {},
          "execution_count": 198
        }
      ]
    },
    {
      "cell_type": "code",
      "metadata": {
        "colab": {
          "base_uri": "https://localhost:8080/",
          "height": 226
        },
        "id": "gNZyZJtpzbuM",
        "outputId": "abcf0865-16a8-4ded-c929-6fb01fe43ab1"
      },
      "source": [
        "#Renomeando as colunas\n",
        "ies_receitas = ies_receitas.rename(columns={\n",
        "    'CO_IES':'cod_ies',\n",
        "    'TP_CATEGORIA_ADMINISTRATIVA':'categoria_administrativa',\n",
        "    'VL_RECEITA_PROPRIA':'receita_propria',\n",
        "    'VL_RECEITA_TRANSFERENCIA':'receita_transferencia',\n",
        "    'VL_RECEITA_OUTRA':'receita_outra',\n",
        "    'VL_DESPESA_PESSOAL_DOCENTE':'despesa_pessoal_docente',\n",
        "    'VL_DESPESA_PESSOAL_TECNICO':'despesa_pessoal_tecnico',\n",
        "    'VL_DESPESA_PESSOAL_ENCARGO':'despesa_pessoal_encargo',\n",
        "    'VL_DESPESA_CUSTEIO':'despesa_custeio',\n",
        "    'VL_DESPESA_INVESTIMENTO':'despesa_investimento',\n",
        "    'VL_DESPESA_PESQUISA':'despesa_pesquisa',\n",
        "    'VL_DESPESA_OUTRA':'despesa_outra',\n",
        "    })\n",
        "ies_receitas.head()"
      ],
      "execution_count": 199,
      "outputs": [
        {
          "output_type": "execute_result",
          "data": {
            "text/html": [
              "<div>\n",
              "<style scoped>\n",
              "    .dataframe tbody tr th:only-of-type {\n",
              "        vertical-align: middle;\n",
              "    }\n",
              "\n",
              "    .dataframe tbody tr th {\n",
              "        vertical-align: top;\n",
              "    }\n",
              "\n",
              "    .dataframe thead th {\n",
              "        text-align: right;\n",
              "    }\n",
              "</style>\n",
              "<table border=\"1\" class=\"dataframe\">\n",
              "  <thead>\n",
              "    <tr style=\"text-align: right;\">\n",
              "      <th></th>\n",
              "      <th>cod_ies</th>\n",
              "      <th>categoria_administrativa</th>\n",
              "      <th>receita_propria</th>\n",
              "      <th>receita_transferencia</th>\n",
              "      <th>receita_outra</th>\n",
              "      <th>despesa_pessoal_docente</th>\n",
              "      <th>despesa_pessoal_tecnico</th>\n",
              "      <th>despesa_pessoal_encargo</th>\n",
              "      <th>despesa_custeio</th>\n",
              "      <th>despesa_investimento</th>\n",
              "      <th>despesa_pesquisa</th>\n",
              "      <th>despesa_outra</th>\n",
              "    </tr>\n",
              "  </thead>\n",
              "  <tbody>\n",
              "    <tr>\n",
              "      <th>0</th>\n",
              "      <td>1</td>\n",
              "      <td>1</td>\n",
              "      <td>8075408.31</td>\n",
              "      <td>9.190156e+08</td>\n",
              "      <td>0.00</td>\n",
              "      <td>2.737906e+08</td>\n",
              "      <td>1.089490e+08</td>\n",
              "      <td>1.050124e+08</td>\n",
              "      <td>1.225790e+08</td>\n",
              "      <td>9606414.13</td>\n",
              "      <td>2512494.15</td>\n",
              "      <td>3.046410e+08</td>\n",
              "    </tr>\n",
              "    <tr>\n",
              "      <th>1</th>\n",
              "      <td>2</td>\n",
              "      <td>1</td>\n",
              "      <td>42309485.04</td>\n",
              "      <td>6.376632e+07</td>\n",
              "      <td>53681013.45</td>\n",
              "      <td>8.438613e+08</td>\n",
              "      <td>0.000000e+00</td>\n",
              "      <td>2.873756e+08</td>\n",
              "      <td>2.102659e+08</td>\n",
              "      <td>23154904.42</td>\n",
              "      <td>10350582.30</td>\n",
              "      <td>4.738549e+08</td>\n",
              "    </tr>\n",
              "    <tr>\n",
              "      <th>2</th>\n",
              "      <td>3</td>\n",
              "      <td>1</td>\n",
              "      <td>2064512.28</td>\n",
              "      <td>8.836851e+08</td>\n",
              "      <td>59978137.27</td>\n",
              "      <td>2.847694e+08</td>\n",
              "      <td>1.533374e+08</td>\n",
              "      <td>1.080347e+08</td>\n",
              "      <td>1.491604e+08</td>\n",
              "      <td>8212361.64</td>\n",
              "      <td>1445146.30</td>\n",
              "      <td>3.204186e+08</td>\n",
              "    </tr>\n",
              "    <tr>\n",
              "      <th>3</th>\n",
              "      <td>4</td>\n",
              "      <td>1</td>\n",
              "      <td>5603181.06</td>\n",
              "      <td>1.063315e+09</td>\n",
              "      <td>1721653.86</td>\n",
              "      <td>4.482062e+08</td>\n",
              "      <td>0.000000e+00</td>\n",
              "      <td>1.322010e+08</td>\n",
              "      <td>1.839712e+08</td>\n",
              "      <td>12676251.59</td>\n",
              "      <td>1312837.53</td>\n",
              "      <td>6.845330e+07</td>\n",
              "    </tr>\n",
              "    <tr>\n",
              "      <th>4</th>\n",
              "      <td>6</td>\n",
              "      <td>1</td>\n",
              "      <td>5905654.74</td>\n",
              "      <td>4.992185e+08</td>\n",
              "      <td>30461740.62</td>\n",
              "      <td>1.691617e+08</td>\n",
              "      <td>5.899877e+07</td>\n",
              "      <td>4.092087e+07</td>\n",
              "      <td>4.907550e+07</td>\n",
              "      <td>73345.77</td>\n",
              "      <td>828200.00</td>\n",
              "      <td>2.165275e+08</td>\n",
              "    </tr>\n",
              "  </tbody>\n",
              "</table>\n",
              "</div>"
            ],
            "text/plain": [
              "   cod_ies  categoria_administrativa  ...  despesa_pesquisa  despesa_outra\n",
              "0        1                         1  ...        2512494.15   3.046410e+08\n",
              "1        2                         1  ...       10350582.30   4.738549e+08\n",
              "2        3                         1  ...        1445146.30   3.204186e+08\n",
              "3        4                         1  ...        1312837.53   6.845330e+07\n",
              "4        6                         1  ...         828200.00   2.165275e+08\n",
              "\n",
              "[5 rows x 12 columns]"
            ]
          },
          "metadata": {},
          "execution_count": 199
        }
      ]
    },
    {
      "cell_type": "code",
      "metadata": {
        "colab": {
          "base_uri": "https://localhost:8080/",
          "height": 226
        },
        "id": "mzbEybVN1D1O",
        "outputId": "7b902fb4-3b40-42b2-cfa9-c66f0d3235be"
      },
      "source": [
        "#Inserindo colunas com total de receitas e de despesas\n",
        "ies_receitas['receitas'] = ies_receitas['receita_propria'] + ies_receitas['receita_transferencia'] + ies_receitas['receita_outra']\n",
        "ies_receitas['despesas'] = ies_receitas['despesa_pessoal_docente'] + ies_receitas['despesa_pessoal_tecnico'] + ies_receitas['despesa_pessoal_encargo'] + ies_receitas['despesa_custeio'] + ies_receitas['despesa_investimento'] + ies_receitas['despesa_pesquisa'] + ies_receitas['despesa_outra']\n",
        "ies_receitas.head()"
      ],
      "execution_count": 200,
      "outputs": [
        {
          "output_type": "execute_result",
          "data": {
            "text/html": [
              "<div>\n",
              "<style scoped>\n",
              "    .dataframe tbody tr th:only-of-type {\n",
              "        vertical-align: middle;\n",
              "    }\n",
              "\n",
              "    .dataframe tbody tr th {\n",
              "        vertical-align: top;\n",
              "    }\n",
              "\n",
              "    .dataframe thead th {\n",
              "        text-align: right;\n",
              "    }\n",
              "</style>\n",
              "<table border=\"1\" class=\"dataframe\">\n",
              "  <thead>\n",
              "    <tr style=\"text-align: right;\">\n",
              "      <th></th>\n",
              "      <th>cod_ies</th>\n",
              "      <th>categoria_administrativa</th>\n",
              "      <th>receita_propria</th>\n",
              "      <th>receita_transferencia</th>\n",
              "      <th>receita_outra</th>\n",
              "      <th>despesa_pessoal_docente</th>\n",
              "      <th>despesa_pessoal_tecnico</th>\n",
              "      <th>despesa_pessoal_encargo</th>\n",
              "      <th>despesa_custeio</th>\n",
              "      <th>despesa_investimento</th>\n",
              "      <th>despesa_pesquisa</th>\n",
              "      <th>despesa_outra</th>\n",
              "      <th>receitas</th>\n",
              "      <th>despesas</th>\n",
              "    </tr>\n",
              "  </thead>\n",
              "  <tbody>\n",
              "    <tr>\n",
              "      <th>0</th>\n",
              "      <td>1</td>\n",
              "      <td>1</td>\n",
              "      <td>8075408.31</td>\n",
              "      <td>9.190156e+08</td>\n",
              "      <td>0.00</td>\n",
              "      <td>2.737906e+08</td>\n",
              "      <td>1.089490e+08</td>\n",
              "      <td>1.050124e+08</td>\n",
              "      <td>1.225790e+08</td>\n",
              "      <td>9606414.13</td>\n",
              "      <td>2512494.15</td>\n",
              "      <td>3.046410e+08</td>\n",
              "      <td>9.270910e+08</td>\n",
              "      <td>9.270910e+08</td>\n",
              "    </tr>\n",
              "    <tr>\n",
              "      <th>1</th>\n",
              "      <td>2</td>\n",
              "      <td>1</td>\n",
              "      <td>42309485.04</td>\n",
              "      <td>6.376632e+07</td>\n",
              "      <td>53681013.45</td>\n",
              "      <td>8.438613e+08</td>\n",
              "      <td>0.000000e+00</td>\n",
              "      <td>2.873756e+08</td>\n",
              "      <td>2.102659e+08</td>\n",
              "      <td>23154904.42</td>\n",
              "      <td>10350582.30</td>\n",
              "      <td>4.738549e+08</td>\n",
              "      <td>1.597568e+08</td>\n",
              "      <td>1.848863e+09</td>\n",
              "    </tr>\n",
              "    <tr>\n",
              "      <th>2</th>\n",
              "      <td>3</td>\n",
              "      <td>1</td>\n",
              "      <td>2064512.28</td>\n",
              "      <td>8.836851e+08</td>\n",
              "      <td>59978137.27</td>\n",
              "      <td>2.847694e+08</td>\n",
              "      <td>1.533374e+08</td>\n",
              "      <td>1.080347e+08</td>\n",
              "      <td>1.491604e+08</td>\n",
              "      <td>8212361.64</td>\n",
              "      <td>1445146.30</td>\n",
              "      <td>3.204186e+08</td>\n",
              "      <td>9.457277e+08</td>\n",
              "      <td>1.025378e+09</td>\n",
              "    </tr>\n",
              "    <tr>\n",
              "      <th>3</th>\n",
              "      <td>4</td>\n",
              "      <td>1</td>\n",
              "      <td>5603181.06</td>\n",
              "      <td>1.063315e+09</td>\n",
              "      <td>1721653.86</td>\n",
              "      <td>4.482062e+08</td>\n",
              "      <td>0.000000e+00</td>\n",
              "      <td>1.322010e+08</td>\n",
              "      <td>1.839712e+08</td>\n",
              "      <td>12676251.59</td>\n",
              "      <td>1312837.53</td>\n",
              "      <td>6.845330e+07</td>\n",
              "      <td>1.070640e+09</td>\n",
              "      <td>8.468208e+08</td>\n",
              "    </tr>\n",
              "    <tr>\n",
              "      <th>4</th>\n",
              "      <td>6</td>\n",
              "      <td>1</td>\n",
              "      <td>5905654.74</td>\n",
              "      <td>4.992185e+08</td>\n",
              "      <td>30461740.62</td>\n",
              "      <td>1.691617e+08</td>\n",
              "      <td>5.899877e+07</td>\n",
              "      <td>4.092087e+07</td>\n",
              "      <td>4.907550e+07</td>\n",
              "      <td>73345.77</td>\n",
              "      <td>828200.00</td>\n",
              "      <td>2.165275e+08</td>\n",
              "      <td>5.355859e+08</td>\n",
              "      <td>5.355859e+08</td>\n",
              "    </tr>\n",
              "  </tbody>\n",
              "</table>\n",
              "</div>"
            ],
            "text/plain": [
              "   cod_ies  categoria_administrativa  ...      receitas      despesas\n",
              "0        1                         1  ...  9.270910e+08  9.270910e+08\n",
              "1        2                         1  ...  1.597568e+08  1.848863e+09\n",
              "2        3                         1  ...  9.457277e+08  1.025378e+09\n",
              "3        4                         1  ...  1.070640e+09  8.468208e+08\n",
              "4        6                         1  ...  5.355859e+08  5.355859e+08\n",
              "\n",
              "[5 rows x 14 columns]"
            ]
          },
          "metadata": {},
          "execution_count": 200
        }
      ]
    },
    {
      "cell_type": "code",
      "metadata": {
        "colab": {
          "base_uri": "https://localhost:8080/",
          "height": 206
        },
        "id": "DzvmlF7PWpd4",
        "outputId": "54ad0087-a51d-472c-e6aa-fa288fd20e89"
      },
      "source": [
        "ies_receitas = ies_receitas[['cod_ies','categoria_administrativa','despesa_investimento','receitas']]\n",
        "ies_receitas.head()"
      ],
      "execution_count": 201,
      "outputs": [
        {
          "output_type": "execute_result",
          "data": {
            "text/html": [
              "<div>\n",
              "<style scoped>\n",
              "    .dataframe tbody tr th:only-of-type {\n",
              "        vertical-align: middle;\n",
              "    }\n",
              "\n",
              "    .dataframe tbody tr th {\n",
              "        vertical-align: top;\n",
              "    }\n",
              "\n",
              "    .dataframe thead th {\n",
              "        text-align: right;\n",
              "    }\n",
              "</style>\n",
              "<table border=\"1\" class=\"dataframe\">\n",
              "  <thead>\n",
              "    <tr style=\"text-align: right;\">\n",
              "      <th></th>\n",
              "      <th>cod_ies</th>\n",
              "      <th>categoria_administrativa</th>\n",
              "      <th>despesa_investimento</th>\n",
              "      <th>receitas</th>\n",
              "    </tr>\n",
              "  </thead>\n",
              "  <tbody>\n",
              "    <tr>\n",
              "      <th>0</th>\n",
              "      <td>1</td>\n",
              "      <td>1</td>\n",
              "      <td>9606414.13</td>\n",
              "      <td>9.270910e+08</td>\n",
              "    </tr>\n",
              "    <tr>\n",
              "      <th>1</th>\n",
              "      <td>2</td>\n",
              "      <td>1</td>\n",
              "      <td>23154904.42</td>\n",
              "      <td>1.597568e+08</td>\n",
              "    </tr>\n",
              "    <tr>\n",
              "      <th>2</th>\n",
              "      <td>3</td>\n",
              "      <td>1</td>\n",
              "      <td>8212361.64</td>\n",
              "      <td>9.457277e+08</td>\n",
              "    </tr>\n",
              "    <tr>\n",
              "      <th>3</th>\n",
              "      <td>4</td>\n",
              "      <td>1</td>\n",
              "      <td>12676251.59</td>\n",
              "      <td>1.070640e+09</td>\n",
              "    </tr>\n",
              "    <tr>\n",
              "      <th>4</th>\n",
              "      <td>6</td>\n",
              "      <td>1</td>\n",
              "      <td>73345.77</td>\n",
              "      <td>5.355859e+08</td>\n",
              "    </tr>\n",
              "  </tbody>\n",
              "</table>\n",
              "</div>"
            ],
            "text/plain": [
              "   cod_ies  categoria_administrativa  despesa_investimento      receitas\n",
              "0        1                         1            9606414.13  9.270910e+08\n",
              "1        2                         1           23154904.42  1.597568e+08\n",
              "2        3                         1            8212361.64  9.457277e+08\n",
              "3        4                         1           12676251.59  1.070640e+09\n",
              "4        6                         1              73345.77  5.355859e+08"
            ]
          },
          "metadata": {},
          "execution_count": 201
        }
      ]
    },
    {
      "cell_type": "markdown",
      "metadata": {
        "id": "ag0hCx5r2bVs"
      },
      "source": [
        "### 1.3.Recursos"
      ]
    },
    {
      "cell_type": "code",
      "metadata": {
        "colab": {
          "base_uri": "https://localhost:8080/",
          "height": 163
        },
        "id": "X7dZVoIf2fFm",
        "outputId": "0375f3ca-dee9-45b2-f747-283058ef5472"
      },
      "source": [
        "#Contando a quantidade de recursos por curso\n",
        "ies_recursos = pd.read_csv('SUP_CURSO_2019.CSV', sep='|', encoding='latin1', usecols=['CO_IES', 'CO_CURSO', 'IN_MATERIAL_DIGITAL','IN_MATERIAL_AMPLIADO','IN_MATERIAL_TATIL','IN_MATERIAL_IMPRESSO','IN_MATERIAL_AUDIO','IN_MATERIAL_BRAILLE','IN_MATERIAL_LIBRAS','IN_DISCIPLINA_LIBRAS','IN_TRADUTOR_LIBRAS','IN_GUIA_INTERPRETE','IN_RECURSOS_COMUNICACAO','IN_RECURSOS_INFORMATICA' ])\n",
        "ies_recursos.head(3)"
      ],
      "execution_count": 202,
      "outputs": [
        {
          "output_type": "execute_result",
          "data": {
            "text/html": [
              "<div>\n",
              "<style scoped>\n",
              "    .dataframe tbody tr th:only-of-type {\n",
              "        vertical-align: middle;\n",
              "    }\n",
              "\n",
              "    .dataframe tbody tr th {\n",
              "        vertical-align: top;\n",
              "    }\n",
              "\n",
              "    .dataframe thead th {\n",
              "        text-align: right;\n",
              "    }\n",
              "</style>\n",
              "<table border=\"1\" class=\"dataframe\">\n",
              "  <thead>\n",
              "    <tr style=\"text-align: right;\">\n",
              "      <th></th>\n",
              "      <th>CO_IES</th>\n",
              "      <th>CO_CURSO</th>\n",
              "      <th>IN_MATERIAL_DIGITAL</th>\n",
              "      <th>IN_MATERIAL_AMPLIADO</th>\n",
              "      <th>IN_MATERIAL_TATIL</th>\n",
              "      <th>IN_MATERIAL_IMPRESSO</th>\n",
              "      <th>IN_MATERIAL_AUDIO</th>\n",
              "      <th>IN_MATERIAL_BRAILLE</th>\n",
              "      <th>IN_MATERIAL_LIBRAS</th>\n",
              "      <th>IN_DISCIPLINA_LIBRAS</th>\n",
              "      <th>IN_TRADUTOR_LIBRAS</th>\n",
              "      <th>IN_GUIA_INTERPRETE</th>\n",
              "      <th>IN_RECURSOS_COMUNICACAO</th>\n",
              "      <th>IN_RECURSOS_INFORMATICA</th>\n",
              "    </tr>\n",
              "  </thead>\n",
              "  <tbody>\n",
              "    <tr>\n",
              "      <th>0</th>\n",
              "      <td>1</td>\n",
              "      <td>1</td>\n",
              "      <td>0.0</td>\n",
              "      <td>0.0</td>\n",
              "      <td>0.0</td>\n",
              "      <td>0.0</td>\n",
              "      <td>0.0</td>\n",
              "      <td>0.0</td>\n",
              "      <td>0.0</td>\n",
              "      <td>1.0</td>\n",
              "      <td>0.0</td>\n",
              "      <td>0.0</td>\n",
              "      <td>0.0</td>\n",
              "      <td>0.0</td>\n",
              "    </tr>\n",
              "    <tr>\n",
              "      <th>1</th>\n",
              "      <td>1</td>\n",
              "      <td>2</td>\n",
              "      <td>NaN</td>\n",
              "      <td>NaN</td>\n",
              "      <td>NaN</td>\n",
              "      <td>NaN</td>\n",
              "      <td>NaN</td>\n",
              "      <td>NaN</td>\n",
              "      <td>NaN</td>\n",
              "      <td>NaN</td>\n",
              "      <td>NaN</td>\n",
              "      <td>NaN</td>\n",
              "      <td>NaN</td>\n",
              "      <td>NaN</td>\n",
              "    </tr>\n",
              "    <tr>\n",
              "      <th>2</th>\n",
              "      <td>1</td>\n",
              "      <td>3</td>\n",
              "      <td>NaN</td>\n",
              "      <td>NaN</td>\n",
              "      <td>NaN</td>\n",
              "      <td>NaN</td>\n",
              "      <td>NaN</td>\n",
              "      <td>NaN</td>\n",
              "      <td>NaN</td>\n",
              "      <td>NaN</td>\n",
              "      <td>NaN</td>\n",
              "      <td>NaN</td>\n",
              "      <td>NaN</td>\n",
              "      <td>NaN</td>\n",
              "    </tr>\n",
              "  </tbody>\n",
              "</table>\n",
              "</div>"
            ],
            "text/plain": [
              "   CO_IES  CO_CURSO  ...  IN_RECURSOS_COMUNICACAO  IN_RECURSOS_INFORMATICA\n",
              "0       1         1  ...                      0.0                      0.0\n",
              "1       1         2  ...                      NaN                      NaN\n",
              "2       1         3  ...                      NaN                      NaN\n",
              "\n",
              "[3 rows x 14 columns]"
            ]
          },
          "metadata": {},
          "execution_count": 202
        }
      ]
    },
    {
      "cell_type": "code",
      "metadata": {
        "colab": {
          "base_uri": "https://localhost:8080/",
          "height": 226
        },
        "id": "M3gemuO3LUbr",
        "outputId": "194e5c13-a07c-4866-b7d1-b411790f5087"
      },
      "source": [
        "#Substituindo NaN por zero\n",
        "ies_recursos.fillna(0, inplace=True)\n",
        "ies_recursos.head()"
      ],
      "execution_count": 203,
      "outputs": [
        {
          "output_type": "execute_result",
          "data": {
            "text/html": [
              "<div>\n",
              "<style scoped>\n",
              "    .dataframe tbody tr th:only-of-type {\n",
              "        vertical-align: middle;\n",
              "    }\n",
              "\n",
              "    .dataframe tbody tr th {\n",
              "        vertical-align: top;\n",
              "    }\n",
              "\n",
              "    .dataframe thead th {\n",
              "        text-align: right;\n",
              "    }\n",
              "</style>\n",
              "<table border=\"1\" class=\"dataframe\">\n",
              "  <thead>\n",
              "    <tr style=\"text-align: right;\">\n",
              "      <th></th>\n",
              "      <th>CO_IES</th>\n",
              "      <th>CO_CURSO</th>\n",
              "      <th>IN_MATERIAL_DIGITAL</th>\n",
              "      <th>IN_MATERIAL_AMPLIADO</th>\n",
              "      <th>IN_MATERIAL_TATIL</th>\n",
              "      <th>IN_MATERIAL_IMPRESSO</th>\n",
              "      <th>IN_MATERIAL_AUDIO</th>\n",
              "      <th>IN_MATERIAL_BRAILLE</th>\n",
              "      <th>IN_MATERIAL_LIBRAS</th>\n",
              "      <th>IN_DISCIPLINA_LIBRAS</th>\n",
              "      <th>IN_TRADUTOR_LIBRAS</th>\n",
              "      <th>IN_GUIA_INTERPRETE</th>\n",
              "      <th>IN_RECURSOS_COMUNICACAO</th>\n",
              "      <th>IN_RECURSOS_INFORMATICA</th>\n",
              "    </tr>\n",
              "  </thead>\n",
              "  <tbody>\n",
              "    <tr>\n",
              "      <th>0</th>\n",
              "      <td>1</td>\n",
              "      <td>1</td>\n",
              "      <td>0.0</td>\n",
              "      <td>0.0</td>\n",
              "      <td>0.0</td>\n",
              "      <td>0.0</td>\n",
              "      <td>0.0</td>\n",
              "      <td>0.0</td>\n",
              "      <td>0.0</td>\n",
              "      <td>1.0</td>\n",
              "      <td>0.0</td>\n",
              "      <td>0.0</td>\n",
              "      <td>0.0</td>\n",
              "      <td>0.0</td>\n",
              "    </tr>\n",
              "    <tr>\n",
              "      <th>1</th>\n",
              "      <td>1</td>\n",
              "      <td>2</td>\n",
              "      <td>0.0</td>\n",
              "      <td>0.0</td>\n",
              "      <td>0.0</td>\n",
              "      <td>0.0</td>\n",
              "      <td>0.0</td>\n",
              "      <td>0.0</td>\n",
              "      <td>0.0</td>\n",
              "      <td>0.0</td>\n",
              "      <td>0.0</td>\n",
              "      <td>0.0</td>\n",
              "      <td>0.0</td>\n",
              "      <td>0.0</td>\n",
              "    </tr>\n",
              "    <tr>\n",
              "      <th>2</th>\n",
              "      <td>1</td>\n",
              "      <td>3</td>\n",
              "      <td>0.0</td>\n",
              "      <td>0.0</td>\n",
              "      <td>0.0</td>\n",
              "      <td>0.0</td>\n",
              "      <td>0.0</td>\n",
              "      <td>0.0</td>\n",
              "      <td>0.0</td>\n",
              "      <td>0.0</td>\n",
              "      <td>0.0</td>\n",
              "      <td>0.0</td>\n",
              "      <td>0.0</td>\n",
              "      <td>0.0</td>\n",
              "    </tr>\n",
              "    <tr>\n",
              "      <th>3</th>\n",
              "      <td>1</td>\n",
              "      <td>6</td>\n",
              "      <td>1.0</td>\n",
              "      <td>1.0</td>\n",
              "      <td>1.0</td>\n",
              "      <td>0.0</td>\n",
              "      <td>1.0</td>\n",
              "      <td>0.0</td>\n",
              "      <td>0.0</td>\n",
              "      <td>1.0</td>\n",
              "      <td>1.0</td>\n",
              "      <td>1.0</td>\n",
              "      <td>1.0</td>\n",
              "      <td>1.0</td>\n",
              "    </tr>\n",
              "    <tr>\n",
              "      <th>4</th>\n",
              "      <td>1</td>\n",
              "      <td>7</td>\n",
              "      <td>0.0</td>\n",
              "      <td>0.0</td>\n",
              "      <td>0.0</td>\n",
              "      <td>0.0</td>\n",
              "      <td>0.0</td>\n",
              "      <td>0.0</td>\n",
              "      <td>0.0</td>\n",
              "      <td>1.0</td>\n",
              "      <td>0.0</td>\n",
              "      <td>0.0</td>\n",
              "      <td>0.0</td>\n",
              "      <td>0.0</td>\n",
              "    </tr>\n",
              "  </tbody>\n",
              "</table>\n",
              "</div>"
            ],
            "text/plain": [
              "   CO_IES  CO_CURSO  ...  IN_RECURSOS_COMUNICACAO  IN_RECURSOS_INFORMATICA\n",
              "0       1         1  ...                      0.0                      0.0\n",
              "1       1         2  ...                      0.0                      0.0\n",
              "2       1         3  ...                      0.0                      0.0\n",
              "3       1         6  ...                      1.0                      1.0\n",
              "4       1         7  ...                      0.0                      0.0\n",
              "\n",
              "[5 rows x 14 columns]"
            ]
          },
          "metadata": {},
          "execution_count": 203
        }
      ]
    },
    {
      "cell_type": "code",
      "metadata": {
        "colab": {
          "base_uri": "https://localhost:8080/",
          "height": 226
        },
        "id": "96NXBA2b3kme",
        "outputId": "960093ff-7ce7-4efe-f6f9-18234cedb497"
      },
      "source": [
        "#Renomeando as colunas\n",
        "ies_recursos = ies_recursos.rename(columns={\n",
        "    'CO_IES':'cod_ies',\n",
        "    'CO_CURSO':'cod_curso',\n",
        "    'IN_MATERIAL_DIGITAL':'material_digital',\n",
        "    'IN_MATERIAL_AMPLIADO':'material_ampliado',\n",
        "    'IN_MATERIAL_TATIL':'material_tatil',\n",
        "    'IN_MATERIAL_IMPRESSO':'material_impresso',\n",
        "    'IN_MATERIAL_AUDIO':'material_audio',\n",
        "    'IN_MATERIAL_BRAILLE':'material_braille',\n",
        "    'IN_MATERIAL_LIBRAS':'material_libras',\n",
        "    'IN_DISCIPLINA_LIBRAS':'disciplina_libras',\n",
        "    'IN_TRADUTOR_LIBRAS':'tradutor_libras',\n",
        "    'IN_GUIA_INTERPRETE':'guia_interprete',\n",
        "    'IN_RECURSOS_COMUNICACAO':'recursos_comunicacao',\n",
        "    'IN_RECURSOS_INFORMATICA':'recursos_informatica',\n",
        "})\n",
        "ies_recursos.head()"
      ],
      "execution_count": 204,
      "outputs": [
        {
          "output_type": "execute_result",
          "data": {
            "text/html": [
              "<div>\n",
              "<style scoped>\n",
              "    .dataframe tbody tr th:only-of-type {\n",
              "        vertical-align: middle;\n",
              "    }\n",
              "\n",
              "    .dataframe tbody tr th {\n",
              "        vertical-align: top;\n",
              "    }\n",
              "\n",
              "    .dataframe thead th {\n",
              "        text-align: right;\n",
              "    }\n",
              "</style>\n",
              "<table border=\"1\" class=\"dataframe\">\n",
              "  <thead>\n",
              "    <tr style=\"text-align: right;\">\n",
              "      <th></th>\n",
              "      <th>cod_ies</th>\n",
              "      <th>cod_curso</th>\n",
              "      <th>material_digital</th>\n",
              "      <th>material_ampliado</th>\n",
              "      <th>material_tatil</th>\n",
              "      <th>material_impresso</th>\n",
              "      <th>material_audio</th>\n",
              "      <th>material_braille</th>\n",
              "      <th>material_libras</th>\n",
              "      <th>disciplina_libras</th>\n",
              "      <th>tradutor_libras</th>\n",
              "      <th>guia_interprete</th>\n",
              "      <th>recursos_comunicacao</th>\n",
              "      <th>recursos_informatica</th>\n",
              "    </tr>\n",
              "  </thead>\n",
              "  <tbody>\n",
              "    <tr>\n",
              "      <th>0</th>\n",
              "      <td>1</td>\n",
              "      <td>1</td>\n",
              "      <td>0.0</td>\n",
              "      <td>0.0</td>\n",
              "      <td>0.0</td>\n",
              "      <td>0.0</td>\n",
              "      <td>0.0</td>\n",
              "      <td>0.0</td>\n",
              "      <td>0.0</td>\n",
              "      <td>1.0</td>\n",
              "      <td>0.0</td>\n",
              "      <td>0.0</td>\n",
              "      <td>0.0</td>\n",
              "      <td>0.0</td>\n",
              "    </tr>\n",
              "    <tr>\n",
              "      <th>1</th>\n",
              "      <td>1</td>\n",
              "      <td>2</td>\n",
              "      <td>0.0</td>\n",
              "      <td>0.0</td>\n",
              "      <td>0.0</td>\n",
              "      <td>0.0</td>\n",
              "      <td>0.0</td>\n",
              "      <td>0.0</td>\n",
              "      <td>0.0</td>\n",
              "      <td>0.0</td>\n",
              "      <td>0.0</td>\n",
              "      <td>0.0</td>\n",
              "      <td>0.0</td>\n",
              "      <td>0.0</td>\n",
              "    </tr>\n",
              "    <tr>\n",
              "      <th>2</th>\n",
              "      <td>1</td>\n",
              "      <td>3</td>\n",
              "      <td>0.0</td>\n",
              "      <td>0.0</td>\n",
              "      <td>0.0</td>\n",
              "      <td>0.0</td>\n",
              "      <td>0.0</td>\n",
              "      <td>0.0</td>\n",
              "      <td>0.0</td>\n",
              "      <td>0.0</td>\n",
              "      <td>0.0</td>\n",
              "      <td>0.0</td>\n",
              "      <td>0.0</td>\n",
              "      <td>0.0</td>\n",
              "    </tr>\n",
              "    <tr>\n",
              "      <th>3</th>\n",
              "      <td>1</td>\n",
              "      <td>6</td>\n",
              "      <td>1.0</td>\n",
              "      <td>1.0</td>\n",
              "      <td>1.0</td>\n",
              "      <td>0.0</td>\n",
              "      <td>1.0</td>\n",
              "      <td>0.0</td>\n",
              "      <td>0.0</td>\n",
              "      <td>1.0</td>\n",
              "      <td>1.0</td>\n",
              "      <td>1.0</td>\n",
              "      <td>1.0</td>\n",
              "      <td>1.0</td>\n",
              "    </tr>\n",
              "    <tr>\n",
              "      <th>4</th>\n",
              "      <td>1</td>\n",
              "      <td>7</td>\n",
              "      <td>0.0</td>\n",
              "      <td>0.0</td>\n",
              "      <td>0.0</td>\n",
              "      <td>0.0</td>\n",
              "      <td>0.0</td>\n",
              "      <td>0.0</td>\n",
              "      <td>0.0</td>\n",
              "      <td>1.0</td>\n",
              "      <td>0.0</td>\n",
              "      <td>0.0</td>\n",
              "      <td>0.0</td>\n",
              "      <td>0.0</td>\n",
              "    </tr>\n",
              "  </tbody>\n",
              "</table>\n",
              "</div>"
            ],
            "text/plain": [
              "   cod_ies  cod_curso  ...  recursos_comunicacao  recursos_informatica\n",
              "0        1          1  ...                   0.0                   0.0\n",
              "1        1          2  ...                   0.0                   0.0\n",
              "2        1          3  ...                   0.0                   0.0\n",
              "3        1          6  ...                   1.0                   1.0\n",
              "4        1          7  ...                   0.0                   0.0\n",
              "\n",
              "[5 rows x 14 columns]"
            ]
          },
          "metadata": {},
          "execution_count": 204
        }
      ]
    },
    {
      "cell_type": "code",
      "metadata": {
        "colab": {
          "base_uri": "https://localhost:8080/",
          "height": 226
        },
        "id": "5L22UFk2Kumz",
        "outputId": "bd77f4f0-4a4e-4981-8c26-0396561442cf"
      },
      "source": [
        "ies_recursos['recursos_totais'] = ies_recursos['material_digital'] + ies_recursos['material_ampliado'] + ies_recursos['material_tatil'] + ies_recursos['material_impresso'] + ies_recursos['material_audio'] + ies_recursos['material_braille'] + ies_recursos['material_libras'] + ies_recursos['disciplina_libras'] + ies_recursos['tradutor_libras'] + ies_recursos['guia_interprete'] + ies_recursos['recursos_comunicacao'] + ies_recursos['recursos_informatica']\n",
        "ies_recursos.head()"
      ],
      "execution_count": 205,
      "outputs": [
        {
          "output_type": "execute_result",
          "data": {
            "text/html": [
              "<div>\n",
              "<style scoped>\n",
              "    .dataframe tbody tr th:only-of-type {\n",
              "        vertical-align: middle;\n",
              "    }\n",
              "\n",
              "    .dataframe tbody tr th {\n",
              "        vertical-align: top;\n",
              "    }\n",
              "\n",
              "    .dataframe thead th {\n",
              "        text-align: right;\n",
              "    }\n",
              "</style>\n",
              "<table border=\"1\" class=\"dataframe\">\n",
              "  <thead>\n",
              "    <tr style=\"text-align: right;\">\n",
              "      <th></th>\n",
              "      <th>cod_ies</th>\n",
              "      <th>cod_curso</th>\n",
              "      <th>material_digital</th>\n",
              "      <th>material_ampliado</th>\n",
              "      <th>material_tatil</th>\n",
              "      <th>material_impresso</th>\n",
              "      <th>material_audio</th>\n",
              "      <th>material_braille</th>\n",
              "      <th>material_libras</th>\n",
              "      <th>disciplina_libras</th>\n",
              "      <th>tradutor_libras</th>\n",
              "      <th>guia_interprete</th>\n",
              "      <th>recursos_comunicacao</th>\n",
              "      <th>recursos_informatica</th>\n",
              "      <th>recursos_totais</th>\n",
              "    </tr>\n",
              "  </thead>\n",
              "  <tbody>\n",
              "    <tr>\n",
              "      <th>0</th>\n",
              "      <td>1</td>\n",
              "      <td>1</td>\n",
              "      <td>0.0</td>\n",
              "      <td>0.0</td>\n",
              "      <td>0.0</td>\n",
              "      <td>0.0</td>\n",
              "      <td>0.0</td>\n",
              "      <td>0.0</td>\n",
              "      <td>0.0</td>\n",
              "      <td>1.0</td>\n",
              "      <td>0.0</td>\n",
              "      <td>0.0</td>\n",
              "      <td>0.0</td>\n",
              "      <td>0.0</td>\n",
              "      <td>1.0</td>\n",
              "    </tr>\n",
              "    <tr>\n",
              "      <th>1</th>\n",
              "      <td>1</td>\n",
              "      <td>2</td>\n",
              "      <td>0.0</td>\n",
              "      <td>0.0</td>\n",
              "      <td>0.0</td>\n",
              "      <td>0.0</td>\n",
              "      <td>0.0</td>\n",
              "      <td>0.0</td>\n",
              "      <td>0.0</td>\n",
              "      <td>0.0</td>\n",
              "      <td>0.0</td>\n",
              "      <td>0.0</td>\n",
              "      <td>0.0</td>\n",
              "      <td>0.0</td>\n",
              "      <td>0.0</td>\n",
              "    </tr>\n",
              "    <tr>\n",
              "      <th>2</th>\n",
              "      <td>1</td>\n",
              "      <td>3</td>\n",
              "      <td>0.0</td>\n",
              "      <td>0.0</td>\n",
              "      <td>0.0</td>\n",
              "      <td>0.0</td>\n",
              "      <td>0.0</td>\n",
              "      <td>0.0</td>\n",
              "      <td>0.0</td>\n",
              "      <td>0.0</td>\n",
              "      <td>0.0</td>\n",
              "      <td>0.0</td>\n",
              "      <td>0.0</td>\n",
              "      <td>0.0</td>\n",
              "      <td>0.0</td>\n",
              "    </tr>\n",
              "    <tr>\n",
              "      <th>3</th>\n",
              "      <td>1</td>\n",
              "      <td>6</td>\n",
              "      <td>1.0</td>\n",
              "      <td>1.0</td>\n",
              "      <td>1.0</td>\n",
              "      <td>0.0</td>\n",
              "      <td>1.0</td>\n",
              "      <td>0.0</td>\n",
              "      <td>0.0</td>\n",
              "      <td>1.0</td>\n",
              "      <td>1.0</td>\n",
              "      <td>1.0</td>\n",
              "      <td>1.0</td>\n",
              "      <td>1.0</td>\n",
              "      <td>9.0</td>\n",
              "    </tr>\n",
              "    <tr>\n",
              "      <th>4</th>\n",
              "      <td>1</td>\n",
              "      <td>7</td>\n",
              "      <td>0.0</td>\n",
              "      <td>0.0</td>\n",
              "      <td>0.0</td>\n",
              "      <td>0.0</td>\n",
              "      <td>0.0</td>\n",
              "      <td>0.0</td>\n",
              "      <td>0.0</td>\n",
              "      <td>1.0</td>\n",
              "      <td>0.0</td>\n",
              "      <td>0.0</td>\n",
              "      <td>0.0</td>\n",
              "      <td>0.0</td>\n",
              "      <td>1.0</td>\n",
              "    </tr>\n",
              "  </tbody>\n",
              "</table>\n",
              "</div>"
            ],
            "text/plain": [
              "   cod_ies  cod_curso  ...  recursos_informatica  recursos_totais\n",
              "0        1          1  ...                   0.0              1.0\n",
              "1        1          2  ...                   0.0              0.0\n",
              "2        1          3  ...                   0.0              0.0\n",
              "3        1          6  ...                   1.0              9.0\n",
              "4        1          7  ...                   0.0              1.0\n",
              "\n",
              "[5 rows x 15 columns]"
            ]
          },
          "metadata": {},
          "execution_count": 205
        }
      ]
    },
    {
      "cell_type": "code",
      "metadata": {
        "colab": {
          "base_uri": "https://localhost:8080/",
          "height": 238
        },
        "id": "_UFUAnpRMGhP",
        "outputId": "3716d069-2b54-404b-d448-87c7d68206f0"
      },
      "source": [
        "#Contando a quantidade de curso por IES\n",
        "ies_cursos = ies_recursos.groupby('cod_ies')[['cod_curso']].count()\n",
        "ies_cursos.head()"
      ],
      "execution_count": 206,
      "outputs": [
        {
          "output_type": "execute_result",
          "data": {
            "text/html": [
              "<div>\n",
              "<style scoped>\n",
              "    .dataframe tbody tr th:only-of-type {\n",
              "        vertical-align: middle;\n",
              "    }\n",
              "\n",
              "    .dataframe tbody tr th {\n",
              "        vertical-align: top;\n",
              "    }\n",
              "\n",
              "    .dataframe thead th {\n",
              "        text-align: right;\n",
              "    }\n",
              "</style>\n",
              "<table border=\"1\" class=\"dataframe\">\n",
              "  <thead>\n",
              "    <tr style=\"text-align: right;\">\n",
              "      <th></th>\n",
              "      <th>cod_curso</th>\n",
              "    </tr>\n",
              "    <tr>\n",
              "      <th>cod_ies</th>\n",
              "      <th></th>\n",
              "    </tr>\n",
              "  </thead>\n",
              "  <tbody>\n",
              "    <tr>\n",
              "      <th>1</th>\n",
              "      <td>114</td>\n",
              "    </tr>\n",
              "    <tr>\n",
              "      <th>2</th>\n",
              "      <td>149</td>\n",
              "    </tr>\n",
              "    <tr>\n",
              "      <th>3</th>\n",
              "      <td>116</td>\n",
              "    </tr>\n",
              "    <tr>\n",
              "      <th>4</th>\n",
              "      <td>107</td>\n",
              "    </tr>\n",
              "    <tr>\n",
              "      <th>5</th>\n",
              "      <td>100</td>\n",
              "    </tr>\n",
              "  </tbody>\n",
              "</table>\n",
              "</div>"
            ],
            "text/plain": [
              "         cod_curso\n",
              "cod_ies           \n",
              "1              114\n",
              "2              149\n",
              "3              116\n",
              "4              107\n",
              "5              100"
            ]
          },
          "metadata": {},
          "execution_count": 206
        }
      ]
    },
    {
      "cell_type": "code",
      "metadata": {
        "colab": {
          "base_uri": "https://localhost:8080/",
          "height": 206
        },
        "id": "DgvJPjgXM1rv",
        "outputId": "b8f4f073-80f9-49ea-c615-080b5396d430"
      },
      "source": [
        "#Transformando num dataframe\n",
        "ies_cursos = pd.DataFrame(ies_cursos,columns=['cod_curso'])\n",
        "ies_cursos['cod_ies'] = ies_cursos.index\n",
        "ies_cursos.index = range(len(ies_cursos))\n",
        "ies_cursos.head()"
      ],
      "execution_count": 207,
      "outputs": [
        {
          "output_type": "execute_result",
          "data": {
            "text/html": [
              "<div>\n",
              "<style scoped>\n",
              "    .dataframe tbody tr th:only-of-type {\n",
              "        vertical-align: middle;\n",
              "    }\n",
              "\n",
              "    .dataframe tbody tr th {\n",
              "        vertical-align: top;\n",
              "    }\n",
              "\n",
              "    .dataframe thead th {\n",
              "        text-align: right;\n",
              "    }\n",
              "</style>\n",
              "<table border=\"1\" class=\"dataframe\">\n",
              "  <thead>\n",
              "    <tr style=\"text-align: right;\">\n",
              "      <th></th>\n",
              "      <th>cod_curso</th>\n",
              "      <th>cod_ies</th>\n",
              "    </tr>\n",
              "  </thead>\n",
              "  <tbody>\n",
              "    <tr>\n",
              "      <th>0</th>\n",
              "      <td>114</td>\n",
              "      <td>1</td>\n",
              "    </tr>\n",
              "    <tr>\n",
              "      <th>1</th>\n",
              "      <td>149</td>\n",
              "      <td>2</td>\n",
              "    </tr>\n",
              "    <tr>\n",
              "      <th>2</th>\n",
              "      <td>116</td>\n",
              "      <td>3</td>\n",
              "    </tr>\n",
              "    <tr>\n",
              "      <th>3</th>\n",
              "      <td>107</td>\n",
              "      <td>4</td>\n",
              "    </tr>\n",
              "    <tr>\n",
              "      <th>4</th>\n",
              "      <td>100</td>\n",
              "      <td>5</td>\n",
              "    </tr>\n",
              "  </tbody>\n",
              "</table>\n",
              "</div>"
            ],
            "text/plain": [
              "   cod_curso  cod_ies\n",
              "0        114        1\n",
              "1        149        2\n",
              "2        116        3\n",
              "3        107        4\n",
              "4        100        5"
            ]
          },
          "metadata": {},
          "execution_count": 207
        }
      ]
    },
    {
      "cell_type": "code",
      "metadata": {
        "colab": {
          "base_uri": "https://localhost:8080/",
          "height": 206
        },
        "id": "XW6jjN_vNPTI",
        "outputId": "633080f4-5607-4e5a-fe13-52497ad9ca92"
      },
      "source": [
        "ies_cursos = ies_cursos.rename(columns={\n",
        "    'cod_curso':'num_curso',\n",
        "    })\n",
        "ies_cursos.head(5)"
      ],
      "execution_count": 208,
      "outputs": [
        {
          "output_type": "execute_result",
          "data": {
            "text/html": [
              "<div>\n",
              "<style scoped>\n",
              "    .dataframe tbody tr th:only-of-type {\n",
              "        vertical-align: middle;\n",
              "    }\n",
              "\n",
              "    .dataframe tbody tr th {\n",
              "        vertical-align: top;\n",
              "    }\n",
              "\n",
              "    .dataframe thead th {\n",
              "        text-align: right;\n",
              "    }\n",
              "</style>\n",
              "<table border=\"1\" class=\"dataframe\">\n",
              "  <thead>\n",
              "    <tr style=\"text-align: right;\">\n",
              "      <th></th>\n",
              "      <th>num_curso</th>\n",
              "      <th>cod_ies</th>\n",
              "    </tr>\n",
              "  </thead>\n",
              "  <tbody>\n",
              "    <tr>\n",
              "      <th>0</th>\n",
              "      <td>114</td>\n",
              "      <td>1</td>\n",
              "    </tr>\n",
              "    <tr>\n",
              "      <th>1</th>\n",
              "      <td>149</td>\n",
              "      <td>2</td>\n",
              "    </tr>\n",
              "    <tr>\n",
              "      <th>2</th>\n",
              "      <td>116</td>\n",
              "      <td>3</td>\n",
              "    </tr>\n",
              "    <tr>\n",
              "      <th>3</th>\n",
              "      <td>107</td>\n",
              "      <td>4</td>\n",
              "    </tr>\n",
              "    <tr>\n",
              "      <th>4</th>\n",
              "      <td>100</td>\n",
              "      <td>5</td>\n",
              "    </tr>\n",
              "  </tbody>\n",
              "</table>\n",
              "</div>"
            ],
            "text/plain": [
              "   num_curso  cod_ies\n",
              "0        114        1\n",
              "1        149        2\n",
              "2        116        3\n",
              "3        107        4\n",
              "4        100        5"
            ]
          },
          "metadata": {},
          "execution_count": 208
        }
      ]
    },
    {
      "cell_type": "code",
      "metadata": {
        "colab": {
          "base_uri": "https://localhost:8080/",
          "height": 163
        },
        "id": "4XZkFg5VwGVv",
        "outputId": "ebff1db7-eb20-41dc-e67a-46790068a519"
      },
      "source": [
        "ies_recursos = ies_recursos.drop(columns='cod_curso')\n",
        "ies_recursos.head(3)"
      ],
      "execution_count": 209,
      "outputs": [
        {
          "output_type": "execute_result",
          "data": {
            "text/html": [
              "<div>\n",
              "<style scoped>\n",
              "    .dataframe tbody tr th:only-of-type {\n",
              "        vertical-align: middle;\n",
              "    }\n",
              "\n",
              "    .dataframe tbody tr th {\n",
              "        vertical-align: top;\n",
              "    }\n",
              "\n",
              "    .dataframe thead th {\n",
              "        text-align: right;\n",
              "    }\n",
              "</style>\n",
              "<table border=\"1\" class=\"dataframe\">\n",
              "  <thead>\n",
              "    <tr style=\"text-align: right;\">\n",
              "      <th></th>\n",
              "      <th>cod_ies</th>\n",
              "      <th>material_digital</th>\n",
              "      <th>material_ampliado</th>\n",
              "      <th>material_tatil</th>\n",
              "      <th>material_impresso</th>\n",
              "      <th>material_audio</th>\n",
              "      <th>material_braille</th>\n",
              "      <th>material_libras</th>\n",
              "      <th>disciplina_libras</th>\n",
              "      <th>tradutor_libras</th>\n",
              "      <th>guia_interprete</th>\n",
              "      <th>recursos_comunicacao</th>\n",
              "      <th>recursos_informatica</th>\n",
              "      <th>recursos_totais</th>\n",
              "    </tr>\n",
              "  </thead>\n",
              "  <tbody>\n",
              "    <tr>\n",
              "      <th>0</th>\n",
              "      <td>1</td>\n",
              "      <td>0.0</td>\n",
              "      <td>0.0</td>\n",
              "      <td>0.0</td>\n",
              "      <td>0.0</td>\n",
              "      <td>0.0</td>\n",
              "      <td>0.0</td>\n",
              "      <td>0.0</td>\n",
              "      <td>1.0</td>\n",
              "      <td>0.0</td>\n",
              "      <td>0.0</td>\n",
              "      <td>0.0</td>\n",
              "      <td>0.0</td>\n",
              "      <td>1.0</td>\n",
              "    </tr>\n",
              "    <tr>\n",
              "      <th>1</th>\n",
              "      <td>1</td>\n",
              "      <td>0.0</td>\n",
              "      <td>0.0</td>\n",
              "      <td>0.0</td>\n",
              "      <td>0.0</td>\n",
              "      <td>0.0</td>\n",
              "      <td>0.0</td>\n",
              "      <td>0.0</td>\n",
              "      <td>0.0</td>\n",
              "      <td>0.0</td>\n",
              "      <td>0.0</td>\n",
              "      <td>0.0</td>\n",
              "      <td>0.0</td>\n",
              "      <td>0.0</td>\n",
              "    </tr>\n",
              "    <tr>\n",
              "      <th>2</th>\n",
              "      <td>1</td>\n",
              "      <td>0.0</td>\n",
              "      <td>0.0</td>\n",
              "      <td>0.0</td>\n",
              "      <td>0.0</td>\n",
              "      <td>0.0</td>\n",
              "      <td>0.0</td>\n",
              "      <td>0.0</td>\n",
              "      <td>0.0</td>\n",
              "      <td>0.0</td>\n",
              "      <td>0.0</td>\n",
              "      <td>0.0</td>\n",
              "      <td>0.0</td>\n",
              "      <td>0.0</td>\n",
              "    </tr>\n",
              "  </tbody>\n",
              "</table>\n",
              "</div>"
            ],
            "text/plain": [
              "   cod_ies  material_digital  ...  recursos_informatica  recursos_totais\n",
              "0        1               0.0  ...                   0.0              1.0\n",
              "1        1               0.0  ...                   0.0              0.0\n",
              "2        1               0.0  ...                   0.0              0.0\n",
              "\n",
              "[3 rows x 14 columns]"
            ]
          },
          "metadata": {},
          "execution_count": 209
        }
      ]
    },
    {
      "cell_type": "code",
      "metadata": {
        "colab": {
          "base_uri": "https://localhost:8080/",
          "height": 258
        },
        "id": "F-_Ds9MtMekf",
        "outputId": "9081682a-ee83-4667-d2f2-6a48c546bd11"
      },
      "source": [
        "ies_recursos = ies_recursos.groupby('cod_ies').sum()\n",
        "ies_recursos.head()"
      ],
      "execution_count": 210,
      "outputs": [
        {
          "output_type": "execute_result",
          "data": {
            "text/html": [
              "<div>\n",
              "<style scoped>\n",
              "    .dataframe tbody tr th:only-of-type {\n",
              "        vertical-align: middle;\n",
              "    }\n",
              "\n",
              "    .dataframe tbody tr th {\n",
              "        vertical-align: top;\n",
              "    }\n",
              "\n",
              "    .dataframe thead th {\n",
              "        text-align: right;\n",
              "    }\n",
              "</style>\n",
              "<table border=\"1\" class=\"dataframe\">\n",
              "  <thead>\n",
              "    <tr style=\"text-align: right;\">\n",
              "      <th></th>\n",
              "      <th>material_digital</th>\n",
              "      <th>material_ampliado</th>\n",
              "      <th>material_tatil</th>\n",
              "      <th>material_impresso</th>\n",
              "      <th>material_audio</th>\n",
              "      <th>material_braille</th>\n",
              "      <th>material_libras</th>\n",
              "      <th>disciplina_libras</th>\n",
              "      <th>tradutor_libras</th>\n",
              "      <th>guia_interprete</th>\n",
              "      <th>recursos_comunicacao</th>\n",
              "      <th>recursos_informatica</th>\n",
              "      <th>recursos_totais</th>\n",
              "    </tr>\n",
              "    <tr>\n",
              "      <th>cod_ies</th>\n",
              "      <th></th>\n",
              "      <th></th>\n",
              "      <th></th>\n",
              "      <th></th>\n",
              "      <th></th>\n",
              "      <th></th>\n",
              "      <th></th>\n",
              "      <th></th>\n",
              "      <th></th>\n",
              "      <th></th>\n",
              "      <th></th>\n",
              "      <th></th>\n",
              "      <th></th>\n",
              "    </tr>\n",
              "  </thead>\n",
              "  <tbody>\n",
              "    <tr>\n",
              "      <th>1</th>\n",
              "      <td>11.0</td>\n",
              "      <td>13.0</td>\n",
              "      <td>3.0</td>\n",
              "      <td>9.0</td>\n",
              "      <td>5.0</td>\n",
              "      <td>3.0</td>\n",
              "      <td>5.0</td>\n",
              "      <td>66.0</td>\n",
              "      <td>26.0</td>\n",
              "      <td>11.0</td>\n",
              "      <td>7.0</td>\n",
              "      <td>5.0</td>\n",
              "      <td>164.0</td>\n",
              "    </tr>\n",
              "    <tr>\n",
              "      <th>2</th>\n",
              "      <td>149.0</td>\n",
              "      <td>148.0</td>\n",
              "      <td>149.0</td>\n",
              "      <td>149.0</td>\n",
              "      <td>148.0</td>\n",
              "      <td>149.0</td>\n",
              "      <td>149.0</td>\n",
              "      <td>149.0</td>\n",
              "      <td>149.0</td>\n",
              "      <td>149.0</td>\n",
              "      <td>148.0</td>\n",
              "      <td>149.0</td>\n",
              "      <td>1785.0</td>\n",
              "    </tr>\n",
              "    <tr>\n",
              "      <th>3</th>\n",
              "      <td>20.0</td>\n",
              "      <td>15.0</td>\n",
              "      <td>16.0</td>\n",
              "      <td>21.0</td>\n",
              "      <td>14.0</td>\n",
              "      <td>20.0</td>\n",
              "      <td>23.0</td>\n",
              "      <td>91.0</td>\n",
              "      <td>41.0</td>\n",
              "      <td>31.0</td>\n",
              "      <td>11.0</td>\n",
              "      <td>24.0</td>\n",
              "      <td>327.0</td>\n",
              "    </tr>\n",
              "    <tr>\n",
              "      <th>4</th>\n",
              "      <td>0.0</td>\n",
              "      <td>0.0</td>\n",
              "      <td>0.0</td>\n",
              "      <td>0.0</td>\n",
              "      <td>0.0</td>\n",
              "      <td>0.0</td>\n",
              "      <td>0.0</td>\n",
              "      <td>105.0</td>\n",
              "      <td>0.0</td>\n",
              "      <td>0.0</td>\n",
              "      <td>0.0</td>\n",
              "      <td>0.0</td>\n",
              "      <td>105.0</td>\n",
              "    </tr>\n",
              "    <tr>\n",
              "      <th>5</th>\n",
              "      <td>0.0</td>\n",
              "      <td>99.0</td>\n",
              "      <td>100.0</td>\n",
              "      <td>99.0</td>\n",
              "      <td>1.0</td>\n",
              "      <td>100.0</td>\n",
              "      <td>99.0</td>\n",
              "      <td>99.0</td>\n",
              "      <td>100.0</td>\n",
              "      <td>99.0</td>\n",
              "      <td>99.0</td>\n",
              "      <td>99.0</td>\n",
              "      <td>994.0</td>\n",
              "    </tr>\n",
              "  </tbody>\n",
              "</table>\n",
              "</div>"
            ],
            "text/plain": [
              "         material_digital  ...  recursos_totais\n",
              "cod_ies                    ...                 \n",
              "1                    11.0  ...            164.0\n",
              "2                   149.0  ...           1785.0\n",
              "3                    20.0  ...            327.0\n",
              "4                     0.0  ...            105.0\n",
              "5                     0.0  ...            994.0\n",
              "\n",
              "[5 rows x 13 columns]"
            ]
          },
          "metadata": {},
          "execution_count": 210
        }
      ]
    },
    {
      "cell_type": "code",
      "metadata": {
        "colab": {
          "base_uri": "https://localhost:8080/",
          "height": 226
        },
        "id": "9vXSVbscRf2x",
        "outputId": "09d86808-85a8-4a8a-e8ed-5a75926d7579"
      },
      "source": [
        "ies_recursos = pd.merge(ies_recursos, ies_cursos, how='inner', on='cod_ies')\n",
        "ies_recursos.head()"
      ],
      "execution_count": 211,
      "outputs": [
        {
          "output_type": "execute_result",
          "data": {
            "text/html": [
              "<div>\n",
              "<style scoped>\n",
              "    .dataframe tbody tr th:only-of-type {\n",
              "        vertical-align: middle;\n",
              "    }\n",
              "\n",
              "    .dataframe tbody tr th {\n",
              "        vertical-align: top;\n",
              "    }\n",
              "\n",
              "    .dataframe thead th {\n",
              "        text-align: right;\n",
              "    }\n",
              "</style>\n",
              "<table border=\"1\" class=\"dataframe\">\n",
              "  <thead>\n",
              "    <tr style=\"text-align: right;\">\n",
              "      <th></th>\n",
              "      <th>cod_ies</th>\n",
              "      <th>material_digital</th>\n",
              "      <th>material_ampliado</th>\n",
              "      <th>material_tatil</th>\n",
              "      <th>material_impresso</th>\n",
              "      <th>material_audio</th>\n",
              "      <th>material_braille</th>\n",
              "      <th>material_libras</th>\n",
              "      <th>disciplina_libras</th>\n",
              "      <th>tradutor_libras</th>\n",
              "      <th>guia_interprete</th>\n",
              "      <th>recursos_comunicacao</th>\n",
              "      <th>recursos_informatica</th>\n",
              "      <th>recursos_totais</th>\n",
              "      <th>num_curso</th>\n",
              "    </tr>\n",
              "  </thead>\n",
              "  <tbody>\n",
              "    <tr>\n",
              "      <th>0</th>\n",
              "      <td>1</td>\n",
              "      <td>11.0</td>\n",
              "      <td>13.0</td>\n",
              "      <td>3.0</td>\n",
              "      <td>9.0</td>\n",
              "      <td>5.0</td>\n",
              "      <td>3.0</td>\n",
              "      <td>5.0</td>\n",
              "      <td>66.0</td>\n",
              "      <td>26.0</td>\n",
              "      <td>11.0</td>\n",
              "      <td>7.0</td>\n",
              "      <td>5.0</td>\n",
              "      <td>164.0</td>\n",
              "      <td>114</td>\n",
              "    </tr>\n",
              "    <tr>\n",
              "      <th>1</th>\n",
              "      <td>2</td>\n",
              "      <td>149.0</td>\n",
              "      <td>148.0</td>\n",
              "      <td>149.0</td>\n",
              "      <td>149.0</td>\n",
              "      <td>148.0</td>\n",
              "      <td>149.0</td>\n",
              "      <td>149.0</td>\n",
              "      <td>149.0</td>\n",
              "      <td>149.0</td>\n",
              "      <td>149.0</td>\n",
              "      <td>148.0</td>\n",
              "      <td>149.0</td>\n",
              "      <td>1785.0</td>\n",
              "      <td>149</td>\n",
              "    </tr>\n",
              "    <tr>\n",
              "      <th>2</th>\n",
              "      <td>3</td>\n",
              "      <td>20.0</td>\n",
              "      <td>15.0</td>\n",
              "      <td>16.0</td>\n",
              "      <td>21.0</td>\n",
              "      <td>14.0</td>\n",
              "      <td>20.0</td>\n",
              "      <td>23.0</td>\n",
              "      <td>91.0</td>\n",
              "      <td>41.0</td>\n",
              "      <td>31.0</td>\n",
              "      <td>11.0</td>\n",
              "      <td>24.0</td>\n",
              "      <td>327.0</td>\n",
              "      <td>116</td>\n",
              "    </tr>\n",
              "    <tr>\n",
              "      <th>3</th>\n",
              "      <td>4</td>\n",
              "      <td>0.0</td>\n",
              "      <td>0.0</td>\n",
              "      <td>0.0</td>\n",
              "      <td>0.0</td>\n",
              "      <td>0.0</td>\n",
              "      <td>0.0</td>\n",
              "      <td>0.0</td>\n",
              "      <td>105.0</td>\n",
              "      <td>0.0</td>\n",
              "      <td>0.0</td>\n",
              "      <td>0.0</td>\n",
              "      <td>0.0</td>\n",
              "      <td>105.0</td>\n",
              "      <td>107</td>\n",
              "    </tr>\n",
              "    <tr>\n",
              "      <th>4</th>\n",
              "      <td>5</td>\n",
              "      <td>0.0</td>\n",
              "      <td>99.0</td>\n",
              "      <td>100.0</td>\n",
              "      <td>99.0</td>\n",
              "      <td>1.0</td>\n",
              "      <td>100.0</td>\n",
              "      <td>99.0</td>\n",
              "      <td>99.0</td>\n",
              "      <td>100.0</td>\n",
              "      <td>99.0</td>\n",
              "      <td>99.0</td>\n",
              "      <td>99.0</td>\n",
              "      <td>994.0</td>\n",
              "      <td>100</td>\n",
              "    </tr>\n",
              "  </tbody>\n",
              "</table>\n",
              "</div>"
            ],
            "text/plain": [
              "   cod_ies  material_digital  ...  recursos_totais  num_curso\n",
              "0        1              11.0  ...            164.0        114\n",
              "1        2             149.0  ...           1785.0        149\n",
              "2        3              20.0  ...            327.0        116\n",
              "3        4               0.0  ...            105.0        107\n",
              "4        5               0.0  ...            994.0        100\n",
              "\n",
              "[5 rows x 15 columns]"
            ]
          },
          "metadata": {},
          "execution_count": 211
        }
      ]
    },
    {
      "cell_type": "code",
      "metadata": {
        "colab": {
          "base_uri": "https://localhost:8080/",
          "height": 226
        },
        "id": "RKSus8WGQYr8",
        "outputId": "b9a3fe69-3d3d-41b6-b8c8-6397ed52db24"
      },
      "source": [
        "ies_recursos['num_recursos_medio'] = ies_recursos['recursos_totais'] / ies_recursos['num_curso']\n",
        "ies_recursos = ies_recursos.reset_index()\n",
        "ies_recursos.head()"
      ],
      "execution_count": 212,
      "outputs": [
        {
          "output_type": "execute_result",
          "data": {
            "text/html": [
              "<div>\n",
              "<style scoped>\n",
              "    .dataframe tbody tr th:only-of-type {\n",
              "        vertical-align: middle;\n",
              "    }\n",
              "\n",
              "    .dataframe tbody tr th {\n",
              "        vertical-align: top;\n",
              "    }\n",
              "\n",
              "    .dataframe thead th {\n",
              "        text-align: right;\n",
              "    }\n",
              "</style>\n",
              "<table border=\"1\" class=\"dataframe\">\n",
              "  <thead>\n",
              "    <tr style=\"text-align: right;\">\n",
              "      <th></th>\n",
              "      <th>index</th>\n",
              "      <th>cod_ies</th>\n",
              "      <th>material_digital</th>\n",
              "      <th>material_ampliado</th>\n",
              "      <th>material_tatil</th>\n",
              "      <th>material_impresso</th>\n",
              "      <th>material_audio</th>\n",
              "      <th>material_braille</th>\n",
              "      <th>material_libras</th>\n",
              "      <th>disciplina_libras</th>\n",
              "      <th>tradutor_libras</th>\n",
              "      <th>guia_interprete</th>\n",
              "      <th>recursos_comunicacao</th>\n",
              "      <th>recursos_informatica</th>\n",
              "      <th>recursos_totais</th>\n",
              "      <th>num_curso</th>\n",
              "      <th>num_recursos_medio</th>\n",
              "    </tr>\n",
              "  </thead>\n",
              "  <tbody>\n",
              "    <tr>\n",
              "      <th>0</th>\n",
              "      <td>0</td>\n",
              "      <td>1</td>\n",
              "      <td>11.0</td>\n",
              "      <td>13.0</td>\n",
              "      <td>3.0</td>\n",
              "      <td>9.0</td>\n",
              "      <td>5.0</td>\n",
              "      <td>3.0</td>\n",
              "      <td>5.0</td>\n",
              "      <td>66.0</td>\n",
              "      <td>26.0</td>\n",
              "      <td>11.0</td>\n",
              "      <td>7.0</td>\n",
              "      <td>5.0</td>\n",
              "      <td>164.0</td>\n",
              "      <td>114</td>\n",
              "      <td>1.438596</td>\n",
              "    </tr>\n",
              "    <tr>\n",
              "      <th>1</th>\n",
              "      <td>1</td>\n",
              "      <td>2</td>\n",
              "      <td>149.0</td>\n",
              "      <td>148.0</td>\n",
              "      <td>149.0</td>\n",
              "      <td>149.0</td>\n",
              "      <td>148.0</td>\n",
              "      <td>149.0</td>\n",
              "      <td>149.0</td>\n",
              "      <td>149.0</td>\n",
              "      <td>149.0</td>\n",
              "      <td>149.0</td>\n",
              "      <td>148.0</td>\n",
              "      <td>149.0</td>\n",
              "      <td>1785.0</td>\n",
              "      <td>149</td>\n",
              "      <td>11.979866</td>\n",
              "    </tr>\n",
              "    <tr>\n",
              "      <th>2</th>\n",
              "      <td>2</td>\n",
              "      <td>3</td>\n",
              "      <td>20.0</td>\n",
              "      <td>15.0</td>\n",
              "      <td>16.0</td>\n",
              "      <td>21.0</td>\n",
              "      <td>14.0</td>\n",
              "      <td>20.0</td>\n",
              "      <td>23.0</td>\n",
              "      <td>91.0</td>\n",
              "      <td>41.0</td>\n",
              "      <td>31.0</td>\n",
              "      <td>11.0</td>\n",
              "      <td>24.0</td>\n",
              "      <td>327.0</td>\n",
              "      <td>116</td>\n",
              "      <td>2.818966</td>\n",
              "    </tr>\n",
              "    <tr>\n",
              "      <th>3</th>\n",
              "      <td>3</td>\n",
              "      <td>4</td>\n",
              "      <td>0.0</td>\n",
              "      <td>0.0</td>\n",
              "      <td>0.0</td>\n",
              "      <td>0.0</td>\n",
              "      <td>0.0</td>\n",
              "      <td>0.0</td>\n",
              "      <td>0.0</td>\n",
              "      <td>105.0</td>\n",
              "      <td>0.0</td>\n",
              "      <td>0.0</td>\n",
              "      <td>0.0</td>\n",
              "      <td>0.0</td>\n",
              "      <td>105.0</td>\n",
              "      <td>107</td>\n",
              "      <td>0.981308</td>\n",
              "    </tr>\n",
              "    <tr>\n",
              "      <th>4</th>\n",
              "      <td>4</td>\n",
              "      <td>5</td>\n",
              "      <td>0.0</td>\n",
              "      <td>99.0</td>\n",
              "      <td>100.0</td>\n",
              "      <td>99.0</td>\n",
              "      <td>1.0</td>\n",
              "      <td>100.0</td>\n",
              "      <td>99.0</td>\n",
              "      <td>99.0</td>\n",
              "      <td>100.0</td>\n",
              "      <td>99.0</td>\n",
              "      <td>99.0</td>\n",
              "      <td>99.0</td>\n",
              "      <td>994.0</td>\n",
              "      <td>100</td>\n",
              "      <td>9.940000</td>\n",
              "    </tr>\n",
              "  </tbody>\n",
              "</table>\n",
              "</div>"
            ],
            "text/plain": [
              "   index  cod_ies  ...  num_curso  num_recursos_medio\n",
              "0      0        1  ...        114            1.438596\n",
              "1      1        2  ...        149           11.979866\n",
              "2      2        3  ...        116            2.818966\n",
              "3      3        4  ...        107            0.981308\n",
              "4      4        5  ...        100            9.940000\n",
              "\n",
              "[5 rows x 17 columns]"
            ]
          },
          "metadata": {},
          "execution_count": 212
        }
      ]
    },
    {
      "cell_type": "code",
      "metadata": {
        "id": "kuAKiNquNna7",
        "colab": {
          "base_uri": "https://localhost:8080/",
          "height": 206
        },
        "outputId": "c15e8f8b-0e58-4f56-cbfe-2229e697ea3a"
      },
      "source": [
        "ies_recursos = ies_recursos[['cod_ies','num_recursos_medio','num_curso']]\n",
        "ies_recursos.head()"
      ],
      "execution_count": 213,
      "outputs": [
        {
          "output_type": "execute_result",
          "data": {
            "text/html": [
              "<div>\n",
              "<style scoped>\n",
              "    .dataframe tbody tr th:only-of-type {\n",
              "        vertical-align: middle;\n",
              "    }\n",
              "\n",
              "    .dataframe tbody tr th {\n",
              "        vertical-align: top;\n",
              "    }\n",
              "\n",
              "    .dataframe thead th {\n",
              "        text-align: right;\n",
              "    }\n",
              "</style>\n",
              "<table border=\"1\" class=\"dataframe\">\n",
              "  <thead>\n",
              "    <tr style=\"text-align: right;\">\n",
              "      <th></th>\n",
              "      <th>cod_ies</th>\n",
              "      <th>num_recursos_medio</th>\n",
              "      <th>num_curso</th>\n",
              "    </tr>\n",
              "  </thead>\n",
              "  <tbody>\n",
              "    <tr>\n",
              "      <th>0</th>\n",
              "      <td>1</td>\n",
              "      <td>1.438596</td>\n",
              "      <td>114</td>\n",
              "    </tr>\n",
              "    <tr>\n",
              "      <th>1</th>\n",
              "      <td>2</td>\n",
              "      <td>11.979866</td>\n",
              "      <td>149</td>\n",
              "    </tr>\n",
              "    <tr>\n",
              "      <th>2</th>\n",
              "      <td>3</td>\n",
              "      <td>2.818966</td>\n",
              "      <td>116</td>\n",
              "    </tr>\n",
              "    <tr>\n",
              "      <th>3</th>\n",
              "      <td>4</td>\n",
              "      <td>0.981308</td>\n",
              "      <td>107</td>\n",
              "    </tr>\n",
              "    <tr>\n",
              "      <th>4</th>\n",
              "      <td>5</td>\n",
              "      <td>9.940000</td>\n",
              "      <td>100</td>\n",
              "    </tr>\n",
              "  </tbody>\n",
              "</table>\n",
              "</div>"
            ],
            "text/plain": [
              "   cod_ies  num_recursos_medio  num_curso\n",
              "0        1            1.438596        114\n",
              "1        2           11.979866        149\n",
              "2        3            2.818966        116\n",
              "3        4            0.981308        107\n",
              "4        5            9.940000        100"
            ]
          },
          "metadata": {},
          "execution_count": 213
        }
      ]
    },
    {
      "cell_type": "markdown",
      "metadata": {
        "id": "6EP7g40UZ2DN"
      },
      "source": [
        "### 1.4.Alunos com deficiência"
      ]
    },
    {
      "cell_type": "code",
      "metadata": {
        "colab": {
          "base_uri": "https://localhost:8080/",
          "height": 163
        },
        "id": "iumA0-ojJV-X",
        "outputId": "ad20a405-acaf-4bdb-f667-31d8d5ec83be"
      },
      "source": [
        "#Contando a quantidade de alunos com deficiência por IES\n",
        "ies_alunos = pd.read_csv('alunodeficiente_2019.csv', sep=',', encoding='latin1', usecols=['CO_IES','IN_DEFICIENCIA_AUDITIVA','IN_DEFICIENCIA_FISICA','IN_DEFICIENCIA_INTELECTUAL','IN_DEFICIENCIA_MULTIPLA','IN_DEFICIENCIA_SURDEZ','IN_DEFICIENCIA_SURDOCEGUEIRA','IN_DEFICIENCIA_BAIXA_VISAO','IN_DEFICIENCIA_CEGUEIRA','IN_DEFICIENCIA_SUPERDOTACAO','IN_TGD_AUTISMO','IN_TGD_SINDROME_ASPERGER','IN_TGD_SINDROME_RETT','IN_TGD_TRANSTOR_DESINTEGRATIVO'])\n",
        "ies_alunos.head(3)"
      ],
      "execution_count": 214,
      "outputs": [
        {
          "output_type": "execute_result",
          "data": {
            "text/html": [
              "<div>\n",
              "<style scoped>\n",
              "    .dataframe tbody tr th:only-of-type {\n",
              "        vertical-align: middle;\n",
              "    }\n",
              "\n",
              "    .dataframe tbody tr th {\n",
              "        vertical-align: top;\n",
              "    }\n",
              "\n",
              "    .dataframe thead th {\n",
              "        text-align: right;\n",
              "    }\n",
              "</style>\n",
              "<table border=\"1\" class=\"dataframe\">\n",
              "  <thead>\n",
              "    <tr style=\"text-align: right;\">\n",
              "      <th></th>\n",
              "      <th>CO_IES</th>\n",
              "      <th>IN_DEFICIENCIA_AUDITIVA</th>\n",
              "      <th>IN_DEFICIENCIA_FISICA</th>\n",
              "      <th>IN_DEFICIENCIA_INTELECTUAL</th>\n",
              "      <th>IN_DEFICIENCIA_MULTIPLA</th>\n",
              "      <th>IN_DEFICIENCIA_SURDEZ</th>\n",
              "      <th>IN_DEFICIENCIA_SURDOCEGUEIRA</th>\n",
              "      <th>IN_DEFICIENCIA_BAIXA_VISAO</th>\n",
              "      <th>IN_DEFICIENCIA_CEGUEIRA</th>\n",
              "      <th>IN_DEFICIENCIA_SUPERDOTACAO</th>\n",
              "      <th>IN_TGD_AUTISMO</th>\n",
              "      <th>IN_TGD_SINDROME_ASPERGER</th>\n",
              "      <th>IN_TGD_SINDROME_RETT</th>\n",
              "      <th>IN_TGD_TRANSTOR_DESINTEGRATIVO</th>\n",
              "    </tr>\n",
              "  </thead>\n",
              "  <tbody>\n",
              "    <tr>\n",
              "      <th>0</th>\n",
              "      <td>1</td>\n",
              "      <td>0.0</td>\n",
              "      <td>1.0</td>\n",
              "      <td>0.0</td>\n",
              "      <td>0.0</td>\n",
              "      <td>0.0</td>\n",
              "      <td>0.0</td>\n",
              "      <td>0.0</td>\n",
              "      <td>0.0</td>\n",
              "      <td>0.0</td>\n",
              "      <td>0.0</td>\n",
              "      <td>0.0</td>\n",
              "      <td>0.0</td>\n",
              "      <td>0.0</td>\n",
              "    </tr>\n",
              "    <tr>\n",
              "      <th>1</th>\n",
              "      <td>1</td>\n",
              "      <td>0.0</td>\n",
              "      <td>1.0</td>\n",
              "      <td>0.0</td>\n",
              "      <td>0.0</td>\n",
              "      <td>0.0</td>\n",
              "      <td>0.0</td>\n",
              "      <td>0.0</td>\n",
              "      <td>0.0</td>\n",
              "      <td>0.0</td>\n",
              "      <td>0.0</td>\n",
              "      <td>0.0</td>\n",
              "      <td>0.0</td>\n",
              "      <td>0.0</td>\n",
              "    </tr>\n",
              "    <tr>\n",
              "      <th>2</th>\n",
              "      <td>1</td>\n",
              "      <td>0.0</td>\n",
              "      <td>1.0</td>\n",
              "      <td>0.0</td>\n",
              "      <td>0.0</td>\n",
              "      <td>0.0</td>\n",
              "      <td>0.0</td>\n",
              "      <td>0.0</td>\n",
              "      <td>0.0</td>\n",
              "      <td>0.0</td>\n",
              "      <td>0.0</td>\n",
              "      <td>0.0</td>\n",
              "      <td>0.0</td>\n",
              "      <td>0.0</td>\n",
              "    </tr>\n",
              "  </tbody>\n",
              "</table>\n",
              "</div>"
            ],
            "text/plain": [
              "   CO_IES  ...  IN_TGD_TRANSTOR_DESINTEGRATIVO\n",
              "0       1  ...                             0.0\n",
              "1       1  ...                             0.0\n",
              "2       1  ...                             0.0\n",
              "\n",
              "[3 rows x 14 columns]"
            ]
          },
          "metadata": {},
          "execution_count": 214
        }
      ]
    },
    {
      "cell_type": "code",
      "metadata": {
        "colab": {
          "base_uri": "https://localhost:8080/",
          "height": 258
        },
        "id": "AKzZPd0cUfm7",
        "outputId": "f1c8fef1-cec4-4c90-d8e3-c8d99848f8fc"
      },
      "source": [
        "#Contando a quantidade de curso por IES\n",
        "ies_alunos = ies_alunos.groupby('CO_IES').sum()\n",
        "ies_alunos.head()"
      ],
      "execution_count": 215,
      "outputs": [
        {
          "output_type": "execute_result",
          "data": {
            "text/html": [
              "<div>\n",
              "<style scoped>\n",
              "    .dataframe tbody tr th:only-of-type {\n",
              "        vertical-align: middle;\n",
              "    }\n",
              "\n",
              "    .dataframe tbody tr th {\n",
              "        vertical-align: top;\n",
              "    }\n",
              "\n",
              "    .dataframe thead th {\n",
              "        text-align: right;\n",
              "    }\n",
              "</style>\n",
              "<table border=\"1\" class=\"dataframe\">\n",
              "  <thead>\n",
              "    <tr style=\"text-align: right;\">\n",
              "      <th></th>\n",
              "      <th>IN_DEFICIENCIA_AUDITIVA</th>\n",
              "      <th>IN_DEFICIENCIA_FISICA</th>\n",
              "      <th>IN_DEFICIENCIA_INTELECTUAL</th>\n",
              "      <th>IN_DEFICIENCIA_MULTIPLA</th>\n",
              "      <th>IN_DEFICIENCIA_SURDEZ</th>\n",
              "      <th>IN_DEFICIENCIA_SURDOCEGUEIRA</th>\n",
              "      <th>IN_DEFICIENCIA_BAIXA_VISAO</th>\n",
              "      <th>IN_DEFICIENCIA_CEGUEIRA</th>\n",
              "      <th>IN_DEFICIENCIA_SUPERDOTACAO</th>\n",
              "      <th>IN_TGD_AUTISMO</th>\n",
              "      <th>IN_TGD_SINDROME_ASPERGER</th>\n",
              "      <th>IN_TGD_SINDROME_RETT</th>\n",
              "      <th>IN_TGD_TRANSTOR_DESINTEGRATIVO</th>\n",
              "    </tr>\n",
              "    <tr>\n",
              "      <th>CO_IES</th>\n",
              "      <th></th>\n",
              "      <th></th>\n",
              "      <th></th>\n",
              "      <th></th>\n",
              "      <th></th>\n",
              "      <th></th>\n",
              "      <th></th>\n",
              "      <th></th>\n",
              "      <th></th>\n",
              "      <th></th>\n",
              "      <th></th>\n",
              "      <th></th>\n",
              "      <th></th>\n",
              "    </tr>\n",
              "  </thead>\n",
              "  <tbody>\n",
              "    <tr>\n",
              "      <th>1</th>\n",
              "      <td>71.0</td>\n",
              "      <td>149.0</td>\n",
              "      <td>10.0</td>\n",
              "      <td>4.0</td>\n",
              "      <td>25.0</td>\n",
              "      <td>0.0</td>\n",
              "      <td>49.0</td>\n",
              "      <td>16.0</td>\n",
              "      <td>0.0</td>\n",
              "      <td>1.0</td>\n",
              "      <td>8.0</td>\n",
              "      <td>0.0</td>\n",
              "      <td>4.0</td>\n",
              "    </tr>\n",
              "    <tr>\n",
              "      <th>2</th>\n",
              "      <td>24.0</td>\n",
              "      <td>63.0</td>\n",
              "      <td>8.0</td>\n",
              "      <td>6.0</td>\n",
              "      <td>14.0</td>\n",
              "      <td>2.0</td>\n",
              "      <td>32.0</td>\n",
              "      <td>3.0</td>\n",
              "      <td>3.0</td>\n",
              "      <td>45.0</td>\n",
              "      <td>1.0</td>\n",
              "      <td>0.0</td>\n",
              "      <td>0.0</td>\n",
              "    </tr>\n",
              "    <tr>\n",
              "      <th>3</th>\n",
              "      <td>36.0</td>\n",
              "      <td>243.0</td>\n",
              "      <td>17.0</td>\n",
              "      <td>3.0</td>\n",
              "      <td>31.0</td>\n",
              "      <td>0.0</td>\n",
              "      <td>105.0</td>\n",
              "      <td>12.0</td>\n",
              "      <td>1.0</td>\n",
              "      <td>0.0</td>\n",
              "      <td>1.0</td>\n",
              "      <td>0.0</td>\n",
              "      <td>0.0</td>\n",
              "    </tr>\n",
              "    <tr>\n",
              "      <th>4</th>\n",
              "      <td>35.0</td>\n",
              "      <td>70.0</td>\n",
              "      <td>64.0</td>\n",
              "      <td>3.0</td>\n",
              "      <td>0.0</td>\n",
              "      <td>0.0</td>\n",
              "      <td>64.0</td>\n",
              "      <td>1.0</td>\n",
              "      <td>2.0</td>\n",
              "      <td>0.0</td>\n",
              "      <td>0.0</td>\n",
              "      <td>0.0</td>\n",
              "      <td>0.0</td>\n",
              "    </tr>\n",
              "    <tr>\n",
              "      <th>5</th>\n",
              "      <td>67.0</td>\n",
              "      <td>215.0</td>\n",
              "      <td>7.0</td>\n",
              "      <td>4.0</td>\n",
              "      <td>3.0</td>\n",
              "      <td>0.0</td>\n",
              "      <td>5.0</td>\n",
              "      <td>102.0</td>\n",
              "      <td>5.0</td>\n",
              "      <td>36.0</td>\n",
              "      <td>0.0</td>\n",
              "      <td>0.0</td>\n",
              "      <td>1.0</td>\n",
              "    </tr>\n",
              "  </tbody>\n",
              "</table>\n",
              "</div>"
            ],
            "text/plain": [
              "        IN_DEFICIENCIA_AUDITIVA  ...  IN_TGD_TRANSTOR_DESINTEGRATIVO\n",
              "CO_IES                           ...                                \n",
              "1                          71.0  ...                             4.0\n",
              "2                          24.0  ...                             0.0\n",
              "3                          36.0  ...                             0.0\n",
              "4                          35.0  ...                             0.0\n",
              "5                          67.0  ...                             1.0\n",
              "\n",
              "[5 rows x 13 columns]"
            ]
          },
          "metadata": {},
          "execution_count": 215
        }
      ]
    },
    {
      "cell_type": "code",
      "metadata": {
        "colab": {
          "base_uri": "https://localhost:8080/",
          "height": 226
        },
        "id": "QfNdREC5VMYe",
        "outputId": "77b4bd24-c99d-4c88-e148-8df9fc6089e3"
      },
      "source": [
        "ies_alunos['ALUNOS_DEFICIENCIA'] = ies_alunos['IN_DEFICIENCIA_AUDITIVA'] + ies_alunos['IN_DEFICIENCIA_FISICA'] + ies_alunos['IN_DEFICIENCIA_INTELECTUAL'] + ies_alunos['IN_DEFICIENCIA_MULTIPLA'] + ies_alunos['IN_DEFICIENCIA_SURDEZ'] + ies_alunos['IN_DEFICIENCIA_SURDOCEGUEIRA'] + ies_alunos['IN_DEFICIENCIA_BAIXA_VISAO'] + ies_alunos['IN_DEFICIENCIA_CEGUEIRA'] + ies_alunos['IN_DEFICIENCIA_SUPERDOTACAO'] + ies_alunos['IN_TGD_AUTISMO'] + ies_alunos['IN_TGD_SINDROME_ASPERGER'] + ies_alunos['IN_TGD_SINDROME_RETT'] + ies_alunos['IN_TGD_TRANSTOR_DESINTEGRATIVO']\n",
        "ies_alunos = ies_alunos.reset_index()\n",
        "ies_alunos.head()"
      ],
      "execution_count": 216,
      "outputs": [
        {
          "output_type": "execute_result",
          "data": {
            "text/html": [
              "<div>\n",
              "<style scoped>\n",
              "    .dataframe tbody tr th:only-of-type {\n",
              "        vertical-align: middle;\n",
              "    }\n",
              "\n",
              "    .dataframe tbody tr th {\n",
              "        vertical-align: top;\n",
              "    }\n",
              "\n",
              "    .dataframe thead th {\n",
              "        text-align: right;\n",
              "    }\n",
              "</style>\n",
              "<table border=\"1\" class=\"dataframe\">\n",
              "  <thead>\n",
              "    <tr style=\"text-align: right;\">\n",
              "      <th></th>\n",
              "      <th>CO_IES</th>\n",
              "      <th>IN_DEFICIENCIA_AUDITIVA</th>\n",
              "      <th>IN_DEFICIENCIA_FISICA</th>\n",
              "      <th>IN_DEFICIENCIA_INTELECTUAL</th>\n",
              "      <th>IN_DEFICIENCIA_MULTIPLA</th>\n",
              "      <th>IN_DEFICIENCIA_SURDEZ</th>\n",
              "      <th>IN_DEFICIENCIA_SURDOCEGUEIRA</th>\n",
              "      <th>IN_DEFICIENCIA_BAIXA_VISAO</th>\n",
              "      <th>IN_DEFICIENCIA_CEGUEIRA</th>\n",
              "      <th>IN_DEFICIENCIA_SUPERDOTACAO</th>\n",
              "      <th>IN_TGD_AUTISMO</th>\n",
              "      <th>IN_TGD_SINDROME_ASPERGER</th>\n",
              "      <th>IN_TGD_SINDROME_RETT</th>\n",
              "      <th>IN_TGD_TRANSTOR_DESINTEGRATIVO</th>\n",
              "      <th>ALUNOS_DEFICIENCIA</th>\n",
              "    </tr>\n",
              "  </thead>\n",
              "  <tbody>\n",
              "    <tr>\n",
              "      <th>0</th>\n",
              "      <td>1</td>\n",
              "      <td>71.0</td>\n",
              "      <td>149.0</td>\n",
              "      <td>10.0</td>\n",
              "      <td>4.0</td>\n",
              "      <td>25.0</td>\n",
              "      <td>0.0</td>\n",
              "      <td>49.0</td>\n",
              "      <td>16.0</td>\n",
              "      <td>0.0</td>\n",
              "      <td>1.0</td>\n",
              "      <td>8.0</td>\n",
              "      <td>0.0</td>\n",
              "      <td>4.0</td>\n",
              "      <td>337.0</td>\n",
              "    </tr>\n",
              "    <tr>\n",
              "      <th>1</th>\n",
              "      <td>2</td>\n",
              "      <td>24.0</td>\n",
              "      <td>63.0</td>\n",
              "      <td>8.0</td>\n",
              "      <td>6.0</td>\n",
              "      <td>14.0</td>\n",
              "      <td>2.0</td>\n",
              "      <td>32.0</td>\n",
              "      <td>3.0</td>\n",
              "      <td>3.0</td>\n",
              "      <td>45.0</td>\n",
              "      <td>1.0</td>\n",
              "      <td>0.0</td>\n",
              "      <td>0.0</td>\n",
              "      <td>201.0</td>\n",
              "    </tr>\n",
              "    <tr>\n",
              "      <th>2</th>\n",
              "      <td>3</td>\n",
              "      <td>36.0</td>\n",
              "      <td>243.0</td>\n",
              "      <td>17.0</td>\n",
              "      <td>3.0</td>\n",
              "      <td>31.0</td>\n",
              "      <td>0.0</td>\n",
              "      <td>105.0</td>\n",
              "      <td>12.0</td>\n",
              "      <td>1.0</td>\n",
              "      <td>0.0</td>\n",
              "      <td>1.0</td>\n",
              "      <td>0.0</td>\n",
              "      <td>0.0</td>\n",
              "      <td>449.0</td>\n",
              "    </tr>\n",
              "    <tr>\n",
              "      <th>3</th>\n",
              "      <td>4</td>\n",
              "      <td>35.0</td>\n",
              "      <td>70.0</td>\n",
              "      <td>64.0</td>\n",
              "      <td>3.0</td>\n",
              "      <td>0.0</td>\n",
              "      <td>0.0</td>\n",
              "      <td>64.0</td>\n",
              "      <td>1.0</td>\n",
              "      <td>2.0</td>\n",
              "      <td>0.0</td>\n",
              "      <td>0.0</td>\n",
              "      <td>0.0</td>\n",
              "      <td>0.0</td>\n",
              "      <td>239.0</td>\n",
              "    </tr>\n",
              "    <tr>\n",
              "      <th>4</th>\n",
              "      <td>5</td>\n",
              "      <td>67.0</td>\n",
              "      <td>215.0</td>\n",
              "      <td>7.0</td>\n",
              "      <td>4.0</td>\n",
              "      <td>3.0</td>\n",
              "      <td>0.0</td>\n",
              "      <td>5.0</td>\n",
              "      <td>102.0</td>\n",
              "      <td>5.0</td>\n",
              "      <td>36.0</td>\n",
              "      <td>0.0</td>\n",
              "      <td>0.0</td>\n",
              "      <td>1.0</td>\n",
              "      <td>445.0</td>\n",
              "    </tr>\n",
              "  </tbody>\n",
              "</table>\n",
              "</div>"
            ],
            "text/plain": [
              "   CO_IES  ...  ALUNOS_DEFICIENCIA\n",
              "0       1  ...               337.0\n",
              "1       2  ...               201.0\n",
              "2       3  ...               449.0\n",
              "3       4  ...               239.0\n",
              "4       5  ...               445.0\n",
              "\n",
              "[5 rows x 15 columns]"
            ]
          },
          "metadata": {},
          "execution_count": 216
        }
      ]
    },
    {
      "cell_type": "code",
      "metadata": {
        "colab": {
          "base_uri": "https://localhost:8080/",
          "height": 206
        },
        "id": "foiJE-XQVvtJ",
        "outputId": "0ab1d1b7-7f2f-46fa-9c26-00f69a12b0bb"
      },
      "source": [
        "ies_alunos = ies_alunos[['CO_IES','ALUNOS_DEFICIENCIA']]\n",
        "ies_alunos.head()"
      ],
      "execution_count": 217,
      "outputs": [
        {
          "output_type": "execute_result",
          "data": {
            "text/html": [
              "<div>\n",
              "<style scoped>\n",
              "    .dataframe tbody tr th:only-of-type {\n",
              "        vertical-align: middle;\n",
              "    }\n",
              "\n",
              "    .dataframe tbody tr th {\n",
              "        vertical-align: top;\n",
              "    }\n",
              "\n",
              "    .dataframe thead th {\n",
              "        text-align: right;\n",
              "    }\n",
              "</style>\n",
              "<table border=\"1\" class=\"dataframe\">\n",
              "  <thead>\n",
              "    <tr style=\"text-align: right;\">\n",
              "      <th></th>\n",
              "      <th>CO_IES</th>\n",
              "      <th>ALUNOS_DEFICIENCIA</th>\n",
              "    </tr>\n",
              "  </thead>\n",
              "  <tbody>\n",
              "    <tr>\n",
              "      <th>0</th>\n",
              "      <td>1</td>\n",
              "      <td>337.0</td>\n",
              "    </tr>\n",
              "    <tr>\n",
              "      <th>1</th>\n",
              "      <td>2</td>\n",
              "      <td>201.0</td>\n",
              "    </tr>\n",
              "    <tr>\n",
              "      <th>2</th>\n",
              "      <td>3</td>\n",
              "      <td>449.0</td>\n",
              "    </tr>\n",
              "    <tr>\n",
              "      <th>3</th>\n",
              "      <td>4</td>\n",
              "      <td>239.0</td>\n",
              "    </tr>\n",
              "    <tr>\n",
              "      <th>4</th>\n",
              "      <td>5</td>\n",
              "      <td>445.0</td>\n",
              "    </tr>\n",
              "  </tbody>\n",
              "</table>\n",
              "</div>"
            ],
            "text/plain": [
              "   CO_IES  ALUNOS_DEFICIENCIA\n",
              "0       1               337.0\n",
              "1       2               201.0\n",
              "2       3               449.0\n",
              "3       4               239.0\n",
              "4       5               445.0"
            ]
          },
          "metadata": {},
          "execution_count": 217
        }
      ]
    },
    {
      "cell_type": "code",
      "metadata": {
        "colab": {
          "base_uri": "https://localhost:8080/",
          "height": 206
        },
        "id": "c0HDi35HXd3t",
        "outputId": "a8c99a1b-2044-4865-d4d1-a88b7a137f64"
      },
      "source": [
        "#Renomeando as colunas\n",
        "ies_alunos = ies_alunos.rename(columns={\n",
        "    'CO_IES':'cod_ies',\n",
        "    'ALUNOS_DEFICIENCIA':'alunos_deficiencia',\n",
        "    })\n",
        "ies_alunos.head()"
      ],
      "execution_count": 218,
      "outputs": [
        {
          "output_type": "execute_result",
          "data": {
            "text/html": [
              "<div>\n",
              "<style scoped>\n",
              "    .dataframe tbody tr th:only-of-type {\n",
              "        vertical-align: middle;\n",
              "    }\n",
              "\n",
              "    .dataframe tbody tr th {\n",
              "        vertical-align: top;\n",
              "    }\n",
              "\n",
              "    .dataframe thead th {\n",
              "        text-align: right;\n",
              "    }\n",
              "</style>\n",
              "<table border=\"1\" class=\"dataframe\">\n",
              "  <thead>\n",
              "    <tr style=\"text-align: right;\">\n",
              "      <th></th>\n",
              "      <th>cod_ies</th>\n",
              "      <th>alunos_deficiencia</th>\n",
              "    </tr>\n",
              "  </thead>\n",
              "  <tbody>\n",
              "    <tr>\n",
              "      <th>0</th>\n",
              "      <td>1</td>\n",
              "      <td>337.0</td>\n",
              "    </tr>\n",
              "    <tr>\n",
              "      <th>1</th>\n",
              "      <td>2</td>\n",
              "      <td>201.0</td>\n",
              "    </tr>\n",
              "    <tr>\n",
              "      <th>2</th>\n",
              "      <td>3</td>\n",
              "      <td>449.0</td>\n",
              "    </tr>\n",
              "    <tr>\n",
              "      <th>3</th>\n",
              "      <td>4</td>\n",
              "      <td>239.0</td>\n",
              "    </tr>\n",
              "    <tr>\n",
              "      <th>4</th>\n",
              "      <td>5</td>\n",
              "      <td>445.0</td>\n",
              "    </tr>\n",
              "  </tbody>\n",
              "</table>\n",
              "</div>"
            ],
            "text/plain": [
              "   cod_ies  alunos_deficiencia\n",
              "0        1               337.0\n",
              "1        2               201.0\n",
              "2        3               449.0\n",
              "3        4               239.0\n",
              "4        5               445.0"
            ]
          },
          "metadata": {},
          "execution_count": 218
        }
      ]
    },
    {
      "cell_type": "markdown",
      "metadata": {
        "id": "KPGnZ8eOZ9PN"
      },
      "source": [
        "### 1.5.Dados da IES"
      ]
    },
    {
      "cell_type": "markdown",
      "metadata": {
        "id": "JJUjT1lLbeB5"
      },
      "source": [
        "A fim de fazer uma integração de dados referentes à IES, vamos juntar em um único dataset essas informações para que possam servir de entrada para o clustering."
      ]
    },
    {
      "cell_type": "code",
      "metadata": {
        "colab": {
          "base_uri": "https://localhost:8080/",
          "height": 206
        },
        "id": "Uz-729_97g9B",
        "outputId": "99ecc183-333a-4fa7-c142-9f56964180ba"
      },
      "source": [
        "ies = pd.merge(ies_igc, ies_receitas, how='inner', on='cod_ies')\n",
        "ies.head()"
      ],
      "execution_count": 219,
      "outputs": [
        {
          "output_type": "execute_result",
          "data": {
            "text/html": [
              "<div>\n",
              "<style scoped>\n",
              "    .dataframe tbody tr th:only-of-type {\n",
              "        vertical-align: middle;\n",
              "    }\n",
              "\n",
              "    .dataframe tbody tr th {\n",
              "        vertical-align: top;\n",
              "    }\n",
              "\n",
              "    .dataframe thead th {\n",
              "        text-align: right;\n",
              "    }\n",
              "</style>\n",
              "<table border=\"1\" class=\"dataframe\">\n",
              "  <thead>\n",
              "    <tr style=\"text-align: right;\">\n",
              "      <th></th>\n",
              "      <th>cod_ies</th>\n",
              "      <th>conceito_medio_graduacao</th>\n",
              "      <th>igc_continuo</th>\n",
              "      <th>categoria_administrativa</th>\n",
              "      <th>despesa_investimento</th>\n",
              "      <th>receitas</th>\n",
              "    </tr>\n",
              "  </thead>\n",
              "  <tbody>\n",
              "    <tr>\n",
              "      <th>0</th>\n",
              "      <td>1</td>\n",
              "      <td>2.924962</td>\n",
              "      <td>3.236518</td>\n",
              "      <td>1</td>\n",
              "      <td>9606414.13</td>\n",
              "      <td>9.270910e+08</td>\n",
              "    </tr>\n",
              "    <tr>\n",
              "      <th>1</th>\n",
              "      <td>2</td>\n",
              "      <td>3.269586</td>\n",
              "      <td>3.941659</td>\n",
              "      <td>1</td>\n",
              "      <td>23154904.42</td>\n",
              "      <td>1.597568e+08</td>\n",
              "    </tr>\n",
              "    <tr>\n",
              "      <th>2</th>\n",
              "      <td>3</td>\n",
              "      <td>3.105500</td>\n",
              "      <td>3.367594</td>\n",
              "      <td>1</td>\n",
              "      <td>8212361.64</td>\n",
              "      <td>9.457277e+08</td>\n",
              "    </tr>\n",
              "    <tr>\n",
              "      <th>3</th>\n",
              "      <td>4</td>\n",
              "      <td>2.821851</td>\n",
              "      <td>3.048187</td>\n",
              "      <td>1</td>\n",
              "      <td>12676251.59</td>\n",
              "      <td>1.070640e+09</td>\n",
              "    </tr>\n",
              "    <tr>\n",
              "      <th>4</th>\n",
              "      <td>5</td>\n",
              "      <td>2.713283</td>\n",
              "      <td>2.960657</td>\n",
              "      <td>1</td>\n",
              "      <td>7835737.00</td>\n",
              "      <td>8.559507e+08</td>\n",
              "    </tr>\n",
              "  </tbody>\n",
              "</table>\n",
              "</div>"
            ],
            "text/plain": [
              "   cod_ies  conceito_medio_graduacao  ...  despesa_investimento      receitas\n",
              "0        1                  2.924962  ...            9606414.13  9.270910e+08\n",
              "1        2                  3.269586  ...           23154904.42  1.597568e+08\n",
              "2        3                  3.105500  ...            8212361.64  9.457277e+08\n",
              "3        4                  2.821851  ...           12676251.59  1.070640e+09\n",
              "4        5                  2.713283  ...            7835737.00  8.559507e+08\n",
              "\n",
              "[5 rows x 6 columns]"
            ]
          },
          "metadata": {},
          "execution_count": 219
        }
      ]
    },
    {
      "cell_type": "code",
      "metadata": {
        "colab": {
          "base_uri": "https://localhost:8080/",
          "height": 226
        },
        "id": "GAP6Jg3O60F-",
        "outputId": "de1278c1-b9d8-41d8-e2e6-d1db1ec3e734"
      },
      "source": [
        "ies = pd.merge(ies, ies_recursos, how='inner', on='cod_ies')\n",
        "ies.head()"
      ],
      "execution_count": 220,
      "outputs": [
        {
          "output_type": "execute_result",
          "data": {
            "text/html": [
              "<div>\n",
              "<style scoped>\n",
              "    .dataframe tbody tr th:only-of-type {\n",
              "        vertical-align: middle;\n",
              "    }\n",
              "\n",
              "    .dataframe tbody tr th {\n",
              "        vertical-align: top;\n",
              "    }\n",
              "\n",
              "    .dataframe thead th {\n",
              "        text-align: right;\n",
              "    }\n",
              "</style>\n",
              "<table border=\"1\" class=\"dataframe\">\n",
              "  <thead>\n",
              "    <tr style=\"text-align: right;\">\n",
              "      <th></th>\n",
              "      <th>cod_ies</th>\n",
              "      <th>conceito_medio_graduacao</th>\n",
              "      <th>igc_continuo</th>\n",
              "      <th>categoria_administrativa</th>\n",
              "      <th>despesa_investimento</th>\n",
              "      <th>receitas</th>\n",
              "      <th>num_recursos_medio</th>\n",
              "      <th>num_curso</th>\n",
              "    </tr>\n",
              "  </thead>\n",
              "  <tbody>\n",
              "    <tr>\n",
              "      <th>0</th>\n",
              "      <td>1</td>\n",
              "      <td>2.924962</td>\n",
              "      <td>3.236518</td>\n",
              "      <td>1</td>\n",
              "      <td>9606414.13</td>\n",
              "      <td>9.270910e+08</td>\n",
              "      <td>1.438596</td>\n",
              "      <td>114</td>\n",
              "    </tr>\n",
              "    <tr>\n",
              "      <th>1</th>\n",
              "      <td>2</td>\n",
              "      <td>3.269586</td>\n",
              "      <td>3.941659</td>\n",
              "      <td>1</td>\n",
              "      <td>23154904.42</td>\n",
              "      <td>1.597568e+08</td>\n",
              "      <td>11.979866</td>\n",
              "      <td>149</td>\n",
              "    </tr>\n",
              "    <tr>\n",
              "      <th>2</th>\n",
              "      <td>3</td>\n",
              "      <td>3.105500</td>\n",
              "      <td>3.367594</td>\n",
              "      <td>1</td>\n",
              "      <td>8212361.64</td>\n",
              "      <td>9.457277e+08</td>\n",
              "      <td>2.818966</td>\n",
              "      <td>116</td>\n",
              "    </tr>\n",
              "    <tr>\n",
              "      <th>3</th>\n",
              "      <td>4</td>\n",
              "      <td>2.821851</td>\n",
              "      <td>3.048187</td>\n",
              "      <td>1</td>\n",
              "      <td>12676251.59</td>\n",
              "      <td>1.070640e+09</td>\n",
              "      <td>0.981308</td>\n",
              "      <td>107</td>\n",
              "    </tr>\n",
              "    <tr>\n",
              "      <th>4</th>\n",
              "      <td>5</td>\n",
              "      <td>2.713283</td>\n",
              "      <td>2.960657</td>\n",
              "      <td>1</td>\n",
              "      <td>7835737.00</td>\n",
              "      <td>8.559507e+08</td>\n",
              "      <td>9.940000</td>\n",
              "      <td>100</td>\n",
              "    </tr>\n",
              "  </tbody>\n",
              "</table>\n",
              "</div>"
            ],
            "text/plain": [
              "   cod_ies  conceito_medio_graduacao  ...  num_recursos_medio  num_curso\n",
              "0        1                  2.924962  ...            1.438596        114\n",
              "1        2                  3.269586  ...           11.979866        149\n",
              "2        3                  3.105500  ...            2.818966        116\n",
              "3        4                  2.821851  ...            0.981308        107\n",
              "4        5                  2.713283  ...            9.940000        100\n",
              "\n",
              "[5 rows x 8 columns]"
            ]
          },
          "metadata": {},
          "execution_count": 220
        }
      ]
    },
    {
      "cell_type": "code",
      "metadata": {
        "colab": {
          "base_uri": "https://localhost:8080/",
          "height": 226
        },
        "id": "s4BOCmCLXN9P",
        "outputId": "acf04c79-1e9e-4b66-f2c1-6dc1573ba614"
      },
      "source": [
        "ies = pd.merge(ies, ies_alunos, how='inner', on='cod_ies')\n",
        "ies.head()"
      ],
      "execution_count": 221,
      "outputs": [
        {
          "output_type": "execute_result",
          "data": {
            "text/html": [
              "<div>\n",
              "<style scoped>\n",
              "    .dataframe tbody tr th:only-of-type {\n",
              "        vertical-align: middle;\n",
              "    }\n",
              "\n",
              "    .dataframe tbody tr th {\n",
              "        vertical-align: top;\n",
              "    }\n",
              "\n",
              "    .dataframe thead th {\n",
              "        text-align: right;\n",
              "    }\n",
              "</style>\n",
              "<table border=\"1\" class=\"dataframe\">\n",
              "  <thead>\n",
              "    <tr style=\"text-align: right;\">\n",
              "      <th></th>\n",
              "      <th>cod_ies</th>\n",
              "      <th>conceito_medio_graduacao</th>\n",
              "      <th>igc_continuo</th>\n",
              "      <th>categoria_administrativa</th>\n",
              "      <th>despesa_investimento</th>\n",
              "      <th>receitas</th>\n",
              "      <th>num_recursos_medio</th>\n",
              "      <th>num_curso</th>\n",
              "      <th>alunos_deficiencia</th>\n",
              "    </tr>\n",
              "  </thead>\n",
              "  <tbody>\n",
              "    <tr>\n",
              "      <th>0</th>\n",
              "      <td>1</td>\n",
              "      <td>2.924962</td>\n",
              "      <td>3.236518</td>\n",
              "      <td>1</td>\n",
              "      <td>9606414.13</td>\n",
              "      <td>9.270910e+08</td>\n",
              "      <td>1.438596</td>\n",
              "      <td>114</td>\n",
              "      <td>337.0</td>\n",
              "    </tr>\n",
              "    <tr>\n",
              "      <th>1</th>\n",
              "      <td>2</td>\n",
              "      <td>3.269586</td>\n",
              "      <td>3.941659</td>\n",
              "      <td>1</td>\n",
              "      <td>23154904.42</td>\n",
              "      <td>1.597568e+08</td>\n",
              "      <td>11.979866</td>\n",
              "      <td>149</td>\n",
              "      <td>201.0</td>\n",
              "    </tr>\n",
              "    <tr>\n",
              "      <th>2</th>\n",
              "      <td>3</td>\n",
              "      <td>3.105500</td>\n",
              "      <td>3.367594</td>\n",
              "      <td>1</td>\n",
              "      <td>8212361.64</td>\n",
              "      <td>9.457277e+08</td>\n",
              "      <td>2.818966</td>\n",
              "      <td>116</td>\n",
              "      <td>449.0</td>\n",
              "    </tr>\n",
              "    <tr>\n",
              "      <th>3</th>\n",
              "      <td>4</td>\n",
              "      <td>2.821851</td>\n",
              "      <td>3.048187</td>\n",
              "      <td>1</td>\n",
              "      <td>12676251.59</td>\n",
              "      <td>1.070640e+09</td>\n",
              "      <td>0.981308</td>\n",
              "      <td>107</td>\n",
              "      <td>239.0</td>\n",
              "    </tr>\n",
              "    <tr>\n",
              "      <th>4</th>\n",
              "      <td>5</td>\n",
              "      <td>2.713283</td>\n",
              "      <td>2.960657</td>\n",
              "      <td>1</td>\n",
              "      <td>7835737.00</td>\n",
              "      <td>8.559507e+08</td>\n",
              "      <td>9.940000</td>\n",
              "      <td>100</td>\n",
              "      <td>445.0</td>\n",
              "    </tr>\n",
              "  </tbody>\n",
              "</table>\n",
              "</div>"
            ],
            "text/plain": [
              "   cod_ies  conceito_medio_graduacao  ...  num_curso  alunos_deficiencia\n",
              "0        1                  2.924962  ...        114               337.0\n",
              "1        2                  3.269586  ...        149               201.0\n",
              "2        3                  3.105500  ...        116               449.0\n",
              "3        4                  2.821851  ...        107               239.0\n",
              "4        5                  2.713283  ...        100               445.0\n",
              "\n",
              "[5 rows x 9 columns]"
            ]
          },
          "metadata": {},
          "execution_count": 221
        }
      ]
    },
    {
      "cell_type": "code",
      "metadata": {
        "colab": {
          "base_uri": "https://localhost:8080/",
          "height": 226
        },
        "id": "BsiP3IlYD_pK",
        "outputId": "b6f2d0c3-ce3a-4b26-af0a-4106442d59d7"
      },
      "source": [
        "ies = ies[['cod_ies','categoria_administrativa','alunos_deficiencia','num_recursos_medio','num_curso','receitas','despesa_investimento','conceito_medio_graduacao','igc_continuo']]\n",
        "ies.head()"
      ],
      "execution_count": 222,
      "outputs": [
        {
          "output_type": "execute_result",
          "data": {
            "text/html": [
              "<div>\n",
              "<style scoped>\n",
              "    .dataframe tbody tr th:only-of-type {\n",
              "        vertical-align: middle;\n",
              "    }\n",
              "\n",
              "    .dataframe tbody tr th {\n",
              "        vertical-align: top;\n",
              "    }\n",
              "\n",
              "    .dataframe thead th {\n",
              "        text-align: right;\n",
              "    }\n",
              "</style>\n",
              "<table border=\"1\" class=\"dataframe\">\n",
              "  <thead>\n",
              "    <tr style=\"text-align: right;\">\n",
              "      <th></th>\n",
              "      <th>cod_ies</th>\n",
              "      <th>categoria_administrativa</th>\n",
              "      <th>alunos_deficiencia</th>\n",
              "      <th>num_recursos_medio</th>\n",
              "      <th>num_curso</th>\n",
              "      <th>receitas</th>\n",
              "      <th>despesa_investimento</th>\n",
              "      <th>conceito_medio_graduacao</th>\n",
              "      <th>igc_continuo</th>\n",
              "    </tr>\n",
              "  </thead>\n",
              "  <tbody>\n",
              "    <tr>\n",
              "      <th>0</th>\n",
              "      <td>1</td>\n",
              "      <td>1</td>\n",
              "      <td>337.0</td>\n",
              "      <td>1.438596</td>\n",
              "      <td>114</td>\n",
              "      <td>9.270910e+08</td>\n",
              "      <td>9606414.13</td>\n",
              "      <td>2.924962</td>\n",
              "      <td>3.236518</td>\n",
              "    </tr>\n",
              "    <tr>\n",
              "      <th>1</th>\n",
              "      <td>2</td>\n",
              "      <td>1</td>\n",
              "      <td>201.0</td>\n",
              "      <td>11.979866</td>\n",
              "      <td>149</td>\n",
              "      <td>1.597568e+08</td>\n",
              "      <td>23154904.42</td>\n",
              "      <td>3.269586</td>\n",
              "      <td>3.941659</td>\n",
              "    </tr>\n",
              "    <tr>\n",
              "      <th>2</th>\n",
              "      <td>3</td>\n",
              "      <td>1</td>\n",
              "      <td>449.0</td>\n",
              "      <td>2.818966</td>\n",
              "      <td>116</td>\n",
              "      <td>9.457277e+08</td>\n",
              "      <td>8212361.64</td>\n",
              "      <td>3.105500</td>\n",
              "      <td>3.367594</td>\n",
              "    </tr>\n",
              "    <tr>\n",
              "      <th>3</th>\n",
              "      <td>4</td>\n",
              "      <td>1</td>\n",
              "      <td>239.0</td>\n",
              "      <td>0.981308</td>\n",
              "      <td>107</td>\n",
              "      <td>1.070640e+09</td>\n",
              "      <td>12676251.59</td>\n",
              "      <td>2.821851</td>\n",
              "      <td>3.048187</td>\n",
              "    </tr>\n",
              "    <tr>\n",
              "      <th>4</th>\n",
              "      <td>5</td>\n",
              "      <td>1</td>\n",
              "      <td>445.0</td>\n",
              "      <td>9.940000</td>\n",
              "      <td>100</td>\n",
              "      <td>8.559507e+08</td>\n",
              "      <td>7835737.00</td>\n",
              "      <td>2.713283</td>\n",
              "      <td>2.960657</td>\n",
              "    </tr>\n",
              "  </tbody>\n",
              "</table>\n",
              "</div>"
            ],
            "text/plain": [
              "   cod_ies  categoria_administrativa  ...  conceito_medio_graduacao  igc_continuo\n",
              "0        1                         1  ...                  2.924962      3.236518\n",
              "1        2                         1  ...                  3.269586      3.941659\n",
              "2        3                         1  ...                  3.105500      3.367594\n",
              "3        4                         1  ...                  2.821851      3.048187\n",
              "4        5                         1  ...                  2.713283      2.960657\n",
              "\n",
              "[5 rows x 9 columns]"
            ]
          },
          "metadata": {},
          "execution_count": 222
        }
      ]
    },
    {
      "cell_type": "markdown",
      "metadata": {
        "id": "YDfwUjEMOZJI"
      },
      "source": [
        "### 1.6.Densidade de Kernel"
      ]
    },
    {
      "cell_type": "markdown",
      "metadata": {
        "id": "GSXhjKqsNkf9"
      },
      "source": [
        "Para termos uma melhor visualização dos nossos dados, foi feito ainda uma análise da densidade das features, \n",
        "por meio do kde plot (kernel density estimation plot). \n",
        "\n",
        "Nos gráficos a seguir, podemos observar uma estimativa da frequência relativa dos valores, ou seja, \n",
        "uma estimativa da função densidade de probabilidade da feature, em termos probabilísticos."
      ]
    },
    {
      "cell_type": "code",
      "metadata": {
        "colab": {
          "base_uri": "https://localhost:8080/",
          "height": 282
        },
        "id": "HcD8RGDNDw6C",
        "outputId": "13ba4e2e-5c2a-4791-ce0c-c2e115b22848"
      },
      "source": [
        "#KDEPLOT 1\n",
        "plt.figure(1 , figsize = (7,4))\n",
        "sns.kdeplot(x = 'num_recursos_medio', y = 'conceito_medio_graduacao', data = ies, fill=True, palette='crest')\n",
        "#plt.title(\"DENSIDADE DAS FEATURES\", fontsize=14)\n",
        "plt.ylabel('Conceito Médio da Graduação', fontsize=13), plt.xlabel('Recursos de Acessibilidade', fontsize=13)\n",
        "plt.savefig('kdeplot1.png', transparent = True)"
      ],
      "execution_count": 223,
      "outputs": [
        {
          "output_type": "display_data",
          "data": {
            "image/png": "[encoded data removed]",
            "text/plain": [
              "<Figure size 504x288 with 1 Axes>"
            ]
          },
          "metadata": {}
        }
      ]
    },
    {
      "cell_type": "code",
      "metadata": {
        "colab": {
          "base_uri": "https://localhost:8080/",
          "height": 282
        },
        "id": "2ad2c_AFOSw9",
        "outputId": "2bd6cc9e-a154-45b9-bf78-ac97646fcbd6"
      },
      "source": [
        "#KDEPLOT 2\n",
        "#plt.figure(1 , figsize = (7,4))\n",
        "sns.kdeplot(x = 'alunos_deficiencia', y = 'conceito_medio_graduacao', data = ies, fill=True, palette='crest')\n",
        "#plt.title(\"DENSIDADE DAS FEATURES\", fontsize=14)\n",
        "plt.ylabel('Conceito Médio da Graduação', fontsize=13), plt.xlabel('Alunos com Deficiência', fontsize=13)\n",
        "plt.savefig('kdeplot2.png', transparent = True)"
      ],
      "execution_count": 224,
      "outputs": [
        {
          "output_type": "display_data",
          "data": {
            "image/png": "[encoded data removed]",
            "text/plain": [
              "<Figure size 432x288 with 1 Axes>"
            ]
          },
          "metadata": {}
        }
      ]
    },
    {
      "cell_type": "code",
      "metadata": {
        "colab": {
          "base_uri": "https://localhost:8080/",
          "height": 283
        },
        "id": "7lmC9qUcPOTQ",
        "outputId": "c669463d-ea6b-47af-824f-107a3c9fefad"
      },
      "source": [
        "#KDEPLOT 3\n",
        "#plt.figure(1 , figsize = (7,4))\n",
        "sns.kdeplot(x = 'alunos_deficiencia', y = 'num_recursos_medio', data = ies, fill=True, palette='crest')\n",
        "#plt.title(\"DENSIDADE DAS FEATURES\", fontsize=14)\n",
        "plt.ylabel('Recursos de Acessibilidade', fontsize=13), plt.xlabel('Alunos com Deficiência', fontsize=13)\n",
        "plt.savefig('kdeplot3.png', transparent = True)"
      ],
      "execution_count": 225,
      "outputs": [
        {
          "output_type": "display_data",
          "data": {
            "image/png": "[encoded data removed]",
            "text/plain": [
              "<Figure size 432x288 with 1 Axes>"
            ]
          },
          "metadata": {}
        }
      ]
    },
    {
      "cell_type": "code",
      "metadata": {
        "colab": {
          "base_uri": "https://localhost:8080/",
          "height": 283
        },
        "id": "f1h6_HPIP2E7",
        "outputId": "4f43fcd7-0af3-4c45-c8bf-bbfe124589db"
      },
      "source": [
        "#KDEPLOT 4\n",
        "#plt.figure(1 , figsize = (7,4))\n",
        "sns.kdeplot(x = 'receitas', y = 'num_recursos_medio', data = ies, fill=True, palette='crest')\n",
        "#plt.title(\"DENSIDADE DAS FEATURES\", fontsize=14)\n",
        "plt.ylabel('Recursos de Acessibilidade', fontsize=13), plt.xlabel('Receitas das IES', fontsize=13)\n",
        "plt.savefig('kdeplot4.png', transparent = True)"
      ],
      "execution_count": 226,
      "outputs": [
        {
          "output_type": "display_data",
          "data": {
            "image/png": "[encoded data removed]",
            "text/plain": [
              "<Figure size 432x288 with 1 Axes>"
            ]
          },
          "metadata": {}
        }
      ]
    },
    {
      "cell_type": "code",
      "metadata": {
        "colab": {
          "base_uri": "https://localhost:8080/",
          "height": 283
        },
        "id": "_hCb44nIQOlo",
        "outputId": "ad561186-f88c-4707-c18a-0ee82b35bd28"
      },
      "source": [
        "#KDEPLOT 5\n",
        "#plt.figure(1 , figsize = (7,4))\n",
        "sns.kdeplot(x = 'despesa_investimento', y = 'num_recursos_medio', data = ies, fill=True, palette='crest')\n",
        "#plt.title(\"DENSIDADE DAS FEATURES\", fontsize=14)\n",
        "plt.ylabel('Recursos de Acessibilidade', fontsize=13), plt.xlabel('Despesas com Investimentos das IES', fontsize=13)\n",
        "plt.savefig('kdeplot5.png', transparent = True)"
      ],
      "execution_count": 227,
      "outputs": [
        {
          "output_type": "display_data",
          "data": {
            "image/png": "[encoded data removed]",
            "text/plain": [
              "<Figure size 432x288 with 1 Axes>"
            ]
          },
          "metadata": {}
        }
      ]
    },
    {
      "cell_type": "code",
      "metadata": {
        "colab": {
          "base_uri": "https://localhost:8080/",
          "height": 320
        },
        "id": "nqgGoBxPjDaT",
        "outputId": "cce79f9a-8893-4eff-8fb4-0d2f06b2710d"
      },
      "source": [
        "ies.describe()"
      ],
      "execution_count": 228,
      "outputs": [
        {
          "output_type": "execute_result",
          "data": {
            "text/html": [
              "<div>\n",
              "<style scoped>\n",
              "    .dataframe tbody tr th:only-of-type {\n",
              "        vertical-align: middle;\n",
              "    }\n",
              "\n",
              "    .dataframe tbody tr th {\n",
              "        vertical-align: top;\n",
              "    }\n",
              "\n",
              "    .dataframe thead th {\n",
              "        text-align: right;\n",
              "    }\n",
              "</style>\n",
              "<table border=\"1\" class=\"dataframe\">\n",
              "  <thead>\n",
              "    <tr style=\"text-align: right;\">\n",
              "      <th></th>\n",
              "      <th>cod_ies</th>\n",
              "      <th>categoria_administrativa</th>\n",
              "      <th>alunos_deficiencia</th>\n",
              "      <th>num_recursos_medio</th>\n",
              "      <th>num_curso</th>\n",
              "      <th>receitas</th>\n",
              "      <th>despesa_investimento</th>\n",
              "      <th>conceito_medio_graduacao</th>\n",
              "      <th>igc_continuo</th>\n",
              "    </tr>\n",
              "  </thead>\n",
              "  <tbody>\n",
              "    <tr>\n",
              "      <th>count</th>\n",
              "      <td>1443.000000</td>\n",
              "      <td>1443.000000</td>\n",
              "      <td>1443.000000</td>\n",
              "      <td>1443.000000</td>\n",
              "      <td>1443.000000</td>\n",
              "      <td>1.443000e+03</td>\n",
              "      <td>1.443000e+03</td>\n",
              "      <td>1443.000000</td>\n",
              "      <td>1441.000000</td>\n",
              "    </tr>\n",
              "    <tr>\n",
              "      <th>mean</th>\n",
              "      <td>3742.246708</td>\n",
              "      <td>4.012474</td>\n",
              "      <td>47.995149</td>\n",
              "      <td>6.089783</td>\n",
              "      <td>24.426888</td>\n",
              "      <td>2.947747e+08</td>\n",
              "      <td>1.648067e+07</td>\n",
              "      <td>2.627170</td>\n",
              "      <td>2.672296</td>\n",
              "    </tr>\n",
              "    <tr>\n",
              "      <th>std</th>\n",
              "      <td>4747.606563</td>\n",
              "      <td>1.166980</td>\n",
              "      <td>176.824558</td>\n",
              "      <td>3.689614</td>\n",
              "      <td>42.325656</td>\n",
              "      <td>5.993693e+08</td>\n",
              "      <td>5.308947e+07</td>\n",
              "      <td>0.501229</td>\n",
              "      <td>0.544439</td>\n",
              "    </tr>\n",
              "    <tr>\n",
              "      <th>min</th>\n",
              "      <td>1.000000</td>\n",
              "      <td>1.000000</td>\n",
              "      <td>1.000000</td>\n",
              "      <td>0.000000</td>\n",
              "      <td>1.000000</td>\n",
              "      <td>1.000000e-02</td>\n",
              "      <td>0.000000e+00</td>\n",
              "      <td>0.000000</td>\n",
              "      <td>0.797657</td>\n",
              "    </tr>\n",
              "    <tr>\n",
              "      <th>25%</th>\n",
              "      <td>1030.000000</td>\n",
              "      <td>4.000000</td>\n",
              "      <td>2.000000</td>\n",
              "      <td>3.000000</td>\n",
              "      <td>5.000000</td>\n",
              "      <td>7.128023e+06</td>\n",
              "      <td>0.000000e+00</td>\n",
              "      <td>2.305112</td>\n",
              "      <td>2.307758</td>\n",
              "    </tr>\n",
              "    <tr>\n",
              "      <th>50%</th>\n",
              "      <td>1872.000000</td>\n",
              "      <td>4.000000</td>\n",
              "      <td>5.000000</td>\n",
              "      <td>6.000000</td>\n",
              "      <td>12.000000</td>\n",
              "      <td>3.373089e+07</td>\n",
              "      <td>5.877124e+05</td>\n",
              "      <td>2.618685</td>\n",
              "      <td>2.641441</td>\n",
              "    </tr>\n",
              "    <tr>\n",
              "      <th>75%</th>\n",
              "      <td>4020.500000</td>\n",
              "      <td>5.000000</td>\n",
              "      <td>24.000000</td>\n",
              "      <td>9.000000</td>\n",
              "      <td>25.000000</td>\n",
              "      <td>2.607849e+08</td>\n",
              "      <td>7.146007e+06</td>\n",
              "      <td>2.952388</td>\n",
              "      <td>2.996998</td>\n",
              "    </tr>\n",
              "    <tr>\n",
              "      <th>max</th>\n",
              "      <td>23410.000000</td>\n",
              "      <td>7.000000</td>\n",
              "      <td>3333.000000</td>\n",
              "      <td>12.000000</td>\n",
              "      <td>928.000000</td>\n",
              "      <td>4.167839e+09</td>\n",
              "      <td>5.355536e+08</td>\n",
              "      <td>4.302528</td>\n",
              "      <td>4.854888</td>\n",
              "    </tr>\n",
              "  </tbody>\n",
              "</table>\n",
              "</div>"
            ],
            "text/plain": [
              "            cod_ies  ...  igc_continuo\n",
              "count   1443.000000  ...   1441.000000\n",
              "mean    3742.246708  ...      2.672296\n",
              "std     4747.606563  ...      0.544439\n",
              "min        1.000000  ...      0.797657\n",
              "25%     1030.000000  ...      2.307758\n",
              "50%     1872.000000  ...      2.641441\n",
              "75%     4020.500000  ...      2.996998\n",
              "max    23410.000000  ...      4.854888\n",
              "\n",
              "[8 rows x 9 columns]"
            ]
          },
          "metadata": {},
          "execution_count": 228
        }
      ]
    },
    {
      "cell_type": "markdown",
      "metadata": {
        "id": "mBASp_ucanMt"
      },
      "source": [
        "## 2.Pré-processamento dos dados"
      ]
    },
    {
      "cell_type": "markdown",
      "metadata": {
        "id": "w_CQu2tNatBx"
      },
      "source": [
        "Depois de remover as duplicatas, colunas desnecessárias e analisar os dados inconsistentes, precisamos ainda fazer o tratamento dos dados ausentes e de outliers e ruído, ratamento de dados ausentes."
      ]
    },
    {
      "cell_type": "markdown",
      "metadata": {
        "id": "jiFOo7Irb6oB"
      },
      "source": [
        "Além disso, precisamos transformar os dados em relação a sua escala e remover as variáveis ​​dependentes (altamente correlacionadas), por meio da normalização e analisando sua correlação, respectivamente."
      ]
    },
    {
      "cell_type": "markdown",
      "metadata": {
        "id": "cK8V8eq0cbit"
      },
      "source": [
        "###2.1.Outliers"
      ]
    },
    {
      "cell_type": "markdown",
      "metadata": {
        "id": "t0YnTwCqjZDi"
      },
      "source": [
        "####2.1.1.Alunos"
      ]
    },
    {
      "cell_type": "code",
      "metadata": {
        "id": "MjVfT6PFgZ6d",
        "colab": {
          "base_uri": "https://localhost:8080/",
          "height": 282
        },
        "outputId": "ad560494-ee3f-40e1-d69e-c54e70800139"
      },
      "source": [
        "#Boxplot para visualização de outliers\n",
        "plt.figure(figsize =(7, 4))\n",
        "sns.set_style('darkgrid')\n",
        "grafico_1 = sns.boxplot( y = \"alunos_deficiencia\", data = ies, linewidth=2, palette = \"crest\")\n",
        "plt.title(\"ALUNOS COM DEFICIÊNCIA\", loc=\"center\", fontsize=14)\n",
        "plt.ylabel('Alunos')"
      ],
      "execution_count": 229,
      "outputs": [
        {
          "output_type": "execute_result",
          "data": {
            "text/plain": [
              "Text(0, 0.5, 'Alunos')"
            ]
          },
          "metadata": {},
          "execution_count": 229
        },
        {
          "output_type": "display_data",
          "data": {
            "image/png": "[encoded data removed]",
            "text/plain": [
              "<Figure size 504x288 with 1 Axes>"
            ]
          },
          "metadata": {}
        }
      ]
    },
    {
      "cell_type": "code",
      "metadata": {
        "id": "ysKKI1ITg9oI"
      },
      "source": [
        "#Tratando outliers no campo de alunos\n",
        "alunos_novo = ies['alunos_deficiencia']\n",
        "Q1 = alunos_novo.quantile(.25)\n",
        "Q3 = alunos_novo.quantile(.75)\n",
        "IIQ = Q3 - Q1\n",
        "limite_inferior = Q1 - 1.5 * IIQ\n",
        "limite_superior = Q3 + 1.5 * IIQ\n",
        "\n",
        "selecao_alunos = (alunos_novo >= limite_inferior) & (alunos_novo <= limite_superior)\n",
        "novo_ies = ies[selecao_alunos]"
      ],
      "execution_count": 230,
      "outputs": []
    },
    {
      "cell_type": "code",
      "metadata": {
        "colab": {
          "base_uri": "https://localhost:8080/",
          "height": 282
        },
        "id": "3XcV3RkJ2gYj",
        "outputId": "fcd42ff1-4028-457c-ef75-92b79be19cff"
      },
      "source": [
        "#Boxplot para visualização pós tratamento de outliers\n",
        "plt.figure(figsize =(7, 4))\n",
        "sns.set_style('darkgrid')\n",
        "grafico_1 = sns.boxplot( y = \"alunos_deficiencia\", data = novo_ies, linewidth=2, palette = \"crest\")\n",
        "plt.title(\"ALUNOS COM DEFICIÊNCIA\", fontsize=14)\n",
        "plt.ylabel('Alunos', fontsize=13)"
      ],
      "execution_count": 231,
      "outputs": [
        {
          "output_type": "execute_result",
          "data": {
            "text/plain": [
              "Text(0, 0.5, 'Alunos')"
            ]
          },
          "metadata": {},
          "execution_count": 231
        },
        {
          "output_type": "display_data",
          "data": {
            "image/png": "[encoded data removed]",
            "text/plain": [
              "<Figure size 504x288 with 1 Axes>"
            ]
          },
          "metadata": {}
        }
      ]
    },
    {
      "cell_type": "markdown",
      "metadata": {
        "id": "d_Bkuj04ji_w"
      },
      "source": [
        "####2.1.2.Recursos"
      ]
    },
    {
      "cell_type": "code",
      "metadata": {
        "colab": {
          "base_uri": "https://localhost:8080/",
          "height": 265
        },
        "id": "o-_7boDvkJ-S",
        "outputId": "688b46fe-d646-4dd2-e62a-fe47233b296a"
      },
      "source": [
        "#Boxplot para visualização de outliers\n",
        "plt.figure(figsize =(7, 4))\n",
        "sns.set_style('darkgrid')\n",
        "grafico_2 = sns.boxplot( y = 'num_recursos_medio', data = ies, linewidth=2, palette = \"crest\")\n",
        "plt.title(\"RECURSOS DE ACESSIBILIDADE\", fontsize=14)\n",
        "plt.ylabel('Recursos', fontsize=13)\n",
        "plt.savefig('outliers_recursos.png', transparent = True)"
      ],
      "execution_count": 232,
      "outputs": [
        {
          "output_type": "display_data",
          "data": {
            "image/png": "[encoded data removed]",
            "text/plain": [
              "<Figure size 504x288 with 1 Axes>"
            ]
          },
          "metadata": {}
        }
      ]
    },
    {
      "cell_type": "markdown",
      "metadata": {
        "id": "W3F7sWy7k5RN"
      },
      "source": [
        "Neste caso, não houve tratamento de outliers, pois não conseguimos visualizá-los pelo boxplot"
      ]
    },
    {
      "cell_type": "markdown",
      "metadata": {
        "id": "tfz4E_B3joiw"
      },
      "source": [
        "####2.1.3.Número de cursos"
      ]
    },
    {
      "cell_type": "code",
      "metadata": {
        "colab": {
          "base_uri": "https://localhost:8080/",
          "height": 265
        },
        "id": "uh50psgrkOhG",
        "outputId": "5ec27198-2641-44e3-9820-1a2048137775"
      },
      "source": [
        "#Boxplot para visualização de outliers\n",
        "plt.figure(figsize =(7, 4))\n",
        "sns.set_style('darkgrid')\n",
        "grafico_3 = sns.boxplot( y = \"num_curso\", data = ies, linewidth=2, palette = \"crest\")\n",
        "plt.title(\"NÚMERO DE CURSOS DA IES\", fontsize=14)\n",
        "plt.ylabel('Cursos', fontsize=13)\n",
        "plt.savefig('outliers_cursos.png', transparent = True)"
      ],
      "execution_count": 233,
      "outputs": [
        {
          "output_type": "display_data",
          "data": {
            "image/png": "[encoded data removed]",
            "text/plain": [
              "<Figure size 504x288 with 1 Axes>"
            ]
          },
          "metadata": {}
        }
      ]
    },
    {
      "cell_type": "code",
      "metadata": {
        "id": "HI-M3L3Y7cBb"
      },
      "source": [
        "#Tratando outliers no campo de receitas\n",
        "num_curso_novo = ies['num_curso']\n",
        "Q1 = num_curso_novo.quantile(.25)\n",
        "Q3 = num_curso_novo.quantile(.75)\n",
        "IIQ = Q3 - Q1\n",
        "limite_inferior = Q1 - 1.5 * IIQ\n",
        "limite_superior = Q3 + 1.5 * IIQ\n",
        "\n",
        "selecao_num_curso = (num_curso_novo >= limite_inferior) & (num_curso_novo <= limite_superior)\n",
        "novo_ies = ies[selecao_num_curso]"
      ],
      "execution_count": 234,
      "outputs": []
    },
    {
      "cell_type": "code",
      "metadata": {
        "id": "VYX0vhXu4sJo",
        "colab": {
          "base_uri": "https://localhost:8080/",
          "height": 265
        },
        "outputId": "da330ab8-7d8a-45a1-cf78-09f702544b95"
      },
      "source": [
        "#Boxplot para visualização após tratamento de outliers\n",
        "plt.figure(figsize =(7, 4))\n",
        "sns.set_style('darkgrid')\n",
        "grafico_3 = sns.boxplot( y = \"num_curso\", data = novo_ies, linewidth=2, palette = \"crest\")\n",
        "plt.title(\"NÚMERO DE CURSOS DA IES\", fontsize=14)\n",
        "plt.ylabel('Cursos', fontsize=13)\n",
        "plt.savefig('posoutliers_cursos.png', transparent = True)"
      ],
      "execution_count": 235,
      "outputs": [
        {
          "output_type": "display_data",
          "data": {
            "image/png": "[encoded data removed]",
            "text/plain": [
              "<Figure size 504x288 with 1 Axes>"
            ]
          },
          "metadata": {}
        }
      ]
    },
    {
      "cell_type": "markdown",
      "metadata": {
        "id": "IfRSlAmujsgE"
      },
      "source": [
        "####2.2.4.Receitas"
      ]
    },
    {
      "cell_type": "code",
      "metadata": {
        "colab": {
          "base_uri": "https://localhost:8080/",
          "height": 265
        },
        "id": "5gnWi5lGkPgN",
        "outputId": "dcfe6479-e8cb-41d2-e2d9-530e370a1326"
      },
      "source": [
        "#Boxplot para visualização de outliers\n",
        "plt.figure(figsize =(7, 4))\n",
        "sns.set_style('darkgrid')\n",
        "grafico_4 = sns.boxplot( y = \"receitas\", data = ies, linewidth=2, palette = \"crest\")\n",
        "plt.title(\"RECEITAS POR IES\", fontsize=14)\n",
        "plt.ylabel('Receita', fontsize=13)\n",
        "plt.savefig('outliers_receitas.png', transparent = True)"
      ],
      "execution_count": 236,
      "outputs": [
        {
          "output_type": "display_data",
          "data": {
            "image/png": "[encoded data removed]",
            "text/plain": [
              "<Figure size 504x288 with 1 Axes>"
            ]
          },
          "metadata": {}
        }
      ]
    },
    {
      "cell_type": "code",
      "metadata": {
        "id": "7hUjijbwkVm_",
        "colab": {
          "base_uri": "https://localhost:8080/",
          "height": 320
        },
        "outputId": "f8f7998a-9f08-4e66-e0d9-a7ddce6540cb"
      },
      "source": [
        "#Tratando outliers no campo de receitas\n",
        "receitas_novo = ies['receitas']\n",
        "Q1 = receitas_novo.quantile(.25)\n",
        "Q3 = receitas_novo.quantile(.75)\n",
        "IIQ = Q3 - Q1\n",
        "limite_inferior = Q1 - 1.5 * IIQ\n",
        "limite_superior = Q3 + 1.5 * IIQ\n",
        "\n",
        "selecao_receitas = (receitas_novo >= limite_inferior) & (receitas_novo <= limite_superior)\n",
        "novo_ies = ies[selecao_receitas]\n",
        "novo_ies.describe()"
      ],
      "execution_count": 237,
      "outputs": [
        {
          "output_type": "execute_result",
          "data": {
            "text/html": [
              "<div>\n",
              "<style scoped>\n",
              "    .dataframe tbody tr th:only-of-type {\n",
              "        vertical-align: middle;\n",
              "    }\n",
              "\n",
              "    .dataframe tbody tr th {\n",
              "        vertical-align: top;\n",
              "    }\n",
              "\n",
              "    .dataframe thead th {\n",
              "        text-align: right;\n",
              "    }\n",
              "</style>\n",
              "<table border=\"1\" class=\"dataframe\">\n",
              "  <thead>\n",
              "    <tr style=\"text-align: right;\">\n",
              "      <th></th>\n",
              "      <th>cod_ies</th>\n",
              "      <th>categoria_administrativa</th>\n",
              "      <th>alunos_deficiencia</th>\n",
              "      <th>num_recursos_medio</th>\n",
              "      <th>num_curso</th>\n",
              "      <th>receitas</th>\n",
              "      <th>despesa_investimento</th>\n",
              "      <th>conceito_medio_graduacao</th>\n",
              "      <th>igc_continuo</th>\n",
              "    </tr>\n",
              "  </thead>\n",
              "  <tbody>\n",
              "    <tr>\n",
              "      <th>count</th>\n",
              "      <td>1263.000000</td>\n",
              "      <td>1263.000000</td>\n",
              "      <td>1263.000000</td>\n",
              "      <td>1263.000000</td>\n",
              "      <td>1263.000000</td>\n",
              "      <td>1.263000e+03</td>\n",
              "      <td>1.263000e+03</td>\n",
              "      <td>1263.000000</td>\n",
              "      <td>1261.000000</td>\n",
              "    </tr>\n",
              "    <tr>\n",
              "      <th>mean</th>\n",
              "      <td>3894.978622</td>\n",
              "      <td>4.114806</td>\n",
              "      <td>30.842439</td>\n",
              "      <td>5.839997</td>\n",
              "      <td>20.121932</td>\n",
              "      <td>1.038622e+08</td>\n",
              "      <td>3.754587e+06</td>\n",
              "      <td>2.626950</td>\n",
              "      <td>2.660775</td>\n",
              "    </tr>\n",
              "    <tr>\n",
              "      <th>std</th>\n",
              "      <td>4896.627901</td>\n",
              "      <td>1.106941</td>\n",
              "      <td>132.258864</td>\n",
              "      <td>3.708410</td>\n",
              "      <td>26.641799</td>\n",
              "      <td>1.623415e+08</td>\n",
              "      <td>8.267849e+06</td>\n",
              "      <td>0.511315</td>\n",
              "      <td>0.532696</td>\n",
              "    </tr>\n",
              "    <tr>\n",
              "      <th>min</th>\n",
              "      <td>2.000000</td>\n",
              "      <td>1.000000</td>\n",
              "      <td>1.000000</td>\n",
              "      <td>0.000000</td>\n",
              "      <td>1.000000</td>\n",
              "      <td>1.000000e-02</td>\n",
              "      <td>0.000000e+00</td>\n",
              "      <td>0.000000</td>\n",
              "      <td>0.797657</td>\n",
              "    </tr>\n",
              "    <tr>\n",
              "      <th>25%</th>\n",
              "      <td>1078.500000</td>\n",
              "      <td>4.000000</td>\n",
              "      <td>2.000000</td>\n",
              "      <td>2.741667</td>\n",
              "      <td>5.000000</td>\n",
              "      <td>5.765061e+06</td>\n",
              "      <td>0.000000e+00</td>\n",
              "      <td>2.301350</td>\n",
              "      <td>2.306535</td>\n",
              "    </tr>\n",
              "    <tr>\n",
              "      <th>50%</th>\n",
              "      <td>1921.000000</td>\n",
              "      <td>4.000000</td>\n",
              "      <td>4.000000</td>\n",
              "      <td>5.680000</td>\n",
              "      <td>11.000000</td>\n",
              "      <td>2.375738e+07</td>\n",
              "      <td>3.396300e+05</td>\n",
              "      <td>2.627094</td>\n",
              "      <td>2.644210</td>\n",
              "    </tr>\n",
              "    <tr>\n",
              "      <th>75%</th>\n",
              "      <td>4025.500000</td>\n",
              "      <td>5.000000</td>\n",
              "      <td>15.000000</td>\n",
              "      <td>9.000000</td>\n",
              "      <td>23.000000</td>\n",
              "      <td>1.255908e+08</td>\n",
              "      <td>3.614441e+06</td>\n",
              "      <td>2.949499</td>\n",
              "      <td>2.979479</td>\n",
              "    </tr>\n",
              "    <tr>\n",
              "      <th>max</th>\n",
              "      <td>23410.000000</td>\n",
              "      <td>7.000000</td>\n",
              "      <td>3333.000000</td>\n",
              "      <td>12.000000</td>\n",
              "      <td>247.000000</td>\n",
              "      <td>6.364278e+08</td>\n",
              "      <td>1.014132e+08</td>\n",
              "      <td>4.302528</td>\n",
              "      <td>4.854888</td>\n",
              "    </tr>\n",
              "  </tbody>\n",
              "</table>\n",
              "</div>"
            ],
            "text/plain": [
              "            cod_ies  ...  igc_continuo\n",
              "count   1263.000000  ...   1261.000000\n",
              "mean    3894.978622  ...      2.660775\n",
              "std     4896.627901  ...      0.532696\n",
              "min        2.000000  ...      0.797657\n",
              "25%     1078.500000  ...      2.306535\n",
              "50%     1921.000000  ...      2.644210\n",
              "75%     4025.500000  ...      2.979479\n",
              "max    23410.000000  ...      4.854888\n",
              "\n",
              "[8 rows x 9 columns]"
            ]
          },
          "metadata": {},
          "execution_count": 237
        }
      ]
    },
    {
      "cell_type": "code",
      "metadata": {
        "colab": {
          "base_uri": "https://localhost:8080/",
          "height": 265
        },
        "id": "woWlO-8WF7O0",
        "outputId": "afea09eb-28d4-4efb-d902-c095e12f03c2"
      },
      "source": [
        "#Boxplot para visualização após tratamento de outliers\n",
        "plt.figure(figsize =(7, 4))\n",
        "sns.set_style('darkgrid')\n",
        "grafico_4 = sns.boxplot( y = \"receitas\", data = novo_ies, linewidth=2, palette = \"crest\")\n",
        "plt.title(\"RECEITAS POR IES\", fontsize=14)\n",
        "plt.ylabel('Receita', fontsize=13)\n",
        "plt.savefig('posoutliers_receitas.png', transparent = True)"
      ],
      "execution_count": 238,
      "outputs": [
        {
          "output_type": "display_data",
          "data": {
            "image/png": "[encoded data removed]",
            "text/plain": [
              "<Figure size 504x288 with 1 Axes>"
            ]
          },
          "metadata": {}
        }
      ]
    },
    {
      "cell_type": "markdown",
      "metadata": {
        "id": "h0iArf9WjweI"
      },
      "source": [
        "####2.2.5.Despesas"
      ]
    },
    {
      "cell_type": "code",
      "metadata": {
        "colab": {
          "base_uri": "https://localhost:8080/",
          "height": 265
        },
        "id": "MFspe-rjkQR0",
        "outputId": "32525c88-382b-4aaa-da30-3baa20c736d5"
      },
      "source": [
        "#Boxplot para visualização de outliers\n",
        "plt.figure(figsize =(7, 4))\n",
        "sns.set_style('darkgrid')\n",
        "grafico_5 = sns.boxplot( y = \"despesa_investimento\", data = ies, linewidth=2, palette = \"crest\")\n",
        "plt.title(\"DESPESAS COM INVESTIMENTOS NAS IES\", fontsize=14)\n",
        "plt.ylabel('Despesas', fontsize=13)\n",
        "plt.savefig('outliers_despesa.png', transparent = True)"
      ],
      "execution_count": 239,
      "outputs": [
        {
          "output_type": "display_data",
          "data": {
            "image/png": "[encoded data removed]",
            "text/plain": [
              "<Figure size 504x288 with 1 Axes>"
            ]
          },
          "metadata": {}
        }
      ]
    },
    {
      "cell_type": "code",
      "metadata": {
        "colab": {
          "base_uri": "https://localhost:8080/",
          "height": 320
        },
        "id": "zCNviO2CkVCX",
        "outputId": "b7761aa7-d1c2-4317-ccb8-7362e693c7de"
      },
      "source": [
        "#Tratando outliers no campo de despesas\n",
        "despesas_novo = ies['despesa_investimento']\n",
        "Q1 = despesas_novo.quantile(.25)\n",
        "Q3 = despesas_novo.quantile(.75)\n",
        "IIQ = Q3 - Q1\n",
        "limite_inferior = Q1 - 1.5 * IIQ\n",
        "limite_superior = Q3 + 1.5 * IIQ\n",
        "\n",
        "selecao_despesas = (despesas_novo >= limite_inferior) & (despesas_novo <= limite_superior)\n",
        "novo_ies = ies[selecao_despesas]\n",
        "novo_ies.describe()"
      ],
      "execution_count": 240,
      "outputs": [
        {
          "output_type": "execute_result",
          "data": {
            "text/html": [
              "<div>\n",
              "<style scoped>\n",
              "    .dataframe tbody tr th:only-of-type {\n",
              "        vertical-align: middle;\n",
              "    }\n",
              "\n",
              "    .dataframe tbody tr th {\n",
              "        vertical-align: top;\n",
              "    }\n",
              "\n",
              "    .dataframe thead th {\n",
              "        text-align: right;\n",
              "    }\n",
              "</style>\n",
              "<table border=\"1\" class=\"dataframe\">\n",
              "  <thead>\n",
              "    <tr style=\"text-align: right;\">\n",
              "      <th></th>\n",
              "      <th>cod_ies</th>\n",
              "      <th>categoria_administrativa</th>\n",
              "      <th>alunos_deficiencia</th>\n",
              "      <th>num_recursos_medio</th>\n",
              "      <th>num_curso</th>\n",
              "      <th>receitas</th>\n",
              "      <th>despesa_investimento</th>\n",
              "      <th>conceito_medio_graduacao</th>\n",
              "      <th>igc_continuo</th>\n",
              "    </tr>\n",
              "  </thead>\n",
              "  <tbody>\n",
              "    <tr>\n",
              "      <th>count</th>\n",
              "      <td>1275.000000</td>\n",
              "      <td>1275.000000</td>\n",
              "      <td>1275.000000</td>\n",
              "      <td>1275.000000</td>\n",
              "      <td>1275.000000</td>\n",
              "      <td>1.275000e+03</td>\n",
              "      <td>1.275000e+03</td>\n",
              "      <td>1275.000000</td>\n",
              "      <td>1273.000000</td>\n",
              "    </tr>\n",
              "    <tr>\n",
              "      <th>mean</th>\n",
              "      <td>3831.170980</td>\n",
              "      <td>4.073725</td>\n",
              "      <td>34.773333</td>\n",
              "      <td>5.820147</td>\n",
              "      <td>21.185098</td>\n",
              "      <td>1.615695e+08</td>\n",
              "      <td>2.776915e+06</td>\n",
              "      <td>2.620820</td>\n",
              "      <td>2.658819</td>\n",
              "    </tr>\n",
              "    <tr>\n",
              "      <th>std</th>\n",
              "      <td>4840.189144</td>\n",
              "      <td>1.135647</td>\n",
              "      <td>141.494095</td>\n",
              "      <td>3.696874</td>\n",
              "      <td>31.859734</td>\n",
              "      <td>3.853994e+08</td>\n",
              "      <td>4.810924e+06</td>\n",
              "      <td>0.506960</td>\n",
              "      <td>0.536298</td>\n",
              "    </tr>\n",
              "    <tr>\n",
              "      <th>min</th>\n",
              "      <td>1.000000</td>\n",
              "      <td>1.000000</td>\n",
              "      <td>1.000000</td>\n",
              "      <td>0.000000</td>\n",
              "      <td>1.000000</td>\n",
              "      <td>1.000000e-02</td>\n",
              "      <td>0.000000e+00</td>\n",
              "      <td>0.000000</td>\n",
              "      <td>0.797657</td>\n",
              "    </tr>\n",
              "    <tr>\n",
              "      <th>25%</th>\n",
              "      <td>1063.500000</td>\n",
              "      <td>4.000000</td>\n",
              "      <td>2.000000</td>\n",
              "      <td>2.750000</td>\n",
              "      <td>5.000000</td>\n",
              "      <td>5.825178e+06</td>\n",
              "      <td>0.000000e+00</td>\n",
              "      <td>2.298781</td>\n",
              "      <td>2.305707</td>\n",
              "    </tr>\n",
              "    <tr>\n",
              "      <th>50%</th>\n",
              "      <td>1907.000000</td>\n",
              "      <td>4.000000</td>\n",
              "      <td>4.000000</td>\n",
              "      <td>5.625000</td>\n",
              "      <td>11.000000</td>\n",
              "      <td>2.480943e+07</td>\n",
              "      <td>3.040221e+05</td>\n",
              "      <td>2.619804</td>\n",
              "      <td>2.640851</td>\n",
              "    </tr>\n",
              "    <tr>\n",
              "      <th>75%</th>\n",
              "      <td>4022.500000</td>\n",
              "      <td>5.000000</td>\n",
              "      <td>15.000000</td>\n",
              "      <td>9.000000</td>\n",
              "      <td>23.000000</td>\n",
              "      <td>1.492101e+08</td>\n",
              "      <td>3.158863e+06</td>\n",
              "      <td>2.939377</td>\n",
              "      <td>2.973196</td>\n",
              "    </tr>\n",
              "    <tr>\n",
              "      <th>max</th>\n",
              "      <td>23410.000000</td>\n",
              "      <td>7.000000</td>\n",
              "      <td>3333.000000</td>\n",
              "      <td>12.000000</td>\n",
              "      <td>563.000000</td>\n",
              "      <td>3.610593e+09</td>\n",
              "      <td>1.782462e+07</td>\n",
              "      <td>4.302528</td>\n",
              "      <td>4.854888</td>\n",
              "    </tr>\n",
              "  </tbody>\n",
              "</table>\n",
              "</div>"
            ],
            "text/plain": [
              "            cod_ies  ...  igc_continuo\n",
              "count   1275.000000  ...   1273.000000\n",
              "mean    3831.170980  ...      2.658819\n",
              "std     4840.189144  ...      0.536298\n",
              "min        1.000000  ...      0.797657\n",
              "25%     1063.500000  ...      2.305707\n",
              "50%     1907.000000  ...      2.640851\n",
              "75%     4022.500000  ...      2.973196\n",
              "max    23410.000000  ...      4.854888\n",
              "\n",
              "[8 rows x 9 columns]"
            ]
          },
          "metadata": {},
          "execution_count": 240
        }
      ]
    },
    {
      "cell_type": "code",
      "metadata": {
        "colab": {
          "base_uri": "https://localhost:8080/",
          "height": 265
        },
        "id": "H_3FPLfYGcE-",
        "outputId": "3ecfda34-b8d6-463e-d0ea-2c7641a6f40b"
      },
      "source": [
        "#Boxplot para visualização após tratamento de outliers\n",
        "plt.figure(figsize =(7, 4))\n",
        "sns.set_style('darkgrid')\n",
        "grafico_5 = sns.boxplot( y = \"despesa_investimento\", data = novo_ies, linewidth=2, palette = \"crest\")\n",
        "plt.title(\"DESPESAS COM INVESTIMENTOS NAS IES\", fontsize=14)\n",
        "plt.ylabel('Despesas', fontsize=13)\n",
        "plt.savefig('posoutliers_despesa.png', transparent = True)"
      ],
      "execution_count": 241,
      "outputs": [
        {
          "output_type": "display_data",
          "data": {
            "image/png": "[encoded data removed]",
            "text/plain": [
              "<Figure size 504x288 with 1 Axes>"
            ]
          },
          "metadata": {}
        }
      ]
    },
    {
      "cell_type": "markdown",
      "metadata": {
        "id": "VKd-_8N7j5Jm"
      },
      "source": [
        "####2.2.6.IGC"
      ]
    },
    {
      "cell_type": "code",
      "metadata": {
        "colab": {
          "base_uri": "https://localhost:8080/",
          "height": 302
        },
        "id": "PGPmy1pTmTRN",
        "outputId": "1159b5b1-c506-4ba4-bf7a-5894037643f3"
      },
      "source": [
        "#Visualizando os outliers dos índices de qualidade das IES\n",
        "plt.figure(figsize =(7, 4))\n",
        "sns.set_style('darkgrid')\n",
        "avaliacao = pd.DataFrame(data = np.random.random(size=(5,2)), columns = ['conceito_medio_graduacao','igc_continuo'])\n",
        "sns.boxplot(x=\"variable\", y=\"value\", data=pd.melt(avaliacao), palette=\"crest\")\n",
        "plt.title(\"AVALIAÇÃO DAS IES\", loc=\"center\", fontsize=14)\n",
        "plt.xlabel('Índices de Qualidade', fontsize=13)\n",
        "plt.ylabel('Valor')\n",
        "plt.savefig('outliers_avaliacao.png', transparent = True)"
      ],
      "execution_count": 242,
      "outputs": [
        {
          "output_type": "display_data",
          "data": {
            "image/png": "[encoded data removed]",
            "text/plain": [
              "<Figure size 504x288 with 1 Axes>"
            ]
          },
          "metadata": {}
        }
      ]
    },
    {
      "cell_type": "markdown",
      "metadata": {
        "id": "5wJ5QpR-nKNB"
      },
      "source": [
        "Como o boxplot não mostra a existência de outliers, não será necessário fazer nenhum tratamento referente ao assunto."
      ]
    },
    {
      "cell_type": "markdown",
      "metadata": {
        "id": "0jmA8Uf7ciZy"
      },
      "source": [
        "###2.2.Normalização"
      ]
    },
    {
      "cell_type": "code",
      "metadata": {
        "id": "os1hIFHig-w9",
        "colab": {
          "base_uri": "https://localhost:8080/"
        },
        "outputId": "1f04503f-8afe-46e6-81bd-fc3942959f38"
      },
      "source": [
        "#Colunas para normalizar\n",
        "features_to_normalize = ['alunos_deficiencia','num_recursos_medio', 'num_curso', 'receitas','despesa_investimento', 'conceito_medio_graduacao', 'igc_continuo']\n",
        "\n",
        "novo_ies[features_to_normalize] = novo_ies[features_to_normalize].apply(lambda x:(x-x.min()) / (x.max()-x.min()))"
      ],
      "execution_count": 243,
      "outputs": [
        {
          "output_type": "stream",
          "name": "stderr",
          "text": [
            "/usr/local/lib/python3.7/dist-packages/pandas/core/frame.py:3069: SettingWithCopyWarning:\n",
            "\n",
            "\n",
            "A value is trying to be set on a copy of a slice from a DataFrame.\n",
            "Try using .loc[row_indexer,col_indexer] = value instead\n",
            "\n",
            "See the caveats in the documentation: https://pandas.pydata.org/pandas-docs/stable/user_guide/indexing.html#returning-a-view-versus-a-copy\n",
            "\n"
          ]
        }
      ]
    },
    {
      "cell_type": "code",
      "metadata": {
        "colab": {
          "base_uri": "https://localhost:8080/",
          "height": 226
        },
        "id": "OsIPjzh9nrYy",
        "outputId": "42cb8d91-6bc5-408f-afa7-5ea2472140e8"
      },
      "source": [
        "#Dataframe normalizado\n",
        "df_ies = novo_ies\n",
        "df_ies.head()"
      ],
      "execution_count": 250,
      "outputs": [
        {
          "output_type": "execute_result",
          "data": {
            "text/html": [
              "<div>\n",
              "<style scoped>\n",
              "    .dataframe tbody tr th:only-of-type {\n",
              "        vertical-align: middle;\n",
              "    }\n",
              "\n",
              "    .dataframe tbody tr th {\n",
              "        vertical-align: top;\n",
              "    }\n",
              "\n",
              "    .dataframe thead th {\n",
              "        text-align: right;\n",
              "    }\n",
              "</style>\n",
              "<table border=\"1\" class=\"dataframe\">\n",
              "  <thead>\n",
              "    <tr style=\"text-align: right;\">\n",
              "      <th></th>\n",
              "      <th>cod_ies</th>\n",
              "      <th>categoria_administrativa</th>\n",
              "      <th>alunos_deficiencia</th>\n",
              "      <th>num_recursos_medio</th>\n",
              "      <th>num_curso</th>\n",
              "      <th>receitas</th>\n",
              "      <th>despesa_investimento</th>\n",
              "      <th>conceito_medio_graduacao</th>\n",
              "      <th>igc_continuo</th>\n",
              "    </tr>\n",
              "  </thead>\n",
              "  <tbody>\n",
              "    <tr>\n",
              "      <th>0</th>\n",
              "      <td>1</td>\n",
              "      <td>1</td>\n",
              "      <td>0.100840</td>\n",
              "      <td>0.119883</td>\n",
              "      <td>0.201068</td>\n",
              "      <td>0.256770</td>\n",
              "      <td>0.538941</td>\n",
              "      <td>0.679824</td>\n",
              "      <td>0.601115</td>\n",
              "    </tr>\n",
              "    <tr>\n",
              "      <th>2</th>\n",
              "      <td>3</td>\n",
              "      <td>1</td>\n",
              "      <td>0.134454</td>\n",
              "      <td>0.234914</td>\n",
              "      <td>0.204626</td>\n",
              "      <td>0.261931</td>\n",
              "      <td>0.460731</td>\n",
              "      <td>0.721785</td>\n",
              "      <td>0.633421</td>\n",
              "    </tr>\n",
              "    <tr>\n",
              "      <th>3</th>\n",
              "      <td>4</td>\n",
              "      <td>1</td>\n",
              "      <td>0.071429</td>\n",
              "      <td>0.081776</td>\n",
              "      <td>0.188612</td>\n",
              "      <td>0.296527</td>\n",
              "      <td>0.711165</td>\n",
              "      <td>0.655859</td>\n",
              "      <td>0.554696</td>\n",
              "    </tr>\n",
              "    <tr>\n",
              "      <th>4</th>\n",
              "      <td>5</td>\n",
              "      <td>1</td>\n",
              "      <td>0.133253</td>\n",
              "      <td>0.828333</td>\n",
              "      <td>0.176157</td>\n",
              "      <td>0.237067</td>\n",
              "      <td>0.439602</td>\n",
              "      <td>0.630625</td>\n",
              "      <td>0.533122</td>\n",
              "    </tr>\n",
              "    <tr>\n",
              "      <th>5</th>\n",
              "      <td>6</td>\n",
              "      <td>1</td>\n",
              "      <td>0.039916</td>\n",
              "      <td>0.919697</td>\n",
              "      <td>0.096085</td>\n",
              "      <td>0.148337</td>\n",
              "      <td>0.004115</td>\n",
              "      <td>0.749051</td>\n",
              "      <td>0.668392</td>\n",
              "    </tr>\n",
              "  </tbody>\n",
              "</table>\n",
              "</div>"
            ],
            "text/plain": [
              "   cod_ies  categoria_administrativa  ...  conceito_medio_graduacao  igc_continuo\n",
              "0        1                         1  ...                  0.679824      0.601115\n",
              "2        3                         1  ...                  0.721785      0.633421\n",
              "3        4                         1  ...                  0.655859      0.554696\n",
              "4        5                         1  ...                  0.630625      0.533122\n",
              "5        6                         1  ...                  0.749051      0.668392\n",
              "\n",
              "[5 rows x 9 columns]"
            ]
          },
          "metadata": {},
          "execution_count": 250
        }
      ]
    },
    {
      "cell_type": "markdown",
      "metadata": {
        "id": "lS6qY6wAco7M"
      },
      "source": [
        "###2.3.Matriz de Correlação"
      ]
    },
    {
      "cell_type": "code",
      "metadata": {
        "colab": {
          "base_uri": "https://localhost:8080/",
          "height": 451
        },
        "id": "ldntnc2KoHKY",
        "outputId": "f877913f-5781-4fc8-898d-e38a1e2d3e10"
      },
      "source": [
        "plt.figure(figsize =(15, 6))\n",
        "sns.heatmap(df_ies.corr(), vmin = -1, vmax = +1, annot = True, cmap = 'crest')\n",
        "plt.tick_params(axis='x', rotation=25)\n",
        "plt.title(\"MATRIZ DE CORRELAÇÃO\", fontsize=14)\n",
        "plt.savefig('matriz_correlacao.png', transparent = True)"
      ],
      "execution_count": 251,
      "outputs": [
        {
          "output_type": "display_data",
          "data": {
            "image/png": "[encoded data removed]",
            "text/plain": [
              "<Figure size 1080x432 with 2 Axes>"
            ]
          },
          "metadata": {}
        }
      ]
    },
    {
      "cell_type": "markdown",
      "metadata": {
        "id": "KM9G5Sa-opyD"
      },
      "source": [
        "Como as variáveis \"conceito médio da graduação\" e \"igc contínuo\" possuem uma forte correlaçao, vamos retirar uma delas para usarmos no nosso modelo"
      ]
    },
    {
      "cell_type": "markdown",
      "metadata": {
        "id": "4mGwFARQJ0M2"
      },
      "source": [
        "##3.Clustering"
      ]
    },
    {
      "cell_type": "markdown",
      "metadata": {
        "id": "wdwh44mpzK9-"
      },
      "source": [
        "###3.1.Método da Silhueta\n",
        "#####Código de: MIT © Etzion Harari"
      ]
    },
    {
      "cell_type": "code",
      "source": [
        "df_ies.head()"
      ],
      "metadata": {
        "id": "h1MiOj3xskL0",
        "outputId": "dc64797c-8f4d-4315-be77-d79a0414bdd3",
        "colab": {
          "base_uri": "https://localhost:8080/",
          "height": 226
        }
      },
      "execution_count": 261,
      "outputs": [
        {
          "output_type": "execute_result",
          "data": {
            "text/html": [
              "<div>\n",
              "<style scoped>\n",
              "    .dataframe tbody tr th:only-of-type {\n",
              "        vertical-align: middle;\n",
              "    }\n",
              "\n",
              "    .dataframe tbody tr th {\n",
              "        vertical-align: top;\n",
              "    }\n",
              "\n",
              "    .dataframe thead th {\n",
              "        text-align: right;\n",
              "    }\n",
              "</style>\n",
              "<table border=\"1\" class=\"dataframe\">\n",
              "  <thead>\n",
              "    <tr style=\"text-align: right;\">\n",
              "      <th></th>\n",
              "      <th>cod_ies</th>\n",
              "      <th>categoria_administrativa</th>\n",
              "      <th>alunos_deficiencia</th>\n",
              "      <th>num_recursos_medio</th>\n",
              "      <th>num_curso</th>\n",
              "      <th>receitas</th>\n",
              "      <th>despesa_investimento</th>\n",
              "      <th>conceito_medio_graduacao</th>\n",
              "      <th>igc_continuo</th>\n",
              "    </tr>\n",
              "  </thead>\n",
              "  <tbody>\n",
              "    <tr>\n",
              "      <th>0</th>\n",
              "      <td>1</td>\n",
              "      <td>1</td>\n",
              "      <td>0.100840</td>\n",
              "      <td>0.119883</td>\n",
              "      <td>0.201068</td>\n",
              "      <td>0.256770</td>\n",
              "      <td>0.538941</td>\n",
              "      <td>0.679824</td>\n",
              "      <td>0.601115</td>\n",
              "    </tr>\n",
              "    <tr>\n",
              "      <th>2</th>\n",
              "      <td>3</td>\n",
              "      <td>1</td>\n",
              "      <td>0.134454</td>\n",
              "      <td>0.234914</td>\n",
              "      <td>0.204626</td>\n",
              "      <td>0.261931</td>\n",
              "      <td>0.460731</td>\n",
              "      <td>0.721785</td>\n",
              "      <td>0.633421</td>\n",
              "    </tr>\n",
              "    <tr>\n",
              "      <th>3</th>\n",
              "      <td>4</td>\n",
              "      <td>1</td>\n",
              "      <td>0.071429</td>\n",
              "      <td>0.081776</td>\n",
              "      <td>0.188612</td>\n",
              "      <td>0.296527</td>\n",
              "      <td>0.711165</td>\n",
              "      <td>0.655859</td>\n",
              "      <td>0.554696</td>\n",
              "    </tr>\n",
              "    <tr>\n",
              "      <th>4</th>\n",
              "      <td>5</td>\n",
              "      <td>1</td>\n",
              "      <td>0.133253</td>\n",
              "      <td>0.828333</td>\n",
              "      <td>0.176157</td>\n",
              "      <td>0.237067</td>\n",
              "      <td>0.439602</td>\n",
              "      <td>0.630625</td>\n",
              "      <td>0.533122</td>\n",
              "    </tr>\n",
              "    <tr>\n",
              "      <th>5</th>\n",
              "      <td>6</td>\n",
              "      <td>1</td>\n",
              "      <td>0.039916</td>\n",
              "      <td>0.919697</td>\n",
              "      <td>0.096085</td>\n",
              "      <td>0.148337</td>\n",
              "      <td>0.004115</td>\n",
              "      <td>0.749051</td>\n",
              "      <td>0.668392</td>\n",
              "    </tr>\n",
              "  </tbody>\n",
              "</table>\n",
              "</div>"
            ],
            "text/plain": [
              "   cod_ies  categoria_administrativa  ...  conceito_medio_graduacao  igc_continuo\n",
              "0        1                         1  ...                  0.679824      0.601115\n",
              "2        3                         1  ...                  0.721785      0.633421\n",
              "3        4                         1  ...                  0.655859      0.554696\n",
              "4        5                         1  ...                  0.630625      0.533122\n",
              "5        6                         1  ...                  0.749051      0.668392\n",
              "\n",
              "[5 rows x 9 columns]"
            ]
          },
          "metadata": {},
          "execution_count": 261
        }
      ]
    },
    {
      "cell_type": "code",
      "source": [
        "df_ies[['alunos_deficiencia','num_recursos_medio','num_curso','receitas','despesa_investimento','conceito_medio_graduacao']]"
      ],
      "metadata": {
        "id": "8CjvX7JbsQ1F",
        "outputId": "48f43c86-6a4e-44ac-8c2e-cca497871c37",
        "colab": {
          "base_uri": "https://localhost:8080/",
          "height": 424
        }
      },
      "execution_count": 263,
      "outputs": [
        {
          "output_type": "execute_result",
          "data": {
            "text/html": [
              "<div>\n",
              "<style scoped>\n",
              "    .dataframe tbody tr th:only-of-type {\n",
              "        vertical-align: middle;\n",
              "    }\n",
              "\n",
              "    .dataframe tbody tr th {\n",
              "        vertical-align: top;\n",
              "    }\n",
              "\n",
              "    .dataframe thead th {\n",
              "        text-align: right;\n",
              "    }\n",
              "</style>\n",
              "<table border=\"1\" class=\"dataframe\">\n",
              "  <thead>\n",
              "    <tr style=\"text-align: right;\">\n",
              "      <th></th>\n",
              "      <th>alunos_deficiencia</th>\n",
              "      <th>num_recursos_medio</th>\n",
              "      <th>num_curso</th>\n",
              "      <th>receitas</th>\n",
              "      <th>despesa_investimento</th>\n",
              "      <th>conceito_medio_graduacao</th>\n",
              "    </tr>\n",
              "  </thead>\n",
              "  <tbody>\n",
              "    <tr>\n",
              "      <th>0</th>\n",
              "      <td>0.100840</td>\n",
              "      <td>0.119883</td>\n",
              "      <td>0.201068</td>\n",
              "      <td>0.256770</td>\n",
              "      <td>0.538941</td>\n",
              "      <td>0.679824</td>\n",
              "    </tr>\n",
              "    <tr>\n",
              "      <th>2</th>\n",
              "      <td>0.134454</td>\n",
              "      <td>0.234914</td>\n",
              "      <td>0.204626</td>\n",
              "      <td>0.261931</td>\n",
              "      <td>0.460731</td>\n",
              "      <td>0.721785</td>\n",
              "    </tr>\n",
              "    <tr>\n",
              "      <th>3</th>\n",
              "      <td>0.071429</td>\n",
              "      <td>0.081776</td>\n",
              "      <td>0.188612</td>\n",
              "      <td>0.296527</td>\n",
              "      <td>0.711165</td>\n",
              "      <td>0.655859</td>\n",
              "    </tr>\n",
              "    <tr>\n",
              "      <th>4</th>\n",
              "      <td>0.133253</td>\n",
              "      <td>0.828333</td>\n",
              "      <td>0.176157</td>\n",
              "      <td>0.237067</td>\n",
              "      <td>0.439602</td>\n",
              "      <td>0.630625</td>\n",
              "    </tr>\n",
              "    <tr>\n",
              "      <th>5</th>\n",
              "      <td>0.039916</td>\n",
              "      <td>0.919697</td>\n",
              "      <td>0.096085</td>\n",
              "      <td>0.148337</td>\n",
              "      <td>0.004115</td>\n",
              "      <td>0.749051</td>\n",
              "    </tr>\n",
              "    <tr>\n",
              "      <th>...</th>\n",
              "      <td>...</td>\n",
              "      <td>...</td>\n",
              "      <td>...</td>\n",
              "      <td>...</td>\n",
              "      <td>...</td>\n",
              "      <td>...</td>\n",
              "    </tr>\n",
              "    <tr>\n",
              "      <th>1438</th>\n",
              "      <td>0.000000</td>\n",
              "      <td>0.541667</td>\n",
              "      <td>0.005338</td>\n",
              "      <td>0.000219</td>\n",
              "      <td>0.000000</td>\n",
              "      <td>0.422483</td>\n",
              "    </tr>\n",
              "    <tr>\n",
              "      <th>1439</th>\n",
              "      <td>0.000000</td>\n",
              "      <td>1.000000</td>\n",
              "      <td>0.000000</td>\n",
              "      <td>0.174452</td>\n",
              "      <td>0.989925</td>\n",
              "      <td>0.659068</td>\n",
              "    </tr>\n",
              "    <tr>\n",
              "      <th>1440</th>\n",
              "      <td>0.000300</td>\n",
              "      <td>0.208333</td>\n",
              "      <td>0.001779</td>\n",
              "      <td>0.174452</td>\n",
              "      <td>0.989925</td>\n",
              "      <td>0.584002</td>\n",
              "    </tr>\n",
              "    <tr>\n",
              "      <th>1441</th>\n",
              "      <td>0.000000</td>\n",
              "      <td>0.611111</td>\n",
              "      <td>0.003559</td>\n",
              "      <td>0.000328</td>\n",
              "      <td>0.000000</td>\n",
              "      <td>0.532919</td>\n",
              "    </tr>\n",
              "    <tr>\n",
              "      <th>1442</th>\n",
              "      <td>0.000900</td>\n",
              "      <td>0.285088</td>\n",
              "      <td>0.032028</td>\n",
              "      <td>0.011275</td>\n",
              "      <td>0.279700</td>\n",
              "      <td>0.359001</td>\n",
              "    </tr>\n",
              "  </tbody>\n",
              "</table>\n",
              "<p>1275 rows × 6 columns</p>\n",
              "</div>"
            ],
            "text/plain": [
              "      alunos_deficiencia  ...  conceito_medio_graduacao\n",
              "0               0.100840  ...                  0.679824\n",
              "2               0.134454  ...                  0.721785\n",
              "3               0.071429  ...                  0.655859\n",
              "4               0.133253  ...                  0.630625\n",
              "5               0.039916  ...                  0.749051\n",
              "...                  ...  ...                       ...\n",
              "1438            0.000000  ...                  0.422483\n",
              "1439            0.000000  ...                  0.659068\n",
              "1440            0.000300  ...                  0.584002\n",
              "1441            0.000000  ...                  0.532919\n",
              "1442            0.000900  ...                  0.359001\n",
              "\n",
              "[1275 rows x 6 columns]"
            ]
          },
          "metadata": {},
          "execution_count": 263
        }
      ]
    },
    {
      "cell_type": "code",
      "source": [
        "#df_ies.loc[2].isna()"
      ],
      "metadata": {
        "id": "iEzNAF8irt8K"
      },
      "execution_count": 268,
      "outputs": []
    },
    {
      "cell_type": "code",
      "metadata": {
        "id": "bdzI_w2t6Z4_"
      },
      "source": [
        "faixa_n_clusters = [i for i in range(2,10)]\n",
        "valores_silhueta = []\n",
        "for k in faixa_n_clusters:\n",
        "    agrupador = KMeans(n_clusters=k, random_state=10) #random state para inicializar sempre no mesmo local\n",
        "    labels = agrupador.fit_predict(df_ies[['alunos_deficiencia','num_recursos_medio','num_curso','receitas','despesa_investimento','conceito_medio_graduacao']])\n",
        "    media_silhueta = silhouette_score(df_ies[['alunos_deficiencia','num_recursos_medio','num_curso','receitas','despesa_investimento','conceito_medio_graduacao']], labels)\n",
        "    valores_silhueta.append(media_silhueta)"
      ],
      "execution_count": 265,
      "outputs": []
    },
    {
      "cell_type": "markdown",
      "metadata": {
        "id": "wIhOavy1Eq23"
      },
      "source": [
        ""
      ]
    },
    {
      "cell_type": "code",
      "metadata": {
        "colab": {
          "base_uri": "https://localhost:8080/"
        },
        "id": "hBxHmPSBID3i",
        "outputId": "0c38bb1a-4afc-4abc-fd64-daf835916c14"
      },
      "source": [
        "valores_silhueta"
      ],
      "execution_count": 266,
      "outputs": [
        {
          "output_type": "execute_result",
          "data": {
            "text/plain": [
              "[0.3714146545761341,\n",
              " 0.4364874639334774,\n",
              " 0.34129036424558634,\n",
              " 0.35247138282643775,\n",
              " 0.3606007128780921,\n",
              " 0.3659461227184312,\n",
              " 0.30682156275283595,\n",
              " 0.308924984138032]"
            ]
          },
          "metadata": {},
          "execution_count": 266
        }
      ]
    },
    {
      "cell_type": "code",
      "metadata": {
        "colab": {
          "base_uri": "https://localhost:8080/",
          "height": 299
        },
        "id": "E_JcX_FRIL9_",
        "outputId": "6fc08f61-20bf-4e24-d080-f68259c89f8e"
      },
      "source": [
        "plt.figure(figsize =(7, 4))\n",
        "sns.lineplot(x=faixa_n_clusters, y=valores_silhueta, palette='crest')\n",
        "sns.set_style('darkgrid')\n",
        "plt.title(\"COEFICIENTE DE SILHUETA\", fontsize=14)\n",
        "plt.xlabel('Valores de ‘k’', fontsize=13)\n",
        "plt.ylabel('Coeficiente de Silhueta', fontsize=13)\n",
        "plt.savefig('coeficiente_silhueta.png', transparent = True)"
      ],
      "execution_count": 267,
      "outputs": [
        {
          "output_type": "display_data",
          "data": {
            "image/png": "[encoded data removed]",
            "text/plain": [
              "<Figure size 504x288 with 1 Axes>"
            ]
          },
          "metadata": {}
        }
      ]
    },
    {
      "cell_type": "markdown",
      "metadata": {
        "id": "yAXvsgQSdFVL"
      },
      "source": [
        "###3.2.K-Means"
      ]
    },
    {
      "cell_type": "code",
      "metadata": {
        "colab": {
          "base_uri": "https://localhost:8080/",
          "height": 226
        },
        "id": "WaeIJwRkAFMI",
        "outputId": "3c7e5922-1e87-4dfb-d16f-2653a86f1671"
      },
      "source": [
        "#Dados para o clustering\n",
        "df_ies.head()"
      ],
      "execution_count": 269,
      "outputs": [
        {
          "output_type": "execute_result",
          "data": {
            "text/html": [
              "<div>\n",
              "<style scoped>\n",
              "    .dataframe tbody tr th:only-of-type {\n",
              "        vertical-align: middle;\n",
              "    }\n",
              "\n",
              "    .dataframe tbody tr th {\n",
              "        vertical-align: top;\n",
              "    }\n",
              "\n",
              "    .dataframe thead th {\n",
              "        text-align: right;\n",
              "    }\n",
              "</style>\n",
              "<table border=\"1\" class=\"dataframe\">\n",
              "  <thead>\n",
              "    <tr style=\"text-align: right;\">\n",
              "      <th></th>\n",
              "      <th>cod_ies</th>\n",
              "      <th>categoria_administrativa</th>\n",
              "      <th>alunos_deficiencia</th>\n",
              "      <th>num_recursos_medio</th>\n",
              "      <th>num_curso</th>\n",
              "      <th>receitas</th>\n",
              "      <th>despesa_investimento</th>\n",
              "      <th>conceito_medio_graduacao</th>\n",
              "      <th>igc_continuo</th>\n",
              "    </tr>\n",
              "  </thead>\n",
              "  <tbody>\n",
              "    <tr>\n",
              "      <th>0</th>\n",
              "      <td>1</td>\n",
              "      <td>1</td>\n",
              "      <td>0.100840</td>\n",
              "      <td>0.119883</td>\n",
              "      <td>0.201068</td>\n",
              "      <td>0.256770</td>\n",
              "      <td>0.538941</td>\n",
              "      <td>0.679824</td>\n",
              "      <td>0.601115</td>\n",
              "    </tr>\n",
              "    <tr>\n",
              "      <th>2</th>\n",
              "      <td>3</td>\n",
              "      <td>1</td>\n",
              "      <td>0.134454</td>\n",
              "      <td>0.234914</td>\n",
              "      <td>0.204626</td>\n",
              "      <td>0.261931</td>\n",
              "      <td>0.460731</td>\n",
              "      <td>0.721785</td>\n",
              "      <td>0.633421</td>\n",
              "    </tr>\n",
              "    <tr>\n",
              "      <th>3</th>\n",
              "      <td>4</td>\n",
              "      <td>1</td>\n",
              "      <td>0.071429</td>\n",
              "      <td>0.081776</td>\n",
              "      <td>0.188612</td>\n",
              "      <td>0.296527</td>\n",
              "      <td>0.711165</td>\n",
              "      <td>0.655859</td>\n",
              "      <td>0.554696</td>\n",
              "    </tr>\n",
              "    <tr>\n",
              "      <th>4</th>\n",
              "      <td>5</td>\n",
              "      <td>1</td>\n",
              "      <td>0.133253</td>\n",
              "      <td>0.828333</td>\n",
              "      <td>0.176157</td>\n",
              "      <td>0.237067</td>\n",
              "      <td>0.439602</td>\n",
              "      <td>0.630625</td>\n",
              "      <td>0.533122</td>\n",
              "    </tr>\n",
              "    <tr>\n",
              "      <th>5</th>\n",
              "      <td>6</td>\n",
              "      <td>1</td>\n",
              "      <td>0.039916</td>\n",
              "      <td>0.919697</td>\n",
              "      <td>0.096085</td>\n",
              "      <td>0.148337</td>\n",
              "      <td>0.004115</td>\n",
              "      <td>0.749051</td>\n",
              "      <td>0.668392</td>\n",
              "    </tr>\n",
              "  </tbody>\n",
              "</table>\n",
              "</div>"
            ],
            "text/plain": [
              "   cod_ies  categoria_administrativa  ...  conceito_medio_graduacao  igc_continuo\n",
              "0        1                         1  ...                  0.679824      0.601115\n",
              "2        3                         1  ...                  0.721785      0.633421\n",
              "3        4                         1  ...                  0.655859      0.554696\n",
              "4        5                         1  ...                  0.630625      0.533122\n",
              "5        6                         1  ...                  0.749051      0.668392\n",
              "\n",
              "[5 rows x 9 columns]"
            ]
          },
          "metadata": {},
          "execution_count": 269
        }
      ]
    },
    {
      "cell_type": "markdown",
      "metadata": {
        "id": "g8ExoE-vAlAe"
      },
      "source": [
        "Vamos adotar o número de 3 clusters, pois foi o teve o melhor escore no método da silhueta"
      ]
    },
    {
      "cell_type": "markdown",
      "metadata": {
        "id": "aXfiTpa9LOqT"
      },
      "source": [
        "###3.2.1 Recursos de Acessibilidade x Conceito Médio da Graduação"
      ]
    },
    {
      "cell_type": "code",
      "metadata": {
        "colab": {
          "base_uri": "https://localhost:8080/"
        },
        "id": "xePZva0K_ysx",
        "outputId": "2599ab42-75ea-4663-efb3-3b650cfc1a87"
      },
      "source": [
        "#Inicializando e Computando o KMeans com o valor de 3 clusters:\n",
        "X1 = df_ies[['num_recursos_medio', 'conceito_medio_graduacao']].iloc[: , :].values\n",
        "algorithm = (KMeans(n_clusters = 3))\n",
        "algorithm.fit(X1)"
      ],
      "execution_count": 270,
      "outputs": [
        {
          "output_type": "execute_result",
          "data": {
            "text/plain": [
              "KMeans(n_clusters=3)"
            ]
          },
          "metadata": {},
          "execution_count": 270
        }
      ]
    },
    {
      "cell_type": "code",
      "metadata": {
        "colab": {
          "base_uri": "https://localhost:8080/",
          "height": 459
        },
        "id": "1SNpGR0k1xAQ",
        "outputId": "3e5f04cf-bd3e-45b7-bf7b-e803658f1dff"
      },
      "source": [
        "#Visualizando os grupos criados e seus centroides:\n",
        "labels2 = algorithm.labels_\n",
        "centroids2 = algorithm.cluster_centers_\n",
        "\n",
        "h = 0.02\n",
        "x_min, x_max = X1[:, 0].min() - 1, X1[:, 0].max() + 1\n",
        "y_min, y_max = X1[:, 1].min() - 1, X1[:, 1].max() + 1\n",
        "xx, yy = np.meshgrid(np.arange(x_min, x_max, h), np.arange(y_min, y_max, h))\n",
        "Z = algorithm.predict(np.c_[xx.ravel(), yy.ravel()]) \n",
        "\n",
        "plt.figure(1 , figsize = (7,7) )\n",
        "plt.clf()\n",
        "Z2 = Z.reshape(xx.shape)\n",
        "cmap = sns.color_palette(\"crest\", as_cmap=True)\n",
        "plt.imshow(Z2, extent=(xx.min(), xx.max(), yy.min(), yy.max()), cmap = cmap, alpha=0.2)\n",
        "plt.scatter(x = 'num_recursos_medio', y = 'conceito_medio_graduacao', data = df_ies , c = labels2 , s = 25, cmap='crest')\n",
        "plt.scatter(x = centroids2[: , 0] , y =  centroids2[: , 1] , s = 50 , c = 'yellow' , alpha = 1)\n",
        "plt.xlim(-0.2,1.2), plt.ylim(-0.2,1.2)\n",
        "plt.title(\"CLUSTER 1\", fontsize=14)\n",
        "plt.ylabel('Conceito Médio da Graduação') , plt.xlabel('Recursos de Acessibilidade')\n",
        "plt.savefig('k-means1.png', transparent = True)"
      ],
      "execution_count": 271,
      "outputs": [
        {
          "output_type": "display_data",
          "data": {
            "image/png": "[encoded data removed]",
            "text/plain": [
              "<Figure size 504x504 with 1 Axes>"
            ]
          },
          "metadata": {}
        }
      ]
    },
    {
      "cell_type": "markdown",
      "metadata": {
        "id": "62B_-5OZLnkt"
      },
      "source": [
        "###3.2.2 Alunos com Deficiência x Conceito Médio da Graduação"
      ]
    },
    {
      "cell_type": "code",
      "metadata": {
        "colab": {
          "base_uri": "https://localhost:8080/"
        },
        "id": "Gm36SPpILv-_",
        "outputId": "b57409c9-8da2-47db-b8f8-a73326c262f6"
      },
      "source": [
        "#Inicializando e Computando o KMeans com o valor de 3 clusters:\n",
        "X2 = df_ies[['conceito_medio_graduacao', 'alunos_deficiencia']].iloc[: , :].values\n",
        "algorithm = (KMeans(n_clusters = 3))\n",
        "algorithm.fit(X2)"
      ],
      "execution_count": 272,
      "outputs": [
        {
          "output_type": "execute_result",
          "data": {
            "text/plain": [
              "KMeans(n_clusters=3)"
            ]
          },
          "metadata": {},
          "execution_count": 272
        }
      ]
    },
    {
      "cell_type": "code",
      "metadata": {
        "colab": {
          "base_uri": "https://localhost:8080/",
          "height": 462
        },
        "id": "tC_6_dcmJuRp",
        "outputId": "c99b482c-fd69-4cdc-aabf-9318f2718e1f"
      },
      "source": [
        "#Visualizando os grupos criados e seus centroides:\n",
        "labels2 = algorithm.labels_\n",
        "centroids2 = algorithm.cluster_centers_\n",
        "\n",
        "h = 0.02\n",
        "x_min, x_max = X2[:, 0].min() - 1, X2[:, 0].max() + 1\n",
        "y_min, y_max = X2[:, 1].min() - 1, X2[:, 1].max() + 1\n",
        "xx, yy = np.meshgrid(np.arange(x_min, x_max, h), np.arange(y_min, y_max, h))\n",
        "Z = algorithm.predict(np.c_[xx.ravel(), yy.ravel()]) \n",
        "\n",
        "plt.figure(1 , figsize = (7,7))\n",
        "plt.clf()\n",
        "Z2 = Z.reshape(xx.shape)\n",
        "cmap = sns.color_palette(\"crest\", as_cmap=True)\n",
        "plt.imshow(Z2 , interpolation='nearest', extent=(xx.min(), xx.max(), yy.min(), yy.max()), cmap = cmap, aspect = 'auto', origin='lower', alpha=0.2)\n",
        "plt.scatter(x = 'conceito_medio_graduacao', y = 'alunos_deficiencia', data = df_ies , c = labels2 , s = 25, cmap='crest')\n",
        "plt.scatter(x = centroids2[: , 0] , y =  centroids2[: , 1] , s = 50 , c = 'yellow' , alpha = 1)\n",
        "plt.xlim(-0.2,1.2), plt.ylim(-0.2,1.2)\n",
        "plt.title(\"CLUSTER 2\", fontsize=14)\n",
        "plt.ylabel('Conceito Médio da Graduação', fontsize=13) , plt.xlabel('Alunos com Deficiência', fontsize=13)\n",
        "plt.savefig('k-means2.png', transparent = True)\n",
        "plt.show()"
      ],
      "execution_count": 273,
      "outputs": [
        {
          "output_type": "display_data",
          "data": {
            "image/png": "[encoded data removed]",
            "text/plain": [
              "<Figure size 504x504 with 1 Axes>"
            ]
          },
          "metadata": {}
        }
      ]
    },
    {
      "cell_type": "markdown",
      "metadata": {
        "id": "VH2sZQK8OPjB"
      },
      "source": [
        "###3.2.3 Recursos Acessibilidade x Alunos com Deficiência"
      ]
    },
    {
      "cell_type": "code",
      "metadata": {
        "colab": {
          "base_uri": "https://localhost:8080/"
        },
        "id": "3qUkgGHTOWOm",
        "outputId": "16131433-546d-40b6-af9d-05d489840dc8"
      },
      "source": [
        "#Inicializando e Computando o KMeans com o valor de 3 clusters:\n",
        "X3 = df_ies[['num_recursos_medio', 'alunos_deficiencia']].iloc[: , :].values\n",
        "algorithm = (KMeans(n_clusters = 3))\n",
        "algorithm.fit(X3)"
      ],
      "execution_count": 274,
      "outputs": [
        {
          "output_type": "execute_result",
          "data": {
            "text/plain": [
              "KMeans(n_clusters=3)"
            ]
          },
          "metadata": {},
          "execution_count": 274
        }
      ]
    },
    {
      "cell_type": "code",
      "metadata": {
        "colab": {
          "base_uri": "https://localhost:8080/",
          "height": 462
        },
        "id": "SrK0lcKiKiQV",
        "outputId": "6711a4d2-b2a5-491c-edf4-7f16fc4a5ef8"
      },
      "source": [
        "#Visualizando os grupos criados e seus centroides:\n",
        "labels2 = algorithm.labels_\n",
        "centroids2 = algorithm.cluster_centers_\n",
        "\n",
        "h = 0.02\n",
        "x_min, x_max = X3[:, 0].min() - 1, X3[:, 0].max() + 1\n",
        "y_min, y_max = X3[:, 1].min() - 1, X3[:, 1].max() + 1\n",
        "xx, yy = np.meshgrid(np.arange(x_min, x_max, h), np.arange(y_min, y_max, h))\n",
        "Z = algorithm.predict(np.c_[xx.ravel(), yy.ravel()]) \n",
        "\n",
        "plt.figure(1 , figsize = (7,7) )\n",
        "plt.clf()\n",
        "Z2 = Z.reshape(xx.shape)\n",
        "cmap = sns.color_palette(\"crest\", as_cmap=True)\n",
        "plt.imshow(Z2 , interpolation='nearest', extent=(xx.min(), xx.max(), yy.min(), yy.max()), cmap = cmap, aspect = 'auto', origin='lower', alpha=0.2)\n",
        "plt.scatter(x = 'num_recursos_medio', y = 'alunos_deficiencia', data = df_ies , c = labels2 , s = 25, cmap='crest')\n",
        "plt.scatter(x = centroids2[: , 0] , y =  centroids2[: , 1] , s = 50 , c = 'yellow' , alpha = 1)\n",
        "plt.xlim(-0.2,1.2), plt.ylim(-0.2,1.2)\n",
        "plt.title(\"CLUSTER 3\", fontsize=14)\n",
        "plt.ylabel('Recursos de Acessibilidade', fontsize=13) , plt.xlabel('Alunos com Deficiência', fontsize=13)\n",
        "plt.savefig('k-means3.png', transparent = True)\n",
        "plt.show()"
      ],
      "execution_count": 275,
      "outputs": [
        {
          "output_type": "display_data",
          "data": {
            "image/png": "[encoded data removed]",
            "text/plain": [
              "<Figure size 504x504 with 1 Axes>"
            ]
          },
          "metadata": {}
        }
      ]
    },
    {
      "cell_type": "markdown",
      "metadata": {
        "id": "Te6jMsM0PRNk"
      },
      "source": [
        "###3.2.4 Recursos Acessibilidade x Receitas da IES"
      ]
    },
    {
      "cell_type": "code",
      "source": [
        "df_ies_reindexed = df_ies.reset_index()"
      ],
      "metadata": {
        "id": "iRUS3meFo8rS"
      },
      "execution_count": 276,
      "outputs": []
    },
    {
      "cell_type": "code",
      "metadata": {
        "colab": {
          "base_uri": "https://localhost:8080/"
        },
        "id": "mwGOYRZyQIZh",
        "outputId": "3e8cc224-5533-47e0-89bc-ecb0b0d2cd77"
      },
      "source": [
        "#Inicializando e Computando o KMeans com o valor de 3 clusters:\n",
        "X4 = df_ies[['num_recursos_medio', 'receitas']].iloc[: , :].values\n",
        "algorithm = (KMeans(n_clusters = 3))\n",
        "algorithm.fit(X4)"
      ],
      "execution_count": 277,
      "outputs": [
        {
          "output_type": "execute_result",
          "data": {
            "text/plain": [
              "KMeans(n_clusters=3)"
            ]
          },
          "metadata": {},
          "execution_count": 277
        }
      ]
    },
    {
      "cell_type": "code",
      "source": [
        "#comparando os valores\n",
        "X4[1]"
      ],
      "metadata": {
        "id": "op45-3QxiKT8",
        "outputId": "2dfe2d7e-c258-4566-e689-f50252fdb863",
        "colab": {
          "base_uri": "https://localhost:8080/"
        }
      },
      "execution_count": 278,
      "outputs": [
        {
          "output_type": "execute_result",
          "data": {
            "text/plain": [
              "array([0.23491379, 0.26193145])"
            ]
          },
          "metadata": {},
          "execution_count": 278
        }
      ]
    },
    {
      "cell_type": "code",
      "source": [
        "df_ies_reindexed.loc[1]"
      ],
      "metadata": {
        "id": "atR8_NgepEJo",
        "outputId": "1c96e52b-7dbe-4a74-f11a-7b0fa4cd6e2f",
        "colab": {
          "base_uri": "https://localhost:8080/"
        }
      },
      "execution_count": 279,
      "outputs": [
        {
          "output_type": "execute_result",
          "data": {
            "text/plain": [
              "index                       2.000000\n",
              "cod_ies                     3.000000\n",
              "categoria_administrativa    1.000000\n",
              "alunos_deficiencia          0.134454\n",
              "num_recursos_medio          0.234914\n",
              "num_curso                   0.204626\n",
              "receitas                    0.261931\n",
              "despesa_investimento        0.460731\n",
              "conceito_medio_graduacao    0.721785\n",
              "igc_continuo                0.633421\n",
              "Name: 1, dtype: float64"
            ]
          },
          "metadata": {},
          "execution_count": 279
        }
      ]
    },
    {
      "cell_type": "code",
      "source": [
        "df_ies_reindexed['cluster'] = algorithm.labels_\n",
        "df_ies_reindexed"
      ],
      "metadata": {
        "id": "RHTjGcfVpPsF",
        "outputId": "491653ec-5859-499e-80ed-0cf38fdfbe17",
        "colab": {
          "base_uri": "https://localhost:8080/",
          "height": 444
        }
      },
      "execution_count": 280,
      "outputs": [
        {
          "output_type": "execute_result",
          "data": {
            "text/html": [
              "<div>\n",
              "<style scoped>\n",
              "    .dataframe tbody tr th:only-of-type {\n",
              "        vertical-align: middle;\n",
              "    }\n",
              "\n",
              "    .dataframe tbody tr th {\n",
              "        vertical-align: top;\n",
              "    }\n",
              "\n",
              "    .dataframe thead th {\n",
              "        text-align: right;\n",
              "    }\n",
              "</style>\n",
              "<table border=\"1\" class=\"dataframe\">\n",
              "  <thead>\n",
              "    <tr style=\"text-align: right;\">\n",
              "      <th></th>\n",
              "      <th>index</th>\n",
              "      <th>cod_ies</th>\n",
              "      <th>categoria_administrativa</th>\n",
              "      <th>alunos_deficiencia</th>\n",
              "      <th>num_recursos_medio</th>\n",
              "      <th>num_curso</th>\n",
              "      <th>receitas</th>\n",
              "      <th>despesa_investimento</th>\n",
              "      <th>conceito_medio_graduacao</th>\n",
              "      <th>igc_continuo</th>\n",
              "      <th>cluster</th>\n",
              "    </tr>\n",
              "  </thead>\n",
              "  <tbody>\n",
              "    <tr>\n",
              "      <th>0</th>\n",
              "      <td>0</td>\n",
              "      <td>1</td>\n",
              "      <td>1</td>\n",
              "      <td>0.100840</td>\n",
              "      <td>0.119883</td>\n",
              "      <td>0.201068</td>\n",
              "      <td>0.256770</td>\n",
              "      <td>0.538941</td>\n",
              "      <td>0.679824</td>\n",
              "      <td>0.601115</td>\n",
              "      <td>1</td>\n",
              "    </tr>\n",
              "    <tr>\n",
              "      <th>1</th>\n",
              "      <td>2</td>\n",
              "      <td>3</td>\n",
              "      <td>1</td>\n",
              "      <td>0.134454</td>\n",
              "      <td>0.234914</td>\n",
              "      <td>0.204626</td>\n",
              "      <td>0.261931</td>\n",
              "      <td>0.460731</td>\n",
              "      <td>0.721785</td>\n",
              "      <td>0.633421</td>\n",
              "      <td>1</td>\n",
              "    </tr>\n",
              "    <tr>\n",
              "      <th>2</th>\n",
              "      <td>3</td>\n",
              "      <td>4</td>\n",
              "      <td>1</td>\n",
              "      <td>0.071429</td>\n",
              "      <td>0.081776</td>\n",
              "      <td>0.188612</td>\n",
              "      <td>0.296527</td>\n",
              "      <td>0.711165</td>\n",
              "      <td>0.655859</td>\n",
              "      <td>0.554696</td>\n",
              "      <td>1</td>\n",
              "    </tr>\n",
              "    <tr>\n",
              "      <th>3</th>\n",
              "      <td>4</td>\n",
              "      <td>5</td>\n",
              "      <td>1</td>\n",
              "      <td>0.133253</td>\n",
              "      <td>0.828333</td>\n",
              "      <td>0.176157</td>\n",
              "      <td>0.237067</td>\n",
              "      <td>0.439602</td>\n",
              "      <td>0.630625</td>\n",
              "      <td>0.533122</td>\n",
              "      <td>0</td>\n",
              "    </tr>\n",
              "    <tr>\n",
              "      <th>4</th>\n",
              "      <td>5</td>\n",
              "      <td>6</td>\n",
              "      <td>1</td>\n",
              "      <td>0.039916</td>\n",
              "      <td>0.919697</td>\n",
              "      <td>0.096085</td>\n",
              "      <td>0.148337</td>\n",
              "      <td>0.004115</td>\n",
              "      <td>0.749051</td>\n",
              "      <td>0.668392</td>\n",
              "      <td>0</td>\n",
              "    </tr>\n",
              "    <tr>\n",
              "      <th>...</th>\n",
              "      <td>...</td>\n",
              "      <td>...</td>\n",
              "      <td>...</td>\n",
              "      <td>...</td>\n",
              "      <td>...</td>\n",
              "      <td>...</td>\n",
              "      <td>...</td>\n",
              "      <td>...</td>\n",
              "      <td>...</td>\n",
              "      <td>...</td>\n",
              "      <td>...</td>\n",
              "    </tr>\n",
              "    <tr>\n",
              "      <th>1270</th>\n",
              "      <td>1438</td>\n",
              "      <td>19861</td>\n",
              "      <td>5</td>\n",
              "      <td>0.000000</td>\n",
              "      <td>0.541667</td>\n",
              "      <td>0.005338</td>\n",
              "      <td>0.000219</td>\n",
              "      <td>0.000000</td>\n",
              "      <td>0.422483</td>\n",
              "      <td>0.251424</td>\n",
              "      <td>2</td>\n",
              "    </tr>\n",
              "    <tr>\n",
              "      <th>1271</th>\n",
              "      <td>1439</td>\n",
              "      <td>19862</td>\n",
              "      <td>2</td>\n",
              "      <td>0.000000</td>\n",
              "      <td>1.000000</td>\n",
              "      <td>0.000000</td>\n",
              "      <td>0.174452</td>\n",
              "      <td>0.989925</td>\n",
              "      <td>0.659068</td>\n",
              "      <td>0.502314</td>\n",
              "      <td>0</td>\n",
              "    </tr>\n",
              "    <tr>\n",
              "      <th>1272</th>\n",
              "      <td>1440</td>\n",
              "      <td>20478</td>\n",
              "      <td>2</td>\n",
              "      <td>0.000300</td>\n",
              "      <td>0.208333</td>\n",
              "      <td>0.001779</td>\n",
              "      <td>0.174452</td>\n",
              "      <td>0.989925</td>\n",
              "      <td>0.584002</td>\n",
              "      <td>0.422709</td>\n",
              "      <td>1</td>\n",
              "    </tr>\n",
              "    <tr>\n",
              "      <th>1273</th>\n",
              "      <td>1441</td>\n",
              "      <td>22015</td>\n",
              "      <td>3</td>\n",
              "      <td>0.000000</td>\n",
              "      <td>0.611111</td>\n",
              "      <td>0.003559</td>\n",
              "      <td>0.000328</td>\n",
              "      <td>0.000000</td>\n",
              "      <td>0.532919</td>\n",
              "      <td>0.368538</td>\n",
              "      <td>2</td>\n",
              "    </tr>\n",
              "    <tr>\n",
              "      <th>1274</th>\n",
              "      <td>1442</td>\n",
              "      <td>23410</td>\n",
              "      <td>2</td>\n",
              "      <td>0.000900</td>\n",
              "      <td>0.285088</td>\n",
              "      <td>0.032028</td>\n",
              "      <td>0.011275</td>\n",
              "      <td>0.279700</td>\n",
              "      <td>0.359001</td>\n",
              "      <td>0.184105</td>\n",
              "      <td>1</td>\n",
              "    </tr>\n",
              "  </tbody>\n",
              "</table>\n",
              "<p>1275 rows × 11 columns</p>\n",
              "</div>"
            ],
            "text/plain": [
              "      index  cod_ies  ...  igc_continuo  cluster\n",
              "0         0        1  ...      0.601115        1\n",
              "1         2        3  ...      0.633421        1\n",
              "2         3        4  ...      0.554696        1\n",
              "3         4        5  ...      0.533122        0\n",
              "4         5        6  ...      0.668392        0\n",
              "...     ...      ...  ...           ...      ...\n",
              "1270   1438    19861  ...      0.251424        2\n",
              "1271   1439    19862  ...      0.502314        0\n",
              "1272   1440    20478  ...      0.422709        1\n",
              "1273   1441    22015  ...      0.368538        2\n",
              "1274   1442    23410  ...      0.184105        1\n",
              "\n",
              "[1275 rows x 11 columns]"
            ]
          },
          "metadata": {},
          "execution_count": 280
        }
      ]
    },
    {
      "cell_type": "code",
      "source": [
        "cluster_map = pd.DataFrame()\n",
        "cluster_map['data_index'] = X4[:,1]\n",
        "cluster_map['cluster'] = algorithm.labels_\n",
        "cluster_map"
      ],
      "metadata": {
        "id": "-Z98Qcr3kq4k",
        "outputId": "f177c17b-6026-43e3-af45-c53cac84f456",
        "colab": {
          "base_uri": "https://localhost:8080/",
          "height": 424
        }
      },
      "execution_count": 281,
      "outputs": [
        {
          "output_type": "execute_result",
          "data": {
            "text/html": [
              "<div>\n",
              "<style scoped>\n",
              "    .dataframe tbody tr th:only-of-type {\n",
              "        vertical-align: middle;\n",
              "    }\n",
              "\n",
              "    .dataframe tbody tr th {\n",
              "        vertical-align: top;\n",
              "    }\n",
              "\n",
              "    .dataframe thead th {\n",
              "        text-align: right;\n",
              "    }\n",
              "</style>\n",
              "<table border=\"1\" class=\"dataframe\">\n",
              "  <thead>\n",
              "    <tr style=\"text-align: right;\">\n",
              "      <th></th>\n",
              "      <th>data_index</th>\n",
              "      <th>cluster</th>\n",
              "    </tr>\n",
              "  </thead>\n",
              "  <tbody>\n",
              "    <tr>\n",
              "      <th>0</th>\n",
              "      <td>0.256770</td>\n",
              "      <td>1</td>\n",
              "    </tr>\n",
              "    <tr>\n",
              "      <th>1</th>\n",
              "      <td>0.261931</td>\n",
              "      <td>1</td>\n",
              "    </tr>\n",
              "    <tr>\n",
              "      <th>2</th>\n",
              "      <td>0.296527</td>\n",
              "      <td>1</td>\n",
              "    </tr>\n",
              "    <tr>\n",
              "      <th>3</th>\n",
              "      <td>0.237067</td>\n",
              "      <td>0</td>\n",
              "    </tr>\n",
              "    <tr>\n",
              "      <th>4</th>\n",
              "      <td>0.148337</td>\n",
              "      <td>0</td>\n",
              "    </tr>\n",
              "    <tr>\n",
              "      <th>...</th>\n",
              "      <td>...</td>\n",
              "      <td>...</td>\n",
              "    </tr>\n",
              "    <tr>\n",
              "      <th>1270</th>\n",
              "      <td>0.000219</td>\n",
              "      <td>2</td>\n",
              "    </tr>\n",
              "    <tr>\n",
              "      <th>1271</th>\n",
              "      <td>0.174452</td>\n",
              "      <td>0</td>\n",
              "    </tr>\n",
              "    <tr>\n",
              "      <th>1272</th>\n",
              "      <td>0.174452</td>\n",
              "      <td>1</td>\n",
              "    </tr>\n",
              "    <tr>\n",
              "      <th>1273</th>\n",
              "      <td>0.000328</td>\n",
              "      <td>2</td>\n",
              "    </tr>\n",
              "    <tr>\n",
              "      <th>1274</th>\n",
              "      <td>0.011275</td>\n",
              "      <td>1</td>\n",
              "    </tr>\n",
              "  </tbody>\n",
              "</table>\n",
              "<p>1275 rows × 2 columns</p>\n",
              "</div>"
            ],
            "text/plain": [
              "      data_index  cluster\n",
              "0       0.256770        1\n",
              "1       0.261931        1\n",
              "2       0.296527        1\n",
              "3       0.237067        0\n",
              "4       0.148337        0\n",
              "...          ...      ...\n",
              "1270    0.000219        2\n",
              "1271    0.174452        0\n",
              "1272    0.174452        1\n",
              "1273    0.000328        2\n",
              "1274    0.011275        1\n",
              "\n",
              "[1275 rows x 2 columns]"
            ]
          },
          "metadata": {},
          "execution_count": 281
        }
      ]
    },
    {
      "cell_type": "code",
      "source": [
        "np.where(algorithm.labels_ == 0)"
      ],
      "metadata": {
        "id": "QLdZ1nNEoa3Q",
        "outputId": "b370aea5-b680-4cf8-8672-f5fccea7740b",
        "colab": {
          "base_uri": "https://localhost:8080/"
        }
      },
      "execution_count": 282,
      "outputs": [
        {
          "output_type": "execute_result",
          "data": {
            "text/plain": [
              "(array([   3,    4,    5,    6,    7,    8,    9,   14,   15,   16,   17,\n",
              "          29,   33,   34,   37,   39,   40,   41,   42,   51,   54,   55,\n",
              "          60,   61,   63,   65,   68,   78,   82,   83,   84,   89,   91,\n",
              "          96,  103,  108,  113,  115,  118,  120,  121,  123,  125,  128,\n",
              "         131,  133,  134,  135,  136,  138,  142,  144,  145,  149,  153,\n",
              "         155,  158,  159,  160,  163,  165,  166,  173,  180,  187,  192,\n",
              "         194,  195,  196,  203,  205,  209,  211,  230,  236,  241,  242,\n",
              "         243,  245,  247,  250,  253,  254,  262,  265,  267,  283,  284,\n",
              "         286,  288,  292,  294,  297,  299,  307,  310,  316,  318,  319,\n",
              "         322,  325,  331,  333,  342,  346,  348,  356,  358,  359,  360,\n",
              "         364,  365,  372,  374,  375,  377,  378,  381,  382,  383,  384,\n",
              "         385,  390,  392,  393,  394,  395,  396,  399,  401,  404,  408,\n",
              "         410,  415,  420,  421,  431,  432,  442,  444,  447,  453,  454,\n",
              "         457,  458,  462,  465,  472,  479,  480,  481,  483,  484,  488,\n",
              "         490,  497,  498,  499,  502,  505,  512,  516,  517,  524,  525,\n",
              "         530,  532,  536,  537,  544,  547,  548,  549,  555,  562,  563,\n",
              "         565,  566,  568,  570,  572,  575,  576,  578,  580,  582,  593,\n",
              "         600,  605,  609,  619,  624,  634,  635,  637,  639,  647,  654,\n",
              "         663,  669,  670,  677,  680,  682,  684,  685,  692,  697,  699,\n",
              "         703,  708,  709,  710,  719,  722,  723,  724,  728,  729,  730,\n",
              "         733,  737,  739,  743,  744,  746,  747,  748,  758,  759,  764,\n",
              "         766,  768,  773,  777,  779,  784,  785,  788,  792,  795,  796,\n",
              "         797,  798,  799,  801,  802,  806,  807,  808,  809,  811,  812,\n",
              "         820,  821,  822,  823,  825,  827,  828,  829,  831,  832,  834,\n",
              "         836,  837,  838,  843,  862,  863,  869,  872,  876,  882,  886,\n",
              "         890,  894,  896,  901,  902,  903,  906,  912,  914,  916,  918,\n",
              "         920,  923,  936,  942,  944,  946,  949,  950,  951,  952,  960,\n",
              "         961,  965,  967,  968,  970,  973,  975,  981,  986,  994,  997,\n",
              "         999, 1000, 1005, 1008, 1009, 1012, 1020, 1021, 1023, 1029, 1038,\n",
              "        1041, 1045, 1047, 1058, 1073, 1075, 1077, 1078, 1079, 1080, 1081,\n",
              "        1082, 1085, 1092, 1098, 1107, 1108, 1111, 1118, 1119, 1123, 1127,\n",
              "        1130, 1131, 1133, 1134, 1135, 1137, 1138, 1143, 1147, 1149, 1152,\n",
              "        1154, 1159, 1161, 1164, 1171, 1173, 1175, 1180, 1181, 1189, 1190,\n",
              "        1209, 1221, 1222, 1228, 1231, 1234, 1244, 1246, 1257, 1267, 1271]),)"
            ]
          },
          "metadata": {},
          "execution_count": 282
        }
      ]
    },
    {
      "cell_type": "code",
      "source": [
        "#Obtendo os índices dos pontos para cada cluster correspondente\n",
        "pontos_cluster = {i: np.where(algorithm.labels_ == i) for i in range(algorithm.n_clusters)}\n",
        "pontos_cluster"
      ],
      "metadata": {
        "id": "QXHlsbUjhCCz",
        "outputId": "5a55abe8-b235-4715-fe84-b84a3353dbf0",
        "colab": {
          "base_uri": "https://localhost:8080/"
        }
      },
      "execution_count": 283,
      "outputs": [
        {
          "output_type": "execute_result",
          "data": {
            "text/plain": [
              "{0: (array([   3,    4,    5,    6,    7,    8,    9,   14,   15,   16,   17,\n",
              "           29,   33,   34,   37,   39,   40,   41,   42,   51,   54,   55,\n",
              "           60,   61,   63,   65,   68,   78,   82,   83,   84,   89,   91,\n",
              "           96,  103,  108,  113,  115,  118,  120,  121,  123,  125,  128,\n",
              "          131,  133,  134,  135,  136,  138,  142,  144,  145,  149,  153,\n",
              "          155,  158,  159,  160,  163,  165,  166,  173,  180,  187,  192,\n",
              "          194,  195,  196,  203,  205,  209,  211,  230,  236,  241,  242,\n",
              "          243,  245,  247,  250,  253,  254,  262,  265,  267,  283,  284,\n",
              "          286,  288,  292,  294,  297,  299,  307,  310,  316,  318,  319,\n",
              "          322,  325,  331,  333,  342,  346,  348,  356,  358,  359,  360,\n",
              "          364,  365,  372,  374,  375,  377,  378,  381,  382,  383,  384,\n",
              "          385,  390,  392,  393,  394,  395,  396,  399,  401,  404,  408,\n",
              "          410,  415,  420,  421,  431,  432,  442,  444,  447,  453,  454,\n",
              "          457,  458,  462,  465,  472,  479,  480,  481,  483,  484,  488,\n",
              "          490,  497,  498,  499,  502,  505,  512,  516,  517,  524,  525,\n",
              "          530,  532,  536,  537,  544,  547,  548,  549,  555,  562,  563,\n",
              "          565,  566,  568,  570,  572,  575,  576,  578,  580,  582,  593,\n",
              "          600,  605,  609,  619,  624,  634,  635,  637,  639,  647,  654,\n",
              "          663,  669,  670,  677,  680,  682,  684,  685,  692,  697,  699,\n",
              "          703,  708,  709,  710,  719,  722,  723,  724,  728,  729,  730,\n",
              "          733,  737,  739,  743,  744,  746,  747,  748,  758,  759,  764,\n",
              "          766,  768,  773,  777,  779,  784,  785,  788,  792,  795,  796,\n",
              "          797,  798,  799,  801,  802,  806,  807,  808,  809,  811,  812,\n",
              "          820,  821,  822,  823,  825,  827,  828,  829,  831,  832,  834,\n",
              "          836,  837,  838,  843,  862,  863,  869,  872,  876,  882,  886,\n",
              "          890,  894,  896,  901,  902,  903,  906,  912,  914,  916,  918,\n",
              "          920,  923,  936,  942,  944,  946,  949,  950,  951,  952,  960,\n",
              "          961,  965,  967,  968,  970,  973,  975,  981,  986,  994,  997,\n",
              "          999, 1000, 1005, 1008, 1009, 1012, 1020, 1021, 1023, 1029, 1038,\n",
              "         1041, 1045, 1047, 1058, 1073, 1075, 1077, 1078, 1079, 1080, 1081,\n",
              "         1082, 1085, 1092, 1098, 1107, 1108, 1111, 1118, 1119, 1123, 1127,\n",
              "         1130, 1131, 1133, 1134, 1135, 1137, 1138, 1143, 1147, 1149, 1152,\n",
              "         1154, 1159, 1161, 1164, 1171, 1173, 1175, 1180, 1181, 1189, 1190,\n",
              "         1209, 1221, 1222, 1228, 1231, 1234, 1244, 1246, 1257, 1267, 1271]),),\n",
              " 1: (array([   0,    1,    2,   18,   19,   20,   21,   22,   23,   24,   26,\n",
              "           28,   30,   35,   36,   38,   44,   45,   46,   48,   52,   59,\n",
              "           64,   67,   70,   72,   73,   74,   75,   77,   79,   80,   81,\n",
              "           85,   88,   92,   93,   95,   97,   98,  100,  104,  105,  107,\n",
              "          110,  112,  116,  119,  122,  124,  130,  137,  139,  141,  143,\n",
              "          147,  151,  154,  156,  161,  164,  168,  169,  170,  171,  172,\n",
              "          176,  182,  185,  186,  189,  190,  191,  197,  198,  201,  210,\n",
              "          213,  220,  221,  222,  223,  228,  232,  234,  235,  238,  239,\n",
              "          248,  251,  252,  255,  256,  258,  259,  260,  261,  264,  266,\n",
              "          268,  272,  273,  275,  276,  278,  279,  280,  281,  282,  285,\n",
              "          291,  295,  301,  304,  305,  306,  308,  309,  312,  314,  315,\n",
              "          324,  330,  332,  335,  336,  338,  339,  340,  341,  343,  345,\n",
              "          347,  349,  350,  351,  352,  357,  362,  368,  369,  371,  376,\n",
              "          379,  380,  387,  388,  389,  391,  405,  407,  422,  423,  425,\n",
              "          426,  429,  430,  434,  436,  437,  440,  445,  446,  448,  449,\n",
              "          456,  459,  460,  463,  466,  467,  469,  470,  476,  477,  485,\n",
              "          489,  491,  494,  503,  504,  506,  507,  508,  509,  510,  511,\n",
              "          518,  519,  520,  521,  527,  531,  539,  542,  543,  546,  550,\n",
              "          551,  552,  554,  556,  557,  558,  559,  560,  564,  569,  577,\n",
              "          583,  585,  587,  589,  590,  594,  596,  597,  599,  603,  606,\n",
              "          612,  613,  614,  616,  617,  618,  620,  626,  629,  630,  631,\n",
              "          632,  636,  638,  640,  644,  645,  648,  649,  650,  652,  653,\n",
              "          655,  658,  659,  660,  664,  665,  666,  672,  676,  679,  681,\n",
              "          686,  687,  688,  695,  696,  698,  700,  702,  706,  711,  714,\n",
              "          715,  716,  718,  720,  721,  725,  727,  731,  732,  734,  735,\n",
              "          736,  740,  749,  750,  754,  755,  756,  757,  763,  767,  769,\n",
              "          770,  771,  774,  776,  778,  781,  783,  786,  787,  790,  793,\n",
              "          794,  804,  805,  810,  813,  815,  819,  826,  833,  840,  841,\n",
              "          842,  845,  846,  847,  848,  849,  851,  852,  853,  855,  858,\n",
              "          859,  864,  866,  868,  870,  871,  874,  875,  877,  878,  879,\n",
              "          880,  881,  883,  884,  887,  889,  891,  892,  893,  897,  898,\n",
              "          900,  907,  913,  917,  919,  921,  922,  926,  928,  938,  939,\n",
              "          941,  947,  953,  954,  955,  956,  958,  964,  971,  972,  974,\n",
              "          978,  980,  982,  984,  985,  987,  989,  992,  993,  995,  998,\n",
              "         1002, 1004, 1010, 1013, 1017, 1024, 1025, 1026, 1028, 1031, 1032,\n",
              "         1033, 1034, 1036, 1037, 1039, 1040, 1048, 1052, 1053, 1055, 1056,\n",
              "         1057, 1059, 1060, 1061, 1062, 1063, 1064, 1065, 1066, 1067, 1069,\n",
              "         1071, 1072, 1074, 1076, 1083, 1087, 1091, 1094, 1097, 1099, 1101,\n",
              "         1104, 1105, 1106, 1109, 1112, 1113, 1114, 1115, 1116, 1120, 1121,\n",
              "         1122, 1125, 1126, 1128, 1132, 1140, 1141, 1144, 1145, 1150, 1151,\n",
              "         1153, 1156, 1157, 1162, 1163, 1168, 1169, 1170, 1172, 1174, 1178,\n",
              "         1182, 1183, 1186, 1188, 1192, 1193, 1194, 1195, 1196, 1197, 1200,\n",
              "         1202, 1203, 1204, 1205, 1206, 1207, 1208, 1210, 1211, 1212, 1213,\n",
              "         1214, 1215, 1216, 1218, 1219, 1224, 1225, 1226, 1227, 1233, 1236,\n",
              "         1238, 1239, 1241, 1243, 1245, 1247, 1248, 1250, 1251, 1252, 1253,\n",
              "         1258, 1259, 1260, 1261, 1262, 1263, 1264, 1265, 1266, 1268, 1269,\n",
              "         1272, 1274]),),\n",
              " 2: (array([  10,   11,   12,   13,   25,   27,   31,   32,   43,   47,   49,\n",
              "           50,   53,   56,   57,   58,   62,   66,   69,   71,   76,   86,\n",
              "           87,   90,   94,   99,  101,  102,  106,  109,  111,  114,  117,\n",
              "          126,  127,  129,  132,  140,  146,  148,  150,  152,  157,  162,\n",
              "          167,  174,  175,  177,  178,  179,  181,  183,  184,  188,  193,\n",
              "          199,  200,  202,  204,  206,  207,  208,  212,  214,  215,  216,\n",
              "          217,  218,  219,  224,  225,  226,  227,  229,  231,  233,  237,\n",
              "          240,  244,  246,  249,  257,  263,  269,  270,  271,  274,  277,\n",
              "          287,  289,  290,  293,  296,  298,  300,  302,  303,  311,  313,\n",
              "          317,  320,  321,  323,  326,  327,  328,  329,  334,  337,  344,\n",
              "          353,  354,  355,  361,  363,  366,  367,  370,  373,  386,  397,\n",
              "          398,  400,  402,  403,  406,  409,  411,  412,  413,  414,  416,\n",
              "          417,  418,  419,  424,  427,  428,  433,  435,  438,  439,  441,\n",
              "          443,  450,  451,  452,  455,  461,  464,  468,  471,  473,  474,\n",
              "          475,  478,  482,  486,  487,  492,  493,  495,  496,  500,  501,\n",
              "          513,  514,  515,  522,  523,  526,  528,  529,  533,  534,  535,\n",
              "          538,  540,  541,  545,  553,  561,  567,  571,  573,  574,  579,\n",
              "          581,  584,  586,  588,  591,  592,  595,  598,  601,  602,  604,\n",
              "          607,  608,  610,  611,  615,  621,  622,  623,  625,  627,  628,\n",
              "          633,  641,  642,  643,  646,  651,  656,  657,  661,  662,  667,\n",
              "          668,  671,  673,  674,  675,  678,  683,  689,  690,  691,  693,\n",
              "          694,  701,  704,  705,  707,  712,  713,  717,  726,  738,  741,\n",
              "          742,  745,  751,  752,  753,  760,  761,  762,  765,  772,  775,\n",
              "          780,  782,  789,  791,  800,  803,  814,  816,  817,  818,  824,\n",
              "          830,  835,  839,  844,  850,  854,  856,  857,  860,  861,  865,\n",
              "          867,  873,  885,  888,  895,  899,  904,  905,  908,  909,  910,\n",
              "          911,  915,  924,  925,  927,  929,  930,  931,  932,  933,  934,\n",
              "          935,  937,  940,  943,  945,  948,  957,  959,  962,  963,  966,\n",
              "          969,  976,  977,  979,  983,  988,  990,  991,  996, 1001, 1003,\n",
              "         1006, 1007, 1011, 1014, 1015, 1016, 1018, 1019, 1022, 1027, 1030,\n",
              "         1035, 1042, 1043, 1044, 1046, 1049, 1050, 1051, 1054, 1068, 1070,\n",
              "         1084, 1086, 1088, 1089, 1090, 1093, 1095, 1096, 1100, 1102, 1103,\n",
              "         1110, 1117, 1124, 1129, 1136, 1139, 1142, 1146, 1148, 1155, 1158,\n",
              "         1160, 1165, 1166, 1167, 1176, 1177, 1179, 1184, 1185, 1187, 1191,\n",
              "         1198, 1199, 1201, 1217, 1220, 1223, 1229, 1230, 1232, 1235, 1237,\n",
              "         1240, 1242, 1249, 1254, 1255, 1256, 1270, 1273]),)}"
            ]
          },
          "metadata": {},
          "execution_count": 283
        }
      ]
    },
    {
      "cell_type": "code",
      "metadata": {
        "colab": {
          "base_uri": "https://localhost:8080/",
          "height": 462
        },
        "id": "2TBZBvReQVKf",
        "outputId": "520409e7-7a1b-4917-818a-f6022f201571"
      },
      "source": [
        "#Visualizando os grupos criados e seus centroides:\n",
        "labels2 = algorithm.labels_\n",
        "centroids2 = algorithm.cluster_centers_\n",
        "\n",
        "h = 0.02\n",
        "x_min, x_max = X4[:, 0].min() - 1, X4[:, 0].max() + 1\n",
        "y_min, y_max = X4[:, 1].min() - 1, X4[:, 1].max() + 1\n",
        "xx, yy = np.meshgrid(np.arange(x_min, x_max, h), np.arange(y_min, y_max, h))\n",
        "Z = algorithm.predict(np.c_[xx.ravel(), yy.ravel()]) \n",
        "\n",
        "plt.figure(1 , figsize = (7,7) )\n",
        "plt.clf()\n",
        "Z2 = Z.reshape(xx.shape)\n",
        "cmap = sns.color_palette(\"crest\", as_cmap=True)\n",
        "plt.imshow(Z2 , interpolation='nearest', extent=(xx.min(), xx.max(), yy.min(), yy.max()), cmap = cmap, aspect = 'auto', origin='lower', alpha=0.2)\n",
        "plt.scatter(x = 'num_recursos_medio', y = 'receitas', data = df_ies , c = labels2 , s = 25, cmap='crest')\n",
        "plt.scatter(x = centroids2[: , 0] , y =  centroids2[: , 1] , s = 50 , c = 'yellow' , alpha = 1)\n",
        "plt.xlim(-0.2,1.2), plt.ylim(-0.2,1.2)\n",
        "plt.title(\"CLUSTER 4\", fontsize=14)\n",
        "plt.ylabel('Recursos de Acessibilidade', fontsize=13) , plt.xlabel('Receitas da IES', fontsize=13)\n",
        "plt.savefig('k-means4.png', transparent = True)\n",
        "plt.show()"
      ],
      "execution_count": 284,
      "outputs": [
        {
          "output_type": "display_data",
          "data": {
            "image/png": "[encoded data removed]",
            "text/plain": [
              "<Figure size 504x504 with 1 Axes>"
            ]
          },
          "metadata": {}
        }
      ]
    },
    {
      "cell_type": "markdown",
      "metadata": {
        "id": "9dh2zI3NQkuo"
      },
      "source": [
        "###3.2.5 Recursos Acessibilidade x Despesas com Investimentos da IES"
      ]
    },
    {
      "cell_type": "code",
      "metadata": {
        "id": "Tx-174IrQs-f",
        "colab": {
          "base_uri": "https://localhost:8080/"
        },
        "outputId": "c1fb82b4-897f-4c38-9a78-dafa1efc443d"
      },
      "source": [
        "X5 = df_ies[['num_recursos_medio', 'despesa_investimento']].iloc[: , :].values\n",
        "algorithm = KMeans(n_clusters=3)\n",
        "algorithm.fit(X5)"
      ],
      "execution_count": 285,
      "outputs": [
        {
          "output_type": "execute_result",
          "data": {
            "text/plain": [
              "KMeans(n_clusters=3)"
            ]
          },
          "metadata": {},
          "execution_count": 285
        }
      ]
    },
    {
      "cell_type": "code",
      "metadata": {
        "colab": {
          "base_uri": "https://localhost:8080/",
          "height": 462
        },
        "id": "PrIUHTRnQs1V",
        "outputId": "884d2bf3-c384-4361-ab9e-b7e2fd77cc9e"
      },
      "source": [
        "#Visualizando os grupos criados e seus centroides:\n",
        "labels2 = algorithm.labels_\n",
        "centroids2 = algorithm.cluster_centers_\n",
        "\n",
        "h = 0.02\n",
        "x_min, x_max = X5[:, 0].min() - 1, X5[:, 0].max() + 1\n",
        "y_min, y_max = X5[:, 1].min() - 1, X5[:, 1].max() + 1\n",
        "xx, yy = np.meshgrid(np.arange(x_min, x_max, h), np.arange(y_min, y_max, h))\n",
        "Z = algorithm.predict(np.c_[xx.ravel(), yy.ravel()]) \n",
        "\n",
        "plt.figure(1 , figsize = (7,7) )\n",
        "plt.clf()\n",
        "Z2 = Z.reshape(xx.shape)\n",
        "cmap = sns.color_palette(\"crest\", as_cmap=True)\n",
        "plt.imshow(Z2 , interpolation='nearest', extent=(xx.min(), xx.max(), yy.min(), yy.max()), cmap = cmap, aspect = 'auto', origin='lower', alpha=0.2)\n",
        "plt.scatter(x = 'num_recursos_medio', y = 'despesa_investimento', data = df_ies , c = labels2 , s = 25, cmap='crest')\n",
        "plt.scatter(x = centroids2[: , 0] , y =  centroids2[: , 1] , s = 50 , c = 'yellow' , alpha = 1)\n",
        "plt.xlim(-0.2,1.2), plt.ylim(-0.2,1.2)\n",
        "plt.title(\"CLUSTER 5\", fontsize=14)\n",
        "plt.ylabel('Recursos de Acessibilidade', fontsize=13) , plt.xlabel('Despesas com Investimentos da IES', fontsize=13)\n",
        "plt.savefig('k-means5.png', transparent = True)\n",
        "plt.show()"
      ],
      "execution_count": 286,
      "outputs": [
        {
          "output_type": "display_data",
          "data": {
            "image/png": "[encoded data removed]",
            "text/plain": [
              "<Figure size 504x504 with 1 Axes>"
            ]
          },
          "metadata": {}
        }
      ]
    }
  ]
}