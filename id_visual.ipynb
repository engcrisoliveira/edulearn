{
  "nbformat": 4,
  "nbformat_minor": 0,
  "metadata": {
    "colab": {
      "name": "id_visual.ipynb",
      "provenance": [],
      "collapsed_sections": [],
      "authorship_tag": "ABX9TyOB4mwUInsnuyVFO/Kl0rdi",
      "include_colab_link": true
    },
    "kernelspec": {
      "name": "python3",
      "display_name": "Python 3"
    },
    "language_info": {
      "name": "python"
    }
  },
  "cells": [
    {
      "cell_type": "markdown",
      "metadata": {
        "id": "view-in-github",
        "colab_type": "text"
      },
      "source": [
        "<a href=\"https://colab.research.google.com/github/roxacarv/edulearn/blob/main/id_visual.ipynb\" target=\"_parent\"><img src=\"https://colab.research.google.com/assets/colab-badge.svg\" alt=\"Open In Colab\"/></a>"
      ]
    },
    {
      "cell_type": "markdown",
      "metadata": {
        "id": "5zGJ0w87t1zM"
      },
      "source": [
        "#Edulearn\n",
        "##Identidade Visual\n",
        "---\n",
        "\n",
        "\n",
        "\n",
        "---"
      ]
    },
    {
      "cell_type": "code",
      "metadata": {
        "id": "GvLByagitw9H"
      },
      "source": [
        "#Importando as bibliotecas\n",
        "import pandas as pd\n",
        "import matplotlib.pyplot as plt\n",
        "import plotly.graph_objects as go\n",
        "import seaborn as sns"
      ],
      "execution_count": null,
      "outputs": []
    },
    {
      "cell_type": "markdown",
      "metadata": {
        "id": "_cZCtn3Vt-wg"
      },
      "source": [
        "##Paleta de cores"
      ]
    },
    {
      "cell_type": "code",
      "metadata": {
        "colab": {
          "base_uri": "https://localhost:8080/",
          "height": 76
        },
        "id": "o0heoPQVt9Hp",
        "outputId": "58d93641-379d-449f-a19d-cbc5dacf8fb8"
      },
      "source": [
        "#Paleta\n",
        "sns.color_palette(\"crest\")"
      ],
      "execution_count": null,
      "outputs": [
        {
          "output_type": "execute_result",
          "data": {
            "text/html": [
              "<svg  width=\"330\" height=\"55\"><rect x=\"0\" y=\"0\" width=\"55\" height=\"55\" style=\"fill:#7dba91;stroke-width:2;stroke:rgb(255,255,255)\"/><rect x=\"55\" y=\"0\" width=\"55\" height=\"55\" style=\"fill:#59a590;stroke-width:2;stroke:rgb(255,255,255)\"/><rect x=\"110\" y=\"0\" width=\"55\" height=\"55\" style=\"fill:#40908e;stroke-width:2;stroke:rgb(255,255,255)\"/><rect x=\"165\" y=\"0\" width=\"55\" height=\"55\" style=\"fill:#287a8c;stroke-width:2;stroke:rgb(255,255,255)\"/><rect x=\"220\" y=\"0\" width=\"55\" height=\"55\" style=\"fill:#1c6488;stroke-width:2;stroke:rgb(255,255,255)\"/><rect x=\"275\" y=\"0\" width=\"55\" height=\"55\" style=\"fill:#254b7f;stroke-width:2;stroke:rgb(255,255,255)\"/></svg>"
            ],
            "text/plain": [
              "[(0.48942421, 0.72854938, 0.56751036),\n",
              " (0.34892097, 0.64828676, 0.56513633),\n",
              " (0.24929311, 0.56486397, 0.5586654),\n",
              " (0.15615526, 0.47913212, 0.54850526),\n",
              " (0.11131735, 0.39155635, 0.53422678),\n",
              " (0.14573579, 0.29354139, 0.49847009)]"
            ]
          },
          "metadata": {},
          "execution_count": 2
        }
      ]
    },
    {
      "cell_type": "code",
      "metadata": {
        "colab": {
          "base_uri": "https://localhost:8080/"
        },
        "id": "Vv9JnKiLuBA_",
        "outputId": "ff11e863-cb68-4530-b4a8-2299649de627"
      },
      "source": [
        "#Conhecendo os RGB das cores da paleta 'crest'\n",
        "list(map(lambda x: list(map(lambda y: int(y*255), x)), sns.color_palette(\"crest\")))"
      ],
      "execution_count": null,
      "outputs": [
        {
          "output_type": "execute_result",
          "data": {
            "text/plain": [
              "[[124, 185, 144],\n",
              " [88, 165, 144],\n",
              " [63, 144, 142],\n",
              " [39, 122, 139],\n",
              " [28, 99, 136],\n",
              " [37, 74, 127]]"
            ]
          },
          "metadata": {},
          "execution_count": 3
        }
      ]
    },
    {
      "cell_type": "code",
      "metadata": {
        "id": "3iMG2VN7uDXK"
      },
      "source": [
        "#cor 1 = #7cb995\n",
        "#cor 2 = #7cb995\n",
        "#cor 3 = #3f908e\n",
        "#cor 4 = #277a8b\n",
        "#cor 5 = #1c6388\n",
        "#cor 6 = #254a7f"
      ],
      "execution_count": null,
      "outputs": []
    }
  ]
}