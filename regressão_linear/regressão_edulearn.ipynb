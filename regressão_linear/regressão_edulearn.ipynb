{
  "nbformat": 4,
  "nbformat_minor": 0,
  "metadata": {
    "colab": {
      "name": "regressao_edulearn.ipynb",
      "provenance": [],
      "include_colab_link": true
    },
    "kernelspec": {
      "name": "python3",
      "display_name": "Python 3"
    },
    "language_info": {
      "name": "python"
    }
  },
  "cells": [
    {
      "cell_type": "markdown",
      "metadata": {
        "id": "view-in-github",
        "colab_type": "text"
      },
      "source": [
        "<a href=\"https://colab.research.google.com/github/roxacarv/edulearn/blob/main/regress%C3%A3o_linear/regress%C3%A3o_edulearn.ipynb\" target=\"_parent\"><img src=\"https://colab.research.google.com/assets/colab-badge.svg\" alt=\"Open In Colab\"/></a>"
      ]
    },
    {
      "cell_type": "markdown",
      "metadata": {
        "id": "uG_W4lr5fqdp"
      },
      "source": [
        "# Importando as bibliotecas\n"
      ]
    },
    {
      "cell_type": "code",
      "metadata": {
        "id": "1NS380pCU024"
      },
      "source": [
        "import pandas as pd\n",
        "import seaborn as sns\n",
        "import numpy as np\n",
        "import matplotlib.pyplot as plt\n",
        "from sklearn.model_selection import train_test_split\n",
        "from sklearn.linear_model import LinearRegression\n",
        "from sklearn import metrics"
      ],
      "execution_count": 1,
      "outputs": []
    },
    {
      "cell_type": "markdown",
      "metadata": {
        "id": "HIhOPjcofyeI"
      },
      "source": [
        "# Importando a base de dados que irá alimentar o modelo"
      ]
    },
    {
      "cell_type": "code",
      "metadata": {
        "id": "pXaDI9-Wfm2U"
      },
      "source": [
        "df_2011 = pd.read_csv('https://raw.githubusercontent.com/roxacarv/edulearn/main/dados/alunodeficiente_2011.csv', usecols=['CO_ALUNO'])\n",
        "df_2011['NU_ANO_CENSO'] = 2011\n",
        "df_2011['QNT_DE_ALUNOS'] = 1\n",
        "df_2011 = df_2011.drop(['CO_ALUNO'], axis=1)"
      ],
      "execution_count": 37,
      "outputs": []
    },
    {
      "cell_type": "code",
      "metadata": {
        "id": "DsRiOk2Jlxx3"
      },
      "source": [
        "df_2012 = pd.read_csv('https://raw.githubusercontent.com/roxacarv/edulearn/main/dados/alunodeficiente_2012.csv', usecols=['CO_ALUNO'])\n",
        "df_2012['NU_ANO_CENSO'] = 2012\n",
        "df_2012['QNT_DE_ALUNOS'] = 1\n",
        "df_2012 = df_2012.drop(['CO_ALUNO'], axis=1)"
      ],
      "execution_count": 38,
      "outputs": []
    },
    {
      "cell_type": "code",
      "metadata": {
        "id": "IR3Tz0tUl7-n"
      },
      "source": [
        "df_2013 = pd.read_csv('https://raw.githubusercontent.com/roxacarv/edulearn/main/dados/alunodeficiente_2013.csv', usecols=['CO_ALUNO'])\n",
        "df_2013['NU_ANO_CENSO'] = 2013\n",
        "df_2013['QNT_DE_ALUNOS'] = 1\n",
        "df_2013 = df_2013.drop(['CO_ALUNO'], axis=1)"
      ],
      "execution_count": 39,
      "outputs": []
    },
    {
      "cell_type": "code",
      "metadata": {
        "id": "QyPabdZkmBdu"
      },
      "source": [
        "df_2014 = pd.read_csv('https://raw.githubusercontent.com/roxacarv/edulearn/main/dados/alunodeficiente_2014.csv', usecols=['CO_ALUNO'])\n",
        "df_2014['NU_ANO_CENSO'] = 2014\n",
        "df_2014['QNT_DE_ALUNOS'] = 1\n",
        "df_2014 = df_2014.drop(['CO_ALUNO'], axis=1)"
      ],
      "execution_count": 40,
      "outputs": []
    },
    {
      "cell_type": "code",
      "metadata": {
        "id": "spo5WbQsmGvN"
      },
      "source": [
        "df_2015 = pd.read_csv('https://raw.githubusercontent.com/roxacarv/edulearn/main/dados/alunodeficiente_2015.csv', usecols=['CO_ALUNO'])\n",
        "df_2015['NU_ANO_CENSO'] = 2015\n",
        "df_2015['QNT_DE_ALUNOS'] = 1\n",
        "df_2015 = df_2015.drop(['CO_ALUNO'], axis=1)"
      ],
      "execution_count": 41,
      "outputs": []
    },
    {
      "cell_type": "code",
      "metadata": {
        "id": "jipG921tmJLl"
      },
      "source": [
        "df_2016 = pd.read_csv('https://raw.githubusercontent.com/roxacarv/edulearn/main/dados/alunodeficiente_2016.csv', usecols=['CO_ALUNO'])\n",
        "df_2016['NU_ANO_CENSO'] = 2016\n",
        "df_2016['QNT_DE_ALUNOS'] = 1\n",
        "df_2016 = df_2016.drop(['CO_ALUNO'], axis=1)"
      ],
      "execution_count": 42,
      "outputs": []
    },
    {
      "cell_type": "code",
      "metadata": {
        "id": "lZDQvyNumqfl"
      },
      "source": [
        "df_2017 = pd.read_csv('https://raw.githubusercontent.com/roxacarv/edulearn/main/dados/alunodeficiente_2017.csv', usecols=['CO_ALUNO'])\n",
        "df_2017['NU_ANO_CENSO'] = 2017\n",
        "df_2017['QNT_DE_ALUNOS'] = 1\n",
        "df_2017 = df_2017.drop(['CO_ALUNO'], axis=1)"
      ],
      "execution_count": 43,
      "outputs": []
    },
    {
      "cell_type": "code",
      "metadata": {
        "id": "OCpG4N9cmt-L"
      },
      "source": [
        "df_2018 = pd.read_csv('https://raw.githubusercontent.com/roxacarv/edulearn/main/dados/alunodeficiente_2018.csv', usecols=['ID_ALUNO'])\n",
        "df_2018['NU_ANO_CENSO'] = 2018\n",
        "df_2018['QNT_DE_ALUNOS'] = 1\n",
        "df_2018 = df_2018.drop(['ID_ALUNO'], axis=1)"
      ],
      "execution_count": 47,
      "outputs": []
    },
    {
      "cell_type": "code",
      "metadata": {
        "id": "k4YUVgR1mwNn"
      },
      "source": [
        "df_2019 = pd.read_csv('https://raw.githubusercontent.com/roxacarv/edulearn/main/dados/alunodeficiente_2019.csv', usecols=['ID_ALUNO'])\n",
        "df_2019['NU_ANO_CENSO'] = 2019\n",
        "df_2019['QNT_DE_ALUNOS'] = 1\n",
        "df_2019 = df_2019.drop(['ID_ALUNO'], axis=1)"
      ],
      "execution_count": 48,
      "outputs": []
    },
    {
      "cell_type": "code",
      "metadata": {
        "id": "Ofwr6GJzmy_J",
        "colab": {
          "base_uri": "https://localhost:8080/",
          "height": 328
        },
        "outputId": "48676ece-745a-4b27-c34a-f4ab756c2207"
      },
      "source": [
        "lista_dfs = [df_2011, df_2012, df_2013, df_2014, df_2015, df_2016, df_2017, df_2018, df_2019]\n",
        "df_regressao = pd.concat(lista_dfs)\n",
        "df_alunos_anos = df_regressao.groupby('NU_ANO_CENSO').sum().reset_index()\n",
        "df_alunos_anos"
      ],
      "execution_count": 49,
      "outputs": [
        {
          "output_type": "execute_result",
          "data": {
            "text/html": [
              "<div>\n",
              "<style scoped>\n",
              "    .dataframe tbody tr th:only-of-type {\n",
              "        vertical-align: middle;\n",
              "    }\n",
              "\n",
              "    .dataframe tbody tr th {\n",
              "        vertical-align: top;\n",
              "    }\n",
              "\n",
              "    .dataframe thead th {\n",
              "        text-align: right;\n",
              "    }\n",
              "</style>\n",
              "<table border=\"1\" class=\"dataframe\">\n",
              "  <thead>\n",
              "    <tr style=\"text-align: right;\">\n",
              "      <th></th>\n",
              "      <th>NU_ANO_CENSO</th>\n",
              "      <th>QNT_DE_ALUNOS</th>\n",
              "    </tr>\n",
              "  </thead>\n",
              "  <tbody>\n",
              "    <tr>\n",
              "      <th>0</th>\n",
              "      <td>2011</td>\n",
              "      <td>29033</td>\n",
              "    </tr>\n",
              "    <tr>\n",
              "      <th>1</th>\n",
              "      <td>2012</td>\n",
              "      <td>34656</td>\n",
              "    </tr>\n",
              "    <tr>\n",
              "      <th>2</th>\n",
              "      <td>2013</td>\n",
              "      <td>37796</td>\n",
              "    </tr>\n",
              "    <tr>\n",
              "      <th>3</th>\n",
              "      <td>2014</td>\n",
              "      <td>45088</td>\n",
              "    </tr>\n",
              "    <tr>\n",
              "      <th>4</th>\n",
              "      <td>2015</td>\n",
              "      <td>51685</td>\n",
              "    </tr>\n",
              "    <tr>\n",
              "      <th>5</th>\n",
              "      <td>2016</td>\n",
              "      <td>49813</td>\n",
              "    </tr>\n",
              "    <tr>\n",
              "      <th>6</th>\n",
              "      <td>2017</td>\n",
              "      <td>52542</td>\n",
              "    </tr>\n",
              "    <tr>\n",
              "      <th>7</th>\n",
              "      <td>2018</td>\n",
              "      <td>59496</td>\n",
              "    </tr>\n",
              "    <tr>\n",
              "      <th>8</th>\n",
              "      <td>2019</td>\n",
              "      <td>66750</td>\n",
              "    </tr>\n",
              "  </tbody>\n",
              "</table>\n",
              "</div>"
            ],
            "text/plain": [
              "   NU_ANO_CENSO  QNT_DE_ALUNOS\n",
              "0          2011          29033\n",
              "1          2012          34656\n",
              "2          2013          37796\n",
              "3          2014          45088\n",
              "4          2015          51685\n",
              "5          2016          49813\n",
              "6          2017          52542\n",
              "7          2018          59496\n",
              "8          2019          66750"
            ]
          },
          "metadata": {},
          "execution_count": 49
        }
      ]
    },
    {
      "cell_type": "code",
      "metadata": {
        "id": "j4cwtqAso0UY",
        "colab": {
          "base_uri": "https://localhost:8080/",
          "height": 111
        },
        "outputId": "cde498c8-30aa-4d25-fa47-2f1d3fa05d46"
      },
      "source": [
        "df_alunos_anos.corr()"
      ],
      "execution_count": 50,
      "outputs": [
        {
          "output_type": "execute_result",
          "data": {
            "text/html": [
              "<div>\n",
              "<style scoped>\n",
              "    .dataframe tbody tr th:only-of-type {\n",
              "        vertical-align: middle;\n",
              "    }\n",
              "\n",
              "    .dataframe tbody tr th {\n",
              "        vertical-align: top;\n",
              "    }\n",
              "\n",
              "    .dataframe thead th {\n",
              "        text-align: right;\n",
              "    }\n",
              "</style>\n",
              "<table border=\"1\" class=\"dataframe\">\n",
              "  <thead>\n",
              "    <tr style=\"text-align: right;\">\n",
              "      <th></th>\n",
              "      <th>NU_ANO_CENSO</th>\n",
              "      <th>QNT_DE_ALUNOS</th>\n",
              "    </tr>\n",
              "  </thead>\n",
              "  <tbody>\n",
              "    <tr>\n",
              "      <th>NU_ANO_CENSO</th>\n",
              "      <td>1.000000</td>\n",
              "      <td>0.980365</td>\n",
              "    </tr>\n",
              "    <tr>\n",
              "      <th>QNT_DE_ALUNOS</th>\n",
              "      <td>0.980365</td>\n",
              "      <td>1.000000</td>\n",
              "    </tr>\n",
              "  </tbody>\n",
              "</table>\n",
              "</div>"
            ],
            "text/plain": [
              "               NU_ANO_CENSO  QNT_DE_ALUNOS\n",
              "NU_ANO_CENSO       1.000000       0.980365\n",
              "QNT_DE_ALUNOS      0.980365       1.000000"
            ]
          },
          "metadata": {},
          "execution_count": 50
        }
      ]
    },
    {
      "cell_type": "markdown",
      "metadata": {
        "id": "5mNynPXSpwN1"
      },
      "source": [
        "Checando se existe uma grande correlação entre as variaveis"
      ]
    },
    {
      "cell_type": "markdown",
      "metadata": {
        "id": "97g2Rfokp4ts"
      },
      "source": [
        "# Inicio do ML"
      ]
    },
    {
      "cell_type": "code",
      "metadata": {
        "id": "FBm6MQ-VGPLS",
        "outputId": "d6f0657a-fc4f-4b88-f8c2-7e7e62cb0a99",
        "colab": {
          "base_uri": "https://localhost:8080/"
        }
      },
      "source": [
        "df_alunos_anos.columns"
      ],
      "execution_count": 52,
      "outputs": [
        {
          "output_type": "execute_result",
          "data": {
            "text/plain": [
              "Index(['NU_ANO_CENSO', 'QNT_DE_ALUNOS'], dtype='object')"
            ]
          },
          "metadata": {},
          "execution_count": 52
        }
      ]
    },
    {
      "cell_type": "code",
      "metadata": {
        "id": "KfFW5DT5zw_O"
      },
      "source": [
        "x = df_alunos_anos['NU_ANO_CENSO'].values\n",
        "Y = df_alunos_anos['QNT_DE_ALUNOS'].values"
      ],
      "execution_count": 59,
      "outputs": []
    },
    {
      "cell_type": "code",
      "metadata": {
        "id": "3MOKH8zFFnpq",
        "outputId": "8f002f3f-2a28-4314-dc30-baaaf0135201",
        "colab": {
          "base_uri": "https://localhost:8080/",
          "height": 280
        }
      },
      "source": [
        "plt.scatter(x,y,label='QNT_DE_ALUNOS(NU_ANO_CENSO)');\n",
        "plt.xlabel('NU_ANO_CENSO');\n",
        "plt.ylabel('QNT_DE_ALUNOS');\n",
        "plt.legend();"
      ],
      "execution_count": 54,
      "outputs": [
        {
          "output_type": "display_data",
          "data": {
            "image/png": "[encoded data removed]",
            "text/plain": [
              "<Figure size 432x288 with 1 Axes>"
            ]
          },
          "metadata": {
            "needs_background": "light"
          }
        }
      ]
    },
    {
      "cell_type": "code",
      "metadata": {
        "id": "vBcsMsVd0Crm"
      },
      "source": [
        "modelo = LinearRegression()"
      ],
      "execution_count": 55,
      "outputs": []
    },
    {
      "cell_type": "code",
      "metadata": {
        "id": "RZpqsyTBI583"
      },
      "source": [
        "X = x.reshape(-1, 1)"
      ],
      "execution_count": 56,
      "outputs": []
    },
    {
      "cell_type": "code",
      "metadata": {
        "id": "6iW6qgb_JJ86",
        "outputId": "f6016ef9-388d-4aae-b6dd-cbd5127a2bca",
        "colab": {
          "base_uri": "https://localhost:8080/"
        }
      },
      "source": [
        "modelo.fit(X,Y)"
      ],
      "execution_count": 60,
      "outputs": [
        {
          "output_type": "execute_result",
          "data": {
            "text/plain": [
              "LinearRegression(copy_X=True, fit_intercept=True, n_jobs=None, normalize=False)"
            ]
          },
          "metadata": {},
          "execution_count": 60
        }
      ]
    },
    {
      "cell_type": "code",
      "metadata": {
        "id": "GQBHkLj2JXHG"
      },
      "source": [
        "acuracia = modelo.score(X, Y)"
      ],
      "execution_count": 74,
      "outputs": []
    },
    {
      "cell_type": "code",
      "metadata": {
        "id": "Z9g4gjLmJ0om",
        "outputId": "925a46ca-7672-4376-8c09-2a372b5ea2d2",
        "colab": {
          "base_uri": "https://localhost:8080/"
        }
      },
      "source": [
        "print(\"Acuracia = {:0.2f}\".format(acuracia))"
      ],
      "execution_count": 75,
      "outputs": [
        {
          "output_type": "stream",
          "name": "stdout",
          "text": [
            "Acuracia = 0.96\n"
          ]
        }
      ]
    },
    {
      "cell_type": "code",
      "metadata": {
        "id": "4UIlsPgJJ5uk"
      },
      "source": [
        "coef_angular = modelo.coef_[0]"
      ],
      "execution_count": 63,
      "outputs": []
    },
    {
      "cell_type": "code",
      "metadata": {
        "id": "kaGo3TV7J_f_"
      },
      "source": [
        "coef_linear = modelo.intercept_"
      ],
      "execution_count": 64,
      "outputs": []
    },
    {
      "cell_type": "code",
      "metadata": {
        "id": "Ltw-w-RKKEuJ",
        "outputId": "b0a2cec9-15f7-49c2-c316-e8abaa3aa403",
        "colab": {
          "base_uri": "https://localhost:8080/"
        }
      },
      "source": [
        "print(\"Coeficiente angular = {:0.2f}\".format(coef_angular))"
      ],
      "execution_count": 72,
      "outputs": [
        {
          "output_type": "stream",
          "name": "stdout",
          "text": [
            "Coeficiente angular = 4326.75\n"
          ]
        }
      ]
    },
    {
      "cell_type": "code",
      "metadata": {
        "id": "EwYJ3eC-KGOT",
        "outputId": "aa4fa5d0-a606-4062-8474-25012e62ab75",
        "colab": {
          "base_uri": "https://localhost:8080/"
        }
      },
      "source": [
        "print(\"Coeficiente linear = {:0.2f}\".format(coef_linear))"
      ],
      "execution_count": 68,
      "outputs": [
        {
          "output_type": "stream",
          "name": "stdout",
          "text": [
            "Coeficiente linear = -8670972.47\n"
          ]
        }
      ]
    },
    {
      "cell_type": "code",
      "metadata": {
        "id": "G7zBfYZaKTjh"
      },
      "source": [
        "reta = coef_angular*X+coef_linear"
      ],
      "execution_count": 69,
      "outputs": []
    },
    {
      "cell_type": "code",
      "metadata": {
        "id": "hr8VJiXfKZQq",
        "outputId": "c21ec127-fa4d-4c68-f212-99ccfbaa02f8",
        "colab": {
          "base_uri": "https://localhost:8080/",
          "height": 279
        }
      },
      "source": [
        "plt.scatter(X,Y,label='Y(X)');\n",
        "plt.plot(X,reta,label='Ajuste linear',color='red');\n",
        "plt.xlabel('X');\n",
        "plt.ylabel('Y');\n",
        "plt.legend();"
      ],
      "execution_count": 70,
      "outputs": [
        {
          "output_type": "display_data",
          "data": {
            "image/png": "[encoded data removed]",
            "text/plain": [
              "<Figure size 432x288 with 1 Axes>"
            ]
          },
          "metadata": {
            "needs_background": "light"
          }
        }
      ]
    },
    {
      "cell_type": "code",
      "metadata": {
        "id": "VumhUBIDKgVX",
        "outputId": "c6e403d4-84f6-43c8-d9f2-1036c657bb4c",
        "colab": {
          "base_uri": "https://localhost:8080/"
        }
      },
      "source": [
        "from sklearn.metrics import mean_absolute_error,mean_squared_error\n",
        "\n",
        "MAE = mean_absolute_error(Y,reta)\n",
        "RMSE = np.sqrt(mean_squared_error(Y,reta))\n",
        "\n",
        "print(\"MAE = {:0.2f}\".format(MAE))\n",
        "print(\"RMSE = {:0.2f}\".format(RMSE))"
      ],
      "execution_count": 71,
      "outputs": [
        {
          "output_type": "stream",
          "name": "stdout",
          "text": [
            "MAE = 1880.86\n",
            "RMSE = 2247.09\n"
          ]
        }
      ]
    },
    {
      "cell_type": "markdown",
      "metadata": {
        "id": "-us_5-I0H_qO"
      },
      "source": [
        "# teste"
      ]
    },
    {
      "cell_type": "code",
      "metadata": {
        "id": "ZJKsbcJWIBOF",
        "colab": {
          "base_uri": "https://localhost:8080/"
        },
        "outputId": "5f9c71e4-9956-4d63-9cd6-6f154fcb9ae6"
      },
      "source": [
        "df_aluno_2019 = pd.read_csv('https://raw.githubusercontent.com/roxacarv/edulearn/main/dados/alunodeficiente_2019.csv', encoding='latin-1', usecols=['NU_ANO_CENSO','CO_CURSO','CO_IES','TP_COR_RACA','TP_SEXO','NU_ANO_NASCIMENTO','CO_PAIS_ORIGEM','TP_SITUACAO','IN_MATRICULA','IN_CONCLUINTE','IN_DEFICIENCIA','IN_DEFICIENCIA_AUDITIVA','IN_DEFICIENCIA_FISICA','IN_DEFICIENCIA_INTELECTUAL','IN_DEFICIENCIA_MULTIPLA','IN_DEFICIENCIA_SURDEZ','IN_DEFICIENCIA_SURDOCEGUEIRA','IN_DEFICIENCIA_BAIXA_VISAO','IN_DEFICIENCIA_CEGUEIRA','IN_DEFICIENCIA_SUPERDOTACAO','IN_TGD_AUTISMO','IN_TGD_SINDROME_ASPERGER','IN_TGD_SINDROME_RETT','IN_TGD_TRANSTOR_DESINTEGRATIVO','IN_RESERVA_DEFICIENCIA'])\n",
        "df_aluno_2019 = df_aluno_2019.loc[df_aluno_2019['TP_SITUACAO'] == 2]\n",
        "df_curso_2019 = pd.read_csv('https://raw.githubusercontent.com/roxacarv/edulearn/main/dados/SUP_CURSO_2019.CSV', sep='|', encoding='latin-1', usecols=['NU_ANO_CENSO','CO_IES','CO_UF','CO_MUNICIPIO','CO_CURSO','NO_CURSO','CO_CINE_ROTULO','TP_SITUACAO','TP_GRAU_ACADEMICO','TP_MODALIDADE_ENSINO','IN_AJUDA_DEFICIENTE','IN_MATERIAL_DIGITAL','IN_MATERIAL_AMPLIADO','IN_MATERIAL_TATIL','IN_MATERIAL_IMPRESSO','IN_MATERIAL_AUDIO','IN_MATERIAL_BRAILLE','IN_MATERIAL_LIBRAS','IN_DISCIPLINA_LIBRAS','IN_TRADUTOR_LIBRAS','IN_GUIA_INTERPRETE','IN_RECURSOS_COMUNICACAO','IN_RECURSOS_INFORMATICA','QT_MATRICULA_TOTAL','QT_CONCLUINTE_TOTAL'])\n",
        "\n",
        "df = pd.merge(df_aluno_2019, df_curso_2019, how='inner', on='CO_CURSO')\n",
        "df.columns"
      ],
      "execution_count": null,
      "outputs": [
        {
          "output_type": "execute_result",
          "data": {
            "text/plain": [
              "Index(['NU_ANO_CENSO_x', 'CO_IES_x', 'CO_CURSO', 'TP_COR_RACA', 'TP_SEXO',\n",
              "       'NU_ANO_NASCIMENTO', 'CO_PAIS_ORIGEM', 'IN_DEFICIENCIA',\n",
              "       'IN_DEFICIENCIA_AUDITIVA', 'IN_DEFICIENCIA_FISICA',\n",
              "       'IN_DEFICIENCIA_INTELECTUAL', 'IN_DEFICIENCIA_MULTIPLA',\n",
              "       'IN_DEFICIENCIA_SURDEZ', 'IN_DEFICIENCIA_SURDOCEGUEIRA',\n",
              "       'IN_DEFICIENCIA_BAIXA_VISAO', 'IN_DEFICIENCIA_CEGUEIRA',\n",
              "       'IN_DEFICIENCIA_SUPERDOTACAO', 'IN_TGD_AUTISMO',\n",
              "       'IN_TGD_SINDROME_ASPERGER', 'IN_TGD_SINDROME_RETT',\n",
              "       'IN_TGD_TRANSTOR_DESINTEGRATIVO', 'TP_SITUACAO_x',\n",
              "       'IN_RESERVA_DEFICIENCIA', 'IN_MATRICULA', 'IN_CONCLUINTE',\n",
              "       'NU_ANO_CENSO_y', 'CO_IES_y', 'CO_UF', 'CO_MUNICIPIO', 'NO_CURSO',\n",
              "       'TP_SITUACAO_y', 'CO_CINE_ROTULO', 'TP_GRAU_ACADEMICO',\n",
              "       'TP_MODALIDADE_ENSINO', 'IN_AJUDA_DEFICIENTE', 'IN_MATERIAL_DIGITAL',\n",
              "       'IN_MATERIAL_AMPLIADO', 'IN_MATERIAL_TATIL', 'IN_MATERIAL_IMPRESSO',\n",
              "       'IN_MATERIAL_AUDIO', 'IN_MATERIAL_BRAILLE', 'IN_MATERIAL_LIBRAS',\n",
              "       'IN_DISCIPLINA_LIBRAS', 'IN_TRADUTOR_LIBRAS', 'IN_GUIA_INTERPRETE',\n",
              "       'IN_RECURSOS_COMUNICACAO', 'IN_RECURSOS_INFORMATICA',\n",
              "       'QT_MATRICULA_TOTAL', 'QT_CONCLUINTE_TOTAL'],\n",
              "      dtype='object')"
            ]
          },
          "metadata": {},
          "execution_count": 103
        }
      ]
    }
  ]
}