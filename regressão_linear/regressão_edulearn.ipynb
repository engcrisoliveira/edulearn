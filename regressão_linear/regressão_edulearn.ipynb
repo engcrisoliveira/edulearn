{
  "nbformat": 4,
  "nbformat_minor": 0,
  "metadata": {
    "colab": {
      "name": "regressao_edulearn.ipynb",
      "provenance": [],
      "include_colab_link": true
    },
    "kernelspec": {
      "name": "python3",
      "display_name": "Python 3"
    },
    "language_info": {
      "name": "python"
    }
  },
  "cells": [
    {
      "cell_type": "markdown",
      "metadata": {
        "id": "view-in-github",
        "colab_type": "text"
      },
      "source": [
        "<a href=\"https://colab.research.google.com/github/roxacarv/edulearn/blob/main/regress%C3%A3o_linear/regress%C3%A3o_edulearn.ipynb\" target=\"_parent\"><img src=\"https://colab.research.google.com/assets/colab-badge.svg\" alt=\"Open In Colab\"/></a>"
      ]
    },
    {
      "cell_type": "markdown",
      "metadata": {
        "id": "uG_W4lr5fqdp"
      },
      "source": [
        "# Importando as bibliotecas\n"
      ]
    },
    {
      "cell_type": "code",
      "metadata": {
        "id": "1NS380pCU024"
      },
      "source": [
        "import pandas as pd\n",
        "import seaborn as sns\n",
        "import numpy as np\n",
        "import matplotlib.pyplot as plt\n",
        "from sklearn.model_selection import train_test_split\n",
        "from sklearn.linear_model import LinearRegression\n",
        "from sklearn import metrics"
      ],
      "execution_count": 1,
      "outputs": []
    },
    {
      "cell_type": "markdown",
      "metadata": {
        "id": "HIhOPjcofyeI"
      },
      "source": [
        "# Importando a base de dados que irá alimentar o modelo"
      ]
    },
    {
      "cell_type": "code",
      "metadata": {
        "id": "pXaDI9-Wfm2U"
      },
      "source": [
        "df_2011 = pd.read_csv('https://raw.githubusercontent.com/roxacarv/edulearn/main/dados/alunodeficiente_2011.csv', usecols=['CO_ALUNO', 'IN_DEF_AUDITIVA', 'IN_DEF_FISICA', 'IN_DEF_INTELECTUAL', 'IN_DEF_MULTIPLA', 'IN_DEF_SURDEZ', 'IN_DEF_SURDOCEGUEIRA', 'IN_DEF_BAIXA_VISAO', 'IN_DEF_CEGUEIRA', 'IN_DEF_SUPERDOTACAO', 'IN_TGD_AUTISMO_INFANTIL', 'IN_TGD_SINDROME_ASPERGER', 'IN_TGD_SINDROME_RETT', 'IN_TGD_TRANSTOR_DESINTEGRATIVO'])\n",
        "df_2011['NU_ANO_CENSO'] = 2011"
      ],
      "execution_count": 2,
      "outputs": []
    },
    {
      "cell_type": "code",
      "metadata": {
        "id": "DsRiOk2Jlxx3"
      },
      "source": [
        "df_2012 = pd.read_csv('https://raw.githubusercontent.com/roxacarv/edulearn/main/dados/alunodeficiente_2012.csv', usecols=['CO_ALUNO', 'IN_DEF_AUDITIVA', 'IN_DEF_FISICA', 'IN_DEF_INTELECTUAL', 'IN_DEF_MULTIPLA', 'IN_DEF_SURDEZ', 'IN_DEF_SURDOCEGUEIRA', 'IN_DEF_BAIXA_VISAO', 'IN_DEF_CEGUEIRA', 'IN_DEF_SUPERDOTACAO', 'IN_TGD_AUTISMO_INFANTIL', 'IN_TGD_SINDROME_ASPERGER', 'IN_TGD_SINDROME_RETT', 'IN_TGD_TRANSTOR_DESINTEGRATIVO'])\n",
        "df_2012['NU_ANO_CENSO'] = 2012"
      ],
      "execution_count": 3,
      "outputs": []
    },
    {
      "cell_type": "code",
      "metadata": {
        "id": "IR3Tz0tUl7-n"
      },
      "source": [
        "df_2013 = pd.read_csv('https://raw.githubusercontent.com/roxacarv/edulearn/main/dados/alunodeficiente_2013.csv', usecols=['CO_ALUNO', 'IN_DEF_AUDITIVA', 'IN_DEF_FISICA', 'IN_DEF_INTELECTUAL', 'IN_DEF_MULTIPLA', 'IN_DEF_SURDEZ', 'IN_DEF_SURDOCEGUEIRA', 'IN_DEF_BAIXA_VISAO', 'IN_DEF_CEGUEIRA', 'IN_DEF_SUPERDOTACAO', 'IN_TGD_AUTISMO_INFANTIL', 'IN_TGD_SINDROME_ASPERGER', 'IN_TGD_SINDROME_RETT', 'IN_TGD_TRANSTOR_DESINTEGRATIVO'])\n",
        "df_2013['NU_ANO_CENSO'] = 2013"
      ],
      "execution_count": 4,
      "outputs": []
    },
    {
      "cell_type": "code",
      "metadata": {
        "id": "QyPabdZkmBdu"
      },
      "source": [
        "df_2014 = pd.read_csv('https://raw.githubusercontent.com/roxacarv/edulearn/main/dados/alunodeficiente_2014.csv', usecols=['CO_ALUNO', 'IN_DEF_AUDITIVA', 'IN_DEF_FISICA', 'IN_DEF_INTELECTUAL', 'IN_DEF_MULTIPLA', 'IN_DEF_SURDEZ', 'IN_DEF_SURDOCEGUEIRA', 'IN_DEF_BAIXA_VISAO', 'IN_DEF_CEGUEIRA', 'IN_DEF_SUPERDOTACAO', 'IN_TGD_AUTISMO_INFANTIL', 'IN_TGD_SINDROME_ASPERGER', 'IN_TGD_SINDROME_RETT', 'IN_TGD_TRANSTOR_DESINTEGRATIVO'])\n",
        "df_2014['NU_ANO_CENSO'] = 2014"
      ],
      "execution_count": 5,
      "outputs": []
    },
    {
      "cell_type": "code",
      "metadata": {
        "id": "spo5WbQsmGvN"
      },
      "source": [
        "df_2015 = pd.read_csv('https://raw.githubusercontent.com/roxacarv/edulearn/main/dados/alunodeficiente_2015.csv', usecols=['CO_ALUNO', 'IN_DEF_AUDITIVA', 'IN_DEF_FISICA', 'IN_DEF_INTELECTUAL', 'IN_DEF_MULTIPLA', 'IN_DEF_SURDEZ', 'IN_DEF_SURDOCEGUEIRA', 'IN_DEF_BAIXA_VISAO', 'IN_DEF_CEGUEIRA', 'IN_DEF_SUPERDOTACAO', 'IN_TGD_AUTISMO_INFANTIL', 'IN_TGD_SINDROME_ASPERGER', 'IN_TGD_SINDROME_RETT', 'IN_TGD_TRANSTOR_DESINTEGRATIVO'])\n",
        "df_2015['NU_ANO_CENSO'] = 2015"
      ],
      "execution_count": 6,
      "outputs": []
    },
    {
      "cell_type": "code",
      "metadata": {
        "id": "jipG921tmJLl"
      },
      "source": [
        "df_2016 = pd.read_csv('https://raw.githubusercontent.com/roxacarv/edulearn/main/dados/alunodeficiente_2016.csv', usecols=['CO_ALUNO', 'IN_DEF_AUDITIVA', 'IN_DEF_FISICA', 'IN_DEF_INTELECTUAL', 'IN_DEF_MULTIPLA', 'IN_DEF_SURDEZ', 'IN_DEF_SURDOCEGUEIRA', 'IN_DEF_BAIXA_VISAO', 'IN_DEF_CEGUEIRA', 'IN_DEF_SUPERDOTACAO', 'IN_TGD_AUTISMO_INFANTIL', 'IN_TGD_SINDROME_ASPERGER', 'IN_TGD_SINDROME_RETT', 'IN_TGD_TRANSTOR_DESINTEGRATIVO'])\n",
        "df_2016['NU_ANO_CENSO'] = 2016"
      ],
      "execution_count": 7,
      "outputs": []
    },
    {
      "cell_type": "code",
      "metadata": {
        "id": "lZDQvyNumqfl"
      },
      "source": [
        "df_2017 = pd.read_csv('https://raw.githubusercontent.com/roxacarv/edulearn/main/dados/alunodeficiente_2017.csv', usecols=['CO_ALUNO', 'IN_DEFICIENCIA_AUDITIVA', 'IN_DEFICIENCIA_FISICA', 'IN_DEFICIENCIA_INTELECTUAL', 'IN_DEFICIENCIA_MULTIPLA', 'IN_DEFICIENCIA_SURDEZ', 'IN_DEFICIENCIA_SURDOCEGUEIRA', 'IN_DEFICIENCIA_BAIXA_VISAO', 'IN_DEFICIENCIA_CEGUEIRA', 'IN_DEFICIENCIA_SUPERDOTACAO', 'IN_TGD_AUTISMO_INFANTIL', 'IN_TGD_SINDROME_ASPERGER', 'IN_TGD_SINDROME_RETT', 'IN_TGD_TRANSTOR_DESINTEGRATIVO'])\n",
        "df_2017['NU_ANO_CENSO'] = 2017"
      ],
      "execution_count": 8,
      "outputs": []
    },
    {
      "cell_type": "code",
      "metadata": {
        "id": "OCpG4N9cmt-L"
      },
      "source": [
        "df_2018 = pd.read_csv('https://raw.githubusercontent.com/roxacarv/edulearn/main/dados/alunodeficiente_2018.csv', usecols=['ID_ALUNO', 'IN_DEFICIENCIA_AUDITIVA', 'IN_DEFICIENCIA_FISICA', 'IN_DEFICIENCIA_INTELECTUAL', 'IN_DEFICIENCIA_MULTIPLA', 'IN_DEFICIENCIA_SURDEZ', 'IN_DEFICIENCIA_SURDOCEGUEIRA', 'IN_DEFICIENCIA_BAIXA_VISAO', 'IN_DEFICIENCIA_CEGUEIRA', 'IN_DEFICIENCIA_SUPERDOTACAO', 'IN_TGD_AUTISMO', 'IN_TGD_SINDROME_ASPERGER', 'IN_TGD_SINDROME_RETT', 'IN_TGD_TRANSTOR_DESINTEGRATIVO'])\n",
        "df_2018['NU_ANO_CENSO'] = 2018"
      ],
      "execution_count": 9,
      "outputs": []
    },
    {
      "cell_type": "code",
      "metadata": {
        "id": "k4YUVgR1mwNn"
      },
      "source": [
        "df_2019 = pd.read_csv('https://raw.githubusercontent.com/roxacarv/edulearn/main/dados/alunodeficiente_2019.csv', usecols=['ID_ALUNO', 'IN_DEFICIENCIA_AUDITIVA', 'IN_DEFICIENCIA_FISICA', 'IN_DEFICIENCIA_INTELECTUAL', 'IN_DEFICIENCIA_MULTIPLA', 'IN_DEFICIENCIA_SURDEZ', 'IN_DEFICIENCIA_SURDOCEGUEIRA', 'IN_DEFICIENCIA_BAIXA_VISAO', 'IN_DEFICIENCIA_CEGUEIRA', 'IN_DEFICIENCIA_SUPERDOTACAO', 'IN_TGD_AUTISMO', 'IN_TGD_SINDROME_ASPERGER', 'IN_TGD_SINDROME_RETT', 'IN_TGD_TRANSTOR_DESINTEGRATIVO'])\n",
        "df_2019['NU_ANO_CENSO'] = 2019"
      ],
      "execution_count": 10,
      "outputs": []
    },
    {
      "cell_type": "code",
      "metadata": {
        "id": "Ofwr6GJzmy_J",
        "colab": {
          "base_uri": "https://localhost:8080/",
          "height": 363
        },
        "outputId": "56df439c-9c17-4a85-ecca-d0bf4a48322b"
      },
      "source": [
        "df_regressao = pd.concat([df_2011, df_2012, df_2013, df_2014, df_2015, df_2016, df_2017, df_2018, df_2019])\n",
        "df_regressao['QNT_DE_ALUNOS'] = 'NaN'\n",
        "df_alunos_anos = df_regressao.groupby('NU_ANO_CENSO').agg({'QNT_DE_ALUNOS': ['count']}).reset_index()\n",
        "df_alunos_anos"
      ],
      "execution_count": 11,
      "outputs": [
        {
          "output_type": "execute_result",
          "data": {
            "text/html": [
              "<div>\n",
              "<style scoped>\n",
              "    .dataframe tbody tr th:only-of-type {\n",
              "        vertical-align: middle;\n",
              "    }\n",
              "\n",
              "    .dataframe tbody tr th {\n",
              "        vertical-align: top;\n",
              "    }\n",
              "\n",
              "    .dataframe thead tr th {\n",
              "        text-align: left;\n",
              "    }\n",
              "</style>\n",
              "<table border=\"1\" class=\"dataframe\">\n",
              "  <thead>\n",
              "    <tr>\n",
              "      <th></th>\n",
              "      <th>NU_ANO_CENSO</th>\n",
              "      <th>QNT_DE_ALUNOS</th>\n",
              "    </tr>\n",
              "    <tr>\n",
              "      <th></th>\n",
              "      <th></th>\n",
              "      <th>count</th>\n",
              "    </tr>\n",
              "  </thead>\n",
              "  <tbody>\n",
              "    <tr>\n",
              "      <th>0</th>\n",
              "      <td>2011</td>\n",
              "      <td>29033</td>\n",
              "    </tr>\n",
              "    <tr>\n",
              "      <th>1</th>\n",
              "      <td>2012</td>\n",
              "      <td>34656</td>\n",
              "    </tr>\n",
              "    <tr>\n",
              "      <th>2</th>\n",
              "      <td>2013</td>\n",
              "      <td>37796</td>\n",
              "    </tr>\n",
              "    <tr>\n",
              "      <th>3</th>\n",
              "      <td>2014</td>\n",
              "      <td>45088</td>\n",
              "    </tr>\n",
              "    <tr>\n",
              "      <th>4</th>\n",
              "      <td>2015</td>\n",
              "      <td>51685</td>\n",
              "    </tr>\n",
              "    <tr>\n",
              "      <th>5</th>\n",
              "      <td>2016</td>\n",
              "      <td>49813</td>\n",
              "    </tr>\n",
              "    <tr>\n",
              "      <th>6</th>\n",
              "      <td>2017</td>\n",
              "      <td>52542</td>\n",
              "    </tr>\n",
              "    <tr>\n",
              "      <th>7</th>\n",
              "      <td>2018</td>\n",
              "      <td>59496</td>\n",
              "    </tr>\n",
              "    <tr>\n",
              "      <th>8</th>\n",
              "      <td>2019</td>\n",
              "      <td>66750</td>\n",
              "    </tr>\n",
              "  </tbody>\n",
              "</table>\n",
              "</div>"
            ],
            "text/plain": [
              "  NU_ANO_CENSO QNT_DE_ALUNOS\n",
              "                       count\n",
              "0         2011         29033\n",
              "1         2012         34656\n",
              "2         2013         37796\n",
              "3         2014         45088\n",
              "4         2015         51685\n",
              "5         2016         49813\n",
              "6         2017         52542\n",
              "7         2018         59496\n",
              "8         2019         66750"
            ]
          },
          "metadata": {},
          "execution_count": 11
        }
      ]
    },
    {
      "cell_type": "markdown",
      "metadata": {
        "id": "97g2Rfokp4ts"
      },
      "source": [
        "# Inicio do ML"
      ]
    },
    {
      "cell_type": "code",
      "metadata": {
        "id": "KfFW5DT5zw_O"
      },
      "source": [
        "x = df_alunos_anos['NU_ANO_CENSO'].values\n",
        "x = x.reshape(-1, 1)\n",
        "y = df_alunos_anos['QNT_DE_ALUNOS'].values"
      ],
      "execution_count": 58,
      "outputs": []
    },
    {
      "cell_type": "code",
      "metadata": {
        "id": "3MOKH8zFFnpq",
        "colab": {
          "base_uri": "https://localhost:8080/",
          "height": 302
        },
        "outputId": "13375dae-4397-4de5-f368-d8f38ef83d4c"
      },
      "source": [
        "plt.figure(figsize =(7, 4))\n",
        "plt.scatter(x,y,label='QNT_DE_ALUNOS(NU_ANO_CENSO)', cmap='crest')\n",
        "plt.title(\"EVOLUÇÃO DOS ALUNOS COM DEFICIÊNCIA NO ENSINO SUPERIOR\", fontsize=14)\n",
        "plt.xlabel('Ano', fontsize=13), plt.ylabel('Alunos', fontsize=13)\n",
        "plt.legend()\n",
        "plt.savefig('evolucao_alunos.png', transparent = True)"
      ],
      "execution_count": 63,
      "outputs": [
        {
          "output_type": "display_data",
          "data": {
            "image/png": "[encoded data removed]",
            "text/plain": [
              "<Figure size 504x288 with 1 Axes>"
            ]
          },
          "metadata": {
            "needs_background": "light"
          }
        }
      ]
    },
    {
      "cell_type": "code",
      "metadata": {
        "id": "vBcsMsVd0Crm"
      },
      "source": [
        "modelo = LinearRegression()"
      ],
      "execution_count": 14,
      "outputs": []
    },
    {
      "cell_type": "code",
      "metadata": {
        "id": "6iW6qgb_JJ86",
        "colab": {
          "base_uri": "https://localhost:8080/"
        },
        "outputId": "5510e54b-f544-4807-8721-dc2a4e6b5e24"
      },
      "source": [
        "modelo.fit(x,y)"
      ],
      "execution_count": 15,
      "outputs": [
        {
          "output_type": "execute_result",
          "data": {
            "text/plain": [
              "LinearRegression()"
            ]
          },
          "metadata": {},
          "execution_count": 15
        }
      ]
    },
    {
      "cell_type": "code",
      "metadata": {
        "id": "GQBHkLj2JXHG",
        "colab": {
          "base_uri": "https://localhost:8080/"
        },
        "outputId": "a5a02374-db84-4aae-aa32-b0b27e1a9036"
      },
      "source": [
        "acuracia = modelo.score(x, y)\n",
        "print(f\"Acuracia = {acuracia}\")"
      ],
      "execution_count": 16,
      "outputs": [
        {
          "output_type": "stream",
          "name": "stdout",
          "text": [
            "Acuracia = 0.9611148822540995\n"
          ]
        }
      ]
    },
    {
      "cell_type": "code",
      "metadata": {
        "id": "4UIlsPgJJ5uk"
      },
      "source": [
        "coef_angular = modelo.coef_[0]\n",
        "coef_linear = modelo.intercept_"
      ],
      "execution_count": 17,
      "outputs": []
    },
    {
      "cell_type": "code",
      "metadata": {
        "id": "Ltw-w-RKKEuJ",
        "colab": {
          "base_uri": "https://localhost:8080/"
        },
        "outputId": "1c725808-b7d6-4d40-d61b-6490002e5d7f"
      },
      "source": [
        "print(f\"Coeficiente angular = {coef_angular}\")"
      ],
      "execution_count": 18,
      "outputs": [
        {
          "output_type": "stream",
          "name": "stdout",
          "text": [
            "Coeficiente angular = [4326.75]\n"
          ]
        }
      ]
    },
    {
      "cell_type": "code",
      "metadata": {
        "id": "EwYJ3eC-KGOT",
        "colab": {
          "base_uri": "https://localhost:8080/"
        },
        "outputId": "f2fd9e35-a0d5-4ed9-8747-e9945937b580"
      },
      "source": [
        "print(f\"Coeficiente angular = {coef_linear}\")"
      ],
      "execution_count": 19,
      "outputs": [
        {
          "output_type": "stream",
          "name": "stdout",
          "text": [
            "Coeficiente angular = [-8670972.47222222]\n"
          ]
        }
      ]
    },
    {
      "cell_type": "code",
      "metadata": {
        "id": "G7zBfYZaKTjh"
      },
      "source": [
        "def predição(x, coef_angular, coef_linear):\n",
        "  return coef_angular*x + coef_linear"
      ],
      "execution_count": 69,
      "outputs": []
    },
    {
      "cell_type": "code",
      "metadata": {
        "id": "hr8VJiXfKZQq",
        "colab": {
          "base_uri": "https://localhost:8080/",
          "height": 282
        },
        "outputId": "a97951bb-58e0-4526-d348-7960a3c95ab5"
      },
      "source": [
        "plt.figure(figsize =(7, 4))\n",
        "plt.scatter(x,y,label='Alunos', cmap='crest')\n",
        "plt.plot(x,predição(x, coef_angular, coef_linear),label='Ajuste linear',color='yellow')\n",
        "plt.xlabel('Ano', fontsize = 13), plt.ylabel('Alunos', fontsize = 13)\n",
        "plt.legend()\n",
        "plt.savefig('ajuste_linear.png', transparent = True)"
      ],
      "execution_count": 76,
      "outputs": [
        {
          "output_type": "display_data",
          "data": {
            "image/png": "[encoded data removed]",
            "text/plain": [
              "<Figure size 504x288 with 1 Axes>"
            ]
          },
          "metadata": {
            "needs_background": "light"
          }
        }
      ]
    },
    {
      "cell_type": "code",
      "metadata": {
        "id": "VumhUBIDKgVX",
        "colab": {
          "base_uri": "https://localhost:8080/"
        },
        "outputId": "32fa060a-eb9e-4d52-ff9d-5890b970008d"
      },
      "source": [
        "from sklearn.metrics import mean_absolute_error,mean_squared_error\n",
        "\n",
        "MAE = mean_absolute_error(y,predição(y, coef_angular, coef_linear)) # Erro absoluto médio\n",
        "RMSE = np.sqrt(mean_squared_error(y,predição(y, coef_angular, coef_linear))) #Raiz do erro quadratico médio\n",
        "\n",
        "print(\"MAE = {:0.2f}\".format(MAE))\n",
        "print(\"RMSE = {:0.2f}\".format(RMSE)) "
      ],
      "execution_count": 22,
      "outputs": [
        {
          "output_type": "stream",
          "name": "stdout",
          "text": [
            "MAE = 196494063.00\n",
            "RMSE = 202582746.30\n"
          ]
        }
      ]
    },
    {
      "cell_type": "code",
      "metadata": {
        "id": "4qenb0KPOf6O",
        "colab": {
          "base_uri": "https://localhost:8080/",
          "height": 677
        },
        "outputId": "affe49a4-2c7e-498c-e9d9-ebf12ba510cd"
      },
      "source": [
        "x = x.reshape(9,)\n",
        "a = [[x[i], int(y[i])] for i in range(len(x))]\n",
        "for i in range(2020, 2031): #adicionando a lista os anos futuros\n",
        "  a.append([i, int(predição(i, coef_angular, coef_linear))])\n",
        "df_qtd_aluno_ano = pd.DataFrame(data=a, columns=['NU_ANO', 'QTD_ALUNOS'])\n",
        "df_qtd_aluno_ano"
      ],
      "execution_count": 23,
      "outputs": [
        {
          "output_type": "execute_result",
          "data": {
            "text/html": [
              "<div>\n",
              "<style scoped>\n",
              "    .dataframe tbody tr th:only-of-type {\n",
              "        vertical-align: middle;\n",
              "    }\n",
              "\n",
              "    .dataframe tbody tr th {\n",
              "        vertical-align: top;\n",
              "    }\n",
              "\n",
              "    .dataframe thead th {\n",
              "        text-align: right;\n",
              "    }\n",
              "</style>\n",
              "<table border=\"1\" class=\"dataframe\">\n",
              "  <thead>\n",
              "    <tr style=\"text-align: right;\">\n",
              "      <th></th>\n",
              "      <th>NU_ANO</th>\n",
              "      <th>QTD_ALUNOS</th>\n",
              "    </tr>\n",
              "  </thead>\n",
              "  <tbody>\n",
              "    <tr>\n",
              "      <th>0</th>\n",
              "      <td>2011</td>\n",
              "      <td>29033</td>\n",
              "    </tr>\n",
              "    <tr>\n",
              "      <th>1</th>\n",
              "      <td>2012</td>\n",
              "      <td>34656</td>\n",
              "    </tr>\n",
              "    <tr>\n",
              "      <th>2</th>\n",
              "      <td>2013</td>\n",
              "      <td>37796</td>\n",
              "    </tr>\n",
              "    <tr>\n",
              "      <th>3</th>\n",
              "      <td>2014</td>\n",
              "      <td>45088</td>\n",
              "    </tr>\n",
              "    <tr>\n",
              "      <th>4</th>\n",
              "      <td>2015</td>\n",
              "      <td>51685</td>\n",
              "    </tr>\n",
              "    <tr>\n",
              "      <th>5</th>\n",
              "      <td>2016</td>\n",
              "      <td>49813</td>\n",
              "    </tr>\n",
              "    <tr>\n",
              "      <th>6</th>\n",
              "      <td>2017</td>\n",
              "      <td>52542</td>\n",
              "    </tr>\n",
              "    <tr>\n",
              "      <th>7</th>\n",
              "      <td>2018</td>\n",
              "      <td>59496</td>\n",
              "    </tr>\n",
              "    <tr>\n",
              "      <th>8</th>\n",
              "      <td>2019</td>\n",
              "      <td>66750</td>\n",
              "    </tr>\n",
              "    <tr>\n",
              "      <th>9</th>\n",
              "      <td>2020</td>\n",
              "      <td>69062</td>\n",
              "    </tr>\n",
              "    <tr>\n",
              "      <th>10</th>\n",
              "      <td>2021</td>\n",
              "      <td>73389</td>\n",
              "    </tr>\n",
              "    <tr>\n",
              "      <th>11</th>\n",
              "      <td>2022</td>\n",
              "      <td>77716</td>\n",
              "    </tr>\n",
              "    <tr>\n",
              "      <th>12</th>\n",
              "      <td>2023</td>\n",
              "      <td>82042</td>\n",
              "    </tr>\n",
              "    <tr>\n",
              "      <th>13</th>\n",
              "      <td>2024</td>\n",
              "      <td>86369</td>\n",
              "    </tr>\n",
              "    <tr>\n",
              "      <th>14</th>\n",
              "      <td>2025</td>\n",
              "      <td>90696</td>\n",
              "    </tr>\n",
              "    <tr>\n",
              "      <th>15</th>\n",
              "      <td>2026</td>\n",
              "      <td>95023</td>\n",
              "    </tr>\n",
              "    <tr>\n",
              "      <th>16</th>\n",
              "      <td>2027</td>\n",
              "      <td>99349</td>\n",
              "    </tr>\n",
              "    <tr>\n",
              "      <th>17</th>\n",
              "      <td>2028</td>\n",
              "      <td>103676</td>\n",
              "    </tr>\n",
              "    <tr>\n",
              "      <th>18</th>\n",
              "      <td>2029</td>\n",
              "      <td>108003</td>\n",
              "    </tr>\n",
              "    <tr>\n",
              "      <th>19</th>\n",
              "      <td>2030</td>\n",
              "      <td>112330</td>\n",
              "    </tr>\n",
              "  </tbody>\n",
              "</table>\n",
              "</div>"
            ],
            "text/plain": [
              "    NU_ANO  QTD_ALUNOS\n",
              "0     2011       29033\n",
              "1     2012       34656\n",
              "2     2013       37796\n",
              "3     2014       45088\n",
              "4     2015       51685\n",
              "5     2016       49813\n",
              "6     2017       52542\n",
              "7     2018       59496\n",
              "8     2019       66750\n",
              "9     2020       69062\n",
              "10    2021       73389\n",
              "11    2022       77716\n",
              "12    2023       82042\n",
              "13    2024       86369\n",
              "14    2025       90696\n",
              "15    2026       95023\n",
              "16    2027       99349\n",
              "17    2028      103676\n",
              "18    2029      108003\n",
              "19    2030      112330"
            ]
          },
          "metadata": {},
          "execution_count": 23
        }
      ]
    },
    {
      "cell_type": "code",
      "metadata": {
        "id": "XStN63wpeMMB",
        "colab": {
          "base_uri": "https://localhost:8080/",
          "height": 282
        },
        "outputId": "ca93e630-ebd5-4c09-8122-2fdf7afe5c31"
      },
      "source": [
        "plt.figure(figsize =(7, 4))\n",
        "sns.scatterplot(x='NU_ANO', y='QTD_ALUNOS', data=df_qtd_aluno_ano.loc[0:8], label='Dados existentes', cmap='crest');\n",
        "sns.scatterplot(x='NU_ANO', y='QTD_ALUNOS', data=df_qtd_aluno_ano.loc[9:19], label='Dados previstos')\n",
        "plt.xlabel('Ano', fontsize = 13), plt.ylabel('Alunos', fontsize = 13)\n",
        "plt.legend()\n",
        "plt.savefig('previsao.png', transparent = True)"
      ],
      "execution_count": 79,
      "outputs": [
        {
          "output_type": "display_data",
          "data": {
            "image/png": "[encoded data removed]",
            "text/plain": [
              "<Figure size 504x288 with 1 Axes>"
            ]
          },
          "metadata": {
            "needs_background": "light"
          }
        }
      ]
    },
    {
      "cell_type": "markdown",
      "metadata": {
        "id": "CQbaNvFa-5_I"
      },
      "source": [
        "\n",
        "\n",
        "# Criação do DataFrame com os tipos de deficiencia agrupados\n"
      ]
    },
    {
      "cell_type": "code",
      "metadata": {
        "id": "uL-e0H8k-7Up"
      },
      "source": [
        "model = LinearRegression()"
      ],
      "execution_count": 25,
      "outputs": []
    },
    {
      "cell_type": "code",
      "metadata": {
        "id": "TPtCXusCg6DT",
        "colab": {
          "base_uri": "https://localhost:8080/",
          "height": 1000
        },
        "outputId": "f2dc0491-c2cc-463e-9a98-1f77f070a4e4"
      },
      "source": [
        "df_tipos_deficiencia = pd.DataFrame(data={'NU_ANO_CENSO': df_regressao['NU_ANO_CENSO'].unique(),\n",
        "                            'ALUNOS_TOTAIS': [len(df_regressao.loc[df_regressao['NU_ANO_CENSO'] == i]) for i in range(2011, 2020)],\n",
        "                            'ALUNOS_COM_DEFICIENCIA_FISICA': [len(df_regressao.loc[(df_regressao['NU_ANO_CENSO'] == i) & ((df_regressao['IN_DEF_FISICA'] == 1) | (df_regressao['IN_DEFICIENCIA_FISICA'] == 1))]) for i in range(2011, 2020)],\n",
        "                            'ALUNOS_COM_DEFICIENCIA_AUDITIVA': [len(df_regressao.loc[(df_regressao['NU_ANO_CENSO'] == i) & (((df_regressao['IN_DEF_AUDITIVA'] == 1) + (df_regressao['IN_DEF_SURDEZ'] == 1)) | ((df_regressao['IN_DEFICIENCIA_AUDITIVA'] == 1) + (df_regressao['IN_DEFICIENCIA_SURDEZ'] == 1)))]) for i in range(2011, 2020)],\n",
        "                            'ALUNOS_COM_DEFICIENCIA_VISUAL': [len(df_regressao.loc[(df_regressao['NU_ANO_CENSO'] == i) & (((df_regressao['IN_DEF_BAIXA_VISAO'] == 1) + (df_regressao['IN_DEF_CEGUEIRA'] == 1)) | ((df_regressao['IN_DEFICIENCIA_BAIXA_VISAO'] == 1) + (df_regressao['IN_DEFICIENCIA_CEGUEIRA'] == 1)))]) for i in range(2011, 2020)],\n",
        "                            'ALUNOS_COM_DEFICIENCIA_COGNITIVA': [len(df_regressao.loc[(df_regressao['NU_ANO_CENSO'] == i) & ((df_regressao['IN_DEF_SUPERDOTACAO'] == 1) + (df_regressao['IN_TGD_AUTISMO_INFANTIL'] == 1) + (df_regressao['IN_TGD_AUTISMO'] == 1) + (df_regressao['IN_TGD_SINDROME_ASPERGER'] == 1) + (df_regressao['IN_TGD_SINDROME_RETT'] == 1) + (df_regressao['IN_TGD_TRANSTOR_DESINTEGRATIVO'] == 1))]) for i in range(2011, 2020)],\n",
        "                            'ALUNOS_COM_DEFICIENCIA_MULTIPLA': [len(df_regressao.loc[(df_regressao['NU_ANO_CENSO'] == i) & (((df_regressao['IN_DEF_MULTIPLA'] == 1) + (df_regressao['IN_DEF_SURDOCEGUEIRA'] == 1)) | ((df_regressao['IN_DEFICIENCIA_MULTIPLA'] == 1) + (df_regressao['IN_DEFICIENCIA_SURDOCEGUEIRA'] == 1)))]) for i in range(2011, 2020)]\n",
        "                            })\n",
        "df_tipos_deficiencia"
      ],
      "execution_count": 26,
      "outputs": [
        {
          "output_type": "stream",
          "name": "stderr",
          "text": [
            "/usr/local/lib/python3.7/dist-packages/pandas/core/computation/expressions.py:204: UserWarning: evaluating in Python space because the '+' operator is not supported by numexpr for the bool dtype, use '|' instead\n",
            "  f\"evaluating in Python space because the {repr(op_str)} \"\n",
            "/usr/local/lib/python3.7/dist-packages/pandas/core/computation/expressions.py:204: UserWarning: evaluating in Python space because the '+' operator is not supported by numexpr for the bool dtype, use '|' instead\n",
            "  f\"evaluating in Python space because the {repr(op_str)} \"\n",
            "/usr/local/lib/python3.7/dist-packages/pandas/core/computation/expressions.py:204: UserWarning: evaluating in Python space because the '+' operator is not supported by numexpr for the bool dtype, use '|' instead\n",
            "  f\"evaluating in Python space because the {repr(op_str)} \"\n",
            "/usr/local/lib/python3.7/dist-packages/pandas/core/computation/expressions.py:204: UserWarning: evaluating in Python space because the '+' operator is not supported by numexpr for the bool dtype, use '|' instead\n",
            "  f\"evaluating in Python space because the {repr(op_str)} \"\n",
            "/usr/local/lib/python3.7/dist-packages/pandas/core/computation/expressions.py:204: UserWarning: evaluating in Python space because the '+' operator is not supported by numexpr for the bool dtype, use '|' instead\n",
            "  f\"evaluating in Python space because the {repr(op_str)} \"\n",
            "/usr/local/lib/python3.7/dist-packages/pandas/core/computation/expressions.py:204: UserWarning: evaluating in Python space because the '+' operator is not supported by numexpr for the bool dtype, use '|' instead\n",
            "  f\"evaluating in Python space because the {repr(op_str)} \"\n",
            "/usr/local/lib/python3.7/dist-packages/pandas/core/computation/expressions.py:204: UserWarning: evaluating in Python space because the '+' operator is not supported by numexpr for the bool dtype, use '|' instead\n",
            "  f\"evaluating in Python space because the {repr(op_str)} \"\n",
            "/usr/local/lib/python3.7/dist-packages/pandas/core/computation/expressions.py:204: UserWarning: evaluating in Python space because the '+' operator is not supported by numexpr for the bool dtype, use '|' instead\n",
            "  f\"evaluating in Python space because the {repr(op_str)} \"\n",
            "/usr/local/lib/python3.7/dist-packages/pandas/core/computation/expressions.py:204: UserWarning: evaluating in Python space because the '+' operator is not supported by numexpr for the bool dtype, use '|' instead\n",
            "  f\"evaluating in Python space because the {repr(op_str)} \"\n",
            "/usr/local/lib/python3.7/dist-packages/pandas/core/computation/expressions.py:204: UserWarning: evaluating in Python space because the '+' operator is not supported by numexpr for the bool dtype, use '|' instead\n",
            "  f\"evaluating in Python space because the {repr(op_str)} \"\n",
            "/usr/local/lib/python3.7/dist-packages/pandas/core/computation/expressions.py:204: UserWarning: evaluating in Python space because the '+' operator is not supported by numexpr for the bool dtype, use '|' instead\n",
            "  f\"evaluating in Python space because the {repr(op_str)} \"\n",
            "/usr/local/lib/python3.7/dist-packages/pandas/core/computation/expressions.py:204: UserWarning: evaluating in Python space because the '+' operator is not supported by numexpr for the bool dtype, use '|' instead\n",
            "  f\"evaluating in Python space because the {repr(op_str)} \"\n",
            "/usr/local/lib/python3.7/dist-packages/pandas/core/computation/expressions.py:204: UserWarning: evaluating in Python space because the '+' operator is not supported by numexpr for the bool dtype, use '|' instead\n",
            "  f\"evaluating in Python space because the {repr(op_str)} \"\n",
            "/usr/local/lib/python3.7/dist-packages/pandas/core/computation/expressions.py:204: UserWarning: evaluating in Python space because the '+' operator is not supported by numexpr for the bool dtype, use '|' instead\n",
            "  f\"evaluating in Python space because the {repr(op_str)} \"\n",
            "/usr/local/lib/python3.7/dist-packages/pandas/core/computation/expressions.py:204: UserWarning: evaluating in Python space because the '+' operator is not supported by numexpr for the bool dtype, use '|' instead\n",
            "  f\"evaluating in Python space because the {repr(op_str)} \"\n",
            "/usr/local/lib/python3.7/dist-packages/pandas/core/computation/expressions.py:204: UserWarning: evaluating in Python space because the '+' operator is not supported by numexpr for the bool dtype, use '|' instead\n",
            "  f\"evaluating in Python space because the {repr(op_str)} \"\n",
            "/usr/local/lib/python3.7/dist-packages/pandas/core/computation/expressions.py:204: UserWarning: evaluating in Python space because the '+' operator is not supported by numexpr for the bool dtype, use '|' instead\n",
            "  f\"evaluating in Python space because the {repr(op_str)} \"\n",
            "/usr/local/lib/python3.7/dist-packages/pandas/core/computation/expressions.py:204: UserWarning: evaluating in Python space because the '+' operator is not supported by numexpr for the bool dtype, use '|' instead\n",
            "  f\"evaluating in Python space because the {repr(op_str)} \"\n",
            "/usr/local/lib/python3.7/dist-packages/pandas/core/computation/expressions.py:204: UserWarning: evaluating in Python space because the '+' operator is not supported by numexpr for the bool dtype, use '|' instead\n",
            "  f\"evaluating in Python space because the {repr(op_str)} \"\n",
            "/usr/local/lib/python3.7/dist-packages/pandas/core/computation/expressions.py:204: UserWarning: evaluating in Python space because the '+' operator is not supported by numexpr for the bool dtype, use '|' instead\n",
            "  f\"evaluating in Python space because the {repr(op_str)} \"\n",
            "/usr/local/lib/python3.7/dist-packages/pandas/core/computation/expressions.py:204: UserWarning: evaluating in Python space because the '+' operator is not supported by numexpr for the bool dtype, use '|' instead\n",
            "  f\"evaluating in Python space because the {repr(op_str)} \"\n",
            "/usr/local/lib/python3.7/dist-packages/pandas/core/computation/expressions.py:204: UserWarning: evaluating in Python space because the '+' operator is not supported by numexpr for the bool dtype, use '|' instead\n",
            "  f\"evaluating in Python space because the {repr(op_str)} \"\n",
            "/usr/local/lib/python3.7/dist-packages/pandas/core/computation/expressions.py:204: UserWarning: evaluating in Python space because the '+' operator is not supported by numexpr for the bool dtype, use '|' instead\n",
            "  f\"evaluating in Python space because the {repr(op_str)} \"\n",
            "/usr/local/lib/python3.7/dist-packages/pandas/core/computation/expressions.py:204: UserWarning: evaluating in Python space because the '+' operator is not supported by numexpr for the bool dtype, use '|' instead\n",
            "  f\"evaluating in Python space because the {repr(op_str)} \"\n",
            "/usr/local/lib/python3.7/dist-packages/pandas/core/computation/expressions.py:204: UserWarning: evaluating in Python space because the '+' operator is not supported by numexpr for the bool dtype, use '|' instead\n",
            "  f\"evaluating in Python space because the {repr(op_str)} \"\n",
            "/usr/local/lib/python3.7/dist-packages/pandas/core/computation/expressions.py:204: UserWarning: evaluating in Python space because the '+' operator is not supported by numexpr for the bool dtype, use '|' instead\n",
            "  f\"evaluating in Python space because the {repr(op_str)} \"\n",
            "/usr/local/lib/python3.7/dist-packages/pandas/core/computation/expressions.py:204: UserWarning: evaluating in Python space because the '+' operator is not supported by numexpr for the bool dtype, use '|' instead\n",
            "  f\"evaluating in Python space because the {repr(op_str)} \"\n",
            "/usr/local/lib/python3.7/dist-packages/pandas/core/computation/expressions.py:204: UserWarning: evaluating in Python space because the '+' operator is not supported by numexpr for the bool dtype, use '|' instead\n",
            "  f\"evaluating in Python space because the {repr(op_str)} \"\n",
            "/usr/local/lib/python3.7/dist-packages/pandas/core/computation/expressions.py:204: UserWarning: evaluating in Python space because the '+' operator is not supported by numexpr for the bool dtype, use '|' instead\n",
            "  f\"evaluating in Python space because the {repr(op_str)} \"\n",
            "/usr/local/lib/python3.7/dist-packages/pandas/core/computation/expressions.py:204: UserWarning: evaluating in Python space because the '+' operator is not supported by numexpr for the bool dtype, use '|' instead\n",
            "  f\"evaluating in Python space because the {repr(op_str)} \"\n",
            "/usr/local/lib/python3.7/dist-packages/pandas/core/computation/expressions.py:204: UserWarning: evaluating in Python space because the '+' operator is not supported by numexpr for the bool dtype, use '|' instead\n",
            "  f\"evaluating in Python space because the {repr(op_str)} \"\n",
            "/usr/local/lib/python3.7/dist-packages/pandas/core/computation/expressions.py:204: UserWarning: evaluating in Python space because the '+' operator is not supported by numexpr for the bool dtype, use '|' instead\n",
            "  f\"evaluating in Python space because the {repr(op_str)} \"\n",
            "/usr/local/lib/python3.7/dist-packages/pandas/core/computation/expressions.py:204: UserWarning: evaluating in Python space because the '+' operator is not supported by numexpr for the bool dtype, use '|' instead\n",
            "  f\"evaluating in Python space because the {repr(op_str)} \"\n",
            "/usr/local/lib/python3.7/dist-packages/pandas/core/computation/expressions.py:204: UserWarning: evaluating in Python space because the '+' operator is not supported by numexpr for the bool dtype, use '|' instead\n",
            "  f\"evaluating in Python space because the {repr(op_str)} \"\n",
            "/usr/local/lib/python3.7/dist-packages/pandas/core/computation/expressions.py:204: UserWarning: evaluating in Python space because the '+' operator is not supported by numexpr for the bool dtype, use '|' instead\n",
            "  f\"evaluating in Python space because the {repr(op_str)} \"\n",
            "/usr/local/lib/python3.7/dist-packages/pandas/core/computation/expressions.py:204: UserWarning: evaluating in Python space because the '+' operator is not supported by numexpr for the bool dtype, use '|' instead\n",
            "  f\"evaluating in Python space because the {repr(op_str)} \"\n",
            "/usr/local/lib/python3.7/dist-packages/pandas/core/computation/expressions.py:204: UserWarning: evaluating in Python space because the '+' operator is not supported by numexpr for the bool dtype, use '|' instead\n",
            "  f\"evaluating in Python space because the {repr(op_str)} \"\n",
            "/usr/local/lib/python3.7/dist-packages/pandas/core/computation/expressions.py:204: UserWarning: evaluating in Python space because the '+' operator is not supported by numexpr for the bool dtype, use '|' instead\n",
            "  f\"evaluating in Python space because the {repr(op_str)} \"\n",
            "/usr/local/lib/python3.7/dist-packages/pandas/core/computation/expressions.py:204: UserWarning: evaluating in Python space because the '+' operator is not supported by numexpr for the bool dtype, use '|' instead\n",
            "  f\"evaluating in Python space because the {repr(op_str)} \"\n",
            "/usr/local/lib/python3.7/dist-packages/pandas/core/computation/expressions.py:204: UserWarning: evaluating in Python space because the '+' operator is not supported by numexpr for the bool dtype, use '|' instead\n",
            "  f\"evaluating in Python space because the {repr(op_str)} \"\n",
            "/usr/local/lib/python3.7/dist-packages/pandas/core/computation/expressions.py:204: UserWarning: evaluating in Python space because the '+' operator is not supported by numexpr for the bool dtype, use '|' instead\n",
            "  f\"evaluating in Python space because the {repr(op_str)} \"\n",
            "/usr/local/lib/python3.7/dist-packages/pandas/core/computation/expressions.py:204: UserWarning: evaluating in Python space because the '+' operator is not supported by numexpr for the bool dtype, use '|' instead\n",
            "  f\"evaluating in Python space because the {repr(op_str)} \"\n",
            "/usr/local/lib/python3.7/dist-packages/pandas/core/computation/expressions.py:204: UserWarning: evaluating in Python space because the '+' operator is not supported by numexpr for the bool dtype, use '|' instead\n",
            "  f\"evaluating in Python space because the {repr(op_str)} \"\n",
            "/usr/local/lib/python3.7/dist-packages/pandas/core/computation/expressions.py:204: UserWarning: evaluating in Python space because the '+' operator is not supported by numexpr for the bool dtype, use '|' instead\n",
            "  f\"evaluating in Python space because the {repr(op_str)} \"\n",
            "/usr/local/lib/python3.7/dist-packages/pandas/core/computation/expressions.py:204: UserWarning: evaluating in Python space because the '+' operator is not supported by numexpr for the bool dtype, use '|' instead\n",
            "  f\"evaluating in Python space because the {repr(op_str)} \"\n",
            "/usr/local/lib/python3.7/dist-packages/pandas/core/computation/expressions.py:204: UserWarning: evaluating in Python space because the '+' operator is not supported by numexpr for the bool dtype, use '|' instead\n",
            "  f\"evaluating in Python space because the {repr(op_str)} \"\n",
            "/usr/local/lib/python3.7/dist-packages/pandas/core/computation/expressions.py:204: UserWarning: evaluating in Python space because the '+' operator is not supported by numexpr for the bool dtype, use '|' instead\n",
            "  f\"evaluating in Python space because the {repr(op_str)} \"\n",
            "/usr/local/lib/python3.7/dist-packages/pandas/core/computation/expressions.py:204: UserWarning: evaluating in Python space because the '+' operator is not supported by numexpr for the bool dtype, use '|' instead\n",
            "  f\"evaluating in Python space because the {repr(op_str)} \"\n",
            "/usr/local/lib/python3.7/dist-packages/pandas/core/computation/expressions.py:204: UserWarning: evaluating in Python space because the '+' operator is not supported by numexpr for the bool dtype, use '|' instead\n",
            "  f\"evaluating in Python space because the {repr(op_str)} \"\n",
            "/usr/local/lib/python3.7/dist-packages/pandas/core/computation/expressions.py:204: UserWarning: evaluating in Python space because the '+' operator is not supported by numexpr for the bool dtype, use '|' instead\n",
            "  f\"evaluating in Python space because the {repr(op_str)} \"\n",
            "/usr/local/lib/python3.7/dist-packages/pandas/core/computation/expressions.py:204: UserWarning: evaluating in Python space because the '+' operator is not supported by numexpr for the bool dtype, use '|' instead\n",
            "  f\"evaluating in Python space because the {repr(op_str)} \"\n",
            "/usr/local/lib/python3.7/dist-packages/pandas/core/computation/expressions.py:204: UserWarning: evaluating in Python space because the '+' operator is not supported by numexpr for the bool dtype, use '|' instead\n",
            "  f\"evaluating in Python space because the {repr(op_str)} \"\n",
            "/usr/local/lib/python3.7/dist-packages/pandas/core/computation/expressions.py:204: UserWarning: evaluating in Python space because the '+' operator is not supported by numexpr for the bool dtype, use '|' instead\n",
            "  f\"evaluating in Python space because the {repr(op_str)} \"\n",
            "/usr/local/lib/python3.7/dist-packages/pandas/core/computation/expressions.py:204: UserWarning: evaluating in Python space because the '+' operator is not supported by numexpr for the bool dtype, use '|' instead\n",
            "  f\"evaluating in Python space because the {repr(op_str)} \"\n",
            "/usr/local/lib/python3.7/dist-packages/pandas/core/computation/expressions.py:204: UserWarning: evaluating in Python space because the '+' operator is not supported by numexpr for the bool dtype, use '|' instead\n",
            "  f\"evaluating in Python space because the {repr(op_str)} \"\n",
            "/usr/local/lib/python3.7/dist-packages/pandas/core/computation/expressions.py:204: UserWarning: evaluating in Python space because the '+' operator is not supported by numexpr for the bool dtype, use '|' instead\n",
            "  f\"evaluating in Python space because the {repr(op_str)} \"\n",
            "/usr/local/lib/python3.7/dist-packages/pandas/core/computation/expressions.py:204: UserWarning: evaluating in Python space because the '+' operator is not supported by numexpr for the bool dtype, use '|' instead\n",
            "  f\"evaluating in Python space because the {repr(op_str)} \"\n",
            "/usr/local/lib/python3.7/dist-packages/pandas/core/computation/expressions.py:204: UserWarning: evaluating in Python space because the '+' operator is not supported by numexpr for the bool dtype, use '|' instead\n",
            "  f\"evaluating in Python space because the {repr(op_str)} \"\n",
            "/usr/local/lib/python3.7/dist-packages/pandas/core/computation/expressions.py:204: UserWarning: evaluating in Python space because the '+' operator is not supported by numexpr for the bool dtype, use '|' instead\n",
            "  f\"evaluating in Python space because the {repr(op_str)} \"\n",
            "/usr/local/lib/python3.7/dist-packages/pandas/core/computation/expressions.py:204: UserWarning: evaluating in Python space because the '+' operator is not supported by numexpr for the bool dtype, use '|' instead\n",
            "  f\"evaluating in Python space because the {repr(op_str)} \"\n",
            "/usr/local/lib/python3.7/dist-packages/pandas/core/computation/expressions.py:204: UserWarning: evaluating in Python space because the '+' operator is not supported by numexpr for the bool dtype, use '|' instead\n",
            "  f\"evaluating in Python space because the {repr(op_str)} \"\n",
            "/usr/local/lib/python3.7/dist-packages/pandas/core/computation/expressions.py:204: UserWarning: evaluating in Python space because the '+' operator is not supported by numexpr for the bool dtype, use '|' instead\n",
            "  f\"evaluating in Python space because the {repr(op_str)} \"\n",
            "/usr/local/lib/python3.7/dist-packages/pandas/core/computation/expressions.py:204: UserWarning: evaluating in Python space because the '+' operator is not supported by numexpr for the bool dtype, use '|' instead\n",
            "  f\"evaluating in Python space because the {repr(op_str)} \"\n",
            "/usr/local/lib/python3.7/dist-packages/pandas/core/computation/expressions.py:204: UserWarning: evaluating in Python space because the '+' operator is not supported by numexpr for the bool dtype, use '|' instead\n",
            "  f\"evaluating in Python space because the {repr(op_str)} \"\n",
            "/usr/local/lib/python3.7/dist-packages/pandas/core/computation/expressions.py:204: UserWarning: evaluating in Python space because the '+' operator is not supported by numexpr for the bool dtype, use '|' instead\n",
            "  f\"evaluating in Python space because the {repr(op_str)} \"\n",
            "/usr/local/lib/python3.7/dist-packages/pandas/core/computation/expressions.py:204: UserWarning: evaluating in Python space because the '+' operator is not supported by numexpr for the bool dtype, use '|' instead\n",
            "  f\"evaluating in Python space because the {repr(op_str)} \"\n",
            "/usr/local/lib/python3.7/dist-packages/pandas/core/computation/expressions.py:204: UserWarning: evaluating in Python space because the '+' operator is not supported by numexpr for the bool dtype, use '|' instead\n",
            "  f\"evaluating in Python space because the {repr(op_str)} \"\n",
            "/usr/local/lib/python3.7/dist-packages/pandas/core/computation/expressions.py:204: UserWarning: evaluating in Python space because the '+' operator is not supported by numexpr for the bool dtype, use '|' instead\n",
            "  f\"evaluating in Python space because the {repr(op_str)} \"\n",
            "/usr/local/lib/python3.7/dist-packages/pandas/core/computation/expressions.py:204: UserWarning: evaluating in Python space because the '+' operator is not supported by numexpr for the bool dtype, use '|' instead\n",
            "  f\"evaluating in Python space because the {repr(op_str)} \"\n",
            "/usr/local/lib/python3.7/dist-packages/pandas/core/computation/expressions.py:204: UserWarning: evaluating in Python space because the '+' operator is not supported by numexpr for the bool dtype, use '|' instead\n",
            "  f\"evaluating in Python space because the {repr(op_str)} \"\n",
            "/usr/local/lib/python3.7/dist-packages/pandas/core/computation/expressions.py:204: UserWarning: evaluating in Python space because the '+' operator is not supported by numexpr for the bool dtype, use '|' instead\n",
            "  f\"evaluating in Python space because the {repr(op_str)} \"\n",
            "/usr/local/lib/python3.7/dist-packages/pandas/core/computation/expressions.py:204: UserWarning: evaluating in Python space because the '+' operator is not supported by numexpr for the bool dtype, use '|' instead\n",
            "  f\"evaluating in Python space because the {repr(op_str)} \"\n",
            "/usr/local/lib/python3.7/dist-packages/pandas/core/computation/expressions.py:204: UserWarning: evaluating in Python space because the '+' operator is not supported by numexpr for the bool dtype, use '|' instead\n",
            "  f\"evaluating in Python space because the {repr(op_str)} \"\n",
            "/usr/local/lib/python3.7/dist-packages/pandas/core/computation/expressions.py:204: UserWarning: evaluating in Python space because the '+' operator is not supported by numexpr for the bool dtype, use '|' instead\n",
            "  f\"evaluating in Python space because the {repr(op_str)} \"\n",
            "/usr/local/lib/python3.7/dist-packages/pandas/core/computation/expressions.py:204: UserWarning: evaluating in Python space because the '+' operator is not supported by numexpr for the bool dtype, use '|' instead\n",
            "  f\"evaluating in Python space because the {repr(op_str)} \"\n",
            "/usr/local/lib/python3.7/dist-packages/pandas/core/computation/expressions.py:204: UserWarning: evaluating in Python space because the '+' operator is not supported by numexpr for the bool dtype, use '|' instead\n",
            "  f\"evaluating in Python space because the {repr(op_str)} \"\n",
            "/usr/local/lib/python3.7/dist-packages/pandas/core/computation/expressions.py:204: UserWarning: evaluating in Python space because the '+' operator is not supported by numexpr for the bool dtype, use '|' instead\n",
            "  f\"evaluating in Python space because the {repr(op_str)} \"\n",
            "/usr/local/lib/python3.7/dist-packages/pandas/core/computation/expressions.py:204: UserWarning: evaluating in Python space because the '+' operator is not supported by numexpr for the bool dtype, use '|' instead\n",
            "  f\"evaluating in Python space because the {repr(op_str)} \"\n",
            "/usr/local/lib/python3.7/dist-packages/pandas/core/computation/expressions.py:204: UserWarning: evaluating in Python space because the '+' operator is not supported by numexpr for the bool dtype, use '|' instead\n",
            "  f\"evaluating in Python space because the {repr(op_str)} \"\n",
            "/usr/local/lib/python3.7/dist-packages/pandas/core/computation/expressions.py:204: UserWarning: evaluating in Python space because the '+' operator is not supported by numexpr for the bool dtype, use '|' instead\n",
            "  f\"evaluating in Python space because the {repr(op_str)} \"\n",
            "/usr/local/lib/python3.7/dist-packages/pandas/core/computation/expressions.py:204: UserWarning: evaluating in Python space because the '+' operator is not supported by numexpr for the bool dtype, use '|' instead\n",
            "  f\"evaluating in Python space because the {repr(op_str)} \"\n",
            "/usr/local/lib/python3.7/dist-packages/pandas/core/computation/expressions.py:204: UserWarning: evaluating in Python space because the '+' operator is not supported by numexpr for the bool dtype, use '|' instead\n",
            "  f\"evaluating in Python space because the {repr(op_str)} \"\n",
            "/usr/local/lib/python3.7/dist-packages/pandas/core/computation/expressions.py:204: UserWarning: evaluating in Python space because the '+' operator is not supported by numexpr for the bool dtype, use '|' instead\n",
            "  f\"evaluating in Python space because the {repr(op_str)} \"\n",
            "/usr/local/lib/python3.7/dist-packages/pandas/core/computation/expressions.py:204: UserWarning: evaluating in Python space because the '+' operator is not supported by numexpr for the bool dtype, use '|' instead\n",
            "  f\"evaluating in Python space because the {repr(op_str)} \"\n",
            "/usr/local/lib/python3.7/dist-packages/pandas/core/computation/expressions.py:204: UserWarning: evaluating in Python space because the '+' operator is not supported by numexpr for the bool dtype, use '|' instead\n",
            "  f\"evaluating in Python space because the {repr(op_str)} \"\n",
            "/usr/local/lib/python3.7/dist-packages/pandas/core/computation/expressions.py:204: UserWarning: evaluating in Python space because the '+' operator is not supported by numexpr for the bool dtype, use '|' instead\n",
            "  f\"evaluating in Python space because the {repr(op_str)} \"\n",
            "/usr/local/lib/python3.7/dist-packages/pandas/core/computation/expressions.py:204: UserWarning: evaluating in Python space because the '+' operator is not supported by numexpr for the bool dtype, use '|' instead\n",
            "  f\"evaluating in Python space because the {repr(op_str)} \"\n",
            "/usr/local/lib/python3.7/dist-packages/pandas/core/computation/expressions.py:204: UserWarning: evaluating in Python space because the '+' operator is not supported by numexpr for the bool dtype, use '|' instead\n",
            "  f\"evaluating in Python space because the {repr(op_str)} \"\n",
            "/usr/local/lib/python3.7/dist-packages/pandas/core/computation/expressions.py:204: UserWarning: evaluating in Python space because the '+' operator is not supported by numexpr for the bool dtype, use '|' instead\n",
            "  f\"evaluating in Python space because the {repr(op_str)} \"\n",
            "/usr/local/lib/python3.7/dist-packages/pandas/core/computation/expressions.py:204: UserWarning: evaluating in Python space because the '+' operator is not supported by numexpr for the bool dtype, use '|' instead\n",
            "  f\"evaluating in Python space because the {repr(op_str)} \"\n",
            "/usr/local/lib/python3.7/dist-packages/pandas/core/computation/expressions.py:204: UserWarning: evaluating in Python space because the '+' operator is not supported by numexpr for the bool dtype, use '|' instead\n",
            "  f\"evaluating in Python space because the {repr(op_str)} \"\n",
            "/usr/local/lib/python3.7/dist-packages/pandas/core/computation/expressions.py:204: UserWarning: evaluating in Python space because the '+' operator is not supported by numexpr for the bool dtype, use '|' instead\n",
            "  f\"evaluating in Python space because the {repr(op_str)} \"\n",
            "/usr/local/lib/python3.7/dist-packages/pandas/core/computation/expressions.py:204: UserWarning: evaluating in Python space because the '+' operator is not supported by numexpr for the bool dtype, use '|' instead\n",
            "  f\"evaluating in Python space because the {repr(op_str)} \"\n",
            "/usr/local/lib/python3.7/dist-packages/pandas/core/computation/expressions.py:204: UserWarning: evaluating in Python space because the '+' operator is not supported by numexpr for the bool dtype, use '|' instead\n",
            "  f\"evaluating in Python space because the {repr(op_str)} \"\n",
            "/usr/local/lib/python3.7/dist-packages/pandas/core/computation/expressions.py:204: UserWarning: evaluating in Python space because the '+' operator is not supported by numexpr for the bool dtype, use '|' instead\n",
            "  f\"evaluating in Python space because the {repr(op_str)} \"\n",
            "/usr/local/lib/python3.7/dist-packages/pandas/core/computation/expressions.py:204: UserWarning: evaluating in Python space because the '+' operator is not supported by numexpr for the bool dtype, use '|' instead\n",
            "  f\"evaluating in Python space because the {repr(op_str)} \"\n",
            "/usr/local/lib/python3.7/dist-packages/pandas/core/computation/expressions.py:204: UserWarning: evaluating in Python space because the '+' operator is not supported by numexpr for the bool dtype, use '|' instead\n",
            "  f\"evaluating in Python space because the {repr(op_str)} \"\n",
            "/usr/local/lib/python3.7/dist-packages/pandas/core/computation/expressions.py:204: UserWarning: evaluating in Python space because the '+' operator is not supported by numexpr for the bool dtype, use '|' instead\n",
            "  f\"evaluating in Python space because the {repr(op_str)} \"\n",
            "/usr/local/lib/python3.7/dist-packages/pandas/core/computation/expressions.py:204: UserWarning: evaluating in Python space because the '+' operator is not supported by numexpr for the bool dtype, use '|' instead\n",
            "  f\"evaluating in Python space because the {repr(op_str)} \"\n"
          ]
        },
        {
          "output_type": "execute_result",
          "data": {
            "text/html": [
              "<div>\n",
              "<style scoped>\n",
              "    .dataframe tbody tr th:only-of-type {\n",
              "        vertical-align: middle;\n",
              "    }\n",
              "\n",
              "    .dataframe tbody tr th {\n",
              "        vertical-align: top;\n",
              "    }\n",
              "\n",
              "    .dataframe thead th {\n",
              "        text-align: right;\n",
              "    }\n",
              "</style>\n",
              "<table border=\"1\" class=\"dataframe\">\n",
              "  <thead>\n",
              "    <tr style=\"text-align: right;\">\n",
              "      <th></th>\n",
              "      <th>NU_ANO_CENSO</th>\n",
              "      <th>ALUNOS_TOTAIS</th>\n",
              "      <th>ALUNOS_COM_DEFICIENCIA_FISICA</th>\n",
              "      <th>ALUNOS_COM_DEFICIENCIA_AUDITIVA</th>\n",
              "      <th>ALUNOS_COM_DEFICIENCIA_VISUAL</th>\n",
              "      <th>ALUNOS_COM_DEFICIENCIA_COGNITIVA</th>\n",
              "      <th>ALUNOS_COM_DEFICIENCIA_MULTIPLA</th>\n",
              "    </tr>\n",
              "  </thead>\n",
              "  <tbody>\n",
              "    <tr>\n",
              "      <th>0</th>\n",
              "      <td>2011</td>\n",
              "      <td>29033</td>\n",
              "      <td>7732</td>\n",
              "      <td>7132</td>\n",
              "      <td>12136</td>\n",
              "      <td>1248</td>\n",
              "      <td>1143</td>\n",
              "    </tr>\n",
              "    <tr>\n",
              "      <th>1</th>\n",
              "      <td>2012</td>\n",
              "      <td>34656</td>\n",
              "      <td>9007</td>\n",
              "      <td>9661</td>\n",
              "      <td>13585</td>\n",
              "      <td>1601</td>\n",
              "      <td>798</td>\n",
              "    </tr>\n",
              "    <tr>\n",
              "      <th>2</th>\n",
              "      <td>2013</td>\n",
              "      <td>37796</td>\n",
              "      <td>10354</td>\n",
              "      <td>10620</td>\n",
              "      <td>14603</td>\n",
              "      <td>1590</td>\n",
              "      <td>711</td>\n",
              "    </tr>\n",
              "    <tr>\n",
              "      <th>3</th>\n",
              "      <td>2014</td>\n",
              "      <td>45088</td>\n",
              "      <td>14216</td>\n",
              "      <td>10028</td>\n",
              "      <td>12793</td>\n",
              "      <td>6676</td>\n",
              "      <td>913</td>\n",
              "    </tr>\n",
              "    <tr>\n",
              "      <th>4</th>\n",
              "      <td>2015</td>\n",
              "      <td>51685</td>\n",
              "      <td>18210</td>\n",
              "      <td>10014</td>\n",
              "      <td>14879</td>\n",
              "      <td>6476</td>\n",
              "      <td>989</td>\n",
              "    </tr>\n",
              "    <tr>\n",
              "      <th>5</th>\n",
              "      <td>2016</td>\n",
              "      <td>49813</td>\n",
              "      <td>18319</td>\n",
              "      <td>9644</td>\n",
              "      <td>17533</td>\n",
              "      <td>2294</td>\n",
              "      <td>1211</td>\n",
              "    </tr>\n",
              "    <tr>\n",
              "      <th>6</th>\n",
              "      <td>2017</td>\n",
              "      <td>52542</td>\n",
              "      <td>20146</td>\n",
              "      <td>10429</td>\n",
              "      <td>17235</td>\n",
              "      <td>1236</td>\n",
              "      <td>1158</td>\n",
              "    </tr>\n",
              "    <tr>\n",
              "      <th>7</th>\n",
              "      <td>2018</td>\n",
              "      <td>59496</td>\n",
              "      <td>21762</td>\n",
              "      <td>11257</td>\n",
              "      <td>20439</td>\n",
              "      <td>1699</td>\n",
              "      <td>1525</td>\n",
              "    </tr>\n",
              "    <tr>\n",
              "      <th>8</th>\n",
              "      <td>2019</td>\n",
              "      <td>66750</td>\n",
              "      <td>23089</td>\n",
              "      <td>12603</td>\n",
              "      <td>22412</td>\n",
              "      <td>2311</td>\n",
              "      <td>1411</td>\n",
              "    </tr>\n",
              "  </tbody>\n",
              "</table>\n",
              "</div>"
            ],
            "text/plain": [
              "   NU_ANO_CENSO  ...  ALUNOS_COM_DEFICIENCIA_MULTIPLA\n",
              "0          2011  ...                             1143\n",
              "1          2012  ...                              798\n",
              "2          2013  ...                              711\n",
              "3          2014  ...                              913\n",
              "4          2015  ...                              989\n",
              "5          2016  ...                             1211\n",
              "6          2017  ...                             1158\n",
              "7          2018  ...                             1525\n",
              "8          2019  ...                             1411\n",
              "\n",
              "[9 rows x 7 columns]"
            ]
          },
          "metadata": {},
          "execution_count": 26
        }
      ]
    },
    {
      "cell_type": "code",
      "metadata": {
        "id": "z7DPki5C5W10"
      },
      "source": [
        "y = df_tipos_deficiencia['ALUNOS_TOTAIS']\n",
        "x = df_tipos_deficiencia[['NU_ANO_CENSO', 'ALUNOS_COM_DEFICIENCIA_FISICA', 'ALUNOS_COM_DEFICIENCIA_AUDITIVA', 'ALUNOS_COM_DEFICIENCIA_VISUAL', 'ALUNOS_COM_DEFICIENCIA_COGNITIVA', 'ALUNOS_COM_DEFICIENCIA_MULTIPLA']]\n"
      ],
      "execution_count": 27,
      "outputs": []
    },
    {
      "cell_type": "code",
      "metadata": {
        "id": "12_ohyMB8IGt"
      },
      "source": [
        "x_train, x_test, y_train, y_test = train_test_split(x, y, test_size=0.3, random_state=3141)"
      ],
      "execution_count": 28,
      "outputs": []
    },
    {
      "cell_type": "code",
      "metadata": {
        "id": "218gXsVp8Vjh",
        "colab": {
          "base_uri": "https://localhost:8080/"
        },
        "outputId": "fba3c218-f8de-49b2-edc2-75234e8295f7"
      },
      "source": [
        "model.fit(x_train, y_train)"
      ],
      "execution_count": 29,
      "outputs": [
        {
          "output_type": "execute_result",
          "data": {
            "text/plain": [
              "LinearRegression()"
            ]
          },
          "metadata": {},
          "execution_count": 29
        }
      ]
    },
    {
      "cell_type": "code",
      "metadata": {
        "id": "buP1SBFY8qHE",
        "colab": {
          "base_uri": "https://localhost:8080/",
          "height": 269
        },
        "outputId": "59bd6000-cc9a-404d-f4e2-cad1a6b1fe39"
      },
      "source": [
        "index = ['INTERCEPT', 'NU_ANO_CENSO', 'ALUNOS_COM_DEFICIENCIA_FISICA', 'ALUNOS_COM_DEFICIENCIA_AUDITIVA', 'ALUNOS_COM_DEFICIENCIA_VISUAL', 'ALUNOS_COM_DEFICIENCIA_COGNITIVA', 'ALUNOS_COM_DEFICIENCIA_MULTIPLA']\n",
        "df_parametros = pd.DataFrame(data=np.append(model.intercept_, model.coef_), index=index, columns=['Parametros'])\n",
        "df_parametros"
      ],
      "execution_count": 30,
      "outputs": [
        {
          "output_type": "execute_result",
          "data": {
            "text/html": [
              "<div>\n",
              "<style scoped>\n",
              "    .dataframe tbody tr th:only-of-type {\n",
              "        vertical-align: middle;\n",
              "    }\n",
              "\n",
              "    .dataframe tbody tr th {\n",
              "        vertical-align: top;\n",
              "    }\n",
              "\n",
              "    .dataframe thead th {\n",
              "        text-align: right;\n",
              "    }\n",
              "</style>\n",
              "<table border=\"1\" class=\"dataframe\">\n",
              "  <thead>\n",
              "    <tr style=\"text-align: right;\">\n",
              "      <th></th>\n",
              "      <th>Parametros</th>\n",
              "    </tr>\n",
              "  </thead>\n",
              "  <tbody>\n",
              "    <tr>\n",
              "      <th>INTERCEPT</th>\n",
              "      <td>-13754.541833</td>\n",
              "    </tr>\n",
              "    <tr>\n",
              "      <th>NU_ANO_CENSO</th>\n",
              "      <td>0.005727</td>\n",
              "    </tr>\n",
              "    <tr>\n",
              "      <th>ALUNOS_COM_DEFICIENCIA_FISICA</th>\n",
              "      <td>0.214933</td>\n",
              "    </tr>\n",
              "    <tr>\n",
              "      <th>ALUNOS_COM_DEFICIENCIA_AUDITIVA</th>\n",
              "      <td>0.192601</td>\n",
              "    </tr>\n",
              "    <tr>\n",
              "      <th>ALUNOS_COM_DEFICIENCIA_VISUAL</th>\n",
              "      <td>2.867946</td>\n",
              "    </tr>\n",
              "    <tr>\n",
              "      <th>ALUNOS_COM_DEFICIENCIA_COGNITIVA</th>\n",
              "      <td>2.208823</td>\n",
              "    </tr>\n",
              "    <tr>\n",
              "      <th>ALUNOS_COM_DEFICIENCIA_MULTIPLA</th>\n",
              "      <td>2.637887</td>\n",
              "    </tr>\n",
              "  </tbody>\n",
              "</table>\n",
              "</div>"
            ],
            "text/plain": [
              "                                    Parametros\n",
              "INTERCEPT                        -13754.541833\n",
              "NU_ANO_CENSO                          0.005727\n",
              "ALUNOS_COM_DEFICIENCIA_FISICA         0.214933\n",
              "ALUNOS_COM_DEFICIENCIA_AUDITIVA       0.192601\n",
              "ALUNOS_COM_DEFICIENCIA_VISUAL         2.867946\n",
              "ALUNOS_COM_DEFICIENCIA_COGNITIVA      2.208823\n",
              "ALUNOS_COM_DEFICIENCIA_MULTIPLA       2.637887"
            ]
          },
          "metadata": {},
          "execution_count": 30
        }
      ]
    },
    {
      "cell_type": "code",
      "metadata": {
        "id": "YbajJrjNlbHl"
      },
      "source": [
        "coef_ano, coef_def_fisica, coef_def_auditiva, coef_def_visual, coef_def_cognitiva, coef_def_multipla = model.coef_\n",
        "intercept = model.intercept_"
      ],
      "execution_count": 31,
      "outputs": []
    },
    {
      "cell_type": "code",
      "metadata": {
        "id": "bWZL-vuZ9nXv"
      },
      "source": [
        "def predição_multipla(n, df):\n",
        "  pass"
      ],
      "execution_count": 32,
      "outputs": []
    },
    {
      "cell_type": "markdown",
      "metadata": {
        "id": "R5obpZlt4dMu"
      },
      "source": [
        "# Criação do DataFrame com previsão dos tipos de deficiencia"
      ]
    },
    {
      "cell_type": "markdown",
      "metadata": {
        "id": "RcrzMOM7Bq9e"
      },
      "source": [
        "Encontrando o coeficiente angular e linear para os alunos com deficiencia fisica."
      ]
    },
    {
      "cell_type": "code",
      "metadata": {
        "id": "-bQI35Ck44J-"
      },
      "source": [
        "modelo = LinearRegression()"
      ],
      "execution_count": 33,
      "outputs": []
    },
    {
      "cell_type": "code",
      "metadata": {
        "id": "2eaip-7e47Jp"
      },
      "source": [
        "df_fisica = df_tipos_deficiencia[['NU_ANO_CENSO', 'ALUNOS_COM_DEFICIENCIA_FISICA']]\n",
        "df_auditiva = df_tipos_deficiencia[['NU_ANO_CENSO', 'ALUNOS_COM_DEFICIENCIA_AUDITIVA']]\n",
        "df_visual = df_tipos_deficiencia[['NU_ANO_CENSO', 'ALUNOS_COM_DEFICIENCIA_VISUAL']]\n",
        "df_cognitiva = df_tipos_deficiencia[['NU_ANO_CENSO', 'ALUNOS_COM_DEFICIENCIA_COGNITIVA']]\n",
        "df_multipla = df_tipos_deficiencia[['NU_ANO_CENSO', 'ALUNOS_COM_DEFICIENCIA_MULTIPLA']]"
      ],
      "execution_count": 34,
      "outputs": []
    },
    {
      "cell_type": "code",
      "metadata": {
        "id": "Iof2EqUR5dzy"
      },
      "source": [
        "y_fisica = df_fisica['ALUNOS_COM_DEFICIENCIA_FISICA'].values\n",
        "x_fisica = df_fisica['NU_ANO_CENSO'].values\n",
        "x_fisica = x_fisica.reshape(-1, 1)\n",
        "\n",
        "x_train, x_test, y_train, y_test = train_test_split(x_fisica, y_fisica, test_size=0.3, random_state=29381)"
      ],
      "execution_count": 35,
      "outputs": []
    },
    {
      "cell_type": "code",
      "metadata": {
        "id": "zPN3gc6C-Qvn",
        "colab": {
          "base_uri": "https://localhost:8080/"
        },
        "outputId": "3a75cf02-9187-4827-edd1-46444c82b3e0"
      },
      "source": [
        "modelo.fit(x_train, y_train)"
      ],
      "execution_count": 36,
      "outputs": [
        {
          "output_type": "execute_result",
          "data": {
            "text/plain": [
              "LinearRegression()"
            ]
          },
          "metadata": {},
          "execution_count": 36
        }
      ]
    },
    {
      "cell_type": "code",
      "metadata": {
        "id": "h15zPRtC-vRG",
        "colab": {
          "base_uri": "https://localhost:8080/"
        },
        "outputId": "9914bc41-2000-475a-e10a-d62502fe5140"
      },
      "source": [
        "y_predict = modelo.predict(x_test)\n",
        "print(f'valor de R² = {metrics.r2_score(y_test, y_predict).round(2)}')"
      ],
      "execution_count": 37,
      "outputs": [
        {
          "output_type": "stream",
          "name": "stdout",
          "text": [
            "valor de R² = 0.96\n"
          ]
        }
      ]
    },
    {
      "cell_type": "code",
      "metadata": {
        "id": "p1D6mrPXAGGr"
      },
      "source": [
        "coef_angular_fisica = modelo.coef_\n",
        "coef_linear_fisica = modelo.intercept_"
      ],
      "execution_count": 38,
      "outputs": []
    },
    {
      "cell_type": "markdown",
      "metadata": {
        "id": "tqEfJ9b3CDYt"
      },
      "source": [
        "Encontrando o coeficiente angular e linear para os alunos com deficiencia fisica."
      ]
    },
    {
      "cell_type": "code",
      "metadata": {
        "id": "DRngTnnLRelh",
        "colab": {
          "base_uri": "https://localhost:8080/"
        },
        "outputId": "e54876b9-e0a0-4203-b31a-78a0fd81a7b4"
      },
      "source": [
        "y_auditiva = df_auditiva['ALUNOS_COM_DEFICIENCIA_AUDITIVA'].values\n",
        "x_auditiva = df_auditiva['NU_ANO_CENSO'].values\n",
        "x_auditiva = x_auditiva.reshape(-1, 1)\n",
        "\n",
        "x_train, x_test, y_train, y_test = train_test_split(x_auditiva, y_auditiva, test_size=0.3, random_state=29381)\n",
        "\n",
        "modelo.fit(x_train, y_train)"
      ],
      "execution_count": 39,
      "outputs": [
        {
          "output_type": "execute_result",
          "data": {
            "text/plain": [
              "LinearRegression()"
            ]
          },
          "metadata": {},
          "execution_count": 39
        }
      ]
    },
    {
      "cell_type": "code",
      "metadata": {
        "colab": {
          "base_uri": "https://localhost:8080/"
        },
        "id": "lKGDpasu28Z4",
        "outputId": "4592351e-6e31-40f7-8623-1b89a60697b3"
      },
      "source": [
        "y_predict = modelo.predict(x_test)\n",
        "print(f'valor de R² = {metrics.r2_score(y_test, y_predict).round(2)}')"
      ],
      "execution_count": 40,
      "outputs": [
        {
          "output_type": "stream",
          "name": "stdout",
          "text": [
            "valor de R² = -3.49\n"
          ]
        }
      ]
    },
    {
      "cell_type": "code",
      "metadata": {
        "id": "sXCnpZfC2-dp"
      },
      "source": [
        "coef_angular_auditiva = modelo.coef_\n",
        "coef_linear_auditiva = modelo.intercept_"
      ],
      "execution_count": 41,
      "outputs": []
    },
    {
      "cell_type": "markdown",
      "metadata": {
        "id": "LbJCFYyp5I4L"
      },
      "source": [
        "Encontrando o coeficiente angular e linear para alunos com deficiência auditiva"
      ]
    },
    {
      "cell_type": "code",
      "metadata": {
        "colab": {
          "base_uri": "https://localhost:8080/"
        },
        "id": "wdTVkY2x5TaK",
        "outputId": "5436dbfa-d0db-43d2-a988-898233c159bb"
      },
      "source": [
        "y_visual = df_visual['ALUNOS_COM_DEFICIENCIA_VISUAL'].values\n",
        "x_visual = df_visual['NU_ANO_CENSO'].values\n",
        "x_visual = x_visual.reshape(-1, 1)\n",
        "\n",
        "x_train, x_test, y_train, y_test = train_test_split(x_visual, y_visual, test_size=0.3, random_state=29381)\n",
        "\n",
        "modelo.fit(x_train, y_train)"
      ],
      "execution_count": 42,
      "outputs": [
        {
          "output_type": "execute_result",
          "data": {
            "text/plain": [
              "LinearRegression()"
            ]
          },
          "metadata": {},
          "execution_count": 42
        }
      ]
    },
    {
      "cell_type": "code",
      "metadata": {
        "colab": {
          "base_uri": "https://localhost:8080/"
        },
        "id": "kFQS9VOU5d5u",
        "outputId": "af926cb9-365a-472d-a34c-133f5c292013"
      },
      "source": [
        "y_predict = modelo.predict(x_test)\n",
        "print(f'valor de R² = {metrics.r2_score(y_test, y_predict).round(2)}')"
      ],
      "execution_count": 43,
      "outputs": [
        {
          "output_type": "stream",
          "name": "stdout",
          "text": [
            "valor de R² = 0.8\n"
          ]
        }
      ]
    },
    {
      "cell_type": "code",
      "metadata": {
        "id": "hSST1Ir85gv4"
      },
      "source": [
        "coef_angular_visual = modelo.coef_\n",
        "coef_linear_visual = modelo.intercept_"
      ],
      "execution_count": 44,
      "outputs": []
    },
    {
      "cell_type": "markdown",
      "metadata": {
        "id": "swZ29llF5n7j"
      },
      "source": [
        "Encontrando o coeficiente angular e linear para alunos com deficiência visual"
      ]
    },
    {
      "cell_type": "code",
      "metadata": {
        "colab": {
          "base_uri": "https://localhost:8080/"
        },
        "id": "5K1pWBEp5tkn",
        "outputId": "16212f49-c45d-4aca-d129-225311b594f6"
      },
      "source": [
        "y_cognitiva = df_cognitiva['ALUNOS_COM_DEFICIENCIA_COGNITIVA'].values\n",
        "x_cognitiva = df_cognitiva['NU_ANO_CENSO'].values\n",
        "x_cognitiva = x_cognitiva.reshape(-1, 1)\n",
        "\n",
        "x_train, x_test, y_train, y_test = train_test_split(x_cognitiva, y_cognitiva, test_size=0.3, random_state=29381)\n",
        "\n",
        "modelo.fit(x_train, y_train)"
      ],
      "execution_count": 45,
      "outputs": [
        {
          "output_type": "execute_result",
          "data": {
            "text/plain": [
              "LinearRegression()"
            ]
          },
          "metadata": {},
          "execution_count": 45
        }
      ]
    },
    {
      "cell_type": "code",
      "metadata": {
        "colab": {
          "base_uri": "https://localhost:8080/"
        },
        "id": "DZzHpZm_550b",
        "outputId": "7574b1d5-4b51-4a1a-aec1-4aa6acbda90f"
      },
      "source": [
        "y_predict = modelo.predict(x_test)\n",
        "print(f'valor de R² = {metrics.r2_score(y_test, y_predict).round(2)}')"
      ],
      "execution_count": 46,
      "outputs": [
        {
          "output_type": "stream",
          "name": "stdout",
          "text": [
            "valor de R² = -0.17\n"
          ]
        }
      ]
    },
    {
      "cell_type": "code",
      "metadata": {
        "id": "48LS2KKf56k8"
      },
      "source": [
        "coef_angular_cognitiva = modelo.coef_\n",
        "coef_linear_cognitiva = modelo.intercept_"
      ],
      "execution_count": 47,
      "outputs": []
    },
    {
      "cell_type": "markdown",
      "metadata": {
        "id": "llm0zRjB5_0p"
      },
      "source": [
        "Encontrando o coeficiente angular e linear para alunos com deficiência cognitiva\n"
      ]
    },
    {
      "cell_type": "code",
      "metadata": {
        "colab": {
          "base_uri": "https://localhost:8080/"
        },
        "id": "gl0eprnc6DT5",
        "outputId": "09a4b586-41d7-4622-ea62-974ac439c06e"
      },
      "source": [
        "y_multipla = df_multipla['ALUNOS_COM_DEFICIENCIA_MULTIPLA'].values\n",
        "x_multipla = df_multipla['NU_ANO_CENSO'].values\n",
        "x_multipla = x_multipla.reshape(-1, 1)\n",
        "\n",
        "x_train, x_test, y_train, y_test = train_test_split(x_multipla, y_multipla, test_size=0.3, random_state=29381)\n",
        "\n",
        "modelo.fit(x_train, y_train)"
      ],
      "execution_count": 48,
      "outputs": [
        {
          "output_type": "execute_result",
          "data": {
            "text/plain": [
              "LinearRegression()"
            ]
          },
          "metadata": {},
          "execution_count": 48
        }
      ]
    },
    {
      "cell_type": "code",
      "metadata": {
        "colab": {
          "base_uri": "https://localhost:8080/"
        },
        "id": "QL1LB6bx6Z-W",
        "outputId": "f845cf29-8bec-4d2c-c602-20826771e953"
      },
      "source": [
        "y_predict = modelo.predict(x_test)\n",
        "print(f'valor de R² = {metrics.r2_score(y_test, y_predict).round(2)}')"
      ],
      "execution_count": 49,
      "outputs": [
        {
          "output_type": "stream",
          "name": "stdout",
          "text": [
            "valor de R² = 0.47\n"
          ]
        }
      ]
    },
    {
      "cell_type": "code",
      "metadata": {
        "id": "p4KqMkIt6cmN"
      },
      "source": [
        "coef_angular_multipla = modelo.coef_\n",
        "coef_linear_multipla = modelo.intercept_"
      ],
      "execution_count": 50,
      "outputs": []
    },
    {
      "cell_type": "markdown",
      "metadata": {
        "id": "2UBYIkSI6swb"
      },
      "source": [
        "Encontrando o coeficiente angular e linear para alunos com deficiência multipla\n"
      ]
    },
    {
      "cell_type": "code",
      "metadata": {
        "id": "GGkuNS7_7r3t"
      },
      "source": [
        "def predição(x, coef_angular, coef_linear):\n",
        "  return int(coef_angular*x + coef_linear)"
      ],
      "execution_count": 51,
      "outputs": []
    },
    {
      "cell_type": "code",
      "metadata": {
        "id": "urKnioj49Qmm",
        "colab": {
          "base_uri": "https://localhost:8080/",
          "height": 414
        },
        "outputId": "28ab44ca-2096-407f-b3a5-f134542eff7f"
      },
      "source": [
        "#x_fisica = x_fisica.reshape(9,)\n",
        "a = []\n",
        "for i in range(2020, 2031):\n",
        "  a.append([i, predição(i, coef_angular_fisica, coef_linear_fisica), predição(i, coef_angular_auditiva, coef_linear_auditiva), predição(i, coef_angular_visual, coef_linear_visual), predição(i, coef_angular_cognitiva, coef_linear_cognitiva), predição(i, coef_angular_multipla, coef_linear_multipla)])\n",
        "df_deficiencias_ano = pd.DataFrame(data=a, columns=['NU_ANO', 'ALUNOS_COM_DEFICIENCIA_FISICA', 'ALUNOS_COM_DEFICIENCIA_AUDITIVA', 'ALUNOS_COM_DEFICIENCIA_VISUAL', 'ALUNOS_COM_DEFICIENCIA_COGNITIVA', 'ALUNOS_COM_DEFICIENCIA_MULTIPLA'])\n",
        "df_deficiencias_ano"
      ],
      "execution_count": 52,
      "outputs": [
        {
          "output_type": "execute_result",
          "data": {
            "text/html": [
              "<div>\n",
              "<style scoped>\n",
              "    .dataframe tbody tr th:only-of-type {\n",
              "        vertical-align: middle;\n",
              "    }\n",
              "\n",
              "    .dataframe tbody tr th {\n",
              "        vertical-align: top;\n",
              "    }\n",
              "\n",
              "    .dataframe thead th {\n",
              "        text-align: right;\n",
              "    }\n",
              "</style>\n",
              "<table border=\"1\" class=\"dataframe\">\n",
              "  <thead>\n",
              "    <tr style=\"text-align: right;\">\n",
              "      <th></th>\n",
              "      <th>NU_ANO</th>\n",
              "      <th>ALUNOS_COM_DEFICIENCIA_FISICA</th>\n",
              "      <th>ALUNOS_COM_DEFICIENCIA_AUDITIVA</th>\n",
              "      <th>ALUNOS_COM_DEFICIENCIA_VISUAL</th>\n",
              "      <th>ALUNOS_COM_DEFICIENCIA_COGNITIVA</th>\n",
              "      <th>ALUNOS_COM_DEFICIENCIA_MULTIPLA</th>\n",
              "    </tr>\n",
              "  </thead>\n",
              "  <tbody>\n",
              "    <tr>\n",
              "      <th>0</th>\n",
              "      <td>2020</td>\n",
              "      <td>26194</td>\n",
              "      <td>12457</td>\n",
              "      <td>21987</td>\n",
              "      <td>2985</td>\n",
              "      <td>1358</td>\n",
              "    </tr>\n",
              "    <tr>\n",
              "      <th>1</th>\n",
              "      <td>2021</td>\n",
              "      <td>28216</td>\n",
              "      <td>12966</td>\n",
              "      <td>23125</td>\n",
              "      <td>3077</td>\n",
              "      <td>1405</td>\n",
              "    </tr>\n",
              "    <tr>\n",
              "      <th>2</th>\n",
              "      <td>2022</td>\n",
              "      <td>30238</td>\n",
              "      <td>13475</td>\n",
              "      <td>24263</td>\n",
              "      <td>3169</td>\n",
              "      <td>1453</td>\n",
              "    </tr>\n",
              "    <tr>\n",
              "      <th>3</th>\n",
              "      <td>2023</td>\n",
              "      <td>32260</td>\n",
              "      <td>13983</td>\n",
              "      <td>25401</td>\n",
              "      <td>3260</td>\n",
              "      <td>1501</td>\n",
              "    </tr>\n",
              "    <tr>\n",
              "      <th>4</th>\n",
              "      <td>2024</td>\n",
              "      <td>34283</td>\n",
              "      <td>14492</td>\n",
              "      <td>26539</td>\n",
              "      <td>3352</td>\n",
              "      <td>1549</td>\n",
              "    </tr>\n",
              "    <tr>\n",
              "      <th>5</th>\n",
              "      <td>2025</td>\n",
              "      <td>36305</td>\n",
              "      <td>15001</td>\n",
              "      <td>27677</td>\n",
              "      <td>3443</td>\n",
              "      <td>1597</td>\n",
              "    </tr>\n",
              "    <tr>\n",
              "      <th>6</th>\n",
              "      <td>2026</td>\n",
              "      <td>38327</td>\n",
              "      <td>15510</td>\n",
              "      <td>28815</td>\n",
              "      <td>3535</td>\n",
              "      <td>1645</td>\n",
              "    </tr>\n",
              "    <tr>\n",
              "      <th>7</th>\n",
              "      <td>2027</td>\n",
              "      <td>40349</td>\n",
              "      <td>16018</td>\n",
              "      <td>29953</td>\n",
              "      <td>3627</td>\n",
              "      <td>1693</td>\n",
              "    </tr>\n",
              "    <tr>\n",
              "      <th>8</th>\n",
              "      <td>2028</td>\n",
              "      <td>42371</td>\n",
              "      <td>16527</td>\n",
              "      <td>31091</td>\n",
              "      <td>3718</td>\n",
              "      <td>1741</td>\n",
              "    </tr>\n",
              "    <tr>\n",
              "      <th>9</th>\n",
              "      <td>2029</td>\n",
              "      <td>44393</td>\n",
              "      <td>17036</td>\n",
              "      <td>32229</td>\n",
              "      <td>3810</td>\n",
              "      <td>1789</td>\n",
              "    </tr>\n",
              "    <tr>\n",
              "      <th>10</th>\n",
              "      <td>2030</td>\n",
              "      <td>46415</td>\n",
              "      <td>17545</td>\n",
              "      <td>33367</td>\n",
              "      <td>3902</td>\n",
              "      <td>1837</td>\n",
              "    </tr>\n",
              "  </tbody>\n",
              "</table>\n",
              "</div>"
            ],
            "text/plain": [
              "    NU_ANO  ...  ALUNOS_COM_DEFICIENCIA_MULTIPLA\n",
              "0     2020  ...                             1358\n",
              "1     2021  ...                             1405\n",
              "2     2022  ...                             1453\n",
              "3     2023  ...                             1501\n",
              "4     2024  ...                             1549\n",
              "5     2025  ...                             1597\n",
              "6     2026  ...                             1645\n",
              "7     2027  ...                             1693\n",
              "8     2028  ...                             1741\n",
              "9     2029  ...                             1789\n",
              "10    2030  ...                             1837\n",
              "\n",
              "[11 rows x 6 columns]"
            ]
          },
          "metadata": {},
          "execution_count": 52
        }
      ]
    },
    {
      "cell_type": "code",
      "metadata": {
        "id": "I2NpRRAqlNe3",
        "outputId": "9cd210b2-7fc2-4fa1-c566-e4231a3aa242",
        "colab": {
          "base_uri": "https://localhost:8080/",
          "height": 550
        }
      },
      "source": [
        "#Criando gráfico das previsões\n",
        "plt.figure(figsize=(7, 5))\n",
        "sns.set_theme(palette='crest')\n",
        "labels = 'Alunos com deficiência física', 'Alunos com deficiência auditiva', 'Alunos com deficiência visual', 'Alunos com deficiência cognitiva', 'Alunos com deficiência múltipla'\n",
        "#sns.lineplot(data=df_deficiencias_ano)\n",
        "sns.lineplot(df_deficiencias_ano[\"NU_ANO\"],df_deficiencias_ano[\"ALUNOS_COM_DEFICIENCIA_FISICA\"],label=\"Deficientes fisicos\", palette = 'crest')\n",
        "sns.lineplot(df_deficiencias_ano[\"NU_ANO\"],df_deficiencias_ano[\"ALUNOS_COM_DEFICIENCIA_AUDITIVA\"],label=\"Deficientes auditivos\", palette = 'crest')\n",
        "sns.lineplot(df_deficiencias_ano[\"NU_ANO\"],df_deficiencias_ano[\"ALUNOS_COM_DEFICIENCIA_VISUAL\"],label=\"Deficientes visuais\", palette = 'crest')\n",
        "sns.lineplot(df_deficiencias_ano[\"NU_ANO\"],df_deficiencias_ano[\"ALUNOS_COM_DEFICIENCIA_COGNITIVA\"],label=\"Deficientes cognitivos\", palette = 'crest')\n",
        "sns.lineplot(df_deficiencias_ano[\"NU_ANO\"],df_deficiencias_ano[\"ALUNOS_COM_DEFICIENCIA_MULTIPLA\"],label=\"Deficientes multiplos\", palette = 'crest')\n",
        "plt.title(\"PREVISÃO DE ALUNOS POR TIPO DE DEFICIÊNCIA\",fontsize=14)\n",
        "plt.xlabel(\"Ano\", fontsize=13), plt.ylabel(\"Alunos\", fontsize=13)\n",
        "plt.legend()\n",
        "plt.savefig('previsao_tipos.png', transparent = True)"
      ],
      "execution_count": 100,
      "outputs": [
        {
          "output_type": "stream",
          "name": "stderr",
          "text": [
            "/usr/local/lib/python3.7/dist-packages/seaborn/_decorators.py:43: FutureWarning: Pass the following variables as keyword args: x, y. From version 0.12, the only valid positional argument will be `data`, and passing other arguments without an explicit keyword will result in an error or misinterpretation.\n",
            "  FutureWarning\n",
            "/usr/local/lib/python3.7/dist-packages/seaborn/_decorators.py:43: FutureWarning: Pass the following variables as keyword args: x, y. From version 0.12, the only valid positional argument will be `data`, and passing other arguments without an explicit keyword will result in an error or misinterpretation.\n",
            "  FutureWarning\n",
            "/usr/local/lib/python3.7/dist-packages/seaborn/_decorators.py:43: FutureWarning: Pass the following variables as keyword args: x, y. From version 0.12, the only valid positional argument will be `data`, and passing other arguments without an explicit keyword will result in an error or misinterpretation.\n",
            "  FutureWarning\n",
            "/usr/local/lib/python3.7/dist-packages/seaborn/_decorators.py:43: FutureWarning: Pass the following variables as keyword args: x, y. From version 0.12, the only valid positional argument will be `data`, and passing other arguments without an explicit keyword will result in an error or misinterpretation.\n",
            "  FutureWarning\n",
            "/usr/local/lib/python3.7/dist-packages/seaborn/_decorators.py:43: FutureWarning: Pass the following variables as keyword args: x, y. From version 0.12, the only valid positional argument will be `data`, and passing other arguments without an explicit keyword will result in an error or misinterpretation.\n",
            "  FutureWarning\n"
          ]
        },
        {
          "output_type": "display_data",
          "data": {
            "image/png": "[encoded data removed]",
            "text/plain": [
              "<Figure size 504x360 with 1 Axes>"
            ]
          },
          "metadata": {}
        }
      ]
    },
    {
      "cell_type": "code",
      "metadata": {
        "id": "B2UBX1EqmT0y",
        "colab": {
          "base_uri": "https://localhost:8080/",
          "height": 548
        },
        "outputId": "02cf51ad-7413-4bd1-c039-74519a2be759"
      },
      "source": [
        "#Criando gráfico das previsões\n",
        "plt.figure(figsize=(7, 5))\n",
        "sns.lineplot(df_deficiencias_ano[\"NU_ANO\"],df_deficiencias_ano[\"ALUNOS_COM_DEFICIENCIA_FISICA\"],label=\"Deficientes fisicos\", palette = 'crest')\n",
        "sns.lineplot(df_deficiencias_ano[\"NU_ANO\"],df_deficiencias_ano[\"ALUNOS_COM_DEFICIENCIA_AUDITIVA\"],label=\"Deficientes auditivos\", palette = 'crest')\n",
        "sns.lineplot(df_deficiencias_ano[\"NU_ANO\"],df_deficiencias_ano[\"ALUNOS_COM_DEFICIENCIA_VISUAL\"],label=\"Deficientes visuais\", palette = 'crest')\n",
        "sns.lineplot(df_deficiencias_ano[\"NU_ANO\"],df_deficiencias_ano[\"ALUNOS_COM_DEFICIENCIA_COGNITIVA\"],label=\"Deficientes cognitivos\", palette = 'crest')\n",
        "sns.lineplot(df_deficiencias_ano[\"NU_ANO\"],df_deficiencias_ano[\"ALUNOS_COM_DEFICIENCIA_MULTIPLA\"],label=\"Deficientes multiplos\", palette = 'crest')\n",
        "plt.title(\"Previsão do crescimento de alunos por tipo de deficiência\",fontsize=14)\n",
        "plt.xlabel(\"Ano\", fontsize=13), plt.ylabel(\"Alunos\", fontsize=13)\n",
        "plt.legend()\n",
        "plt.savefig('previsao_tipos.png', transparent = True)"
      ],
      "execution_count": 85,
      "outputs": [
        {
          "output_type": "stream",
          "name": "stderr",
          "text": [
            "/usr/local/lib/python3.7/dist-packages/seaborn/_decorators.py:43: FutureWarning: Pass the following variables as keyword args: x, y. From version 0.12, the only valid positional argument will be `data`, and passing other arguments without an explicit keyword will result in an error or misinterpretation.\n",
            "  FutureWarning\n",
            "/usr/local/lib/python3.7/dist-packages/seaborn/_decorators.py:43: FutureWarning: Pass the following variables as keyword args: x, y. From version 0.12, the only valid positional argument will be `data`, and passing other arguments without an explicit keyword will result in an error or misinterpretation.\n",
            "  FutureWarning\n",
            "/usr/local/lib/python3.7/dist-packages/seaborn/_decorators.py:43: FutureWarning: Pass the following variables as keyword args: x, y. From version 0.12, the only valid positional argument will be `data`, and passing other arguments without an explicit keyword will result in an error or misinterpretation.\n",
            "  FutureWarning\n",
            "/usr/local/lib/python3.7/dist-packages/seaborn/_decorators.py:43: FutureWarning: Pass the following variables as keyword args: x, y. From version 0.12, the only valid positional argument will be `data`, and passing other arguments without an explicit keyword will result in an error or misinterpretation.\n",
            "  FutureWarning\n",
            "/usr/local/lib/python3.7/dist-packages/seaborn/_decorators.py:43: FutureWarning: Pass the following variables as keyword args: x, y. From version 0.12, the only valid positional argument will be `data`, and passing other arguments without an explicit keyword will result in an error or misinterpretation.\n",
            "  FutureWarning\n"
          ]
        },
        {
          "output_type": "display_data",
          "data": {
            "image/png": "[encoded data removed]",
            "text/plain": [
              "<Figure size 504x360 with 1 Axes>"
            ]
          },
          "metadata": {
            "needs_background": "light"
          }
        }
      ]
    },
    {
      "cell_type": "code",
      "metadata": {
        "id": "G9w8AtUIkUUq"
      },
      "source": [
        "def alunos_totais(ano, fisica, auditiva, visual, cognitiva, multipla):\n",
        "  global coef_ano, coef_def_fisica, coef_def_auditiva, coef_def_visual, coef_def_cognitiva, coef_def_multipla\n",
        "  return int(intercept+coef_ano*ano+coef_def_fisica*fisica+coef_def_auditiva*auditiva+coef_def_visual*visual+coef_def_cognitiva*cognitiva+coef_def_multipla*multipla)"
      ],
      "execution_count": 54,
      "outputs": []
    },
    {
      "cell_type": "code",
      "metadata": {
        "id": "N-9-6EQByC_y",
        "colab": {
          "base_uri": "https://localhost:8080/",
          "height": 394
        },
        "outputId": "08dc65ed-98db-4a08-901d-43b2239391c7"
      },
      "source": [
        "b = []\n",
        "for i in range(11):\n",
        "  b.append([df_deficiencias_ano['NU_ANO'].iloc[i], alunos_totais(df_deficiencias_ano['NU_ANO'].iloc[i], df_deficiencias_ano['ALUNOS_COM_DEFICIENCIA_FISICA'].iloc[i], df_deficiencias_ano['ALUNOS_COM_DEFICIENCIA_AUDITIVA'].iloc[i], df_deficiencias_ano['ALUNOS_COM_DEFICIENCIA_VISUAL'].iloc[i], df_deficiencias_ano['ALUNOS_COM_DEFICIENCIA_COGNITIVA'].iloc[i], df_deficiencias_ano['ALUNOS_COM_DEFICIENCIA_MULTIPLA'].iloc[i])])\n",
        "df_previsoes = pd.DataFrame(data=b, columns=['NU_ANO', 'ALUNOS_TOTAL'])\n",
        "df_previsoes"
      ],
      "execution_count": 55,
      "outputs": [
        {
          "output_type": "execute_result",
          "data": {
            "text/html": [
              "<div>\n",
              "<style scoped>\n",
              "    .dataframe tbody tr th:only-of-type {\n",
              "        vertical-align: middle;\n",
              "    }\n",
              "\n",
              "    .dataframe tbody tr th {\n",
              "        vertical-align: top;\n",
              "    }\n",
              "\n",
              "    .dataframe thead th {\n",
              "        text-align: right;\n",
              "    }\n",
              "</style>\n",
              "<table border=\"1\" class=\"dataframe\">\n",
              "  <thead>\n",
              "    <tr style=\"text-align: right;\">\n",
              "      <th></th>\n",
              "      <th>NU_ANO</th>\n",
              "      <th>ALUNOS_TOTAL</th>\n",
              "    </tr>\n",
              "  </thead>\n",
              "  <tbody>\n",
              "    <tr>\n",
              "      <th>0</th>\n",
              "      <td>2020</td>\n",
              "      <td>67519</td>\n",
              "    </tr>\n",
              "    <tr>\n",
              "      <th>1</th>\n",
              "      <td>2021</td>\n",
              "      <td>71642</td>\n",
              "    </tr>\n",
              "    <tr>\n",
              "      <th>2</th>\n",
              "      <td>2022</td>\n",
              "      <td>75769</td>\n",
              "    </tr>\n",
              "    <tr>\n",
              "      <th>3</th>\n",
              "      <td>2023</td>\n",
              "      <td>79892</td>\n",
              "    </tr>\n",
              "    <tr>\n",
              "      <th>4</th>\n",
              "      <td>2024</td>\n",
              "      <td>84019</td>\n",
              "    </tr>\n",
              "    <tr>\n",
              "      <th>5</th>\n",
              "      <td>2025</td>\n",
              "      <td>88143</td>\n",
              "    </tr>\n",
              "    <tr>\n",
              "      <th>6</th>\n",
              "      <td>2026</td>\n",
              "      <td>92269</td>\n",
              "    </tr>\n",
              "    <tr>\n",
              "      <th>7</th>\n",
              "      <td>2027</td>\n",
              "      <td>96395</td>\n",
              "    </tr>\n",
              "    <tr>\n",
              "      <th>8</th>\n",
              "      <td>2028</td>\n",
              "      <td>100519</td>\n",
              "    </tr>\n",
              "    <tr>\n",
              "      <th>9</th>\n",
              "      <td>2029</td>\n",
              "      <td>104645</td>\n",
              "    </tr>\n",
              "    <tr>\n",
              "      <th>10</th>\n",
              "      <td>2030</td>\n",
              "      <td>108771</td>\n",
              "    </tr>\n",
              "  </tbody>\n",
              "</table>\n",
              "</div>"
            ],
            "text/plain": [
              "    NU_ANO  ALUNOS_TOTAL\n",
              "0     2020         67519\n",
              "1     2021         71642\n",
              "2     2022         75769\n",
              "3     2023         79892\n",
              "4     2024         84019\n",
              "5     2025         88143\n",
              "6     2026         92269\n",
              "7     2027         96395\n",
              "8     2028        100519\n",
              "9     2029        104645\n",
              "10    2030        108771"
            ]
          },
          "metadata": {},
          "execution_count": 55
        }
      ]
    },
    {
      "cell_type": "code",
      "metadata": {
        "id": "nYMxRxPW54Gg",
        "colab": {
          "base_uri": "https://localhost:8080/",
          "height": 143
        },
        "outputId": "60a11a30-c9eb-4921-a43f-abfa8ecab6bd"
      },
      "source": [
        "#Testando a precisão do nosso algoritmo\n",
        "c = []\n",
        "for i in range(2017, 2020):\n",
        "  c.append([i, predição(i, coef_angular_fisica, coef_linear_fisica), predição(i, coef_angular_auditiva, coef_linear_auditiva), predição(i, coef_angular_visual, coef_linear_visual), predição(i, coef_angular_cognitiva, coef_linear_cognitiva), predição(i, coef_angular_multipla, coef_linear_multipla)])\n",
        "df_teste_a = pd.DataFrame(data=c, columns=['NU_ANO', 'ALUNOS_COM_DEFICIENCIA_FISICA', 'ALUNOS_COM_DEFICIENCIA_AUDITIVA', 'ALUNOS_COM_DEFICIENCIA_VISUAL', 'ALUNOS_COM_DEFICIENCIA_COGNITIVA', 'ALUNOS_COM_DEFICIENCIA_MULTIPLA'])\n",
        "d = []\n",
        "for i in range(3):\n",
        "  d.append([df_teste_a['NU_ANO'].iloc[i], alunos_totais(df_teste_a['NU_ANO'].iloc[i], df_teste_a['ALUNOS_COM_DEFICIENCIA_FISICA'].iloc[i], df_teste_a['ALUNOS_COM_DEFICIENCIA_AUDITIVA'].iloc[i], df_teste_a['ALUNOS_COM_DEFICIENCIA_VISUAL'].iloc[i], df_teste_a['ALUNOS_COM_DEFICIENCIA_COGNITIVA'].iloc[i], df_teste_a['ALUNOS_COM_DEFICIENCIA_MULTIPLA'].iloc[i])])\n",
        "df_previsoes_teste = pd.DataFrame(data=d, columns=['NU_ANO', 'ALUNOS_TOTAL'])\n",
        "df_previsoes_teste"
      ],
      "execution_count": 56,
      "outputs": [
        {
          "output_type": "execute_result",
          "data": {
            "text/html": [
              "<div>\n",
              "<style scoped>\n",
              "    .dataframe tbody tr th:only-of-type {\n",
              "        vertical-align: middle;\n",
              "    }\n",
              "\n",
              "    .dataframe tbody tr th {\n",
              "        vertical-align: top;\n",
              "    }\n",
              "\n",
              "    .dataframe thead th {\n",
              "        text-align: right;\n",
              "    }\n",
              "</style>\n",
              "<table border=\"1\" class=\"dataframe\">\n",
              "  <thead>\n",
              "    <tr style=\"text-align: right;\">\n",
              "      <th></th>\n",
              "      <th>NU_ANO</th>\n",
              "      <th>ALUNOS_TOTAL</th>\n",
              "    </tr>\n",
              "  </thead>\n",
              "  <tbody>\n",
              "    <tr>\n",
              "      <th>0</th>\n",
              "      <td>2017</td>\n",
              "      <td>55140</td>\n",
              "    </tr>\n",
              "    <tr>\n",
              "      <th>1</th>\n",
              "      <td>2018</td>\n",
              "      <td>59266</td>\n",
              "    </tr>\n",
              "    <tr>\n",
              "      <th>2</th>\n",
              "      <td>2019</td>\n",
              "      <td>63395</td>\n",
              "    </tr>\n",
              "  </tbody>\n",
              "</table>\n",
              "</div>"
            ],
            "text/plain": [
              "   NU_ANO  ALUNOS_TOTAL\n",
              "0    2017         55140\n",
              "1    2018         59266\n",
              "2    2019         63395"
            ]
          },
          "metadata": {},
          "execution_count": 56
        }
      ]
    }
  ]
}