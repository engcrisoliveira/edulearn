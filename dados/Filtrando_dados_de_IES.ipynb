{
  "nbformat": 4,
  "nbformat_minor": 0,
  "metadata": {
    "colab": {
      "name": "Filtrando dados de IES.ipynb",
      "provenance": [],
      "authorship_tag": "ABX9TyO8upbLGdi7zxsBlOlBLbdo",
      "include_colab_link": true
    },
    "kernelspec": {
      "name": "python3",
      "display_name": "Python 3"
    },
    "language_info": {
      "name": "python"
    }
  },
  "cells": [
    {
      "cell_type": "markdown",
      "metadata": {
        "id": "view-in-github",
        "colab_type": "text"
      },
      "source": [
        "<a href=\"https://colab.research.google.com/github/roxacarv/edulearn/blob/main/dados/Filtrando_dados_de_IES.ipynb\" target=\"_parent\"><img src=\"https://colab.research.google.com/assets/colab-badge.svg\" alt=\"Open In Colab\"/></a>"
      ]
    },
    {
      "cell_type": "markdown",
      "metadata": {
        "id": "MW48Pj5A-cio"
      },
      "source": [
        "# Mesclando categorias administrativas"
      ]
    },
    {
      "cell_type": "code",
      "metadata": {
        "id": "3HQC_tB65cLL"
      },
      "source": [
        "import numpy as np\n",
        "import pandas as pd\n",
        "\n",
        "df = pd.read_csv(\"dados_ies_sem_nan_sem_privadas_especial_utf8.csv\", index_col=0, encoding=\"latin-1\")\n",
        "\n",
        "for c in range(len(df[\"TIPO_CATEGORIA_ADM\"])):\n",
        "  if df.iat[c, 2] == \"PÃºblica Municipal\":\n",
        "    df.iat[c, 2] = \"PÃºblica Estadual\"\n",
        "\n",
        "for c in range(len(df[\"TIPO_CATEGORIA_ADM\"])):\n",
        "  if df.iat[c, 2] == \"PÃºblica Estadual\":\n",
        "    df.iat[c, 2] = \"Sub-Nacional\"\n",
        "  if df.iat[c, 2] == \"PÃºblica Federal\":\n",
        "    df.iat[c, 2] = \"Nacional\"\n",
        "\n",
        "df.to_csv(\"dados_ies_novas_categorias_utf8.csv\", encoding=\"utf8\")"
      ],
      "execution_count": 45,
      "outputs": []
    },
    {
      "cell_type": "markdown",
      "metadata": {
        "id": "q657S80I-WPM"
      },
      "source": [
        "# Gerando categorias por quantidade de recursos"
      ]
    },
    {
      "cell_type": "code",
      "metadata": {
        "id": "QZEPgk5C-bja"
      },
      "source": [
        "df = pd.read_csv(\"dados_ies_sem_nan_sem_privadas_especial_utf8.csv\", index_col=0, encoding=\"latin-1\")"
      ],
      "execution_count": null,
      "outputs": []
    },
    {
      "cell_type": "code",
      "metadata": {
        "colab": {
          "base_uri": "https://localhost:8080/"
        },
        "id": "V7QnHl3z-tin",
        "outputId": "0c0c7f1c-34ee-46f0-8f02-b8d9f94cd951"
      },
      "source": [
        "# Procurando quantidades de recursos por IES\n",
        "print(\"Qtd máxima: \")\n",
        "print(df[\"RECURSOS_DEF_FISICA\"].max())\n",
        "print(df[\"RECURSOS_DEF_VISUAL\"].max())\n",
        "print(df[\"RECURSOS_DEF_AUDITIVA\"].max())\n",
        "print(df[\"RECURSOS_DEF_MULTIPLA\"].max())\n",
        "print(df[\"RECURSOS_DEF_COGNITIVA\"].max())\n",
        "print(\"\\nQtd mínima: \")\n",
        "print(df[\"RECURSOS_DEF_FISICA\"].min())\n",
        "print(df[\"RECURSOS_DEF_VISUAL\"].min())\n",
        "print(df[\"RECURSOS_DEF_AUDITIVA\"].min())\n",
        "print(df[\"RECURSOS_DEF_MULTIPLA\"].min())\n",
        "print(df[\"RECURSOS_DEF_COGNITIVA\"].min())"
      ],
      "execution_count": 49,
      "outputs": [
        {
          "output_type": "stream",
          "name": "stdout",
          "text": [
            "Qtd máxima: \n",
            "6.0\n",
            "9.0\n",
            "8.0\n",
            "4.0\n",
            "4.0\n",
            "\n",
            "Qtd mínima: \n",
            "0.0\n",
            "0.0\n",
            "0.0\n",
            "0.0\n",
            "0.0\n"
          ]
        }
      ]
    }
  ]
}