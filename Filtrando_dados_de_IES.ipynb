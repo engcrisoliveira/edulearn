{
  "nbformat": 4,
  "nbformat_minor": 0,
  "metadata": {
    "colab": {
      "name": "Filtrando dados de IES.ipynb",
      "provenance": [],
      "authorship_tag": "ABX9TyM2qOQlJxy5Q8rU2RBFyWPl",
      "include_colab_link": true
    },
    "kernelspec": {
      "name": "python3",
      "display_name": "Python 3"
    },
    "language_info": {
      "name": "python"
    }
  },
  "cells": [
    {
      "cell_type": "markdown",
      "metadata": {
        "id": "view-in-github",
        "colab_type": "text"
      },
      "source": [
        "<a href=\"https://colab.research.google.com/github/roxacarv/edulearn/blob/main/Filtrando_dados_de_IES.ipynb\" target=\"_parent\"><img src=\"https://colab.research.google.com/assets/colab-badge.svg\" alt=\"Open In Colab\"/></a>"
      ]
    },
    {
      "cell_type": "code",
      "metadata": {
        "id": "3HQC_tB65cLL"
      },
      "source": [
        "import numpy as np\n",
        "import pandas as pd\n",
        "\n",
        "df = pd.read_csv(\"dados_ies_sem_nan_sem_privadas_especial_utf8.csv\", index_col=0, encoding=\"latin-1\")\n",
        "\n",
        "for c in range(len(df[\"TIPO_CATEGORIA_ADM\"])):\n",
        "  if df.iat[c, 2] == \"PÃºblica Municipal\":\n",
        "    df.iat[c, 2] = \"PÃºblica Estadual\"\n",
        "\n",
        "for c in range(len(df[\"TIPO_CATEGORIA_ADM\"])):\n",
        "  if df.iat[c, 2] == \"PÃºblica Estadual\":\n",
        "    df.iat[c, 2] = \"Sub-Nacional\"\n",
        "  if df.iat[c, 2] == \"PÃºblica Federal\":\n",
        "    df.iat[c, 2] = \"Nacional\"\n",
        "\n",
        "df.to_csv(\"dados_ies_novas_categorias_utf8.csv\", encoding=\"utf8\")"
      ],
      "execution_count": 45,
      "outputs": []
    }
  ]
}